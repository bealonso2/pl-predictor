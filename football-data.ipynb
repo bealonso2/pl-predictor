{
 "cells": [
  {
   "cell_type": "code",
   "execution_count": 1,
   "metadata": {},
   "outputs": [],
   "source": [
    "from simulation_utils import build_data_by_year\n",
    "\n",
    "# Get data for 2022-2023 season\n",
    "df = build_data_by_year(2022)\n",
    "\n",
    "# Get data for the 2023-2024 season\n",
    "df_2023 = build_data_by_year(2023)"
   ]
  },
  {
   "cell_type": "markdown",
   "metadata": {},
   "source": [
    "## Setting up Training Data"
   ]
  },
  {
   "cell_type": "markdown",
   "metadata": {},
   "source": [
    "### Analyze Elo vs Outcome for Real Results"
   ]
  },
  {
   "cell_type": "code",
   "execution_count": 2,
   "metadata": {},
   "outputs": [
    {
     "name": "stdout",
     "output_type": "stream",
     "text": [
      "Best parameters: {'club_value_adjustment_factor': 300, 'decay_half_life': 19, 'decay_method': <DecayMethod.BASE_RATING: 2>, 'k': 40}\n",
      "Best correlation: 0.6259379489239572\n"
     ]
    },
    {
     "data": {
      "text/html": [
       "<div>\n",
       "<style scoped>\n",
       "    .dataframe tbody tr th:only-of-type {\n",
       "        vertical-align: middle;\n",
       "    }\n",
       "\n",
       "    .dataframe tbody tr th {\n",
       "        vertical-align: top;\n",
       "    }\n",
       "\n",
       "    .dataframe thead th {\n",
       "        text-align: right;\n",
       "    }\n",
       "</style>\n",
       "<table border=\"1\" class=\"dataframe\">\n",
       "  <thead>\n",
       "    <tr style=\"text-align: right;\">\n",
       "      <th></th>\n",
       "      <th>Home Outcome</th>\n",
       "      <th>Home Elo</th>\n",
       "      <th>Away Outcome</th>\n",
       "      <th>Away Elo</th>\n",
       "      <th>Total Outcome</th>\n",
       "      <th>Total Elo</th>\n",
       "    </tr>\n",
       "    <tr>\n",
       "      <th>Team</th>\n",
       "      <th></th>\n",
       "      <th></th>\n",
       "      <th></th>\n",
       "      <th></th>\n",
       "      <th></th>\n",
       "      <th></th>\n",
       "    </tr>\n",
       "  </thead>\n",
       "  <tbody>\n",
       "    <tr>\n",
       "      <th>Manchester City FC</th>\n",
       "      <td>52</td>\n",
       "      <td>1696.353395</td>\n",
       "      <td>37</td>\n",
       "      <td>1649.704207</td>\n",
       "      <td>89</td>\n",
       "      <td>3346.057602</td>\n",
       "    </tr>\n",
       "    <tr>\n",
       "      <th>Arsenal FC</th>\n",
       "      <td>45</td>\n",
       "      <td>1587.103779</td>\n",
       "      <td>39</td>\n",
       "      <td>1574.604442</td>\n",
       "      <td>84</td>\n",
       "      <td>3161.708222</td>\n",
       "    </tr>\n",
       "    <tr>\n",
       "      <th>Manchester United FC</th>\n",
       "      <td>48</td>\n",
       "      <td>1608.169328</td>\n",
       "      <td>27</td>\n",
       "      <td>1587.107284</td>\n",
       "      <td>75</td>\n",
       "      <td>3195.276612</td>\n",
       "    </tr>\n",
       "    <tr>\n",
       "      <th>Newcastle United FC</th>\n",
       "      <td>39</td>\n",
       "      <td>1592.334070</td>\n",
       "      <td>32</td>\n",
       "      <td>1581.766867</td>\n",
       "      <td>71</td>\n",
       "      <td>3174.100937</td>\n",
       "    </tr>\n",
       "    <tr>\n",
       "      <th>Liverpool FC</th>\n",
       "      <td>44</td>\n",
       "      <td>1622.549865</td>\n",
       "      <td>23</td>\n",
       "      <td>1606.652121</td>\n",
       "      <td>67</td>\n",
       "      <td>3229.201987</td>\n",
       "    </tr>\n",
       "    <tr>\n",
       "      <th>Brighton &amp; Hove Albion FC</th>\n",
       "      <td>34</td>\n",
       "      <td>1563.581317</td>\n",
       "      <td>28</td>\n",
       "      <td>1542.763820</td>\n",
       "      <td>62</td>\n",
       "      <td>3106.345137</td>\n",
       "    </tr>\n",
       "    <tr>\n",
       "      <th>Aston Villa FC</th>\n",
       "      <td>38</td>\n",
       "      <td>1592.770181</td>\n",
       "      <td>23</td>\n",
       "      <td>1576.988455</td>\n",
       "      <td>61</td>\n",
       "      <td>3169.758635</td>\n",
       "    </tr>\n",
       "    <tr>\n",
       "      <th>Tottenham Hotspur FC</th>\n",
       "      <td>37</td>\n",
       "      <td>1497.706569</td>\n",
       "      <td>23</td>\n",
       "      <td>1513.049616</td>\n",
       "      <td>60</td>\n",
       "      <td>3010.756184</td>\n",
       "    </tr>\n",
       "    <tr>\n",
       "      <th>Brentford FC</th>\n",
       "      <td>37</td>\n",
       "      <td>1583.204047</td>\n",
       "      <td>22</td>\n",
       "      <td>1559.521209</td>\n",
       "      <td>59</td>\n",
       "      <td>3142.725257</td>\n",
       "    </tr>\n",
       "    <tr>\n",
       "      <th>Fulham FC</th>\n",
       "      <td>29</td>\n",
       "      <td>1514.725204</td>\n",
       "      <td>23</td>\n",
       "      <td>1499.388132</td>\n",
       "      <td>52</td>\n",
       "      <td>3014.113335</td>\n",
       "    </tr>\n",
       "    <tr>\n",
       "      <th>Crystal Palace FC</th>\n",
       "      <td>28</td>\n",
       "      <td>1511.262203</td>\n",
       "      <td>17</td>\n",
       "      <td>1513.003542</td>\n",
       "      <td>45</td>\n",
       "      <td>3024.265745</td>\n",
       "    </tr>\n",
       "    <tr>\n",
       "      <th>Chelsea FC</th>\n",
       "      <td>25</td>\n",
       "      <td>1463.654913</td>\n",
       "      <td>19</td>\n",
       "      <td>1454.775359</td>\n",
       "      <td>44</td>\n",
       "      <td>2918.430273</td>\n",
       "    </tr>\n",
       "    <tr>\n",
       "      <th>Wolverhampton Wanderers FC</th>\n",
       "      <td>30</td>\n",
       "      <td>1499.371433</td>\n",
       "      <td>11</td>\n",
       "      <td>1484.221984</td>\n",
       "      <td>41</td>\n",
       "      <td>2983.593417</td>\n",
       "    </tr>\n",
       "    <tr>\n",
       "      <th>West Ham United FC</th>\n",
       "      <td>28</td>\n",
       "      <td>1508.195655</td>\n",
       "      <td>12</td>\n",
       "      <td>1484.790164</td>\n",
       "      <td>40</td>\n",
       "      <td>2992.985819</td>\n",
       "    </tr>\n",
       "    <tr>\n",
       "      <th>AFC Bournemouth</th>\n",
       "      <td>22</td>\n",
       "      <td>1471.012811</td>\n",
       "      <td>17</td>\n",
       "      <td>1452.969866</td>\n",
       "      <td>39</td>\n",
       "      <td>2923.982676</td>\n",
       "    </tr>\n",
       "    <tr>\n",
       "      <th>Nottingham Forest FC</th>\n",
       "      <td>30</td>\n",
       "      <td>1489.988957</td>\n",
       "      <td>8</td>\n",
       "      <td>1491.623093</td>\n",
       "      <td>38</td>\n",
       "      <td>2981.612050</td>\n",
       "    </tr>\n",
       "    <tr>\n",
       "      <th>Everton FC</th>\n",
       "      <td>21</td>\n",
       "      <td>1494.644252</td>\n",
       "      <td>15</td>\n",
       "      <td>1474.654908</td>\n",
       "      <td>36</td>\n",
       "      <td>2969.299160</td>\n",
       "    </tr>\n",
       "    <tr>\n",
       "      <th>Leicester City FC</th>\n",
       "      <td>19</td>\n",
       "      <td>1463.613319</td>\n",
       "      <td>15</td>\n",
       "      <td>1438.290756</td>\n",
       "      <td>34</td>\n",
       "      <td>2901.904075</td>\n",
       "    </tr>\n",
       "    <tr>\n",
       "      <th>Leeds United FC</th>\n",
       "      <td>22</td>\n",
       "      <td>1411.606598</td>\n",
       "      <td>9</td>\n",
       "      <td>1424.150243</td>\n",
       "      <td>31</td>\n",
       "      <td>2835.756840</td>\n",
       "    </tr>\n",
       "    <tr>\n",
       "      <th>Southampton FC</th>\n",
       "      <td>11</td>\n",
       "      <td>1399.164330</td>\n",
       "      <td>14</td>\n",
       "      <td>1383.482697</td>\n",
       "      <td>25</td>\n",
       "      <td>2782.647028</td>\n",
       "    </tr>\n",
       "  </tbody>\n",
       "</table>\n",
       "</div>"
      ],
      "text/plain": [
       "                            Home Outcome     Home Elo  Away Outcome  \\\n",
       "Team                                                                  \n",
       "Manchester City FC                    52  1696.353395            37   \n",
       "Arsenal FC                            45  1587.103779            39   \n",
       "Manchester United FC                  48  1608.169328            27   \n",
       "Newcastle United FC                   39  1592.334070            32   \n",
       "Liverpool FC                          44  1622.549865            23   \n",
       "Brighton & Hove Albion FC             34  1563.581317            28   \n",
       "Aston Villa FC                        38  1592.770181            23   \n",
       "Tottenham Hotspur FC                  37  1497.706569            23   \n",
       "Brentford FC                          37  1583.204047            22   \n",
       "Fulham FC                             29  1514.725204            23   \n",
       "Crystal Palace FC                     28  1511.262203            17   \n",
       "Chelsea FC                            25  1463.654913            19   \n",
       "Wolverhampton Wanderers FC            30  1499.371433            11   \n",
       "West Ham United FC                    28  1508.195655            12   \n",
       "AFC Bournemouth                       22  1471.012811            17   \n",
       "Nottingham Forest FC                  30  1489.988957             8   \n",
       "Everton FC                            21  1494.644252            15   \n",
       "Leicester City FC                     19  1463.613319            15   \n",
       "Leeds United FC                       22  1411.606598             9   \n",
       "Southampton FC                        11  1399.164330            14   \n",
       "\n",
       "                               Away Elo  Total Outcome    Total Elo  \n",
       "Team                                                                 \n",
       "Manchester City FC          1649.704207             89  3346.057602  \n",
       "Arsenal FC                  1574.604442             84  3161.708222  \n",
       "Manchester United FC        1587.107284             75  3195.276612  \n",
       "Newcastle United FC         1581.766867             71  3174.100937  \n",
       "Liverpool FC                1606.652121             67  3229.201987  \n",
       "Brighton & Hove Albion FC   1542.763820             62  3106.345137  \n",
       "Aston Villa FC              1576.988455             61  3169.758635  \n",
       "Tottenham Hotspur FC        1513.049616             60  3010.756184  \n",
       "Brentford FC                1559.521209             59  3142.725257  \n",
       "Fulham FC                   1499.388132             52  3014.113335  \n",
       "Crystal Palace FC           1513.003542             45  3024.265745  \n",
       "Chelsea FC                  1454.775359             44  2918.430273  \n",
       "Wolverhampton Wanderers FC  1484.221984             41  2983.593417  \n",
       "West Ham United FC          1484.790164             40  2992.985819  \n",
       "AFC Bournemouth             1452.969866             39  2923.982676  \n",
       "Nottingham Forest FC        1491.623093             38  2981.612050  \n",
       "Everton FC                  1474.654908             36  2969.299160  \n",
       "Leicester City FC           1438.290756             34  2901.904075  \n",
       "Leeds United FC             1424.150243             31  2835.756840  \n",
       "Southampton FC              1383.482697             25  2782.647028  "
      ]
     },
     "execution_count": 2,
     "metadata": {},
     "output_type": "execute_result"
    }
   ],
   "source": [
    "import pandas as pd\n",
    "from scipy.stats import pearsonr\n",
    "from sklearn.model_selection import ParameterGrid\n",
    "\n",
    "from simulation_utils import DecayMethod, build_elo_between_seasons, get_elo_dict_from_df, process_fixture_results\n",
    "\n",
    "# Define the parameter grid\n",
    "param_grid = {\n",
    "    'k': [40],\n",
    "    'decay_half_life': [19],\n",
    "    'club_value_adjustment_factor': [300],\n",
    "    'decay_method': [DecayMethod.BASE_RATING],\n",
    "}\n",
    "\n",
    "# Initialize best parameters and best correlation\n",
    "best_params = None\n",
    "best_correlation = -1\n",
    "\n",
    "# Iterate over all combinations of parameters\n",
    "for params in ParameterGrid(param_grid):\n",
    "    k = params['k']\n",
    "    decay_half_life = params['decay_half_life']\n",
    "    club_value_adjustment_factor = params['club_value_adjustment_factor']\n",
    "    decay_method = params['decay_method']\n",
    "    \n",
    "    # Process the fixture results for the 2022-2023 season and the 2023-2024 season\n",
    "    df, results = process_fixture_results(df, k, decay_half_life, club_value_adjustment_factor, decay_method, None)\n",
    "\n",
    "    # Get adjusted Elo dict\n",
    "    adjusted_elo = get_elo_dict_from_df(build_elo_between_seasons(df, df_2023, club_value_adjustment_factor))\n",
    "\n",
    "    df_2023, results_2023 = process_fixture_results(df_2023, k, decay_half_life, club_value_adjustment_factor, decay_method, adjusted_elo)\n",
    "\n",
    "    # Calculate Elo vs Outcome correlation\n",
    "    data_2022 = df[[\"Home Elo\", \"Away Elo\", \"Home Outcome\"]].copy()\n",
    "    data_2022[\"Season\"] = \"2022-2023\"\n",
    "    data_2023 = df_2023[[\"Home Elo\", \"Away Elo\", \"Home Outcome\"]].copy()\n",
    "    data_2023[\"Season\"] = \"2023-2024\"\n",
    "    data_2022_2024 = pd.concat([data_2022, data_2023])\n",
    "\n",
    "    data_2022_2024[\"Elo Difference\"] = data_2022_2024[\"Home Elo\"] - data_2022_2024[\"Away Elo\"]\n",
    "\n",
    "    # Convert 'Home Outcome' to categorical type with specified categories\n",
    "    data_2022_2024['Home Outcome'] = pd.Categorical(data_2022_2024['Home Outcome'], categories=[3, 1, 0], ordered=True)\n",
    "\n",
    "    # Calculate correlation\n",
    "    correlation, p_value = pearsonr(data_2022_2024[\"Elo Difference\"], data_2022_2024[\"Home Outcome\"])\n",
    "    \n",
    "    # If the correlation is better than the best found so far, update best correlation and best parameters\n",
    "    if correlation > best_correlation:\n",
    "        best_correlation = correlation\n",
    "        best_params = params\n",
    "\n",
    "print(\"Best parameters:\", best_params)\n",
    "print(\"Best correlation:\", best_correlation)\n",
    "\n",
    "# Calculate everything again with the best parameters\n",
    "k = best_params['k']\n",
    "decay_half_life = best_params['decay_half_life']\n",
    "club_value_adjustment_factor = best_params['club_value_adjustment_factor']\n",
    "decay_method = best_params['decay_method']\n",
    "\n",
    "# Process the fixture results for the 2022-2023 season and the 2023-2024 season\n",
    "df, results = process_fixture_results(df, k, decay_half_life, club_value_adjustment_factor, decay_method, None)\n",
    "\n",
    "# Get adjusted Elo dict\n",
    "adjusted_elo = get_elo_dict_from_df(build_elo_between_seasons(df, df_2023, club_value_adjustment_factor))\n",
    "\n",
    "df_2023, results_2023 = process_fixture_results(df_2023, k, decay_half_life, club_value_adjustment_factor, decay_method, adjusted_elo)\n",
    "\n",
    "# Calculate Elo vs Outcome correlation\n",
    "correlation_df_columns = [\"Home Elo\", \"Away Elo\", \"Home Outcome\", \"Home\", \"Away\", \"Home Score\", \"Away Score\", \"Utc Date\"]\n",
    "data_2022 = df[correlation_df_columns].copy()\n",
    "data_2022[\"Season\"] = \"2022-2023\"\n",
    "data_2023 = df_2023[correlation_df_columns].copy()\n",
    "data_2023[\"Season\"] = \"2023-2024\"\n",
    "data_2022_2024 = pd.concat([data_2022, data_2023])\n",
    "\n",
    "data_2022_2024[\"Match Info\"] = data_2022_2024[\"Home\"] + \" (\" + data_2022_2024[\"Home Score\"].astype(str) + \") - \" + data_2022_2024[\"Away\"] + \" (\" + data_2022_2024[\"Away Score\"].astype(str) + \") on \" + data_2022_2024[\"Utc Date\"].astype(str)\n",
    "\n",
    "data_2022_2024[\"Elo Difference\"] = data_2022_2024[\"Home Elo\"] - data_2022_2024[\"Away Elo\"]\n",
    "\n",
    "# Convert 'Home Outcome' to categorical type with specified categories\n",
    "data_2022_2024['Home Outcome'] = pd.Categorical(data_2022_2024['Home Outcome'], categories=[3, 1, 0], ordered=True)\n",
    "\n",
    "# Calculate correlation\n",
    "correlation, p_value = pearsonr(data_2022_2024[\"Elo Difference\"], data_2022_2024[\"Home Outcome\"])\n",
    "\n",
    "# Convert 'Home Outcome' to string type\n",
    "data_2022_2024['Home Outcome'] = data_2022_2024['Home Outcome'].astype(str)\n",
    "\n",
    "results"
   ]
  },
  {
   "cell_type": "markdown",
   "metadata": {},
   "source": [
    "#### Plotting Elo vs Outcome"
   ]
  },
  {
   "cell_type": "code",
   "execution_count": 3,
   "metadata": {},
   "outputs": [
    {
     "data": {
      "application/vnd.plotly.v1+json": {
       "config": {
        "plotlyServerURL": "https://plot.ly"
       },
       "data": [
        {
         "customdata": [
          [
           "Crystal Palace FC (0) - Arsenal FC (2) on 2022-08-05 19:00:00+00:00"
          ],
          [
           "Fulham FC (2) - Liverpool FC (2) on 2022-08-06 11:30:00+00:00"
          ],
          [
           "Tottenham Hotspur FC (4) - Southampton FC (1) on 2022-08-06 14:00:00+00:00"
          ],
          [
           "Newcastle United FC (2) - Nottingham Forest FC (0) on 2022-08-06 14:00:00+00:00"
          ],
          [
           "Leeds United FC (2) - Wolverhampton Wanderers FC (1) on 2022-08-06 14:00:00+00:00"
          ],
          [
           "AFC Bournemouth (2) - Aston Villa FC (0) on 2022-08-06 14:00:00+00:00"
          ],
          [
           "Everton FC (0) - Chelsea FC (1) on 2022-08-06 16:30:00+00:00"
          ],
          [
           "Manchester United FC (1) - Brighton & Hove Albion FC (2) on 2022-08-07 13:00:00+00:00"
          ],
          [
           "Leicester City FC (2) - Brentford FC (2) on 2022-08-07 13:00:00+00:00"
          ],
          [
           "West Ham United FC (0) - Manchester City FC (2) on 2022-08-07 15:30:00+00:00"
          ],
          [
           "Aston Villa FC (2) - Everton FC (1) on 2022-08-13 11:30:00+00:00"
          ],
          [
           "Wolverhampton Wanderers FC (0) - Fulham FC (0) on 2022-08-13 14:00:00+00:00"
          ],
          [
           "Southampton FC (2) - Leeds United FC (2) on 2022-08-13 14:00:00+00:00"
          ],
          [
           "Manchester City FC (4) - AFC Bournemouth (0) on 2022-08-13 14:00:00+00:00"
          ],
          [
           "Brighton & Hove Albion FC (0) - Newcastle United FC (0) on 2022-08-13 14:00:00+00:00"
          ],
          [
           "Arsenal FC (4) - Leicester City FC (2) on 2022-08-13 14:00:00+00:00"
          ],
          [
           "Brentford FC (4) - Manchester United FC (0) on 2022-08-13 16:30:00+00:00"
          ],
          [
           "Nottingham Forest FC (1) - West Ham United FC (0) on 2022-08-14 13:00:00+00:00"
          ],
          [
           "Chelsea FC (2) - Tottenham Hotspur FC (2) on 2022-08-14 15:30:00+00:00"
          ],
          [
           "Liverpool FC (1) - Crystal Palace FC (1) on 2022-08-15 19:00:00+00:00"
          ],
          [
           "Tottenham Hotspur FC (1) - Wolverhampton Wanderers FC (0) on 2022-08-20 11:30:00+00:00"
          ],
          [
           "Leicester City FC (1) - Southampton FC (2) on 2022-08-20 14:00:00+00:00"
          ],
          [
           "Fulham FC (3) - Brentford FC (2) on 2022-08-20 14:00:00+00:00"
          ],
          [
           "Everton FC (1) - Nottingham Forest FC (1) on 2022-08-20 14:00:00+00:00"
          ],
          [
           "Crystal Palace FC (3) - Aston Villa FC (1) on 2022-08-20 14:00:00+00:00"
          ],
          [
           "AFC Bournemouth (0) - Arsenal FC (3) on 2022-08-20 16:30:00+00:00"
          ],
          [
           "West Ham United FC (0) - Brighton & Hove Albion FC (2) on 2022-08-21 13:00:00+00:00"
          ],
          [
           "Leeds United FC (3) - Chelsea FC (0) on 2022-08-21 13:00:00+00:00"
          ],
          [
           "Newcastle United FC (3) - Manchester City FC (3) on 2022-08-21 15:30:00+00:00"
          ],
          [
           "Manchester United FC (2) - Liverpool FC (1) on 2022-08-22 19:00:00+00:00"
          ],
          [
           "Southampton FC (0) - Manchester United FC (1) on 2022-08-27 11:30:00+00:00"
          ],
          [
           "Manchester City FC (4) - Crystal Palace FC (2) on 2022-08-27 14:00:00+00:00"
          ],
          [
           "Liverpool FC (9) - AFC Bournemouth (0) on 2022-08-27 14:00:00+00:00"
          ],
          [
           "Chelsea FC (2) - Leicester City FC (1) on 2022-08-27 14:00:00+00:00"
          ],
          [
           "Brighton & Hove Albion FC (1) - Leeds United FC (0) on 2022-08-27 14:00:00+00:00"
          ],
          [
           "Brentford FC (1) - Everton FC (1) on 2022-08-27 14:00:00+00:00"
          ],
          [
           "Arsenal FC (2) - Fulham FC (1) on 2022-08-27 16:30:00+00:00"
          ],
          [
           "Wolverhampton Wanderers FC (1) - Newcastle United FC (1) on 2022-08-28 13:00:00+00:00"
          ],
          [
           "Aston Villa FC (0) - West Ham United FC (1) on 2022-08-28 13:00:00+00:00"
          ],
          [
           "Nottingham Forest FC (0) - Tottenham Hotspur FC (2) on 2022-08-28 15:30:00+00:00"
          ],
          [
           "Crystal Palace FC (1) - Brentford FC (1) on 2022-08-30 18:30:00+00:00"
          ],
          [
           "Fulham FC (2) - Brighton & Hove Albion FC (1) on 2022-08-30 18:30:00+00:00"
          ],
          [
           "Southampton FC (2) - Chelsea FC (1) on 2022-08-30 18:45:00+00:00"
          ],
          [
           "Leeds United FC (1) - Everton FC (1) on 2022-08-30 19:00:00+00:00"
          ],
          [
           "Manchester City FC (6) - Nottingham Forest FC (0) on 2022-08-31 18:30:00+00:00"
          ],
          [
           "AFC Bournemouth (0) - Wolverhampton Wanderers FC (0) on 2022-08-31 18:30:00+00:00"
          ],
          [
           "Arsenal FC (2) - Aston Villa FC (1) on 2022-08-31 18:30:00+00:00"
          ],
          [
           "West Ham United FC (1) - Tottenham Hotspur FC (1) on 2022-08-31 18:45:00+00:00"
          ],
          [
           "Liverpool FC (2) - Newcastle United FC (1) on 2022-08-31 19:00:00+00:00"
          ],
          [
           "Leicester City FC (0) - Manchester United FC (1) on 2022-09-01 19:00:00+00:00"
          ],
          [
           "Everton FC (0) - Liverpool FC (0) on 2022-09-03 11:30:00+00:00"
          ],
          [
           "Wolverhampton Wanderers FC (1) - Southampton FC (0) on 2022-09-03 14:00:00+00:00"
          ],
          [
           "Tottenham Hotspur FC (2) - Fulham FC (1) on 2022-09-03 14:00:00+00:00"
          ],
          [
           "Nottingham Forest FC (2) - AFC Bournemouth (3) on 2022-09-03 14:00:00+00:00"
          ],
          [
           "Newcastle United FC (0) - Crystal Palace FC (0) on 2022-09-03 14:00:00+00:00"
          ],
          [
           "Chelsea FC (2) - West Ham United FC (1) on 2022-09-03 14:00:00+00:00"
          ],
          [
           "Brentford FC (5) - Leeds United FC (2) on 2022-09-03 14:00:00+00:00"
          ],
          [
           "Aston Villa FC (1) - Manchester City FC (1) on 2022-09-03 16:30:00+00:00"
          ],
          [
           "Brighton & Hove Albion FC (5) - Leicester City FC (2) on 2022-09-04 13:00:00+00:00"
          ],
          [
           "Manchester United FC (3) - Arsenal FC (1) on 2022-09-04 15:30:00+00:00"
          ],
          [
           "Nottingham Forest FC (2) - Fulham FC (3) on 2022-09-16 19:00:00+00:00"
          ],
          [
           "Aston Villa FC (1) - Southampton FC (0) on 2022-09-16 19:00:00+00:00"
          ],
          [
           "Wolverhampton Wanderers FC (0) - Manchester City FC (3) on 2022-09-17 11:30:00+00:00"
          ],
          [
           "Newcastle United FC (1) - AFC Bournemouth (1) on 2022-09-17 14:00:00+00:00"
          ],
          [
           "Tottenham Hotspur FC (6) - Leicester City FC (2) on 2022-09-17 16:30:00+00:00"
          ],
          [
           "Brentford FC (0) - Arsenal FC (3) on 2022-09-18 11:00:00+00:00"
          ],
          [
           "Everton FC (1) - West Ham United FC (0) on 2022-09-18 13:15:00+00:00"
          ],
          [
           "Arsenal FC (3) - Tottenham Hotspur FC (1) on 2022-10-01 11:30:00+00:00"
          ],
          [
           "Southampton FC (1) - Everton FC (2) on 2022-10-01 14:00:00+00:00"
          ],
          [
           "Liverpool FC (3) - Brighton & Hove Albion FC (3) on 2022-10-01 14:00:00+00:00"
          ],
          [
           "Fulham FC (1) - Newcastle United FC (4) on 2022-10-01 14:00:00+00:00"
          ],
          [
           "Crystal Palace FC (1) - Chelsea FC (2) on 2022-10-01 14:00:00+00:00"
          ],
          [
           "AFC Bournemouth (0) - Brentford FC (0) on 2022-10-01 14:00:00+00:00"
          ],
          [
           "West Ham United FC (2) - Wolverhampton Wanderers FC (0) on 2022-10-01 16:30:00+00:00"
          ],
          [
           "Manchester City FC (6) - Manchester United FC (3) on 2022-10-02 13:00:00+00:00"
          ],
          [
           "Leeds United FC (0) - Aston Villa FC (0) on 2022-10-02 15:30:00+00:00"
          ],
          [
           "Leicester City FC (4) - Nottingham Forest FC (0) on 2022-10-03 19:00:00+00:00"
          ],
          [
           "Newcastle United FC (5) - Brentford FC (1) on 2022-10-08 14:00:00+00:00"
          ],
          [
           "Manchester City FC (4) - Southampton FC (0) on 2022-10-08 14:00:00+00:00"
          ],
          [
           "Chelsea FC (3) - Wolverhampton Wanderers FC (0) on 2022-10-08 14:00:00+00:00"
          ],
          [
           "AFC Bournemouth (2) - Leicester City FC (1) on 2022-10-08 14:00:00+00:00"
          ],
          [
           "Brighton & Hove Albion FC (0) - Tottenham Hotspur FC (1) on 2022-10-08 16:30:00+00:00"
          ],
          [
           "West Ham United FC (3) - Fulham FC (1) on 2022-10-09 13:00:00+00:00"
          ],
          [
           "Crystal Palace FC (2) - Leeds United FC (1) on 2022-10-09 13:00:00+00:00"
          ],
          [
           "Arsenal FC (3) - Liverpool FC (2) on 2022-10-09 15:30:00+00:00"
          ],
          [
           "Everton FC (1) - Manchester United FC (2) on 2022-10-09 18:00:00+00:00"
          ],
          [
           "Nottingham Forest FC (1) - Aston Villa FC (1) on 2022-10-10 19:00:00+00:00"
          ],
          [
           "Brentford FC (2) - Brighton & Hove Albion FC (0) on 2022-10-14 19:00:00+00:00"
          ],
          [
           "Leicester City FC (0) - Crystal Palace FC (0) on 2022-10-15 11:30:00+00:00"
          ],
          [
           "Wolverhampton Wanderers FC (1) - Nottingham Forest FC (0) on 2022-10-15 14:00:00+00:00"
          ],
          [
           "Fulham FC (2) - AFC Bournemouth (2) on 2022-10-15 14:00:00+00:00"
          ],
          [
           "Tottenham Hotspur FC (2) - Everton FC (0) on 2022-10-15 16:30:00+00:00"
          ],
          [
           "Southampton FC (1) - West Ham United FC (1) on 2022-10-16 13:00:00+00:00"
          ],
          [
           "Manchester United FC (0) - Newcastle United FC (0) on 2022-10-16 13:00:00+00:00"
          ],
          [
           "Leeds United FC (0) - Arsenal FC (1) on 2022-10-16 13:00:00+00:00"
          ],
          [
           "Aston Villa FC (0) - Chelsea FC (2) on 2022-10-16 13:00:00+00:00"
          ],
          [
           "Liverpool FC (1) - Manchester City FC (0) on 2022-10-16 15:30:00+00:00"
          ],
          [
           "Brighton & Hove Albion FC (0) - Nottingham Forest FC (0) on 2022-10-18 18:30:00+00:00"
          ],
          [
           "Crystal Palace FC (2) - Wolverhampton Wanderers FC (1) on 2022-10-18 19:15:00+00:00"
          ],
          [
           "Liverpool FC (1) - West Ham United FC (0) on 2022-10-19 18:30:00+00:00"
          ],
          [
           "Newcastle United FC (1) - Everton FC (0) on 2022-10-19 18:30:00+00:00"
          ],
          [
           "Brentford FC (0) - Chelsea FC (0) on 2022-10-19 18:30:00+00:00"
          ],
          [
           "AFC Bournemouth (0) - Southampton FC (1) on 2022-10-19 18:30:00+00:00"
          ],
          [
           "Manchester United FC (2) - Tottenham Hotspur FC (0) on 2022-10-19 19:15:00+00:00"
          ],
          [
           "Fulham FC (3) - Aston Villa FC (0) on 2022-10-20 18:30:00+00:00"
          ],
          [
           "Leicester City FC (2) - Leeds United FC (0) on 2022-10-20 19:15:00+00:00"
          ],
          [
           "Nottingham Forest FC (1) - Liverpool FC (0) on 2022-10-22 11:30:00+00:00"
          ],
          [
           "Manchester City FC (3) - Brighton & Hove Albion FC (1) on 2022-10-22 14:00:00+00:00"
          ],
          [
           "Everton FC (3) - Crystal Palace FC (0) on 2022-10-22 14:00:00+00:00"
          ],
          [
           "Chelsea FC (1) - Manchester United FC (1) on 2022-10-22 16:30:00+00:00"
          ],
          [
           "Southampton FC (1) - Arsenal FC (1) on 2022-10-23 13:00:00+00:00"
          ],
          [
           "Leeds United FC (2) - Fulham FC (3) on 2022-10-23 13:00:00+00:00"
          ],
          [
           "Aston Villa FC (4) - Brentford FC (0) on 2022-10-23 13:00:00+00:00"
          ],
          [
           "Wolverhampton Wanderers FC (0) - Leicester City FC (4) on 2022-10-23 13:00:00+00:00"
          ],
          [
           "Tottenham Hotspur FC (1) - Newcastle United FC (2) on 2022-10-23 15:30:00+00:00"
          ],
          [
           "West Ham United FC (2) - AFC Bournemouth (0) on 2022-10-24 19:00:00+00:00"
          ],
          [
           "Leicester City FC (0) - Manchester City FC (1) on 2022-10-29 11:30:00+00:00"
          ],
          [
           "Newcastle United FC (4) - Aston Villa FC (0) on 2022-10-29 14:00:00+00:00"
          ],
          [
           "Crystal Palace FC (1) - Southampton FC (0) on 2022-10-29 14:00:00+00:00"
          ],
          [
           "Brighton & Hove Albion FC (4) - Chelsea FC (1) on 2022-10-29 14:00:00+00:00"
          ],
          [
           "Brentford FC (1) - Wolverhampton Wanderers FC (1) on 2022-10-29 14:00:00+00:00"
          ],
          [
           "AFC Bournemouth (2) - Tottenham Hotspur FC (3) on 2022-10-29 14:00:00+00:00"
          ],
          [
           "Fulham FC (0) - Everton FC (0) on 2022-10-29 16:30:00+00:00"
          ],
          [
           "Liverpool FC (1) - Leeds United FC (2) on 2022-10-29 18:45:00+00:00"
          ],
          [
           "Arsenal FC (5) - Nottingham Forest FC (0) on 2022-10-30 14:00:00+00:00"
          ],
          [
           "Manchester United FC (1) - West Ham United FC (0) on 2022-10-30 16:15:00+00:00"
          ],
          [
           "Wolverhampton Wanderers FC (2) - Brighton & Hove Albion FC (3) on 2022-11-05 15:00:00+00:00"
          ],
          [
           "Nottingham Forest FC (2) - Brentford FC (2) on 2022-11-05 15:00:00+00:00"
          ],
          [
           "Manchester City FC (2) - Fulham FC (1) on 2022-11-05 15:00:00+00:00"
          ],
          [
           "Leeds United FC (4) - AFC Bournemouth (3) on 2022-11-05 15:00:00+00:00"
          ],
          [
           "Everton FC (0) - Leicester City FC (2) on 2022-11-05 17:30:00+00:00"
          ],
          [
           "Chelsea FC (0) - Arsenal FC (1) on 2022-11-06 12:00:00+00:00"
          ],
          [
           "West Ham United FC (1) - Crystal Palace FC (2) on 2022-11-06 14:00:00+00:00"
          ],
          [
           "Southampton FC (1) - Newcastle United FC (4) on 2022-11-06 14:00:00+00:00"
          ],
          [
           "Aston Villa FC (3) - Manchester United FC (1) on 2022-11-06 14:00:00+00:00"
          ],
          [
           "Tottenham Hotspur FC (1) - Liverpool FC (2) on 2022-11-06 16:30:00+00:00"
          ],
          [
           "Manchester City FC (1) - Brentford FC (2) on 2022-11-12 12:30:00+00:00"
          ],
          [
           "West Ham United FC (0) - Leicester City FC (2) on 2022-11-12 15:00:00+00:00"
          ],
          [
           "Tottenham Hotspur FC (4) - Leeds United FC (3) on 2022-11-12 15:00:00+00:00"
          ],
          [
           "Nottingham Forest FC (1) - Crystal Palace FC (0) on 2022-11-12 15:00:00+00:00"
          ],
          [
           "Liverpool FC (3) - Southampton FC (1) on 2022-11-12 15:00:00+00:00"
          ],
          [
           "AFC Bournemouth (3) - Everton FC (0) on 2022-11-12 15:00:00+00:00"
          ],
          [
           "Newcastle United FC (1) - Chelsea FC (0) on 2022-11-12 17:30:00+00:00"
          ],
          [
           "Wolverhampton Wanderers FC (0) - Arsenal FC (2) on 2022-11-12 19:45:00+00:00"
          ],
          [
           "Brighton & Hove Albion FC (1) - Aston Villa FC (2) on 2022-11-13 14:00:00+00:00"
          ],
          [
           "Fulham FC (1) - Manchester United FC (2) on 2022-11-13 16:30:00+00:00"
          ],
          [
           "Brentford FC (2) - Tottenham Hotspur FC (2) on 2022-12-26 12:30:00+00:00"
          ],
          [
           "Southampton FC (1) - Brighton & Hove Albion FC (3) on 2022-12-26 15:00:00+00:00"
          ],
          [
           "Leicester City FC (0) - Newcastle United FC (3) on 2022-12-26 15:00:00+00:00"
          ],
          [
           "Everton FC (1) - Wolverhampton Wanderers FC (2) on 2022-12-26 15:00:00+00:00"
          ],
          [
           "Crystal Palace FC (0) - Fulham FC (3) on 2022-12-26 15:00:00+00:00"
          ],
          [
           "Aston Villa FC (1) - Liverpool FC (3) on 2022-12-26 17:30:00+00:00"
          ],
          [
           "Arsenal FC (3) - West Ham United FC (1) on 2022-12-26 20:00:00+00:00"
          ],
          [
           "Chelsea FC (2) - AFC Bournemouth (0) on 2022-12-27 17:30:00+00:00"
          ],
          [
           "Manchester United FC (3) - Nottingham Forest FC (0) on 2022-12-27 20:00:00+00:00"
          ],
          [
           "Leeds United FC (1) - Manchester City FC (3) on 2022-12-28 20:00:00+00:00"
          ],
          [
           "West Ham United FC (0) - Brentford FC (2) on 2022-12-30 19:45:00+00:00"
          ],
          [
           "Liverpool FC (2) - Leicester City FC (1) on 2022-12-30 20:00:00+00:00"
          ],
          [
           "Wolverhampton Wanderers FC (0) - Manchester United FC (1) on 2022-12-31 12:30:00+00:00"
          ],
          [
           "Newcastle United FC (0) - Leeds United FC (0) on 2022-12-31 15:00:00+00:00"
          ],
          [
           "Manchester City FC (1) - Everton FC (1) on 2022-12-31 15:00:00+00:00"
          ],
          [
           "Fulham FC (2) - Southampton FC (1) on 2022-12-31 15:00:00+00:00"
          ],
          [
           "AFC Bournemouth (0) - Crystal Palace FC (2) on 2022-12-31 15:00:00+00:00"
          ],
          [
           "Brighton & Hove Albion FC (2) - Arsenal FC (4) on 2022-12-31 17:30:00+00:00"
          ],
          [
           "Tottenham Hotspur FC (0) - Aston Villa FC (2) on 2023-01-01 14:00:00+00:00"
          ],
          [
           "Nottingham Forest FC (1) - Chelsea FC (1) on 2023-01-01 16:30:00+00:00"
          ],
          [
           "Brentford FC (3) - Liverpool FC (1) on 2023-01-02 17:30:00+00:00"
          ],
          [
           "Leicester City FC (0) - Fulham FC (1) on 2023-01-03 19:45:00+00:00"
          ],
          [
           "Everton FC (1) - Brighton & Hove Albion FC (4) on 2023-01-03 19:45:00+00:00"
          ],
          [
           "Arsenal FC (0) - Newcastle United FC (0) on 2023-01-03 19:45:00+00:00"
          ],
          [
           "Manchester United FC (3) - AFC Bournemouth (0) on 2023-01-03 20:00:00+00:00"
          ],
          [
           "Southampton FC (0) - Nottingham Forest FC (1) on 2023-01-04 19:30:00+00:00"
          ],
          [
           "Leeds United FC (2) - West Ham United FC (2) on 2023-01-04 19:45:00+00:00"
          ],
          [
           "Crystal Palace FC (0) - Tottenham Hotspur FC (4) on 2023-01-04 20:00:00+00:00"
          ],
          [
           "Aston Villa FC (1) - Wolverhampton Wanderers FC (1) on 2023-01-04 20:00:00+00:00"
          ],
          [
           "Chelsea FC (0) - Manchester City FC (1) on 2023-01-05 20:00:00+00:00"
          ],
          [
           "Fulham FC (2) - Chelsea FC (1) on 2023-01-12 20:00:00+00:00"
          ],
          [
           "Aston Villa FC (2) - Leeds United FC (1) on 2023-01-13 20:00:00+00:00"
          ],
          [
           "Manchester United FC (2) - Manchester City FC (1) on 2023-01-14 12:30:00+00:00"
          ],
          [
           "Wolverhampton Wanderers FC (1) - West Ham United FC (0) on 2023-01-14 15:00:00+00:00"
          ],
          [
           "Nottingham Forest FC (2) - Leicester City FC (0) on 2023-01-14 15:00:00+00:00"
          ],
          [
           "Everton FC (1) - Southampton FC (2) on 2023-01-14 15:00:00+00:00"
          ],
          [
           "Brighton & Hove Albion FC (3) - Liverpool FC (0) on 2023-01-14 15:00:00+00:00"
          ],
          [
           "Brentford FC (2) - AFC Bournemouth (0) on 2023-01-14 17:30:00+00:00"
          ],
          [
           "Newcastle United FC (1) - Fulham FC (0) on 2023-01-15 14:00:00+00:00"
          ],
          [
           "Chelsea FC (1) - Crystal Palace FC (0) on 2023-01-15 14:00:00+00:00"
          ],
          [
           "Tottenham Hotspur FC (0) - Arsenal FC (2) on 2023-01-15 16:30:00+00:00"
          ],
          [
           "Crystal Palace FC (1) - Manchester United FC (1) on 2023-01-18 20:00:00+00:00"
          ],
          [
           "Manchester City FC (4) - Tottenham Hotspur FC (2) on 2023-01-19 20:00:00+00:00"
          ],
          [
           "Liverpool FC (0) - Chelsea FC (0) on 2023-01-21 12:30:00+00:00"
          ],
          [
           "West Ham United FC (2) - Everton FC (0) on 2023-01-21 15:00:00+00:00"
          ],
          [
           "Southampton FC (0) - Aston Villa FC (1) on 2023-01-21 15:00:00+00:00"
          ],
          [
           "Leicester City FC (2) - Brighton & Hove Albion FC (2) on 2023-01-21 15:00:00+00:00"
          ],
          [
           "AFC Bournemouth (1) - Nottingham Forest FC (1) on 2023-01-21 15:00:00+00:00"
          ],
          [
           "Crystal Palace FC (0) - Newcastle United FC (0) on 2023-01-21 17:30:00+00:00"
          ],
          [
           "Manchester City FC (3) - Wolverhampton Wanderers FC (0) on 2023-01-22 14:00:00+00:00"
          ],
          [
           "Leeds United FC (0) - Brentford FC (0) on 2023-01-22 14:00:00+00:00"
          ],
          [
           "Arsenal FC (3) - Manchester United FC (2) on 2023-01-22 16:30:00+00:00"
          ],
          [
           "Fulham FC (0) - Tottenham Hotspur FC (1) on 2023-01-23 20:15:00+00:00"
          ],
          [
           "Chelsea FC (0) - Fulham FC (0) on 2023-02-03 20:00:00+00:00"
          ],
          [
           "Everton FC (1) - Arsenal FC (0) on 2023-02-04 12:30:00+00:00"
          ],
          [
           "Wolverhampton Wanderers FC (3) - Liverpool FC (0) on 2023-02-04 15:00:00+00:00"
          ],
          [
           "Manchester United FC (2) - Crystal Palace FC (1) on 2023-02-04 15:00:00+00:00"
          ],
          [
           "Brighton & Hove Albion FC (1) - AFC Bournemouth (0) on 2023-02-04 15:00:00+00:00"
          ],
          [
           "Brentford FC (3) - Southampton FC (0) on 2023-02-04 15:00:00+00:00"
          ],
          [
           "Aston Villa FC (2) - Leicester City FC (4) on 2023-02-04 15:00:00+00:00"
          ],
          [
           "Newcastle United FC (1) - West Ham United FC (1) on 2023-02-04 17:30:00+00:00"
          ],
          [
           "Nottingham Forest FC (1) - Leeds United FC (0) on 2023-02-05 14:00:00+00:00"
          ],
          [
           "Tottenham Hotspur FC (1) - Manchester City FC (0) on 2023-02-05 16:30:00+00:00"
          ],
          [
           "Manchester United FC (2) - Leeds United FC (2) on 2023-02-08 20:00:00+00:00"
          ],
          [
           "West Ham United FC (1) - Chelsea FC (1) on 2023-02-11 12:30:00+00:00"
          ],
          [
           "Southampton FC (1) - Wolverhampton Wanderers FC (2) on 2023-02-11 15:00:00+00:00"
          ],
          [
           "Leicester City FC (4) - Tottenham Hotspur FC (1) on 2023-02-11 15:00:00+00:00"
          ],
          [
           "Fulham FC (2) - Nottingham Forest FC (0) on 2023-02-11 15:00:00+00:00"
          ],
          [
           "Crystal Palace FC (1) - Brighton & Hove Albion FC (1) on 2023-02-11 15:00:00+00:00"
          ],
          [
           "Arsenal FC (1) - Brentford FC (1) on 2023-02-11 15:00:00+00:00"
          ],
          [
           "AFC Bournemouth (1) - Newcastle United FC (1) on 2023-02-11 17:30:00+00:00"
          ],
          [
           "Leeds United FC (0) - Manchester United FC (2) on 2023-02-12 14:00:00+00:00"
          ],
          [
           "Manchester City FC (3) - Aston Villa FC (1) on 2023-02-12 16:30:00+00:00"
          ],
          [
           "Liverpool FC (2) - Everton FC (0) on 2023-02-13 20:00:00+00:00"
          ],
          [
           "Arsenal FC (1) - Manchester City FC (3) on 2023-02-15 19:30:00+00:00"
          ],
          [
           "Aston Villa FC (2) - Arsenal FC (4) on 2023-02-18 12:30:00+00:00"
          ],
          [
           "Wolverhampton Wanderers FC (0) - AFC Bournemouth (1) on 2023-02-18 15:00:00+00:00"
          ],
          [
           "Nottingham Forest FC (1) - Manchester City FC (1) on 2023-02-18 15:00:00+00:00"
          ],
          [
           "Everton FC (1) - Leeds United FC (0) on 2023-02-18 15:00:00+00:00"
          ],
          [
           "Chelsea FC (0) - Southampton FC (1) on 2023-02-18 15:00:00+00:00"
          ],
          [
           "Brighton & Hove Albion FC (0) - Fulham FC (1) on 2023-02-18 15:00:00+00:00"
          ],
          [
           "Brentford FC (1) - Crystal Palace FC (1) on 2023-02-18 15:00:00+00:00"
          ],
          [
           "Newcastle United FC (0) - Liverpool FC (2) on 2023-02-18 17:30:00+00:00"
          ],
          [
           "Manchester United FC (3) - Leicester City FC (0) on 2023-02-19 14:00:00+00:00"
          ],
          [
           "Tottenham Hotspur FC (2) - West Ham United FC (0) on 2023-02-19 16:30:00+00:00"
          ],
          [
           "Fulham FC (1) - Wolverhampton Wanderers FC (1) on 2023-02-24 20:00:00+00:00"
          ],
          [
           "West Ham United FC (4) - Nottingham Forest FC (0) on 2023-02-25 15:00:00+00:00"
          ],
          [
           "Leicester City FC (0) - Arsenal FC (1) on 2023-02-25 15:00:00+00:00"
          ],
          [
           "Leeds United FC (1) - Southampton FC (0) on 2023-02-25 15:00:00+00:00"
          ],
          [
           "Everton FC (0) - Aston Villa FC (2) on 2023-02-25 15:00:00+00:00"
          ],
          [
           "AFC Bournemouth (1) - Manchester City FC (4) on 2023-02-25 17:30:00+00:00"
          ],
          [
           "Crystal Palace FC (0) - Liverpool FC (0) on 2023-02-25 19:45:00+00:00"
          ],
          [
           "Tottenham Hotspur FC (2) - Chelsea FC (0) on 2023-02-26 13:30:00+00:00"
          ],
          [
           "Arsenal FC (4) - Everton FC (0) on 2023-03-01 19:45:00+00:00"
          ],
          [
           "Liverpool FC (2) - Wolverhampton Wanderers FC (0) on 2023-03-01 20:00:00+00:00"
          ],
          [
           "Manchester City FC (2) - Newcastle United FC (0) on 2023-03-04 12:30:00+00:00"
          ],
          [
           "Wolverhampton Wanderers FC (1) - Tottenham Hotspur FC (0) on 2023-03-04 15:00:00+00:00"
          ],
          [
           "Chelsea FC (1) - Leeds United FC (0) on 2023-03-04 15:00:00+00:00"
          ],
          [
           "Brighton & Hove Albion FC (4) - West Ham United FC (0) on 2023-03-04 15:00:00+00:00"
          ],
          [
           "Aston Villa FC (1) - Crystal Palace FC (0) on 2023-03-04 15:00:00+00:00"
          ],
          [
           "Arsenal FC (3) - AFC Bournemouth (2) on 2023-03-04 15:00:00+00:00"
          ],
          [
           "Southampton FC (1) - Leicester City FC (0) on 2023-03-04 17:30:00+00:00"
          ],
          [
           "Nottingham Forest FC (2) - Everton FC (2) on 2023-03-05 14:00:00+00:00"
          ],
          [
           "Liverpool FC (7) - Manchester United FC (0) on 2023-03-05 16:30:00+00:00"
          ],
          [
           "Brentford FC (3) - Fulham FC (2) on 2023-03-06 20:00:00+00:00"
          ],
          [
           "AFC Bournemouth (1) - Liverpool FC (0) on 2023-03-11 12:30:00+00:00"
          ],
          [
           "Tottenham Hotspur FC (3) - Nottingham Forest FC (1) on 2023-03-11 15:00:00+00:00"
          ],
          [
           "Leicester City FC (1) - Chelsea FC (3) on 2023-03-11 15:00:00+00:00"
          ],
          [
           "Leeds United FC (2) - Brighton & Hove Albion FC (2) on 2023-03-11 15:00:00+00:00"
          ],
          [
           "Everton FC (1) - Brentford FC (0) on 2023-03-11 15:00:00+00:00"
          ],
          [
           "Crystal Palace FC (0) - Manchester City FC (1) on 2023-03-11 17:30:00+00:00"
          ],
          [
           "West Ham United FC (1) - Aston Villa FC (1) on 2023-03-12 14:00:00+00:00"
          ],
          [
           "Manchester United FC (0) - Southampton FC (0) on 2023-03-12 14:00:00+00:00"
          ],
          [
           "Fulham FC (0) - Arsenal FC (3) on 2023-03-12 14:00:00+00:00"
          ],
          [
           "Newcastle United FC (2) - Wolverhampton Wanderers FC (1) on 2023-03-12 16:30:00+00:00"
          ],
          [
           "Brighton & Hove Albion FC (1) - Crystal Palace FC (0) on 2023-03-15 19:30:00+00:00"
          ],
          [
           "Southampton FC (0) - Brentford FC (2) on 2023-03-15 19:30:00+00:00"
          ],
          [
           "Nottingham Forest FC (1) - Newcastle United FC (2) on 2023-03-17 20:00:00+00:00"
          ],
          [
           "Wolverhampton Wanderers FC (2) - Leeds United FC (4) on 2023-03-18 15:00:00+00:00"
          ],
          [
           "Southampton FC (3) - Tottenham Hotspur FC (3) on 2023-03-18 15:00:00+00:00"
          ],
          [
           "Brentford FC (1) - Leicester City FC (1) on 2023-03-18 15:00:00+00:00"
          ],
          [
           "Aston Villa FC (3) - AFC Bournemouth (0) on 2023-03-18 15:00:00+00:00"
          ],
          [
           "Chelsea FC (2) - Everton FC (2) on 2023-03-18 17:30:00+00:00"
          ],
          [
           "Arsenal FC (4) - Crystal Palace FC (1) on 2023-03-19 14:00:00+00:00"
          ],
          [
           "Manchester City FC (4) - Liverpool FC (1) on 2023-04-01 11:30:00+00:00"
          ],
          [
           "Nottingham Forest FC (1) - Wolverhampton Wanderers FC (1) on 2023-04-01 14:00:00+00:00"
          ],
          [
           "Crystal Palace FC (2) - Leicester City FC (1) on 2023-04-01 14:00:00+00:00"
          ],
          [
           "Brighton & Hove Albion FC (3) - Brentford FC (3) on 2023-04-01 14:00:00+00:00"
          ],
          [
           "AFC Bournemouth (2) - Fulham FC (1) on 2023-04-01 14:00:00+00:00"
          ],
          [
           "Arsenal FC (4) - Leeds United FC (1) on 2023-04-01 14:00:00+00:00"
          ],
          [
           "Chelsea FC (0) - Aston Villa FC (2) on 2023-04-01 16:30:00+00:00"
          ],
          [
           "West Ham United FC (1) - Southampton FC (0) on 2023-04-02 13:00:00+00:00"
          ],
          [
           "Newcastle United FC (2) - Manchester United FC (0) on 2023-04-02 15:30:00+00:00"
          ],
          [
           "Everton FC (1) - Tottenham Hotspur FC (1) on 2023-04-03 19:00:00+00:00"
          ],
          [
           "Leicester City FC (1) - Aston Villa FC (2) on 2023-04-04 18:45:00+00:00"
          ],
          [
           "Leeds United FC (2) - Nottingham Forest FC (1) on 2023-04-04 18:45:00+00:00"
          ],
          [
           "AFC Bournemouth (0) - Brighton & Hove Albion FC (2) on 2023-04-04 18:45:00+00:00"
          ],
          [
           "Chelsea FC (0) - Liverpool FC (0) on 2023-04-04 19:00:00+00:00"
          ],
          [
           "West Ham United FC (1) - Newcastle United FC (5) on 2023-04-05 19:00:00+00:00"
          ],
          [
           "Manchester United FC (1) - Brentford FC (0) on 2023-04-05 19:00:00+00:00"
          ],
          [
           "Manchester United FC (2) - Everton FC (0) on 2023-04-08 11:30:00+00:00"
          ],
          [
           "Wolverhampton Wanderers FC (1) - Chelsea FC (0) on 2023-04-08 14:00:00+00:00"
          ],
          [
           "Tottenham Hotspur FC (2) - Brighton & Hove Albion FC (1) on 2023-04-08 14:00:00+00:00"
          ],
          [
           "Leicester City FC (0) - AFC Bournemouth (1) on 2023-04-08 14:00:00+00:00"
          ],
          [
           "Fulham FC (0) - West Ham United FC (1) on 2023-04-08 14:00:00+00:00"
          ],
          [
           "Brentford FC (1) - Newcastle United FC (2) on 2023-04-08 14:00:00+00:00"
          ],
          [
           "Aston Villa FC (2) - Nottingham Forest FC (0) on 2023-04-08 14:00:00+00:00"
          ],
          [
           "Southampton FC (1) - Manchester City FC (4) on 2023-04-08 16:30:00+00:00"
          ],
          [
           "Leeds United FC (1) - Crystal Palace FC (5) on 2023-04-09 13:00:00+00:00"
          ],
          [
           "Liverpool FC (2) - Arsenal FC (2) on 2023-04-09 15:30:00+00:00"
          ],
          [
           "Aston Villa FC (3) - Newcastle United FC (0) on 2023-04-15 11:30:00+00:00"
          ],
          [
           "Wolverhampton Wanderers FC (2) - Brentford FC (0) on 2023-04-15 14:00:00+00:00"
          ],
          [
           "Southampton FC (0) - Crystal Palace FC (2) on 2023-04-15 14:00:00+00:00"
          ],
          [
           "Everton FC (1) - Fulham FC (3) on 2023-04-15 14:00:00+00:00"
          ],
          [
           "Chelsea FC (1) - Brighton & Hove Albion FC (2) on 2023-04-15 14:00:00+00:00"
          ],
          [
           "Tottenham Hotspur FC (2) - AFC Bournemouth (3) on 2023-04-15 14:15:00+00:00"
          ],
          [
           "Manchester City FC (3) - Leicester City FC (1) on 2023-04-15 16:30:00+00:00"
          ],
          [
           "West Ham United FC (2) - Arsenal FC (2) on 2023-04-16 13:00:00+00:00"
          ],
          [
           "Nottingham Forest FC (0) - Manchester United FC (2) on 2023-04-16 15:30:00+00:00"
          ],
          [
           "Leeds United FC (1) - Liverpool FC (6) on 2023-04-17 19:00:00+00:00"
          ],
          [
           "Arsenal FC (3) - Southampton FC (3) on 2023-04-21 19:00:00+00:00"
          ],
          [
           "Fulham FC (2) - Leeds United FC (1) on 2023-04-22 11:30:00+00:00"
          ],
          [
           "Liverpool FC (3) - Nottingham Forest FC (2) on 2023-04-22 14:00:00+00:00"
          ],
          [
           "Leicester City FC (2) - Wolverhampton Wanderers FC (1) on 2023-04-22 14:00:00+00:00"
          ],
          [
           "Crystal Palace FC (0) - Everton FC (0) on 2023-04-22 14:00:00+00:00"
          ],
          [
           "Brentford FC (1) - Aston Villa FC (1) on 2023-04-22 14:00:00+00:00"
          ],
          [
           "Newcastle United FC (6) - Tottenham Hotspur FC (1) on 2023-04-23 13:00:00+00:00"
          ],
          [
           "AFC Bournemouth (0) - West Ham United FC (4) on 2023-04-23 13:00:00+00:00"
          ],
          [
           "Wolverhampton Wanderers FC (2) - Crystal Palace FC (0) on 2023-04-25 18:30:00+00:00"
          ],
          [
           "Aston Villa FC (1) - Fulham FC (0) on 2023-04-25 18:45:00+00:00"
          ],
          [
           "Leeds United FC (1) - Leicester City FC (1) on 2023-04-25 19:00:00+00:00"
          ],
          [
           "Nottingham Forest FC (3) - Brighton & Hove Albion FC (1) on 2023-04-26 18:30:00+00:00"
          ],
          [
           "Chelsea FC (0) - Brentford FC (2) on 2023-04-26 18:45:00+00:00"
          ],
          [
           "West Ham United FC (1) - Liverpool FC (2) on 2023-04-26 18:45:00+00:00"
          ],
          [
           "Manchester City FC (4) - Arsenal FC (1) on 2023-04-26 19:00:00+00:00"
          ],
          [
           "Southampton FC (0) - AFC Bournemouth (1) on 2023-04-27 18:45:00+00:00"
          ],
          [
           "Everton FC (1) - Newcastle United FC (4) on 2023-04-27 18:45:00+00:00"
          ],
          [
           "Tottenham Hotspur FC (2) - Manchester United FC (2) on 2023-04-27 19:15:00+00:00"
          ],
          [
           "Crystal Palace FC (4) - West Ham United FC (3) on 2023-04-29 11:45:00+00:00"
          ],
          [
           "Brighton & Hove Albion FC (6) - Wolverhampton Wanderers FC (0) on 2023-04-29 14:00:00+00:00"
          ],
          [
           "Brentford FC (2) - Nottingham Forest FC (1) on 2023-04-29 14:00:00+00:00"
          ],
          [
           "Newcastle United FC (3) - Southampton FC (1) on 2023-04-30 13:00:00+00:00"
          ],
          [
           "Manchester United FC (1) - Aston Villa FC (0) on 2023-04-30 13:00:00+00:00"
          ],
          [
           "Fulham FC (1) - Manchester City FC (2) on 2023-04-30 13:00:00+00:00"
          ],
          [
           "AFC Bournemouth (4) - Leeds United FC (1) on 2023-04-30 13:00:00+00:00"
          ],
          [
           "Liverpool FC (4) - Tottenham Hotspur FC (3) on 2023-04-30 15:30:00+00:00"
          ],
          [
           "Leicester City FC (2) - Everton FC (2) on 2023-05-01 19:00:00+00:00"
          ],
          [
           "Arsenal FC (3) - Chelsea FC (1) on 2023-05-02 19:00:00+00:00"
          ],
          [
           "Manchester City FC (3) - West Ham United FC (0) on 2023-05-03 19:00:00+00:00"
          ],
          [
           "Liverpool FC (1) - Fulham FC (0) on 2023-05-03 19:00:00+00:00"
          ],
          [
           "Brighton & Hove Albion FC (1) - Manchester United FC (0) on 2023-05-04 19:00:00+00:00"
          ],
          [
           "Wolverhampton Wanderers FC (1) - Aston Villa FC (0) on 2023-05-06 14:00:00+00:00"
          ],
          [
           "Tottenham Hotspur FC (1) - Crystal Palace FC (0) on 2023-05-06 14:00:00+00:00"
          ],
          [
           "Manchester City FC (2) - Leeds United FC (1) on 2023-05-06 14:00:00+00:00"
          ],
          [
           "AFC Bournemouth (1) - Chelsea FC (3) on 2023-05-06 14:00:00+00:00"
          ],
          [
           "Liverpool FC (1) - Brentford FC (0) on 2023-05-06 16:30:00+00:00"
          ],
          [
           "Newcastle United FC (0) - Arsenal FC (2) on 2023-05-07 15:30:00+00:00"
          ],
          [
           "West Ham United FC (1) - Manchester United FC (0) on 2023-05-07 18:00:00+00:00"
          ],
          [
           "Fulham FC (5) - Leicester City FC (3) on 2023-05-08 14:00:00+00:00"
          ],
          [
           "Brighton & Hove Albion FC (1) - Everton FC (5) on 2023-05-08 16:30:00+00:00"
          ],
          [
           "Nottingham Forest FC (4) - Southampton FC (3) on 2023-05-08 19:00:00+00:00"
          ],
          [
           "Leeds United FC (2) - Newcastle United FC (2) on 2023-05-13 11:30:00+00:00"
          ],
          [
           "Southampton FC (0) - Fulham FC (2) on 2023-05-13 14:00:00+00:00"
          ],
          [
           "Manchester United FC (2) - Wolverhampton Wanderers FC (0) on 2023-05-13 14:00:00+00:00"
          ],
          [
           "Crystal Palace FC (2) - AFC Bournemouth (0) on 2023-05-13 14:00:00+00:00"
          ],
          [
           "Chelsea FC (2) - Nottingham Forest FC (2) on 2023-05-13 14:00:00+00:00"
          ],
          [
           "Aston Villa FC (2) - Tottenham Hotspur FC (1) on 2023-05-13 14:00:00+00:00"
          ],
          [
           "Everton FC (0) - Manchester City FC (3) on 2023-05-14 13:00:00+00:00"
          ],
          [
           "Brentford FC (2) - West Ham United FC (0) on 2023-05-14 13:00:00+00:00"
          ],
          [
           "Arsenal FC (0) - Brighton & Hove Albion FC (3) on 2023-05-14 15:30:00+00:00"
          ],
          [
           "Leicester City FC (0) - Liverpool FC (3) on 2023-05-15 19:00:00+00:00"
          ],
          [
           "Newcastle United FC (4) - Brighton & Hove Albion FC (1) on 2023-05-18 18:30:00+00:00"
          ],
          [
           "Tottenham Hotspur FC (1) - Brentford FC (3) on 2023-05-20 11:30:00+00:00"
          ],
          [
           "Wolverhampton Wanderers FC (1) - Everton FC (1) on 2023-05-20 14:00:00+00:00"
          ],
          [
           "Liverpool FC (1) - Aston Villa FC (1) on 2023-05-20 14:00:00+00:00"
          ],
          [
           "Fulham FC (2) - Crystal Palace FC (2) on 2023-05-20 14:00:00+00:00"
          ],
          [
           "AFC Bournemouth (0) - Manchester United FC (1) on 2023-05-20 14:00:00+00:00"
          ],
          [
           "Nottingham Forest FC (1) - Arsenal FC (0) on 2023-05-20 16:30:00+00:00"
          ],
          [
           "West Ham United FC (3) - Leeds United FC (1) on 2023-05-21 12:30:00+00:00"
          ],
          [
           "Brighton & Hove Albion FC (3) - Southampton FC (1) on 2023-05-21 13:00:00+00:00"
          ],
          [
           "Manchester City FC (1) - Chelsea FC (0) on 2023-05-21 15:00:00+00:00"
          ],
          [
           "Newcastle United FC (0) - Leicester City FC (0) on 2023-05-22 19:00:00+00:00"
          ],
          [
           "Brighton & Hove Albion FC (1) - Manchester City FC (1) on 2023-05-24 19:00:00+00:00"
          ],
          [
           "Manchester United FC (4) - Chelsea FC (1) on 2023-05-25 19:00:00+00:00"
          ],
          [
           "Southampton FC (4) - Liverpool FC (4) on 2023-05-28 15:30:00+00:00"
          ],
          [
           "Manchester United FC (2) - Fulham FC (1) on 2023-05-28 15:30:00+00:00"
          ],
          [
           "Leicester City FC (2) - West Ham United FC (1) on 2023-05-28 15:30:00+00:00"
          ],
          [
           "Leeds United FC (1) - Tottenham Hotspur FC (4) on 2023-05-28 15:30:00+00:00"
          ],
          [
           "Everton FC (1) - AFC Bournemouth (0) on 2023-05-28 15:30:00+00:00"
          ],
          [
           "Crystal Palace FC (1) - Nottingham Forest FC (1) on 2023-05-28 15:30:00+00:00"
          ],
          [
           "Chelsea FC (1) - Newcastle United FC (1) on 2023-05-28 15:30:00+00:00"
          ],
          [
           "Brentford FC (1) - Manchester City FC (0) on 2023-05-28 15:30:00+00:00"
          ],
          [
           "Aston Villa FC (2) - Brighton & Hove Albion FC (1) on 2023-05-28 15:30:00+00:00"
          ],
          [
           "Arsenal FC (5) - Wolverhampton Wanderers FC (0) on 2023-05-28 15:30:00+00:00"
          ]
         ],
         "hovertemplate": "Season=2022-2023<br>Elo Difference=%{x}<br>Home Outcome=%{y}<br>Match Info=%{customdata[0]}<extra></extra>",
         "legendgroup": "2022-2023",
         "marker": {
          "color": "#636efa",
          "symbol": "circle"
         },
         "mode": "markers",
         "name": "2022-2023",
         "orientation": "h",
         "showlegend": true,
         "type": "scatter",
         "x": [
          -201.92790198344073,
          -120.72165524327215,
          148.99919782593497,
          84.2657854559468,
          19.212379652139816,
          -8.870315033981115,
          -159.26182726293882,
          1.8749703677601701,
          -31.293090569213064,
          -255.87291545275684,
          83.14793644961742,
          -20.174161626550585,
          -37.028309569165,
          243.3689277477547,
          -19.554761898881225,
          238.3539858011518,
          1.006559920608879,
          22.893207028253073,
          34.11776062218473,
          100.4901787869153,
          142.54894743874775,
          -28.764806459042575,
          13.750197051023179,
          -35.57616337094191,
          4.715175501317617,
          -202.28514408452043,
          -92.40391528951704,
          -82.15767895157956,
          -166.02864127713133,
          -32.73051797199014,
          -99.96578513319241,
          220.24522923372774,
          103.70244633032371,
          170.46044116732787,
          74.23834760492718,
          30.91784358095788,
          201.51138221373026,
          -92.77762367313062,
          9.61591974936755,
          -127.44511552947074,
          14.61830188529234,
          -19.196691035900812,
          -87.5795243190405,
          25.440585055375095,
          255.54755586978695,
          14.786661521413635,
          218.42370234950977,
          -107.81282987113104,
          62.679746843760995,
          -144.5967151727009,
          -114.57457727242945,
          24.808961096549183,
          103.54086488628286,
          -43.62560488391932,
          23.10798834971706,
          106.16968942829976,
          41.69761824269153,
          -213.79530532984313,
          143.2003104455066,
          -80.34124772133987,
          -81.01835655107448,
          67.59730304435288,
          -231.74209751209492,
          28.616175903859357,
          211.65334039902268,
          -171.44743900249887,
          37.06998617762156,
          88.682900285909,
          -79.57841827772359,
          30.63657558640034,
          -45.44262440768989,
          -99.53090411855169,
          -0.27332427009423554,
          19.797428744213903,
          142.6040738103602,
          -34.23678254803167,
          6.049780813845473,
          77.95904738668673,
          287.0086830197413,
          155.52374094565607,
          101.52534603097979,
          -73.41740122675765,
          18.375615498783873,
          54.99087782185529,
          123.20707308006217,
          -91.94523955406339,
          -76.05424473570429,
          -3.895029488881619,
          -84.66534395814415,
          54.74558264074517,
          -29.804243225671144,
          135.97990654137766,
          -62.28139295931601,
          20.01773623886379,
          -239.25974579709214,
          -122.8278029081398,
          -87.73974382711526,
          83.6368031850709,
          72.50510183940764,
          120.50456191838293,
          107.42447763872883,
          -91.32057994483102,
          30.085702591135487,
          8.318633986273198,
          32.631944078874085,
          13.87045402697845,
          -117.15378033665752,
          189.46924748708102,
          -10.79937936369447,
          3.4328590110162622,
          -202.1280844727446,
          -99.49254929959989,
          3.533443219942683,
          -34.02149503731789,
          -23.777399601641036,
          31.913854212649994,
          -225.5568700904471,
          122.19802285069318,
          63.33063195196701,
          -51.48246497553964,
          48.132268115824445,
          -122.28306604774889,
          24.710119476306318,
          90.55868510783921,
          230.3113605061469,
          119.33315091820009,
          -107.19869581372495,
          -35.49966962189046,
          184.2825349541181,
          32.263859334193285,
          -11.559841002907206,
          -128.5929763640827,
          -65.00850943603132,
          -164.8646479438446,
          -70.30524626466581,
          -5.1794089711390825,
          137.9897469840971,
          -49.1705981866553,
          110.31367872128112,
          -34.411445633523726,
          137.04983667418355,
          10.836060127159726,
          85.69781292125208,
          -262.01530561988443,
          -15.458769220809245,
          -99.62700758616438,
          -44.49222307133596,
          -105.03720944150086,
          -141.73767131362183,
          -13.67044566892514,
          -21.305498845997136,
          -76.00174497138755,
          239.03242548301068,
          102.35252077357927,
          136.09904563966575,
          -208.0167668415245,
          -99.58916264196364,
          120.98805723806913,
          -170.8627186147071,
          156.3914542898283,
          195.32905557250524,
          115.04717847035363,
          -73.77032160945896,
          -175.47394098366908,
          6.682953586290523,
          -74.48558673849811,
          -15.932692244016152,
          -80.72418559085463,
          -97.46677772920339,
          62.38861243787369,
          188.68217074083805,
          -89.6369417833057,
          23.457020532670185,
          -65.12521496853901,
          81.17297799574044,
          -121.44252166151159,
          48.86826729262452,
          93.75623894662317,
          7.797361368214524,
          44.433271937773725,
          61.50274208016117,
          -8.718193025646315,
          3.775722158719873,
          149.3671593806912,
          89.83863035684885,
          54.616207089838326,
          -145.7471689718193,
          -137.50189828206862,
          110.08069681044731,
          17.350359282918134,
          44.66025705951597,
          -139.68732820828518,
          -91.22834100900377,
          -76.60149566630753,
          -127.99650075767408,
          183.10917083974277,
          -101.70381777641978,
          96.86448450024068,
          -24.783810528256254,
          7.573500973810269,
          -220.89266947422198,
          -36.68543350579557,
          132.149290503339,
          140.6965047555468,
          162.59052532635155,
          47.26014661479985,
          149.97930773690337,
          77.4074768993828,
          -44.10658035478127,
          144.71719934392922,
          -61.122911745236024,
          -105.1462322115151,
          -36.12387685101021,
          38.87731612521361,
          -67.24008022327689,
          76.01816931904091,
          -163.93941673402674,
          -162.90436943237637,
          110.54694321748639,
          110.41394141969499,
          -17.713317722196507,
          -131.40417450471273,
          22.07485896659614,
          -118.99945595472354,
          23.229529582343275,
          71.39476173209619,
          -28.404795493004258,
          75.20621259224049,
          10.923573769646964,
          124.03995169253017,
          106.89027204873992,
          68.93648830506072,
          -11.822422162460498,
          -157.4346538328357,
          38.28865555161087,
          -82.11343088061744,
          -186.35580142176377,
          -57.53491562343811,
          89.0715679419443,
          215.18381852085395,
          97.10494511268689,
          93.60676096189286,
          -49.420835536765026,
          67.43029865263179,
          87.24667412909957,
          57.43394852917322,
          206.91670052877703,
          -22.79859498871633,
          50.273520836061834,
          -6.399249175010027,
          50.350219519237726,
          -86.15703027159225,
          89.92490049872958,
          -73.50276562859449,
          -97.60025390295164,
          -89.86353295890126,
          -183.2854531357193,
          -64.20265244580673,
          133.5841302584995,
          -136.8208121740936,
          87.3531932193257,
          99.76692735211395,
          -129.31627615276966,
          -122.03213118775807,
          -6.815615117026709,
          -106.01473608758715,
          103.09483382547046,
          89.72496312107728,
          46.35993681650916,
          213.55249901862612,
          119.97815418339155,
          -2.0976467456064256,
          32.54494504925765,
          -2.0383544885503397,
          -16.41143918998091,
          205.99911870591382,
          -64.6055125378798,
          57.285625470580044,
          35.60335149914613,
          -70.40790529604487,
          -146.60247052548084,
          37.962103877580375,
          -100.3225340510819,
          -37.82965775113257,
          -132.2728292529423,
          43.21620169046582,
          125.95726775534831,
          5.822757485674856,
          20.833166250031354,
          -72.97804165663797,
          -18.25319848489812,
          -100.08088727771838,
          151.13079290088876,
          -240.01650682102195,
          -29.92311720677594,
          -108.95177710023654,
          8.298814853983913,
          10.293162057736026,
          -94.68514217802772,
          -51.125345240277284,
          -94.14594244125124,
          29.90036358772818,
          258.47859565617364,
          -134.8940897573434,
          -173.8744173555931,
          -109.6410130897084,
          196.8852595513954,
          80.91378543643782,
          153.61705965170177,
          -45.99909896991517,
          51.96111717525105,
          -89.63724398655404,
          84.38860448957007,
          -34.35140681812072,
          20.416723681219764,
          105.39828883301811,
          -2.647940174128962,
          -86.1785085700501,
          -70.63037923483694,
          -75.70928559824165,
          75.82288825700039,
          -92.4812600651594,
          -171.5461468326007,
          -64.84323380335582,
          18.580660104751587,
          61.43825290018094,
          103.31012915639735,
          211.51094356660633,
          26.68314299308281,
          -193.3230352514131,
          98.57981474941062,
          87.16415632904045,
          -3.1620426207646233,
          170.25766728545113,
          208.05714220596246,
          130.04978896427542,
          -12.666704684916112,
          -42.50646431787936,
          41.9689841870827,
          266.42418604905106,
          31.177024341865263,
          99.20629463789305,
          -30.936437590924243,
          -50.316072442441964,
          67.8133357142658,
          67.3688455814015,
          58.653944589151024,
          -152.03382874890463,
          -124.77411691143084,
          74.43315773933091,
          28.535521152415413,
          12.121101125630503,
          60.74546265137087,
          -222.8424319976084,
          51.75586836652997,
          35.44705412358962,
          -203.61871001781492,
          56.12754850015085,
          -61.81464053189711,
          24.7165250334308,
          45.56141058166145,
          1.7216614296244188,
          -116.09447332668742,
          -84.61548534591861,
          84.04541238847423,
          174.91208720127042,
          229.93941553616924,
          154.0433131472132,
          -118.45944493687716,
          142.05319832684017,
          -207.48779091142933,
          108.78119612657247,
          -21.17684514570624,
          -101.44301802196537,
          41.67438691322786,
          19.639109877912688,
          -118.11195414667168,
          -66.50016006314081,
          50.006360897318245,
          102.88179568390115
         ],
         "xaxis": "x",
         "y": [
          "0",
          "1",
          "3",
          "3",
          "3",
          "3",
          "0",
          "0",
          "1",
          "0",
          "3",
          "1",
          "1",
          "3",
          "1",
          "3",
          "3",
          "3",
          "1",
          "1",
          "3",
          "0",
          "3",
          "1",
          "3",
          "0",
          "0",
          "3",
          "1",
          "3",
          "0",
          "3",
          "3",
          "3",
          "3",
          "1",
          "3",
          "1",
          "0",
          "0",
          "1",
          "3",
          "3",
          "1",
          "3",
          "1",
          "3",
          "1",
          "3",
          "0",
          "1",
          "3",
          "3",
          "0",
          "1",
          "3",
          "3",
          "1",
          "3",
          "3",
          "0",
          "3",
          "0",
          "1",
          "3",
          "0",
          "3",
          "3",
          "0",
          "1",
          "0",
          "0",
          "1",
          "3",
          "3",
          "1",
          "3",
          "3",
          "3",
          "3",
          "3",
          "0",
          "3",
          "3",
          "3",
          "0",
          "1",
          "3",
          "1",
          "3",
          "1",
          "3",
          "1",
          "1",
          "0",
          "0",
          "3",
          "1",
          "3",
          "3",
          "3",
          "1",
          "0",
          "3",
          "3",
          "3",
          "3",
          "3",
          "3",
          "1",
          "1",
          "0",
          "3",
          "0",
          "0",
          "3",
          "0",
          "3",
          "3",
          "3",
          "1",
          "0",
          "1",
          "0",
          "3",
          "3",
          "0",
          "1",
          "3",
          "3",
          "0",
          "0",
          "0",
          "0",
          "3",
          "0",
          "0",
          "0",
          "3",
          "3",
          "3",
          "3",
          "3",
          "0",
          "0",
          "0",
          "1",
          "0",
          "0",
          "0",
          "0",
          "0",
          "3",
          "3",
          "3",
          "0",
          "0",
          "3",
          "0",
          "1",
          "1",
          "3",
          "0",
          "0",
          "0",
          "1",
          "3",
          "0",
          "0",
          "1",
          "3",
          "0",
          "1",
          "0",
          "1",
          "0",
          "3",
          "3",
          "3",
          "3",
          "3",
          "0",
          "3",
          "3",
          "3",
          "3",
          "0",
          "1",
          "3",
          "1",
          "3",
          "0",
          "1",
          "1",
          "1",
          "3",
          "1",
          "3",
          "0",
          "1",
          "3",
          "3",
          "3",
          "3",
          "3",
          "0",
          "1",
          "3",
          "3",
          "1",
          "1",
          "0",
          "3",
          "3",
          "1",
          "1",
          "1",
          "0",
          "3",
          "3",
          "0",
          "0",
          "0",
          "1",
          "3",
          "0",
          "0",
          "1",
          "0",
          "3",
          "3",
          "1",
          "3",
          "0",
          "3",
          "0",
          "0",
          "1",
          "3",
          "3",
          "3",
          "3",
          "3",
          "3",
          "3",
          "3",
          "3",
          "3",
          "1",
          "3",
          "3",
          "3",
          "3",
          "0",
          "1",
          "3",
          "0",
          "1",
          "1",
          "0",
          "3",
          "3",
          "0",
          "0",
          "0",
          "1",
          "1",
          "3",
          "1",
          "3",
          "3",
          "1",
          "3",
          "1",
          "3",
          "3",
          "0",
          "3",
          "3",
          "1",
          "0",
          "3",
          "0",
          "1",
          "0",
          "3",
          "3",
          "3",
          "3",
          "0",
          "0",
          "0",
          "3",
          "0",
          "0",
          "1",
          "3",
          "3",
          "0",
          "0",
          "0",
          "0",
          "3",
          "1",
          "0",
          "0",
          "1",
          "3",
          "3",
          "3",
          "1",
          "1",
          "3",
          "0",
          "3",
          "3",
          "1",
          "3",
          "0",
          "0",
          "3",
          "0",
          "0",
          "1",
          "3",
          "3",
          "3",
          "3",
          "3",
          "0",
          "3",
          "3",
          "1",
          "3",
          "3",
          "3",
          "3",
          "3",
          "3",
          "3",
          "0",
          "3",
          "0",
          "3",
          "3",
          "0",
          "3",
          "1",
          "0",
          "3",
          "3",
          "1",
          "3",
          "0",
          "3",
          "0",
          "0",
          "3",
          "0",
          "1",
          "1",
          "1",
          "0",
          "3",
          "3",
          "3",
          "3",
          "1",
          "1",
          "3",
          "1",
          "3",
          "3",
          "0",
          "3",
          "1",
          "1",
          "3",
          "3",
          "3"
         ],
         "yaxis": "y"
        },
        {
         "customdata": [
          [
           "Burnley FC (0) - Manchester City FC (3) on 2023-08-11 19:00:00+00:00"
          ],
          [
           "Arsenal FC (2) - Nottingham Forest FC (1) on 2023-08-12 12:00:00+00:00"
          ],
          [
           "AFC Bournemouth (1) - West Ham United FC (1) on 2023-08-12 14:00:00+00:00"
          ],
          [
           "Brighton & Hove Albion FC (4) - Luton Town FC (1) on 2023-08-12 14:00:00+00:00"
          ],
          [
           "Everton FC (0) - Fulham FC (1) on 2023-08-12 14:00:00+00:00"
          ],
          [
           "Sheffield United FC (0) - Crystal Palace FC (1) on 2023-08-12 14:00:00+00:00"
          ],
          [
           "Newcastle United FC (5) - Aston Villa FC (1) on 2023-08-12 16:30:00+00:00"
          ],
          [
           "Brentford FC (2) - Tottenham Hotspur FC (2) on 2023-08-13 13:00:00+00:00"
          ],
          [
           "Chelsea FC (1) - Liverpool FC (1) on 2023-08-13 15:30:00+00:00"
          ],
          [
           "Manchester United FC (1) - Wolverhampton Wanderers FC (0) on 2023-08-14 19:00:00+00:00"
          ],
          [
           "Nottingham Forest FC (2) - Sheffield United FC (1) on 2023-08-18 18:45:00+00:00"
          ],
          [
           "Fulham FC (0) - Brentford FC (3) on 2023-08-19 14:00:00+00:00"
          ],
          [
           "Liverpool FC (3) - AFC Bournemouth (1) on 2023-08-19 14:00:00+00:00"
          ],
          [
           "Wolverhampton Wanderers FC (1) - Brighton & Hove Albion FC (4) on 2023-08-19 14:00:00+00:00"
          ],
          [
           "Tottenham Hotspur FC (2) - Manchester United FC (0) on 2023-08-19 16:30:00+00:00"
          ],
          [
           "Manchester City FC (1) - Newcastle United FC (0) on 2023-08-19 19:00:00+00:00"
          ],
          [
           "Aston Villa FC (4) - Everton FC (0) on 2023-08-20 13:00:00+00:00"
          ],
          [
           "West Ham United FC (3) - Chelsea FC (1) on 2023-08-20 15:30:00+00:00"
          ],
          [
           "Crystal Palace FC (0) - Arsenal FC (1) on 2023-08-21 19:00:00+00:00"
          ],
          [
           "Chelsea FC (3) - Luton Town FC (0) on 2023-08-25 19:00:00+00:00"
          ],
          [
           "AFC Bournemouth (0) - Tottenham Hotspur FC (2) on 2023-08-26 11:30:00+00:00"
          ],
          [
           "Everton FC (0) - Wolverhampton Wanderers FC (1) on 2023-08-26 14:00:00+00:00"
          ],
          [
           "Manchester United FC (3) - Nottingham Forest FC (2) on 2023-08-26 14:00:00+00:00"
          ],
          [
           "Arsenal FC (2) - Fulham FC (2) on 2023-08-26 14:00:00+00:00"
          ],
          [
           "Brentford FC (1) - Crystal Palace FC (1) on 2023-08-26 14:00:00+00:00"
          ],
          [
           "Brighton & Hove Albion FC (1) - West Ham United FC (3) on 2023-08-26 16:30:00+00:00"
          ],
          [
           "Sheffield United FC (1) - Manchester City FC (2) on 2023-08-27 13:00:00+00:00"
          ],
          [
           "Burnley FC (1) - Aston Villa FC (3) on 2023-08-27 13:00:00+00:00"
          ],
          [
           "Newcastle United FC (1) - Liverpool FC (2) on 2023-08-27 15:30:00+00:00"
          ],
          [
           "Luton Town FC (1) - West Ham United FC (2) on 2023-09-01 19:00:00+00:00"
          ],
          [
           "Sheffield United FC (2) - Everton FC (2) on 2023-09-02 11:30:00+00:00"
          ],
          [
           "Brentford FC (2) - AFC Bournemouth (2) on 2023-09-02 14:00:00+00:00"
          ],
          [
           "Burnley FC (2) - Tottenham Hotspur FC (5) on 2023-09-02 14:00:00+00:00"
          ],
          [
           "Chelsea FC (0) - Nottingham Forest FC (1) on 2023-09-02 14:00:00+00:00"
          ],
          [
           "Manchester City FC (5) - Fulham FC (1) on 2023-09-02 14:00:00+00:00"
          ],
          [
           "Brighton & Hove Albion FC (3) - Newcastle United FC (1) on 2023-09-02 16:30:00+00:00"
          ],
          [
           "Crystal Palace FC (3) - Wolverhampton Wanderers FC (2) on 2023-09-03 13:00:00+00:00"
          ],
          [
           "Liverpool FC (3) - Aston Villa FC (0) on 2023-09-03 13:00:00+00:00"
          ],
          [
           "Arsenal FC (3) - Manchester United FC (1) on 2023-09-03 15:30:00+00:00"
          ],
          [
           "Wolverhampton Wanderers FC (1) - Liverpool FC (3) on 2023-09-16 11:30:00+00:00"
          ],
          [
           "Aston Villa FC (3) - Crystal Palace FC (1) on 2023-09-16 14:00:00+00:00"
          ],
          [
           "Fulham FC (1) - Luton Town FC (0) on 2023-09-16 14:00:00+00:00"
          ],
          [
           "Manchester United FC (1) - Brighton & Hove Albion FC (3) on 2023-09-16 14:00:00+00:00"
          ],
          [
           "Tottenham Hotspur FC (2) - Sheffield United FC (1) on 2023-09-16 14:00:00+00:00"
          ],
          [
           "West Ham United FC (1) - Manchester City FC (3) on 2023-09-16 14:00:00+00:00"
          ],
          [
           "Newcastle United FC (1) - Brentford FC (0) on 2023-09-16 16:30:00+00:00"
          ],
          [
           "AFC Bournemouth (0) - Chelsea FC (0) on 2023-09-17 13:00:00+00:00"
          ],
          [
           "Everton FC (0) - Arsenal FC (1) on 2023-09-17 15:30:00+00:00"
          ],
          [
           "Nottingham Forest FC (1) - Burnley FC (1) on 2023-09-18 18:45:00+00:00"
          ],
          [
           "Crystal Palace FC (0) - Fulham FC (0) on 2023-09-23 14:00:00+00:00"
          ],
          [
           "Luton Town FC (1) - Wolverhampton Wanderers FC (1) on 2023-09-23 14:00:00+00:00"
          ],
          [
           "Manchester City FC (2) - Nottingham Forest FC (0) on 2023-09-23 14:00:00+00:00"
          ],
          [
           "Brentford FC (1) - Everton FC (3) on 2023-09-23 16:30:00+00:00"
          ],
          [
           "Burnley FC (0) - Manchester United FC (1) on 2023-09-23 19:00:00+00:00"
          ],
          [
           "Arsenal FC (2) - Tottenham Hotspur FC (2) on 2023-09-24 13:00:00+00:00"
          ],
          [
           "Brighton & Hove Albion FC (3) - AFC Bournemouth (1) on 2023-09-24 13:00:00+00:00"
          ],
          [
           "Chelsea FC (0) - Aston Villa FC (1) on 2023-09-24 13:00:00+00:00"
          ],
          [
           "Liverpool FC (3) - West Ham United FC (1) on 2023-09-24 13:00:00+00:00"
          ],
          [
           "Sheffield United FC (0) - Newcastle United FC (8) on 2023-09-24 15:30:00+00:00"
          ],
          [
           "Aston Villa FC (6) - Brighton & Hove Albion FC (1) on 2023-09-30 11:30:00+00:00"
          ],
          [
           "AFC Bournemouth (0) - Arsenal FC (4) on 2023-09-30 14:00:00+00:00"
          ],
          [
           "Everton FC (1) - Luton Town FC (2) on 2023-09-30 14:00:00+00:00"
          ],
          [
           "Manchester United FC (0) - Crystal Palace FC (1) on 2023-09-30 14:00:00+00:00"
          ],
          [
           "Newcastle United FC (2) - Burnley FC (0) on 2023-09-30 14:00:00+00:00"
          ],
          [
           "West Ham United FC (2) - Sheffield United FC (0) on 2023-09-30 14:00:00+00:00"
          ],
          [
           "Wolverhampton Wanderers FC (2) - Manchester City FC (1) on 2023-09-30 14:00:00+00:00"
          ],
          [
           "Tottenham Hotspur FC (2) - Liverpool FC (1) on 2023-09-30 16:30:00+00:00"
          ],
          [
           "Nottingham Forest FC (1) - Brentford FC (1) on 2023-10-01 13:00:00+00:00"
          ],
          [
           "Fulham FC (0) - Chelsea FC (2) on 2023-10-02 19:00:00+00:00"
          ],
          [
           "Luton Town FC (1) - Burnley FC (2) on 2023-10-03 18:30:00+00:00"
          ],
          [
           "Luton Town FC (0) - Tottenham Hotspur FC (1) on 2023-10-07 11:30:00+00:00"
          ],
          [
           "Burnley FC (1) - Chelsea FC (4) on 2023-10-07 14:00:00+00:00"
          ],
          [
           "Everton FC (3) - AFC Bournemouth (0) on 2023-10-07 14:00:00+00:00"
          ],
          [
           "Fulham FC (3) - Sheffield United FC (1) on 2023-10-07 14:00:00+00:00"
          ],
          [
           "Manchester United FC (2) - Brentford FC (1) on 2023-10-07 14:00:00+00:00"
          ],
          [
           "Crystal Palace FC (0) - Nottingham Forest FC (0) on 2023-10-07 16:30:00+00:00"
          ],
          [
           "Brighton & Hove Albion FC (2) - Liverpool FC (2) on 2023-10-08 13:00:00+00:00"
          ],
          [
           "West Ham United FC (2) - Newcastle United FC (2) on 2023-10-08 13:00:00+00:00"
          ],
          [
           "Wolverhampton Wanderers FC (1) - Aston Villa FC (1) on 2023-10-08 13:00:00+00:00"
          ],
          [
           "Arsenal FC (1) - Manchester City FC (0) on 2023-10-08 15:30:00+00:00"
          ],
          [
           "Liverpool FC (2) - Everton FC (0) on 2023-10-21 11:30:00+00:00"
          ],
          [
           "AFC Bournemouth (1) - Wolverhampton Wanderers FC (2) on 2023-10-21 14:00:00+00:00"
          ],
          [
           "Brentford FC (3) - Burnley FC (0) on 2023-10-21 14:00:00+00:00"
          ],
          [
           "Manchester City FC (2) - Brighton & Hove Albion FC (1) on 2023-10-21 14:00:00+00:00"
          ],
          [
           "Newcastle United FC (4) - Crystal Palace FC (0) on 2023-10-21 14:00:00+00:00"
          ],
          [
           "Nottingham Forest FC (2) - Luton Town FC (2) on 2023-10-21 14:00:00+00:00"
          ],
          [
           "Chelsea FC (2) - Arsenal FC (2) on 2023-10-21 16:30:00+00:00"
          ],
          [
           "Sheffield United FC (1) - Manchester United FC (2) on 2023-10-21 19:00:00+00:00"
          ],
          [
           "Aston Villa FC (4) - West Ham United FC (1) on 2023-10-22 15:30:00+00:00"
          ],
          [
           "Tottenham Hotspur FC (2) - Fulham FC (0) on 2023-10-23 19:00:00+00:00"
          ],
          [
           "Crystal Palace FC (1) - Tottenham Hotspur FC (2) on 2023-10-27 19:00:00+00:00"
          ],
          [
           "Chelsea FC (0) - Brentford FC (2) on 2023-10-28 11:30:00+00:00"
          ],
          [
           "AFC Bournemouth (2) - Burnley FC (1) on 2023-10-28 14:00:00+00:00"
          ],
          [
           "Arsenal FC (5) - Sheffield United FC (0) on 2023-10-28 14:00:00+00:00"
          ],
          [
           "Wolverhampton Wanderers FC (2) - Newcastle United FC (2) on 2023-10-28 16:30:00+00:00"
          ],
          [
           "West Ham United FC (0) - Everton FC (1) on 2023-10-29 13:00:00+00:00"
          ],
          [
           "Aston Villa FC (3) - Luton Town FC (1) on 2023-10-29 14:00:00+00:00"
          ],
          [
           "Brighton & Hove Albion FC (1) - Fulham FC (1) on 2023-10-29 14:00:00+00:00"
          ],
          [
           "Liverpool FC (3) - Nottingham Forest FC (0) on 2023-10-29 14:00:00+00:00"
          ],
          [
           "Manchester United FC (0) - Manchester City FC (3) on 2023-10-29 15:30:00+00:00"
          ],
          [
           "Fulham FC (0) - Manchester United FC (1) on 2023-11-04 12:30:00+00:00"
          ],
          [
           "Brentford FC (3) - West Ham United FC (2) on 2023-11-04 15:00:00+00:00"
          ],
          [
           "Burnley FC (0) - Crystal Palace FC (2) on 2023-11-04 15:00:00+00:00"
          ],
          [
           "Everton FC (1) - Brighton & Hove Albion FC (1) on 2023-11-04 15:00:00+00:00"
          ],
          [
           "Manchester City FC (6) - AFC Bournemouth (1) on 2023-11-04 15:00:00+00:00"
          ],
          [
           "Sheffield United FC (2) - Wolverhampton Wanderers FC (1) on 2023-11-04 15:00:00+00:00"
          ],
          [
           "Newcastle United FC (1) - Arsenal FC (0) on 2023-11-04 17:30:00+00:00"
          ],
          [
           "Nottingham Forest FC (2) - Aston Villa FC (0) on 2023-11-05 14:00:00+00:00"
          ],
          [
           "Luton Town FC (1) - Liverpool FC (1) on 2023-11-05 16:30:00+00:00"
          ],
          [
           "Tottenham Hotspur FC (1) - Chelsea FC (4) on 2023-11-06 20:00:00+00:00"
          ],
          [
           "Wolverhampton Wanderers FC (2) - Tottenham Hotspur FC (1) on 2023-11-11 12:30:00+00:00"
          ],
          [
           "Arsenal FC (3) - Burnley FC (1) on 2023-11-11 15:00:00+00:00"
          ],
          [
           "Crystal Palace FC (2) - Everton FC (3) on 2023-11-11 15:00:00+00:00"
          ],
          [
           "Manchester United FC (1) - Luton Town FC (0) on 2023-11-11 15:00:00+00:00"
          ],
          [
           "AFC Bournemouth (2) - Newcastle United FC (0) on 2023-11-11 17:30:00+00:00"
          ],
          [
           "Aston Villa FC (3) - Fulham FC (1) on 2023-11-12 14:00:00+00:00"
          ],
          [
           "Brighton & Hove Albion FC (1) - Sheffield United FC (1) on 2023-11-12 14:00:00+00:00"
          ],
          [
           "Liverpool FC (3) - Brentford FC (0) on 2023-11-12 14:00:00+00:00"
          ],
          [
           "West Ham United FC (3) - Nottingham Forest FC (2) on 2023-11-12 14:00:00+00:00"
          ],
          [
           "Chelsea FC (4) - Manchester City FC (4) on 2023-11-12 16:30:00+00:00"
          ],
          [
           "Manchester City FC (1) - Liverpool FC (1) on 2023-11-25 12:30:00+00:00"
          ],
          [
           "Burnley FC (1) - West Ham United FC (2) on 2023-11-25 15:00:00+00:00"
          ],
          [
           "Luton Town FC (2) - Crystal Palace FC (1) on 2023-11-25 15:00:00+00:00"
          ],
          [
           "Newcastle United FC (4) - Chelsea FC (1) on 2023-11-25 15:00:00+00:00"
          ],
          [
           "Nottingham Forest FC (2) - Brighton & Hove Albion FC (3) on 2023-11-25 15:00:00+00:00"
          ],
          [
           "Sheffield United FC (1) - AFC Bournemouth (3) on 2023-11-25 15:00:00+00:00"
          ],
          [
           "Brentford FC (0) - Arsenal FC (1) on 2023-11-25 17:30:00+00:00"
          ],
          [
           "Tottenham Hotspur FC (1) - Aston Villa FC (2) on 2023-11-26 14:00:00+00:00"
          ],
          [
           "Everton FC (0) - Manchester United FC (3) on 2023-11-26 16:30:00+00:00"
          ],
          [
           "Fulham FC (3) - Wolverhampton Wanderers FC (2) on 2023-11-27 20:00:00+00:00"
          ],
          [
           "Arsenal FC (2) - Wolverhampton Wanderers FC (1) on 2023-12-02 15:00:00+00:00"
          ],
          [
           "Brentford FC (3) - Luton Town FC (1) on 2023-12-02 15:00:00+00:00"
          ],
          [
           "Burnley FC (5) - Sheffield United FC (0) on 2023-12-02 15:00:00+00:00"
          ],
          [
           "Nottingham Forest FC (0) - Everton FC (1) on 2023-12-02 17:30:00+00:00"
          ],
          [
           "Newcastle United FC (1) - Manchester United FC (0) on 2023-12-02 20:00:00+00:00"
          ],
          [
           "AFC Bournemouth (2) - Aston Villa FC (2) on 2023-12-03 14:00:00+00:00"
          ],
          [
           "Chelsea FC (3) - Brighton & Hove Albion FC (2) on 2023-12-03 14:00:00+00:00"
          ],
          [
           "Liverpool FC (4) - Fulham FC (3) on 2023-12-03 14:00:00+00:00"
          ],
          [
           "West Ham United FC (1) - Crystal Palace FC (1) on 2023-12-03 14:00:00+00:00"
          ],
          [
           "Manchester City FC (3) - Tottenham Hotspur FC (3) on 2023-12-03 16:30:00+00:00"
          ],
          [
           "Wolverhampton Wanderers FC (1) - Burnley FC (0) on 2023-12-05 19:30:00+00:00"
          ],
          [
           "Luton Town FC (3) - Arsenal FC (4) on 2023-12-05 20:15:00+00:00"
          ],
          [
           "Brighton & Hove Albion FC (2) - Brentford FC (1) on 2023-12-06 19:30:00+00:00"
          ],
          [
           "Fulham FC (5) - Nottingham Forest FC (0) on 2023-12-06 19:30:00+00:00"
          ],
          [
           "Sheffield United FC (0) - Liverpool FC (2) on 2023-12-06 19:30:00+00:00"
          ],
          [
           "Crystal Palace FC (0) - AFC Bournemouth (2) on 2023-12-06 19:30:00+00:00"
          ],
          [
           "Aston Villa FC (1) - Manchester City FC (0) on 2023-12-06 20:15:00+00:00"
          ],
          [
           "Manchester United FC (2) - Chelsea FC (1) on 2023-12-06 20:15:00+00:00"
          ],
          [
           "Everton FC (3) - Newcastle United FC (0) on 2023-12-07 19:30:00+00:00"
          ],
          [
           "Tottenham Hotspur FC (1) - West Ham United FC (2) on 2023-12-07 20:15:00+00:00"
          ],
          [
           "Crystal Palace FC (1) - Liverpool FC (2) on 2023-12-09 12:30:00+00:00"
          ],
          [
           "Brighton & Hove Albion FC (1) - Burnley FC (1) on 2023-12-09 15:00:00+00:00"
          ],
          [
           "Manchester United FC (0) - AFC Bournemouth (3) on 2023-12-09 15:00:00+00:00"
          ],
          [
           "Sheffield United FC (1) - Brentford FC (0) on 2023-12-09 15:00:00+00:00"
          ],
          [
           "Wolverhampton Wanderers FC (1) - Nottingham Forest FC (1) on 2023-12-09 15:00:00+00:00"
          ],
          [
           "Aston Villa FC (1) - Arsenal FC (0) on 2023-12-09 17:30:00+00:00"
          ],
          [
           "Everton FC (2) - Chelsea FC (0) on 2023-12-10 14:00:00+00:00"
          ],
          [
           "Fulham FC (5) - West Ham United FC (0) on 2023-12-10 14:00:00+00:00"
          ],
          [
           "Luton Town FC (1) - Manchester City FC (2) on 2023-12-10 14:00:00+00:00"
          ],
          [
           "Tottenham Hotspur FC (4) - Newcastle United FC (1) on 2023-12-10 16:30:00+00:00"
          ],
          [
           "Nottingham Forest FC (0) - Tottenham Hotspur FC (2) on 2023-12-15 20:00:00+00:00"
          ],
          [
           "Chelsea FC (2) - Sheffield United FC (0) on 2023-12-16 15:00:00+00:00"
          ],
          [
           "Manchester City FC (2) - Crystal Palace FC (2) on 2023-12-16 15:00:00+00:00"
          ],
          [
           "Newcastle United FC (3) - Fulham FC (0) on 2023-12-16 15:00:00+00:00"
          ],
          [
           "Burnley FC (0) - Everton FC (2) on 2023-12-16 17:30:00+00:00"
          ],
          [
           "Arsenal FC (2) - Brighton & Hove Albion FC (0) on 2023-12-17 14:00:00+00:00"
          ],
          [
           "Brentford FC (1) - Aston Villa FC (2) on 2023-12-17 14:00:00+00:00"
          ],
          [
           "West Ham United FC (3) - Wolverhampton Wanderers FC (0) on 2023-12-17 14:00:00+00:00"
          ],
          [
           "Liverpool FC (0) - Manchester United FC (0) on 2023-12-17 16:30:00+00:00"
          ],
          [
           "Crystal Palace FC (1) - Brighton & Hove Albion FC (1) on 2023-12-21 20:00:00+00:00"
          ],
          [
           "Aston Villa FC (1) - Sheffield United FC (1) on 2023-12-22 20:00:00+00:00"
          ],
          [
           "West Ham United FC (2) - Manchester United FC (0) on 2023-12-23 12:30:00+00:00"
          ],
          [
           "Fulham FC (0) - Burnley FC (2) on 2023-12-23 15:00:00+00:00"
          ],
          [
           "Luton Town FC (1) - Newcastle United FC (0) on 2023-12-23 15:00:00+00:00"
          ],
          [
           "Nottingham Forest FC (2) - AFC Bournemouth (3) on 2023-12-23 15:00:00+00:00"
          ],
          [
           "Tottenham Hotspur FC (2) - Everton FC (1) on 2023-12-23 15:00:00+00:00"
          ],
          [
           "Liverpool FC (1) - Arsenal FC (1) on 2023-12-23 17:30:00+00:00"
          ],
          [
           "Wolverhampton Wanderers FC (2) - Chelsea FC (1) on 2023-12-24 13:00:00+00:00"
          ],
          [
           "Newcastle United FC (1) - Nottingham Forest FC (3) on 2023-12-26 12:30:00+00:00"
          ],
          [
           "AFC Bournemouth (3) - Fulham FC (0) on 2023-12-26 15:00:00+00:00"
          ],
          [
           "Sheffield United FC (2) - Luton Town FC (3) on 2023-12-26 15:00:00+00:00"
          ],
          [
           "Burnley FC (0) - Liverpool FC (2) on 2023-12-26 17:30:00+00:00"
          ],
          [
           "Manchester United FC (3) - Aston Villa FC (2) on 2023-12-26 20:00:00+00:00"
          ],
          [
           "Brentford FC (1) - Wolverhampton Wanderers FC (4) on 2023-12-27 19:30:00+00:00"
          ],
          [
           "Chelsea FC (2) - Crystal Palace FC (1) on 2023-12-27 19:30:00+00:00"
          ],
          [
           "Everton FC (1) - Manchester City FC (3) on 2023-12-27 20:15:00+00:00"
          ],
          [
           "Brighton & Hove Albion FC (4) - Tottenham Hotspur FC (2) on 2023-12-28 19:30:00+00:00"
          ],
          [
           "Arsenal FC (0) - West Ham United FC (2) on 2023-12-28 20:15:00+00:00"
          ],
          [
           "Luton Town FC (2) - Chelsea FC (3) on 2023-12-30 12:30:00+00:00"
          ],
          [
           "Aston Villa FC (3) - Burnley FC (2) on 2023-12-30 15:00:00+00:00"
          ],
          [
           "Crystal Palace FC (3) - Brentford FC (1) on 2023-12-30 15:00:00+00:00"
          ],
          [
           "Manchester City FC (2) - Sheffield United FC (0) on 2023-12-30 15:00:00+00:00"
          ],
          [
           "Wolverhampton Wanderers FC (3) - Everton FC (0) on 2023-12-30 15:00:00+00:00"
          ],
          [
           "Nottingham Forest FC (2) - Manchester United FC (1) on 2023-12-30 17:30:00+00:00"
          ],
          [
           "Fulham FC (2) - Arsenal FC (1) on 2023-12-31 14:00:00+00:00"
          ],
          [
           "Tottenham Hotspur FC (3) - AFC Bournemouth (1) on 2023-12-31 14:00:00+00:00"
          ],
          [
           "Liverpool FC (4) - Newcastle United FC (2) on 2024-01-01 20:00:00+00:00"
          ],
          [
           "West Ham United FC (0) - Brighton & Hove Albion FC (0) on 2024-01-02 19:30:00+00:00"
          ],
          [
           "Burnley FC (1) - Luton Town FC (1) on 2024-01-12 19:45:00+00:00"
          ],
          [
           "Chelsea FC (1) - Fulham FC (0) on 2024-01-13 12:30:00+00:00"
          ],
          [
           "Newcastle United FC (2) - Manchester City FC (3) on 2024-01-13 17:30:00+00:00"
          ],
          [
           "Everton FC (0) - Aston Villa FC (0) on 2024-01-14 14:00:00+00:00"
          ],
          [
           "Manchester United FC (2) - Tottenham Hotspur FC (2) on 2024-01-14 16:30:00+00:00"
          ],
          [
           "Arsenal FC (5) - Crystal Palace FC (0) on 2024-01-20 12:30:00+00:00"
          ],
          [
           "Brentford FC (3) - Nottingham Forest FC (2) on 2024-01-20 17:30:00+00:00"
          ],
          [
           "Sheffield United FC (2) - West Ham United FC (2) on 2024-01-21 14:00:00+00:00"
          ],
          [
           "AFC Bournemouth (0) - Liverpool FC (4) on 2024-01-21 16:30:00+00:00"
          ],
          [
           "Brighton & Hove Albion FC (0) - Wolverhampton Wanderers FC (0) on 2024-01-22 19:45:00+00:00"
          ],
          [
           "Nottingham Forest FC (1) - Arsenal FC (2) on 2024-01-30 19:30:00+00:00"
          ],
          [
           "Luton Town FC (4) - Brighton & Hove Albion FC (0) on 2024-01-30 19:45:00+00:00"
          ],
          [
           "Fulham FC (0) - Everton FC (0) on 2024-01-30 19:45:00+00:00"
          ],
          [
           "Crystal Palace FC (3) - Sheffield United FC (2) on 2024-01-30 20:00:00+00:00"
          ],
          [
           "Aston Villa FC (1) - Newcastle United FC (3) on 2024-01-30 20:15:00+00:00"
          ],
          [
           "Tottenham Hotspur FC (3) - Brentford FC (2) on 2024-01-31 19:30:00+00:00"
          ],
          [
           "Manchester City FC (3) - Burnley FC (1) on 2024-01-31 19:30:00+00:00"
          ],
          [
           "Liverpool FC (4) - Chelsea FC (1) on 2024-01-31 20:15:00+00:00"
          ],
          [
           "West Ham United FC (1) - AFC Bournemouth (1) on 2024-02-01 19:30:00+00:00"
          ],
          [
           "Wolverhampton Wanderers FC (3) - Manchester United FC (4) on 2024-02-01 20:15:00+00:00"
          ],
          [
           "Everton FC (2) - Tottenham Hotspur FC (2) on 2024-02-03 12:30:00+00:00"
          ],
          [
           "Brighton & Hove Albion FC (4) - Crystal Palace FC (1) on 2024-02-03 15:00:00+00:00"
          ],
          [
           "Burnley FC (2) - Fulham FC (2) on 2024-02-03 15:00:00+00:00"
          ],
          [
           "Newcastle United FC (4) - Luton Town FC (4) on 2024-02-03 15:00:00+00:00"
          ],
          [
           "Sheffield United FC (0) - Aston Villa FC (5) on 2024-02-03 17:30:00+00:00"
          ],
          [
           "AFC Bournemouth (1) - Nottingham Forest FC (1) on 2024-02-04 14:00:00+00:00"
          ],
          [
           "Chelsea FC (2) - Wolverhampton Wanderers FC (4) on 2024-02-04 14:00:00+00:00"
          ],
          [
           "Manchester United FC (3) - West Ham United FC (0) on 2024-02-04 14:00:00+00:00"
          ],
          [
           "Arsenal FC (3) - Liverpool FC (1) on 2024-02-04 16:30:00+00:00"
          ],
          [
           "Brentford FC (1) - Manchester City FC (3) on 2024-02-05 20:00:00+00:00"
          ],
          [
           "Manchester City FC (2) - Everton FC (0) on 2024-02-10 12:30:00+00:00"
          ],
          [
           "Fulham FC (3) - AFC Bournemouth (1) on 2024-02-10 15:00:00+00:00"
          ],
          [
           "Liverpool FC (3) - Burnley FC (1) on 2024-02-10 15:00:00+00:00"
          ],
          [
           "Luton Town FC (1) - Sheffield United FC (3) on 2024-02-10 15:00:00+00:00"
          ],
          [
           "Tottenham Hotspur FC (2) - Brighton & Hove Albion FC (1) on 2024-02-10 15:00:00+00:00"
          ],
          [
           "Wolverhampton Wanderers FC (0) - Brentford FC (2) on 2024-02-10 15:00:00+00:00"
          ],
          [
           "Nottingham Forest FC (2) - Newcastle United FC (3) on 2024-02-10 17:30:00+00:00"
          ],
          [
           "West Ham United FC (0) - Arsenal FC (6) on 2024-02-11 14:00:00+00:00"
          ],
          [
           "Aston Villa FC (1) - Manchester United FC (2) on 2024-02-11 16:30:00+00:00"
          ],
          [
           "Crystal Palace FC (1) - Chelsea FC (3) on 2024-02-12 20:00:00+00:00"
          ],
          [
           "Brentford FC (1) - Liverpool FC (4) on 2024-02-17 12:30:00+00:00"
          ],
          [
           "Burnley FC (0) - Arsenal FC (5) on 2024-02-17 15:00:00+00:00"
          ],
          [
           "Fulham FC (1) - Aston Villa FC (2) on 2024-02-17 15:00:00+00:00"
          ],
          [
           "Newcastle United FC (2) - AFC Bournemouth (2) on 2024-02-17 15:00:00+00:00"
          ],
          [
           "Nottingham Forest FC (2) - West Ham United FC (0) on 2024-02-17 15:00:00+00:00"
          ],
          [
           "Tottenham Hotspur FC (1) - Wolverhampton Wanderers FC (2) on 2024-02-17 15:00:00+00:00"
          ],
          [
           "Manchester City FC (1) - Chelsea FC (1) on 2024-02-17 17:30:00+00:00"
          ],
          [
           "Sheffield United FC (0) - Brighton & Hove Albion FC (5) on 2024-02-18 14:00:00+00:00"
          ],
          [
           "Luton Town FC (1) - Manchester United FC (2) on 2024-02-18 16:30:00+00:00"
          ],
          [
           "Everton FC (1) - Crystal Palace FC (1) on 2024-02-19 20:00:00+00:00"
          ],
          [
           "Manchester City FC (1) - Brentford FC (0) on 2024-02-20 19:30:00+00:00"
          ],
          [
           "Liverpool FC (4) - Luton Town FC (1) on 2024-02-21 19:30:00+00:00"
          ],
          [
           "Aston Villa FC (4) - Nottingham Forest FC (2) on 2024-02-24 15:00:00+00:00"
          ],
          [
           "Brighton & Hove Albion FC (1) - Everton FC (1) on 2024-02-24 15:00:00+00:00"
          ],
          [
           "Crystal Palace FC (3) - Burnley FC (0) on 2024-02-24 15:00:00+00:00"
          ],
          [
           "Manchester United FC (1) - Fulham FC (2) on 2024-02-24 15:00:00+00:00"
          ],
          [
           "AFC Bournemouth (0) - Manchester City FC (1) on 2024-02-24 17:30:00+00:00"
          ],
          [
           "Arsenal FC (4) - Newcastle United FC (1) on 2024-02-24 20:00:00+00:00"
          ],
          [
           "Wolverhampton Wanderers FC (1) - Sheffield United FC (0) on 2024-02-25 13:30:00+00:00"
          ],
          [
           "West Ham United FC (4) - Brentford FC (2) on 2024-02-26 20:00:00+00:00"
          ],
          [
           "Brentford FC (2) - Chelsea FC (2) on 2024-03-02 15:00:00+00:00"
          ],
          [
           "Everton FC (1) - West Ham United FC (3) on 2024-03-02 15:00:00+00:00"
          ],
          [
           "Fulham FC (3) - Brighton & Hove Albion FC (0) on 2024-03-02 15:00:00+00:00"
          ],
          [
           "Newcastle United FC (3) - Wolverhampton Wanderers FC (0) on 2024-03-02 15:00:00+00:00"
          ],
          [
           "Nottingham Forest FC (0) - Liverpool FC (1) on 2024-03-02 15:00:00+00:00"
          ],
          [
           "Tottenham Hotspur FC (3) - Crystal Palace FC (1) on 2024-03-02 15:00:00+00:00"
          ],
          [
           "Luton Town FC (2) - Aston Villa FC (3) on 2024-03-02 17:30:00+00:00"
          ],
          [
           "Burnley FC (0) - AFC Bournemouth (2) on 2024-03-03 13:00:00+00:00"
          ],
          [
           "Manchester City FC (3) - Manchester United FC (1) on 2024-03-03 15:30:00+00:00"
          ],
          [
           "Sheffield United FC (0) - Arsenal FC (6) on 2024-03-04 20:00:00+00:00"
          ],
          [
           "Manchester United FC (2) - Everton FC (0) on 2024-03-09 12:30:00+00:00"
          ],
          [
           "AFC Bournemouth (2) - Sheffield United FC (2) on 2024-03-09 15:00:00+00:00"
          ],
          [
           "Crystal Palace FC (1) - Luton Town FC (1) on 2024-03-09 15:00:00+00:00"
          ],
          [
           "Wolverhampton Wanderers FC (2) - Fulham FC (1) on 2024-03-09 15:00:00+00:00"
          ],
          [
           "Arsenal FC (2) - Brentford FC (1) on 2024-03-09 17:30:00+00:00"
          ],
          [
           "Aston Villa FC (0) - Tottenham Hotspur FC (4) on 2024-03-10 13:00:00+00:00"
          ],
          [
           "Brighton & Hove Albion FC (1) - Nottingham Forest FC (0) on 2024-03-10 14:00:00+00:00"
          ],
          [
           "West Ham United FC (2) - Burnley FC (2) on 2024-03-10 14:00:00+00:00"
          ],
          [
           "Liverpool FC (1) - Manchester City FC (1) on 2024-03-10 15:45:00+00:00"
          ],
          [
           "Chelsea FC (3) - Newcastle United FC (2) on 2024-03-11 20:00:00+00:00"
          ],
          [
           "AFC Bournemouth (4) - Luton Town FC (3) on 2024-03-13 19:30:00+00:00"
          ],
          [
           "Burnley FC (2) - Brentford FC (1) on 2024-03-16 15:00:00+00:00"
          ],
          [
           "Luton Town FC (1) - Nottingham Forest FC (1) on 2024-03-16 15:00:00+00:00"
          ],
          [
           "Fulham FC (3) - Tottenham Hotspur FC (0) on 2024-03-16 17:30:00+00:00"
          ],
          [
           "West Ham United FC (1) - Aston Villa FC (1) on 2024-03-17 14:00:00+00:00"
          ],
          [
           "Newcastle United FC (4) - West Ham United FC (3) on 2024-03-30 12:30:00+00:00"
          ],
          [
           "AFC Bournemouth (2) - Everton FC (1) on 2024-03-30 15:00:00+00:00"
          ],
          [
           "Chelsea FC (2) - Burnley FC (2) on 2024-03-30 15:00:00+00:00"
          ],
          [
           "Nottingham Forest FC (1) - Crystal Palace FC (1) on 2024-03-30 15:00:00+00:00"
          ],
          [
           "Sheffield United FC (3) - Fulham FC (3) on 2024-03-30 15:00:00+00:00"
          ],
          [
           "Tottenham Hotspur FC (2) - Luton Town FC (1) on 2024-03-30 15:00:00+00:00"
          ],
          [
           "Aston Villa FC (2) - Wolverhampton Wanderers FC (0) on 2024-03-30 17:30:00+00:00"
          ],
          [
           "Brentford FC (1) - Manchester United FC (1) on 2024-03-30 20:00:00+00:00"
          ],
          [
           "Liverpool FC (2) - Brighton & Hove Albion FC (1) on 2024-03-31 13:00:00+00:00"
          ],
          [
           "Manchester City FC (0) - Arsenal FC (0) on 2024-03-31 15:30:00+00:00"
          ],
          [
           "Nottingham Forest FC (3) - Fulham FC (1) on 2024-04-02 18:30:00+00:00"
          ],
          [
           "Newcastle United FC (1) - Everton FC (1) on 2024-04-02 18:30:00+00:00"
          ],
          [
           "AFC Bournemouth (1) - Crystal Palace FC (0) on 2024-04-02 18:45:00+00:00"
          ],
          [
           "Burnley FC (1) - Wolverhampton Wanderers FC (1) on 2024-04-02 18:45:00+00:00"
          ],
          [
           "West Ham United FC (1) - Tottenham Hotspur FC (1) on 2024-04-02 19:15:00+00:00"
          ],
          [
           "Arsenal FC (2) - Luton Town FC (0) on 2024-04-03 18:30:00+00:00"
          ],
          [
           "Brentford FC (0) - Brighton & Hove Albion FC (0) on 2024-04-03 18:30:00+00:00"
          ],
          [
           "Manchester City FC (4) - Aston Villa FC (1) on 2024-04-03 19:15:00+00:00"
          ],
          [
           "Liverpool FC (3) - Sheffield United FC (1) on 2024-04-04 18:30:00+00:00"
          ],
          [
           "Chelsea FC (4) - Manchester United FC (3) on 2024-04-04 19:15:00+00:00"
          ],
          [
           "Crystal Palace FC (2) - Manchester City FC (4) on 2024-04-06 11:30:00+00:00"
          ],
          [
           "Aston Villa FC (3) - Brentford FC (3) on 2024-04-06 14:00:00+00:00"
          ],
          [
           "Everton FC (1) - Burnley FC (0) on 2024-04-06 14:00:00+00:00"
          ],
          [
           "Fulham FC (0) - Newcastle United FC (1) on 2024-04-06 14:00:00+00:00"
          ],
          [
           "Luton Town FC (2) - AFC Bournemouth (1) on 2024-04-06 14:00:00+00:00"
          ],
          [
           "Wolverhampton Wanderers FC (1) - West Ham United FC (2) on 2024-04-06 14:00:00+00:00"
          ],
          [
           "Brighton & Hove Albion FC (0) - Arsenal FC (3) on 2024-04-06 16:30:00+00:00"
          ],
          [
           "Manchester United FC (2) - Liverpool FC (2) on 2024-04-07 14:30:00+00:00"
          ],
          [
           "Sheffield United FC (2) - Chelsea FC (2) on 2024-04-07 16:30:00+00:00"
          ],
          [
           "Tottenham Hotspur FC (3) - Nottingham Forest FC (1) on 2024-04-07 17:00:00+00:00"
          ],
          [
           "Newcastle United FC (4) - Tottenham Hotspur FC (0) on 2024-04-13 11:30:00+00:00"
          ],
          [
           "Brentford FC (2) - Sheffield United FC (0) on 2024-04-13 14:00:00+00:00"
          ],
          [
           "Burnley FC (1) - Brighton & Hove Albion FC (1) on 2024-04-13 14:00:00+00:00"
          ],
          [
           "Manchester City FC (5) - Luton Town FC (1) on 2024-04-13 14:00:00+00:00"
          ],
          [
           "Nottingham Forest FC (2) - Wolverhampton Wanderers FC (2) on 2024-04-13 14:00:00+00:00"
          ],
          [
           "AFC Bournemouth (2) - Manchester United FC (2) on 2024-04-13 16:30:00+00:00"
          ],
          [
           "Liverpool FC (0) - Crystal Palace FC (1) on 2024-04-14 13:00:00+00:00"
          ],
          [
           "West Ham United FC (0) - Fulham FC (2) on 2024-04-14 13:00:00+00:00"
          ],
          [
           "Arsenal FC (0) - Aston Villa FC (2) on 2024-04-14 15:30:00+00:00"
          ],
          [
           "Chelsea FC (6) - Everton FC (0) on 2024-04-15 19:00:00+00:00"
          ],
          [
           "Luton Town FC (1) - Brentford FC (5) on 2024-04-20 14:00:00+00:00"
          ],
          [
           "Sheffield United FC (1) - Burnley FC (4) on 2024-04-20 14:00:00+00:00"
          ],
          [
           "Wolverhampton Wanderers FC (0) - Arsenal FC (2) on 2024-04-20 18:30:00+00:00"
          ],
          [
           "Everton FC (2) - Nottingham Forest FC (0) on 2024-04-21 12:30:00+00:00"
          ],
          [
           "Aston Villa FC (3) - AFC Bournemouth (1) on 2024-04-21 14:00:00+00:00"
          ],
          [
           "Crystal Palace FC (5) - West Ham United FC (2) on 2024-04-21 14:00:00+00:00"
          ],
          [
           "Fulham FC (1) - Liverpool FC (3) on 2024-04-21 15:30:00+00:00"
          ],
          [
           "Arsenal FC (5) - Chelsea FC (0) on 2024-04-23 19:00:00+00:00"
          ],
          [
           "Wolverhampton Wanderers FC (0) - AFC Bournemouth (1) on 2024-04-24 18:45:00+00:00"
          ],
          [
           "Crystal Palace FC (2) - Newcastle United FC (0) on 2024-04-24 19:00:00+00:00"
          ],
          [
           "Everton FC (2) - Liverpool FC (0) on 2024-04-24 19:00:00+00:00"
          ],
          [
           "Manchester United FC (4) - Sheffield United FC (2) on 2024-04-24 19:00:00+00:00"
          ],
          [
           "Brighton & Hove Albion FC (0) - Manchester City FC (4) on 2024-04-25 19:00:00+00:00"
          ],
          [
           "West Ham United FC (2) - Liverpool FC (2) on 2024-04-27 11:30:00+00:00"
          ],
          [
           "Fulham FC (1) - Crystal Palace FC (1) on 2024-04-27 14:00:00+00:00"
          ],
          [
           "Manchester United FC (1) - Burnley FC (1) on 2024-04-27 14:00:00+00:00"
          ],
          [
           "Newcastle United FC (5) - Sheffield United FC (1) on 2024-04-27 14:00:00+00:00"
          ],
          [
           "Wolverhampton Wanderers FC (2) - Luton Town FC (1) on 2024-04-27 14:00:00+00:00"
          ],
          [
           "Everton FC (1) - Brentford FC (0) on 2024-04-27 16:30:00+00:00"
          ],
          [
           "Aston Villa FC (2) - Chelsea FC (2) on 2024-04-27 19:00:00+00:00"
          ],
          [
           "AFC Bournemouth (3) - Brighton & Hove Albion FC (0) on 2024-04-28 13:00:00+00:00"
          ],
          [
           "Tottenham Hotspur FC (2) - Arsenal FC (3) on 2024-04-28 13:00:00+00:00"
          ],
          [
           "Nottingham Forest FC (0) - Manchester City FC (2) on 2024-04-28 15:30:00+00:00"
          ],
          [
           "Chelsea FC (2) - Tottenham Hotspur FC (0) on 2024-05-02 18:30:00+00:00"
          ],
          [
           "Luton Town FC (1) - Everton FC (1) on 2024-05-03 19:00:00+00:00"
          ],
          [
           "Arsenal FC (3) - AFC Bournemouth (0) on 2024-05-04 11:30:00+00:00"
          ],
          [
           "Brentford FC (0) - Fulham FC (0) on 2024-05-04 14:00:00+00:00"
          ],
          [
           "Burnley FC (1) - Newcastle United FC (4) on 2024-05-04 14:00:00+00:00"
          ],
          [
           "Sheffield United FC (1) - Nottingham Forest FC (3) on 2024-05-04 14:00:00+00:00"
          ],
          [
           "Manchester City FC (5) - Wolverhampton Wanderers FC (1) on 2024-05-04 16:30:00+00:00"
          ],
          [
           "Brighton & Hove Albion FC (1) - Aston Villa FC (0) on 2024-05-05 13:00:00+00:00"
          ],
          [
           "Chelsea FC (5) - West Ham United FC (0) on 2024-05-05 13:00:00+00:00"
          ],
          [
           "Liverpool FC (4) - Tottenham Hotspur FC (2) on 2024-05-05 15:30:00+00:00"
          ],
          [
           "Crystal Palace FC (4) - Manchester United FC (0) on 2024-05-06 19:00:00+00:00"
          ],
          [
           "Fulham FC (0) - Manchester City FC (4) on 2024-05-11 11:30:00+00:00"
          ],
          [
           "AFC Bournemouth (1) - Brentford FC (2) on 2024-05-11 14:00:00+00:00"
          ],
          [
           "Everton FC (1) - Sheffield United FC (0) on 2024-05-11 14:00:00+00:00"
          ],
          [
           "Newcastle United FC (1) - Brighton & Hove Albion FC (1) on 2024-05-11 14:00:00+00:00"
          ],
          [
           "Tottenham Hotspur FC (2) - Burnley FC (1) on 2024-05-11 14:00:00+00:00"
          ],
          [
           "West Ham United FC (3) - Luton Town FC (1) on 2024-05-11 14:00:00+00:00"
          ],
          [
           "Wolverhampton Wanderers FC (1) - Crystal Palace FC (3) on 2024-05-11 14:00:00+00:00"
          ],
          [
           "Nottingham Forest FC (2) - Chelsea FC (3) on 2024-05-11 16:30:00+00:00"
          ],
          [
           "Manchester United FC (0) - Arsenal FC (1) on 2024-05-12 15:30:00+00:00"
          ],
          [
           "Aston Villa FC (3) - Liverpool FC (3) on 2024-05-13 19:00:00+00:00"
          ],
          [
           "Tottenham Hotspur FC (0) - Manchester City FC (2) on 2024-05-14 19:00:00+00:00"
          ],
          [
           "Brighton & Hove Albion FC (1) - Chelsea FC (2) on 2024-05-15 18:45:00+00:00"
          ],
          [
           "Manchester United FC (3) - Newcastle United FC (2) on 2024-05-15 19:00:00+00:00"
          ],
          [
           "Arsenal FC (2) - Everton FC (1) on 2024-05-19 15:00:00+00:00"
          ],
          [
           "Brentford FC (2) - Newcastle United FC (4) on 2024-05-19 15:00:00+00:00"
          ],
          [
           "Brighton & Hove Albion FC (0) - Manchester United FC (2) on 2024-05-19 15:00:00+00:00"
          ],
          [
           "Burnley FC (1) - Nottingham Forest FC (2) on 2024-05-19 15:00:00+00:00"
          ],
          [
           "Chelsea FC (2) - AFC Bournemouth (1) on 2024-05-19 15:00:00+00:00"
          ],
          [
           "Crystal Palace FC (5) - Aston Villa FC (0) on 2024-05-19 15:00:00+00:00"
          ],
          [
           "Liverpool FC (2) - Wolverhampton Wanderers FC (0) on 2024-05-19 15:00:00+00:00"
          ],
          [
           "Luton Town FC (2) - Fulham FC (4) on 2024-05-19 15:00:00+00:00"
          ],
          [
           "Manchester City FC (3) - West Ham United FC (1) on 2024-05-19 15:00:00+00:00"
          ],
          [
           "Sheffield United FC (0) - Tottenham Hotspur FC (3) on 2024-05-19 15:00:00+00:00"
          ]
         ],
         "hovertemplate": "Season=2023-2024<br>Elo Difference=%{x}<br>Home Outcome=%{y}<br>Match Info=%{customdata[0]}<extra></extra>",
         "legendgroup": "2023-2024",
         "marker": {
          "color": "#EF553B",
          "symbol": "circle"
         },
         "mode": "markers",
         "name": "2023-2024",
         "orientation": "h",
         "showlegend": true,
         "type": "scatter",
         "x": [
          -486.4300782226064,
          288.97004534849543,
          -38.18786673286695,
          185.17791640884116,
          -56.639698703254,
          -136.73170740382852,
          39.13522285380691,
          -14.205192599804604,
          -132.60398356521114,
          196.62459922018616,
          113.04110109988073,
          -90.21006597853761,
          265.2401338196689,
          -132.0236723586636,
          -32.819078394577446,
          265.8414569900633,
          174.22543471987387,
          -38.18106146397895,
          -246.2608582770922,
          180.26889957078356,
          -167.45371528883356,
          -51.49869221343238,
          160.78143908246943,
          238.95716528374692,
          53.24289684057112,
          19.199631754969687,
          -505.7031531687426,
          -203.92323542582199,
          -109.51008728222268,
          -172.45078840504675,
          -36.02398871956893,
          113.10983797582935,
          -205.62478823245874,
          34.93772102407797,
          378.2574996080175,
          -6.891800133585548,
          77.16754547390678,
          127.6821244658197,
          124.5515637138767,
          -273.927693504585,
          94.37045783213784,
          141.27176770377696,
          -3.310505406475613,
          235.16278384508996,
          -324.19533974789647,
          59.00471387199741,
          -76.31551439738155,
          -321.675637716379,
          82.06784842786783,
          6.529115795474354,
          -71.41269029699242,
          363.97166420980534,
          66.18950553021705,
          -192.6096772838771,
          106.57971313324151,
          160.73583052280674,
          -106.96629033767294,
          196.7382416747853,
          -228.11805671703905,
          52.81157582854166,
          -283.4491767546283,
          21.691367494021733,
          33.96633583638982,
          208.80136179713213,
          170.56211261081444,
          -323.47001756796976,
          -54.26424868461345,
          -17.679720628338373,
          -43.59901315134516,
          -36.15961728609159,
          -258.113540867432,
          -133.04521433043374,
          26.728281236426483,
          141.3533436096834,
          90.56624605733623,
          38.062631081400696,
          -94.80784898144884,
          -59.864742314022806,
          -129.34482966813903,
          -34.462308335765556,
          239.72055329548743,
          -99.80950468962851,
          109.68886083515781,
          200.6586731379789,
          96.36372603406267,
          97.11140831660236,
          -167.43193773395092,
          -233.12132639715287,
          107.26322983844875,
          157.73631866233586,
          -150.50523473554654,
          -1.7597112226653735,
          46.01516515624826,
          358.2968775622494,
          -90.08692457897814,
          33.01724857132558,
          246.65355194594008,
          70.35291665005684,
          203.7684178745567,
          -195.89032780441357,
          -109.04602594754488,
          64.37032277210778,
          -141.10012415577785,
          -83.46850286723725,
          339.5800315132351,
          -95.2560859490759,
          -57.92800618420415,
          -94.63448737823842,
          -258.2814960318733,
          69.19820942456886,
          -79.36199841435314,
          307.70750796561765,
          -1.915717261011423,
          196.30993412148996,
          -131.60458700113236,
          144.28220288407465,
          143.69241854881238,
          139.04188307126742,
          16.550243033714878,
          -185.1659831129407,
          65.08714356358473,
          -149.77699147331737,
          -42.76973249698858,
          63.40850567710254,
          -89.03083801555567,
          -87.26843944169877,
          -167.29817422636052,
          -55.7707905817806,
          -123.62841390848052,
          0.35293310834936165,
          208.39521811708096,
          117.57673484257566,
          18.359272581903042,
          -47.66720444783755,
          38.30419791616441,
          -127.92436722368461,
          22.821413080339198,
          192.56950511831792,
          39.35813341028461,
          141.14923532357193,
          115.11387102858521,
          -277.39577065750154,
          42.92519671310242,
          61.38637343935693,
          -300.88346138981433,
          -49.02305808415372,
          -50.19146721797006,
          57.19207042811695,
          -63.89624556204353,
          15.531839213869944,
          -226.40006043152243,
          150.54781004093775,
          41.030618782812326,
          -82.441865303344,
          49.89315642623228,
          -8.226207910153107,
          27.037589476603216,
          7.8212843033447825,
          -276.3065051784888,
          4.090349246409687,
          -147.68572619435918,
          137.96468148725944,
          204.62745724535648,
          77.71806005361032,
          -169.2290307260621,
          137.45419853002613,
          -181.72737120818965,
          55.237552462164786,
          90.08163897388772,
          -58.14584205939423,
          229.4544994841915,
          1.9955163896377144,
          61.08057191495709,
          -108.82611832238922,
          -122.0154314436054,
          59.439468190391835,
          -3.6378979750015787,
          -9.654583974931484,
          71.7692376150062,
          94.7690775093381,
          -65.10667871143164,
          -248.14730981081857,
          -38.69504125561434,
          -57.16587793918916,
          73.50128885551635,
          -151.69166477183398,
          -21.38385596149942,
          56.00456885714675,
          -93.45713268787131,
          210.0340996776274,
          31.673794848288026,
          281.58040241491426,
          33.563851799307486,
          -65.46631557885826,
          -105.95602635479713,
          48.501249220348654,
          156.98255473650693,
          22.87788160323703,
          -34.83036847478138,
          79.47482474046205,
          -180.86399203408814,
          -97.22138068231766,
          -35.86307317934234,
          145.73208314631665,
          7.423375976839452,
          -152.92933440473894,
          -149.63418296178202,
          10.009692664477598,
          -167.2965451606583,
          -46.23821625695359,
          -27.81727391047025,
          85.93830748106961,
          53.32021503396754,
          137.2858653963301,
          271.77307828053085,
          139.36097614658638,
          30.511662448184325,
          -46.15578914294724,
          -71.87684451345513,
          72.67750194540372,
          -60.39042459538177,
          43.228728800586396,
          -196.916307545667,
          65.67726615710512,
          -17.205750157128477,
          44.14992655978722,
          -16.814603973347857,
          -234.89513377129128,
          185.63466534437566,
          1.0650171963909543,
          242.78377788374496,
          38.04108847321163,
          78.74202582759858,
          37.49073354859661,
          -95.13686726178958,
          -123.81585148561817,
          -33.59449801811479,
          -85.88372419206098,
          -194.0908046041027,
          -240.25730451771415,
          -92.72812780364848,
          32.3245164903351,
          -29.188941474155627,
          35.199573145957174,
          130.35173268318272,
          -126.1271941851935,
          -160.2463958186238,
          44.296632540801056,
          217.91666170260555,
          224.09027382247018,
          132.42957139948362,
          28.796410181581223,
          78.9365073431618,
          65.31007969470829,
          -188.26157282052372,
          136.4011419762112,
          149.34384982339952,
          72.42144835106001,
          -87.2127494647998,
          -49.65168923596411,
          22.301662917854173,
          14.915176168291282,
          -217.83857822976393,
          123.03781301473782,
          -166.80756891826672,
          -121.35392032481468,
          126.85241615239033,
          -263.02728548519235,
          104.56606393860034,
          95.17980851381344,
          26.286232654605783,
          33.257349477289154,
          218.47390098801748,
          -27.500584071950698,
          90.16693120414516,
          127.32555399899343,
          -17.59832681787293,
          35.999533788286044,
          94.58190689577327,
          -0.8931060519962557,
          -12.21493372975192,
          -38.61958649324038,
          -42.2927257152744,
          33.57323994757439,
          78.00303757667234,
          114.8539465277122,
          -21.377995896079938,
          -110.84365861808419,
          166.77405106655306,
          58.57553654032449,
          -129.7438681170404,
          156.17233373622162,
          15.457273381834284,
          -35.476298194856554,
          72.7799866394389,
          98.81400569457287,
          -79.6308645268598,
          -65.61497881047626,
          248.5841319999654,
          -67.40950873424777,
          114.67574836500876,
          258.5938468091149,
          24.439068917002714,
          -241.21270650110523,
          107.93997422108396,
          56.102505854746596,
          -65.29186787013259,
          -77.70316278420046,
          -30.163826233319924,
          -168.74578332751275,
          -110.66910792620706,
          -132.46880342930785,
          131.8203490177882,
          7.4615482038555,
          61.302564018695875,
          -62.05519884679347,
          248.77382192646087,
          -38.24105026245343,
          -24.217168494832322,
          148.26098082159115,
          -0.2604005444491122,
          53.71643038581101,
          103.0230735891164,
          -67.66681294099976,
          -57.94915471374975,
          -156.79398412087403,
          44.744520081944984,
          90.91784544813254,
          10.576051651960597,
          -137.30560455455952,
          100.40973214744122,
          -53.91182148898042,
          -24.712775562157958,
          -85.92570362302422,
          168.23312867302457,
          -203.61710905174664,
          -97.23693603365564,
          -21.60966086670237,
          87.51393980624675,
          174.67440762762726,
          78.18226869684122,
          59.79842729940697,
          36.51059888055033,
          70.18454334292892,
          -114.74380727403582,
          -252.23196068518882,
          43.55458989640965,
          -106.2278246863143,
          144.39619647377276,
          -21.062210400219556,
          -119.38594477953097,
          -87.57665683969913,
          214.36903977520956,
          -65.3547558311543,
          103.8194686062784,
          93.64859939579378,
          13.498862775774796,
          -208.21170215572647,
          4.258413849791623,
          172.7190111241564,
          61.10047440334279,
          91.61893081803919,
          90.42952086863738,
          -90.72767051410847,
          -147.2566082463486,
          -162.1674636523228,
          -36.27600150041076,
          -184.41693837633443,
          -117.78008916817816,
          -2.4758610778415004,
          158.99836050654176,
          -71.56667762893244,
          -80.20743056914989,
          -48.19201235841297,
          124.98996882344954,
          31.960096397179996,
          154.23712870894815,
          -108.13858036693932,
          213.436290780709,
          -168.84725193336567
         ],
         "xaxis": "x",
         "y": [
          "0",
          "3",
          "1",
          "3",
          "0",
          "0",
          "3",
          "1",
          "1",
          "3",
          "3",
          "0",
          "3",
          "0",
          "3",
          "3",
          "3",
          "3",
          "0",
          "3",
          "0",
          "0",
          "3",
          "1",
          "1",
          "0",
          "0",
          "0",
          "0",
          "0",
          "1",
          "1",
          "0",
          "0",
          "3",
          "3",
          "3",
          "3",
          "3",
          "0",
          "3",
          "3",
          "0",
          "3",
          "0",
          "3",
          "1",
          "0",
          "1",
          "1",
          "1",
          "3",
          "0",
          "0",
          "1",
          "3",
          "0",
          "3",
          "0",
          "3",
          "0",
          "0",
          "0",
          "3",
          "3",
          "3",
          "3",
          "1",
          "0",
          "0",
          "0",
          "0",
          "3",
          "3",
          "3",
          "1",
          "1",
          "1",
          "1",
          "3",
          "3",
          "0",
          "3",
          "3",
          "3",
          "1",
          "1",
          "0",
          "3",
          "3",
          "0",
          "0",
          "3",
          "3",
          "1",
          "0",
          "3",
          "1",
          "3",
          "0",
          "0",
          "3",
          "0",
          "1",
          "3",
          "3",
          "3",
          "3",
          "1",
          "0",
          "3",
          "3",
          "0",
          "3",
          "3",
          "3",
          "1",
          "3",
          "3",
          "1",
          "1",
          "0",
          "3",
          "3",
          "0",
          "0",
          "0",
          "0",
          "0",
          "3",
          "3",
          "3",
          "3",
          "0",
          "3",
          "1",
          "3",
          "3",
          "1",
          "1",
          "3",
          "0",
          "3",
          "3",
          "0",
          "0",
          "3",
          "3",
          "3",
          "0",
          "0",
          "1",
          "0",
          "3",
          "1",
          "3",
          "3",
          "3",
          "0",
          "3",
          "0",
          "3",
          "1",
          "3",
          "0",
          "3",
          "0",
          "3",
          "1",
          "1",
          "1",
          "3",
          "0",
          "3",
          "0",
          "3",
          "1",
          "3",
          "0",
          "3",
          "0",
          "0",
          "3",
          "0",
          "3",
          "0",
          "3",
          "0",
          "0",
          "3",
          "3",
          "3",
          "3",
          "3",
          "3",
          "3",
          "3",
          "1",
          "1",
          "3",
          "0",
          "1",
          "1",
          "3",
          "3",
          "1",
          "0",
          "1",
          "0",
          "3",
          "1",
          "3",
          "0",
          "3",
          "3",
          "3",
          "1",
          "0",
          "1",
          "3",
          "1",
          "1",
          "0",
          "1",
          "0",
          "3",
          "3",
          "0",
          "3",
          "3",
          "3",
          "0",
          "3",
          "0",
          "0",
          "0",
          "0",
          "0",
          "0",
          "0",
          "0",
          "1",
          "3",
          "0",
          "1",
          "0",
          "0",
          "1",
          "3",
          "3",
          "3",
          "1",
          "3",
          "0",
          "0",
          "3",
          "3",
          "3",
          "1",
          "0",
          "3",
          "3",
          "0",
          "3",
          "0",
          "0",
          "3",
          "0",
          "3",
          "1",
          "1",
          "3",
          "3",
          "0",
          "3",
          "1",
          "1",
          "3",
          "3",
          "3",
          "1",
          "3",
          "1",
          "3",
          "3",
          "1",
          "1",
          "1",
          "3",
          "3",
          "1",
          "3",
          "1",
          "3",
          "1",
          "3",
          "1",
          "1",
          "3",
          "1",
          "3",
          "3",
          "3",
          "0",
          "1",
          "3",
          "0",
          "3",
          "0",
          "0",
          "1",
          "1",
          "3",
          "3",
          "3",
          "1",
          "3",
          "1",
          "1",
          "0",
          "0",
          "0",
          "3",
          "0",
          "0",
          "0",
          "3",
          "3",
          "3",
          "0",
          "3",
          "0",
          "3",
          "3",
          "3",
          "0",
          "1",
          "1",
          "1",
          "3",
          "3",
          "3",
          "1",
          "3",
          "0",
          "0",
          "3",
          "1",
          "3",
          "1",
          "0",
          "0",
          "3",
          "3",
          "3",
          "3",
          "3",
          "0",
          "0",
          "3",
          "1",
          "3",
          "3",
          "0",
          "0",
          "0",
          "1",
          "0",
          "0",
          "3",
          "3",
          "0",
          "0",
          "0",
          "3",
          "3",
          "3",
          "0",
          "3",
          "0"
         ],
         "yaxis": "y"
        }
       ],
       "layout": {
        "legend": {
         "title": {
          "text": "Season"
         },
         "tracegroupgap": 0
        },
        "template": {
         "data": {
          "bar": [
           {
            "error_x": {
             "color": "#2a3f5f"
            },
            "error_y": {
             "color": "#2a3f5f"
            },
            "marker": {
             "line": {
              "color": "#E5ECF6",
              "width": 0.5
             },
             "pattern": {
              "fillmode": "overlay",
              "size": 10,
              "solidity": 0.2
             }
            },
            "type": "bar"
           }
          ],
          "barpolar": [
           {
            "marker": {
             "line": {
              "color": "#E5ECF6",
              "width": 0.5
             },
             "pattern": {
              "fillmode": "overlay",
              "size": 10,
              "solidity": 0.2
             }
            },
            "type": "barpolar"
           }
          ],
          "carpet": [
           {
            "aaxis": {
             "endlinecolor": "#2a3f5f",
             "gridcolor": "white",
             "linecolor": "white",
             "minorgridcolor": "white",
             "startlinecolor": "#2a3f5f"
            },
            "baxis": {
             "endlinecolor": "#2a3f5f",
             "gridcolor": "white",
             "linecolor": "white",
             "minorgridcolor": "white",
             "startlinecolor": "#2a3f5f"
            },
            "type": "carpet"
           }
          ],
          "choropleth": [
           {
            "colorbar": {
             "outlinewidth": 0,
             "ticks": ""
            },
            "type": "choropleth"
           }
          ],
          "contour": [
           {
            "colorbar": {
             "outlinewidth": 0,
             "ticks": ""
            },
            "colorscale": [
             [
              0,
              "#0d0887"
             ],
             [
              0.1111111111111111,
              "#46039f"
             ],
             [
              0.2222222222222222,
              "#7201a8"
             ],
             [
              0.3333333333333333,
              "#9c179e"
             ],
             [
              0.4444444444444444,
              "#bd3786"
             ],
             [
              0.5555555555555556,
              "#d8576b"
             ],
             [
              0.6666666666666666,
              "#ed7953"
             ],
             [
              0.7777777777777778,
              "#fb9f3a"
             ],
             [
              0.8888888888888888,
              "#fdca26"
             ],
             [
              1,
              "#f0f921"
             ]
            ],
            "type": "contour"
           }
          ],
          "contourcarpet": [
           {
            "colorbar": {
             "outlinewidth": 0,
             "ticks": ""
            },
            "type": "contourcarpet"
           }
          ],
          "heatmap": [
           {
            "colorbar": {
             "outlinewidth": 0,
             "ticks": ""
            },
            "colorscale": [
             [
              0,
              "#0d0887"
             ],
             [
              0.1111111111111111,
              "#46039f"
             ],
             [
              0.2222222222222222,
              "#7201a8"
             ],
             [
              0.3333333333333333,
              "#9c179e"
             ],
             [
              0.4444444444444444,
              "#bd3786"
             ],
             [
              0.5555555555555556,
              "#d8576b"
             ],
             [
              0.6666666666666666,
              "#ed7953"
             ],
             [
              0.7777777777777778,
              "#fb9f3a"
             ],
             [
              0.8888888888888888,
              "#fdca26"
             ],
             [
              1,
              "#f0f921"
             ]
            ],
            "type": "heatmap"
           }
          ],
          "heatmapgl": [
           {
            "colorbar": {
             "outlinewidth": 0,
             "ticks": ""
            },
            "colorscale": [
             [
              0,
              "#0d0887"
             ],
             [
              0.1111111111111111,
              "#46039f"
             ],
             [
              0.2222222222222222,
              "#7201a8"
             ],
             [
              0.3333333333333333,
              "#9c179e"
             ],
             [
              0.4444444444444444,
              "#bd3786"
             ],
             [
              0.5555555555555556,
              "#d8576b"
             ],
             [
              0.6666666666666666,
              "#ed7953"
             ],
             [
              0.7777777777777778,
              "#fb9f3a"
             ],
             [
              0.8888888888888888,
              "#fdca26"
             ],
             [
              1,
              "#f0f921"
             ]
            ],
            "type": "heatmapgl"
           }
          ],
          "histogram": [
           {
            "marker": {
             "pattern": {
              "fillmode": "overlay",
              "size": 10,
              "solidity": 0.2
             }
            },
            "type": "histogram"
           }
          ],
          "histogram2d": [
           {
            "colorbar": {
             "outlinewidth": 0,
             "ticks": ""
            },
            "colorscale": [
             [
              0,
              "#0d0887"
             ],
             [
              0.1111111111111111,
              "#46039f"
             ],
             [
              0.2222222222222222,
              "#7201a8"
             ],
             [
              0.3333333333333333,
              "#9c179e"
             ],
             [
              0.4444444444444444,
              "#bd3786"
             ],
             [
              0.5555555555555556,
              "#d8576b"
             ],
             [
              0.6666666666666666,
              "#ed7953"
             ],
             [
              0.7777777777777778,
              "#fb9f3a"
             ],
             [
              0.8888888888888888,
              "#fdca26"
             ],
             [
              1,
              "#f0f921"
             ]
            ],
            "type": "histogram2d"
           }
          ],
          "histogram2dcontour": [
           {
            "colorbar": {
             "outlinewidth": 0,
             "ticks": ""
            },
            "colorscale": [
             [
              0,
              "#0d0887"
             ],
             [
              0.1111111111111111,
              "#46039f"
             ],
             [
              0.2222222222222222,
              "#7201a8"
             ],
             [
              0.3333333333333333,
              "#9c179e"
             ],
             [
              0.4444444444444444,
              "#bd3786"
             ],
             [
              0.5555555555555556,
              "#d8576b"
             ],
             [
              0.6666666666666666,
              "#ed7953"
             ],
             [
              0.7777777777777778,
              "#fb9f3a"
             ],
             [
              0.8888888888888888,
              "#fdca26"
             ],
             [
              1,
              "#f0f921"
             ]
            ],
            "type": "histogram2dcontour"
           }
          ],
          "mesh3d": [
           {
            "colorbar": {
             "outlinewidth": 0,
             "ticks": ""
            },
            "type": "mesh3d"
           }
          ],
          "parcoords": [
           {
            "line": {
             "colorbar": {
              "outlinewidth": 0,
              "ticks": ""
             }
            },
            "type": "parcoords"
           }
          ],
          "pie": [
           {
            "automargin": true,
            "type": "pie"
           }
          ],
          "scatter": [
           {
            "fillpattern": {
             "fillmode": "overlay",
             "size": 10,
             "solidity": 0.2
            },
            "type": "scatter"
           }
          ],
          "scatter3d": [
           {
            "line": {
             "colorbar": {
              "outlinewidth": 0,
              "ticks": ""
             }
            },
            "marker": {
             "colorbar": {
              "outlinewidth": 0,
              "ticks": ""
             }
            },
            "type": "scatter3d"
           }
          ],
          "scattercarpet": [
           {
            "marker": {
             "colorbar": {
              "outlinewidth": 0,
              "ticks": ""
             }
            },
            "type": "scattercarpet"
           }
          ],
          "scattergeo": [
           {
            "marker": {
             "colorbar": {
              "outlinewidth": 0,
              "ticks": ""
             }
            },
            "type": "scattergeo"
           }
          ],
          "scattergl": [
           {
            "marker": {
             "colorbar": {
              "outlinewidth": 0,
              "ticks": ""
             }
            },
            "type": "scattergl"
           }
          ],
          "scattermapbox": [
           {
            "marker": {
             "colorbar": {
              "outlinewidth": 0,
              "ticks": ""
             }
            },
            "type": "scattermapbox"
           }
          ],
          "scatterpolar": [
           {
            "marker": {
             "colorbar": {
              "outlinewidth": 0,
              "ticks": ""
             }
            },
            "type": "scatterpolar"
           }
          ],
          "scatterpolargl": [
           {
            "marker": {
             "colorbar": {
              "outlinewidth": 0,
              "ticks": ""
             }
            },
            "type": "scatterpolargl"
           }
          ],
          "scatterternary": [
           {
            "marker": {
             "colorbar": {
              "outlinewidth": 0,
              "ticks": ""
             }
            },
            "type": "scatterternary"
           }
          ],
          "surface": [
           {
            "colorbar": {
             "outlinewidth": 0,
             "ticks": ""
            },
            "colorscale": [
             [
              0,
              "#0d0887"
             ],
             [
              0.1111111111111111,
              "#46039f"
             ],
             [
              0.2222222222222222,
              "#7201a8"
             ],
             [
              0.3333333333333333,
              "#9c179e"
             ],
             [
              0.4444444444444444,
              "#bd3786"
             ],
             [
              0.5555555555555556,
              "#d8576b"
             ],
             [
              0.6666666666666666,
              "#ed7953"
             ],
             [
              0.7777777777777778,
              "#fb9f3a"
             ],
             [
              0.8888888888888888,
              "#fdca26"
             ],
             [
              1,
              "#f0f921"
             ]
            ],
            "type": "surface"
           }
          ],
          "table": [
           {
            "cells": {
             "fill": {
              "color": "#EBF0F8"
             },
             "line": {
              "color": "white"
             }
            },
            "header": {
             "fill": {
              "color": "#C8D4E3"
             },
             "line": {
              "color": "white"
             }
            },
            "type": "table"
           }
          ]
         },
         "layout": {
          "annotationdefaults": {
           "arrowcolor": "#2a3f5f",
           "arrowhead": 0,
           "arrowwidth": 1
          },
          "autotypenumbers": "strict",
          "coloraxis": {
           "colorbar": {
            "outlinewidth": 0,
            "ticks": ""
           }
          },
          "colorscale": {
           "diverging": [
            [
             0,
             "#8e0152"
            ],
            [
             0.1,
             "#c51b7d"
            ],
            [
             0.2,
             "#de77ae"
            ],
            [
             0.3,
             "#f1b6da"
            ],
            [
             0.4,
             "#fde0ef"
            ],
            [
             0.5,
             "#f7f7f7"
            ],
            [
             0.6,
             "#e6f5d0"
            ],
            [
             0.7,
             "#b8e186"
            ],
            [
             0.8,
             "#7fbc41"
            ],
            [
             0.9,
             "#4d9221"
            ],
            [
             1,
             "#276419"
            ]
           ],
           "sequential": [
            [
             0,
             "#0d0887"
            ],
            [
             0.1111111111111111,
             "#46039f"
            ],
            [
             0.2222222222222222,
             "#7201a8"
            ],
            [
             0.3333333333333333,
             "#9c179e"
            ],
            [
             0.4444444444444444,
             "#bd3786"
            ],
            [
             0.5555555555555556,
             "#d8576b"
            ],
            [
             0.6666666666666666,
             "#ed7953"
            ],
            [
             0.7777777777777778,
             "#fb9f3a"
            ],
            [
             0.8888888888888888,
             "#fdca26"
            ],
            [
             1,
             "#f0f921"
            ]
           ],
           "sequentialminus": [
            [
             0,
             "#0d0887"
            ],
            [
             0.1111111111111111,
             "#46039f"
            ],
            [
             0.2222222222222222,
             "#7201a8"
            ],
            [
             0.3333333333333333,
             "#9c179e"
            ],
            [
             0.4444444444444444,
             "#bd3786"
            ],
            [
             0.5555555555555556,
             "#d8576b"
            ],
            [
             0.6666666666666666,
             "#ed7953"
            ],
            [
             0.7777777777777778,
             "#fb9f3a"
            ],
            [
             0.8888888888888888,
             "#fdca26"
            ],
            [
             1,
             "#f0f921"
            ]
           ]
          },
          "colorway": [
           "#636efa",
           "#EF553B",
           "#00cc96",
           "#ab63fa",
           "#FFA15A",
           "#19d3f3",
           "#FF6692",
           "#B6E880",
           "#FF97FF",
           "#FECB52"
          ],
          "font": {
           "color": "#2a3f5f"
          },
          "geo": {
           "bgcolor": "white",
           "lakecolor": "white",
           "landcolor": "#E5ECF6",
           "showlakes": true,
           "showland": true,
           "subunitcolor": "white"
          },
          "hoverlabel": {
           "align": "left"
          },
          "hovermode": "closest",
          "mapbox": {
           "style": "light"
          },
          "paper_bgcolor": "white",
          "plot_bgcolor": "#E5ECF6",
          "polar": {
           "angularaxis": {
            "gridcolor": "white",
            "linecolor": "white",
            "ticks": ""
           },
           "bgcolor": "#E5ECF6",
           "radialaxis": {
            "gridcolor": "white",
            "linecolor": "white",
            "ticks": ""
           }
          },
          "scene": {
           "xaxis": {
            "backgroundcolor": "#E5ECF6",
            "gridcolor": "white",
            "gridwidth": 2,
            "linecolor": "white",
            "showbackground": true,
            "ticks": "",
            "zerolinecolor": "white"
           },
           "yaxis": {
            "backgroundcolor": "#E5ECF6",
            "gridcolor": "white",
            "gridwidth": 2,
            "linecolor": "white",
            "showbackground": true,
            "ticks": "",
            "zerolinecolor": "white"
           },
           "zaxis": {
            "backgroundcolor": "#E5ECF6",
            "gridcolor": "white",
            "gridwidth": 2,
            "linecolor": "white",
            "showbackground": true,
            "ticks": "",
            "zerolinecolor": "white"
           }
          },
          "shapedefaults": {
           "line": {
            "color": "#2a3f5f"
           }
          },
          "ternary": {
           "aaxis": {
            "gridcolor": "white",
            "linecolor": "white",
            "ticks": ""
           },
           "baxis": {
            "gridcolor": "white",
            "linecolor": "white",
            "ticks": ""
           },
           "bgcolor": "#E5ECF6",
           "caxis": {
            "gridcolor": "white",
            "linecolor": "white",
            "ticks": ""
           }
          },
          "title": {
           "x": 0.05
          },
          "xaxis": {
           "automargin": true,
           "gridcolor": "white",
           "linecolor": "white",
           "ticks": "",
           "title": {
            "standoff": 15
           },
           "zerolinecolor": "white",
           "zerolinewidth": 2
          },
          "yaxis": {
           "automargin": true,
           "gridcolor": "white",
           "linecolor": "white",
           "ticks": "",
           "title": {
            "standoff": 15
           },
           "zerolinecolor": "white",
           "zerolinewidth": 2
          }
         }
        },
        "title": {
         "text": "Elo Difference vs Outcome - Correlation: 0.63, P-value: 0.00"
        },
        "xaxis": {
         "anchor": "y",
         "domain": [
          0,
          1
         ],
         "title": {
          "text": "Elo Difference"
         }
        },
        "yaxis": {
         "anchor": "x",
         "domain": [
          0,
          1
         ],
         "title": {
          "text": "Home Outcome"
         }
        }
       }
      }
     },
     "metadata": {},
     "output_type": "display_data"
    },
    {
     "data": {
      "text/plain": [
       "<Figure size 1000x600 with 0 Axes>"
      ]
     },
     "metadata": {},
     "output_type": "display_data"
    }
   ],
   "source": [
    "import plotly.express as px\n",
    "import matplotlib.pyplot as plt\n",
    "\n",
    "plt.figure(figsize=(10, 6))\n",
    "fig = px.scatter(\n",
    "    data_2022_2024, x=\"Elo Difference\", y=\"Home Outcome\", color=\"Season\",\n",
    "    hover_data=[\"Match Info\"], title=f\"Elo Difference vs Outcome - Correlation: {correlation:.2f}, P-value: {p_value:.2f}\"\n",
    ")\n",
    "fig.show()"
   ]
  },
  {
   "cell_type": "markdown",
   "metadata": {},
   "source": [
    "## Training"
   ]
  },
  {
   "cell_type": "code",
   "execution_count": 9,
   "metadata": {},
   "outputs": [
    {
     "name": "stdout",
     "output_type": "stream",
     "text": [
      "Fitting 5 folds for each of 432 candidates, totalling 2160 fits\n",
      "[CV] END bootstrap=True, max_depth=None, min_samples_leaf=1, min_samples_split=2, n_estimators=100; total time=   0.1s\n",
      "[CV] END bootstrap=True, max_depth=None, min_samples_leaf=1, min_samples_split=2, n_estimators=100; total time=   0.1s\n",
      "[CV] END bootstrap=True, max_depth=None, min_samples_leaf=1, min_samples_split=2, n_estimators=100; total time=   0.1s\n",
      "[CV] END bootstrap=True, max_depth=None, min_samples_leaf=1, min_samples_split=2, n_estimators=100; total time=   0.1s\n",
      "[CV] END bootstrap=True, max_depth=None, min_samples_leaf=1, min_samples_split=2, n_estimators=100; total time=   0.1s\n",
      "[CV] END bootstrap=True, max_depth=None, min_samples_leaf=1, min_samples_split=2, n_estimators=200; total time=   0.2s\n",
      "[CV] END bootstrap=True, max_depth=None, min_samples_leaf=1, min_samples_split=2, n_estimators=200; total time=   0.2s\n",
      "[CV] END bootstrap=True, max_depth=None, min_samples_leaf=1, min_samples_split=2, n_estimators=200; total time=   0.3s\n",
      "[CV] END bootstrap=True, max_depth=None, min_samples_leaf=1, min_samples_split=2, n_estimators=200; total time=   0.3s\n",
      "[CV] END bootstrap=True, max_depth=None, min_samples_leaf=1, min_samples_split=2, n_estimators=200; total time=   0.3s\n",
      "[CV] END bootstrap=True, max_depth=None, min_samples_leaf=1, min_samples_split=2, n_estimators=500; total time=   0.6s\n",
      "[CV] END bootstrap=True, max_depth=None, min_samples_leaf=1, min_samples_split=5, n_estimators=100; total time=   0.1s\n",
      "[CV] END bootstrap=True, max_depth=None, min_samples_leaf=1, min_samples_split=2, n_estimators=500; total time=   0.7s\n",
      "[CV] END bootstrap=True, max_depth=None, min_samples_leaf=1, min_samples_split=2, n_estimators=500; total time=   0.8s\n",
      "[CV] END bootstrap=True, max_depth=None, min_samples_leaf=1, min_samples_split=2, n_estimators=500; total time=   0.8s\n",
      "[CV] END bootstrap=True, max_depth=None, min_samples_leaf=1, min_samples_split=2, n_estimators=500; total time=   0.8s\n",
      "[CV] END bootstrap=True, max_depth=None, min_samples_leaf=1, min_samples_split=5, n_estimators=100; total time=   0.1s\n",
      "[CV] END bootstrap=True, max_depth=None, min_samples_leaf=1, min_samples_split=5, n_estimators=100; total time=   0.2s\n",
      "[CV] END bootstrap=True, max_depth=None, min_samples_leaf=1, min_samples_split=5, n_estimators=100; total time=   0.2s\n",
      "[CV] END bootstrap=True, max_depth=None, min_samples_leaf=1, min_samples_split=5, n_estimators=100; total time=   0.2s\n",
      "[CV] END bootstrap=True, max_depth=None, min_samples_leaf=1, min_samples_split=5, n_estimators=200; total time=   0.3s\n",
      "[CV] END bootstrap=True, max_depth=None, min_samples_leaf=1, min_samples_split=5, n_estimators=200; total time=   0.3s\n",
      "[CV] END bootstrap=True, max_depth=None, min_samples_leaf=1, min_samples_split=5, n_estimators=200; total time=   0.3s\n",
      "[CV] END bootstrap=True, max_depth=None, min_samples_leaf=1, min_samples_split=5, n_estimators=200; total time=   0.3s\n",
      "[CV] END bootstrap=True, max_depth=None, min_samples_leaf=1, min_samples_split=5, n_estimators=200; total time=   0.3s\n",
      "[CV] END bootstrap=True, max_depth=None, min_samples_leaf=1, min_samples_split=5, n_estimators=500; total time=   0.6s\n",
      "[CV] END bootstrap=True, max_depth=None, min_samples_leaf=1, min_samples_split=2, n_estimators=1000; total time=   1.5s\n",
      "[CV] END bootstrap=True, max_depth=None, min_samples_leaf=1, min_samples_split=2, n_estimators=1000; total time=   1.5s\n",
      "[CV] END bootstrap=True, max_depth=None, min_samples_leaf=1, min_samples_split=2, n_estimators=1000; total time=   1.5s\n",
      "[CV] END bootstrap=True, max_depth=None, min_samples_leaf=1, min_samples_split=2, n_estimators=1000; total time=   1.6s\n",
      "[CV] END bootstrap=True, max_depth=None, min_samples_leaf=1, min_samples_split=2, n_estimators=1000; total time=   1.6s\n",
      "[CV] END bootstrap=True, max_depth=None, min_samples_leaf=1, min_samples_split=10, n_estimators=100; total time=   0.1s\n",
      "[CV] END bootstrap=True, max_depth=None, min_samples_leaf=1, min_samples_split=10, n_estimators=100; total time=   0.2s\n",
      "[CV] END bootstrap=True, max_depth=None, min_samples_leaf=1, min_samples_split=5, n_estimators=500; total time=   0.8s\n",
      "[CV] END bootstrap=True, max_depth=None, min_samples_leaf=1, min_samples_split=10, n_estimators=100; total time=   0.2s\n",
      "[CV] END bootstrap=True, max_depth=None, min_samples_leaf=1, min_samples_split=10, n_estimators=100; total time=   0.2s\n",
      "[CV] END bootstrap=True, max_depth=None, min_samples_leaf=1, min_samples_split=10, n_estimators=100; total time=   0.2s\n",
      "[CV] END bootstrap=True, max_depth=None, min_samples_leaf=1, min_samples_split=10, n_estimators=200; total time=   0.3s\n",
      "[CV] END bootstrap=True, max_depth=None, min_samples_leaf=1, min_samples_split=10, n_estimators=200; total time=   0.3s\n",
      "[CV] END bootstrap=True, max_depth=None, min_samples_leaf=1, min_samples_split=5, n_estimators=500; total time=   0.8s\n",
      "[CV] END bootstrap=True, max_depth=None, min_samples_leaf=1, min_samples_split=10, n_estimators=200; total time=   0.3s\n",
      "[CV] END bootstrap=True, max_depth=None, min_samples_leaf=1, min_samples_split=5, n_estimators=500; total time=   0.8s\n",
      "[CV] END bootstrap=True, max_depth=None, min_samples_leaf=1, min_samples_split=10, n_estimators=200; total time=   0.3s\n",
      "[CV] END bootstrap=True, max_depth=None, min_samples_leaf=1, min_samples_split=10, n_estimators=200; total time=   0.3s\n",
      "[CV] END bootstrap=True, max_depth=None, min_samples_leaf=2, min_samples_split=2, n_estimators=100; total time=   0.1s\n",
      "[CV] END bootstrap=True, max_depth=None, min_samples_leaf=1, min_samples_split=5, n_estimators=500; total time=   0.7s\n",
      "[CV] END bootstrap=True, max_depth=None, min_samples_leaf=1, min_samples_split=10, n_estimators=500; total time=   0.6s\n",
      "[CV] END bootstrap=True, max_depth=None, min_samples_leaf=2, min_samples_split=2, n_estimators=100; total time=   0.1s\n",
      "[CV] END bootstrap=True, max_depth=None, min_samples_leaf=1, min_samples_split=10, n_estimators=500; total time=   0.6s\n",
      "[CV] END bootstrap=True, max_depth=None, min_samples_leaf=2, min_samples_split=2, n_estimators=100; total time=   0.1s\n",
      "[CV] END bootstrap=True, max_depth=None, min_samples_leaf=2, min_samples_split=2, n_estimators=100; total time=   0.1s\n",
      "[CV] END bootstrap=True, max_depth=None, min_samples_leaf=1, min_samples_split=5, n_estimators=1000; total time=   1.3s\n",
      "[CV] END bootstrap=True, max_depth=None, min_samples_leaf=1, min_samples_split=10, n_estimators=500; total time=   0.6s\n",
      "[CV] END bootstrap=True, max_depth=None, min_samples_leaf=2, min_samples_split=2, n_estimators=100; total time=   0.1s\n",
      "[CV] END bootstrap=True, max_depth=None, min_samples_leaf=1, min_samples_split=5, n_estimators=1000; total time=   1.4s\n",
      "[CV] END bootstrap=True, max_depth=None, min_samples_leaf=2, min_samples_split=2, n_estimators=200; total time=   0.2s\n",
      "[CV] END bootstrap=True, max_depth=None, min_samples_leaf=2, min_samples_split=2, n_estimators=200; total time=   0.2s\n",
      "[CV] END bootstrap=True, max_depth=None, min_samples_leaf=1, min_samples_split=10, n_estimators=500; total time=   0.6s\n",
      "[CV] END bootstrap=True, max_depth=None, min_samples_leaf=2, min_samples_split=2, n_estimators=200; total time=   0.3s\n",
      "[CV] END bootstrap=True, max_depth=None, min_samples_leaf=1, min_samples_split=10, n_estimators=500; total time=   0.7s\n",
      "[CV] END bootstrap=True, max_depth=None, min_samples_leaf=2, min_samples_split=2, n_estimators=200; total time=   0.3s\n",
      "[CV] END bootstrap=True, max_depth=None, min_samples_leaf=1, min_samples_split=5, n_estimators=1000; total time=   1.2s\n",
      "[CV] END bootstrap=True, max_depth=None, min_samples_leaf=2, min_samples_split=2, n_estimators=200; total time=   0.2s\n",
      "[CV] END bootstrap=True, max_depth=None, min_samples_leaf=1, min_samples_split=10, n_estimators=1000; total time=   1.2s\n",
      "[CV] END bootstrap=True, max_depth=None, min_samples_leaf=1, min_samples_split=10, n_estimators=1000; total time=   1.2s\n",
      "[CV] END bootstrap=True, max_depth=None, min_samples_leaf=2, min_samples_split=2, n_estimators=500; total time=   0.6s\n",
      "[CV] END bootstrap=True, max_depth=None, min_samples_leaf=2, min_samples_split=2, n_estimators=500; total time=   0.6s\n",
      "[CV] END bootstrap=True, max_depth=None, min_samples_leaf=2, min_samples_split=2, n_estimators=500; total time=   0.6s\n",
      "[CV] END bootstrap=True, max_depth=None, min_samples_leaf=1, min_samples_split=5, n_estimators=1000; total time=   1.2s\n",
      "[CV] END bootstrap=True, max_depth=None, min_samples_leaf=1, min_samples_split=10, n_estimators=1000; total time=   1.2s\n",
      "[CV] END bootstrap=True, max_depth=None, min_samples_leaf=1, min_samples_split=5, n_estimators=1000; total time=   1.3s\n",
      "[CV] END bootstrap=True, max_depth=None, min_samples_leaf=2, min_samples_split=5, n_estimators=100; total time=   0.1s\n",
      "[CV] END bootstrap=True, max_depth=None, min_samples_leaf=2, min_samples_split=5, n_estimators=100; total time=   0.1s\n",
      "[CV] END bootstrap=True, max_depth=None, min_samples_leaf=2, min_samples_split=5, n_estimators=100; total time=   0.1s\n",
      "[CV] END bootstrap=True, max_depth=None, min_samples_leaf=2, min_samples_split=5, n_estimators=100; total time=   0.1s\n",
      "[CV] END bootstrap=True, max_depth=None, min_samples_leaf=2, min_samples_split=5, n_estimators=100; total time=   0.1s\n",
      "[CV] END bootstrap=True, max_depth=None, min_samples_leaf=2, min_samples_split=2, n_estimators=500; total time=   0.6s\n",
      "[CV] END bootstrap=True, max_depth=None, min_samples_leaf=2, min_samples_split=2, n_estimators=500; total time=   0.6s\n",
      "[CV] END bootstrap=True, max_depth=None, min_samples_leaf=2, min_samples_split=5, n_estimators=200; total time=   0.2s\n",
      "[CV] END bootstrap=True, max_depth=None, min_samples_leaf=2, min_samples_split=2, n_estimators=1000; total time=   1.1s\n",
      "[CV] END bootstrap=True, max_depth=None, min_samples_leaf=2, min_samples_split=5, n_estimators=200; total time=   0.2s\n",
      "[CV] END bootstrap=True, max_depth=None, min_samples_leaf=2, min_samples_split=5, n_estimators=200; total time=   0.2s\n",
      "[CV] END bootstrap=True, max_depth=None, min_samples_leaf=1, min_samples_split=10, n_estimators=1000; total time=   1.1s\n",
      "[CV] END bootstrap=True, max_depth=None, min_samples_leaf=2, min_samples_split=2, n_estimators=1000; total time=   1.1s\n",
      "[CV] END bootstrap=True, max_depth=None, min_samples_leaf=2, min_samples_split=5, n_estimators=200; total time=   0.2s\n",
      "[CV] END bootstrap=True, max_depth=None, min_samples_leaf=2, min_samples_split=5, n_estimators=200; total time=   0.2s\n",
      "[CV] END bootstrap=True, max_depth=None, min_samples_leaf=1, min_samples_split=10, n_estimators=1000; total time=   1.1s\n",
      "[CV] END bootstrap=True, max_depth=None, min_samples_leaf=2, min_samples_split=10, n_estimators=100; total time=   0.1s\n",
      "[CV] END bootstrap=True, max_depth=None, min_samples_leaf=2, min_samples_split=10, n_estimators=100; total time=   0.1s\n",
      "[CV] END bootstrap=True, max_depth=None, min_samples_leaf=2, min_samples_split=10, n_estimators=100; total time=   0.1s\n",
      "[CV] END bootstrap=True, max_depth=None, min_samples_leaf=2, min_samples_split=10, n_estimators=100; total time=   0.1s\n",
      "[CV] END bootstrap=True, max_depth=None, min_samples_leaf=2, min_samples_split=5, n_estimators=500; total time=   0.5s\n",
      "[CV] END bootstrap=True, max_depth=None, min_samples_leaf=2, min_samples_split=5, n_estimators=500; total time=   0.5s\n",
      "[CV] END bootstrap=True, max_depth=None, min_samples_leaf=2, min_samples_split=10, n_estimators=100; total time=   0.1s\n",
      "[CV] END bootstrap=True, max_depth=None, min_samples_leaf=2, min_samples_split=5, n_estimators=500; total time=   0.6s\n",
      "[CV] END bootstrap=True, max_depth=None, min_samples_leaf=2, min_samples_split=2, n_estimators=1000; total time=   1.2s\n",
      "[CV] END bootstrap=True, max_depth=None, min_samples_leaf=2, min_samples_split=10, n_estimators=200; total time=   0.2s\n",
      "[CV] END bootstrap=True, max_depth=None, min_samples_leaf=2, min_samples_split=10, n_estimators=200; total time=   0.2s\n",
      "[CV] END bootstrap=True, max_depth=None, min_samples_leaf=2, min_samples_split=10, n_estimators=200; total time=   0.2s\n",
      "[CV] END bootstrap=True, max_depth=None, min_samples_leaf=2, min_samples_split=10, n_estimators=200; total time=   0.2s\n",
      "[CV] END bootstrap=True, max_depth=None, min_samples_leaf=2, min_samples_split=10, n_estimators=200; total time=   0.2s\n",
      "[CV] END bootstrap=True, max_depth=None, min_samples_leaf=2, min_samples_split=5, n_estimators=500; total time=   0.6s\n",
      "[CV] END bootstrap=True, max_depth=None, min_samples_leaf=2, min_samples_split=2, n_estimators=1000; total time=   1.1s\n",
      "[CV] END bootstrap=True, max_depth=None, min_samples_leaf=2, min_samples_split=5, n_estimators=500; total time=   0.6s\n",
      "[CV] END bootstrap=True, max_depth=None, min_samples_leaf=2, min_samples_split=5, n_estimators=1000; total time=   1.1s\n",
      "[CV] END bootstrap=True, max_depth=None, min_samples_leaf=2, min_samples_split=10, n_estimators=500; total time=   0.5s\n",
      "[CV] END bootstrap=True, max_depth=None, min_samples_leaf=2, min_samples_split=5, n_estimators=1000; total time=   1.3s\n",
      "[CV] END bootstrap=True, max_depth=None, min_samples_leaf=2, min_samples_split=10, n_estimators=500; total time=   0.6s\n",
      "[CV] END bootstrap=True, max_depth=None, min_samples_leaf=2, min_samples_split=2, n_estimators=1000; total time=   1.3s\n",
      "[CV] END bootstrap=True, max_depth=None, min_samples_leaf=2, min_samples_split=10, n_estimators=500; total time=   0.5s\n",
      "[CV] END bootstrap=True, max_depth=None, min_samples_leaf=2, min_samples_split=10, n_estimators=500; total time=   0.7s\n",
      "[CV] END bootstrap=True, max_depth=None, min_samples_leaf=2, min_samples_split=10, n_estimators=500; total time=   0.6s\n",
      "[CV] END bootstrap=True, max_depth=None, min_samples_leaf=2, min_samples_split=5, n_estimators=1000; total time=   1.2s\n",
      "[CV] END bootstrap=True, max_depth=None, min_samples_leaf=4, min_samples_split=2, n_estimators=100; total time=   0.1s\n",
      "[CV] END bootstrap=True, max_depth=None, min_samples_leaf=4, min_samples_split=2, n_estimators=100; total time=   0.1s\n",
      "[CV] END bootstrap=True, max_depth=None, min_samples_leaf=4, min_samples_split=2, n_estimators=100; total time=   0.1s\n",
      "[CV] END bootstrap=True, max_depth=None, min_samples_leaf=4, min_samples_split=2, n_estimators=100; total time=   0.1s\n",
      "[CV] END bootstrap=True, max_depth=None, min_samples_leaf=4, min_samples_split=2, n_estimators=100; total time=   0.2s\n",
      "[CV] END bootstrap=True, max_depth=None, min_samples_leaf=4, min_samples_split=2, n_estimators=200; total time=   0.2s\n",
      "[CV] END bootstrap=True, max_depth=None, min_samples_leaf=4, min_samples_split=2, n_estimators=200; total time=   0.2s\n",
      "[CV] END bootstrap=True, max_depth=None, min_samples_leaf=2, min_samples_split=5, n_estimators=1000; total time=   1.0s\n",
      "[CV] END bootstrap=True, max_depth=None, min_samples_leaf=2, min_samples_split=10, n_estimators=1000; total time=   1.1s\n",
      "[CV] END bootstrap=True, max_depth=None, min_samples_leaf=4, min_samples_split=2, n_estimators=200; total time=   0.2s\n",
      "[CV] END bootstrap=True, max_depth=None, min_samples_leaf=4, min_samples_split=2, n_estimators=200; total time=   0.3s\n",
      "[CV] END bootstrap=True, max_depth=None, min_samples_leaf=4, min_samples_split=2, n_estimators=200; total time=   0.2s\n",
      "[CV] END bootstrap=True, max_depth=None, min_samples_leaf=2, min_samples_split=10, n_estimators=1000; total time=   1.0s\n",
      "[CV] END bootstrap=True, max_depth=None, min_samples_leaf=2, min_samples_split=10, n_estimators=1000; total time=   1.0s\n",
      "[CV] END bootstrap=True, max_depth=None, min_samples_leaf=4, min_samples_split=2, n_estimators=500; total time=   0.5s\n",
      "[CV] END bootstrap=True, max_depth=None, min_samples_leaf=4, min_samples_split=2, n_estimators=500; total time=   0.5s\n",
      "[CV] END bootstrap=True, max_depth=None, min_samples_leaf=4, min_samples_split=2, n_estimators=500; total time=   0.5s\n",
      "[CV] END bootstrap=True, max_depth=None, min_samples_leaf=2, min_samples_split=5, n_estimators=1000; total time=   1.4s\n",
      "[CV] END bootstrap=True, max_depth=None, min_samples_leaf=4, min_samples_split=2, n_estimators=500; total time=   0.5s\n",
      "[CV] END bootstrap=True, max_depth=None, min_samples_leaf=2, min_samples_split=10, n_estimators=1000; total time=   1.5s\n",
      "[CV] END bootstrap=True, max_depth=None, min_samples_leaf=2, min_samples_split=10, n_estimators=1000; total time=   1.5s\n",
      "[CV] END bootstrap=True, max_depth=None, min_samples_leaf=4, min_samples_split=5, n_estimators=100; total time=   0.1s\n",
      "[CV] END bootstrap=True, max_depth=None, min_samples_leaf=4, min_samples_split=5, n_estimators=100; total time=   0.2s\n",
      "[CV] END bootstrap=True, max_depth=None, min_samples_leaf=4, min_samples_split=5, n_estimators=100; total time=   0.2s\n",
      "[CV] END bootstrap=True, max_depth=None, min_samples_leaf=4, min_samples_split=5, n_estimators=100; total time=   0.1s\n",
      "[CV] END bootstrap=True, max_depth=None, min_samples_leaf=4, min_samples_split=5, n_estimators=100; total time=   0.2s\n",
      "[CV] END bootstrap=True, max_depth=None, min_samples_leaf=4, min_samples_split=2, n_estimators=500; total time=   0.8s\n",
      "[CV] END bootstrap=True, max_depth=None, min_samples_leaf=4, min_samples_split=5, n_estimators=200; total time=   0.2s\n",
      "[CV] END bootstrap=True, max_depth=None, min_samples_leaf=4, min_samples_split=5, n_estimators=200; total time=   0.3s\n",
      "[CV] END bootstrap=True, max_depth=None, min_samples_leaf=4, min_samples_split=2, n_estimators=1000; total time=   0.9s\n",
      "[CV] END bootstrap=True, max_depth=None, min_samples_leaf=4, min_samples_split=5, n_estimators=200; total time=   0.3s\n",
      "[CV] END bootstrap=True, max_depth=None, min_samples_leaf=4, min_samples_split=5, n_estimators=200; total time=   0.3s\n",
      "[CV] END bootstrap=True, max_depth=None, min_samples_leaf=4, min_samples_split=5, n_estimators=200; total time=   0.3s\n",
      "[CV] END bootstrap=True, max_depth=None, min_samples_leaf=4, min_samples_split=2, n_estimators=1000; total time=   1.0s\n",
      "[CV] END bootstrap=True, max_depth=None, min_samples_leaf=4, min_samples_split=2, n_estimators=1000; total time=   0.9s\n",
      "[CV] END bootstrap=True, max_depth=None, min_samples_leaf=4, min_samples_split=2, n_estimators=1000; total time=   0.9s\n",
      "[CV] END bootstrap=True, max_depth=None, min_samples_leaf=4, min_samples_split=2, n_estimators=1000; total time=   1.0s\n",
      "[CV] END bootstrap=True, max_depth=None, min_samples_leaf=4, min_samples_split=5, n_estimators=500; total time=   0.5s\n",
      "[CV] END bootstrap=True, max_depth=None, min_samples_leaf=4, min_samples_split=5, n_estimators=500; total time=   0.5s\n",
      "[CV] END bootstrap=True, max_depth=None, min_samples_leaf=4, min_samples_split=10, n_estimators=100; total time=   0.1s\n",
      "[CV] END bootstrap=True, max_depth=None, min_samples_leaf=4, min_samples_split=10, n_estimators=100; total time=   0.1s\n",
      "[CV] END bootstrap=True, max_depth=None, min_samples_leaf=4, min_samples_split=10, n_estimators=100; total time=   0.1s\n",
      "[CV] END bootstrap=True, max_depth=None, min_samples_leaf=4, min_samples_split=10, n_estimators=100; total time=   0.1s\n",
      "[CV] END bootstrap=True, max_depth=None, min_samples_leaf=4, min_samples_split=5, n_estimators=500; total time=   0.7s\n",
      "[CV] END bootstrap=True, max_depth=None, min_samples_leaf=4, min_samples_split=10, n_estimators=100; total time=   0.1s\n",
      "[CV] END bootstrap=True, max_depth=None, min_samples_leaf=4, min_samples_split=5, n_estimators=500; total time=   0.7s\n",
      "[CV] END bootstrap=True, max_depth=None, min_samples_leaf=4, min_samples_split=5, n_estimators=500; total time=   0.8s\n",
      "[CV] END bootstrap=True, max_depth=None, min_samples_leaf=4, min_samples_split=10, n_estimators=200; total time=   0.2s\n",
      "[CV] END bootstrap=True, max_depth=None, min_samples_leaf=4, min_samples_split=10, n_estimators=200; total time=   0.2s\n",
      "[CV] END bootstrap=True, max_depth=None, min_samples_leaf=4, min_samples_split=10, n_estimators=200; total time=   0.2s\n",
      "[CV] END bootstrap=True, max_depth=None, min_samples_leaf=4, min_samples_split=10, n_estimators=200; total time=   0.3s\n",
      "[CV] END bootstrap=True, max_depth=None, min_samples_leaf=4, min_samples_split=10, n_estimators=200; total time=   0.3s\n",
      "[CV] END bootstrap=True, max_depth=None, min_samples_leaf=4, min_samples_split=5, n_estimators=1000; total time=   1.0s\n",
      "[CV] END bootstrap=True, max_depth=None, min_samples_leaf=4, min_samples_split=5, n_estimators=1000; total time=   0.9s\n",
      "[CV] END bootstrap=True, max_depth=None, min_samples_leaf=4, min_samples_split=5, n_estimators=1000; total time=   0.9s\n",
      "[CV] END bootstrap=True, max_depth=None, min_samples_leaf=4, min_samples_split=5, n_estimators=1000; total time=   0.9s\n",
      "[CV] END bootstrap=True, max_depth=None, min_samples_leaf=4, min_samples_split=10, n_estimators=500; total time=   0.5s\n",
      "[CV] END bootstrap=True, max_depth=None, min_samples_leaf=4, min_samples_split=10, n_estimators=500; total time=   0.5s\n",
      "[CV] END bootstrap=True, max_depth=5, min_samples_leaf=1, min_samples_split=2, n_estimators=100; total time=   0.1s\n",
      "[CV] END bootstrap=True, max_depth=None, min_samples_leaf=4, min_samples_split=5, n_estimators=1000; total time=   1.5s\n",
      "[CV] END bootstrap=True, max_depth=5, min_samples_leaf=1, min_samples_split=2, n_estimators=100; total time=   0.1s\n",
      "[CV] END bootstrap=True, max_depth=5, min_samples_leaf=1, min_samples_split=2, n_estimators=100; total time=   0.2s\n",
      "[CV] END bootstrap=True, max_depth=5, min_samples_leaf=1, min_samples_split=2, n_estimators=100; total time=   0.1s\n",
      "[CV] END bootstrap=True, max_depth=None, min_samples_leaf=4, min_samples_split=10, n_estimators=500; total time=   0.8s\n",
      "[CV] END bootstrap=True, max_depth=None, min_samples_leaf=4, min_samples_split=10, n_estimators=500; total time=   0.6s\n",
      "[CV] END bootstrap=True, max_depth=None, min_samples_leaf=4, min_samples_split=10, n_estimators=500; total time=   0.8s\n",
      "[CV] END bootstrap=True, max_depth=5, min_samples_leaf=1, min_samples_split=2, n_estimators=100; total time=   0.1s\n",
      "[CV] END bootstrap=True, max_depth=5, min_samples_leaf=1, min_samples_split=2, n_estimators=200; total time=   0.2s\n",
      "[CV] END bootstrap=True, max_depth=5, min_samples_leaf=1, min_samples_split=2, n_estimators=200; total time=   0.3s\n",
      "[CV] END bootstrap=True, max_depth=5, min_samples_leaf=1, min_samples_split=2, n_estimators=200; total time=   0.4s\n",
      "[CV] END bootstrap=True, max_depth=5, min_samples_leaf=1, min_samples_split=2, n_estimators=200; total time=   0.4s\n",
      "[CV] END bootstrap=True, max_depth=5, min_samples_leaf=1, min_samples_split=2, n_estimators=200; total time=   0.3s\n",
      "[CV] END bootstrap=True, max_depth=None, min_samples_leaf=4, min_samples_split=10, n_estimators=1000; total time=   1.0s\n",
      "[CV] END bootstrap=True, max_depth=None, min_samples_leaf=4, min_samples_split=10, n_estimators=1000; total time=   1.0s\n",
      "[CV] END bootstrap=True, max_depth=None, min_samples_leaf=4, min_samples_split=10, n_estimators=1000; total time=   1.0s\n",
      "[CV] END bootstrap=True, max_depth=None, min_samples_leaf=4, min_samples_split=10, n_estimators=1000; total time=   0.9s\n",
      "[CV] END bootstrap=True, max_depth=None, min_samples_leaf=4, min_samples_split=10, n_estimators=1000; total time=   1.0s\n",
      "[CV] END bootstrap=True, max_depth=5, min_samples_leaf=1, min_samples_split=2, n_estimators=500; total time=   0.5s\n",
      "[CV] END bootstrap=True, max_depth=5, min_samples_leaf=1, min_samples_split=5, n_estimators=100; total time=   0.1s\n",
      "[CV] END bootstrap=True, max_depth=5, min_samples_leaf=1, min_samples_split=5, n_estimators=100; total time=   0.1s\n",
      "[CV] END bootstrap=True, max_depth=5, min_samples_leaf=1, min_samples_split=5, n_estimators=100; total time=   0.1s\n",
      "[CV] END bootstrap=True, max_depth=5, min_samples_leaf=1, min_samples_split=2, n_estimators=500; total time=   0.7s\n",
      "[CV] END bootstrap=True, max_depth=5, min_samples_leaf=1, min_samples_split=2, n_estimators=500; total time=   0.7s\n",
      "[CV] END bootstrap=True, max_depth=5, min_samples_leaf=1, min_samples_split=2, n_estimators=500; total time=   0.7s\n",
      "[CV] END bootstrap=True, max_depth=5, min_samples_leaf=1, min_samples_split=5, n_estimators=100; total time=   0.1s\n",
      "[CV] END bootstrap=True, max_depth=5, min_samples_leaf=1, min_samples_split=2, n_estimators=500; total time=   0.7s\n",
      "[CV] END bootstrap=True, max_depth=5, min_samples_leaf=1, min_samples_split=5, n_estimators=100; total time=   0.1s\n",
      "[CV] END bootstrap=True, max_depth=5, min_samples_leaf=1, min_samples_split=5, n_estimators=200; total time=   0.2s\n",
      "[CV] END bootstrap=True, max_depth=5, min_samples_leaf=1, min_samples_split=2, n_estimators=1000; total time=   0.9s\n",
      "[CV] END bootstrap=True, max_depth=5, min_samples_leaf=1, min_samples_split=5, n_estimators=200; total time=   0.3s\n",
      "[CV] END bootstrap=True, max_depth=5, min_samples_leaf=1, min_samples_split=5, n_estimators=200; total time=   0.3s\n",
      "[CV] END bootstrap=True, max_depth=5, min_samples_leaf=1, min_samples_split=5, n_estimators=200; total time=   0.3s\n",
      "[CV] END bootstrap=True, max_depth=5, min_samples_leaf=1, min_samples_split=2, n_estimators=1000; total time=   0.9s\n",
      "[CV] END bootstrap=True, max_depth=5, min_samples_leaf=1, min_samples_split=5, n_estimators=200; total time=   0.3s\n",
      "[CV] END bootstrap=True, max_depth=5, min_samples_leaf=1, min_samples_split=2, n_estimators=1000; total time=   1.0s\n",
      "[CV] END bootstrap=True, max_depth=5, min_samples_leaf=1, min_samples_split=2, n_estimators=1000; total time=   1.0s\n",
      "[CV] END bootstrap=True, max_depth=5, min_samples_leaf=1, min_samples_split=2, n_estimators=1000; total time=   1.0s\n",
      "[CV] END bootstrap=True, max_depth=5, min_samples_leaf=1, min_samples_split=5, n_estimators=500; total time=   0.4s\n",
      "[CV] END bootstrap=True, max_depth=5, min_samples_leaf=1, min_samples_split=5, n_estimators=500; total time=   0.5s\n",
      "[CV] END bootstrap=True, max_depth=5, min_samples_leaf=1, min_samples_split=10, n_estimators=100; total time=   0.1s\n",
      "[CV] END bootstrap=True, max_depth=5, min_samples_leaf=1, min_samples_split=10, n_estimators=100; total time=   0.1s\n",
      "[CV] END bootstrap=True, max_depth=5, min_samples_leaf=1, min_samples_split=10, n_estimators=100; total time=   0.1s\n",
      "[CV] END bootstrap=True, max_depth=5, min_samples_leaf=1, min_samples_split=5, n_estimators=500; total time=   0.6s\n",
      "[CV] END bootstrap=True, max_depth=5, min_samples_leaf=1, min_samples_split=10, n_estimators=100; total time=   0.1s\n",
      "[CV] END bootstrap=True, max_depth=5, min_samples_leaf=1, min_samples_split=5, n_estimators=500; total time=   0.7s\n",
      "[CV] END bootstrap=True, max_depth=5, min_samples_leaf=1, min_samples_split=10, n_estimators=100; total time=   0.1s\n",
      "[CV] END bootstrap=True, max_depth=5, min_samples_leaf=1, min_samples_split=5, n_estimators=500; total time=   0.8s\n",
      "[CV] END bootstrap=True, max_depth=5, min_samples_leaf=1, min_samples_split=10, n_estimators=200; total time=   0.2s\n",
      "[CV] END bootstrap=True, max_depth=5, min_samples_leaf=1, min_samples_split=10, n_estimators=200; total time=   0.2s\n",
      "[CV] END bootstrap=True, max_depth=5, min_samples_leaf=1, min_samples_split=10, n_estimators=200; total time=   0.3s\n",
      "[CV] END bootstrap=True, max_depth=5, min_samples_leaf=1, min_samples_split=10, n_estimators=200; total time=   0.3s\n",
      "[CV] END bootstrap=True, max_depth=5, min_samples_leaf=1, min_samples_split=5, n_estimators=1000; total time=   0.9s\n",
      "[CV] END bootstrap=True, max_depth=5, min_samples_leaf=1, min_samples_split=5, n_estimators=1000; total time=   0.9s\n",
      "[CV] END bootstrap=True, max_depth=5, min_samples_leaf=1, min_samples_split=10, n_estimators=200; total time=   0.3s\n",
      "[CV] END bootstrap=True, max_depth=5, min_samples_leaf=1, min_samples_split=5, n_estimators=1000; total time=   0.9s\n",
      "[CV] END bootstrap=True, max_depth=5, min_samples_leaf=1, min_samples_split=5, n_estimators=1000; total time=   1.0s\n",
      "[CV] END bootstrap=True, max_depth=5, min_samples_leaf=1, min_samples_split=5, n_estimators=1000; total time=   1.2s\n",
      "[CV] END bootstrap=True, max_depth=5, min_samples_leaf=1, min_samples_split=10, n_estimators=500; total time=   0.5s\n",
      "[CV] END bootstrap=True, max_depth=5, min_samples_leaf=1, min_samples_split=10, n_estimators=500; total time=   0.5s\n",
      "[CV] END bootstrap=True, max_depth=5, min_samples_leaf=2, min_samples_split=2, n_estimators=100; total time=   0.1s\n",
      "[CV] END bootstrap=True, max_depth=5, min_samples_leaf=1, min_samples_split=10, n_estimators=500; total time=   0.5s\n",
      "[CV] END bootstrap=True, max_depth=5, min_samples_leaf=2, min_samples_split=2, n_estimators=100; total time=   0.1s\n",
      "[CV] END bootstrap=True, max_depth=5, min_samples_leaf=2, min_samples_split=2, n_estimators=100; total time=   0.1s\n",
      "[CV] END bootstrap=True, max_depth=5, min_samples_leaf=2, min_samples_split=2, n_estimators=100; total time=   0.1s\n",
      "[CV] END bootstrap=True, max_depth=5, min_samples_leaf=2, min_samples_split=2, n_estimators=100; total time=   0.1s\n",
      "[CV] END bootstrap=True, max_depth=5, min_samples_leaf=1, min_samples_split=10, n_estimators=500; total time=   0.6s\n",
      "[CV] END bootstrap=True, max_depth=5, min_samples_leaf=1, min_samples_split=10, n_estimators=500; total time=   0.7s\n",
      "[CV] END bootstrap=True, max_depth=5, min_samples_leaf=2, min_samples_split=2, n_estimators=200; total time=   0.2s\n",
      "[CV] END bootstrap=True, max_depth=5, min_samples_leaf=2, min_samples_split=2, n_estimators=200; total time=   0.2s\n",
      "[CV] END bootstrap=True, max_depth=5, min_samples_leaf=2, min_samples_split=2, n_estimators=200; total time=   0.2s\n",
      "[CV] END bootstrap=True, max_depth=5, min_samples_leaf=2, min_samples_split=2, n_estimators=200; total time=   0.3s\n",
      "[CV] END bootstrap=True, max_depth=5, min_samples_leaf=2, min_samples_split=2, n_estimators=200; total time=   0.3s\n",
      "[CV] END bootstrap=True, max_depth=5, min_samples_leaf=1, min_samples_split=10, n_estimators=1000; total time=   1.0s\n",
      "[CV] END bootstrap=True, max_depth=5, min_samples_leaf=1, min_samples_split=10, n_estimators=1000; total time=   0.9s\n",
      "[CV] END bootstrap=True, max_depth=5, min_samples_leaf=1, min_samples_split=10, n_estimators=1000; total time=   0.9s\n",
      "[CV] END bootstrap=True, max_depth=5, min_samples_leaf=2, min_samples_split=2, n_estimators=500; total time=   0.5s\n",
      "[CV] END bootstrap=True, max_depth=5, min_samples_leaf=2, min_samples_split=2, n_estimators=500; total time=   0.5s\n",
      "[CV] END bootstrap=True, max_depth=5, min_samples_leaf=2, min_samples_split=2, n_estimators=500; total time=   0.5s\n",
      "[CV] END bootstrap=True, max_depth=5, min_samples_leaf=2, min_samples_split=5, n_estimators=100; total time=   0.1s\n",
      "[CV] END bootstrap=True, max_depth=5, min_samples_leaf=1, min_samples_split=10, n_estimators=1000; total time=   1.3s\n",
      "[CV] END bootstrap=True, max_depth=5, min_samples_leaf=2, min_samples_split=5, n_estimators=100; total time=   0.1s\n",
      "[CV] END bootstrap=True, max_depth=5, min_samples_leaf=2, min_samples_split=5, n_estimators=100; total time=   0.1s\n",
      "[CV] END bootstrap=True, max_depth=5, min_samples_leaf=2, min_samples_split=5, n_estimators=100; total time=   0.1s\n",
      "[CV] END bootstrap=True, max_depth=5, min_samples_leaf=1, min_samples_split=10, n_estimators=1000; total time=   1.3s\n",
      "[CV] END bootstrap=True, max_depth=5, min_samples_leaf=2, min_samples_split=5, n_estimators=100; total time=   0.1s\n",
      "[CV] END bootstrap=True, max_depth=5, min_samples_leaf=2, min_samples_split=2, n_estimators=500; total time=   0.7s\n",
      "[CV] END bootstrap=True, max_depth=5, min_samples_leaf=2, min_samples_split=5, n_estimators=200; total time=   0.2s\n",
      "[CV] END bootstrap=True, max_depth=5, min_samples_leaf=2, min_samples_split=2, n_estimators=500; total time=   0.8s\n",
      "[CV] END bootstrap=True, max_depth=5, min_samples_leaf=2, min_samples_split=5, n_estimators=200; total time=   0.3s\n",
      "[CV] END bootstrap=True, max_depth=5, min_samples_leaf=2, min_samples_split=5, n_estimators=200; total time=   0.3s\n",
      "[CV] END bootstrap=True, max_depth=5, min_samples_leaf=2, min_samples_split=5, n_estimators=200; total time=   0.3s\n",
      "[CV] END bootstrap=True, max_depth=5, min_samples_leaf=2, min_samples_split=5, n_estimators=200; total time=   0.2s\n",
      "[CV] END bootstrap=True, max_depth=5, min_samples_leaf=2, min_samples_split=2, n_estimators=1000; total time=   0.9s\n",
      "[CV] END bootstrap=True, max_depth=5, min_samples_leaf=2, min_samples_split=2, n_estimators=1000; total time=   0.9s\n",
      "[CV] END bootstrap=True, max_depth=5, min_samples_leaf=2, min_samples_split=2, n_estimators=1000; total time=   0.9s\n",
      "[CV] END bootstrap=True, max_depth=5, min_samples_leaf=2, min_samples_split=2, n_estimators=1000; total time=   1.0s\n",
      "[CV] END bootstrap=True, max_depth=5, min_samples_leaf=2, min_samples_split=2, n_estimators=1000; total time=   0.9s\n",
      "[CV] END bootstrap=True, max_depth=5, min_samples_leaf=2, min_samples_split=5, n_estimators=500; total time=   0.5s\n",
      "[CV] END bootstrap=True, max_depth=5, min_samples_leaf=2, min_samples_split=5, n_estimators=500; total time=   0.7s\n",
      "[CV] END bootstrap=True, max_depth=5, min_samples_leaf=2, min_samples_split=10, n_estimators=100; total time=   0.1s\n",
      "[CV] END bootstrap=True, max_depth=5, min_samples_leaf=2, min_samples_split=5, n_estimators=500; total time=   0.7s\n",
      "[CV] END bootstrap=True, max_depth=5, min_samples_leaf=2, min_samples_split=10, n_estimators=100; total time=   0.1s\n",
      "[CV] END bootstrap=True, max_depth=5, min_samples_leaf=2, min_samples_split=10, n_estimators=100; total time=   0.1s\n",
      "[CV] END bootstrap=True, max_depth=5, min_samples_leaf=2, min_samples_split=5, n_estimators=500; total time=   0.7s\n",
      "[CV] END bootstrap=True, max_depth=5, min_samples_leaf=2, min_samples_split=5, n_estimators=500; total time=   0.7s\n",
      "[CV] END bootstrap=True, max_depth=5, min_samples_leaf=2, min_samples_split=10, n_estimators=100; total time=   0.1s\n",
      "[CV] END bootstrap=True, max_depth=5, min_samples_leaf=2, min_samples_split=10, n_estimators=100; total time=   0.1s\n",
      "[CV] END bootstrap=True, max_depth=5, min_samples_leaf=2, min_samples_split=10, n_estimators=200; total time=   0.2s\n",
      "[CV] END bootstrap=True, max_depth=5, min_samples_leaf=2, min_samples_split=10, n_estimators=200; total time=   0.2s\n",
      "[CV] END bootstrap=True, max_depth=5, min_samples_leaf=2, min_samples_split=10, n_estimators=200; total time=   0.3s\n",
      "[CV] END bootstrap=True, max_depth=5, min_samples_leaf=2, min_samples_split=5, n_estimators=1000; total time=   1.0s\n",
      "[CV] END bootstrap=True, max_depth=5, min_samples_leaf=2, min_samples_split=5, n_estimators=1000; total time=   0.9s\n",
      "[CV] END bootstrap=True, max_depth=5, min_samples_leaf=2, min_samples_split=10, n_estimators=200; total time=   0.3s\n",
      "[CV] END bootstrap=True, max_depth=5, min_samples_leaf=2, min_samples_split=10, n_estimators=200; total time=   0.3s\n",
      "[CV] END bootstrap=True, max_depth=5, min_samples_leaf=2, min_samples_split=5, n_estimators=1000; total time=   1.0s\n",
      "[CV] END bootstrap=True, max_depth=5, min_samples_leaf=2, min_samples_split=5, n_estimators=1000; total time=   1.0s\n",
      "[CV] END bootstrap=True, max_depth=5, min_samples_leaf=2, min_samples_split=5, n_estimators=1000; total time=   1.0s\n",
      "[CV] END bootstrap=True, max_depth=5, min_samples_leaf=2, min_samples_split=10, n_estimators=500; total time=   0.4s\n",
      "[CV] END bootstrap=True, max_depth=5, min_samples_leaf=4, min_samples_split=2, n_estimators=100; total time=   0.1s\n",
      "[CV] END bootstrap=True, max_depth=5, min_samples_leaf=4, min_samples_split=2, n_estimators=100; total time=   0.1s\n",
      "[CV] END bootstrap=True, max_depth=5, min_samples_leaf=2, min_samples_split=10, n_estimators=500; total time=   0.5s\n",
      "[CV] END bootstrap=True, max_depth=5, min_samples_leaf=2, min_samples_split=10, n_estimators=500; total time=   0.6s\n",
      "[CV] END bootstrap=True, max_depth=5, min_samples_leaf=2, min_samples_split=10, n_estimators=500; total time=   0.5s\n",
      "[CV] END bootstrap=True, max_depth=5, min_samples_leaf=4, min_samples_split=2, n_estimators=100; total time=   0.1s\n",
      "[CV] END bootstrap=True, max_depth=5, min_samples_leaf=4, min_samples_split=2, n_estimators=100; total time=   0.1s\n",
      "[CV] END bootstrap=True, max_depth=5, min_samples_leaf=4, min_samples_split=2, n_estimators=100; total time=   0.1s\n",
      "[CV] END bootstrap=True, max_depth=5, min_samples_leaf=2, min_samples_split=10, n_estimators=500; total time=   0.7s\n",
      "[CV] END bootstrap=True, max_depth=5, min_samples_leaf=4, min_samples_split=2, n_estimators=200; total time=   0.2s\n",
      "[CV] END bootstrap=True, max_depth=5, min_samples_leaf=4, min_samples_split=2, n_estimators=200; total time=   0.2s\n",
      "[CV] END bootstrap=True, max_depth=5, min_samples_leaf=4, min_samples_split=2, n_estimators=200; total time=   0.2s\n",
      "[CV] END bootstrap=True, max_depth=5, min_samples_leaf=4, min_samples_split=2, n_estimators=200; total time=   0.2s\n",
      "[CV] END bootstrap=True, max_depth=5, min_samples_leaf=4, min_samples_split=2, n_estimators=200; total time=   0.3s\n",
      "[CV] END bootstrap=True, max_depth=5, min_samples_leaf=2, min_samples_split=10, n_estimators=1000; total time=   0.9s\n",
      "[CV] END bootstrap=True, max_depth=5, min_samples_leaf=2, min_samples_split=10, n_estimators=1000; total time=   1.0s\n",
      "[CV] END bootstrap=True, max_depth=5, min_samples_leaf=2, min_samples_split=10, n_estimators=1000; total time=   0.9s\n",
      "[CV] END bootstrap=True, max_depth=5, min_samples_leaf=4, min_samples_split=2, n_estimators=500; total time=   0.5s\n",
      "[CV] END bootstrap=True, max_depth=5, min_samples_leaf=4, min_samples_split=2, n_estimators=500; total time=   0.5s\n",
      "[CV] END bootstrap=True, max_depth=5, min_samples_leaf=4, min_samples_split=2, n_estimators=500; total time=   0.5s\n",
      "[CV] END bootstrap=True, max_depth=5, min_samples_leaf=4, min_samples_split=5, n_estimators=100; total time=   0.1s\n",
      "[CV] END bootstrap=True, max_depth=5, min_samples_leaf=2, min_samples_split=10, n_estimators=1000; total time=   1.3s\n",
      "[CV] END bootstrap=True, max_depth=5, min_samples_leaf=4, min_samples_split=2, n_estimators=500; total time=   0.7s\n",
      "[CV] END bootstrap=True, max_depth=5, min_samples_leaf=2, min_samples_split=10, n_estimators=1000; total time=   1.4s\n",
      "[CV] END bootstrap=True, max_depth=5, min_samples_leaf=4, min_samples_split=5, n_estimators=100; total time=   0.1s\n",
      "[CV] END bootstrap=True, max_depth=5, min_samples_leaf=4, min_samples_split=5, n_estimators=100; total time=   0.2s\n",
      "[CV] END bootstrap=True, max_depth=5, min_samples_leaf=4, min_samples_split=5, n_estimators=100; total time=   0.2s\n",
      "[CV] END bootstrap=True, max_depth=5, min_samples_leaf=4, min_samples_split=5, n_estimators=100; total time=   0.1s\n",
      "[CV] END bootstrap=True, max_depth=5, min_samples_leaf=4, min_samples_split=5, n_estimators=200; total time=   0.2s\n",
      "[CV] END bootstrap=True, max_depth=5, min_samples_leaf=4, min_samples_split=2, n_estimators=500; total time=   0.7s\n",
      "[CV] END bootstrap=True, max_depth=5, min_samples_leaf=4, min_samples_split=5, n_estimators=200; total time=   0.2s\n",
      "[CV] END bootstrap=True, max_depth=5, min_samples_leaf=4, min_samples_split=5, n_estimators=200; total time=   0.2s\n",
      "[CV] END bootstrap=True, max_depth=5, min_samples_leaf=4, min_samples_split=5, n_estimators=200; total time=   0.2s\n",
      "[CV] END bootstrap=True, max_depth=5, min_samples_leaf=4, min_samples_split=5, n_estimators=200; total time=   0.3s\n",
      "[CV] END bootstrap=True, max_depth=5, min_samples_leaf=4, min_samples_split=2, n_estimators=1000; total time=   0.9s\n",
      "[CV] END bootstrap=True, max_depth=5, min_samples_leaf=4, min_samples_split=2, n_estimators=1000; total time=   0.9s\n",
      "[CV] END bootstrap=True, max_depth=5, min_samples_leaf=4, min_samples_split=2, n_estimators=1000; total time=   1.0s\n",
      "[CV] END bootstrap=True, max_depth=5, min_samples_leaf=4, min_samples_split=2, n_estimators=1000; total time=   0.9s\n",
      "[CV] END bootstrap=True, max_depth=5, min_samples_leaf=4, min_samples_split=2, n_estimators=1000; total time=   1.0s\n",
      "[CV] END bootstrap=True, max_depth=5, min_samples_leaf=4, min_samples_split=5, n_estimators=500; total time=   0.5s\n",
      "[CV] END bootstrap=True, max_depth=5, min_samples_leaf=4, min_samples_split=5, n_estimators=500; total time=   0.7s\n",
      "[CV] END bootstrap=True, max_depth=5, min_samples_leaf=4, min_samples_split=10, n_estimators=100; total time=   0.1s\n",
      "[CV] END bootstrap=True, max_depth=5, min_samples_leaf=4, min_samples_split=5, n_estimators=500; total time=   0.6s\n",
      "[CV] END bootstrap=True, max_depth=5, min_samples_leaf=4, min_samples_split=10, n_estimators=100; total time=   0.1s\n",
      "[CV] END bootstrap=True, max_depth=5, min_samples_leaf=4, min_samples_split=5, n_estimators=500; total time=   0.7s\n",
      "[CV] END bootstrap=True, max_depth=5, min_samples_leaf=4, min_samples_split=10, n_estimators=100; total time=   0.1s\n",
      "[CV] END bootstrap=True, max_depth=5, min_samples_leaf=4, min_samples_split=10, n_estimators=100; total time=   0.1s\n",
      "[CV] END bootstrap=True, max_depth=5, min_samples_leaf=4, min_samples_split=10, n_estimators=100; total time=   0.1s\n",
      "[CV] END bootstrap=True, max_depth=5, min_samples_leaf=4, min_samples_split=5, n_estimators=500; total time=   0.7s\n",
      "[CV] END bootstrap=True, max_depth=5, min_samples_leaf=4, min_samples_split=10, n_estimators=200; total time=   0.2s\n",
      "[CV] END bootstrap=True, max_depth=5, min_samples_leaf=4, min_samples_split=10, n_estimators=200; total time=   0.2s\n",
      "[CV] END bootstrap=True, max_depth=5, min_samples_leaf=4, min_samples_split=10, n_estimators=200; total time=   0.3s\n",
      "[CV] END bootstrap=True, max_depth=5, min_samples_leaf=4, min_samples_split=10, n_estimators=200; total time=   0.3s\n",
      "[CV] END bootstrap=True, max_depth=5, min_samples_leaf=4, min_samples_split=10, n_estimators=200; total time=   0.2s\n",
      "[CV] END bootstrap=True, max_depth=5, min_samples_leaf=4, min_samples_split=5, n_estimators=1000; total time=   0.9s\n",
      "[CV] END bootstrap=True, max_depth=5, min_samples_leaf=4, min_samples_split=5, n_estimators=1000; total time=   0.9s\n",
      "[CV] END bootstrap=True, max_depth=5, min_samples_leaf=4, min_samples_split=5, n_estimators=1000; total time=   0.9s\n",
      "[CV] END bootstrap=True, max_depth=5, min_samples_leaf=4, min_samples_split=5, n_estimators=1000; total time=   0.9s\n",
      "[CV] END bootstrap=True, max_depth=5, min_samples_leaf=4, min_samples_split=5, n_estimators=1000; total time=   0.9s\n",
      "[CV] END bootstrap=True, max_depth=5, min_samples_leaf=4, min_samples_split=10, n_estimators=500; total time=   0.4s\n",
      "[CV] END bootstrap=True, max_depth=10, min_samples_leaf=1, min_samples_split=2, n_estimators=100; total time=   0.1s\n",
      "[CV] END bootstrap=True, max_depth=10, min_samples_leaf=1, min_samples_split=2, n_estimators=100; total time=   0.1s\n",
      "[CV] END bootstrap=True, max_depth=5, min_samples_leaf=4, min_samples_split=10, n_estimators=500; total time=   0.6s\n",
      "[CV] END bootstrap=True, max_depth=5, min_samples_leaf=4, min_samples_split=10, n_estimators=500; total time=   0.7s\n",
      "[CV] END bootstrap=True, max_depth=5, min_samples_leaf=4, min_samples_split=10, n_estimators=500; total time=   0.7s\n",
      "[CV] END bootstrap=True, max_depth=10, min_samples_leaf=1, min_samples_split=2, n_estimators=100; total time=   0.1s\n",
      "[CV] END bootstrap=True, max_depth=10, min_samples_leaf=1, min_samples_split=2, n_estimators=100; total time=   0.1s\n",
      "[CV] END bootstrap=True, max_depth=5, min_samples_leaf=4, min_samples_split=10, n_estimators=500; total time=   0.7s\n",
      "[CV] END bootstrap=True, max_depth=10, min_samples_leaf=1, min_samples_split=2, n_estimators=100; total time=   0.2s\n",
      "[CV] END bootstrap=True, max_depth=10, min_samples_leaf=1, min_samples_split=2, n_estimators=200; total time=   0.2s\n",
      "[CV] END bootstrap=True, max_depth=10, min_samples_leaf=1, min_samples_split=2, n_estimators=200; total time=   0.3s\n",
      "[CV] END bootstrap=True, max_depth=10, min_samples_leaf=1, min_samples_split=2, n_estimators=200; total time=   0.3s\n",
      "[CV] END bootstrap=True, max_depth=10, min_samples_leaf=1, min_samples_split=2, n_estimators=200; total time=   0.3s\n",
      "[CV] END bootstrap=True, max_depth=10, min_samples_leaf=1, min_samples_split=2, n_estimators=200; total time=   0.3s\n",
      "[CV] END bootstrap=True, max_depth=5, min_samples_leaf=4, min_samples_split=10, n_estimators=1000; total time=   0.9s\n",
      "[CV] END bootstrap=True, max_depth=5, min_samples_leaf=4, min_samples_split=10, n_estimators=1000; total time=   1.0s\n",
      "[CV] END bootstrap=True, max_depth=5, min_samples_leaf=4, min_samples_split=10, n_estimators=1000; total time=   0.9s\n",
      "[CV] END bootstrap=True, max_depth=5, min_samples_leaf=4, min_samples_split=10, n_estimators=1000; total time=   0.9s\n",
      "[CV] END bootstrap=True, max_depth=5, min_samples_leaf=4, min_samples_split=10, n_estimators=1000; total time=   0.9s\n",
      "[CV] END bootstrap=True, max_depth=10, min_samples_leaf=1, min_samples_split=2, n_estimators=500; total time=   0.5s\n",
      "[CV] END bootstrap=True, max_depth=10, min_samples_leaf=1, min_samples_split=5, n_estimators=100; total time=   0.1s\n",
      "[CV] END bootstrap=True, max_depth=10, min_samples_leaf=1, min_samples_split=5, n_estimators=100; total time=   0.1s\n",
      "[CV] END bootstrap=True, max_depth=10, min_samples_leaf=1, min_samples_split=5, n_estimators=100; total time=   0.1s\n",
      "[CV] END bootstrap=True, max_depth=10, min_samples_leaf=1, min_samples_split=2, n_estimators=500; total time=   0.7s\n",
      "[CV] END bootstrap=True, max_depth=10, min_samples_leaf=1, min_samples_split=2, n_estimators=500; total time=   0.7s\n",
      "[CV] END bootstrap=True, max_depth=10, min_samples_leaf=1, min_samples_split=5, n_estimators=100; total time=   0.1s\n",
      "[CV] END bootstrap=True, max_depth=10, min_samples_leaf=1, min_samples_split=2, n_estimators=500; total time=   0.7s\n",
      "[CV] END bootstrap=True, max_depth=10, min_samples_leaf=1, min_samples_split=5, n_estimators=100; total time=   0.2s\n",
      "[CV] END bootstrap=True, max_depth=10, min_samples_leaf=1, min_samples_split=2, n_estimators=500; total time=   0.8s\n",
      "[CV] END bootstrap=True, max_depth=10, min_samples_leaf=1, min_samples_split=5, n_estimators=200; total time=   0.2s\n",
      "[CV] END bootstrap=True, max_depth=10, min_samples_leaf=1, min_samples_split=5, n_estimators=200; total time=   0.3s\n",
      "[CV] END bootstrap=True, max_depth=10, min_samples_leaf=1, min_samples_split=5, n_estimators=200; total time=   0.3s\n",
      "[CV] END bootstrap=True, max_depth=10, min_samples_leaf=1, min_samples_split=5, n_estimators=200; total time=   0.3s\n",
      "[CV] END bootstrap=True, max_depth=10, min_samples_leaf=1, min_samples_split=2, n_estimators=1000; total time=   1.0s\n",
      "[CV] END bootstrap=True, max_depth=10, min_samples_leaf=1, min_samples_split=2, n_estimators=1000; total time=   1.0s\n",
      "[CV] END bootstrap=True, max_depth=10, min_samples_leaf=1, min_samples_split=2, n_estimators=1000; total time=   0.9s\n",
      "[CV] END bootstrap=True, max_depth=10, min_samples_leaf=1, min_samples_split=2, n_estimators=1000; total time=   1.0s\n",
      "[CV] END bootstrap=True, max_depth=10, min_samples_leaf=1, min_samples_split=5, n_estimators=200; total time=   0.4s\n",
      "[CV] END bootstrap=True, max_depth=10, min_samples_leaf=1, min_samples_split=2, n_estimators=1000; total time=   1.1s\n",
      "[CV] END bootstrap=True, max_depth=10, min_samples_leaf=1, min_samples_split=5, n_estimators=500; total time=   0.5s\n",
      "[CV] END bootstrap=True, max_depth=10, min_samples_leaf=1, min_samples_split=10, n_estimators=100; total time=   0.1s\n",
      "[CV] END bootstrap=True, max_depth=10, min_samples_leaf=1, min_samples_split=10, n_estimators=100; total time=   0.1s\n",
      "[CV] END bootstrap=True, max_depth=10, min_samples_leaf=1, min_samples_split=5, n_estimators=500; total time=   0.5s\n",
      "[CV] END bootstrap=True, max_depth=10, min_samples_leaf=1, min_samples_split=5, n_estimators=500; total time=   0.6s\n",
      "[CV] END bootstrap=True, max_depth=10, min_samples_leaf=1, min_samples_split=10, n_estimators=100; total time=   0.1s\n",
      "[CV] END bootstrap=True, max_depth=10, min_samples_leaf=1, min_samples_split=10, n_estimators=100; total time=   0.1s\n",
      "[CV] END bootstrap=True, max_depth=10, min_samples_leaf=1, min_samples_split=5, n_estimators=500; total time=   0.7s\n",
      "[CV] END bootstrap=True, max_depth=10, min_samples_leaf=1, min_samples_split=5, n_estimators=500; total time=   0.7s\n",
      "[CV] END bootstrap=True, max_depth=10, min_samples_leaf=1, min_samples_split=10, n_estimators=100; total time=   0.1s\n",
      "[CV] END bootstrap=True, max_depth=10, min_samples_leaf=1, min_samples_split=10, n_estimators=200; total time=   0.2s\n",
      "[CV] END bootstrap=True, max_depth=10, min_samples_leaf=1, min_samples_split=10, n_estimators=200; total time=   0.2s\n",
      "[CV] END bootstrap=True, max_depth=10, min_samples_leaf=1, min_samples_split=10, n_estimators=200; total time=   0.3s\n",
      "[CV] END bootstrap=True, max_depth=10, min_samples_leaf=1, min_samples_split=10, n_estimators=200; total time=   0.3s\n",
      "[CV] END bootstrap=True, max_depth=10, min_samples_leaf=1, min_samples_split=10, n_estimators=200; total time=   0.3s\n",
      "[CV] END bootstrap=True, max_depth=10, min_samples_leaf=1, min_samples_split=5, n_estimators=1000; total time=   1.0s\n",
      "[CV] END bootstrap=True, max_depth=10, min_samples_leaf=1, min_samples_split=5, n_estimators=1000; total time=   1.0s\n",
      "[CV] END bootstrap=True, max_depth=10, min_samples_leaf=1, min_samples_split=5, n_estimators=1000; total time=   1.0s\n",
      "[CV] END bootstrap=True, max_depth=10, min_samples_leaf=1, min_samples_split=5, n_estimators=1000; total time=   1.0s\n",
      "[CV] END bootstrap=True, max_depth=10, min_samples_leaf=1, min_samples_split=10, n_estimators=500; total time=   0.5s\n",
      "[CV] END bootstrap=True, max_depth=10, min_samples_leaf=1, min_samples_split=10, n_estimators=500; total time=   0.5s\n",
      "[CV] END bootstrap=True, max_depth=10, min_samples_leaf=2, min_samples_split=2, n_estimators=100; total time=   0.1s\n",
      "[CV] END bootstrap=True, max_depth=10, min_samples_leaf=2, min_samples_split=2, n_estimators=100; total time=   0.1s\n",
      "[CV] END bootstrap=True, max_depth=10, min_samples_leaf=1, min_samples_split=5, n_estimators=1000; total time=   1.4s\n",
      "[CV] END bootstrap=True, max_depth=10, min_samples_leaf=1, min_samples_split=10, n_estimators=500; total time=   0.7s\n",
      "[CV] END bootstrap=True, max_depth=10, min_samples_leaf=2, min_samples_split=2, n_estimators=100; total time=   0.1s\n",
      "[CV] END bootstrap=True, max_depth=10, min_samples_leaf=2, min_samples_split=2, n_estimators=100; total time=   0.1s\n",
      "[CV] END bootstrap=True, max_depth=10, min_samples_leaf=1, min_samples_split=10, n_estimators=500; total time=   0.7s\n",
      "[CV] END bootstrap=True, max_depth=10, min_samples_leaf=1, min_samples_split=10, n_estimators=500; total time=   0.7s\n",
      "[CV] END bootstrap=True, max_depth=10, min_samples_leaf=2, min_samples_split=2, n_estimators=200; total time=   0.2s\n",
      "[CV] END bootstrap=True, max_depth=10, min_samples_leaf=2, min_samples_split=2, n_estimators=100; total time=   0.2s\n",
      "[CV] END bootstrap=True, max_depth=10, min_samples_leaf=2, min_samples_split=2, n_estimators=200; total time=   0.3s\n",
      "[CV] END bootstrap=True, max_depth=10, min_samples_leaf=2, min_samples_split=2, n_estimators=200; total time=   0.2s\n",
      "[CV] END bootstrap=True, max_depth=10, min_samples_leaf=1, min_samples_split=10, n_estimators=1000; total time=   1.0s\n",
      "[CV] END bootstrap=True, max_depth=10, min_samples_leaf=2, min_samples_split=2, n_estimators=200; total time=   0.3s\n",
      "[CV] END bootstrap=True, max_depth=10, min_samples_leaf=2, min_samples_split=2, n_estimators=200; total time=   0.3s\n",
      "[CV] END bootstrap=True, max_depth=10, min_samples_leaf=1, min_samples_split=10, n_estimators=1000; total time=   1.0s\n",
      "[CV] END bootstrap=True, max_depth=10, min_samples_leaf=1, min_samples_split=10, n_estimators=1000; total time=   1.0s\n",
      "[CV] END bootstrap=True, max_depth=10, min_samples_leaf=1, min_samples_split=10, n_estimators=1000; total time=   0.9s\n",
      "[CV] END bootstrap=True, max_depth=10, min_samples_leaf=1, min_samples_split=10, n_estimators=1000; total time=   0.9s\n",
      "[CV] END bootstrap=True, max_depth=10, min_samples_leaf=2, min_samples_split=2, n_estimators=500; total time=   0.5s\n",
      "[CV] END bootstrap=True, max_depth=10, min_samples_leaf=2, min_samples_split=2, n_estimators=500; total time=   0.5s\n",
      "[CV] END bootstrap=True, max_depth=10, min_samples_leaf=2, min_samples_split=2, n_estimators=500; total time=   0.7s\n",
      "[CV] END bootstrap=True, max_depth=10, min_samples_leaf=2, min_samples_split=5, n_estimators=100; total time=   0.1s\n",
      "[CV] END bootstrap=True, max_depth=10, min_samples_leaf=2, min_samples_split=5, n_estimators=100; total time=   0.1s\n",
      "[CV] END bootstrap=True, max_depth=10, min_samples_leaf=2, min_samples_split=2, n_estimators=500; total time=   0.7s\n",
      "[CV] END bootstrap=True, max_depth=10, min_samples_leaf=2, min_samples_split=5, n_estimators=100; total time=   0.1s\n",
      "[CV] END bootstrap=True, max_depth=10, min_samples_leaf=2, min_samples_split=5, n_estimators=100; total time=   0.1s\n",
      "[CV] END bootstrap=True, max_depth=10, min_samples_leaf=2, min_samples_split=5, n_estimators=100; total time=   0.1s\n",
      "[CV] END bootstrap=True, max_depth=10, min_samples_leaf=2, min_samples_split=2, n_estimators=500; total time=   0.7s\n",
      "[CV] END bootstrap=True, max_depth=10, min_samples_leaf=2, min_samples_split=5, n_estimators=200; total time=   0.2s\n",
      "[CV] END bootstrap=True, max_depth=10, min_samples_leaf=2, min_samples_split=5, n_estimators=200; total time=   0.2s\n",
      "[CV] END bootstrap=True, max_depth=10, min_samples_leaf=2, min_samples_split=5, n_estimators=200; total time=   0.3s\n",
      "[CV] END bootstrap=True, max_depth=10, min_samples_leaf=2, min_samples_split=5, n_estimators=200; total time=   0.3s\n",
      "[CV] END bootstrap=True, max_depth=10, min_samples_leaf=2, min_samples_split=5, n_estimators=200; total time=   0.3s\n",
      "[CV] END bootstrap=True, max_depth=10, min_samples_leaf=2, min_samples_split=2, n_estimators=1000; total time=   1.0s\n",
      "[CV] END bootstrap=True, max_depth=10, min_samples_leaf=2, min_samples_split=2, n_estimators=1000; total time=   1.0s\n",
      "[CV] END bootstrap=True, max_depth=10, min_samples_leaf=2, min_samples_split=2, n_estimators=1000; total time=   1.0s\n",
      "[CV] END bootstrap=True, max_depth=10, min_samples_leaf=2, min_samples_split=2, n_estimators=1000; total time=   1.0s\n",
      "[CV] END bootstrap=True, max_depth=10, min_samples_leaf=2, min_samples_split=5, n_estimators=500; total time=   0.5s\n",
      "[CV] END bootstrap=True, max_depth=10, min_samples_leaf=2, min_samples_split=5, n_estimators=500; total time=   0.5s\n",
      "[CV] END bootstrap=True, max_depth=10, min_samples_leaf=2, min_samples_split=2, n_estimators=1000; total time=   1.4s\n",
      "[CV] END bootstrap=True, max_depth=10, min_samples_leaf=2, min_samples_split=10, n_estimators=100; total time=   0.1s\n",
      "[CV] END bootstrap=True, max_depth=10, min_samples_leaf=2, min_samples_split=5, n_estimators=500; total time=   0.6s\n",
      "[CV] END bootstrap=True, max_depth=10, min_samples_leaf=2, min_samples_split=10, n_estimators=100; total time=   0.2s\n",
      "[CV] END bootstrap=True, max_depth=10, min_samples_leaf=2, min_samples_split=10, n_estimators=100; total time=   0.1s\n",
      "[CV] END bootstrap=True, max_depth=10, min_samples_leaf=2, min_samples_split=5, n_estimators=500; total time=   0.7s\n",
      "[CV] END bootstrap=True, max_depth=10, min_samples_leaf=2, min_samples_split=5, n_estimators=500; total time=   0.7s\n",
      "[CV] END bootstrap=True, max_depth=10, min_samples_leaf=2, min_samples_split=10, n_estimators=100; total time=   0.1s\n",
      "[CV] END bootstrap=True, max_depth=10, min_samples_leaf=2, min_samples_split=10, n_estimators=100; total time=   0.2s\n",
      "[CV] END bootstrap=True, max_depth=10, min_samples_leaf=2, min_samples_split=10, n_estimators=200; total time=   0.2s\n",
      "[CV] END bootstrap=True, max_depth=10, min_samples_leaf=2, min_samples_split=10, n_estimators=200; total time=   0.2s\n",
      "[CV] END bootstrap=True, max_depth=10, min_samples_leaf=2, min_samples_split=10, n_estimators=200; total time=   0.3s\n",
      "[CV] END bootstrap=True, max_depth=10, min_samples_leaf=2, min_samples_split=10, n_estimators=200; total time=   0.3s\n",
      "[CV] END bootstrap=True, max_depth=10, min_samples_leaf=2, min_samples_split=5, n_estimators=1000; total time=   1.0s\n",
      "[CV] END bootstrap=True, max_depth=10, min_samples_leaf=2, min_samples_split=10, n_estimators=200; total time=   0.3s\n",
      "[CV] END bootstrap=True, max_depth=10, min_samples_leaf=2, min_samples_split=5, n_estimators=1000; total time=   1.0s\n",
      "[CV] END bootstrap=True, max_depth=10, min_samples_leaf=2, min_samples_split=5, n_estimators=1000; total time=   1.0s\n",
      "[CV] END bootstrap=True, max_depth=10, min_samples_leaf=2, min_samples_split=5, n_estimators=1000; total time=   0.9s\n",
      "[CV] END bootstrap=True, max_depth=10, min_samples_leaf=2, min_samples_split=5, n_estimators=1000; total time=   0.9s\n",
      "[CV] END bootstrap=True, max_depth=10, min_samples_leaf=2, min_samples_split=10, n_estimators=500; total time=   0.5s\n",
      "[CV] END bootstrap=True, max_depth=10, min_samples_leaf=4, min_samples_split=2, n_estimators=100; total time=   0.1s\n",
      "[CV] END bootstrap=True, max_depth=10, min_samples_leaf=4, min_samples_split=2, n_estimators=100; total time=   0.1s\n",
      "[CV] END bootstrap=True, max_depth=10, min_samples_leaf=2, min_samples_split=10, n_estimators=500; total time=   0.5s\n",
      "[CV] END bootstrap=True, max_depth=10, min_samples_leaf=4, min_samples_split=2, n_estimators=100; total time=   0.1s\n",
      "[CV] END bootstrap=True, max_depth=10, min_samples_leaf=2, min_samples_split=10, n_estimators=500; total time=   0.6s\n",
      "[CV] END bootstrap=True, max_depth=10, min_samples_leaf=4, min_samples_split=2, n_estimators=100; total time=   0.1s\n",
      "[CV] END bootstrap=True, max_depth=10, min_samples_leaf=2, min_samples_split=10, n_estimators=500; total time=   0.7s\n",
      "[CV] END bootstrap=True, max_depth=10, min_samples_leaf=4, min_samples_split=2, n_estimators=100; total time=   0.1s\n",
      "[CV] END bootstrap=True, max_depth=10, min_samples_leaf=2, min_samples_split=10, n_estimators=500; total time=   0.7s\n",
      "[CV] END bootstrap=True, max_depth=10, min_samples_leaf=4, min_samples_split=2, n_estimators=200; total time=   0.2s\n",
      "[CV] END bootstrap=True, max_depth=10, min_samples_leaf=4, min_samples_split=2, n_estimators=200; total time=   0.2s\n",
      "[CV] END bootstrap=True, max_depth=10, min_samples_leaf=4, min_samples_split=2, n_estimators=200; total time=   0.3s\n",
      "[CV] END bootstrap=True, max_depth=10, min_samples_leaf=4, min_samples_split=2, n_estimators=200; total time=   0.3s\n",
      "[CV] END bootstrap=True, max_depth=10, min_samples_leaf=4, min_samples_split=2, n_estimators=200; total time=   0.2s\n",
      "[CV] END bootstrap=True, max_depth=10, min_samples_leaf=2, min_samples_split=10, n_estimators=1000; total time=   1.0s\n",
      "[CV] END bootstrap=True, max_depth=10, min_samples_leaf=2, min_samples_split=10, n_estimators=1000; total time=   0.9s\n",
      "[CV] END bootstrap=True, max_depth=10, min_samples_leaf=2, min_samples_split=10, n_estimators=1000; total time=   0.9s\n",
      "[CV] END bootstrap=True, max_depth=10, min_samples_leaf=2, min_samples_split=10, n_estimators=1000; total time=   0.9s\n",
      "[CV] END bootstrap=True, max_depth=10, min_samples_leaf=4, min_samples_split=2, n_estimators=500; total time=   0.5s\n",
      "[CV] END bootstrap=True, max_depth=10, min_samples_leaf=2, min_samples_split=10, n_estimators=1000; total time=   1.3s\n",
      "[CV] END bootstrap=True, max_depth=10, min_samples_leaf=4, min_samples_split=2, n_estimators=500; total time=   0.5s\n",
      "[CV] END bootstrap=True, max_depth=10, min_samples_leaf=4, min_samples_split=5, n_estimators=100; total time=   0.1s\n",
      "[CV] END bootstrap=True, max_depth=10, min_samples_leaf=4, min_samples_split=5, n_estimators=100; total time=   0.1s\n",
      "[CV] END bootstrap=True, max_depth=10, min_samples_leaf=4, min_samples_split=5, n_estimators=100; total time=   0.1s\n",
      "[CV] END bootstrap=True, max_depth=10, min_samples_leaf=4, min_samples_split=2, n_estimators=500; total time=   0.7s\n",
      "[CV] END bootstrap=True, max_depth=10, min_samples_leaf=4, min_samples_split=2, n_estimators=500; total time=   0.7s\n",
      "[CV] END bootstrap=True, max_depth=10, min_samples_leaf=4, min_samples_split=5, n_estimators=100; total time=   0.1s\n",
      "[CV] END bootstrap=True, max_depth=10, min_samples_leaf=4, min_samples_split=5, n_estimators=100; total time=   0.1s\n",
      "[CV] END bootstrap=True, max_depth=10, min_samples_leaf=4, min_samples_split=2, n_estimators=500; total time=   0.7s\n",
      "[CV] END bootstrap=True, max_depth=10, min_samples_leaf=4, min_samples_split=5, n_estimators=200; total time=   0.3s\n",
      "[CV] END bootstrap=True, max_depth=10, min_samples_leaf=4, min_samples_split=5, n_estimators=200; total time=   0.2s\n",
      "[CV] END bootstrap=True, max_depth=10, min_samples_leaf=4, min_samples_split=5, n_estimators=200; total time=   0.3s\n",
      "[CV] END bootstrap=True, max_depth=10, min_samples_leaf=4, min_samples_split=5, n_estimators=200; total time=   0.3s\n",
      "[CV] END bootstrap=True, max_depth=10, min_samples_leaf=4, min_samples_split=2, n_estimators=1000; total time=   1.0s\n",
      "[CV] END bootstrap=True, max_depth=10, min_samples_leaf=4, min_samples_split=5, n_estimators=200; total time=   0.3s\n",
      "[CV] END bootstrap=True, max_depth=10, min_samples_leaf=4, min_samples_split=2, n_estimators=1000; total time=   0.9s\n",
      "[CV] END bootstrap=True, max_depth=10, min_samples_leaf=4, min_samples_split=2, n_estimators=1000; total time=   0.9s\n",
      "[CV] END bootstrap=True, max_depth=10, min_samples_leaf=4, min_samples_split=2, n_estimators=1000; total time=   1.0s\n",
      "[CV] END bootstrap=True, max_depth=10, min_samples_leaf=4, min_samples_split=2, n_estimators=1000; total time=   0.9s\n",
      "[CV] END bootstrap=True, max_depth=10, min_samples_leaf=4, min_samples_split=5, n_estimators=500; total time=   0.5s\n",
      "[CV] END bootstrap=True, max_depth=10, min_samples_leaf=4, min_samples_split=10, n_estimators=100; total time=   0.1s\n",
      "[CV] END bootstrap=True, max_depth=10, min_samples_leaf=4, min_samples_split=5, n_estimators=500; total time=   0.5s\n",
      "[CV] END bootstrap=True, max_depth=10, min_samples_leaf=4, min_samples_split=10, n_estimators=100; total time=   0.1s\n",
      "[CV] END bootstrap=True, max_depth=10, min_samples_leaf=4, min_samples_split=10, n_estimators=100; total time=   0.1s\n",
      "[CV] END bootstrap=True, max_depth=10, min_samples_leaf=4, min_samples_split=5, n_estimators=500; total time=   0.7s\n",
      "[CV] END bootstrap=True, max_depth=10, min_samples_leaf=4, min_samples_split=5, n_estimators=500; total time=   0.7s\n",
      "[CV] END bootstrap=True, max_depth=10, min_samples_leaf=4, min_samples_split=10, n_estimators=100; total time=   0.1s\n",
      "[CV] END bootstrap=True, max_depth=10, min_samples_leaf=4, min_samples_split=5, n_estimators=500; total time=   0.7s\n",
      "[CV] END bootstrap=True, max_depth=10, min_samples_leaf=4, min_samples_split=10, n_estimators=100; total time=   0.1s\n",
      "[CV] END bootstrap=True, max_depth=10, min_samples_leaf=4, min_samples_split=10, n_estimators=200; total time=   0.2s\n",
      "[CV] END bootstrap=True, max_depth=10, min_samples_leaf=4, min_samples_split=10, n_estimators=200; total time=   0.3s\n",
      "[CV] END bootstrap=True, max_depth=10, min_samples_leaf=4, min_samples_split=10, n_estimators=200; total time=   0.2s\n",
      "[CV] END bootstrap=True, max_depth=10, min_samples_leaf=4, min_samples_split=10, n_estimators=200; total time=   0.3s\n",
      "[CV] END bootstrap=True, max_depth=10, min_samples_leaf=4, min_samples_split=10, n_estimators=200; total time=   0.3s\n",
      "[CV] END bootstrap=True, max_depth=10, min_samples_leaf=4, min_samples_split=5, n_estimators=1000; total time=   0.9s\n",
      "[CV] END bootstrap=True, max_depth=10, min_samples_leaf=4, min_samples_split=5, n_estimators=1000; total time=   0.9s\n",
      "[CV] END bootstrap=True, max_depth=10, min_samples_leaf=4, min_samples_split=5, n_estimators=1000; total time=   0.9s\n",
      "[CV] END bootstrap=True, max_depth=10, min_samples_leaf=4, min_samples_split=5, n_estimators=1000; total time=   0.9s\n",
      "[CV] END bootstrap=True, max_depth=10, min_samples_leaf=4, min_samples_split=10, n_estimators=500; total time=   0.5s\n",
      "[CV] END bootstrap=True, max_depth=10, min_samples_leaf=4, min_samples_split=10, n_estimators=500; total time=   0.5s\n",
      "[CV] END bootstrap=True, max_depth=15, min_samples_leaf=1, min_samples_split=2, n_estimators=100; total time=   0.1s\n",
      "[CV] END bootstrap=True, max_depth=10, min_samples_leaf=4, min_samples_split=5, n_estimators=1000; total time=   1.4s\n",
      "[CV] END bootstrap=True, max_depth=15, min_samples_leaf=1, min_samples_split=2, n_estimators=100; total time=   0.1s\n",
      "[CV] END bootstrap=True, max_depth=10, min_samples_leaf=4, min_samples_split=10, n_estimators=500; total time=   0.7s\n",
      "[CV] END bootstrap=True, max_depth=10, min_samples_leaf=4, min_samples_split=10, n_estimators=500; total time=   0.7s\n",
      "[CV] END bootstrap=True, max_depth=10, min_samples_leaf=4, min_samples_split=10, n_estimators=500; total time=   0.7s\n",
      "[CV] END bootstrap=True, max_depth=15, min_samples_leaf=1, min_samples_split=2, n_estimators=100; total time=   0.1s\n",
      "[CV] END bootstrap=True, max_depth=15, min_samples_leaf=1, min_samples_split=2, n_estimators=100; total time=   0.1s\n",
      "[CV] END bootstrap=True, max_depth=15, min_samples_leaf=1, min_samples_split=2, n_estimators=100; total time=   0.1s\n",
      "[CV] END bootstrap=True, max_depth=15, min_samples_leaf=1, min_samples_split=2, n_estimators=200; total time=   0.2s\n",
      "[CV] END bootstrap=True, max_depth=15, min_samples_leaf=1, min_samples_split=2, n_estimators=200; total time=   0.2s\n",
      "[CV] END bootstrap=True, max_depth=15, min_samples_leaf=1, min_samples_split=2, n_estimators=200; total time=   0.3s\n",
      "[CV] END bootstrap=True, max_depth=15, min_samples_leaf=1, min_samples_split=2, n_estimators=200; total time=   0.3s\n",
      "[CV] END bootstrap=True, max_depth=10, min_samples_leaf=4, min_samples_split=10, n_estimators=1000; total time=   0.9s\n",
      "[CV] END bootstrap=True, max_depth=15, min_samples_leaf=1, min_samples_split=2, n_estimators=200; total time=   0.3s\n",
      "[CV] END bootstrap=True, max_depth=10, min_samples_leaf=4, min_samples_split=10, n_estimators=1000; total time=   1.0s\n",
      "[CV] END bootstrap=True, max_depth=10, min_samples_leaf=4, min_samples_split=10, n_estimators=1000; total time=   1.0s\n",
      "[CV] END bootstrap=True, max_depth=10, min_samples_leaf=4, min_samples_split=10, n_estimators=1000; total time=   1.0s\n",
      "[CV] END bootstrap=True, max_depth=10, min_samples_leaf=4, min_samples_split=10, n_estimators=1000; total time=   0.9s\n",
      "[CV] END bootstrap=True, max_depth=15, min_samples_leaf=1, min_samples_split=2, n_estimators=500; total time=   0.5s\n",
      "[CV] END bootstrap=True, max_depth=15, min_samples_leaf=1, min_samples_split=2, n_estimators=500; total time=   0.5s\n",
      "[CV] END bootstrap=True, max_depth=15, min_samples_leaf=1, min_samples_split=5, n_estimators=100; total time=   0.1s\n",
      "[CV] END bootstrap=True, max_depth=15, min_samples_leaf=1, min_samples_split=2, n_estimators=500; total time=   0.7s\n",
      "[CV] END bootstrap=True, max_depth=15, min_samples_leaf=1, min_samples_split=5, n_estimators=100; total time=   0.1s\n",
      "[CV] END bootstrap=True, max_depth=15, min_samples_leaf=1, min_samples_split=5, n_estimators=100; total time=   0.1s\n",
      "[CV] END bootstrap=True, max_depth=15, min_samples_leaf=1, min_samples_split=2, n_estimators=500; total time=   0.7s\n",
      "[CV] END bootstrap=True, max_depth=15, min_samples_leaf=1, min_samples_split=5, n_estimators=100; total time=   0.1s\n",
      "[CV] END bootstrap=True, max_depth=15, min_samples_leaf=1, min_samples_split=2, n_estimators=500; total time=   0.7s\n",
      "[CV] END bootstrap=True, max_depth=15, min_samples_leaf=1, min_samples_split=5, n_estimators=100; total time=   0.1s\n",
      "[CV] END bootstrap=True, max_depth=15, min_samples_leaf=1, min_samples_split=5, n_estimators=200; total time=   0.2s\n",
      "[CV] END bootstrap=True, max_depth=15, min_samples_leaf=1, min_samples_split=5, n_estimators=200; total time=   0.2s\n",
      "[CV] END bootstrap=True, max_depth=15, min_samples_leaf=1, min_samples_split=5, n_estimators=200; total time=   0.3s\n",
      "[CV] END bootstrap=True, max_depth=15, min_samples_leaf=1, min_samples_split=5, n_estimators=200; total time=   0.3s\n",
      "[CV] END bootstrap=True, max_depth=15, min_samples_leaf=1, min_samples_split=5, n_estimators=200; total time=   0.3s\n",
      "[CV] END bootstrap=True, max_depth=15, min_samples_leaf=1, min_samples_split=2, n_estimators=1000; total time=   1.0s\n",
      "[CV] END bootstrap=True, max_depth=15, min_samples_leaf=1, min_samples_split=2, n_estimators=1000; total time=   1.1s\n",
      "[CV] END bootstrap=True, max_depth=15, min_samples_leaf=1, min_samples_split=2, n_estimators=1000; total time=   1.0s\n",
      "[CV] END bootstrap=True, max_depth=15, min_samples_leaf=1, min_samples_split=2, n_estimators=1000; total time=   1.0s\n",
      "[CV] END bootstrap=True, max_depth=15, min_samples_leaf=1, min_samples_split=5, n_estimators=500; total time=   0.5s\n",
      "[CV] END bootstrap=True, max_depth=15, min_samples_leaf=1, min_samples_split=5, n_estimators=500; total time=   0.5s\n",
      "[CV] END bootstrap=True, max_depth=15, min_samples_leaf=1, min_samples_split=2, n_estimators=1000; total time=   1.4s\n",
      "[CV] END bootstrap=True, max_depth=15, min_samples_leaf=1, min_samples_split=10, n_estimators=100; total time=   0.1s\n",
      "[CV] END bootstrap=True, max_depth=15, min_samples_leaf=1, min_samples_split=10, n_estimators=100; total time=   0.1s\n",
      "[CV] END bootstrap=True, max_depth=15, min_samples_leaf=1, min_samples_split=10, n_estimators=100; total time=   0.1s\n",
      "[CV] END bootstrap=True, max_depth=15, min_samples_leaf=1, min_samples_split=10, n_estimators=100; total time=   0.1s\n",
      "[CV] END bootstrap=True, max_depth=15, min_samples_leaf=1, min_samples_split=10, n_estimators=100; total time=   0.2s\n",
      "[CV] END bootstrap=True, max_depth=15, min_samples_leaf=1, min_samples_split=5, n_estimators=500; total time=   0.7s\n",
      "[CV] END bootstrap=True, max_depth=15, min_samples_leaf=1, min_samples_split=5, n_estimators=500; total time=   0.7s\n",
      "[CV] END bootstrap=True, max_depth=15, min_samples_leaf=1, min_samples_split=5, n_estimators=500; total time=   0.8s\n",
      "[CV] END bootstrap=True, max_depth=15, min_samples_leaf=1, min_samples_split=10, n_estimators=200; total time=   0.2s\n",
      "[CV] END bootstrap=True, max_depth=15, min_samples_leaf=1, min_samples_split=10, n_estimators=200; total time=   0.3s\n",
      "[CV] END bootstrap=True, max_depth=15, min_samples_leaf=1, min_samples_split=10, n_estimators=200; total time=   0.3s\n",
      "[CV] END bootstrap=True, max_depth=15, min_samples_leaf=1, min_samples_split=10, n_estimators=200; total time=   0.3s\n",
      "[CV] END bootstrap=True, max_depth=15, min_samples_leaf=1, min_samples_split=10, n_estimators=200; total time=   0.2s\n",
      "[CV] END bootstrap=True, max_depth=15, min_samples_leaf=1, min_samples_split=5, n_estimators=1000; total time=   1.0s\n",
      "[CV] END bootstrap=True, max_depth=15, min_samples_leaf=1, min_samples_split=5, n_estimators=1000; total time=   1.0s\n",
      "[CV] END bootstrap=True, max_depth=15, min_samples_leaf=1, min_samples_split=5, n_estimators=1000; total time=   1.0s\n",
      "[CV] END bootstrap=True, max_depth=15, min_samples_leaf=1, min_samples_split=5, n_estimators=1000; total time=   1.0s\n",
      "[CV] END bootstrap=True, max_depth=15, min_samples_leaf=1, min_samples_split=10, n_estimators=500; total time=   0.5s\n",
      "[CV] END bootstrap=True, max_depth=15, min_samples_leaf=1, min_samples_split=5, n_estimators=1000; total time=   1.0s\n",
      "[CV] END bootstrap=True, max_depth=15, min_samples_leaf=2, min_samples_split=2, n_estimators=100; total time=   0.1s\n",
      "[CV] END bootstrap=True, max_depth=15, min_samples_leaf=2, min_samples_split=2, n_estimators=100; total time=   0.1s\n",
      "[CV] END bootstrap=True, max_depth=15, min_samples_leaf=1, min_samples_split=10, n_estimators=500; total time=   0.6s\n",
      "[CV] END bootstrap=True, max_depth=15, min_samples_leaf=1, min_samples_split=10, n_estimators=500; total time=   0.6s\n",
      "[CV] END bootstrap=True, max_depth=15, min_samples_leaf=2, min_samples_split=2, n_estimators=100; total time=   0.1s\n",
      "[CV] END bootstrap=True, max_depth=15, min_samples_leaf=1, min_samples_split=10, n_estimators=500; total time=   0.7s\n",
      "[CV] END bootstrap=True, max_depth=15, min_samples_leaf=1, min_samples_split=10, n_estimators=500; total time=   0.7s\n",
      "[CV] END bootstrap=True, max_depth=15, min_samples_leaf=2, min_samples_split=2, n_estimators=100; total time=   0.2s\n",
      "[CV] END bootstrap=True, max_depth=15, min_samples_leaf=2, min_samples_split=2, n_estimators=100; total time=   0.2s\n",
      "[CV] END bootstrap=True, max_depth=15, min_samples_leaf=2, min_samples_split=2, n_estimators=200; total time=   0.2s\n",
      "[CV] END bootstrap=True, max_depth=15, min_samples_leaf=2, min_samples_split=2, n_estimators=200; total time=   0.3s\n",
      "[CV] END bootstrap=True, max_depth=15, min_samples_leaf=2, min_samples_split=2, n_estimators=200; total time=   0.3s\n",
      "[CV] END bootstrap=True, max_depth=15, min_samples_leaf=2, min_samples_split=2, n_estimators=200; total time=   0.3s\n",
      "[CV] END bootstrap=True, max_depth=15, min_samples_leaf=2, min_samples_split=2, n_estimators=200; total time=   0.3s\n",
      "[CV] END bootstrap=True, max_depth=15, min_samples_leaf=1, min_samples_split=10, n_estimators=1000; total time=   1.0s\n",
      "[CV] END bootstrap=True, max_depth=15, min_samples_leaf=1, min_samples_split=10, n_estimators=1000; total time=   0.9s\n",
      "[CV] END bootstrap=True, max_depth=15, min_samples_leaf=1, min_samples_split=10, n_estimators=1000; total time=   0.9s\n",
      "[CV] END bootstrap=True, max_depth=15, min_samples_leaf=1, min_samples_split=10, n_estimators=1000; total time=   1.0s\n",
      "[CV] END bootstrap=True, max_depth=15, min_samples_leaf=1, min_samples_split=10, n_estimators=1000; total time=   0.9s\n",
      "[CV] END bootstrap=True, max_depth=15, min_samples_leaf=2, min_samples_split=2, n_estimators=500; total time=   0.5s\n",
      "[CV] END bootstrap=True, max_depth=15, min_samples_leaf=2, min_samples_split=5, n_estimators=100; total time=   0.1s\n",
      "[CV] END bootstrap=True, max_depth=15, min_samples_leaf=2, min_samples_split=5, n_estimators=100; total time=   0.1s\n",
      "[CV] END bootstrap=True, max_depth=15, min_samples_leaf=2, min_samples_split=5, n_estimators=100; total time=   0.1s\n",
      "[CV] END bootstrap=True, max_depth=15, min_samples_leaf=2, min_samples_split=2, n_estimators=500; total time=   0.7s\n",
      "[CV] END bootstrap=True, max_depth=15, min_samples_leaf=2, min_samples_split=5, n_estimators=100; total time=   0.1s\n",
      "[CV] END bootstrap=True, max_depth=15, min_samples_leaf=2, min_samples_split=2, n_estimators=500; total time=   0.7s\n",
      "[CV] END bootstrap=True, max_depth=15, min_samples_leaf=2, min_samples_split=2, n_estimators=500; total time=   0.7s\n",
      "[CV] END bootstrap=True, max_depth=15, min_samples_leaf=2, min_samples_split=5, n_estimators=100; total time=   0.2s\n",
      "[CV] END bootstrap=True, max_depth=15, min_samples_leaf=2, min_samples_split=2, n_estimators=500; total time=   0.7s\n",
      "[CV] END bootstrap=True, max_depth=15, min_samples_leaf=2, min_samples_split=5, n_estimators=200; total time=   0.2s\n",
      "[CV] END bootstrap=True, max_depth=15, min_samples_leaf=2, min_samples_split=5, n_estimators=200; total time=   0.3s\n",
      "[CV] END bootstrap=True, max_depth=15, min_samples_leaf=2, min_samples_split=2, n_estimators=1000; total time=   1.0s\n",
      "[CV] END bootstrap=True, max_depth=15, min_samples_leaf=2, min_samples_split=5, n_estimators=200; total time=   0.3s\n",
      "[CV] END bootstrap=True, max_depth=15, min_samples_leaf=2, min_samples_split=5, n_estimators=200; total time=   0.3s\n",
      "[CV] END bootstrap=True, max_depth=15, min_samples_leaf=2, min_samples_split=5, n_estimators=200; total time=   0.3s\n",
      "[CV] END bootstrap=True, max_depth=15, min_samples_leaf=2, min_samples_split=2, n_estimators=1000; total time=   1.0s\n",
      "[CV] END bootstrap=True, max_depth=15, min_samples_leaf=2, min_samples_split=2, n_estimators=1000; total time=   1.0s\n",
      "[CV] END bootstrap=True, max_depth=15, min_samples_leaf=2, min_samples_split=2, n_estimators=1000; total time=   1.0s\n",
      "[CV] END bootstrap=True, max_depth=15, min_samples_leaf=2, min_samples_split=2, n_estimators=1000; total time=   0.9s\n",
      "[CV] END bootstrap=True, max_depth=15, min_samples_leaf=2, min_samples_split=5, n_estimators=500; total time=   0.5s\n",
      "[CV] END bootstrap=True, max_depth=15, min_samples_leaf=2, min_samples_split=10, n_estimators=100; total time=   0.1s\n",
      "[CV] END bootstrap=True, max_depth=15, min_samples_leaf=2, min_samples_split=5, n_estimators=500; total time=   0.5s\n",
      "[CV] END bootstrap=True, max_depth=15, min_samples_leaf=2, min_samples_split=10, n_estimators=100; total time=   0.1s\n",
      "[CV] END bootstrap=True, max_depth=15, min_samples_leaf=2, min_samples_split=10, n_estimators=100; total time=   0.1s\n",
      "[CV] END bootstrap=True, max_depth=15, min_samples_leaf=2, min_samples_split=10, n_estimators=100; total time=   0.1s\n",
      "[CV] END bootstrap=True, max_depth=15, min_samples_leaf=2, min_samples_split=10, n_estimators=100; total time=   0.1s\n",
      "[CV] END bootstrap=True, max_depth=15, min_samples_leaf=2, min_samples_split=5, n_estimators=500; total time=   0.7s\n",
      "[CV] END bootstrap=True, max_depth=15, min_samples_leaf=2, min_samples_split=5, n_estimators=500; total time=   0.7s\n",
      "[CV] END bootstrap=True, max_depth=15, min_samples_leaf=2, min_samples_split=5, n_estimators=500; total time=   0.7s\n",
      "[CV] END bootstrap=True, max_depth=15, min_samples_leaf=2, min_samples_split=10, n_estimators=200; total time=   0.2s\n",
      "[CV] END bootstrap=True, max_depth=15, min_samples_leaf=2, min_samples_split=10, n_estimators=200; total time=   0.2s\n",
      "[CV] END bootstrap=True, max_depth=15, min_samples_leaf=2, min_samples_split=10, n_estimators=200; total time=   0.3s\n",
      "[CV] END bootstrap=True, max_depth=15, min_samples_leaf=2, min_samples_split=10, n_estimators=200; total time=   0.3s\n",
      "[CV] END bootstrap=True, max_depth=15, min_samples_leaf=2, min_samples_split=10, n_estimators=200; total time=   0.3s\n",
      "[CV] END bootstrap=True, max_depth=15, min_samples_leaf=2, min_samples_split=5, n_estimators=1000; total time=   0.9s\n",
      "[CV] END bootstrap=True, max_depth=15, min_samples_leaf=2, min_samples_split=5, n_estimators=1000; total time=   1.0s\n",
      "[CV] END bootstrap=True, max_depth=15, min_samples_leaf=2, min_samples_split=5, n_estimators=1000; total time=   1.0s\n",
      "[CV] END bootstrap=True, max_depth=15, min_samples_leaf=2, min_samples_split=5, n_estimators=1000; total time=   1.0s\n",
      "[CV] END bootstrap=True, max_depth=15, min_samples_leaf=2, min_samples_split=10, n_estimators=500; total time=   0.5s\n",
      "[CV] END bootstrap=True, max_depth=15, min_samples_leaf=2, min_samples_split=10, n_estimators=500; total time=   0.5s\n",
      "[CV] END bootstrap=True, max_depth=15, min_samples_leaf=4, min_samples_split=2, n_estimators=100; total time=   0.1s\n",
      "[CV] END bootstrap=True, max_depth=15, min_samples_leaf=2, min_samples_split=5, n_estimators=1000; total time=   1.4s\n",
      "[CV] END bootstrap=True, max_depth=15, min_samples_leaf=4, min_samples_split=2, n_estimators=100; total time=   0.1s\n",
      "[CV] END bootstrap=True, max_depth=15, min_samples_leaf=4, min_samples_split=2, n_estimators=100; total time=   0.1s\n",
      "[CV] END bootstrap=True, max_depth=15, min_samples_leaf=2, min_samples_split=10, n_estimators=500; total time=   0.7s\n",
      "[CV] END bootstrap=True, max_depth=15, min_samples_leaf=4, min_samples_split=2, n_estimators=100; total time=   0.1s\n",
      "[CV] END bootstrap=True, max_depth=15, min_samples_leaf=2, min_samples_split=10, n_estimators=500; total time=   0.7s\n",
      "[CV] END bootstrap=True, max_depth=15, min_samples_leaf=2, min_samples_split=10, n_estimators=500; total time=   0.7s\n",
      "[CV] END bootstrap=True, max_depth=15, min_samples_leaf=4, min_samples_split=2, n_estimators=100; total time=   0.2s\n",
      "[CV] END bootstrap=True, max_depth=15, min_samples_leaf=4, min_samples_split=2, n_estimators=200; total time=   0.2s\n",
      "[CV] END bootstrap=True, max_depth=15, min_samples_leaf=4, min_samples_split=2, n_estimators=200; total time=   0.2s\n",
      "[CV] END bootstrap=True, max_depth=15, min_samples_leaf=4, min_samples_split=2, n_estimators=200; total time=   0.3s\n",
      "[CV] END bootstrap=True, max_depth=15, min_samples_leaf=2, min_samples_split=10, n_estimators=1000; total time=   1.0s\n",
      "[CV] END bootstrap=True, max_depth=15, min_samples_leaf=4, min_samples_split=2, n_estimators=200; total time=   0.3s\n",
      "[CV] END bootstrap=True, max_depth=15, min_samples_leaf=2, min_samples_split=10, n_estimators=1000; total time=   1.0s\n",
      "[CV] END bootstrap=True, max_depth=15, min_samples_leaf=2, min_samples_split=10, n_estimators=1000; total time=   1.0s\n",
      "[CV] END bootstrap=True, max_depth=15, min_samples_leaf=4, min_samples_split=2, n_estimators=200; total time=   0.3s\n",
      "[CV] END bootstrap=True, max_depth=15, min_samples_leaf=2, min_samples_split=10, n_estimators=1000; total time=   1.0s\n",
      "[CV] END bootstrap=True, max_depth=15, min_samples_leaf=2, min_samples_split=10, n_estimators=1000; total time=   0.9s\n",
      "[CV] END bootstrap=True, max_depth=15, min_samples_leaf=4, min_samples_split=2, n_estimators=500; total time=   0.5s\n",
      "[CV] END bootstrap=True, max_depth=15, min_samples_leaf=4, min_samples_split=5, n_estimators=100; total time=   0.1s\n",
      "[CV] END bootstrap=True, max_depth=15, min_samples_leaf=4, min_samples_split=2, n_estimators=500; total time=   0.5s\n",
      "[CV] END bootstrap=True, max_depth=15, min_samples_leaf=4, min_samples_split=5, n_estimators=100; total time=   0.1s\n",
      "[CV] END bootstrap=True, max_depth=15, min_samples_leaf=4, min_samples_split=5, n_estimators=100; total time=   0.1s\n",
      "[CV] END bootstrap=True, max_depth=15, min_samples_leaf=4, min_samples_split=2, n_estimators=500; total time=   0.7s\n",
      "[CV] END bootstrap=True, max_depth=15, min_samples_leaf=4, min_samples_split=2, n_estimators=500; total time=   0.7s\n",
      "[CV] END bootstrap=True, max_depth=15, min_samples_leaf=4, min_samples_split=5, n_estimators=100; total time=   0.1s\n",
      "[CV] END bootstrap=True, max_depth=15, min_samples_leaf=4, min_samples_split=5, n_estimators=100; total time=   0.1s\n",
      "[CV] END bootstrap=True, max_depth=15, min_samples_leaf=4, min_samples_split=2, n_estimators=500; total time=   0.7s\n",
      "[CV] END bootstrap=True, max_depth=15, min_samples_leaf=4, min_samples_split=5, n_estimators=200; total time=   0.2s\n",
      "[CV] END bootstrap=True, max_depth=15, min_samples_leaf=4, min_samples_split=5, n_estimators=200; total time=   0.2s\n",
      "[CV] END bootstrap=True, max_depth=15, min_samples_leaf=4, min_samples_split=5, n_estimators=200; total time=   0.3s\n",
      "[CV] END bootstrap=True, max_depth=15, min_samples_leaf=4, min_samples_split=5, n_estimators=200; total time=   0.3s\n",
      "[CV] END bootstrap=True, max_depth=15, min_samples_leaf=4, min_samples_split=5, n_estimators=200; total time=   0.3s\n",
      "[CV] END bootstrap=True, max_depth=15, min_samples_leaf=4, min_samples_split=2, n_estimators=1000; total time=   1.0s\n",
      "[CV] END bootstrap=True, max_depth=15, min_samples_leaf=4, min_samples_split=2, n_estimators=1000; total time=   1.0s\n",
      "[CV] END bootstrap=True, max_depth=15, min_samples_leaf=4, min_samples_split=2, n_estimators=1000; total time=   0.9s\n",
      "[CV] END bootstrap=True, max_depth=15, min_samples_leaf=4, min_samples_split=2, n_estimators=1000; total time=   1.0s\n",
      "[CV] END bootstrap=True, max_depth=15, min_samples_leaf=4, min_samples_split=5, n_estimators=500; total time=   0.5s\n",
      "[CV] END bootstrap=True, max_depth=15, min_samples_leaf=4, min_samples_split=5, n_estimators=500; total time=   0.5s\n",
      "[CV] END bootstrap=True, max_depth=15, min_samples_leaf=4, min_samples_split=10, n_estimators=100; total time=   0.1s\n",
      "[CV] END bootstrap=True, max_depth=15, min_samples_leaf=4, min_samples_split=2, n_estimators=1000; total time=   1.4s\n",
      "[CV] END bootstrap=True, max_depth=15, min_samples_leaf=4, min_samples_split=10, n_estimators=100; total time=   0.1s\n",
      "[CV] END bootstrap=True, max_depth=15, min_samples_leaf=4, min_samples_split=5, n_estimators=500; total time=   0.6s\n",
      "[CV] END bootstrap=True, max_depth=15, min_samples_leaf=4, min_samples_split=10, n_estimators=100; total time=   0.1s\n",
      "[CV] END bootstrap=True, max_depth=15, min_samples_leaf=4, min_samples_split=10, n_estimators=100; total time=   0.1s\n",
      "[CV] END bootstrap=True, max_depth=15, min_samples_leaf=4, min_samples_split=5, n_estimators=500; total time=   0.7s\n",
      "[CV] END bootstrap=True, max_depth=15, min_samples_leaf=4, min_samples_split=10, n_estimators=100; total time=   0.1s\n",
      "[CV] END bootstrap=True, max_depth=15, min_samples_leaf=4, min_samples_split=5, n_estimators=500; total time=   0.7s\n",
      "[CV] END bootstrap=True, max_depth=15, min_samples_leaf=4, min_samples_split=10, n_estimators=200; total time=   0.2s\n",
      "[CV] END bootstrap=True, max_depth=15, min_samples_leaf=4, min_samples_split=10, n_estimators=200; total time=   0.3s\n",
      "[CV] END bootstrap=True, max_depth=15, min_samples_leaf=4, min_samples_split=10, n_estimators=200; total time=   0.3s\n",
      "[CV] END bootstrap=True, max_depth=15, min_samples_leaf=4, min_samples_split=10, n_estimators=200; total time=   0.3s\n",
      "[CV] END bootstrap=True, max_depth=15, min_samples_leaf=4, min_samples_split=10, n_estimators=200; total time=   0.3s\n",
      "[CV] END bootstrap=True, max_depth=15, min_samples_leaf=4, min_samples_split=5, n_estimators=1000; total time=   0.9s\n",
      "[CV] END bootstrap=True, max_depth=15, min_samples_leaf=4, min_samples_split=5, n_estimators=1000; total time=   0.9s\n",
      "[CV] END bootstrap=True, max_depth=15, min_samples_leaf=4, min_samples_split=5, n_estimators=1000; total time=   1.0s\n",
      "[CV] END bootstrap=True, max_depth=15, min_samples_leaf=4, min_samples_split=5, n_estimators=1000; total time=   0.9s\n",
      "[CV] END bootstrap=True, max_depth=15, min_samples_leaf=4, min_samples_split=5, n_estimators=1000; total time=   0.9s\n",
      "[CV] END bootstrap=True, max_depth=15, min_samples_leaf=4, min_samples_split=10, n_estimators=500; total time=   0.5s\n",
      "[CV] END bootstrap=True, max_depth=20, min_samples_leaf=1, min_samples_split=2, n_estimators=100; total time=   0.1s\n",
      "[CV] END bootstrap=True, max_depth=20, min_samples_leaf=1, min_samples_split=2, n_estimators=100; total time=   0.1s\n",
      "[CV] END bootstrap=True, max_depth=20, min_samples_leaf=1, min_samples_split=2, n_estimators=100; total time=   0.1s\n",
      "[CV] END bootstrap=True, max_depth=15, min_samples_leaf=4, min_samples_split=10, n_estimators=500; total time=   0.6s\n",
      "[CV] END bootstrap=True, max_depth=15, min_samples_leaf=4, min_samples_split=10, n_estimators=500; total time=   0.7s\n",
      "[CV] END bootstrap=True, max_depth=15, min_samples_leaf=4, min_samples_split=10, n_estimators=500; total time=   0.7s\n",
      "[CV] END bootstrap=True, max_depth=15, min_samples_leaf=4, min_samples_split=10, n_estimators=500; total time=   0.7s\n",
      "[CV] END bootstrap=True, max_depth=20, min_samples_leaf=1, min_samples_split=2, n_estimators=100; total time=   0.1s\n",
      "[CV] END bootstrap=True, max_depth=20, min_samples_leaf=1, min_samples_split=2, n_estimators=100; total time=   0.2s\n",
      "[CV] END bootstrap=True, max_depth=20, min_samples_leaf=1, min_samples_split=2, n_estimators=200; total time=   0.2s\n",
      "[CV] END bootstrap=True, max_depth=15, min_samples_leaf=4, min_samples_split=10, n_estimators=1000; total time=   0.9s\n",
      "[CV] END bootstrap=True, max_depth=20, min_samples_leaf=1, min_samples_split=2, n_estimators=200; total time=   0.2s\n",
      "[CV] END bootstrap=True, max_depth=20, min_samples_leaf=1, min_samples_split=2, n_estimators=200; total time=   0.3s\n",
      "[CV] END bootstrap=True, max_depth=15, min_samples_leaf=4, min_samples_split=10, n_estimators=1000; total time=   0.9s\n",
      "[CV] END bootstrap=True, max_depth=20, min_samples_leaf=1, min_samples_split=2, n_estimators=200; total time=   0.3s\n",
      "[CV] END bootstrap=True, max_depth=15, min_samples_leaf=4, min_samples_split=10, n_estimators=1000; total time=   1.0s\n",
      "[CV] END bootstrap=True, max_depth=15, min_samples_leaf=4, min_samples_split=10, n_estimators=1000; total time=   0.9s\n",
      "[CV] END bootstrap=True, max_depth=20, min_samples_leaf=1, min_samples_split=2, n_estimators=200; total time=   0.3s\n",
      "[CV] END bootstrap=True, max_depth=15, min_samples_leaf=4, min_samples_split=10, n_estimators=1000; total time=   0.9s\n",
      "[CV] END bootstrap=True, max_depth=20, min_samples_leaf=1, min_samples_split=2, n_estimators=500; total time=   0.5s\n",
      "[CV] END bootstrap=True, max_depth=20, min_samples_leaf=1, min_samples_split=2, n_estimators=500; total time=   0.5s\n",
      "[CV] END bootstrap=True, max_depth=20, min_samples_leaf=1, min_samples_split=2, n_estimators=500; total time=   0.5s\n",
      "[CV] END bootstrap=True, max_depth=20, min_samples_leaf=1, min_samples_split=5, n_estimators=100; total time=   0.1s\n",
      "[CV] END bootstrap=True, max_depth=20, min_samples_leaf=1, min_samples_split=5, n_estimators=100; total time=   0.1s\n",
      "[CV] END bootstrap=True, max_depth=20, min_samples_leaf=1, min_samples_split=5, n_estimators=100; total time=   0.1s\n",
      "[CV] END bootstrap=True, max_depth=20, min_samples_leaf=1, min_samples_split=2, n_estimators=500; total time=   0.7s\n",
      "[CV] END bootstrap=True, max_depth=20, min_samples_leaf=1, min_samples_split=5, n_estimators=100; total time=   0.1s\n",
      "[CV] END bootstrap=True, max_depth=20, min_samples_leaf=1, min_samples_split=5, n_estimators=100; total time=   0.1s\n",
      "[CV] END bootstrap=True, max_depth=20, min_samples_leaf=1, min_samples_split=2, n_estimators=500; total time=   0.7s\n",
      "[CV] END bootstrap=True, max_depth=20, min_samples_leaf=1, min_samples_split=5, n_estimators=200; total time=   0.2s\n",
      "[CV] END bootstrap=True, max_depth=20, min_samples_leaf=1, min_samples_split=5, n_estimators=200; total time=   0.2s\n",
      "[CV] END bootstrap=True, max_depth=20, min_samples_leaf=1, min_samples_split=5, n_estimators=200; total time=   0.2s\n",
      "[CV] END bootstrap=True, max_depth=20, min_samples_leaf=1, min_samples_split=5, n_estimators=200; total time=   0.3s\n",
      "[CV] END bootstrap=True, max_depth=20, min_samples_leaf=1, min_samples_split=5, n_estimators=200; total time=   0.3s\n",
      "[CV] END bootstrap=True, max_depth=20, min_samples_leaf=1, min_samples_split=2, n_estimators=1000; total time=   1.0s\n",
      "[CV] END bootstrap=True, max_depth=20, min_samples_leaf=1, min_samples_split=2, n_estimators=1000; total time=   1.0s\n",
      "[CV] END bootstrap=True, max_depth=20, min_samples_leaf=1, min_samples_split=2, n_estimators=1000; total time=   1.0s\n",
      "[CV] END bootstrap=True, max_depth=20, min_samples_leaf=1, min_samples_split=5, n_estimators=500; total time=   0.5s\n",
      "[CV] END bootstrap=True, max_depth=20, min_samples_leaf=1, min_samples_split=5, n_estimators=500; total time=   0.5s\n",
      "[CV] END bootstrap=True, max_depth=20, min_samples_leaf=1, min_samples_split=5, n_estimators=500; total time=   0.5s\n",
      "[CV] END bootstrap=True, max_depth=20, min_samples_leaf=1, min_samples_split=10, n_estimators=100; total time=   0.1s\n",
      "[CV] END bootstrap=True, max_depth=20, min_samples_leaf=1, min_samples_split=10, n_estimators=100; total time=   0.1s\n",
      "[CV] END bootstrap=True, max_depth=20, min_samples_leaf=1, min_samples_split=5, n_estimators=500; total time=   0.7s\n",
      "[CV] END bootstrap=True, max_depth=20, min_samples_leaf=1, min_samples_split=2, n_estimators=1000; total time=   1.5s\n",
      "[CV] END bootstrap=True, max_depth=20, min_samples_leaf=1, min_samples_split=2, n_estimators=1000; total time=   1.6s\n",
      "[CV] END bootstrap=True, max_depth=20, min_samples_leaf=1, min_samples_split=5, n_estimators=500; total time=   0.6s\n",
      "[CV] END bootstrap=True, max_depth=20, min_samples_leaf=1, min_samples_split=10, n_estimators=100; total time=   0.1s\n",
      "[CV] END bootstrap=True, max_depth=20, min_samples_leaf=1, min_samples_split=10, n_estimators=100; total time=   0.1s\n",
      "[CV] END bootstrap=True, max_depth=20, min_samples_leaf=1, min_samples_split=10, n_estimators=100; total time=   0.2s\n",
      "[CV] END bootstrap=True, max_depth=20, min_samples_leaf=1, min_samples_split=10, n_estimators=200; total time=   0.2s\n",
      "[CV] END bootstrap=True, max_depth=20, min_samples_leaf=1, min_samples_split=10, n_estimators=200; total time=   0.3s\n",
      "[CV] END bootstrap=True, max_depth=20, min_samples_leaf=1, min_samples_split=10, n_estimators=200; total time=   0.3s\n",
      "[CV] END bootstrap=True, max_depth=20, min_samples_leaf=1, min_samples_split=10, n_estimators=200; total time=   0.3s\n",
      "[CV] END bootstrap=True, max_depth=20, min_samples_leaf=1, min_samples_split=5, n_estimators=1000; total time=   1.0s\n",
      "[CV] END bootstrap=True, max_depth=20, min_samples_leaf=1, min_samples_split=10, n_estimators=200; total time=   0.3s\n",
      "[CV] END bootstrap=True, max_depth=20, min_samples_leaf=1, min_samples_split=5, n_estimators=1000; total time=   1.0s\n",
      "[CV] END bootstrap=True, max_depth=20, min_samples_leaf=1, min_samples_split=5, n_estimators=1000; total time=   0.9s\n",
      "[CV] END bootstrap=True, max_depth=20, min_samples_leaf=1, min_samples_split=5, n_estimators=1000; total time=   1.0s\n",
      "[CV] END bootstrap=True, max_depth=20, min_samples_leaf=1, min_samples_split=5, n_estimators=1000; total time=   0.9s\n",
      "[CV] END bootstrap=True, max_depth=20, min_samples_leaf=1, min_samples_split=10, n_estimators=500; total time=   0.5s\n",
      "[CV] END bootstrap=True, max_depth=20, min_samples_leaf=2, min_samples_split=2, n_estimators=100; total time=   0.1s\n",
      "[CV] END bootstrap=True, max_depth=20, min_samples_leaf=2, min_samples_split=2, n_estimators=100; total time=   0.1s\n",
      "[CV] END bootstrap=True, max_depth=20, min_samples_leaf=1, min_samples_split=10, n_estimators=500; total time=   0.5s\n",
      "[CV] END bootstrap=True, max_depth=20, min_samples_leaf=1, min_samples_split=10, n_estimators=500; total time=   0.7s\n",
      "[CV] END bootstrap=True, max_depth=20, min_samples_leaf=2, min_samples_split=2, n_estimators=100; total time=   0.1s\n",
      "[CV] END bootstrap=True, max_depth=20, min_samples_leaf=2, min_samples_split=2, n_estimators=100; total time=   0.1s\n",
      "[CV] END bootstrap=True, max_depth=20, min_samples_leaf=1, min_samples_split=10, n_estimators=500; total time=   0.7s\n",
      "[CV] END bootstrap=True, max_depth=20, min_samples_leaf=1, min_samples_split=10, n_estimators=500; total time=   0.7s\n",
      "[CV] END bootstrap=True, max_depth=20, min_samples_leaf=2, min_samples_split=2, n_estimators=100; total time=   0.1s\n",
      "[CV] END bootstrap=True, max_depth=20, min_samples_leaf=2, min_samples_split=2, n_estimators=200; total time=   0.2s\n",
      "[CV] END bootstrap=True, max_depth=20, min_samples_leaf=2, min_samples_split=2, n_estimators=200; total time=   0.2s\n",
      "[CV] END bootstrap=True, max_depth=20, min_samples_leaf=2, min_samples_split=2, n_estimators=200; total time=   0.3s\n",
      "[CV] END bootstrap=True, max_depth=20, min_samples_leaf=2, min_samples_split=2, n_estimators=200; total time=   0.3s\n",
      "[CV] END bootstrap=True, max_depth=20, min_samples_leaf=2, min_samples_split=2, n_estimators=200; total time=   0.3s\n",
      "[CV] END bootstrap=True, max_depth=20, min_samples_leaf=1, min_samples_split=10, n_estimators=1000; total time=   1.0s\n",
      "[CV] END bootstrap=True, max_depth=20, min_samples_leaf=1, min_samples_split=10, n_estimators=1000; total time=   0.9s\n",
      "[CV] END bootstrap=True, max_depth=20, min_samples_leaf=1, min_samples_split=10, n_estimators=1000; total time=   1.0s\n",
      "[CV] END bootstrap=True, max_depth=20, min_samples_leaf=1, min_samples_split=10, n_estimators=1000; total time=   1.0s\n",
      "[CV] END bootstrap=True, max_depth=20, min_samples_leaf=2, min_samples_split=2, n_estimators=500; total time=   0.5s\n",
      "[CV] END bootstrap=True, max_depth=20, min_samples_leaf=2, min_samples_split=2, n_estimators=500; total time=   0.5s\n",
      "[CV] END bootstrap=True, max_depth=20, min_samples_leaf=2, min_samples_split=5, n_estimators=100; total time=   0.1s\n",
      "[CV] END bootstrap=True, max_depth=20, min_samples_leaf=1, min_samples_split=10, n_estimators=1000; total time=   1.4s\n",
      "[CV] END bootstrap=True, max_depth=20, min_samples_leaf=2, min_samples_split=5, n_estimators=100; total time=   0.1s\n",
      "[CV] END bootstrap=True, max_depth=20, min_samples_leaf=2, min_samples_split=5, n_estimators=100; total time=   0.1s\n",
      "[CV] END bootstrap=True, max_depth=20, min_samples_leaf=2, min_samples_split=5, n_estimators=100; total time=   0.2s\n",
      "[CV] END bootstrap=True, max_depth=20, min_samples_leaf=2, min_samples_split=2, n_estimators=500; total time=   0.6s\n",
      "[CV] END bootstrap=True, max_depth=20, min_samples_leaf=2, min_samples_split=2, n_estimators=500; total time=   0.7s\n",
      "[CV] END bootstrap=True, max_depth=20, min_samples_leaf=2, min_samples_split=2, n_estimators=500; total time=   0.7s\n",
      "[CV] END bootstrap=True, max_depth=20, min_samples_leaf=2, min_samples_split=5, n_estimators=100; total time=   0.1s\n",
      "[CV] END bootstrap=True, max_depth=20, min_samples_leaf=2, min_samples_split=5, n_estimators=200; total time=   0.2s\n",
      "[CV] END bootstrap=True, max_depth=20, min_samples_leaf=2, min_samples_split=5, n_estimators=200; total time=   0.2s\n",
      "[CV] END bootstrap=True, max_depth=20, min_samples_leaf=2, min_samples_split=5, n_estimators=200; total time=   0.3s\n",
      "[CV] END bootstrap=True, max_depth=20, min_samples_leaf=2, min_samples_split=5, n_estimators=200; total time=   0.3s\n",
      "[CV] END bootstrap=True, max_depth=20, min_samples_leaf=2, min_samples_split=5, n_estimators=200; total time=   0.3s\n",
      "[CV] END bootstrap=True, max_depth=20, min_samples_leaf=2, min_samples_split=2, n_estimators=1000; total time=   1.0s\n",
      "[CV] END bootstrap=True, max_depth=20, min_samples_leaf=2, min_samples_split=2, n_estimators=1000; total time=   1.0s\n",
      "[CV] END bootstrap=True, max_depth=20, min_samples_leaf=2, min_samples_split=2, n_estimators=1000; total time=   1.0s\n",
      "[CV] END bootstrap=True, max_depth=20, min_samples_leaf=2, min_samples_split=2, n_estimators=1000; total time=   1.0s\n",
      "[CV] END bootstrap=True, max_depth=20, min_samples_leaf=2, min_samples_split=2, n_estimators=1000; total time=   1.0s\n",
      "[CV] END bootstrap=True, max_depth=20, min_samples_leaf=2, min_samples_split=5, n_estimators=500; total time=   0.5s\n",
      "[CV] END bootstrap=True, max_depth=20, min_samples_leaf=2, min_samples_split=10, n_estimators=100; total time=   0.1s\n",
      "[CV] END bootstrap=True, max_depth=20, min_samples_leaf=2, min_samples_split=5, n_estimators=500; total time=   0.7s\n",
      "[CV] END bootstrap=True, max_depth=20, min_samples_leaf=2, min_samples_split=10, n_estimators=100; total time=   0.1s\n",
      "[CV] END bootstrap=True, max_depth=20, min_samples_leaf=2, min_samples_split=5, n_estimators=500; total time=   0.7s\n",
      "[CV] END bootstrap=True, max_depth=20, min_samples_leaf=2, min_samples_split=5, n_estimators=500; total time=   0.7s\n",
      "[CV] END bootstrap=True, max_depth=20, min_samples_leaf=2, min_samples_split=10, n_estimators=100; total time=   0.2s\n",
      "[CV] END bootstrap=True, max_depth=20, min_samples_leaf=2, min_samples_split=10, n_estimators=100; total time=   0.1s\n",
      "[CV] END bootstrap=True, max_depth=20, min_samples_leaf=2, min_samples_split=5, n_estimators=500; total time=   0.7s\n",
      "[CV] END bootstrap=True, max_depth=20, min_samples_leaf=2, min_samples_split=10, n_estimators=100; total time=   0.1s\n",
      "[CV] END bootstrap=True, max_depth=20, min_samples_leaf=2, min_samples_split=10, n_estimators=200; total time=   0.2s\n",
      "[CV] END bootstrap=True, max_depth=20, min_samples_leaf=2, min_samples_split=10, n_estimators=200; total time=   0.2s\n",
      "[CV] END bootstrap=True, max_depth=20, min_samples_leaf=2, min_samples_split=10, n_estimators=200; total time=   0.2s\n",
      "[CV] END bootstrap=True, max_depth=20, min_samples_leaf=2, min_samples_split=10, n_estimators=200; total time=   0.3s\n",
      "[CV] END bootstrap=True, max_depth=20, min_samples_leaf=2, min_samples_split=10, n_estimators=200; total time=   0.3s\n",
      "[CV] END bootstrap=True, max_depth=20, min_samples_leaf=2, min_samples_split=5, n_estimators=1000; total time=   1.0s\n",
      "[CV] END bootstrap=True, max_depth=20, min_samples_leaf=2, min_samples_split=5, n_estimators=1000; total time=   1.0s\n",
      "[CV] END bootstrap=True, max_depth=20, min_samples_leaf=2, min_samples_split=5, n_estimators=1000; total time=   0.9s\n",
      "[CV] END bootstrap=True, max_depth=20, min_samples_leaf=2, min_samples_split=5, n_estimators=1000; total time=   0.9s\n",
      "[CV] END bootstrap=True, max_depth=20, min_samples_leaf=2, min_samples_split=5, n_estimators=1000; total time=   1.0s\n",
      "[CV] END bootstrap=True, max_depth=20, min_samples_leaf=2, min_samples_split=10, n_estimators=500; total time=   0.5s\n",
      "[CV] END bootstrap=True, max_depth=20, min_samples_leaf=4, min_samples_split=2, n_estimators=100; total time=   0.1s\n",
      "[CV] END bootstrap=True, max_depth=20, min_samples_leaf=2, min_samples_split=10, n_estimators=500; total time=   0.7s\n",
      "[CV] END bootstrap=True, max_depth=20, min_samples_leaf=4, min_samples_split=2, n_estimators=100; total time=   0.1s\n",
      "[CV] END bootstrap=True, max_depth=20, min_samples_leaf=2, min_samples_split=10, n_estimators=500; total time=   0.7s\n",
      "[CV] END bootstrap=True, max_depth=20, min_samples_leaf=4, min_samples_split=2, n_estimators=100; total time=   0.1s\n",
      "[CV] END bootstrap=True, max_depth=20, min_samples_leaf=4, min_samples_split=2, n_estimators=100; total time=   0.1s\n",
      "[CV] END bootstrap=True, max_depth=20, min_samples_leaf=2, min_samples_split=10, n_estimators=500; total time=   0.7s\n",
      "[CV] END bootstrap=True, max_depth=20, min_samples_leaf=4, min_samples_split=2, n_estimators=100; total time=   0.1s\n",
      "[CV] END bootstrap=True, max_depth=20, min_samples_leaf=2, min_samples_split=10, n_estimators=500; total time=   0.8s\n",
      "[CV] END bootstrap=True, max_depth=20, min_samples_leaf=4, min_samples_split=2, n_estimators=200; total time=   0.2s\n",
      "[CV] END bootstrap=True, max_depth=20, min_samples_leaf=2, min_samples_split=10, n_estimators=1000; total time=   0.9s\n",
      "[CV] END bootstrap=True, max_depth=20, min_samples_leaf=4, min_samples_split=2, n_estimators=200; total time=   0.3s\n",
      "[CV] END bootstrap=True, max_depth=20, min_samples_leaf=4, min_samples_split=2, n_estimators=200; total time=   0.3s\n",
      "[CV] END bootstrap=True, max_depth=20, min_samples_leaf=4, min_samples_split=2, n_estimators=200; total time=   0.3s\n",
      "[CV] END bootstrap=True, max_depth=20, min_samples_leaf=2, min_samples_split=10, n_estimators=1000; total time=   1.0s\n",
      "[CV] END bootstrap=True, max_depth=20, min_samples_leaf=2, min_samples_split=10, n_estimators=1000; total time=   1.0s\n",
      "[CV] END bootstrap=True, max_depth=20, min_samples_leaf=4, min_samples_split=2, n_estimators=200; total time=   0.3s\n",
      "[CV] END bootstrap=True, max_depth=20, min_samples_leaf=2, min_samples_split=10, n_estimators=1000; total time=   0.9s\n",
      "[CV] END bootstrap=True, max_depth=20, min_samples_leaf=2, min_samples_split=10, n_estimators=1000; total time=   1.0s\n",
      "[CV] END bootstrap=True, max_depth=20, min_samples_leaf=4, min_samples_split=2, n_estimators=500; total time=   0.5s\n",
      "[CV] END bootstrap=True, max_depth=20, min_samples_leaf=4, min_samples_split=5, n_estimators=100; total time=   0.1s\n",
      "[CV] END bootstrap=True, max_depth=20, min_samples_leaf=4, min_samples_split=2, n_estimators=500; total time=   0.4s\n",
      "[CV] END bootstrap=True, max_depth=20, min_samples_leaf=4, min_samples_split=5, n_estimators=100; total time=   0.1s\n",
      "[CV] END bootstrap=True, max_depth=20, min_samples_leaf=4, min_samples_split=5, n_estimators=100; total time=   0.1s\n",
      "[CV] END bootstrap=True, max_depth=20, min_samples_leaf=4, min_samples_split=5, n_estimators=100; total time=   0.1s\n",
      "[CV] END bootstrap=True, max_depth=20, min_samples_leaf=4, min_samples_split=5, n_estimators=100; total time=   0.1s\n",
      "[CV] END bootstrap=True, max_depth=20, min_samples_leaf=4, min_samples_split=2, n_estimators=500; total time=   0.7s\n",
      "[CV] END bootstrap=True, max_depth=20, min_samples_leaf=4, min_samples_split=2, n_estimators=500; total time=   0.7s\n",
      "[CV] END bootstrap=True, max_depth=20, min_samples_leaf=4, min_samples_split=2, n_estimators=500; total time=   0.7s\n",
      "[CV] END bootstrap=True, max_depth=20, min_samples_leaf=4, min_samples_split=5, n_estimators=200; total time=   0.2s\n",
      "[CV] END bootstrap=True, max_depth=20, min_samples_leaf=4, min_samples_split=5, n_estimators=200; total time=   0.2s\n",
      "[CV] END bootstrap=True, max_depth=20, min_samples_leaf=4, min_samples_split=5, n_estimators=200; total time=   0.3s\n",
      "[CV] END bootstrap=True, max_depth=20, min_samples_leaf=4, min_samples_split=5, n_estimators=200; total time=   0.3s\n",
      "[CV] END bootstrap=True, max_depth=20, min_samples_leaf=4, min_samples_split=2, n_estimators=1000; total time=   0.9s\n",
      "[CV] END bootstrap=True, max_depth=20, min_samples_leaf=4, min_samples_split=5, n_estimators=200; total time=   0.3s\n",
      "[CV] END bootstrap=True, max_depth=20, min_samples_leaf=4, min_samples_split=2, n_estimators=1000; total time=   0.9s\n",
      "[CV] END bootstrap=True, max_depth=20, min_samples_leaf=4, min_samples_split=2, n_estimators=1000; total time=   0.9s\n",
      "[CV] END bootstrap=True, max_depth=20, min_samples_leaf=4, min_samples_split=2, n_estimators=1000; total time=   0.9s\n",
      "[CV] END bootstrap=True, max_depth=20, min_samples_leaf=4, min_samples_split=5, n_estimators=500; total time=   0.5s\n",
      "[CV] END bootstrap=True, max_depth=20, min_samples_leaf=4, min_samples_split=5, n_estimators=500; total time=   0.5s\n",
      "[CV] END bootstrap=True, max_depth=20, min_samples_leaf=4, min_samples_split=10, n_estimators=100; total time=   0.1s\n",
      "[CV] END bootstrap=True, max_depth=20, min_samples_leaf=4, min_samples_split=2, n_estimators=1000; total time=   1.3s\n",
      "[CV] END bootstrap=True, max_depth=20, min_samples_leaf=4, min_samples_split=10, n_estimators=100; total time=   0.1s\n",
      "[CV] END bootstrap=True, max_depth=20, min_samples_leaf=4, min_samples_split=5, n_estimators=500; total time=   0.5s\n",
      "[CV] END bootstrap=True, max_depth=20, min_samples_leaf=4, min_samples_split=10, n_estimators=100; total time=   0.1s\n",
      "[CV] END bootstrap=True, max_depth=20, min_samples_leaf=4, min_samples_split=10, n_estimators=100; total time=   0.1s\n",
      "[CV] END bootstrap=True, max_depth=20, min_samples_leaf=4, min_samples_split=10, n_estimators=100; total time=   0.1s\n",
      "[CV] END bootstrap=True, max_depth=20, min_samples_leaf=4, min_samples_split=5, n_estimators=500; total time=   0.7s\n",
      "[CV] END bootstrap=True, max_depth=20, min_samples_leaf=4, min_samples_split=5, n_estimators=500; total time=   0.7s\n",
      "[CV] END bootstrap=True, max_depth=20, min_samples_leaf=4, min_samples_split=10, n_estimators=200; total time=   0.2s\n",
      "[CV] END bootstrap=True, max_depth=20, min_samples_leaf=4, min_samples_split=10, n_estimators=200; total time=   0.2s\n",
      "[CV] END bootstrap=True, max_depth=20, min_samples_leaf=4, min_samples_split=10, n_estimators=200; total time=   0.3s\n",
      "[CV] END bootstrap=True, max_depth=20, min_samples_leaf=4, min_samples_split=10, n_estimators=200; total time=   0.3s\n",
      "[CV] END bootstrap=True, max_depth=20, min_samples_leaf=4, min_samples_split=10, n_estimators=200; total time=   0.3s\n",
      "[CV] END bootstrap=True, max_depth=20, min_samples_leaf=4, min_samples_split=5, n_estimators=1000; total time=   0.9s\n",
      "[CV] END bootstrap=True, max_depth=20, min_samples_leaf=4, min_samples_split=5, n_estimators=1000; total time=   0.9s\n",
      "[CV] END bootstrap=True, max_depth=20, min_samples_leaf=4, min_samples_split=5, n_estimators=1000; total time=   0.9s\n",
      "[CV] END bootstrap=True, max_depth=20, min_samples_leaf=4, min_samples_split=5, n_estimators=1000; total time=   1.0s\n",
      "[CV] END bootstrap=True, max_depth=20, min_samples_leaf=4, min_samples_split=10, n_estimators=500; total time=   0.5s\n",
      "[CV] END bootstrap=True, max_depth=20, min_samples_leaf=4, min_samples_split=10, n_estimators=500; total time=   0.5s\n",
      "[CV] END bootstrap=True, max_depth=25, min_samples_leaf=1, min_samples_split=2, n_estimators=100; total time=   0.1s\n",
      "[CV] END bootstrap=True, max_depth=20, min_samples_leaf=4, min_samples_split=5, n_estimators=1000; total time=   1.4s\n",
      "[CV] END bootstrap=True, max_depth=25, min_samples_leaf=1, min_samples_split=2, n_estimators=100; total time=   0.1s\n",
      "[CV] END bootstrap=True, max_depth=20, min_samples_leaf=4, min_samples_split=10, n_estimators=500; total time=   0.6s\n",
      "[CV] END bootstrap=True, max_depth=25, min_samples_leaf=1, min_samples_split=2, n_estimators=100; total time=   0.1s\n",
      "[CV] END bootstrap=True, max_depth=25, min_samples_leaf=1, min_samples_split=2, n_estimators=100; total time=   0.2s\n",
      "[CV] END bootstrap=True, max_depth=25, min_samples_leaf=1, min_samples_split=2, n_estimators=100; total time=   0.1s\n",
      "[CV] END bootstrap=True, max_depth=20, min_samples_leaf=4, min_samples_split=10, n_estimators=500; total time=   0.7s\n",
      "[CV] END bootstrap=True, max_depth=20, min_samples_leaf=4, min_samples_split=10, n_estimators=500; total time=   0.7s\n",
      "[CV] END bootstrap=True, max_depth=25, min_samples_leaf=1, min_samples_split=2, n_estimators=200; total time=   0.2s\n",
      "[CV] END bootstrap=True, max_depth=25, min_samples_leaf=1, min_samples_split=2, n_estimators=200; total time=   0.3s\n",
      "[CV] END bootstrap=True, max_depth=25, min_samples_leaf=1, min_samples_split=2, n_estimators=200; total time=   0.3s\n",
      "[CV] END bootstrap=True, max_depth=20, min_samples_leaf=4, min_samples_split=10, n_estimators=1000; total time=   0.9s\n",
      "[CV] END bootstrap=True, max_depth=20, min_samples_leaf=4, min_samples_split=10, n_estimators=1000; total time=   0.9s\n",
      "[CV] END bootstrap=True, max_depth=25, min_samples_leaf=1, min_samples_split=2, n_estimators=200; total time=   0.3s\n",
      "[CV] END bootstrap=True, max_depth=20, min_samples_leaf=4, min_samples_split=10, n_estimators=1000; total time=   0.9s\n",
      "[CV] END bootstrap=True, max_depth=25, min_samples_leaf=1, min_samples_split=2, n_estimators=200; total time=   0.3s\n",
      "[CV] END bootstrap=True, max_depth=20, min_samples_leaf=4, min_samples_split=10, n_estimators=1000; total time=   1.0s\n",
      "[CV] END bootstrap=True, max_depth=20, min_samples_leaf=4, min_samples_split=10, n_estimators=1000; total time=   1.0s\n",
      "[CV] END bootstrap=True, max_depth=25, min_samples_leaf=1, min_samples_split=2, n_estimators=500; total time=   0.5s\n",
      "[CV] END bootstrap=True, max_depth=25, min_samples_leaf=1, min_samples_split=5, n_estimators=100; total time=   0.1s\n",
      "[CV] END bootstrap=True, max_depth=25, min_samples_leaf=1, min_samples_split=2, n_estimators=500; total time=   0.5s\n",
      "[CV] END bootstrap=True, max_depth=25, min_samples_leaf=1, min_samples_split=5, n_estimators=100; total time=   0.1s\n",
      "[CV] END bootstrap=True, max_depth=25, min_samples_leaf=1, min_samples_split=2, n_estimators=500; total time=   0.5s\n",
      "[CV] END bootstrap=True, max_depth=25, min_samples_leaf=1, min_samples_split=5, n_estimators=100; total time=   0.1s\n",
      "[CV] END bootstrap=True, max_depth=25, min_samples_leaf=1, min_samples_split=5, n_estimators=100; total time=   0.1s\n",
      "[CV] END bootstrap=True, max_depth=25, min_samples_leaf=1, min_samples_split=5, n_estimators=100; total time=   0.1s\n",
      "[CV] END bootstrap=True, max_depth=25, min_samples_leaf=1, min_samples_split=2, n_estimators=500; total time=   0.7s\n",
      "[CV] END bootstrap=True, max_depth=25, min_samples_leaf=1, min_samples_split=2, n_estimators=500; total time=   0.7s\n",
      "[CV] END bootstrap=True, max_depth=25, min_samples_leaf=1, min_samples_split=5, n_estimators=200; total time=   0.2s\n",
      "[CV] END bootstrap=True, max_depth=25, min_samples_leaf=1, min_samples_split=5, n_estimators=200; total time=   0.2s\n",
      "[CV] END bootstrap=True, max_depth=25, min_samples_leaf=1, min_samples_split=5, n_estimators=200; total time=   0.2s\n",
      "[CV] END bootstrap=True, max_depth=25, min_samples_leaf=1, min_samples_split=5, n_estimators=200; total time=   0.3s\n",
      "[CV] END bootstrap=True, max_depth=25, min_samples_leaf=1, min_samples_split=5, n_estimators=200; total time=   0.4s\n",
      "[CV] END bootstrap=True, max_depth=25, min_samples_leaf=1, min_samples_split=2, n_estimators=1000; total time=   1.1s\n",
      "[CV] END bootstrap=True, max_depth=25, min_samples_leaf=1, min_samples_split=5, n_estimators=500; total time=   0.5s\n",
      "[CV] END bootstrap=True, max_depth=25, min_samples_leaf=1, min_samples_split=2, n_estimators=1000; total time=   1.0s\n",
      "[CV] END bootstrap=True, max_depth=25, min_samples_leaf=1, min_samples_split=2, n_estimators=1000; total time=   1.0s\n",
      "[CV] END bootstrap=True, max_depth=25, min_samples_leaf=1, min_samples_split=5, n_estimators=500; total time=   0.5s\n",
      "[CV] END bootstrap=True, max_depth=25, min_samples_leaf=1, min_samples_split=5, n_estimators=500; total time=   0.5s\n",
      "[CV] END bootstrap=True, max_depth=25, min_samples_leaf=1, min_samples_split=10, n_estimators=100; total time=   0.1s\n",
      "[CV] END bootstrap=True, max_depth=25, min_samples_leaf=1, min_samples_split=2, n_estimators=1000; total time=   1.3s\n",
      "[CV] END bootstrap=True, max_depth=25, min_samples_leaf=1, min_samples_split=10, n_estimators=100; total time=   0.1s\n",
      "[CV] END bootstrap=True, max_depth=25, min_samples_leaf=1, min_samples_split=2, n_estimators=1000; total time=   1.5s\n",
      "[CV] END bootstrap=True, max_depth=25, min_samples_leaf=1, min_samples_split=10, n_estimators=100; total time=   0.2s\n",
      "[CV] END bootstrap=True, max_depth=25, min_samples_leaf=1, min_samples_split=10, n_estimators=100; total time=   0.1s\n",
      "[CV] END bootstrap=True, max_depth=25, min_samples_leaf=1, min_samples_split=10, n_estimators=100; total time=   0.1s\n",
      "[CV] END bootstrap=True, max_depth=25, min_samples_leaf=1, min_samples_split=5, n_estimators=500; total time=   0.7s\n",
      "[CV] END bootstrap=True, max_depth=25, min_samples_leaf=1, min_samples_split=10, n_estimators=200; total time=   0.2s\n",
      "[CV] END bootstrap=True, max_depth=25, min_samples_leaf=1, min_samples_split=5, n_estimators=500; total time=   0.8s\n",
      "[CV] END bootstrap=True, max_depth=25, min_samples_leaf=1, min_samples_split=10, n_estimators=200; total time=   0.3s\n",
      "[CV] END bootstrap=True, max_depth=25, min_samples_leaf=1, min_samples_split=10, n_estimators=200; total time=   0.3s\n",
      "[CV] END bootstrap=True, max_depth=25, min_samples_leaf=1, min_samples_split=10, n_estimators=200; total time=   0.2s\n",
      "[CV] END bootstrap=True, max_depth=25, min_samples_leaf=1, min_samples_split=10, n_estimators=200; total time=   0.3s\n",
      "[CV] END bootstrap=True, max_depth=25, min_samples_leaf=1, min_samples_split=5, n_estimators=1000; total time=   1.0s\n",
      "[CV] END bootstrap=True, max_depth=25, min_samples_leaf=1, min_samples_split=5, n_estimators=1000; total time=   1.0s\n",
      "[CV] END bootstrap=True, max_depth=25, min_samples_leaf=1, min_samples_split=5, n_estimators=1000; total time=   1.0s\n",
      "[CV] END bootstrap=True, max_depth=25, min_samples_leaf=1, min_samples_split=5, n_estimators=1000; total time=   1.0s\n",
      "[CV] END bootstrap=True, max_depth=25, min_samples_leaf=1, min_samples_split=5, n_estimators=1000; total time=   1.0s\n",
      "[CV] END bootstrap=True, max_depth=25, min_samples_leaf=1, min_samples_split=10, n_estimators=500; total time=   0.5s\n",
      "[CV] END bootstrap=True, max_depth=25, min_samples_leaf=1, min_samples_split=10, n_estimators=500; total time=   0.6s\n",
      "[CV] END bootstrap=True, max_depth=25, min_samples_leaf=2, min_samples_split=2, n_estimators=100; total time=   0.1s\n",
      "[CV] END bootstrap=True, max_depth=25, min_samples_leaf=1, min_samples_split=10, n_estimators=500; total time=   0.7s\n",
      "[CV] END bootstrap=True, max_depth=25, min_samples_leaf=1, min_samples_split=10, n_estimators=500; total time=   0.7s\n",
      "[CV] END bootstrap=True, max_depth=25, min_samples_leaf=2, min_samples_split=2, n_estimators=100; total time=   0.1s\n",
      "[CV] END bootstrap=True, max_depth=25, min_samples_leaf=2, min_samples_split=2, n_estimators=100; total time=   0.2s\n",
      "[CV] END bootstrap=True, max_depth=25, min_samples_leaf=2, min_samples_split=2, n_estimators=100; total time=   0.1s\n",
      "[CV] END bootstrap=True, max_depth=25, min_samples_leaf=2, min_samples_split=2, n_estimators=100; total time=   0.1s\n",
      "[CV] END bootstrap=True, max_depth=25, min_samples_leaf=2, min_samples_split=2, n_estimators=200; total time=   0.2s\n",
      "[CV] END bootstrap=True, max_depth=25, min_samples_leaf=1, min_samples_split=10, n_estimators=500; total time=   0.8s\n",
      "[CV] END bootstrap=True, max_depth=25, min_samples_leaf=2, min_samples_split=2, n_estimators=200; total time=   0.3s\n",
      "[CV] END bootstrap=True, max_depth=25, min_samples_leaf=2, min_samples_split=2, n_estimators=200; total time=   0.3s\n",
      "[CV] END bootstrap=True, max_depth=25, min_samples_leaf=2, min_samples_split=2, n_estimators=200; total time=   0.2s\n",
      "[CV] END bootstrap=True, max_depth=25, min_samples_leaf=2, min_samples_split=2, n_estimators=200; total time=   0.3s\n",
      "[CV] END bootstrap=True, max_depth=25, min_samples_leaf=1, min_samples_split=10, n_estimators=1000; total time=   1.0s\n",
      "[CV] END bootstrap=True, max_depth=25, min_samples_leaf=1, min_samples_split=10, n_estimators=1000; total time=   0.9s\n",
      "[CV] END bootstrap=True, max_depth=25, min_samples_leaf=1, min_samples_split=10, n_estimators=1000; total time=   1.0s\n",
      "[CV] END bootstrap=True, max_depth=25, min_samples_leaf=1, min_samples_split=10, n_estimators=1000; total time=   1.0s\n",
      "[CV] END bootstrap=True, max_depth=25, min_samples_leaf=1, min_samples_split=10, n_estimators=1000; total time=   1.0s\n",
      "[CV] END bootstrap=True, max_depth=25, min_samples_leaf=2, min_samples_split=2, n_estimators=500; total time=   0.5s\n",
      "[CV] END bootstrap=True, max_depth=25, min_samples_leaf=2, min_samples_split=2, n_estimators=500; total time=   0.7s\n",
      "[CV] END bootstrap=True, max_depth=25, min_samples_leaf=2, min_samples_split=5, n_estimators=100; total time=   0.1s\n",
      "[CV] END bootstrap=True, max_depth=25, min_samples_leaf=2, min_samples_split=2, n_estimators=500; total time=   0.7s\n",
      "[CV] END bootstrap=True, max_depth=25, min_samples_leaf=2, min_samples_split=5, n_estimators=100; total time=   0.1s\n",
      "[CV] END bootstrap=True, max_depth=25, min_samples_leaf=2, min_samples_split=2, n_estimators=500; total time=   0.7s\n",
      "[CV] END bootstrap=True, max_depth=25, min_samples_leaf=2, min_samples_split=5, n_estimators=100; total time=   0.2s\n",
      "[CV] END bootstrap=True, max_depth=25, min_samples_leaf=2, min_samples_split=2, n_estimators=500; total time=   0.7s\n",
      "[CV] END bootstrap=True, max_depth=25, min_samples_leaf=2, min_samples_split=5, n_estimators=100; total time=   0.1s\n",
      "[CV] END bootstrap=True, max_depth=25, min_samples_leaf=2, min_samples_split=5, n_estimators=100; total time=   0.1s\n",
      "[CV] END bootstrap=True, max_depth=25, min_samples_leaf=2, min_samples_split=5, n_estimators=200; total time=   0.3s\n",
      "[CV] END bootstrap=True, max_depth=25, min_samples_leaf=2, min_samples_split=5, n_estimators=200; total time=   0.2s\n",
      "[CV] END bootstrap=True, max_depth=25, min_samples_leaf=2, min_samples_split=5, n_estimators=200; total time=   0.3s\n",
      "[CV] END bootstrap=True, max_depth=25, min_samples_leaf=2, min_samples_split=5, n_estimators=200; total time=   0.3s\n",
      "[CV] END bootstrap=True, max_depth=25, min_samples_leaf=2, min_samples_split=2, n_estimators=1000; total time=   1.0s\n",
      "[CV] END bootstrap=True, max_depth=25, min_samples_leaf=2, min_samples_split=5, n_estimators=200; total time=   0.3s\n",
      "[CV] END bootstrap=True, max_depth=25, min_samples_leaf=2, min_samples_split=2, n_estimators=1000; total time=   1.0s\n",
      "[CV] END bootstrap=True, max_depth=25, min_samples_leaf=2, min_samples_split=2, n_estimators=1000; total time=   1.0s\n",
      "[CV] END bootstrap=True, max_depth=25, min_samples_leaf=2, min_samples_split=2, n_estimators=1000; total time=   1.0s\n",
      "[CV] END bootstrap=True, max_depth=25, min_samples_leaf=2, min_samples_split=2, n_estimators=1000; total time=   1.0s\n",
      "[CV] END bootstrap=True, max_depth=25, min_samples_leaf=2, min_samples_split=5, n_estimators=500; total time=   0.5s\n",
      "[CV] END bootstrap=True, max_depth=25, min_samples_leaf=2, min_samples_split=5, n_estimators=500; total time=   0.5s\n",
      "[CV] END bootstrap=True, max_depth=25, min_samples_leaf=2, min_samples_split=10, n_estimators=100; total time=   0.1s\n",
      "[CV] END bootstrap=True, max_depth=25, min_samples_leaf=2, min_samples_split=10, n_estimators=100; total time=   0.1s\n",
      "[CV] END bootstrap=True, max_depth=25, min_samples_leaf=2, min_samples_split=5, n_estimators=500; total time=   0.7s\n",
      "[CV] END bootstrap=True, max_depth=25, min_samples_leaf=2, min_samples_split=5, n_estimators=500; total time=   0.7s\n",
      "[CV] END bootstrap=True, max_depth=25, min_samples_leaf=2, min_samples_split=10, n_estimators=100; total time=   0.1s\n",
      "[CV] END bootstrap=True, max_depth=25, min_samples_leaf=2, min_samples_split=10, n_estimators=100; total time=   0.1s\n",
      "[CV] END bootstrap=True, max_depth=25, min_samples_leaf=2, min_samples_split=5, n_estimators=500; total time=   0.8s\n",
      "[CV] END bootstrap=True, max_depth=25, min_samples_leaf=2, min_samples_split=10, n_estimators=100; total time=   0.1s\n",
      "[CV] END bootstrap=True, max_depth=25, min_samples_leaf=2, min_samples_split=10, n_estimators=200; total time=   0.2s\n",
      "[CV] END bootstrap=True, max_depth=25, min_samples_leaf=2, min_samples_split=10, n_estimators=200; total time=   0.2s\n",
      "[CV] END bootstrap=True, max_depth=25, min_samples_leaf=2, min_samples_split=10, n_estimators=200; total time=   0.3s\n",
      "[CV] END bootstrap=True, max_depth=25, min_samples_leaf=2, min_samples_split=10, n_estimators=200; total time=   0.3s\n",
      "[CV] END bootstrap=True, max_depth=25, min_samples_leaf=2, min_samples_split=10, n_estimators=200; total time=   0.3s\n",
      "[CV] END bootstrap=True, max_depth=25, min_samples_leaf=2, min_samples_split=5, n_estimators=1000; total time=   1.0s\n",
      "[CV] END bootstrap=True, max_depth=25, min_samples_leaf=2, min_samples_split=5, n_estimators=1000; total time=   1.0s\n",
      "[CV] END bootstrap=True, max_depth=25, min_samples_leaf=2, min_samples_split=5, n_estimators=1000; total time=   0.9s\n",
      "[CV] END bootstrap=True, max_depth=25, min_samples_leaf=2, min_samples_split=5, n_estimators=1000; total time=   1.0s\n",
      "[CV] END bootstrap=True, max_depth=25, min_samples_leaf=2, min_samples_split=10, n_estimators=500; total time=   0.5s\n",
      "[CV] END bootstrap=True, max_depth=25, min_samples_leaf=2, min_samples_split=10, n_estimators=500; total time=   0.5s\n",
      "[CV] END bootstrap=True, max_depth=25, min_samples_leaf=2, min_samples_split=5, n_estimators=1000; total time=   1.4s\n",
      "[CV] END bootstrap=True, max_depth=25, min_samples_leaf=4, min_samples_split=2, n_estimators=100; total time=   0.1s\n",
      "[CV] END bootstrap=True, max_depth=25, min_samples_leaf=4, min_samples_split=2, n_estimators=100; total time=   0.1s\n",
      "[CV] END bootstrap=True, max_depth=25, min_samples_leaf=4, min_samples_split=2, n_estimators=100; total time=   0.2s\n",
      "[CV] END bootstrap=True, max_depth=25, min_samples_leaf=4, min_samples_split=2, n_estimators=100; total time=   0.1s\n",
      "[CV] END bootstrap=True, max_depth=25, min_samples_leaf=2, min_samples_split=10, n_estimators=500; total time=   0.7s\n",
      "[CV] END bootstrap=True, max_depth=25, min_samples_leaf=4, min_samples_split=2, n_estimators=100; total time=   0.1s\n",
      "[CV] END bootstrap=True, max_depth=25, min_samples_leaf=2, min_samples_split=10, n_estimators=500; total time=   0.7s\n",
      "[CV] END bootstrap=True, max_depth=25, min_samples_leaf=2, min_samples_split=10, n_estimators=500; total time=   0.7s\n",
      "[CV] END bootstrap=True, max_depth=25, min_samples_leaf=4, min_samples_split=2, n_estimators=200; total time=   0.2s\n",
      "[CV] END bootstrap=True, max_depth=25, min_samples_leaf=4, min_samples_split=2, n_estimators=200; total time=   0.2s\n",
      "[CV] END bootstrap=True, max_depth=25, min_samples_leaf=4, min_samples_split=2, n_estimators=200; total time=   0.3s\n",
      "[CV] END bootstrap=True, max_depth=25, min_samples_leaf=4, min_samples_split=2, n_estimators=200; total time=   0.3s\n",
      "[CV] END bootstrap=True, max_depth=25, min_samples_leaf=4, min_samples_split=2, n_estimators=200; total time=   0.3s\n",
      "[CV] END bootstrap=True, max_depth=25, min_samples_leaf=2, min_samples_split=10, n_estimators=1000; total time=   1.0s\n",
      "[CV] END bootstrap=True, max_depth=25, min_samples_leaf=2, min_samples_split=10, n_estimators=1000; total time=   0.9s\n",
      "[CV] END bootstrap=True, max_depth=25, min_samples_leaf=2, min_samples_split=10, n_estimators=1000; total time=   0.9s\n",
      "[CV] END bootstrap=True, max_depth=25, min_samples_leaf=2, min_samples_split=10, n_estimators=1000; total time=   0.9s\n",
      "[CV] END bootstrap=True, max_depth=25, min_samples_leaf=2, min_samples_split=10, n_estimators=1000; total time=   0.9s\n",
      "[CV] END bootstrap=True, max_depth=25, min_samples_leaf=4, min_samples_split=2, n_estimators=500; total time=   0.5s\n",
      "[CV] END bootstrap=True, max_depth=25, min_samples_leaf=4, min_samples_split=5, n_estimators=100; total time=   0.1s\n",
      "[CV] END bootstrap=True, max_depth=25, min_samples_leaf=4, min_samples_split=5, n_estimators=100; total time=   0.1s\n",
      "[CV] END bootstrap=True, max_depth=25, min_samples_leaf=4, min_samples_split=5, n_estimators=100; total time=   0.1s\n",
      "[CV] END bootstrap=True, max_depth=25, min_samples_leaf=4, min_samples_split=2, n_estimators=500; total time=   0.7s\n",
      "[CV] END bootstrap=True, max_depth=25, min_samples_leaf=4, min_samples_split=2, n_estimators=500; total time=   0.7s\n",
      "[CV] END bootstrap=True, max_depth=25, min_samples_leaf=4, min_samples_split=2, n_estimators=500; total time=   0.7s\n",
      "[CV] END bootstrap=True, max_depth=25, min_samples_leaf=4, min_samples_split=2, n_estimators=500; total time=   0.7s\n",
      "[CV] END bootstrap=True, max_depth=25, min_samples_leaf=4, min_samples_split=5, n_estimators=100; total time=   0.1s\n",
      "[CV] END bootstrap=True, max_depth=25, min_samples_leaf=4, min_samples_split=5, n_estimators=100; total time=   0.2s\n",
      "[CV] END bootstrap=True, max_depth=25, min_samples_leaf=4, min_samples_split=5, n_estimators=200; total time=   0.2s\n",
      "[CV] END bootstrap=True, max_depth=25, min_samples_leaf=4, min_samples_split=5, n_estimators=200; total time=   0.2s\n",
      "[CV] END bootstrap=True, max_depth=25, min_samples_leaf=4, min_samples_split=5, n_estimators=200; total time=   0.2s\n",
      "[CV] END bootstrap=True, max_depth=25, min_samples_leaf=4, min_samples_split=2, n_estimators=1000; total time=   0.9s\n",
      "[CV] END bootstrap=True, max_depth=25, min_samples_leaf=4, min_samples_split=2, n_estimators=1000; total time=   0.9s\n",
      "[CV] END bootstrap=True, max_depth=25, min_samples_leaf=4, min_samples_split=2, n_estimators=1000; total time=   1.0s\n",
      "[CV] END bootstrap=True, max_depth=25, min_samples_leaf=4, min_samples_split=5, n_estimators=200; total time=   0.2s\n",
      "[CV] END bootstrap=True, max_depth=25, min_samples_leaf=4, min_samples_split=5, n_estimators=200; total time=   0.3s\n",
      "[CV] END bootstrap=True, max_depth=25, min_samples_leaf=4, min_samples_split=2, n_estimators=1000; total time=   1.0s\n",
      "[CV] END bootstrap=True, max_depth=25, min_samples_leaf=4, min_samples_split=2, n_estimators=1000; total time=   1.0s\n",
      "[CV] END bootstrap=True, max_depth=25, min_samples_leaf=4, min_samples_split=5, n_estimators=500; total time=   0.4s\n",
      "[CV] END bootstrap=True, max_depth=25, min_samples_leaf=4, min_samples_split=10, n_estimators=100; total time=   0.1s\n",
      "[CV] END bootstrap=True, max_depth=25, min_samples_leaf=4, min_samples_split=5, n_estimators=500; total time=   0.5s\n",
      "[CV] END bootstrap=True, max_depth=25, min_samples_leaf=4, min_samples_split=5, n_estimators=500; total time=   0.5s\n",
      "[CV] END bootstrap=True, max_depth=25, min_samples_leaf=4, min_samples_split=5, n_estimators=500; total time=   0.6s\n",
      "[CV] END bootstrap=True, max_depth=25, min_samples_leaf=4, min_samples_split=10, n_estimators=100; total time=   0.1s\n",
      "[CV] END bootstrap=True, max_depth=25, min_samples_leaf=4, min_samples_split=10, n_estimators=100; total time=   0.1s\n",
      "[CV] END bootstrap=True, max_depth=25, min_samples_leaf=4, min_samples_split=5, n_estimators=500; total time=   0.6s\n",
      "[CV] END bootstrap=True, max_depth=25, min_samples_leaf=4, min_samples_split=10, n_estimators=100; total time=   0.1s\n",
      "[CV] END bootstrap=True, max_depth=25, min_samples_leaf=4, min_samples_split=10, n_estimators=100; total time=   0.1s\n",
      "[CV] END bootstrap=True, max_depth=25, min_samples_leaf=4, min_samples_split=10, n_estimators=200; total time=   0.2s\n",
      "[CV] END bootstrap=True, max_depth=25, min_samples_leaf=4, min_samples_split=10, n_estimators=200; total time=   0.2s\n",
      "[CV] END bootstrap=True, max_depth=25, min_samples_leaf=4, min_samples_split=10, n_estimators=200; total time=   0.2s\n",
      "[CV] END bootstrap=True, max_depth=25, min_samples_leaf=4, min_samples_split=10, n_estimators=200; total time=   0.2s\n",
      "[CV] END bootstrap=True, max_depth=25, min_samples_leaf=4, min_samples_split=10, n_estimators=200; total time=   0.3s\n",
      "[CV] END bootstrap=True, max_depth=25, min_samples_leaf=4, min_samples_split=5, n_estimators=1000; total time=   0.9s\n",
      "[CV] END bootstrap=True, max_depth=25, min_samples_leaf=4, min_samples_split=5, n_estimators=1000; total time=   1.0s\n",
      "[CV] END bootstrap=True, max_depth=25, min_samples_leaf=4, min_samples_split=5, n_estimators=1000; total time=   0.9s\n",
      "[CV] END bootstrap=True, max_depth=25, min_samples_leaf=4, min_samples_split=10, n_estimators=500; total time=   0.4s\n",
      "[CV] END bootstrap=True, max_depth=25, min_samples_leaf=4, min_samples_split=10, n_estimators=500; total time=   0.5s\n",
      "[CV] END bootstrap=True, max_depth=25, min_samples_leaf=4, min_samples_split=10, n_estimators=500; total time=   0.5s\n",
      "[CV] END bootstrap=True, max_depth=25, min_samples_leaf=4, min_samples_split=5, n_estimators=1000; total time=   1.3s\n",
      "[CV] END bootstrap=False, max_depth=None, min_samples_leaf=1, min_samples_split=2, n_estimators=100; total time=   0.1s\n",
      "[CV] END bootstrap=False, max_depth=None, min_samples_leaf=1, min_samples_split=2, n_estimators=100; total time=   0.1s\n",
      "[CV] END bootstrap=False, max_depth=None, min_samples_leaf=1, min_samples_split=2, n_estimators=100; total time=   0.1s\n",
      "[CV] END bootstrap=True, max_depth=25, min_samples_leaf=4, min_samples_split=10, n_estimators=500; total time=   0.7s\n",
      "[CV] END bootstrap=False, max_depth=None, min_samples_leaf=1, min_samples_split=2, n_estimators=100; total time=   0.1s\n",
      "[CV] END bootstrap=False, max_depth=None, min_samples_leaf=1, min_samples_split=2, n_estimators=100; total time=   0.1s\n",
      "[CV] END bootstrap=True, max_depth=25, min_samples_leaf=4, min_samples_split=5, n_estimators=1000; total time=   1.6s\n",
      "[CV] END bootstrap=True, max_depth=25, min_samples_leaf=4, min_samples_split=10, n_estimators=500; total time=   0.8s\n",
      "[CV] END bootstrap=False, max_depth=None, min_samples_leaf=1, min_samples_split=2, n_estimators=200; total time=   0.2s\n",
      "[CV] END bootstrap=False, max_depth=None, min_samples_leaf=1, min_samples_split=2, n_estimators=200; total time=   0.2s\n",
      "[CV] END bootstrap=False, max_depth=None, min_samples_leaf=1, min_samples_split=2, n_estimators=200; total time=   0.2s\n",
      "[CV] END bootstrap=False, max_depth=None, min_samples_leaf=1, min_samples_split=2, n_estimators=200; total time=   0.2s\n",
      "[CV] END bootstrap=True, max_depth=25, min_samples_leaf=4, min_samples_split=10, n_estimators=1000; total time=   0.9s\n",
      "[CV] END bootstrap=True, max_depth=25, min_samples_leaf=4, min_samples_split=10, n_estimators=1000; total time=   0.9s\n",
      "[CV] END bootstrap=False, max_depth=None, min_samples_leaf=1, min_samples_split=2, n_estimators=200; total time=   0.3s\n",
      "[CV] END bootstrap=True, max_depth=25, min_samples_leaf=4, min_samples_split=10, n_estimators=1000; total time=   0.9s\n",
      "[CV] END bootstrap=True, max_depth=25, min_samples_leaf=4, min_samples_split=10, n_estimators=1000; total time=   0.9s\n",
      "[CV] END bootstrap=False, max_depth=None, min_samples_leaf=1, min_samples_split=2, n_estimators=500; total time=   0.4s\n",
      "[CV] END bootstrap=True, max_depth=25, min_samples_leaf=4, min_samples_split=10, n_estimators=1000; total time=   1.0s\n",
      "[CV] END bootstrap=False, max_depth=None, min_samples_leaf=1, min_samples_split=5, n_estimators=100; total time=   0.1s\n",
      "[CV] END bootstrap=False, max_depth=None, min_samples_leaf=1, min_samples_split=5, n_estimators=100; total time=   0.1s\n",
      "[CV] END bootstrap=False, max_depth=None, min_samples_leaf=1, min_samples_split=2, n_estimators=500; total time=   0.6s\n",
      "[CV] END bootstrap=False, max_depth=None, min_samples_leaf=1, min_samples_split=2, n_estimators=500; total time=   0.4s\n",
      "[CV] END bootstrap=False, max_depth=None, min_samples_leaf=1, min_samples_split=5, n_estimators=100; total time=   0.1s\n",
      "[CV] END bootstrap=False, max_depth=None, min_samples_leaf=1, min_samples_split=5, n_estimators=100; total time=   0.1s\n",
      "[CV] END bootstrap=False, max_depth=None, min_samples_leaf=1, min_samples_split=5, n_estimators=100; total time=   0.1s\n",
      "[CV] END bootstrap=False, max_depth=None, min_samples_leaf=1, min_samples_split=2, n_estimators=500; total time=   0.6s\n",
      "[CV] END bootstrap=False, max_depth=None, min_samples_leaf=1, min_samples_split=2, n_estimators=500; total time=   0.7s\n",
      "[CV] END bootstrap=False, max_depth=None, min_samples_leaf=1, min_samples_split=5, n_estimators=200; total time=   0.2s\n",
      "[CV] END bootstrap=False, max_depth=None, min_samples_leaf=1, min_samples_split=5, n_estimators=200; total time=   0.2s\n",
      "[CV] END bootstrap=False, max_depth=None, min_samples_leaf=1, min_samples_split=5, n_estimators=200; total time=   0.2s\n",
      "[CV] END bootstrap=False, max_depth=None, min_samples_leaf=1, min_samples_split=5, n_estimators=200; total time=   0.2s\n",
      "[CV] END bootstrap=False, max_depth=None, min_samples_leaf=1, min_samples_split=5, n_estimators=200; total time=   0.3s\n",
      "[CV] END bootstrap=False, max_depth=None, min_samples_leaf=1, min_samples_split=2, n_estimators=1000; total time=   0.8s\n",
      "[CV] END bootstrap=False, max_depth=None, min_samples_leaf=1, min_samples_split=2, n_estimators=1000; total time=   0.9s\n",
      "[CV] END bootstrap=False, max_depth=None, min_samples_leaf=1, min_samples_split=5, n_estimators=500; total time=   0.4s\n",
      "[CV] END bootstrap=False, max_depth=None, min_samples_leaf=1, min_samples_split=5, n_estimators=500; total time=   0.4s\n",
      "[CV] END bootstrap=False, max_depth=None, min_samples_leaf=1, min_samples_split=2, n_estimators=1000; total time=   0.8s\n",
      "[CV] END bootstrap=False, max_depth=None, min_samples_leaf=1, min_samples_split=2, n_estimators=1000; total time=   0.9s\n",
      "[CV] END bootstrap=False, max_depth=None, min_samples_leaf=1, min_samples_split=10, n_estimators=100; total time=   0.1s\n",
      "[CV] END bootstrap=False, max_depth=None, min_samples_leaf=1, min_samples_split=5, n_estimators=500; total time=   0.5s\n",
      "[CV] END bootstrap=False, max_depth=None, min_samples_leaf=1, min_samples_split=10, n_estimators=100; total time=   0.1s\n",
      "[CV] END bootstrap=False, max_depth=None, min_samples_leaf=1, min_samples_split=10, n_estimators=100; total time=   0.1s\n",
      "[CV] END bootstrap=False, max_depth=None, min_samples_leaf=1, min_samples_split=10, n_estimators=100; total time=   0.1s\n",
      "[CV] END bootstrap=False, max_depth=None, min_samples_leaf=1, min_samples_split=2, n_estimators=1000; total time=   1.3s\n",
      "[CV] END bootstrap=False, max_depth=None, min_samples_leaf=1, min_samples_split=5, n_estimators=500; total time=   0.6s\n",
      "[CV] END bootstrap=False, max_depth=None, min_samples_leaf=1, min_samples_split=10, n_estimators=100; total time=   0.1s\n",
      "[CV] END bootstrap=False, max_depth=None, min_samples_leaf=1, min_samples_split=5, n_estimators=500; total time=   0.7s\n",
      "[CV] END bootstrap=False, max_depth=None, min_samples_leaf=1, min_samples_split=10, n_estimators=200; total time=   0.2s\n",
      "[CV] END bootstrap=False, max_depth=None, min_samples_leaf=1, min_samples_split=10, n_estimators=200; total time=   0.2s\n",
      "[CV] END bootstrap=False, max_depth=None, min_samples_leaf=1, min_samples_split=10, n_estimators=200; total time=   0.2s\n",
      "[CV] END bootstrap=False, max_depth=None, min_samples_leaf=1, min_samples_split=10, n_estimators=200; total time=   0.2s\n",
      "[CV] END bootstrap=False, max_depth=None, min_samples_leaf=1, min_samples_split=10, n_estimators=200; total time=   0.3s\n",
      "[CV] END bootstrap=False, max_depth=None, min_samples_leaf=1, min_samples_split=5, n_estimators=1000; total time=   0.8s\n",
      "[CV] END bootstrap=False, max_depth=None, min_samples_leaf=1, min_samples_split=5, n_estimators=1000; total time=   0.8s\n",
      "[CV] END bootstrap=False, max_depth=None, min_samples_leaf=1, min_samples_split=5, n_estimators=1000; total time=   0.8s\n",
      "[CV] END bootstrap=False, max_depth=None, min_samples_leaf=1, min_samples_split=5, n_estimators=1000; total time=   0.8s\n",
      "[CV] END bootstrap=False, max_depth=None, min_samples_leaf=1, min_samples_split=10, n_estimators=500; total time=   0.4s\n",
      "[CV] END bootstrap=False, max_depth=None, min_samples_leaf=1, min_samples_split=5, n_estimators=1000; total time=   0.9s\n",
      "[CV] END bootstrap=False, max_depth=None, min_samples_leaf=2, min_samples_split=2, n_estimators=100; total time=   0.1s\n",
      "[CV] END bootstrap=False, max_depth=None, min_samples_leaf=1, min_samples_split=10, n_estimators=500; total time=   0.5s\n",
      "[CV] END bootstrap=False, max_depth=None, min_samples_leaf=2, min_samples_split=2, n_estimators=100; total time=   0.1s\n",
      "[CV] END bootstrap=False, max_depth=None, min_samples_leaf=1, min_samples_split=10, n_estimators=500; total time=   0.6s\n",
      "[CV] END bootstrap=False, max_depth=None, min_samples_leaf=2, min_samples_split=2, n_estimators=100; total time=   0.1s\n",
      "[CV] END bootstrap=False, max_depth=None, min_samples_leaf=1, min_samples_split=10, n_estimators=500; total time=   0.6s\n",
      "[CV] END bootstrap=False, max_depth=None, min_samples_leaf=2, min_samples_split=2, n_estimators=100; total time=   0.1s\n",
      "[CV] END bootstrap=False, max_depth=None, min_samples_leaf=1, min_samples_split=10, n_estimators=500; total time=   0.6s\n",
      "[CV] END bootstrap=False, max_depth=None, min_samples_leaf=2, min_samples_split=2, n_estimators=100; total time=   0.2s\n",
      "[CV] END bootstrap=False, max_depth=None, min_samples_leaf=2, min_samples_split=2, n_estimators=200; total time=   0.2s\n",
      "[CV] END bootstrap=False, max_depth=None, min_samples_leaf=2, min_samples_split=2, n_estimators=200; total time=   0.2s\n",
      "[CV] END bootstrap=False, max_depth=None, min_samples_leaf=2, min_samples_split=2, n_estimators=200; total time=   0.2s\n",
      "[CV] END bootstrap=False, max_depth=None, min_samples_leaf=1, min_samples_split=10, n_estimators=1000; total time=   0.8s\n",
      "[CV] END bootstrap=False, max_depth=None, min_samples_leaf=2, min_samples_split=2, n_estimators=200; total time=   0.3s\n",
      "[CV] END bootstrap=False, max_depth=None, min_samples_leaf=1, min_samples_split=10, n_estimators=1000; total time=   0.8s\n",
      "[CV] END bootstrap=False, max_depth=None, min_samples_leaf=1, min_samples_split=10, n_estimators=1000; total time=   0.8s\n",
      "[CV] END bootstrap=False, max_depth=None, min_samples_leaf=1, min_samples_split=10, n_estimators=1000; total time=   0.8s\n",
      "[CV] END bootstrap=False, max_depth=None, min_samples_leaf=2, min_samples_split=2, n_estimators=200; total time=   0.3s\n",
      "[CV] END bootstrap=False, max_depth=None, min_samples_leaf=2, min_samples_split=2, n_estimators=500; total time=   0.4s\n",
      "[CV] END bootstrap=False, max_depth=None, min_samples_leaf=1, min_samples_split=10, n_estimators=1000; total time=   0.9s\n",
      "[CV] END bootstrap=False, max_depth=None, min_samples_leaf=2, min_samples_split=2, n_estimators=500; total time=   0.4s\n",
      "[CV] END bootstrap=False, max_depth=None, min_samples_leaf=2, min_samples_split=5, n_estimators=100; total time=   0.1s\n",
      "[CV] END bootstrap=False, max_depth=None, min_samples_leaf=2, min_samples_split=2, n_estimators=500; total time=   0.5s\n",
      "[CV] END bootstrap=False, max_depth=None, min_samples_leaf=2, min_samples_split=5, n_estimators=100; total time=   0.1s\n",
      "[CV] END bootstrap=False, max_depth=None, min_samples_leaf=2, min_samples_split=2, n_estimators=500; total time=   0.5s\n",
      "[CV] END bootstrap=False, max_depth=None, min_samples_leaf=2, min_samples_split=5, n_estimators=100; total time=   0.1s\n",
      "[CV] END bootstrap=False, max_depth=None, min_samples_leaf=2, min_samples_split=5, n_estimators=100; total time=   0.1s\n",
      "[CV] END bootstrap=False, max_depth=None, min_samples_leaf=2, min_samples_split=5, n_estimators=100; total time=   0.1s\n",
      "[CV] END bootstrap=False, max_depth=None, min_samples_leaf=2, min_samples_split=2, n_estimators=500; total time=   0.5s\n",
      "[CV] END bootstrap=False, max_depth=None, min_samples_leaf=2, min_samples_split=5, n_estimators=200; total time=   0.2s\n",
      "[CV] END bootstrap=False, max_depth=None, min_samples_leaf=2, min_samples_split=5, n_estimators=200; total time=   0.2s\n",
      "[CV] END bootstrap=False, max_depth=None, min_samples_leaf=2, min_samples_split=5, n_estimators=200; total time=   0.3s\n",
      "[CV] END bootstrap=False, max_depth=None, min_samples_leaf=2, min_samples_split=5, n_estimators=200; total time=   0.2s\n",
      "[CV] END bootstrap=False, max_depth=None, min_samples_leaf=2, min_samples_split=5, n_estimators=200; total time=   0.2s\n",
      "[CV] END bootstrap=False, max_depth=None, min_samples_leaf=2, min_samples_split=2, n_estimators=1000; total time=   0.8s\n",
      "[CV] END bootstrap=False, max_depth=None, min_samples_leaf=2, min_samples_split=2, n_estimators=1000; total time=   0.8s\n",
      "[CV] END bootstrap=False, max_depth=None, min_samples_leaf=2, min_samples_split=2, n_estimators=1000; total time=   0.9s\n",
      "[CV] END bootstrap=False, max_depth=None, min_samples_leaf=2, min_samples_split=5, n_estimators=500; total time=   0.4s\n",
      "[CV] END bootstrap=False, max_depth=None, min_samples_leaf=2, min_samples_split=2, n_estimators=1000; total time=   0.8s\n",
      "[CV] END bootstrap=False, max_depth=None, min_samples_leaf=2, min_samples_split=5, n_estimators=500; total time=   0.4s\n",
      "[CV] END bootstrap=False, max_depth=None, min_samples_leaf=2, min_samples_split=10, n_estimators=100; total time=   0.1s\n",
      "[CV] END bootstrap=False, max_depth=None, min_samples_leaf=2, min_samples_split=10, n_estimators=100; total time=   0.1s\n",
      "[CV] END bootstrap=False, max_depth=None, min_samples_leaf=2, min_samples_split=5, n_estimators=500; total time=   0.6s\n",
      "[CV] END bootstrap=False, max_depth=None, min_samples_leaf=2, min_samples_split=5, n_estimators=500; total time=   0.6s\n",
      "[CV] END bootstrap=False, max_depth=None, min_samples_leaf=2, min_samples_split=2, n_estimators=1000; total time=   1.2s\n",
      "[CV] END bootstrap=False, max_depth=None, min_samples_leaf=2, min_samples_split=10, n_estimators=100; total time=   0.1s\n",
      "[CV] END bootstrap=False, max_depth=None, min_samples_leaf=2, min_samples_split=10, n_estimators=100; total time=   0.1s\n",
      "[CV] END bootstrap=False, max_depth=None, min_samples_leaf=2, min_samples_split=10, n_estimators=100; total time=   0.1s\n",
      "[CV] END bootstrap=False, max_depth=None, min_samples_leaf=2, min_samples_split=5, n_estimators=500; total time=   0.6s\n",
      "[CV] END bootstrap=False, max_depth=None, min_samples_leaf=2, min_samples_split=10, n_estimators=200; total time=   0.2s\n",
      "[CV] END bootstrap=False, max_depth=None, min_samples_leaf=2, min_samples_split=10, n_estimators=200; total time=   0.2s\n",
      "[CV] END bootstrap=False, max_depth=None, min_samples_leaf=2, min_samples_split=10, n_estimators=200; total time=   0.2s\n",
      "[CV] END bootstrap=False, max_depth=None, min_samples_leaf=2, min_samples_split=10, n_estimators=200; total time=   0.2s\n",
      "[CV] END bootstrap=False, max_depth=None, min_samples_leaf=2, min_samples_split=10, n_estimators=200; total time=   0.2s\n",
      "[CV] END bootstrap=False, max_depth=None, min_samples_leaf=2, min_samples_split=5, n_estimators=1000; total time=   0.8s\n",
      "[CV] END bootstrap=False, max_depth=None, min_samples_leaf=2, min_samples_split=5, n_estimators=1000; total time=   0.8s\n",
      "[CV] END bootstrap=False, max_depth=None, min_samples_leaf=2, min_samples_split=5, n_estimators=1000; total time=   0.8s\n",
      "[CV] END bootstrap=False, max_depth=None, min_samples_leaf=2, min_samples_split=5, n_estimators=1000; total time=   0.8s\n",
      "[CV] END bootstrap=False, max_depth=None, min_samples_leaf=2, min_samples_split=5, n_estimators=1000; total time=   0.8s\n",
      "[CV] END bootstrap=False, max_depth=None, min_samples_leaf=2, min_samples_split=10, n_estimators=500; total time=   0.4s\n",
      "[CV] END bootstrap=False, max_depth=None, min_samples_leaf=4, min_samples_split=2, n_estimators=100; total time=   0.1s\n",
      "[CV] END bootstrap=False, max_depth=None, min_samples_leaf=4, min_samples_split=2, n_estimators=100; total time=   0.1s\n",
      "[CV] END bootstrap=False, max_depth=None, min_samples_leaf=2, min_samples_split=10, n_estimators=500; total time=   0.5s\n",
      "[CV] END bootstrap=False, max_depth=None, min_samples_leaf=4, min_samples_split=2, n_estimators=100; total time=   0.1s\n",
      "[CV] END bootstrap=False, max_depth=None, min_samples_leaf=2, min_samples_split=10, n_estimators=500; total time=   0.5s\n",
      "[CV] END bootstrap=False, max_depth=None, min_samples_leaf=4, min_samples_split=2, n_estimators=100; total time=   0.1s\n",
      "[CV] END bootstrap=False, max_depth=None, min_samples_leaf=2, min_samples_split=10, n_estimators=500; total time=   0.6s\n",
      "[CV] END bootstrap=False, max_depth=None, min_samples_leaf=4, min_samples_split=2, n_estimators=100; total time=   0.1s\n",
      "[CV] END bootstrap=False, max_depth=None, min_samples_leaf=2, min_samples_split=10, n_estimators=500; total time=   0.6s\n",
      "[CV] END bootstrap=False, max_depth=None, min_samples_leaf=4, min_samples_split=2, n_estimators=200; total time=   0.2s\n",
      "[CV] END bootstrap=False, max_depth=None, min_samples_leaf=4, min_samples_split=2, n_estimators=200; total time=   0.2s\n",
      "[CV] END bootstrap=False, max_depth=None, min_samples_leaf=4, min_samples_split=2, n_estimators=200; total time=   0.2s\n",
      "[CV] END bootstrap=False, max_depth=None, min_samples_leaf=4, min_samples_split=2, n_estimators=200; total time=   0.2s\n",
      "[CV] END bootstrap=False, max_depth=None, min_samples_leaf=4, min_samples_split=2, n_estimators=200; total time=   0.2s\n",
      "[CV] END bootstrap=False, max_depth=None, min_samples_leaf=2, min_samples_split=10, n_estimators=1000; total time=   0.8s\n",
      "[CV] END bootstrap=False, max_depth=None, min_samples_leaf=2, min_samples_split=10, n_estimators=1000; total time=   0.8s\n",
      "[CV] END bootstrap=False, max_depth=None, min_samples_leaf=2, min_samples_split=10, n_estimators=1000; total time=   0.8s\n",
      "[CV] END bootstrap=False, max_depth=None, min_samples_leaf=2, min_samples_split=10, n_estimators=1000; total time=   0.8s\n",
      "[CV] END bootstrap=False, max_depth=None, min_samples_leaf=2, min_samples_split=10, n_estimators=1000; total time=   0.8s\n",
      "[CV] END bootstrap=False, max_depth=None, min_samples_leaf=4, min_samples_split=2, n_estimators=500; total time=   0.4s\n",
      "[CV] END bootstrap=False, max_depth=None, min_samples_leaf=4, min_samples_split=5, n_estimators=100; total time=   0.1s\n",
      "[CV] END bootstrap=False, max_depth=None, min_samples_leaf=4, min_samples_split=2, n_estimators=500; total time=   0.5s\n",
      "[CV] END bootstrap=False, max_depth=None, min_samples_leaf=4, min_samples_split=5, n_estimators=100; total time=   0.1s\n",
      "[CV] END bootstrap=False, max_depth=None, min_samples_leaf=4, min_samples_split=5, n_estimators=100; total time=   0.1s\n",
      "[CV] END bootstrap=False, max_depth=None, min_samples_leaf=4, min_samples_split=5, n_estimators=100; total time=   0.1s\n",
      "[CV] END bootstrap=False, max_depth=None, min_samples_leaf=4, min_samples_split=2, n_estimators=500; total time=   0.6s\n",
      "[CV] END bootstrap=False, max_depth=None, min_samples_leaf=4, min_samples_split=2, n_estimators=500; total time=   0.6s\n",
      "[CV] END bootstrap=False, max_depth=None, min_samples_leaf=4, min_samples_split=2, n_estimators=500; total time=   0.6s\n",
      "[CV] END bootstrap=False, max_depth=None, min_samples_leaf=4, min_samples_split=5, n_estimators=100; total time=   0.1s\n",
      "[CV] END bootstrap=False, max_depth=None, min_samples_leaf=4, min_samples_split=5, n_estimators=200; total time=   0.2s\n",
      "[CV] END bootstrap=False, max_depth=None, min_samples_leaf=4, min_samples_split=5, n_estimators=200; total time=   0.2s\n",
      "[CV] END bootstrap=False, max_depth=None, min_samples_leaf=4, min_samples_split=5, n_estimators=200; total time=   0.2s\n",
      "[CV] END bootstrap=False, max_depth=None, min_samples_leaf=4, min_samples_split=2, n_estimators=1000; total time=   0.7s\n",
      "[CV] END bootstrap=False, max_depth=None, min_samples_leaf=4, min_samples_split=5, n_estimators=200; total time=   0.2s\n",
      "[CV] END bootstrap=False, max_depth=None, min_samples_leaf=4, min_samples_split=2, n_estimators=1000; total time=   0.8s\n",
      "[CV] END bootstrap=False, max_depth=None, min_samples_leaf=4, min_samples_split=2, n_estimators=1000; total time=   0.8s\n",
      "[CV] END bootstrap=False, max_depth=None, min_samples_leaf=4, min_samples_split=5, n_estimators=200; total time=   0.3s\n",
      "[CV] END bootstrap=False, max_depth=None, min_samples_leaf=4, min_samples_split=2, n_estimators=1000; total time=   0.8s\n",
      "[CV] END bootstrap=False, max_depth=None, min_samples_leaf=4, min_samples_split=2, n_estimators=1000; total time=   0.9s\n",
      "[CV] END bootstrap=False, max_depth=None, min_samples_leaf=4, min_samples_split=5, n_estimators=500; total time=   0.4s\n",
      "[CV] END bootstrap=False, max_depth=None, min_samples_leaf=4, min_samples_split=5, n_estimators=500; total time=   0.4s\n",
      "[CV] END bootstrap=False, max_depth=None, min_samples_leaf=4, min_samples_split=10, n_estimators=100; total time=   0.1s\n",
      "[CV] END bootstrap=False, max_depth=None, min_samples_leaf=4, min_samples_split=10, n_estimators=100; total time=   0.1s\n",
      "[CV] END bootstrap=False, max_depth=None, min_samples_leaf=4, min_samples_split=10, n_estimators=100; total time=   0.1s\n",
      "[CV] END bootstrap=False, max_depth=None, min_samples_leaf=4, min_samples_split=5, n_estimators=500; total time=   0.5s\n",
      "[CV] END bootstrap=False, max_depth=None, min_samples_leaf=4, min_samples_split=5, n_estimators=500; total time=   0.5s\n",
      "[CV] END bootstrap=False, max_depth=None, min_samples_leaf=4, min_samples_split=10, n_estimators=100; total time=   0.1s\n",
      "[CV] END bootstrap=False, max_depth=None, min_samples_leaf=4, min_samples_split=10, n_estimators=100; total time=   0.1s\n",
      "[CV] END bootstrap=False, max_depth=None, min_samples_leaf=4, min_samples_split=5, n_estimators=500; total time=   0.6s\n",
      "[CV] END bootstrap=False, max_depth=None, min_samples_leaf=4, min_samples_split=10, n_estimators=200; total time=   0.2s\n",
      "[CV] END bootstrap=False, max_depth=None, min_samples_leaf=4, min_samples_split=10, n_estimators=200; total time=   0.2s\n",
      "[CV] END bootstrap=False, max_depth=None, min_samples_leaf=4, min_samples_split=10, n_estimators=200; total time=   0.2s\n",
      "[CV] END bootstrap=False, max_depth=None, min_samples_leaf=4, min_samples_split=10, n_estimators=200; total time=   0.2s\n",
      "[CV] END bootstrap=False, max_depth=None, min_samples_leaf=4, min_samples_split=5, n_estimators=1000; total time=   0.8s\n",
      "[CV] END bootstrap=False, max_depth=None, min_samples_leaf=4, min_samples_split=5, n_estimators=1000; total time=   0.8s\n",
      "[CV] END bootstrap=False, max_depth=None, min_samples_leaf=4, min_samples_split=10, n_estimators=200; total time=   0.2s\n",
      "[CV] END bootstrap=False, max_depth=None, min_samples_leaf=4, min_samples_split=5, n_estimators=1000; total time=   0.8s\n",
      "[CV] END bootstrap=False, max_depth=None, min_samples_leaf=4, min_samples_split=5, n_estimators=1000; total time=   0.8s\n",
      "[CV] END bootstrap=False, max_depth=None, min_samples_leaf=4, min_samples_split=10, n_estimators=500; total time=   0.4s\n",
      "[CV] END bootstrap=False, max_depth=None, min_samples_leaf=4, min_samples_split=10, n_estimators=500; total time=   0.4s\n",
      "[CV] END bootstrap=False, max_depth=None, min_samples_leaf=4, min_samples_split=10, n_estimators=500; total time=   0.4s\n",
      "[CV] END bootstrap=False, max_depth=5, min_samples_leaf=1, min_samples_split=2, n_estimators=100; total time=   0.1s\n",
      "[CV] END bootstrap=False, max_depth=None, min_samples_leaf=4, min_samples_split=5, n_estimators=1000; total time=   1.1s\n",
      "[CV] END bootstrap=False, max_depth=None, min_samples_leaf=4, min_samples_split=10, n_estimators=500; total time=   0.6s\n",
      "[CV] END bootstrap=False, max_depth=5, min_samples_leaf=1, min_samples_split=2, n_estimators=100; total time=   0.1s\n",
      "[CV] END bootstrap=False, max_depth=5, min_samples_leaf=1, min_samples_split=2, n_estimators=100; total time=   0.1s\n",
      "[CV] END bootstrap=False, max_depth=None, min_samples_leaf=4, min_samples_split=10, n_estimators=500; total time=   0.6s\n",
      "[CV] END bootstrap=False, max_depth=5, min_samples_leaf=1, min_samples_split=2, n_estimators=100; total time=   0.1s\n",
      "[CV] END bootstrap=False, max_depth=5, min_samples_leaf=1, min_samples_split=2, n_estimators=100; total time=   0.1s\n",
      "[CV] END bootstrap=False, max_depth=5, min_samples_leaf=1, min_samples_split=2, n_estimators=200; total time=   0.2s\n",
      "[CV] END bootstrap=False, max_depth=5, min_samples_leaf=1, min_samples_split=2, n_estimators=200; total time=   0.2s\n",
      "[CV] END bootstrap=False, max_depth=5, min_samples_leaf=1, min_samples_split=2, n_estimators=200; total time=   0.3s\n",
      "[CV] END bootstrap=False, max_depth=5, min_samples_leaf=1, min_samples_split=2, n_estimators=200; total time=   0.2s\n",
      "[CV] END bootstrap=False, max_depth=None, min_samples_leaf=4, min_samples_split=10, n_estimators=1000; total time=   0.8s\n",
      "[CV] END bootstrap=False, max_depth=5, min_samples_leaf=1, min_samples_split=2, n_estimators=200; total time=   0.2s\n",
      "[CV] END bootstrap=False, max_depth=None, min_samples_leaf=4, min_samples_split=10, n_estimators=1000; total time=   0.8s\n",
      "[CV] END bootstrap=False, max_depth=5, min_samples_leaf=1, min_samples_split=2, n_estimators=500; total time=   0.4s\n",
      "[CV] END bootstrap=False, max_depth=5, min_samples_leaf=1, min_samples_split=2, n_estimators=500; total time=   0.4s\n",
      "[CV] END bootstrap=False, max_depth=None, min_samples_leaf=4, min_samples_split=10, n_estimators=1000; total time=   0.8s\n",
      "[CV] END bootstrap=False, max_depth=None, min_samples_leaf=4, min_samples_split=10, n_estimators=1000; total time=   0.8s\n",
      "[CV] END bootstrap=False, max_depth=None, min_samples_leaf=4, min_samples_split=10, n_estimators=1000; total time=   1.1s\n",
      "[CV] END bootstrap=False, max_depth=5, min_samples_leaf=1, min_samples_split=5, n_estimators=100; total time=   0.1s\n",
      "[CV] END bootstrap=False, max_depth=5, min_samples_leaf=1, min_samples_split=2, n_estimators=500; total time=   0.4s\n",
      "[CV] END bootstrap=False, max_depth=5, min_samples_leaf=1, min_samples_split=5, n_estimators=100; total time=   0.1s\n",
      "[CV] END bootstrap=False, max_depth=5, min_samples_leaf=1, min_samples_split=5, n_estimators=100; total time=   0.1s\n",
      "[CV] END bootstrap=False, max_depth=5, min_samples_leaf=1, min_samples_split=5, n_estimators=100; total time=   0.1s\n",
      "[CV] END bootstrap=False, max_depth=5, min_samples_leaf=1, min_samples_split=5, n_estimators=100; total time=   0.1s\n",
      "[CV] END bootstrap=False, max_depth=5, min_samples_leaf=1, min_samples_split=2, n_estimators=500; total time=   0.6s\n",
      "[CV] END bootstrap=False, max_depth=5, min_samples_leaf=1, min_samples_split=2, n_estimators=500; total time=   0.6s\n",
      "[CV] END bootstrap=False, max_depth=5, min_samples_leaf=1, min_samples_split=5, n_estimators=200; total time=   0.1s\n",
      "[CV] END bootstrap=False, max_depth=5, min_samples_leaf=1, min_samples_split=5, n_estimators=200; total time=   0.1s\n",
      "[CV] END bootstrap=False, max_depth=5, min_samples_leaf=1, min_samples_split=5, n_estimators=200; total time=   0.2s\n",
      "[CV] END bootstrap=False, max_depth=5, min_samples_leaf=1, min_samples_split=5, n_estimators=200; total time=   0.2s\n",
      "[CV] END bootstrap=False, max_depth=5, min_samples_leaf=1, min_samples_split=5, n_estimators=200; total time=   0.2s\n",
      "[CV] END bootstrap=False, max_depth=5, min_samples_leaf=1, min_samples_split=2, n_estimators=1000; total time=   0.7s\n",
      "[CV] END bootstrap=False, max_depth=5, min_samples_leaf=1, min_samples_split=2, n_estimators=1000; total time=   0.7s\n",
      "[CV] END bootstrap=False, max_depth=5, min_samples_leaf=1, min_samples_split=2, n_estimators=1000; total time=   0.7s\n",
      "[CV] END bootstrap=False, max_depth=5, min_samples_leaf=1, min_samples_split=2, n_estimators=1000; total time=   0.8s\n",
      "[CV] END bootstrap=False, max_depth=5, min_samples_leaf=1, min_samples_split=5, n_estimators=500; total time=   0.4s\n",
      "[CV] END bootstrap=False, max_depth=5, min_samples_leaf=1, min_samples_split=5, n_estimators=500; total time=   0.4s\n",
      "[CV] END bootstrap=False, max_depth=5, min_samples_leaf=1, min_samples_split=2, n_estimators=1000; total time=   1.1s\n",
      "[CV] END bootstrap=False, max_depth=5, min_samples_leaf=1, min_samples_split=10, n_estimators=100; total time=   0.1s\n",
      "[CV] END bootstrap=False, max_depth=5, min_samples_leaf=1, min_samples_split=5, n_estimators=500; total time=   0.4s\n",
      "[CV] END bootstrap=False, max_depth=5, min_samples_leaf=1, min_samples_split=10, n_estimators=100; total time=   0.1s\n",
      "[CV] END bootstrap=False, max_depth=5, min_samples_leaf=1, min_samples_split=5, n_estimators=500; total time=   0.5s\n",
      "[CV] END bootstrap=False, max_depth=5, min_samples_leaf=1, min_samples_split=10, n_estimators=100; total time=   0.1s\n",
      "[CV] END bootstrap=False, max_depth=5, min_samples_leaf=1, min_samples_split=10, n_estimators=100; total time=   0.1s\n",
      "[CV] END bootstrap=False, max_depth=5, min_samples_leaf=1, min_samples_split=10, n_estimators=100; total time=   0.1s\n",
      "[CV] END bootstrap=False, max_depth=5, min_samples_leaf=1, min_samples_split=5, n_estimators=500; total time=   0.5s\n",
      "[CV] END bootstrap=False, max_depth=5, min_samples_leaf=1, min_samples_split=10, n_estimators=200; total time=   0.1s\n",
      "[CV] END bootstrap=False, max_depth=5, min_samples_leaf=1, min_samples_split=10, n_estimators=200; total time=   0.2s\n",
      "[CV] END bootstrap=False, max_depth=5, min_samples_leaf=1, min_samples_split=10, n_estimators=200; total time=   0.2s\n",
      "[CV] END bootstrap=False, max_depth=5, min_samples_leaf=1, min_samples_split=10, n_estimators=200; total time=   0.2s\n",
      "[CV] END bootstrap=False, max_depth=5, min_samples_leaf=1, min_samples_split=10, n_estimators=200; total time=   0.2s\n",
      "[CV] END bootstrap=False, max_depth=5, min_samples_leaf=1, min_samples_split=5, n_estimators=1000; total time=   0.8s\n",
      "[CV] END bootstrap=False, max_depth=5, min_samples_leaf=1, min_samples_split=5, n_estimators=1000; total time=   0.8s\n",
      "[CV] END bootstrap=False, max_depth=5, min_samples_leaf=1, min_samples_split=5, n_estimators=1000; total time=   0.8s\n",
      "[CV] END bootstrap=False, max_depth=5, min_samples_leaf=1, min_samples_split=5, n_estimators=1000; total time=   0.8s\n",
      "[CV] END bootstrap=False, max_depth=5, min_samples_leaf=1, min_samples_split=5, n_estimators=1000; total time=   0.8s\n",
      "[CV] END bootstrap=False, max_depth=5, min_samples_leaf=1, min_samples_split=10, n_estimators=500; total time=   0.4s\n",
      "[CV] END bootstrap=False, max_depth=5, min_samples_leaf=2, min_samples_split=2, n_estimators=100; total time=   0.1s\n",
      "[CV] END bootstrap=False, max_depth=5, min_samples_leaf=2, min_samples_split=2, n_estimators=100; total time=   0.1s\n",
      "[CV] END bootstrap=False, max_depth=5, min_samples_leaf=1, min_samples_split=10, n_estimators=500; total time=   0.5s\n",
      "[CV] END bootstrap=False, max_depth=5, min_samples_leaf=1, min_samples_split=10, n_estimators=500; total time=   0.5s\n",
      "[CV] END bootstrap=False, max_depth=5, min_samples_leaf=1, min_samples_split=10, n_estimators=500; total time=   0.5s\n",
      "[CV] END bootstrap=False, max_depth=5, min_samples_leaf=2, min_samples_split=2, n_estimators=100; total time=   0.1s\n",
      "[CV] END bootstrap=False, max_depth=5, min_samples_leaf=2, min_samples_split=2, n_estimators=100; total time=   0.1s\n",
      "[CV] END bootstrap=False, max_depth=5, min_samples_leaf=2, min_samples_split=2, n_estimators=100; total time=   0.1s\n",
      "[CV] END bootstrap=False, max_depth=5, min_samples_leaf=1, min_samples_split=10, n_estimators=500; total time=   0.7s\n",
      "[CV] END bootstrap=False, max_depth=5, min_samples_leaf=2, min_samples_split=2, n_estimators=200; total time=   0.1s\n",
      "[CV] END bootstrap=False, max_depth=5, min_samples_leaf=2, min_samples_split=2, n_estimators=200; total time=   0.2s\n",
      "[CV] END bootstrap=False, max_depth=5, min_samples_leaf=1, min_samples_split=10, n_estimators=1000; total time=   0.7s\n",
      "[CV] END bootstrap=False, max_depth=5, min_samples_leaf=2, min_samples_split=2, n_estimators=200; total time=   0.2s\n",
      "[CV] END bootstrap=False, max_depth=5, min_samples_leaf=2, min_samples_split=2, n_estimators=200; total time=   0.2s\n",
      "[CV] END bootstrap=False, max_depth=5, min_samples_leaf=2, min_samples_split=2, n_estimators=200; total time=   0.2s\n",
      "[CV] END bootstrap=False, max_depth=5, min_samples_leaf=1, min_samples_split=10, n_estimators=1000; total time=   0.7s\n",
      "[CV] END bootstrap=False, max_depth=5, min_samples_leaf=1, min_samples_split=10, n_estimators=1000; total time=   0.7s\n",
      "[CV] END bootstrap=False, max_depth=5, min_samples_leaf=1, min_samples_split=10, n_estimators=1000; total time=   0.7s\n",
      "[CV] END bootstrap=False, max_depth=5, min_samples_leaf=1, min_samples_split=10, n_estimators=1000; total time=   0.8s\n",
      "[CV] END bootstrap=False, max_depth=5, min_samples_leaf=2, min_samples_split=2, n_estimators=500; total time=   0.4s\n",
      "[CV] END bootstrap=False, max_depth=5, min_samples_leaf=2, min_samples_split=5, n_estimators=100; total time=   0.1s\n",
      "[CV] END bootstrap=False, max_depth=5, min_samples_leaf=2, min_samples_split=2, n_estimators=500; total time=   0.4s\n",
      "[CV] END bootstrap=False, max_depth=5, min_samples_leaf=2, min_samples_split=5, n_estimators=100; total time=   0.1s\n",
      "[CV] END bootstrap=False, max_depth=5, min_samples_leaf=2, min_samples_split=5, n_estimators=100; total time=   0.1s\n",
      "[CV] END bootstrap=False, max_depth=5, min_samples_leaf=2, min_samples_split=5, n_estimators=100; total time=   0.1s\n",
      "[CV] END bootstrap=False, max_depth=5, min_samples_leaf=2, min_samples_split=5, n_estimators=100; total time=   0.1s\n",
      "[CV] END bootstrap=False, max_depth=5, min_samples_leaf=2, min_samples_split=2, n_estimators=500; total time=   0.6s\n",
      "[CV] END bootstrap=False, max_depth=5, min_samples_leaf=2, min_samples_split=2, n_estimators=500; total time=   0.5s\n",
      "[CV] END bootstrap=False, max_depth=5, min_samples_leaf=2, min_samples_split=5, n_estimators=200; total time=   0.2s\n",
      "[CV] END bootstrap=False, max_depth=5, min_samples_leaf=2, min_samples_split=2, n_estimators=500; total time=   0.6s\n",
      "[CV] END bootstrap=False, max_depth=5, min_samples_leaf=2, min_samples_split=5, n_estimators=200; total time=   0.2s\n",
      "[CV] END bootstrap=False, max_depth=5, min_samples_leaf=2, min_samples_split=5, n_estimators=200; total time=   0.2s\n",
      "[CV] END bootstrap=False, max_depth=5, min_samples_leaf=2, min_samples_split=5, n_estimators=200; total time=   0.2s\n",
      "[CV] END bootstrap=False, max_depth=5, min_samples_leaf=2, min_samples_split=5, n_estimators=200; total time=   0.1s\n",
      "[CV] END bootstrap=False, max_depth=5, min_samples_leaf=2, min_samples_split=2, n_estimators=1000; total time=   0.8s\n",
      "[CV] END bootstrap=False, max_depth=5, min_samples_leaf=2, min_samples_split=2, n_estimators=1000; total time=   0.8s\n",
      "[CV] END bootstrap=False, max_depth=5, min_samples_leaf=2, min_samples_split=2, n_estimators=1000; total time=   0.7s\n",
      "[CV] END bootstrap=False, max_depth=5, min_samples_leaf=2, min_samples_split=2, n_estimators=1000; total time=   0.8s\n",
      "[CV] END bootstrap=False, max_depth=5, min_samples_leaf=2, min_samples_split=5, n_estimators=500; total time=   0.4s\n",
      "[CV] END bootstrap=False, max_depth=5, min_samples_leaf=2, min_samples_split=5, n_estimators=500; total time=   0.6s\n",
      "[CV] END bootstrap=False, max_depth=5, min_samples_leaf=2, min_samples_split=2, n_estimators=1000; total time=   1.1s\n",
      "[CV] END bootstrap=False, max_depth=5, min_samples_leaf=2, min_samples_split=5, n_estimators=500; total time=   0.4s\n",
      "[CV] END bootstrap=False, max_depth=5, min_samples_leaf=2, min_samples_split=10, n_estimators=100; total time=   0.1s\n",
      "[CV] END bootstrap=False, max_depth=5, min_samples_leaf=2, min_samples_split=10, n_estimators=100; total time=   0.1s\n",
      "[CV] END bootstrap=False, max_depth=5, min_samples_leaf=2, min_samples_split=10, n_estimators=100; total time=   0.1s\n",
      "[CV] END bootstrap=False, max_depth=5, min_samples_leaf=2, min_samples_split=5, n_estimators=500; total time=   0.6s\n",
      "[CV] END bootstrap=False, max_depth=5, min_samples_leaf=2, min_samples_split=5, n_estimators=500; total time=   0.6s\n",
      "[CV] END bootstrap=False, max_depth=5, min_samples_leaf=2, min_samples_split=10, n_estimators=100; total time=   0.1s\n",
      "[CV] END bootstrap=False, max_depth=5, min_samples_leaf=2, min_samples_split=10, n_estimators=100; total time=   0.1s\n",
      "[CV] END bootstrap=False, max_depth=5, min_samples_leaf=2, min_samples_split=10, n_estimators=200; total time=   0.2s\n",
      "[CV] END bootstrap=False, max_depth=5, min_samples_leaf=2, min_samples_split=10, n_estimators=200; total time=   0.2s\n",
      "[CV] END bootstrap=False, max_depth=5, min_samples_leaf=2, min_samples_split=10, n_estimators=200; total time=   0.2s\n",
      "[CV] END bootstrap=False, max_depth=5, min_samples_leaf=2, min_samples_split=10, n_estimators=200; total time=   0.2s\n",
      "[CV] END bootstrap=False, max_depth=5, min_samples_leaf=2, min_samples_split=10, n_estimators=200; total time=   0.2s\n",
      "[CV] END bootstrap=False, max_depth=5, min_samples_leaf=2, min_samples_split=5, n_estimators=1000; total time=   0.8s\n",
      "[CV] END bootstrap=False, max_depth=5, min_samples_leaf=2, min_samples_split=5, n_estimators=1000; total time=   0.8s\n",
      "[CV] END bootstrap=False, max_depth=5, min_samples_leaf=2, min_samples_split=5, n_estimators=1000; total time=   0.8s\n",
      "[CV] END bootstrap=False, max_depth=5, min_samples_leaf=2, min_samples_split=5, n_estimators=1000; total time=   0.8s\n",
      "[CV] END bootstrap=False, max_depth=5, min_samples_leaf=2, min_samples_split=5, n_estimators=1000; total time=   0.8s\n",
      "[CV] END bootstrap=False, max_depth=5, min_samples_leaf=2, min_samples_split=10, n_estimators=500; total time=   0.4s\n",
      "[CV] END bootstrap=False, max_depth=5, min_samples_leaf=4, min_samples_split=2, n_estimators=100; total time=   0.1s\n",
      "[CV] END bootstrap=False, max_depth=5, min_samples_leaf=2, min_samples_split=10, n_estimators=500; total time=   0.5s\n",
      "[CV] END bootstrap=False, max_depth=5, min_samples_leaf=2, min_samples_split=10, n_estimators=500; total time=   0.5s\n",
      "[CV] END bootstrap=False, max_depth=5, min_samples_leaf=4, min_samples_split=2, n_estimators=100; total time=   0.1s\n",
      "[CV] END bootstrap=False, max_depth=5, min_samples_leaf=4, min_samples_split=2, n_estimators=100; total time=   0.1s\n",
      "[CV] END bootstrap=False, max_depth=5, min_samples_leaf=4, min_samples_split=2, n_estimators=100; total time=   0.1s\n",
      "[CV] END bootstrap=False, max_depth=5, min_samples_leaf=4, min_samples_split=2, n_estimators=100; total time=   0.1s\n",
      "[CV] END bootstrap=False, max_depth=5, min_samples_leaf=2, min_samples_split=10, n_estimators=500; total time=   0.6s\n",
      "[CV] END bootstrap=False, max_depth=5, min_samples_leaf=2, min_samples_split=10, n_estimators=500; total time=   0.6s\n",
      "[CV] END bootstrap=False, max_depth=5, min_samples_leaf=4, min_samples_split=2, n_estimators=200; total time=   0.2s\n",
      "[CV] END bootstrap=False, max_depth=5, min_samples_leaf=4, min_samples_split=2, n_estimators=200; total time=   0.2s\n",
      "[CV] END bootstrap=False, max_depth=5, min_samples_leaf=4, min_samples_split=2, n_estimators=200; total time=   0.2s\n",
      "[CV] END bootstrap=False, max_depth=5, min_samples_leaf=4, min_samples_split=2, n_estimators=200; total time=   0.2s\n",
      "[CV] END bootstrap=False, max_depth=5, min_samples_leaf=2, min_samples_split=10, n_estimators=1000; total time=   0.7s\n",
      "[CV] END bootstrap=False, max_depth=5, min_samples_leaf=2, min_samples_split=10, n_estimators=1000; total time=   0.8s\n",
      "[CV] END bootstrap=False, max_depth=5, min_samples_leaf=4, min_samples_split=2, n_estimators=200; total time=   0.2s\n",
      "[CV] END bootstrap=False, max_depth=5, min_samples_leaf=2, min_samples_split=10, n_estimators=1000; total time=   0.7s\n",
      "[CV] END bootstrap=False, max_depth=5, min_samples_leaf=2, min_samples_split=10, n_estimators=1000; total time=   0.7s\n",
      "[CV] END bootstrap=False, max_depth=5, min_samples_leaf=2, min_samples_split=10, n_estimators=1000; total time=   0.8s\n",
      "[CV] END bootstrap=False, max_depth=5, min_samples_leaf=4, min_samples_split=2, n_estimators=500; total time=   0.4s\n",
      "[CV] END bootstrap=False, max_depth=5, min_samples_leaf=4, min_samples_split=5, n_estimators=100; total time=   0.1s\n",
      "[CV] END bootstrap=False, max_depth=5, min_samples_leaf=4, min_samples_split=2, n_estimators=500; total time=   0.4s\n",
      "[CV] END bootstrap=False, max_depth=5, min_samples_leaf=4, min_samples_split=5, n_estimators=100; total time=   0.1s\n",
      "[CV] END bootstrap=False, max_depth=5, min_samples_leaf=4, min_samples_split=2, n_estimators=500; total time=   0.5s\n",
      "[CV] END bootstrap=False, max_depth=5, min_samples_leaf=4, min_samples_split=5, n_estimators=100; total time=   0.1s\n",
      "[CV] END bootstrap=False, max_depth=5, min_samples_leaf=4, min_samples_split=5, n_estimators=100; total time=   0.1s\n",
      "[CV] END bootstrap=False, max_depth=5, min_samples_leaf=4, min_samples_split=2, n_estimators=500; total time=   0.6s\n",
      "[CV] END bootstrap=False, max_depth=5, min_samples_leaf=4, min_samples_split=5, n_estimators=100; total time=   0.1s\n",
      "[CV] END bootstrap=False, max_depth=5, min_samples_leaf=4, min_samples_split=2, n_estimators=500; total time=   0.7s\n",
      "[CV] END bootstrap=False, max_depth=5, min_samples_leaf=4, min_samples_split=5, n_estimators=200; total time=   0.1s\n",
      "[CV] END bootstrap=False, max_depth=5, min_samples_leaf=4, min_samples_split=5, n_estimators=200; total time=   0.2s\n",
      "[CV] END bootstrap=False, max_depth=5, min_samples_leaf=4, min_samples_split=5, n_estimators=200; total time=   0.2s\n",
      "[CV] END bootstrap=False, max_depth=5, min_samples_leaf=4, min_samples_split=2, n_estimators=1000; total time=   0.8s\n",
      "[CV] END bootstrap=False, max_depth=5, min_samples_leaf=4, min_samples_split=5, n_estimators=200; total time=   0.2s\n",
      "[CV] END bootstrap=False, max_depth=5, min_samples_leaf=4, min_samples_split=5, n_estimators=200; total time=   0.3s\n",
      "[CV] END bootstrap=False, max_depth=5, min_samples_leaf=4, min_samples_split=2, n_estimators=1000; total time=   0.8s\n",
      "[CV] END bootstrap=False, max_depth=5, min_samples_leaf=4, min_samples_split=2, n_estimators=1000; total time=   0.8s\n",
      "[CV] END bootstrap=False, max_depth=5, min_samples_leaf=4, min_samples_split=2, n_estimators=1000; total time=   0.7s\n",
      "[CV] END bootstrap=False, max_depth=5, min_samples_leaf=4, min_samples_split=5, n_estimators=500; total time=   0.4s\n",
      "[CV] END bootstrap=False, max_depth=5, min_samples_leaf=4, min_samples_split=2, n_estimators=1000; total time=   1.0s\n",
      "[CV] END bootstrap=False, max_depth=5, min_samples_leaf=4, min_samples_split=5, n_estimators=500; total time=   0.4s\n",
      "[CV] END bootstrap=False, max_depth=5, min_samples_leaf=4, min_samples_split=10, n_estimators=100; total time=   0.1s\n",
      "[CV] END bootstrap=False, max_depth=5, min_samples_leaf=4, min_samples_split=10, n_estimators=100; total time=   0.1s\n",
      "[CV] END bootstrap=False, max_depth=5, min_samples_leaf=4, min_samples_split=5, n_estimators=500; total time=   0.4s\n",
      "[CV] END bootstrap=False, max_depth=5, min_samples_leaf=4, min_samples_split=10, n_estimators=100; total time=   0.1s\n",
      "[CV] END bootstrap=False, max_depth=5, min_samples_leaf=4, min_samples_split=10, n_estimators=100; total time=   0.1s\n",
      "[CV] END bootstrap=False, max_depth=5, min_samples_leaf=4, min_samples_split=10, n_estimators=100; total time=   0.1s\n",
      "[CV] END bootstrap=False, max_depth=5, min_samples_leaf=4, min_samples_split=10, n_estimators=200; total time=   0.2s\n",
      "[CV] END bootstrap=False, max_depth=5, min_samples_leaf=4, min_samples_split=5, n_estimators=500; total time=   0.7s\n",
      "[CV] END bootstrap=False, max_depth=5, min_samples_leaf=4, min_samples_split=10, n_estimators=200; total time=   0.2s\n",
      "[CV] END bootstrap=False, max_depth=5, min_samples_leaf=4, min_samples_split=10, n_estimators=200; total time=   0.2s\n",
      "[CV] END bootstrap=False, max_depth=5, min_samples_leaf=4, min_samples_split=5, n_estimators=500; total time=   0.6s\n",
      "[CV] END bootstrap=False, max_depth=5, min_samples_leaf=4, min_samples_split=10, n_estimators=200; total time=   0.2s\n",
      "[CV] END bootstrap=False, max_depth=5, min_samples_leaf=4, min_samples_split=5, n_estimators=1000; total time=   0.7s\n",
      "[CV] END bootstrap=False, max_depth=5, min_samples_leaf=4, min_samples_split=5, n_estimators=1000; total time=   0.8s\n",
      "[CV] END bootstrap=False, max_depth=5, min_samples_leaf=4, min_samples_split=5, n_estimators=1000; total time=   0.8s\n",
      "[CV] END bootstrap=False, max_depth=5, min_samples_leaf=4, min_samples_split=10, n_estimators=200; total time=   0.3s\n",
      "[CV] END bootstrap=False, max_depth=5, min_samples_leaf=4, min_samples_split=5, n_estimators=1000; total time=   0.7s\n",
      "[CV] END bootstrap=False, max_depth=5, min_samples_leaf=4, min_samples_split=10, n_estimators=500; total time=   0.4s\n",
      "[CV] END bootstrap=False, max_depth=5, min_samples_leaf=4, min_samples_split=5, n_estimators=1000; total time=   1.0s\n",
      "[CV] END bootstrap=False, max_depth=5, min_samples_leaf=4, min_samples_split=10, n_estimators=500; total time=   0.5s\n",
      "[CV] END bootstrap=False, max_depth=10, min_samples_leaf=1, min_samples_split=2, n_estimators=100; total time=   0.1s\n",
      "[CV] END bootstrap=False, max_depth=5, min_samples_leaf=4, min_samples_split=10, n_estimators=500; total time=   0.4s\n",
      "[CV] END bootstrap=False, max_depth=5, min_samples_leaf=4, min_samples_split=10, n_estimators=500; total time=   0.4s\n",
      "[CV] END bootstrap=False, max_depth=10, min_samples_leaf=1, min_samples_split=2, n_estimators=100; total time=   0.1s\n",
      "[CV] END bootstrap=False, max_depth=10, min_samples_leaf=1, min_samples_split=2, n_estimators=100; total time=   0.1s\n",
      "[CV] END bootstrap=False, max_depth=10, min_samples_leaf=1, min_samples_split=2, n_estimators=100; total time=   0.1s\n",
      "[CV] END bootstrap=False, max_depth=10, min_samples_leaf=1, min_samples_split=2, n_estimators=100; total time=   0.1s\n",
      "[CV] END bootstrap=False, max_depth=5, min_samples_leaf=4, min_samples_split=10, n_estimators=500; total time=   0.6s\n",
      "[CV] END bootstrap=False, max_depth=10, min_samples_leaf=1, min_samples_split=2, n_estimators=200; total time=   0.2s\n",
      "[CV] END bootstrap=False, max_depth=10, min_samples_leaf=1, min_samples_split=2, n_estimators=200; total time=   0.2s\n",
      "[CV] END bootstrap=False, max_depth=10, min_samples_leaf=1, min_samples_split=2, n_estimators=200; total time=   0.2s\n",
      "[CV] END bootstrap=False, max_depth=5, min_samples_leaf=4, min_samples_split=10, n_estimators=1000; total time=   0.7s\n",
      "[CV] END bootstrap=False, max_depth=10, min_samples_leaf=1, min_samples_split=2, n_estimators=200; total time=   0.3s\n",
      "[CV] END bootstrap=False, max_depth=5, min_samples_leaf=4, min_samples_split=10, n_estimators=1000; total time=   0.7s\n",
      "[CV] END bootstrap=False, max_depth=10, min_samples_leaf=1, min_samples_split=2, n_estimators=200; total time=   0.3s\n",
      "[CV] END bootstrap=False, max_depth=5, min_samples_leaf=4, min_samples_split=10, n_estimators=1000; total time=   0.7s\n",
      "[CV] END bootstrap=False, max_depth=5, min_samples_leaf=4, min_samples_split=10, n_estimators=1000; total time=   0.8s\n",
      "[CV] END bootstrap=False, max_depth=10, min_samples_leaf=1, min_samples_split=2, n_estimators=500; total time=   0.4s\n",
      "[CV] END bootstrap=False, max_depth=10, min_samples_leaf=1, min_samples_split=2, n_estimators=500; total time=   0.4s\n",
      "[CV] END bootstrap=False, max_depth=5, min_samples_leaf=4, min_samples_split=10, n_estimators=1000; total time=   1.0s\n",
      "[CV] END bootstrap=False, max_depth=10, min_samples_leaf=1, min_samples_split=5, n_estimators=100; total time=   0.1s\n",
      "[CV] END bootstrap=False, max_depth=10, min_samples_leaf=1, min_samples_split=2, n_estimators=500; total time=   0.4s\n",
      "[CV] END bootstrap=False, max_depth=10, min_samples_leaf=1, min_samples_split=5, n_estimators=100; total time=   0.1s\n",
      "[CV] END bootstrap=False, max_depth=10, min_samples_leaf=1, min_samples_split=5, n_estimators=100; total time=   0.1s\n",
      "[CV] END bootstrap=False, max_depth=10, min_samples_leaf=1, min_samples_split=2, n_estimators=500; total time=   0.6s\n",
      "[CV] END bootstrap=False, max_depth=10, min_samples_leaf=1, min_samples_split=5, n_estimators=100; total time=   0.2s\n",
      "[CV] END bootstrap=False, max_depth=10, min_samples_leaf=1, min_samples_split=5, n_estimators=100; total time=   0.1s\n",
      "[CV] END bootstrap=False, max_depth=10, min_samples_leaf=1, min_samples_split=2, n_estimators=500; total time=   0.7s\n",
      "[CV] END bootstrap=False, max_depth=10, min_samples_leaf=1, min_samples_split=5, n_estimators=200; total time=   0.2s\n",
      "[CV] END bootstrap=False, max_depth=10, min_samples_leaf=1, min_samples_split=5, n_estimators=200; total time=   0.2s\n",
      "[CV] END bootstrap=False, max_depth=10, min_samples_leaf=1, min_samples_split=5, n_estimators=200; total time=   0.2s\n",
      "[CV] END bootstrap=False, max_depth=10, min_samples_leaf=1, min_samples_split=5, n_estimators=200; total time=   0.2s\n",
      "[CV] END bootstrap=False, max_depth=10, min_samples_leaf=1, min_samples_split=2, n_estimators=1000; total time=   0.8s\n",
      "[CV] END bootstrap=False, max_depth=10, min_samples_leaf=1, min_samples_split=5, n_estimators=200; total time=   0.3s\n",
      "[CV] END bootstrap=False, max_depth=10, min_samples_leaf=1, min_samples_split=2, n_estimators=1000; total time=   0.8s\n",
      "[CV] END bootstrap=False, max_depth=10, min_samples_leaf=1, min_samples_split=5, n_estimators=500; total time=   0.4s\n",
      "[CV] END bootstrap=False, max_depth=10, min_samples_leaf=1, min_samples_split=2, n_estimators=1000; total time=   0.9s\n",
      "[CV] END bootstrap=False, max_depth=10, min_samples_leaf=1, min_samples_split=2, n_estimators=1000; total time=   0.9s\n",
      "[CV] END bootstrap=False, max_depth=10, min_samples_leaf=1, min_samples_split=5, n_estimators=500; total time=   0.4s\n",
      "[CV] END bootstrap=False, max_depth=10, min_samples_leaf=1, min_samples_split=2, n_estimators=1000; total time=   1.2s\n",
      "[CV] END bootstrap=False, max_depth=10, min_samples_leaf=1, min_samples_split=10, n_estimators=100; total time=   0.1s\n",
      "[CV] END bootstrap=False, max_depth=10, min_samples_leaf=1, min_samples_split=5, n_estimators=500; total time=   0.4s\n",
      "[CV] END bootstrap=False, max_depth=10, min_samples_leaf=1, min_samples_split=10, n_estimators=100; total time=   0.1s\n",
      "[CV] END bootstrap=False, max_depth=10, min_samples_leaf=1, min_samples_split=5, n_estimators=500; total time=   0.5s\n",
      "[CV] END bootstrap=False, max_depth=10, min_samples_leaf=1, min_samples_split=10, n_estimators=100; total time=   0.1s\n",
      "[CV] END bootstrap=False, max_depth=10, min_samples_leaf=1, min_samples_split=10, n_estimators=100; total time=   0.1s\n",
      "[CV] END bootstrap=False, max_depth=10, min_samples_leaf=1, min_samples_split=10, n_estimators=100; total time=   0.1s\n",
      "[CV] END bootstrap=False, max_depth=10, min_samples_leaf=1, min_samples_split=5, n_estimators=500; total time=   0.7s\n",
      "[CV] END bootstrap=False, max_depth=10, min_samples_leaf=1, min_samples_split=10, n_estimators=200; total time=   0.2s\n",
      "[CV] END bootstrap=False, max_depth=10, min_samples_leaf=1, min_samples_split=10, n_estimators=200; total time=   0.2s\n",
      "[CV] END bootstrap=False, max_depth=10, min_samples_leaf=1, min_samples_split=10, n_estimators=200; total time=   0.2s\n",
      "[CV] END bootstrap=False, max_depth=10, min_samples_leaf=1, min_samples_split=10, n_estimators=200; total time=   0.3s\n",
      "[CV] END bootstrap=False, max_depth=10, min_samples_leaf=1, min_samples_split=10, n_estimators=200; total time=   0.2s\n",
      "[CV] END bootstrap=False, max_depth=10, min_samples_leaf=1, min_samples_split=5, n_estimators=1000; total time=   0.8s\n",
      "[CV] END bootstrap=False, max_depth=10, min_samples_leaf=1, min_samples_split=5, n_estimators=1000; total time=   0.8s\n",
      "[CV] END bootstrap=False, max_depth=10, min_samples_leaf=1, min_samples_split=5, n_estimators=1000; total time=   0.8s\n",
      "[CV] END bootstrap=False, max_depth=10, min_samples_leaf=1, min_samples_split=5, n_estimators=1000; total time=   0.8s\n",
      "[CV] END bootstrap=False, max_depth=10, min_samples_leaf=1, min_samples_split=10, n_estimators=500; total time=   0.4s\n",
      "[CV] END bootstrap=False, max_depth=10, min_samples_leaf=1, min_samples_split=10, n_estimators=500; total time=   0.4s\n",
      "[CV] END bootstrap=False, max_depth=10, min_samples_leaf=2, min_samples_split=2, n_estimators=100; total time=   0.1s\n",
      "[CV] END bootstrap=False, max_depth=10, min_samples_leaf=2, min_samples_split=2, n_estimators=100; total time=   0.1s\n",
      "[CV] END bootstrap=False, max_depth=10, min_samples_leaf=1, min_samples_split=5, n_estimators=1000; total time=   1.2s\n",
      "[CV] END bootstrap=False, max_depth=10, min_samples_leaf=1, min_samples_split=10, n_estimators=500; total time=   0.6s\n",
      "[CV] END bootstrap=False, max_depth=10, min_samples_leaf=2, min_samples_split=2, n_estimators=100; total time=   0.1s\n",
      "[CV] END bootstrap=False, max_depth=10, min_samples_leaf=1, min_samples_split=10, n_estimators=500; total time=   0.6s\n",
      "[CV] END bootstrap=False, max_depth=10, min_samples_leaf=2, min_samples_split=2, n_estimators=100; total time=   0.1s\n",
      "[CV] END bootstrap=False, max_depth=10, min_samples_leaf=2, min_samples_split=2, n_estimators=100; total time=   0.1s\n",
      "[CV] END bootstrap=False, max_depth=10, min_samples_leaf=2, min_samples_split=2, n_estimators=200; total time=   0.2s\n",
      "[CV] END bootstrap=False, max_depth=10, min_samples_leaf=1, min_samples_split=10, n_estimators=500; total time=   0.7s\n",
      "[CV] END bootstrap=False, max_depth=10, min_samples_leaf=2, min_samples_split=2, n_estimators=200; total time=   0.2s\n",
      "[CV] END bootstrap=False, max_depth=10, min_samples_leaf=2, min_samples_split=2, n_estimators=200; total time=   0.2s\n",
      "[CV] END bootstrap=False, max_depth=10, min_samples_leaf=2, min_samples_split=2, n_estimators=200; total time=   0.3s\n",
      "[CV] END bootstrap=False, max_depth=10, min_samples_leaf=2, min_samples_split=2, n_estimators=200; total time=   0.3s\n",
      "[CV] END bootstrap=False, max_depth=10, min_samples_leaf=1, min_samples_split=10, n_estimators=1000; total time=   0.8s\n",
      "[CV] END bootstrap=False, max_depth=10, min_samples_leaf=1, min_samples_split=10, n_estimators=1000; total time=   0.8s\n",
      "[CV] END bootstrap=False, max_depth=10, min_samples_leaf=1, min_samples_split=10, n_estimators=1000; total time=   0.8s\n",
      "[CV] END bootstrap=False, max_depth=10, min_samples_leaf=1, min_samples_split=10, n_estimators=1000; total time=   0.8s\n",
      "[CV] END bootstrap=False, max_depth=10, min_samples_leaf=1, min_samples_split=10, n_estimators=1000; total time=   0.8s\n",
      "[CV] END bootstrap=False, max_depth=10, min_samples_leaf=2, min_samples_split=2, n_estimators=500; total time=   0.4s\n",
      "[CV] END bootstrap=False, max_depth=10, min_samples_leaf=2, min_samples_split=5, n_estimators=100; total time=   0.1s\n",
      "[CV] END bootstrap=False, max_depth=10, min_samples_leaf=2, min_samples_split=2, n_estimators=500; total time=   0.7s\n",
      "[CV] END bootstrap=False, max_depth=10, min_samples_leaf=2, min_samples_split=2, n_estimators=500; total time=   0.6s\n",
      "[CV] END bootstrap=False, max_depth=10, min_samples_leaf=2, min_samples_split=5, n_estimators=100; total time=   0.1s\n",
      "[CV] END bootstrap=False, max_depth=10, min_samples_leaf=2, min_samples_split=2, n_estimators=500; total time=   0.6s\n",
      "[CV] END bootstrap=False, max_depth=10, min_samples_leaf=2, min_samples_split=5, n_estimators=100; total time=   0.1s\n",
      "[CV] END bootstrap=False, max_depth=10, min_samples_leaf=2, min_samples_split=5, n_estimators=100; total time=   0.1s\n",
      "[CV] END bootstrap=False, max_depth=10, min_samples_leaf=2, min_samples_split=5, n_estimators=100; total time=   0.2s\n",
      "[CV] END bootstrap=False, max_depth=10, min_samples_leaf=2, min_samples_split=2, n_estimators=500; total time=   0.6s\n",
      "[CV] END bootstrap=False, max_depth=10, min_samples_leaf=2, min_samples_split=5, n_estimators=200; total time=   0.2s\n",
      "[CV] END bootstrap=False, max_depth=10, min_samples_leaf=2, min_samples_split=5, n_estimators=200; total time=   0.2s\n",
      "[CV] END bootstrap=False, max_depth=10, min_samples_leaf=2, min_samples_split=5, n_estimators=200; total time=   0.3s\n",
      "[CV] END bootstrap=False, max_depth=10, min_samples_leaf=2, min_samples_split=5, n_estimators=200; total time=   0.3s\n",
      "[CV] END bootstrap=False, max_depth=10, min_samples_leaf=2, min_samples_split=2, n_estimators=1000; total time=   0.8s\n",
      "[CV] END bootstrap=False, max_depth=10, min_samples_leaf=2, min_samples_split=5, n_estimators=200; total time=   0.3s\n",
      "[CV] END bootstrap=False, max_depth=10, min_samples_leaf=2, min_samples_split=2, n_estimators=1000; total time=   0.8s\n",
      "[CV] END bootstrap=False, max_depth=10, min_samples_leaf=2, min_samples_split=2, n_estimators=1000; total time=   0.8s\n",
      "[CV] END bootstrap=False, max_depth=10, min_samples_leaf=2, min_samples_split=2, n_estimators=1000; total time=   0.8s\n",
      "[CV] END bootstrap=False, max_depth=10, min_samples_leaf=2, min_samples_split=2, n_estimators=1000; total time=   0.8s\n",
      "[CV] END bootstrap=False, max_depth=10, min_samples_leaf=2, min_samples_split=5, n_estimators=500; total time=   0.4s\n",
      "[CV] END bootstrap=False, max_depth=10, min_samples_leaf=2, min_samples_split=10, n_estimators=100; total time=   0.1s\n",
      "[CV] END bootstrap=False, max_depth=10, min_samples_leaf=2, min_samples_split=5, n_estimators=500; total time=   0.4s\n",
      "[CV] END bootstrap=False, max_depth=10, min_samples_leaf=2, min_samples_split=10, n_estimators=100; total time=   0.1s\n",
      "[CV] END bootstrap=False, max_depth=10, min_samples_leaf=2, min_samples_split=10, n_estimators=100; total time=   0.1s\n",
      "[CV] END bootstrap=False, max_depth=10, min_samples_leaf=2, min_samples_split=5, n_estimators=500; total time=   0.6s\n",
      "[CV] END bootstrap=False, max_depth=10, min_samples_leaf=2, min_samples_split=5, n_estimators=500; total time=   0.6s\n",
      "[CV] END bootstrap=False, max_depth=10, min_samples_leaf=2, min_samples_split=10, n_estimators=100; total time=   0.1s\n",
      "[CV] END bootstrap=False, max_depth=10, min_samples_leaf=2, min_samples_split=10, n_estimators=100; total time=   0.1s\n",
      "[CV] END bootstrap=False, max_depth=10, min_samples_leaf=2, min_samples_split=5, n_estimators=500; total time=   0.6s\n",
      "[CV] END bootstrap=False, max_depth=10, min_samples_leaf=2, min_samples_split=10, n_estimators=200; total time=   0.2s\n",
      "[CV] END bootstrap=False, max_depth=10, min_samples_leaf=2, min_samples_split=10, n_estimators=200; total time=   0.2s\n",
      "[CV] END bootstrap=False, max_depth=10, min_samples_leaf=2, min_samples_split=10, n_estimators=200; total time=   0.2s\n",
      "[CV] END bootstrap=False, max_depth=10, min_samples_leaf=2, min_samples_split=10, n_estimators=200; total time=   0.3s\n",
      "[CV] END bootstrap=False, max_depth=10, min_samples_leaf=2, min_samples_split=10, n_estimators=200; total time=   0.3s\n",
      "[CV] END bootstrap=False, max_depth=10, min_samples_leaf=2, min_samples_split=5, n_estimators=1000; total time=   0.8s\n",
      "[CV] END bootstrap=False, max_depth=10, min_samples_leaf=2, min_samples_split=5, n_estimators=1000; total time=   0.8s\n",
      "[CV] END bootstrap=False, max_depth=10, min_samples_leaf=2, min_samples_split=5, n_estimators=1000; total time=   0.8s\n",
      "[CV] END bootstrap=False, max_depth=10, min_samples_leaf=2, min_samples_split=5, n_estimators=1000; total time=   0.9s\n",
      "[CV] END bootstrap=False, max_depth=10, min_samples_leaf=2, min_samples_split=10, n_estimators=500; total time=   0.4s\n",
      "[CV] END bootstrap=False, max_depth=10, min_samples_leaf=2, min_samples_split=10, n_estimators=500; total time=   0.4s\n",
      "[CV] END bootstrap=False, max_depth=10, min_samples_leaf=4, min_samples_split=2, n_estimators=100; total time=   0.1s\n",
      "[CV] END bootstrap=False, max_depth=10, min_samples_leaf=2, min_samples_split=5, n_estimators=1000; total time=   1.2s\n",
      "[CV] END bootstrap=False, max_depth=10, min_samples_leaf=4, min_samples_split=2, n_estimators=100; total time=   0.1s\n",
      "[CV] END bootstrap=False, max_depth=10, min_samples_leaf=2, min_samples_split=10, n_estimators=500; total time=   0.6s\n",
      "[CV] END bootstrap=False, max_depth=10, min_samples_leaf=4, min_samples_split=2, n_estimators=100; total time=   0.1s\n",
      "[CV] END bootstrap=False, max_depth=10, min_samples_leaf=4, min_samples_split=2, n_estimators=100; total time=   0.1s\n",
      "[CV] END bootstrap=False, max_depth=10, min_samples_leaf=2, min_samples_split=10, n_estimators=500; total time=   0.6s\n",
      "[CV] END bootstrap=False, max_depth=10, min_samples_leaf=2, min_samples_split=10, n_estimators=500; total time=   0.5s\n",
      "[CV] END bootstrap=False, max_depth=10, min_samples_leaf=4, min_samples_split=2, n_estimators=100; total time=   0.2s\n",
      "[CV] END bootstrap=False, max_depth=10, min_samples_leaf=4, min_samples_split=2, n_estimators=200; total time=   0.2s\n",
      "[CV] END bootstrap=False, max_depth=10, min_samples_leaf=4, min_samples_split=2, n_estimators=200; total time=   0.2s\n",
      "[CV] END bootstrap=False, max_depth=10, min_samples_leaf=4, min_samples_split=2, n_estimators=200; total time=   0.2s\n",
      "[CV] END bootstrap=False, max_depth=10, min_samples_leaf=4, min_samples_split=2, n_estimators=200; total time=   0.3s\n",
      "[CV] END bootstrap=False, max_depth=10, min_samples_leaf=2, min_samples_split=10, n_estimators=1000; total time=   0.8s\n",
      "[CV] END bootstrap=False, max_depth=10, min_samples_leaf=2, min_samples_split=10, n_estimators=1000; total time=   0.8s\n",
      "[CV] END bootstrap=False, max_depth=10, min_samples_leaf=2, min_samples_split=10, n_estimators=1000; total time=   0.8s\n",
      "[CV] END bootstrap=False, max_depth=10, min_samples_leaf=4, min_samples_split=2, n_estimators=200; total time=   0.2s\n",
      "[CV] END bootstrap=False, max_depth=10, min_samples_leaf=2, min_samples_split=10, n_estimators=1000; total time=   0.8s\n",
      "[CV] END bootstrap=False, max_depth=10, min_samples_leaf=2, min_samples_split=10, n_estimators=1000; total time=   0.8s\n",
      "[CV] END bootstrap=False, max_depth=10, min_samples_leaf=4, min_samples_split=2, n_estimators=500; total time=   0.4s\n",
      "[CV] END bootstrap=False, max_depth=10, min_samples_leaf=4, min_samples_split=5, n_estimators=100; total time=   0.1s\n",
      "[CV] END bootstrap=False, max_depth=10, min_samples_leaf=4, min_samples_split=2, n_estimators=500; total time=   0.4s\n",
      "[CV] END bootstrap=False, max_depth=10, min_samples_leaf=4, min_samples_split=5, n_estimators=100; total time=   0.1s\n",
      "[CV] END bootstrap=False, max_depth=10, min_samples_leaf=4, min_samples_split=2, n_estimators=500; total time=   0.5s\n",
      "[CV] END bootstrap=False, max_depth=10, min_samples_leaf=4, min_samples_split=5, n_estimators=100; total time=   0.1s\n",
      "[CV] END bootstrap=False, max_depth=10, min_samples_leaf=4, min_samples_split=2, n_estimators=500; total time=   0.5s\n",
      "[CV] END bootstrap=False, max_depth=10, min_samples_leaf=4, min_samples_split=5, n_estimators=100; total time=   0.1s\n",
      "[CV] END bootstrap=False, max_depth=10, min_samples_leaf=4, min_samples_split=2, n_estimators=500; total time=   0.6s\n",
      "[CV] END bootstrap=False, max_depth=10, min_samples_leaf=4, min_samples_split=5, n_estimators=100; total time=   0.1s\n",
      "[CV] END bootstrap=False, max_depth=10, min_samples_leaf=4, min_samples_split=5, n_estimators=200; total time=   0.1s\n",
      "[CV] END bootstrap=False, max_depth=10, min_samples_leaf=4, min_samples_split=5, n_estimators=200; total time=   0.2s\n",
      "[CV] END bootstrap=False, max_depth=10, min_samples_leaf=4, min_samples_split=5, n_estimators=200; total time=   0.2s\n",
      "[CV] END bootstrap=False, max_depth=10, min_samples_leaf=4, min_samples_split=5, n_estimators=200; total time=   0.2s\n",
      "[CV] END bootstrap=False, max_depth=10, min_samples_leaf=4, min_samples_split=2, n_estimators=1000; total time=   0.7s\n",
      "[CV] END bootstrap=False, max_depth=10, min_samples_leaf=4, min_samples_split=5, n_estimators=200; total time=   0.3s\n",
      "[CV] END bootstrap=False, max_depth=10, min_samples_leaf=4, min_samples_split=2, n_estimators=1000; total time=   0.8s\n",
      "[CV] END bootstrap=False, max_depth=10, min_samples_leaf=4, min_samples_split=2, n_estimators=1000; total time=   0.8s\n",
      "[CV] END bootstrap=False, max_depth=10, min_samples_leaf=4, min_samples_split=5, n_estimators=500; total time=   0.4s\n",
      "[CV] END bootstrap=False, max_depth=10, min_samples_leaf=4, min_samples_split=2, n_estimators=1000; total time=   0.8s\n",
      "[CV] END bootstrap=False, max_depth=10, min_samples_leaf=4, min_samples_split=5, n_estimators=500; total time=   0.4s\n",
      "[CV] END bootstrap=False, max_depth=10, min_samples_leaf=4, min_samples_split=5, n_estimators=500; total time=   0.4s\n",
      "[CV] END bootstrap=False, max_depth=10, min_samples_leaf=4, min_samples_split=10, n_estimators=100; total time=   0.1s\n",
      "[CV] END bootstrap=False, max_depth=10, min_samples_leaf=4, min_samples_split=10, n_estimators=100; total time=   0.1s\n",
      "[CV] END bootstrap=False, max_depth=10, min_samples_leaf=4, min_samples_split=10, n_estimators=100; total time=   0.1s\n",
      "[CV] END bootstrap=False, max_depth=10, min_samples_leaf=4, min_samples_split=2, n_estimators=1000; total time=   1.2s\n",
      "[CV] END bootstrap=False, max_depth=10, min_samples_leaf=4, min_samples_split=5, n_estimators=500; total time=   0.5s\n",
      "[CV] END bootstrap=False, max_depth=10, min_samples_leaf=4, min_samples_split=10, n_estimators=100; total time=   0.1s\n",
      "[CV] END bootstrap=False, max_depth=10, min_samples_leaf=4, min_samples_split=10, n_estimators=100; total time=   0.1s\n",
      "[CV] END bootstrap=False, max_depth=10, min_samples_leaf=4, min_samples_split=5, n_estimators=500; total time=   0.6s\n",
      "[CV] END bootstrap=False, max_depth=10, min_samples_leaf=4, min_samples_split=10, n_estimators=200; total time=   0.2s\n",
      "[CV] END bootstrap=False, max_depth=10, min_samples_leaf=4, min_samples_split=10, n_estimators=200; total time=   0.2s\n",
      "[CV] END bootstrap=False, max_depth=10, min_samples_leaf=4, min_samples_split=10, n_estimators=200; total time=   0.2s\n",
      "[CV] END bootstrap=False, max_depth=10, min_samples_leaf=4, min_samples_split=10, n_estimators=200; total time=   0.3s\n",
      "[CV] END bootstrap=False, max_depth=10, min_samples_leaf=4, min_samples_split=10, n_estimators=200; total time=   0.3s\n",
      "[CV] END bootstrap=False, max_depth=10, min_samples_leaf=4, min_samples_split=5, n_estimators=1000; total time=   0.8s\n",
      "[CV] END bootstrap=False, max_depth=10, min_samples_leaf=4, min_samples_split=5, n_estimators=1000; total time=   0.8s\n",
      "[CV] END bootstrap=False, max_depth=10, min_samples_leaf=4, min_samples_split=5, n_estimators=1000; total time=   0.8s\n",
      "[CV] END bootstrap=False, max_depth=10, min_samples_leaf=4, min_samples_split=5, n_estimators=1000; total time=   0.8s\n",
      "[CV] END bootstrap=False, max_depth=10, min_samples_leaf=4, min_samples_split=10, n_estimators=500; total time=   0.4s\n",
      "[CV] END bootstrap=False, max_depth=10, min_samples_leaf=4, min_samples_split=10, n_estimators=500; total time=   0.4s\n",
      "[CV] END bootstrap=False, max_depth=10, min_samples_leaf=4, min_samples_split=5, n_estimators=1000; total time=   1.1s\n",
      "[CV] END bootstrap=False, max_depth=15, min_samples_leaf=1, min_samples_split=2, n_estimators=100; total time=   0.1s\n",
      "[CV] END bootstrap=False, max_depth=10, min_samples_leaf=4, min_samples_split=10, n_estimators=500; total time=   0.5s\n",
      "[CV] END bootstrap=False, max_depth=15, min_samples_leaf=1, min_samples_split=2, n_estimators=100; total time=   0.1s\n",
      "[CV] END bootstrap=False, max_depth=15, min_samples_leaf=1, min_samples_split=2, n_estimators=100; total time=   0.1s\n",
      "[CV] END bootstrap=False, max_depth=10, min_samples_leaf=4, min_samples_split=10, n_estimators=500; total time=   0.6s\n",
      "[CV] END bootstrap=False, max_depth=15, min_samples_leaf=1, min_samples_split=2, n_estimators=100; total time=   0.1s\n",
      "[CV] END bootstrap=False, max_depth=10, min_samples_leaf=4, min_samples_split=10, n_estimators=500; total time=   0.6s\n",
      "[CV] END bootstrap=False, max_depth=15, min_samples_leaf=1, min_samples_split=2, n_estimators=100; total time=   0.1s\n",
      "[CV] END bootstrap=False, max_depth=15, min_samples_leaf=1, min_samples_split=2, n_estimators=200; total time=   0.2s\n",
      "[CV] END bootstrap=False, max_depth=15, min_samples_leaf=1, min_samples_split=2, n_estimators=200; total time=   0.2s\n",
      "[CV] END bootstrap=False, max_depth=15, min_samples_leaf=1, min_samples_split=2, n_estimators=200; total time=   0.2s\n",
      "[CV] END bootstrap=False, max_depth=10, min_samples_leaf=4, min_samples_split=10, n_estimators=1000; total time=   0.8s\n",
      "[CV] END bootstrap=False, max_depth=15, min_samples_leaf=1, min_samples_split=2, n_estimators=200; total time=   0.3s\n",
      "[CV] END bootstrap=False, max_depth=10, min_samples_leaf=4, min_samples_split=10, n_estimators=1000; total time=   0.8s\n",
      "[CV] END bootstrap=False, max_depth=15, min_samples_leaf=1, min_samples_split=2, n_estimators=200; total time=   0.3s\n",
      "[CV] END bootstrap=False, max_depth=10, min_samples_leaf=4, min_samples_split=10, n_estimators=1000; total time=   0.8s\n",
      "[CV] END bootstrap=False, max_depth=10, min_samples_leaf=4, min_samples_split=10, n_estimators=1000; total time=   0.8s\n",
      "[CV] END bootstrap=False, max_depth=10, min_samples_leaf=4, min_samples_split=10, n_estimators=1000; total time=   0.8s\n",
      "[CV] END bootstrap=False, max_depth=15, min_samples_leaf=1, min_samples_split=2, n_estimators=500; total time=   0.4s\n",
      "[CV] END bootstrap=False, max_depth=15, min_samples_leaf=1, min_samples_split=5, n_estimators=100; total time=   0.1s\n",
      "[CV] END bootstrap=False, max_depth=15, min_samples_leaf=1, min_samples_split=2, n_estimators=500; total time=   0.4s\n",
      "[CV] END bootstrap=False, max_depth=15, min_samples_leaf=1, min_samples_split=5, n_estimators=100; total time=   0.1s\n",
      "[CV] END bootstrap=False, max_depth=15, min_samples_leaf=1, min_samples_split=2, n_estimators=500; total time=   0.5s\n",
      "[CV] END bootstrap=False, max_depth=15, min_samples_leaf=1, min_samples_split=5, n_estimators=100; total time=   0.1s\n",
      "[CV] END bootstrap=False, max_depth=15, min_samples_leaf=1, min_samples_split=5, n_estimators=100; total time=   0.1s\n",
      "[CV] END bootstrap=False, max_depth=15, min_samples_leaf=1, min_samples_split=5, n_estimators=100; total time=   0.1s\n",
      "[CV] END bootstrap=False, max_depth=15, min_samples_leaf=1, min_samples_split=2, n_estimators=500; total time=   0.6s\n",
      "[CV] END bootstrap=False, max_depth=15, min_samples_leaf=1, min_samples_split=5, n_estimators=200; total time=   0.1s\n",
      "[CV] END bootstrap=False, max_depth=15, min_samples_leaf=1, min_samples_split=2, n_estimators=500; total time=   0.7s\n",
      "[CV] END bootstrap=False, max_depth=15, min_samples_leaf=1, min_samples_split=5, n_estimators=200; total time=   0.2s\n",
      "[CV] END bootstrap=False, max_depth=15, min_samples_leaf=1, min_samples_split=5, n_estimators=200; total time=   0.2s\n",
      "[CV] END bootstrap=False, max_depth=15, min_samples_leaf=1, min_samples_split=5, n_estimators=200; total time=   0.3s\n",
      "[CV] END bootstrap=False, max_depth=15, min_samples_leaf=1, min_samples_split=5, n_estimators=200; total time=   0.2s\n",
      "[CV] END bootstrap=False, max_depth=15, min_samples_leaf=1, min_samples_split=2, n_estimators=1000; total time=   0.9s\n",
      "[CV] END bootstrap=False, max_depth=15, min_samples_leaf=1, min_samples_split=2, n_estimators=1000; total time=   0.9s\n",
      "[CV] END bootstrap=False, max_depth=15, min_samples_leaf=1, min_samples_split=2, n_estimators=1000; total time=   0.8s\n",
      "[CV] END bootstrap=False, max_depth=15, min_samples_leaf=1, min_samples_split=2, n_estimators=1000; total time=   0.9s\n",
      "[CV] END bootstrap=False, max_depth=15, min_samples_leaf=1, min_samples_split=5, n_estimators=500; total time=   0.4s\n",
      "[CV] END bootstrap=False, max_depth=15, min_samples_leaf=1, min_samples_split=5, n_estimators=500; total time=   0.4s\n",
      "[CV] END bootstrap=False, max_depth=15, min_samples_leaf=1, min_samples_split=2, n_estimators=1000; total time=   1.2s\n",
      "[CV] END bootstrap=False, max_depth=15, min_samples_leaf=1, min_samples_split=5, n_estimators=500; total time=   0.6s\n",
      "[CV] END bootstrap=False, max_depth=15, min_samples_leaf=1, min_samples_split=10, n_estimators=100; total time=   0.1s\n",
      "[CV] END bootstrap=False, max_depth=15, min_samples_leaf=1, min_samples_split=10, n_estimators=100; total time=   0.1s\n",
      "[CV] END bootstrap=False, max_depth=15, min_samples_leaf=1, min_samples_split=10, n_estimators=100; total time=   0.1s\n",
      "[CV] END bootstrap=False, max_depth=15, min_samples_leaf=1, min_samples_split=10, n_estimators=100; total time=   0.1s\n",
      "[CV] END bootstrap=False, max_depth=15, min_samples_leaf=1, min_samples_split=5, n_estimators=500; total time=   0.6s\n",
      "[CV] END bootstrap=False, max_depth=15, min_samples_leaf=1, min_samples_split=10, n_estimators=100; total time=   0.1s\n",
      "[CV] END bootstrap=False, max_depth=15, min_samples_leaf=1, min_samples_split=5, n_estimators=500; total time=   0.7s\n",
      "[CV] END bootstrap=False, max_depth=15, min_samples_leaf=1, min_samples_split=10, n_estimators=200; total time=   0.2s\n",
      "[CV] END bootstrap=False, max_depth=15, min_samples_leaf=1, min_samples_split=10, n_estimators=200; total time=   0.2s\n",
      "[CV] END bootstrap=False, max_depth=15, min_samples_leaf=1, min_samples_split=10, n_estimators=200; total time=   0.2s\n",
      "[CV] END bootstrap=False, max_depth=15, min_samples_leaf=1, min_samples_split=10, n_estimators=200; total time=   0.2s\n",
      "[CV] END bootstrap=False, max_depth=15, min_samples_leaf=1, min_samples_split=5, n_estimators=1000; total time=   0.8s\n",
      "[CV] END bootstrap=False, max_depth=15, min_samples_leaf=1, min_samples_split=10, n_estimators=200; total time=   0.2s\n",
      "[CV] END bootstrap=False, max_depth=15, min_samples_leaf=1, min_samples_split=5, n_estimators=1000; total time=   0.8s\n",
      "[CV] END bootstrap=False, max_depth=15, min_samples_leaf=1, min_samples_split=5, n_estimators=1000; total time=   0.8s\n",
      "[CV] END bootstrap=False, max_depth=15, min_samples_leaf=1, min_samples_split=5, n_estimators=1000; total time=   0.8s\n",
      "[CV] END bootstrap=False, max_depth=15, min_samples_leaf=1, min_samples_split=5, n_estimators=1000; total time=   0.8s\n",
      "[CV] END bootstrap=False, max_depth=15, min_samples_leaf=1, min_samples_split=10, n_estimators=500; total time=   0.4s\n",
      "[CV] END bootstrap=False, max_depth=15, min_samples_leaf=2, min_samples_split=2, n_estimators=100; total time=   0.1s\n",
      "[CV] END bootstrap=False, max_depth=15, min_samples_leaf=2, min_samples_split=2, n_estimators=100; total time=   0.1s\n",
      "[CV] END bootstrap=False, max_depth=15, min_samples_leaf=1, min_samples_split=10, n_estimators=500; total time=   0.4s\n",
      "[CV] END bootstrap=False, max_depth=15, min_samples_leaf=2, min_samples_split=2, n_estimators=100; total time=   0.1s\n",
      "[CV] END bootstrap=False, max_depth=15, min_samples_leaf=1, min_samples_split=10, n_estimators=500; total time=   0.6s\n",
      "[CV] END bootstrap=False, max_depth=15, min_samples_leaf=2, min_samples_split=2, n_estimators=100; total time=   0.1s\n",
      "[CV] END bootstrap=False, max_depth=15, min_samples_leaf=2, min_samples_split=2, n_estimators=100; total time=   0.1s\n",
      "[CV] END bootstrap=False, max_depth=15, min_samples_leaf=1, min_samples_split=10, n_estimators=500; total time=   0.6s\n",
      "[CV] END bootstrap=False, max_depth=15, min_samples_leaf=1, min_samples_split=10, n_estimators=500; total time=   0.6s\n",
      "[CV] END bootstrap=False, max_depth=15, min_samples_leaf=2, min_samples_split=2, n_estimators=200; total time=   0.2s\n",
      "[CV] END bootstrap=False, max_depth=15, min_samples_leaf=2, min_samples_split=2, n_estimators=200; total time=   0.2s\n",
      "[CV] END bootstrap=False, max_depth=15, min_samples_leaf=2, min_samples_split=2, n_estimators=200; total time=   0.2s\n",
      "[CV] END bootstrap=False, max_depth=15, min_samples_leaf=2, min_samples_split=2, n_estimators=200; total time=   0.3s\n",
      "[CV] END bootstrap=False, max_depth=15, min_samples_leaf=2, min_samples_split=2, n_estimators=200; total time=   0.2s\n",
      "[CV] END bootstrap=False, max_depth=15, min_samples_leaf=1, min_samples_split=10, n_estimators=1000; total time=   0.8s\n",
      "[CV] END bootstrap=False, max_depth=15, min_samples_leaf=1, min_samples_split=10, n_estimators=1000; total time=   0.8s\n",
      "[CV] END bootstrap=False, max_depth=15, min_samples_leaf=1, min_samples_split=10, n_estimators=1000; total time=   0.8s\n",
      "[CV] END bootstrap=False, max_depth=15, min_samples_leaf=1, min_samples_split=10, n_estimators=1000; total time=   0.8s\n",
      "[CV] END bootstrap=False, max_depth=15, min_samples_leaf=2, min_samples_split=2, n_estimators=500; total time=   0.4s\n",
      "[CV] END bootstrap=False, max_depth=15, min_samples_leaf=2, min_samples_split=2, n_estimators=500; total time=   0.4s\n",
      "[CV] END bootstrap=False, max_depth=15, min_samples_leaf=2, min_samples_split=5, n_estimators=100; total time=   0.1s\n",
      "[CV] END bootstrap=False, max_depth=15, min_samples_leaf=2, min_samples_split=5, n_estimators=100; total time=   0.1s\n",
      "[CV] END bootstrap=False, max_depth=15, min_samples_leaf=1, min_samples_split=10, n_estimators=1000; total time=   1.2s\n",
      "[CV] END bootstrap=False, max_depth=15, min_samples_leaf=2, min_samples_split=2, n_estimators=500; total time=   0.6s\n",
      "[CV] END bootstrap=False, max_depth=15, min_samples_leaf=2, min_samples_split=5, n_estimators=100; total time=   0.1s\n",
      "[CV] END bootstrap=False, max_depth=15, min_samples_leaf=2, min_samples_split=5, n_estimators=100; total time=   0.2s\n",
      "[CV] END bootstrap=False, max_depth=15, min_samples_leaf=2, min_samples_split=2, n_estimators=500; total time=   0.6s\n",
      "[CV] END bootstrap=False, max_depth=15, min_samples_leaf=2, min_samples_split=5, n_estimators=100; total time=   0.1s\n",
      "[CV] END bootstrap=False, max_depth=15, min_samples_leaf=2, min_samples_split=2, n_estimators=500; total time=   0.7s\n",
      "[CV] END bootstrap=False, max_depth=15, min_samples_leaf=2, min_samples_split=5, n_estimators=200; total time=   0.2s\n",
      "[CV] END bootstrap=False, max_depth=15, min_samples_leaf=2, min_samples_split=5, n_estimators=200; total time=   0.2s\n",
      "[CV] END bootstrap=False, max_depth=15, min_samples_leaf=2, min_samples_split=5, n_estimators=200; total time=   0.2s\n",
      "[CV] END bootstrap=False, max_depth=15, min_samples_leaf=2, min_samples_split=5, n_estimators=200; total time=   0.3s\n",
      "[CV] END bootstrap=False, max_depth=15, min_samples_leaf=2, min_samples_split=2, n_estimators=1000; total time=   0.8s\n",
      "[CV] END bootstrap=False, max_depth=15, min_samples_leaf=2, min_samples_split=5, n_estimators=200; total time=   0.2s\n",
      "[CV] END bootstrap=False, max_depth=15, min_samples_leaf=2, min_samples_split=2, n_estimators=1000; total time=   0.8s\n",
      "[CV] END bootstrap=False, max_depth=15, min_samples_leaf=2, min_samples_split=2, n_estimators=1000; total time=   0.8s\n",
      "[CV] END bootstrap=False, max_depth=15, min_samples_leaf=2, min_samples_split=2, n_estimators=1000; total time=   0.8s\n",
      "[CV] END bootstrap=False, max_depth=15, min_samples_leaf=2, min_samples_split=2, n_estimators=1000; total time=   0.9s\n",
      "[CV] END bootstrap=False, max_depth=15, min_samples_leaf=2, min_samples_split=5, n_estimators=500; total time=   0.4s\n",
      "[CV] END bootstrap=False, max_depth=15, min_samples_leaf=2, min_samples_split=10, n_estimators=100; total time=   0.1s\n",
      "[CV] END bootstrap=False, max_depth=15, min_samples_leaf=2, min_samples_split=10, n_estimators=100; total time=   0.1s\n",
      "[CV] END bootstrap=False, max_depth=15, min_samples_leaf=2, min_samples_split=5, n_estimators=500; total time=   0.4s\n",
      "[CV] END bootstrap=False, max_depth=15, min_samples_leaf=2, min_samples_split=10, n_estimators=100; total time=   0.1s\n",
      "[CV] END bootstrap=False, max_depth=15, min_samples_leaf=2, min_samples_split=10, n_estimators=100; total time=   0.1s\n",
      "[CV] END bootstrap=False, max_depth=15, min_samples_leaf=2, min_samples_split=10, n_estimators=100; total time=   0.1s\n",
      "[CV] END bootstrap=False, max_depth=15, min_samples_leaf=2, min_samples_split=5, n_estimators=500; total time=   0.6s\n",
      "[CV] END bootstrap=False, max_depth=15, min_samples_leaf=2, min_samples_split=5, n_estimators=500; total time=   0.6s\n",
      "[CV] END bootstrap=False, max_depth=15, min_samples_leaf=2, min_samples_split=5, n_estimators=500; total time=   0.6s\n",
      "[CV] END bootstrap=False, max_depth=15, min_samples_leaf=2, min_samples_split=10, n_estimators=200; total time=   0.2s\n",
      "[CV] END bootstrap=False, max_depth=15, min_samples_leaf=2, min_samples_split=10, n_estimators=200; total time=   0.2s\n",
      "[CV] END bootstrap=False, max_depth=15, min_samples_leaf=2, min_samples_split=10, n_estimators=200; total time=   0.3s\n",
      "[CV] END bootstrap=False, max_depth=15, min_samples_leaf=2, min_samples_split=10, n_estimators=200; total time=   0.3s\n",
      "[CV] END bootstrap=False, max_depth=15, min_samples_leaf=2, min_samples_split=10, n_estimators=200; total time=   0.3s\n",
      "[CV] END bootstrap=False, max_depth=15, min_samples_leaf=2, min_samples_split=5, n_estimators=1000; total time=   0.9s\n",
      "[CV] END bootstrap=False, max_depth=15, min_samples_leaf=2, min_samples_split=5, n_estimators=1000; total time=   0.9s\n",
      "[CV] END bootstrap=False, max_depth=15, min_samples_leaf=2, min_samples_split=5, n_estimators=1000; total time=   0.9s\n",
      "[CV] END bootstrap=False, max_depth=15, min_samples_leaf=2, min_samples_split=10, n_estimators=500; total time=   0.5s\n",
      "[CV] END bootstrap=False, max_depth=15, min_samples_leaf=2, min_samples_split=5, n_estimators=1000; total time=   1.0s\n",
      "[CV] END bootstrap=False, max_depth=15, min_samples_leaf=2, min_samples_split=10, n_estimators=500; total time=   0.5s\n",
      "[CV] END bootstrap=False, max_depth=15, min_samples_leaf=4, min_samples_split=2, n_estimators=100; total time=   0.1s\n",
      "[CV] END bootstrap=False, max_depth=15, min_samples_leaf=4, min_samples_split=2, n_estimators=100; total time=   0.1s\n",
      "[CV] END bootstrap=False, max_depth=15, min_samples_leaf=2, min_samples_split=5, n_estimators=1000; total time=   1.5s\n",
      "[CV] END bootstrap=False, max_depth=15, min_samples_leaf=4, min_samples_split=2, n_estimators=100; total time=   0.1s\n",
      "[CV] END bootstrap=False, max_depth=15, min_samples_leaf=2, min_samples_split=10, n_estimators=500; total time=   0.8s\n",
      "[CV] END bootstrap=False, max_depth=15, min_samples_leaf=2, min_samples_split=10, n_estimators=500; total time=   0.7s\n",
      "[CV] END bootstrap=False, max_depth=15, min_samples_leaf=4, min_samples_split=2, n_estimators=100; total time=   0.1s\n",
      "[CV] END bootstrap=False, max_depth=15, min_samples_leaf=2, min_samples_split=10, n_estimators=500; total time=   0.8s\n",
      "[CV] END bootstrap=False, max_depth=15, min_samples_leaf=4, min_samples_split=2, n_estimators=100; total time=   0.1s\n",
      "[CV] END bootstrap=False, max_depth=15, min_samples_leaf=4, min_samples_split=2, n_estimators=200; total time=   0.2s\n",
      "[CV] END bootstrap=False, max_depth=15, min_samples_leaf=4, min_samples_split=2, n_estimators=200; total time=   0.2s\n",
      "[CV] END bootstrap=False, max_depth=15, min_samples_leaf=4, min_samples_split=2, n_estimators=200; total time=   0.3s\n",
      "[CV] END bootstrap=False, max_depth=15, min_samples_leaf=2, min_samples_split=10, n_estimators=1000; total time=   0.9s\n",
      "[CV] END bootstrap=False, max_depth=15, min_samples_leaf=2, min_samples_split=10, n_estimators=1000; total time=   0.9s\n",
      "[CV] END bootstrap=False, max_depth=15, min_samples_leaf=4, min_samples_split=2, n_estimators=200; total time=   0.3s\n",
      "[CV] END bootstrap=False, max_depth=15, min_samples_leaf=4, min_samples_split=2, n_estimators=200; total time=   0.3s\n",
      "[CV] END bootstrap=False, max_depth=15, min_samples_leaf=2, min_samples_split=10, n_estimators=1000; total time=   0.9s\n",
      "[CV] END bootstrap=False, max_depth=15, min_samples_leaf=2, min_samples_split=10, n_estimators=1000; total time=   0.9s\n",
      "[CV] END bootstrap=False, max_depth=15, min_samples_leaf=2, min_samples_split=10, n_estimators=1000; total time=   1.0s\n",
      "[CV] END bootstrap=False, max_depth=15, min_samples_leaf=4, min_samples_split=2, n_estimators=500; total time=   0.4s\n",
      "[CV] END bootstrap=False, max_depth=15, min_samples_leaf=4, min_samples_split=2, n_estimators=500; total time=   0.4s\n",
      "[CV] END bootstrap=False, max_depth=15, min_samples_leaf=4, min_samples_split=2, n_estimators=500; total time=   0.4s\n",
      "[CV] END bootstrap=False, max_depth=15, min_samples_leaf=4, min_samples_split=5, n_estimators=100; total time=   0.1s\n",
      "[CV] END bootstrap=False, max_depth=15, min_samples_leaf=4, min_samples_split=5, n_estimators=100; total time=   0.1s\n",
      "[CV] END bootstrap=False, max_depth=15, min_samples_leaf=4, min_samples_split=5, n_estimators=100; total time=   0.1s\n",
      "[CV] END bootstrap=False, max_depth=15, min_samples_leaf=4, min_samples_split=5, n_estimators=100; total time=   0.1s\n",
      "[CV] END bootstrap=False, max_depth=15, min_samples_leaf=4, min_samples_split=2, n_estimators=500; total time=   0.6s\n",
      "[CV] END bootstrap=False, max_depth=15, min_samples_leaf=4, min_samples_split=5, n_estimators=100; total time=   0.1s\n",
      "[CV] END bootstrap=False, max_depth=15, min_samples_leaf=4, min_samples_split=2, n_estimators=500; total time=   0.7s\n",
      "[CV] END bootstrap=False, max_depth=15, min_samples_leaf=4, min_samples_split=5, n_estimators=200; total time=   0.2s\n",
      "[CV] END bootstrap=False, max_depth=15, min_samples_leaf=4, min_samples_split=5, n_estimators=200; total time=   0.2s\n",
      "[CV] END bootstrap=False, max_depth=15, min_samples_leaf=4, min_samples_split=5, n_estimators=200; total time=   0.2s\n",
      "[CV] END bootstrap=False, max_depth=15, min_samples_leaf=4, min_samples_split=5, n_estimators=200; total time=   0.3s\n",
      "[CV] END bootstrap=False, max_depth=15, min_samples_leaf=4, min_samples_split=5, n_estimators=200; total time=   0.3s\n",
      "[CV] END bootstrap=False, max_depth=15, min_samples_leaf=4, min_samples_split=2, n_estimators=1000; total time=   0.8s\n",
      "[CV] END bootstrap=False, max_depth=15, min_samples_leaf=4, min_samples_split=2, n_estimators=1000; total time=   0.8s\n",
      "[CV] END bootstrap=False, max_depth=15, min_samples_leaf=4, min_samples_split=2, n_estimators=1000; total time=   0.8s\n",
      "[CV] END bootstrap=False, max_depth=15, min_samples_leaf=4, min_samples_split=5, n_estimators=500; total time=   0.4s\n",
      "[CV] END bootstrap=False, max_depth=15, min_samples_leaf=4, min_samples_split=5, n_estimators=500; total time=   0.4s\n",
      "[CV] END bootstrap=False, max_depth=15, min_samples_leaf=4, min_samples_split=5, n_estimators=500; total time=   0.4s\n",
      "[CV] END bootstrap=False, max_depth=15, min_samples_leaf=4, min_samples_split=2, n_estimators=1000; total time=   1.1s\n",
      "[CV] END bootstrap=False, max_depth=15, min_samples_leaf=4, min_samples_split=2, n_estimators=1000; total time=   1.1s\n",
      "[CV] END bootstrap=False, max_depth=15, min_samples_leaf=4, min_samples_split=10, n_estimators=100; total time=   0.1s\n",
      "[CV] END bootstrap=False, max_depth=15, min_samples_leaf=4, min_samples_split=10, n_estimators=100; total time=   0.1s\n",
      "[CV] END bootstrap=False, max_depth=15, min_samples_leaf=4, min_samples_split=10, n_estimators=100; total time=   0.1s\n",
      "[CV] END bootstrap=False, max_depth=15, min_samples_leaf=4, min_samples_split=10, n_estimators=100; total time=   0.1s\n",
      "[CV] END bootstrap=False, max_depth=15, min_samples_leaf=4, min_samples_split=10, n_estimators=100; total time=   0.1s\n",
      "[CV] END bootstrap=False, max_depth=15, min_samples_leaf=4, min_samples_split=10, n_estimators=200; total time=   0.1s\n",
      "[CV] END bootstrap=False, max_depth=15, min_samples_leaf=4, min_samples_split=10, n_estimators=200; total time=   0.2s\n",
      "[CV] END bootstrap=False, max_depth=15, min_samples_leaf=4, min_samples_split=5, n_estimators=500; total time=   0.6s\n",
      "[CV] END bootstrap=False, max_depth=15, min_samples_leaf=4, min_samples_split=5, n_estimators=500; total time=   0.6s\n",
      "[CV] END bootstrap=False, max_depth=15, min_samples_leaf=4, min_samples_split=10, n_estimators=200; total time=   0.2s\n",
      "[CV] END bootstrap=False, max_depth=15, min_samples_leaf=4, min_samples_split=10, n_estimators=200; total time=   0.3s\n",
      "[CV] END bootstrap=False, max_depth=15, min_samples_leaf=4, min_samples_split=5, n_estimators=1000; total time=   0.8s\n",
      "[CV] END bootstrap=False, max_depth=15, min_samples_leaf=4, min_samples_split=5, n_estimators=1000; total time=   0.8s\n",
      "[CV] END bootstrap=False, max_depth=15, min_samples_leaf=4, min_samples_split=10, n_estimators=200; total time=   0.2s\n",
      "[CV] END bootstrap=False, max_depth=15, min_samples_leaf=4, min_samples_split=5, n_estimators=1000; total time=   0.8s\n",
      "[CV] END bootstrap=False, max_depth=15, min_samples_leaf=4, min_samples_split=5, n_estimators=1000; total time=   0.8s\n",
      "[CV] END bootstrap=False, max_depth=15, min_samples_leaf=4, min_samples_split=5, n_estimators=1000; total time=   0.8s\n",
      "[CV] END bootstrap=False, max_depth=15, min_samples_leaf=4, min_samples_split=10, n_estimators=500; total time=   0.4s\n",
      "[CV] END bootstrap=False, max_depth=15, min_samples_leaf=4, min_samples_split=10, n_estimators=500; total time=   0.6s\n",
      "[CV] END bootstrap=False, max_depth=15, min_samples_leaf=4, min_samples_split=10, n_estimators=500; total time=   0.6s\n",
      "[CV] END bootstrap=False, max_depth=20, min_samples_leaf=1, min_samples_split=2, n_estimators=100; total time=   0.1s\n",
      "[CV] END bootstrap=False, max_depth=15, min_samples_leaf=4, min_samples_split=10, n_estimators=500; total time=   0.4s\n",
      "[CV] END bootstrap=False, max_depth=15, min_samples_leaf=4, min_samples_split=10, n_estimators=500; total time=   0.5s\n",
      "[CV] END bootstrap=False, max_depth=20, min_samples_leaf=1, min_samples_split=2, n_estimators=100; total time=   0.1s\n",
      "[CV] END bootstrap=False, max_depth=20, min_samples_leaf=1, min_samples_split=2, n_estimators=100; total time=   0.1s\n",
      "[CV] END bootstrap=False, max_depth=20, min_samples_leaf=1, min_samples_split=2, n_estimators=100; total time=   0.1s\n",
      "[CV] END bootstrap=False, max_depth=20, min_samples_leaf=1, min_samples_split=2, n_estimators=100; total time=   0.1s\n",
      "[CV] END bootstrap=False, max_depth=20, min_samples_leaf=1, min_samples_split=2, n_estimators=200; total time=   0.2s\n",
      "[CV] END bootstrap=False, max_depth=20, min_samples_leaf=1, min_samples_split=2, n_estimators=200; total time=   0.2s\n",
      "[CV] END bootstrap=False, max_depth=20, min_samples_leaf=1, min_samples_split=2, n_estimators=200; total time=   0.2s\n",
      "[CV] END bootstrap=False, max_depth=20, min_samples_leaf=1, min_samples_split=2, n_estimators=200; total time=   0.3s\n",
      "[CV] END bootstrap=False, max_depth=20, min_samples_leaf=1, min_samples_split=2, n_estimators=200; total time=   0.3s\n",
      "[CV] END bootstrap=False, max_depth=15, min_samples_leaf=4, min_samples_split=10, n_estimators=1000; total time=   0.8s\n",
      "[CV] END bootstrap=False, max_depth=15, min_samples_leaf=4, min_samples_split=10, n_estimators=1000; total time=   0.8s\n",
      "[CV] END bootstrap=False, max_depth=15, min_samples_leaf=4, min_samples_split=10, n_estimators=1000; total time=   0.8s\n",
      "[CV] END bootstrap=False, max_depth=15, min_samples_leaf=4, min_samples_split=10, n_estimators=1000; total time=   0.8s\n",
      "[CV] END bootstrap=False, max_depth=20, min_samples_leaf=1, min_samples_split=2, n_estimators=500; total time=   0.4s\n",
      "[CV] END bootstrap=False, max_depth=20, min_samples_leaf=1, min_samples_split=2, n_estimators=500; total time=   0.4s\n",
      "[CV] END bootstrap=False, max_depth=20, min_samples_leaf=1, min_samples_split=5, n_estimators=100; total time=   0.1s\n",
      "[CV] END bootstrap=False, max_depth=15, min_samples_leaf=4, min_samples_split=10, n_estimators=1000; total time=   1.2s\n",
      "[CV] END bootstrap=False, max_depth=20, min_samples_leaf=1, min_samples_split=5, n_estimators=100; total time=   0.1s\n",
      "[CV] END bootstrap=False, max_depth=20, min_samples_leaf=1, min_samples_split=2, n_estimators=500; total time=   0.6s\n",
      "[CV] END bootstrap=False, max_depth=20, min_samples_leaf=1, min_samples_split=2, n_estimators=500; total time=   0.6s\n",
      "[CV] END bootstrap=False, max_depth=20, min_samples_leaf=1, min_samples_split=5, n_estimators=100; total time=   0.1s\n",
      "[CV] END bootstrap=False, max_depth=20, min_samples_leaf=1, min_samples_split=5, n_estimators=100; total time=   0.1s\n",
      "[CV] END bootstrap=False, max_depth=20, min_samples_leaf=1, min_samples_split=2, n_estimators=500; total time=   0.7s\n",
      "[CV] END bootstrap=False, max_depth=20, min_samples_leaf=1, min_samples_split=5, n_estimators=100; total time=   0.1s\n",
      "[CV] END bootstrap=False, max_depth=20, min_samples_leaf=1, min_samples_split=5, n_estimators=200; total time=   0.2s\n",
      "[CV] END bootstrap=False, max_depth=20, min_samples_leaf=1, min_samples_split=5, n_estimators=200; total time=   0.2s\n",
      "[CV] END bootstrap=False, max_depth=20, min_samples_leaf=1, min_samples_split=2, n_estimators=1000; total time=   0.8s\n",
      "[CV] END bootstrap=False, max_depth=20, min_samples_leaf=1, min_samples_split=5, n_estimators=200; total time=   0.3s\n",
      "[CV] END bootstrap=False, max_depth=20, min_samples_leaf=1, min_samples_split=2, n_estimators=1000; total time=   0.8s\n",
      "[CV] END bootstrap=False, max_depth=20, min_samples_leaf=1, min_samples_split=5, n_estimators=200; total time=   0.3s\n",
      "[CV] END bootstrap=False, max_depth=20, min_samples_leaf=1, min_samples_split=5, n_estimators=200; total time=   0.3s\n",
      "[CV] END bootstrap=False, max_depth=20, min_samples_leaf=1, min_samples_split=2, n_estimators=1000; total time=   0.9s\n",
      "[CV] END bootstrap=False, max_depth=20, min_samples_leaf=1, min_samples_split=2, n_estimators=1000; total time=   0.9s\n",
      "[CV] END bootstrap=False, max_depth=20, min_samples_leaf=1, min_samples_split=2, n_estimators=1000; total time=   0.8s\n",
      "[CV] END bootstrap=False, max_depth=20, min_samples_leaf=1, min_samples_split=5, n_estimators=500; total time=   0.4s\n",
      "[CV] END bootstrap=False, max_depth=20, min_samples_leaf=1, min_samples_split=10, n_estimators=100; total time=   0.1s\n",
      "[CV] END bootstrap=False, max_depth=20, min_samples_leaf=1, min_samples_split=5, n_estimators=500; total time=   0.4s\n",
      "[CV] END bootstrap=False, max_depth=20, min_samples_leaf=1, min_samples_split=5, n_estimators=500; total time=   0.4s\n",
      "[CV] END bootstrap=False, max_depth=20, min_samples_leaf=1, min_samples_split=10, n_estimators=100; total time=   0.1s\n",
      "[CV] END bootstrap=False, max_depth=20, min_samples_leaf=1, min_samples_split=10, n_estimators=100; total time=   0.1s\n",
      "[CV] END bootstrap=False, max_depth=20, min_samples_leaf=1, min_samples_split=5, n_estimators=500; total time=   0.6s\n",
      "[CV] END bootstrap=False, max_depth=20, min_samples_leaf=1, min_samples_split=10, n_estimators=100; total time=   0.1s\n",
      "[CV] END bootstrap=False, max_depth=20, min_samples_leaf=1, min_samples_split=10, n_estimators=100; total time=   0.1s\n",
      "[CV] END bootstrap=False, max_depth=20, min_samples_leaf=1, min_samples_split=10, n_estimators=200; total time=   0.2s\n",
      "[CV] END bootstrap=False, max_depth=20, min_samples_leaf=1, min_samples_split=10, n_estimators=200; total time=   0.2s\n",
      "[CV] END bootstrap=False, max_depth=20, min_samples_leaf=1, min_samples_split=5, n_estimators=500; total time=   0.7s\n",
      "[CV] END bootstrap=False, max_depth=20, min_samples_leaf=1, min_samples_split=10, n_estimators=200; total time=   0.2s\n",
      "[CV] END bootstrap=False, max_depth=20, min_samples_leaf=1, min_samples_split=10, n_estimators=200; total time=   0.3s\n",
      "[CV] END bootstrap=False, max_depth=20, min_samples_leaf=1, min_samples_split=10, n_estimators=200; total time=   0.2s\n",
      "[CV] END bootstrap=False, max_depth=20, min_samples_leaf=1, min_samples_split=5, n_estimators=1000; total time=   0.8s\n",
      "[CV] END bootstrap=False, max_depth=20, min_samples_leaf=1, min_samples_split=5, n_estimators=1000; total time=   0.8s\n",
      "[CV] END bootstrap=False, max_depth=20, min_samples_leaf=1, min_samples_split=10, n_estimators=500; total time=   0.4s\n",
      "[CV] END bootstrap=False, max_depth=20, min_samples_leaf=1, min_samples_split=10, n_estimators=500; total time=   0.4s\n",
      "[CV] END bootstrap=False, max_depth=20, min_samples_leaf=1, min_samples_split=5, n_estimators=1000; total time=   0.8s\n",
      "[CV] END bootstrap=False, max_depth=20, min_samples_leaf=1, min_samples_split=5, n_estimators=1000; total time=   1.2s\n",
      "[CV] END bootstrap=False, max_depth=20, min_samples_leaf=1, min_samples_split=10, n_estimators=500; total time=   0.4s\n",
      "[CV] END bootstrap=False, max_depth=20, min_samples_leaf=2, min_samples_split=2, n_estimators=100; total time=   0.1s\n",
      "[CV] END bootstrap=False, max_depth=20, min_samples_leaf=1, min_samples_split=5, n_estimators=1000; total time=   1.2s\n",
      "[CV] END bootstrap=False, max_depth=20, min_samples_leaf=1, min_samples_split=10, n_estimators=500; total time=   0.6s\n",
      "[CV] END bootstrap=False, max_depth=20, min_samples_leaf=2, min_samples_split=2, n_estimators=100; total time=   0.2s\n",
      "[CV] END bootstrap=False, max_depth=20, min_samples_leaf=2, min_samples_split=2, n_estimators=100; total time=   0.1s\n",
      "[CV] END bootstrap=False, max_depth=20, min_samples_leaf=1, min_samples_split=10, n_estimators=500; total time=   0.7s\n",
      "[CV] END bootstrap=False, max_depth=20, min_samples_leaf=2, min_samples_split=2, n_estimators=100; total time=   0.1s\n",
      "[CV] END bootstrap=False, max_depth=20, min_samples_leaf=2, min_samples_split=2, n_estimators=100; total time=   0.2s\n",
      "[CV] END bootstrap=False, max_depth=20, min_samples_leaf=2, min_samples_split=2, n_estimators=200; total time=   0.2s\n",
      "[CV] END bootstrap=False, max_depth=20, min_samples_leaf=2, min_samples_split=2, n_estimators=200; total time=   0.2s\n",
      "[CV] END bootstrap=False, max_depth=20, min_samples_leaf=2, min_samples_split=2, n_estimators=200; total time=   0.3s\n",
      "[CV] END bootstrap=False, max_depth=20, min_samples_leaf=2, min_samples_split=2, n_estimators=200; total time=   0.2s\n",
      "[CV] END bootstrap=False, max_depth=20, min_samples_leaf=1, min_samples_split=10, n_estimators=1000; total time=   0.8s\n",
      "[CV] END bootstrap=False, max_depth=20, min_samples_leaf=2, min_samples_split=2, n_estimators=200; total time=   0.2s\n",
      "[CV] END bootstrap=False, max_depth=20, min_samples_leaf=1, min_samples_split=10, n_estimators=1000; total time=   0.8s\n",
      "[CV] END bootstrap=False, max_depth=20, min_samples_leaf=1, min_samples_split=10, n_estimators=1000; total time=   0.9s\n",
      "[CV] END bootstrap=False, max_depth=20, min_samples_leaf=2, min_samples_split=2, n_estimators=500; total time=   0.4s\n",
      "[CV] END bootstrap=False, max_depth=20, min_samples_leaf=1, min_samples_split=10, n_estimators=1000; total time=   0.8s\n",
      "[CV] END bootstrap=False, max_depth=20, min_samples_leaf=1, min_samples_split=10, n_estimators=1000; total time=   0.9s\n",
      "[CV] END bootstrap=False, max_depth=20, min_samples_leaf=2, min_samples_split=5, n_estimators=100; total time=   0.1s\n",
      "[CV] END bootstrap=False, max_depth=20, min_samples_leaf=2, min_samples_split=2, n_estimators=500; total time=   0.5s\n",
      "[CV] END bootstrap=False, max_depth=20, min_samples_leaf=2, min_samples_split=2, n_estimators=500; total time=   0.4s\n",
      "[CV] END bootstrap=False, max_depth=20, min_samples_leaf=2, min_samples_split=5, n_estimators=100; total time=   0.1s\n",
      "[CV] END bootstrap=False, max_depth=20, min_samples_leaf=2, min_samples_split=5, n_estimators=100; total time=   0.1s\n",
      "[CV] END bootstrap=False, max_depth=20, min_samples_leaf=2, min_samples_split=5, n_estimators=100; total time=   0.1s\n",
      "[CV] END bootstrap=False, max_depth=20, min_samples_leaf=2, min_samples_split=5, n_estimators=100; total time=   0.1s\n",
      "[CV] END bootstrap=False, max_depth=20, min_samples_leaf=2, min_samples_split=2, n_estimators=500; total time=   0.6s\n",
      "[CV] END bootstrap=False, max_depth=20, min_samples_leaf=2, min_samples_split=2, n_estimators=500; total time=   0.6s\n",
      "[CV] END bootstrap=False, max_depth=20, min_samples_leaf=2, min_samples_split=5, n_estimators=200; total time=   0.2s\n",
      "[CV] END bootstrap=False, max_depth=20, min_samples_leaf=2, min_samples_split=5, n_estimators=200; total time=   0.2s\n",
      "[CV] END bootstrap=False, max_depth=20, min_samples_leaf=2, min_samples_split=5, n_estimators=200; total time=   0.3s\n",
      "[CV] END bootstrap=False, max_depth=20, min_samples_leaf=2, min_samples_split=5, n_estimators=200; total time=   0.2s\n",
      "[CV] END bootstrap=False, max_depth=20, min_samples_leaf=2, min_samples_split=5, n_estimators=200; total time=   0.3s\n",
      "[CV] END bootstrap=False, max_depth=20, min_samples_leaf=2, min_samples_split=2, n_estimators=1000; total time=   0.8s\n",
      "[CV] END bootstrap=False, max_depth=20, min_samples_leaf=2, min_samples_split=2, n_estimators=1000; total time=   0.8s\n",
      "[CV] END bootstrap=False, max_depth=20, min_samples_leaf=2, min_samples_split=2, n_estimators=1000; total time=   0.8s\n",
      "[CV] END bootstrap=False, max_depth=20, min_samples_leaf=2, min_samples_split=5, n_estimators=500; total time=   0.4s\n",
      "[CV] END bootstrap=False, max_depth=20, min_samples_leaf=2, min_samples_split=5, n_estimators=500; total time=   0.4s\n",
      "[CV] END bootstrap=False, max_depth=20, min_samples_leaf=2, min_samples_split=2, n_estimators=1000; total time=   0.8s\n",
      "[CV] END bootstrap=False, max_depth=20, min_samples_leaf=2, min_samples_split=10, n_estimators=100; total time=   0.1s\n",
      "[CV] END bootstrap=False, max_depth=20, min_samples_leaf=2, min_samples_split=10, n_estimators=100; total time=   0.1s\n",
      "[CV] END bootstrap=False, max_depth=20, min_samples_leaf=2, min_samples_split=2, n_estimators=1000; total time=   1.2s\n",
      "[CV] END bootstrap=False, max_depth=20, min_samples_leaf=2, min_samples_split=10, n_estimators=100; total time=   0.1s\n",
      "[CV] END bootstrap=False, max_depth=20, min_samples_leaf=2, min_samples_split=10, n_estimators=100; total time=   0.1s\n",
      "[CV] END bootstrap=False, max_depth=20, min_samples_leaf=2, min_samples_split=5, n_estimators=500; total time=   0.6s\n",
      "[CV] END bootstrap=False, max_depth=20, min_samples_leaf=2, min_samples_split=10, n_estimators=100; total time=   0.1s\n",
      "[CV] END bootstrap=False, max_depth=20, min_samples_leaf=2, min_samples_split=5, n_estimators=500; total time=   0.6s\n",
      "[CV] END bootstrap=False, max_depth=20, min_samples_leaf=2, min_samples_split=5, n_estimators=500; total time=   0.6s\n",
      "[CV] END bootstrap=False, max_depth=20, min_samples_leaf=2, min_samples_split=10, n_estimators=200; total time=   0.2s\n",
      "[CV] END bootstrap=False, max_depth=20, min_samples_leaf=2, min_samples_split=10, n_estimators=200; total time=   0.2s\n",
      "[CV] END bootstrap=False, max_depth=20, min_samples_leaf=2, min_samples_split=10, n_estimators=200; total time=   0.2s\n",
      "[CV] END bootstrap=False, max_depth=20, min_samples_leaf=2, min_samples_split=10, n_estimators=200; total time=   0.3s\n",
      "[CV] END bootstrap=False, max_depth=20, min_samples_leaf=2, min_samples_split=5, n_estimators=1000; total time=   0.8s\n",
      "[CV] END bootstrap=False, max_depth=20, min_samples_leaf=2, min_samples_split=10, n_estimators=200; total time=   0.2s\n",
      "[CV] END bootstrap=False, max_depth=20, min_samples_leaf=2, min_samples_split=5, n_estimators=1000; total time=   0.8s\n",
      "[CV] END bootstrap=False, max_depth=20, min_samples_leaf=2, min_samples_split=5, n_estimators=1000; total time=   0.8s\n",
      "[CV] END bootstrap=False, max_depth=20, min_samples_leaf=2, min_samples_split=5, n_estimators=1000; total time=   0.8s\n",
      "[CV] END bootstrap=False, max_depth=20, min_samples_leaf=2, min_samples_split=5, n_estimators=1000; total time=   0.8s\n",
      "[CV] END bootstrap=False, max_depth=20, min_samples_leaf=2, min_samples_split=10, n_estimators=500; total time=   0.4s\n",
      "[CV] END bootstrap=False, max_depth=20, min_samples_leaf=4, min_samples_split=2, n_estimators=100; total time=   0.1s\n",
      "[CV] END bootstrap=False, max_depth=20, min_samples_leaf=2, min_samples_split=10, n_estimators=500; total time=   0.4s\n",
      "[CV] END bootstrap=False, max_depth=20, min_samples_leaf=4, min_samples_split=2, n_estimators=100; total time=   0.1s\n",
      "[CV] END bootstrap=False, max_depth=20, min_samples_leaf=4, min_samples_split=2, n_estimators=100; total time=   0.1s\n",
      "[CV] END bootstrap=False, max_depth=20, min_samples_leaf=2, min_samples_split=10, n_estimators=500; total time=   0.6s\n",
      "[CV] END bootstrap=False, max_depth=20, min_samples_leaf=4, min_samples_split=2, n_estimators=100; total time=   0.1s\n",
      "[CV] END bootstrap=False, max_depth=20, min_samples_leaf=2, min_samples_split=10, n_estimators=500; total time=   0.6s\n",
      "[CV] END bootstrap=False, max_depth=20, min_samples_leaf=4, min_samples_split=2, n_estimators=100; total time=   0.1s\n",
      "[CV] END bootstrap=False, max_depth=20, min_samples_leaf=2, min_samples_split=10, n_estimators=500; total time=   0.6s\n",
      "[CV] END bootstrap=False, max_depth=20, min_samples_leaf=4, min_samples_split=2, n_estimators=200; total time=   0.2s\n",
      "[CV] END bootstrap=False, max_depth=20, min_samples_leaf=4, min_samples_split=2, n_estimators=200; total time=   0.2s\n",
      "[CV] END bootstrap=False, max_depth=20, min_samples_leaf=4, min_samples_split=2, n_estimators=200; total time=   0.2s\n",
      "[CV] END bootstrap=False, max_depth=20, min_samples_leaf=4, min_samples_split=2, n_estimators=200; total time=   0.2s\n",
      "[CV] END bootstrap=False, max_depth=20, min_samples_leaf=4, min_samples_split=2, n_estimators=200; total time=   0.3s\n",
      "[CV] END bootstrap=False, max_depth=20, min_samples_leaf=2, min_samples_split=10, n_estimators=1000; total time=   0.8s\n",
      "[CV] END bootstrap=False, max_depth=20, min_samples_leaf=2, min_samples_split=10, n_estimators=1000; total time=   0.8s\n",
      "[CV] END bootstrap=False, max_depth=20, min_samples_leaf=2, min_samples_split=10, n_estimators=1000; total time=   0.9s\n",
      "[CV] END bootstrap=False, max_depth=20, min_samples_leaf=2, min_samples_split=10, n_estimators=1000; total time=   0.9s\n",
      "[CV] END bootstrap=False, max_depth=20, min_samples_leaf=4, min_samples_split=2, n_estimators=500; total time=   0.4s\n",
      "[CV] END bootstrap=False, max_depth=20, min_samples_leaf=4, min_samples_split=2, n_estimators=500; total time=   0.5s\n",
      "[CV] END bootstrap=False, max_depth=20, min_samples_leaf=2, min_samples_split=10, n_estimators=1000; total time=   1.3s\n",
      "[CV] END bootstrap=False, max_depth=20, min_samples_leaf=4, min_samples_split=5, n_estimators=100; total time=   0.2s\n",
      "[CV] END bootstrap=False, max_depth=20, min_samples_leaf=4, min_samples_split=5, n_estimators=100; total time=   0.2s\n",
      "[CV] END bootstrap=False, max_depth=20, min_samples_leaf=4, min_samples_split=5, n_estimators=100; total time=   0.1s\n",
      "[CV] END bootstrap=False, max_depth=20, min_samples_leaf=4, min_samples_split=2, n_estimators=500; total time=   0.7s\n",
      "[CV] END bootstrap=False, max_depth=20, min_samples_leaf=4, min_samples_split=5, n_estimators=100; total time=   0.1s\n",
      "[CV] END bootstrap=False, max_depth=20, min_samples_leaf=4, min_samples_split=2, n_estimators=500; total time=   0.9s\n",
      "[CV] END bootstrap=False, max_depth=20, min_samples_leaf=4, min_samples_split=5, n_estimators=100; total time=   0.1s\n",
      "[CV] END bootstrap=False, max_depth=20, min_samples_leaf=4, min_samples_split=2, n_estimators=500; total time=   0.9s\n",
      "[CV] END bootstrap=False, max_depth=20, min_samples_leaf=4, min_samples_split=5, n_estimators=200; total time=   0.2s\n",
      "[CV] END bootstrap=False, max_depth=20, min_samples_leaf=4, min_samples_split=5, n_estimators=200; total time=   0.3s\n",
      "[CV] END bootstrap=False, max_depth=20, min_samples_leaf=4, min_samples_split=5, n_estimators=200; total time=   0.2s\n",
      "[CV] END bootstrap=False, max_depth=20, min_samples_leaf=4, min_samples_split=5, n_estimators=200; total time=   0.3s\n",
      "[CV] END bootstrap=False, max_depth=20, min_samples_leaf=4, min_samples_split=2, n_estimators=1000; total time=   1.0s\n",
      "[CV] END bootstrap=False, max_depth=20, min_samples_leaf=4, min_samples_split=5, n_estimators=200; total time=   0.3s\n",
      "[CV] END bootstrap=False, max_depth=20, min_samples_leaf=4, min_samples_split=2, n_estimators=1000; total time=   1.0s\n",
      "[CV] END bootstrap=False, max_depth=20, min_samples_leaf=4, min_samples_split=2, n_estimators=1000; total time=   1.0s\n",
      "[CV] END bootstrap=False, max_depth=20, min_samples_leaf=4, min_samples_split=2, n_estimators=1000; total time=   1.0s\n",
      "[CV] END bootstrap=False, max_depth=20, min_samples_leaf=4, min_samples_split=2, n_estimators=1000; total time=   1.0s\n",
      "[CV] END bootstrap=False, max_depth=20, min_samples_leaf=4, min_samples_split=5, n_estimators=500; total time=   0.4s\n",
      "[CV] END bootstrap=False, max_depth=20, min_samples_leaf=4, min_samples_split=10, n_estimators=100; total time=   0.1s\n",
      "[CV] END bootstrap=False, max_depth=20, min_samples_leaf=4, min_samples_split=5, n_estimators=500; total time=   0.4s\n",
      "[CV] END bootstrap=False, max_depth=20, min_samples_leaf=4, min_samples_split=10, n_estimators=100; total time=   0.1s\n",
      "[CV] END bootstrap=False, max_depth=20, min_samples_leaf=4, min_samples_split=5, n_estimators=500; total time=   0.6s\n",
      "[CV] END bootstrap=False, max_depth=20, min_samples_leaf=4, min_samples_split=10, n_estimators=100; total time=   0.1s\n",
      "[CV] END bootstrap=False, max_depth=20, min_samples_leaf=4, min_samples_split=10, n_estimators=100; total time=   0.1s\n",
      "[CV] END bootstrap=False, max_depth=20, min_samples_leaf=4, min_samples_split=10, n_estimators=100; total time=   0.1s\n",
      "[CV] END bootstrap=False, max_depth=20, min_samples_leaf=4, min_samples_split=5, n_estimators=500; total time=   0.6s\n",
      "[CV] END bootstrap=False, max_depth=20, min_samples_leaf=4, min_samples_split=5, n_estimators=500; total time=   0.6s\n",
      "[CV] END bootstrap=False, max_depth=20, min_samples_leaf=4, min_samples_split=10, n_estimators=200; total time=   0.1s\n",
      "[CV] END bootstrap=False, max_depth=20, min_samples_leaf=4, min_samples_split=10, n_estimators=200; total time=   0.2s\n",
      "[CV] END bootstrap=False, max_depth=20, min_samples_leaf=4, min_samples_split=10, n_estimators=200; total time=   0.2s\n",
      "[CV] END bootstrap=False, max_depth=20, min_samples_leaf=4, min_samples_split=5, n_estimators=1000; total time=   0.8s\n",
      "[CV] END bootstrap=False, max_depth=20, min_samples_leaf=4, min_samples_split=10, n_estimators=200; total time=   0.2s\n",
      "[CV] END bootstrap=False, max_depth=20, min_samples_leaf=4, min_samples_split=10, n_estimators=200; total time=   0.3s\n",
      "[CV] END bootstrap=False, max_depth=20, min_samples_leaf=4, min_samples_split=5, n_estimators=1000; total time=   0.8s\n",
      "[CV] END bootstrap=False, max_depth=20, min_samples_leaf=4, min_samples_split=5, n_estimators=1000; total time=   0.8s\n",
      "[CV] END bootstrap=False, max_depth=20, min_samples_leaf=4, min_samples_split=5, n_estimators=1000; total time=   0.8s\n",
      "[CV] END bootstrap=False, max_depth=20, min_samples_leaf=4, min_samples_split=10, n_estimators=500; total time=   0.4s\n",
      "[CV] END bootstrap=False, max_depth=20, min_samples_leaf=4, min_samples_split=10, n_estimators=500; total time=   0.4s\n",
      "[CV] END bootstrap=False, max_depth=20, min_samples_leaf=4, min_samples_split=5, n_estimators=1000; total time=   1.1s\n",
      "[CV] END bootstrap=False, max_depth=25, min_samples_leaf=1, min_samples_split=2, n_estimators=100; total time=   0.1s\n",
      "[CV] END bootstrap=False, max_depth=20, min_samples_leaf=4, min_samples_split=10, n_estimators=500; total time=   0.4s\n",
      "[CV] END bootstrap=False, max_depth=25, min_samples_leaf=1, min_samples_split=2, n_estimators=100; total time=   0.1s\n",
      "[CV] END bootstrap=False, max_depth=25, min_samples_leaf=1, min_samples_split=2, n_estimators=100; total time=   0.1s\n",
      "[CV] END bootstrap=False, max_depth=25, min_samples_leaf=1, min_samples_split=2, n_estimators=100; total time=   0.1s\n",
      "[CV] END bootstrap=False, max_depth=25, min_samples_leaf=1, min_samples_split=2, n_estimators=100; total time=   0.1s\n",
      "[CV] END bootstrap=False, max_depth=20, min_samples_leaf=4, min_samples_split=10, n_estimators=500; total time=   0.6s\n",
      "[CV] END bootstrap=False, max_depth=25, min_samples_leaf=1, min_samples_split=2, n_estimators=200; total time=   0.2s\n",
      "[CV] END bootstrap=False, max_depth=25, min_samples_leaf=1, min_samples_split=2, n_estimators=200; total time=   0.2s\n",
      "[CV] END bootstrap=False, max_depth=20, min_samples_leaf=4, min_samples_split=10, n_estimators=500; total time=   0.6s\n",
      "[CV] END bootstrap=False, max_depth=25, min_samples_leaf=1, min_samples_split=2, n_estimators=200; total time=   0.3s\n",
      "[CV] END bootstrap=False, max_depth=25, min_samples_leaf=1, min_samples_split=2, n_estimators=200; total time=   0.3s\n",
      "[CV] END bootstrap=False, max_depth=25, min_samples_leaf=1, min_samples_split=2, n_estimators=200; total time=   0.2s\n",
      "[CV] END bootstrap=False, max_depth=20, min_samples_leaf=4, min_samples_split=10, n_estimators=1000; total time=   0.8s\n",
      "[CV] END bootstrap=False, max_depth=20, min_samples_leaf=4, min_samples_split=10, n_estimators=1000; total time=   0.7s\n",
      "[CV] END bootstrap=False, max_depth=20, min_samples_leaf=4, min_samples_split=10, n_estimators=1000; total time=   0.8s\n",
      "[CV] END bootstrap=False, max_depth=20, min_samples_leaf=4, min_samples_split=10, n_estimators=1000; total time=   0.8s\n",
      "[CV] END bootstrap=False, max_depth=25, min_samples_leaf=1, min_samples_split=2, n_estimators=500; total time=   0.4s\n",
      "[CV] END bootstrap=False, max_depth=25, min_samples_leaf=1, min_samples_split=2, n_estimators=500; total time=   0.6s\n",
      "[CV] END bootstrap=False, max_depth=25, min_samples_leaf=1, min_samples_split=2, n_estimators=500; total time=   0.5s\n",
      "[CV] END bootstrap=False, max_depth=20, min_samples_leaf=4, min_samples_split=10, n_estimators=1000; total time=   1.3s\n",
      "[CV] END bootstrap=False, max_depth=25, min_samples_leaf=1, min_samples_split=5, n_estimators=100; total time=   0.1s\n",
      "[CV] END bootstrap=False, max_depth=25, min_samples_leaf=1, min_samples_split=5, n_estimators=100; total time=   0.1s\n",
      "[CV] END bootstrap=False, max_depth=25, min_samples_leaf=1, min_samples_split=5, n_estimators=100; total time=   0.1s[CV] END bootstrap=False, max_depth=25, min_samples_leaf=1, min_samples_split=5, n_estimators=100; total time=   0.2s\n",
      "\n",
      "[CV] END bootstrap=False, max_depth=25, min_samples_leaf=1, min_samples_split=2, n_estimators=500; total time=   0.8s\n",
      "[CV] END bootstrap=False, max_depth=25, min_samples_leaf=1, min_samples_split=2, n_estimators=500; total time=   0.7s\n",
      "[CV] END bootstrap=False, max_depth=25, min_samples_leaf=1, min_samples_split=5, n_estimators=100; total time=   0.2s\n",
      "[CV] END bootstrap=False, max_depth=25, min_samples_leaf=1, min_samples_split=5, n_estimators=200; total time=   0.2s\n",
      "[CV] END bootstrap=False, max_depth=25, min_samples_leaf=1, min_samples_split=2, n_estimators=1000; total time=   1.0s\n",
      "[CV] END bootstrap=False, max_depth=25, min_samples_leaf=1, min_samples_split=5, n_estimators=200; total time=   0.3s\n",
      "[CV] END bootstrap=False, max_depth=25, min_samples_leaf=1, min_samples_split=5, n_estimators=200; total time=   0.3s\n",
      "[CV] END bootstrap=False, max_depth=25, min_samples_leaf=1, min_samples_split=5, n_estimators=200; total time=   0.3s\n",
      "[CV] END bootstrap=False, max_depth=25, min_samples_leaf=1, min_samples_split=5, n_estimators=200; total time=   0.3s\n",
      "[CV] END bootstrap=False, max_depth=25, min_samples_leaf=1, min_samples_split=2, n_estimators=1000; total time=   1.0s\n",
      "[CV] END bootstrap=False, max_depth=25, min_samples_leaf=1, min_samples_split=2, n_estimators=1000; total time=   1.1s\n",
      "[CV] END bootstrap=False, max_depth=25, min_samples_leaf=1, min_samples_split=2, n_estimators=1000; total time=   0.9s\n",
      "[CV] END bootstrap=False, max_depth=25, min_samples_leaf=1, min_samples_split=2, n_estimators=1000; total time=   1.0s\n",
      "[CV] END bootstrap=False, max_depth=25, min_samples_leaf=1, min_samples_split=5, n_estimators=500; total time=   0.4s\n",
      "[CV] END bootstrap=False, max_depth=25, min_samples_leaf=1, min_samples_split=5, n_estimators=500; total time=   0.5s\n",
      "[CV] END bootstrap=False, max_depth=25, min_samples_leaf=1, min_samples_split=10, n_estimators=100; total time=   0.1s\n",
      "[CV] END bootstrap=False, max_depth=25, min_samples_leaf=1, min_samples_split=10, n_estimators=100; total time=   0.1s\n",
      "[CV] END bootstrap=False, max_depth=25, min_samples_leaf=1, min_samples_split=10, n_estimators=100; total time=   0.1s\n",
      "[CV] END bootstrap=False, max_depth=25, min_samples_leaf=1, min_samples_split=10, n_estimators=100; total time=   0.1s\n",
      "[CV] END bootstrap=False, max_depth=25, min_samples_leaf=1, min_samples_split=5, n_estimators=500; total time=   0.6s\n",
      "[CV] END bootstrap=False, max_depth=25, min_samples_leaf=1, min_samples_split=10, n_estimators=100; total time=   0.1s\n",
      "[CV] END bootstrap=False, max_depth=25, min_samples_leaf=1, min_samples_split=5, n_estimators=500; total time=   0.6s\n",
      "[CV] END bootstrap=False, max_depth=25, min_samples_leaf=1, min_samples_split=5, n_estimators=500; total time=   0.7s\n",
      "[CV] END bootstrap=False, max_depth=25, min_samples_leaf=1, min_samples_split=10, n_estimators=200; total time=   0.2s\n",
      "[CV] END bootstrap=False, max_depth=25, min_samples_leaf=1, min_samples_split=10, n_estimators=200; total time=   0.2s\n",
      "[CV] END bootstrap=False, max_depth=25, min_samples_leaf=1, min_samples_split=10, n_estimators=200; total time=   0.3s\n",
      "[CV] END bootstrap=False, max_depth=25, min_samples_leaf=1, min_samples_split=10, n_estimators=200; total time=   0.3s\n",
      "[CV] END bootstrap=False, max_depth=25, min_samples_leaf=1, min_samples_split=10, n_estimators=200; total time=   0.3s\n",
      "[CV] END bootstrap=False, max_depth=25, min_samples_leaf=1, min_samples_split=5, n_estimators=1000; total time=   0.9s\n",
      "[CV] END bootstrap=False, max_depth=25, min_samples_leaf=1, min_samples_split=5, n_estimators=1000; total time=   0.9s\n",
      "[CV] END bootstrap=False, max_depth=25, min_samples_leaf=1, min_samples_split=5, n_estimators=1000; total time=   0.9s\n",
      "[CV] END bootstrap=False, max_depth=25, min_samples_leaf=1, min_samples_split=5, n_estimators=1000; total time=   0.8s\n",
      "[CV] END bootstrap=False, max_depth=25, min_samples_leaf=1, min_samples_split=10, n_estimators=500; total time=   0.4s\n",
      "[CV] END bootstrap=False, max_depth=25, min_samples_leaf=1, min_samples_split=10, n_estimators=500; total time=   0.4s\n",
      "[CV] END bootstrap=False, max_depth=25, min_samples_leaf=2, min_samples_split=2, n_estimators=100; total time=   0.1s\n",
      "[CV] END bootstrap=False, max_depth=25, min_samples_leaf=1, min_samples_split=5, n_estimators=1000; total time=   1.3s\n",
      "[CV] END bootstrap=False, max_depth=25, min_samples_leaf=2, min_samples_split=2, n_estimators=100; total time=   0.1s\n",
      "[CV] END bootstrap=False, max_depth=25, min_samples_leaf=2, min_samples_split=2, n_estimators=100; total time=   0.1s\n",
      "[CV] END bootstrap=False, max_depth=25, min_samples_leaf=2, min_samples_split=2, n_estimators=100; total time=   0.1s\n",
      "[CV] END bootstrap=False, max_depth=25, min_samples_leaf=1, min_samples_split=10, n_estimators=500; total time=   0.5s\n",
      "[CV] END bootstrap=False, max_depth=25, min_samples_leaf=2, min_samples_split=2, n_estimators=100; total time=   0.1s\n",
      "[CV] END bootstrap=False, max_depth=25, min_samples_leaf=1, min_samples_split=10, n_estimators=500; total time=   0.6s\n",
      "[CV] END bootstrap=False, max_depth=25, min_samples_leaf=1, min_samples_split=10, n_estimators=500; total time=   0.7s\n",
      "[CV] END bootstrap=False, max_depth=25, min_samples_leaf=2, min_samples_split=2, n_estimators=200; total time=   0.1s\n",
      "[CV] END bootstrap=False, max_depth=25, min_samples_leaf=2, min_samples_split=2, n_estimators=200; total time=   0.3s\n",
      "[CV] END bootstrap=False, max_depth=25, min_samples_leaf=2, min_samples_split=2, n_estimators=200; total time=   0.2s\n",
      "[CV] END bootstrap=False, max_depth=25, min_samples_leaf=1, min_samples_split=10, n_estimators=1000; total time=   0.8s\n",
      "[CV] END bootstrap=False, max_depth=25, min_samples_leaf=1, min_samples_split=10, n_estimators=1000; total time=   0.8s\n",
      "[CV] END bootstrap=False, max_depth=25, min_samples_leaf=1, min_samples_split=10, n_estimators=1000; total time=   0.8s\n",
      "[CV] END bootstrap=False, max_depth=25, min_samples_leaf=2, min_samples_split=2, n_estimators=200; total time=   0.2s\n",
      "[CV] END bootstrap=False, max_depth=25, min_samples_leaf=2, min_samples_split=2, n_estimators=200; total time=   0.3s\n",
      "[CV] END bootstrap=False, max_depth=25, min_samples_leaf=1, min_samples_split=10, n_estimators=1000; total time=   0.9s\n",
      "[CV] END bootstrap=False, max_depth=25, min_samples_leaf=1, min_samples_split=10, n_estimators=1000; total time=   0.8s\n",
      "[CV] END bootstrap=False, max_depth=25, min_samples_leaf=2, min_samples_split=2, n_estimators=500; total time=   0.4s\n",
      "[CV] END bootstrap=False, max_depth=25, min_samples_leaf=2, min_samples_split=5, n_estimators=100; total time=   0.1s\n",
      "[CV] END bootstrap=False, max_depth=25, min_samples_leaf=2, min_samples_split=5, n_estimators=100; total time=   0.1s\n",
      "[CV] END bootstrap=False, max_depth=25, min_samples_leaf=2, min_samples_split=2, n_estimators=500; total time=   0.4s\n",
      "[CV] END bootstrap=False, max_depth=25, min_samples_leaf=2, min_samples_split=2, n_estimators=500; total time=   0.5s\n",
      "[CV] END bootstrap=False, max_depth=25, min_samples_leaf=2, min_samples_split=2, n_estimators=500; total time=   0.4s\n",
      "[CV] END bootstrap=False, max_depth=25, min_samples_leaf=2, min_samples_split=2, n_estimators=500; total time=   0.5s\n",
      "[CV] END bootstrap=False, max_depth=25, min_samples_leaf=2, min_samples_split=5, n_estimators=100; total time=   0.1s\n",
      "[CV] END bootstrap=False, max_depth=25, min_samples_leaf=2, min_samples_split=5, n_estimators=100; total time=   0.1s\n",
      "[CV] END bootstrap=False, max_depth=25, min_samples_leaf=2, min_samples_split=5, n_estimators=100; total time=   0.1s\n",
      "[CV] END bootstrap=False, max_depth=25, min_samples_leaf=2, min_samples_split=5, n_estimators=200; total time=   0.2s\n",
      "[CV] END bootstrap=False, max_depth=25, min_samples_leaf=2, min_samples_split=5, n_estimators=200; total time=   0.2s\n",
      "[CV] END bootstrap=False, max_depth=25, min_samples_leaf=2, min_samples_split=5, n_estimators=200; total time=   0.2s\n",
      "[CV] END bootstrap=False, max_depth=25, min_samples_leaf=2, min_samples_split=5, n_estimators=200; total time=   0.3s\n",
      "[CV] END bootstrap=False, max_depth=25, min_samples_leaf=2, min_samples_split=5, n_estimators=200; total time=   0.2s\n",
      "[CV] END bootstrap=False, max_depth=25, min_samples_leaf=2, min_samples_split=2, n_estimators=1000; total time=   0.8s\n",
      "[CV] END bootstrap=False, max_depth=25, min_samples_leaf=2, min_samples_split=2, n_estimators=1000; total time=   0.8s\n",
      "[CV] END bootstrap=False, max_depth=25, min_samples_leaf=2, min_samples_split=2, n_estimators=1000; total time=   0.8s\n",
      "[CV] END bootstrap=False, max_depth=25, min_samples_leaf=2, min_samples_split=5, n_estimators=500; total time=   0.4s\n",
      "[CV] END bootstrap=False, max_depth=25, min_samples_leaf=2, min_samples_split=5, n_estimators=500; total time=   0.4s\n",
      "[CV] END bootstrap=False, max_depth=25, min_samples_leaf=2, min_samples_split=5, n_estimators=500; total time=   0.4s\n",
      "[CV] END bootstrap=False, max_depth=25, min_samples_leaf=2, min_samples_split=10, n_estimators=100; total time=   0.1s\n",
      "[CV] END bootstrap=False, max_depth=25, min_samples_leaf=2, min_samples_split=2, n_estimators=1000; total time=   1.1s\n",
      "[CV] END bootstrap=False, max_depth=25, min_samples_leaf=2, min_samples_split=10, n_estimators=100; total time=   0.1s\n",
      "[CV] END bootstrap=False, max_depth=25, min_samples_leaf=2, min_samples_split=10, n_estimators=100; total time=   0.1s\n",
      "[CV] END bootstrap=False, max_depth=25, min_samples_leaf=2, min_samples_split=10, n_estimators=100; total time=   0.2s\n",
      "[CV] END bootstrap=False, max_depth=25, min_samples_leaf=2, min_samples_split=5, n_estimators=500; total time=   0.6s\n",
      "[CV] END bootstrap=False, max_depth=25, min_samples_leaf=2, min_samples_split=2, n_estimators=1000; total time=   1.4s\n",
      "[CV] END bootstrap=False, max_depth=25, min_samples_leaf=2, min_samples_split=10, n_estimators=100; total time=   0.1s\n",
      "[CV] END bootstrap=False, max_depth=25, min_samples_leaf=2, min_samples_split=5, n_estimators=500; total time=   0.7s\n",
      "[CV] END bootstrap=False, max_depth=25, min_samples_leaf=2, min_samples_split=10, n_estimators=200; total time=   0.2s\n",
      "[CV] END bootstrap=False, max_depth=25, min_samples_leaf=2, min_samples_split=10, n_estimators=200; total time=   0.2s\n",
      "[CV] END bootstrap=False, max_depth=25, min_samples_leaf=2, min_samples_split=5, n_estimators=1000; total time=   0.8s\n",
      "[CV] END bootstrap=False, max_depth=25, min_samples_leaf=2, min_samples_split=10, n_estimators=200; total time=   0.2s\n",
      "[CV] END bootstrap=False, max_depth=25, min_samples_leaf=2, min_samples_split=10, n_estimators=200; total time=   0.2s\n",
      "[CV] END bootstrap=False, max_depth=25, min_samples_leaf=2, min_samples_split=5, n_estimators=1000; total time=   0.8s\n",
      "[CV] END bootstrap=False, max_depth=25, min_samples_leaf=2, min_samples_split=5, n_estimators=1000; total time=   0.9s\n",
      "[CV] END bootstrap=False, max_depth=25, min_samples_leaf=2, min_samples_split=10, n_estimators=200; total time=   0.3s\n",
      "[CV] END bootstrap=False, max_depth=25, min_samples_leaf=2, min_samples_split=5, n_estimators=1000; total time=   0.8s\n",
      "[CV] END bootstrap=False, max_depth=25, min_samples_leaf=2, min_samples_split=5, n_estimators=1000; total time=   0.8s\n",
      "[CV] END bootstrap=False, max_depth=25, min_samples_leaf=2, min_samples_split=10, n_estimators=500; total time=   0.4s\n",
      "[CV] END bootstrap=False, max_depth=25, min_samples_leaf=2, min_samples_split=10, n_estimators=500; total time=   0.4s\n",
      "[CV] END bootstrap=False, max_depth=25, min_samples_leaf=4, min_samples_split=2, n_estimators=100; total time=   0.1s\n",
      "[CV] END bootstrap=False, max_depth=25, min_samples_leaf=4, min_samples_split=2, n_estimators=100; total time=   0.1s\n",
      "[CV] END bootstrap=False, max_depth=25, min_samples_leaf=4, min_samples_split=2, n_estimators=100; total time=   0.1s\n",
      "[CV] END bootstrap=False, max_depth=25, min_samples_leaf=4, min_samples_split=2, n_estimators=100; total time=   0.1s\n",
      "[CV] END bootstrap=False, max_depth=25, min_samples_leaf=2, min_samples_split=10, n_estimators=500; total time=   0.6s\n",
      "[CV] END bootstrap=False, max_depth=25, min_samples_leaf=2, min_samples_split=10, n_estimators=500; total time=   0.5s\n",
      "[CV] END bootstrap=False, max_depth=25, min_samples_leaf=4, min_samples_split=2, n_estimators=100; total time=   0.1s\n",
      "[CV] END bootstrap=False, max_depth=25, min_samples_leaf=2, min_samples_split=10, n_estimators=500; total time=   0.6s\n",
      "[CV] END bootstrap=False, max_depth=25, min_samples_leaf=4, min_samples_split=2, n_estimators=200; total time=   0.2s\n",
      "[CV] END bootstrap=False, max_depth=25, min_samples_leaf=4, min_samples_split=2, n_estimators=200; total time=   0.2s\n",
      "[CV] END bootstrap=False, max_depth=25, min_samples_leaf=4, min_samples_split=2, n_estimators=200; total time=   0.2s\n",
      "[CV] END bootstrap=False, max_depth=25, min_samples_leaf=4, min_samples_split=2, n_estimators=200; total time=   0.2s\n",
      "[CV] END bootstrap=False, max_depth=25, min_samples_leaf=4, min_samples_split=2, n_estimators=200; total time=   0.3s\n",
      "[CV] END bootstrap=False, max_depth=25, min_samples_leaf=2, min_samples_split=10, n_estimators=1000; total time=   0.8s\n",
      "[CV] END bootstrap=False, max_depth=25, min_samples_leaf=2, min_samples_split=10, n_estimators=1000; total time=   0.8s\n",
      "[CV] END bootstrap=False, max_depth=25, min_samples_leaf=2, min_samples_split=10, n_estimators=1000; total time=   0.8s\n",
      "[CV] END bootstrap=False, max_depth=25, min_samples_leaf=2, min_samples_split=10, n_estimators=1000; total time=   0.9s\n",
      "[CV] END bootstrap=False, max_depth=25, min_samples_leaf=4, min_samples_split=2, n_estimators=500; total time=   0.4s\n",
      "[CV] END bootstrap=False, max_depth=25, min_samples_leaf=4, min_samples_split=2, n_estimators=500; total time=   0.5s\n",
      "[CV] END bootstrap=False, max_depth=25, min_samples_leaf=4, min_samples_split=5, n_estimators=100; total time=   0.1s\n",
      "[CV] END bootstrap=False, max_depth=25, min_samples_leaf=2, min_samples_split=10, n_estimators=1000; total time=   1.2s\n",
      "[CV] END bootstrap=False, max_depth=25, min_samples_leaf=4, min_samples_split=5, n_estimators=100; total time=   0.1s\n",
      "[CV] END bootstrap=False, max_depth=25, min_samples_leaf=4, min_samples_split=2, n_estimators=500; total time=   0.6s\n",
      "[CV] END bootstrap=False, max_depth=25, min_samples_leaf=4, min_samples_split=2, n_estimators=500; total time=   0.6s\n",
      "[CV] END bootstrap=False, max_depth=25, min_samples_leaf=4, min_samples_split=5, n_estimators=100; total time=   0.1s\n",
      "[CV] END bootstrap=False, max_depth=25, min_samples_leaf=4, min_samples_split=5, n_estimators=100; total time=   0.1s\n",
      "[CV] END bootstrap=False, max_depth=25, min_samples_leaf=4, min_samples_split=2, n_estimators=500; total time=   0.6s\n",
      "[CV] END bootstrap=False, max_depth=25, min_samples_leaf=4, min_samples_split=5, n_estimators=100; total time=   0.2s\n",
      "[CV] END bootstrap=False, max_depth=25, min_samples_leaf=4, min_samples_split=5, n_estimators=200; total time=   0.2s\n",
      "[CV] END bootstrap=False, max_depth=25, min_samples_leaf=4, min_samples_split=5, n_estimators=200; total time=   0.3s\n",
      "[CV] END bootstrap=False, max_depth=25, min_samples_leaf=4, min_samples_split=5, n_estimators=200; total time=   0.3s\n",
      "[CV] END bootstrap=False, max_depth=25, min_samples_leaf=4, min_samples_split=2, n_estimators=1000; total time=   0.8s\n",
      "[CV] END bootstrap=False, max_depth=25, min_samples_leaf=4, min_samples_split=5, n_estimators=200; total time=   0.3s\n",
      "[CV] END bootstrap=False, max_depth=25, min_samples_leaf=4, min_samples_split=2, n_estimators=1000; total time=   0.8s\n",
      "[CV] END bootstrap=False, max_depth=25, min_samples_leaf=4, min_samples_split=5, n_estimators=200; total time=   0.3s\n",
      "[CV] END bootstrap=False, max_depth=25, min_samples_leaf=4, min_samples_split=2, n_estimators=1000; total time=   0.8s\n",
      "[CV] END bootstrap=False, max_depth=25, min_samples_leaf=4, min_samples_split=2, n_estimators=1000; total time=   0.8s\n",
      "[CV] END bootstrap=False, max_depth=25, min_samples_leaf=4, min_samples_split=2, n_estimators=1000; total time=   0.8s\n",
      "[CV] END bootstrap=False, max_depth=25, min_samples_leaf=4, min_samples_split=5, n_estimators=500; total time=   0.4s\n",
      "[CV] END bootstrap=False, max_depth=25, min_samples_leaf=4, min_samples_split=10, n_estimators=100; total time=   0.1s\n",
      "[CV] END bootstrap=False, max_depth=25, min_samples_leaf=4, min_samples_split=5, n_estimators=500; total time=   0.5s\n",
      "[CV] END bootstrap=False, max_depth=25, min_samples_leaf=4, min_samples_split=10, n_estimators=100; total time=   0.1s\n",
      "[CV] END bootstrap=False, max_depth=25, min_samples_leaf=4, min_samples_split=5, n_estimators=500; total time=   0.4s\n",
      "[CV] END bootstrap=False, max_depth=25, min_samples_leaf=4, min_samples_split=10, n_estimators=100; total time=   0.1s\n",
      "[CV] END bootstrap=False, max_depth=25, min_samples_leaf=4, min_samples_split=10, n_estimators=100; total time=   0.1s\n",
      "[CV] END bootstrap=False, max_depth=25, min_samples_leaf=4, min_samples_split=10, n_estimators=100; total time=   0.1s\n",
      "[CV] END bootstrap=False, max_depth=25, min_samples_leaf=4, min_samples_split=5, n_estimators=500; total time=   0.6s\n",
      "[CV] END bootstrap=False, max_depth=25, min_samples_leaf=4, min_samples_split=10, n_estimators=200; total time=   0.2s\n",
      "[CV] END bootstrap=False, max_depth=25, min_samples_leaf=4, min_samples_split=10, n_estimators=200; total time=   0.2s\n",
      "[CV] END bootstrap=False, max_depth=25, min_samples_leaf=4, min_samples_split=10, n_estimators=200; total time=   0.2s\n",
      "[CV] END bootstrap=False, max_depth=25, min_samples_leaf=4, min_samples_split=10, n_estimators=200; total time=   0.2s\n",
      "[CV] END bootstrap=False, max_depth=25, min_samples_leaf=4, min_samples_split=5, n_estimators=500; total time=   0.8s\n",
      "[CV] END bootstrap=False, max_depth=25, min_samples_leaf=4, min_samples_split=5, n_estimators=1000; total time=   0.8s\n",
      "[CV] END bootstrap=False, max_depth=25, min_samples_leaf=4, min_samples_split=5, n_estimators=1000; total time=   0.8s\n",
      "[CV] END bootstrap=False, max_depth=25, min_samples_leaf=4, min_samples_split=5, n_estimators=1000; total time=   0.8s\n",
      "[CV] END bootstrap=False, max_depth=25, min_samples_leaf=4, min_samples_split=10, n_estimators=200; total time=   0.2s\n",
      "[CV] END bootstrap=False, max_depth=25, min_samples_leaf=4, min_samples_split=5, n_estimators=1000; total time=   0.9s\n",
      "[CV] END bootstrap=False, max_depth=25, min_samples_leaf=4, min_samples_split=5, n_estimators=1000; total time=   1.1s\n",
      "[CV] END bootstrap=False, max_depth=25, min_samples_leaf=4, min_samples_split=10, n_estimators=500; total time=   0.4s\n",
      "[CV] END bootstrap=False, max_depth=25, min_samples_leaf=4, min_samples_split=10, n_estimators=500; total time=   0.4s\n",
      "[CV] END bootstrap=False, max_depth=25, min_samples_leaf=4, min_samples_split=10, n_estimators=500; total time=   0.4s\n",
      "[CV] END bootstrap=False, max_depth=25, min_samples_leaf=4, min_samples_split=10, n_estimators=500; total time=   0.5s\n",
      "[CV] END bootstrap=False, max_depth=25, min_samples_leaf=4, min_samples_split=10, n_estimators=500; total time=   0.6s\n",
      "[CV] END bootstrap=False, max_depth=25, min_samples_leaf=4, min_samples_split=10, n_estimators=1000; total time=   0.7s\n",
      "[CV] END bootstrap=False, max_depth=25, min_samples_leaf=4, min_samples_split=10, n_estimators=1000; total time=   0.7s\n",
      "[CV] END bootstrap=False, max_depth=25, min_samples_leaf=4, min_samples_split=10, n_estimators=1000; total time=   0.7s\n",
      "[CV] END bootstrap=False, max_depth=25, min_samples_leaf=4, min_samples_split=10, n_estimators=1000; total time=   0.7s\n",
      "[CV] END bootstrap=False, max_depth=25, min_samples_leaf=4, min_samples_split=10, n_estimators=1000; total time=   0.7s\n",
      "Best parameters found: {'bootstrap': True, 'max_depth': 20, 'min_samples_leaf': 4, 'min_samples_split': 10, 'n_estimators': 1000}\n",
      "Best cross-validation accuracy: 0.6413114754098361\n",
      "Validation accuracy on 2023-2024 data: 65.00%\n"
     ]
    }
   ],
   "source": [
    "from sklearn.ensemble import RandomForestClassifier\n",
    "from sklearn.model_selection import GridSearchCV, train_test_split\n",
    "from sklearn.preprocessing import StandardScaler\n",
    "\n",
    "# For simplicity, let\"s predict the home outcome based on Elo ratings\n",
    "x = df[[\"Home Elo\", \"Away Elo\"]]\n",
    "y = df[\"Home Outcome\"]\n",
    "\n",
    "# Split data into training and validation sets\n",
    "x_train, x_val, y_train, y_val = train_test_split(x, y, test_size=0.2)\n",
    "\n",
    "# Standardize the features\n",
    "scaler = StandardScaler()\n",
    "x_train = scaler.fit_transform(x_train)\n",
    "x_val = scaler.transform(x_val)\n",
    "\n",
    "# Define the parameter grid for Random Forest\n",
    "# Current parameters: n_estimators=1000, max_depth=5, min_samples_split=5\n",
    "param_grid_rf = {\n",
    "    'n_estimators': [100, 200, 500, 1000],\n",
    "    'max_depth': [None, 5, 10, 15, 20, 25],\n",
    "    'min_samples_split': [2, 5, 10],\n",
    "    'min_samples_leaf': [1, 2, 4],\n",
    "    'bootstrap': [True, False]\n",
    "}\n",
    "\n",
    "# Initialize the model\n",
    "rf = RandomForestClassifier()\n",
    "\n",
    "# Initialize GridSearchCV with 5-fold cross-validation\n",
    "grid_search = GridSearchCV(estimator=rf, param_grid=param_grid_rf, cv=5, n_jobs=-1, scoring='accuracy')\n",
    "\n",
    "# Perform the grid search\n",
    "grid_search.fit(x_train, y_train)\n",
    "\n",
    "# Extract best parameters and model\n",
    "print(f\"Best parameters found: {grid_search.best_params_}\")\n",
    "print(f\"Best cross-validation accuracy: {grid_search.best_score_}\")\n",
    "\n",
    "best_rf = grid_search.best_estimator_\n",
    "\n",
    "# Cross-validate the model against 2023-2024 season\n",
    "x_2023 = df_2023[[\"Home Elo\", \"Away Elo\"]]\n",
    "y_2023 = df_2023[\"Home Outcome\"]\n",
    "\n",
    "# Standardize the features\n",
    "x_2023 = scaler.transform(x_2023)\n",
    "\n",
    "# Validate the model\n",
    "val_score_2023 = best_rf.score(x_2023, y_2023)\n",
    "print(f\"Validation accuracy on 2023-2024 data: {val_score_2023 * 100:.2f}%\")"
   ]
  },
  {
   "cell_type": "markdown",
   "metadata": {},
   "source": [
    "### Build Elo"
   ]
  },
  {
   "cell_type": "code",
   "execution_count": 10,
   "metadata": {},
   "outputs": [
    {
     "data": {
      "text/html": [
       "<div>\n",
       "<style scoped>\n",
       "    .dataframe tbody tr th:only-of-type {\n",
       "        vertical-align: middle;\n",
       "    }\n",
       "\n",
       "    .dataframe tbody tr th {\n",
       "        vertical-align: top;\n",
       "    }\n",
       "\n",
       "    .dataframe thead th {\n",
       "        text-align: right;\n",
       "    }\n",
       "</style>\n",
       "<table border=\"1\" class=\"dataframe\">\n",
       "  <thead>\n",
       "    <tr style=\"text-align: right;\">\n",
       "      <th></th>\n",
       "      <th>Elo</th>\n",
       "      <th>Club Value</th>\n",
       "      <th>Normalized Club Value</th>\n",
       "      <th>Exponential Club Value</th>\n",
       "      <th>Normalized Exponential Club Value</th>\n",
       "      <th>Adjusted Elo</th>\n",
       "    </tr>\n",
       "    <tr>\n",
       "      <th>Team</th>\n",
       "      <th></th>\n",
       "      <th></th>\n",
       "      <th></th>\n",
       "      <th></th>\n",
       "      <th></th>\n",
       "      <th></th>\n",
       "    </tr>\n",
       "  </thead>\n",
       "  <tbody>\n",
       "    <tr>\n",
       "      <th>Manchester City FC</th>\n",
       "      <td>1673.028801</td>\n",
       "      <td>1.320000e+09</td>\n",
       "      <td>1.000000</td>\n",
       "      <td>1.718282</td>\n",
       "      <td>1.000000</td>\n",
       "      <td>1973.028801</td>\n",
       "    </tr>\n",
       "    <tr>\n",
       "      <th>Arsenal FC</th>\n",
       "      <td>1580.854111</td>\n",
       "      <td>1.160000e+09</td>\n",
       "      <td>0.867159</td>\n",
       "      <td>1.380140</td>\n",
       "      <td>0.803209</td>\n",
       "      <td>1821.816900</td>\n",
       "    </tr>\n",
       "    <tr>\n",
       "      <th>Liverpool FC</th>\n",
       "      <td>1614.600993</td>\n",
       "      <td>9.419000e+08</td>\n",
       "      <td>0.686081</td>\n",
       "      <td>0.985917</td>\n",
       "      <td>0.573781</td>\n",
       "      <td>1786.735216</td>\n",
       "    </tr>\n",
       "    <tr>\n",
       "      <th>Manchester United FC</th>\n",
       "      <td>1597.638306</td>\n",
       "      <td>7.246500e+08</td>\n",
       "      <td>0.505708</td>\n",
       "      <td>0.658159</td>\n",
       "      <td>0.383033</td>\n",
       "      <td>1712.548282</td>\n",
       "    </tr>\n",
       "    <tr>\n",
       "      <th>Newcastle United FC</th>\n",
       "      <td>1587.050468</td>\n",
       "      <td>6.489500e+08</td>\n",
       "      <td>0.442858</td>\n",
       "      <td>0.557151</td>\n",
       "      <td>0.324249</td>\n",
       "      <td>1684.325103</td>\n",
       "    </tr>\n",
       "    <tr>\n",
       "      <th>Aston Villa FC</th>\n",
       "      <td>1584.879318</td>\n",
       "      <td>6.556000e+08</td>\n",
       "      <td>0.448379</td>\n",
       "      <td>0.565772</td>\n",
       "      <td>0.329266</td>\n",
       "      <td>1683.659138</td>\n",
       "    </tr>\n",
       "    <tr>\n",
       "      <th>Tottenham Hotspur FC</th>\n",
       "      <td>1505.378092</td>\n",
       "      <td>7.933000e+08</td>\n",
       "      <td>0.562705</td>\n",
       "      <td>0.755414</td>\n",
       "      <td>0.439634</td>\n",
       "      <td>1637.268172</td>\n",
       "    </tr>\n",
       "    <tr>\n",
       "      <th>Chelsea FC</th>\n",
       "      <td>1459.215136</td>\n",
       "      <td>9.460000e+08</td>\n",
       "      <td>0.689485</td>\n",
       "      <td>0.992689</td>\n",
       "      <td>0.577722</td>\n",
       "      <td>1632.531645</td>\n",
       "    </tr>\n",
       "    <tr>\n",
       "      <th>Brighton &amp; Hove Albion FC</th>\n",
       "      <td>1553.172568</td>\n",
       "      <td>5.117500e+08</td>\n",
       "      <td>0.328947</td>\n",
       "      <td>0.389504</td>\n",
       "      <td>0.226682</td>\n",
       "      <td>1621.177239</td>\n",
       "    </tr>\n",
       "    <tr>\n",
       "      <th>Brentford FC</th>\n",
       "      <td>1571.362628</td>\n",
       "      <td>4.148800e+08</td>\n",
       "      <td>0.248520</td>\n",
       "      <td>0.282127</td>\n",
       "      <td>0.164191</td>\n",
       "      <td>1620.619954</td>\n",
       "    </tr>\n",
       "    <tr>\n",
       "      <th>Crystal Palace FC</th>\n",
       "      <td>1512.132873</td>\n",
       "      <td>4.417000e+08</td>\n",
       "      <td>0.270787</td>\n",
       "      <td>0.310996</td>\n",
       "      <td>0.180993</td>\n",
       "      <td>1566.430679</td>\n",
       "    </tr>\n",
       "    <tr>\n",
       "      <th>West Ham United FC</th>\n",
       "      <td>1496.492909</td>\n",
       "      <td>4.396000e+08</td>\n",
       "      <td>0.269044</td>\n",
       "      <td>0.308713</td>\n",
       "      <td>0.179664</td>\n",
       "      <td>1550.391985</td>\n",
       "    </tr>\n",
       "    <tr>\n",
       "      <th>Fulham FC</th>\n",
       "      <td>1507.056668</td>\n",
       "      <td>3.243000e+08</td>\n",
       "      <td>0.173316</td>\n",
       "      <td>0.189241</td>\n",
       "      <td>0.110134</td>\n",
       "      <td>1540.096893</td>\n",
       "    </tr>\n",
       "    <tr>\n",
       "      <th>Nottingham Forest FC</th>\n",
       "      <td>1490.806025</td>\n",
       "      <td>3.872500e+08</td>\n",
       "      <td>0.225580</td>\n",
       "      <td>0.253049</td>\n",
       "      <td>0.147269</td>\n",
       "      <td>1534.986691</td>\n",
       "    </tr>\n",
       "    <tr>\n",
       "      <th>Wolverhampton Wanderers FC</th>\n",
       "      <td>1491.796708</td>\n",
       "      <td>3.498000e+08</td>\n",
       "      <td>0.194487</td>\n",
       "      <td>0.214688</td>\n",
       "      <td>0.124943</td>\n",
       "      <td>1529.279702</td>\n",
       "    </tr>\n",
       "    <tr>\n",
       "      <th>Everton FC</th>\n",
       "      <td>1484.649580</td>\n",
       "      <td>3.314000e+08</td>\n",
       "      <td>0.179210</td>\n",
       "      <td>0.196272</td>\n",
       "      <td>0.114226</td>\n",
       "      <td>1518.917378</td>\n",
       "    </tr>\n",
       "    <tr>\n",
       "      <th>AFC Bournemouth</th>\n",
       "      <td>1461.991338</td>\n",
       "      <td>3.844500e+08</td>\n",
       "      <td>0.223255</td>\n",
       "      <td>0.250140</td>\n",
       "      <td>0.145576</td>\n",
       "      <td>1505.664008</td>\n",
       "    </tr>\n",
       "    <tr>\n",
       "      <th>Burnley FC</th>\n",
       "      <td>1450.952038</td>\n",
       "      <td>2.574300e+08</td>\n",
       "      <td>0.117797</td>\n",
       "      <td>0.125015</td>\n",
       "      <td>0.072756</td>\n",
       "      <td>1472.778810</td>\n",
       "    </tr>\n",
       "    <tr>\n",
       "      <th>Sheffield United FC</th>\n",
       "      <td>1450.952038</td>\n",
       "      <td>1.220000e+08</td>\n",
       "      <td>0.005355</td>\n",
       "      <td>0.005370</td>\n",
       "      <td>0.003125</td>\n",
       "      <td>1451.889516</td>\n",
       "    </tr>\n",
       "    <tr>\n",
       "      <th>Luton Town FC</th>\n",
       "      <td>1450.952038</td>\n",
       "      <td>1.155500e+08</td>\n",
       "      <td>0.000000</td>\n",
       "      <td>0.000000</td>\n",
       "      <td>0.000000</td>\n",
       "      <td>1450.952038</td>\n",
       "    </tr>\n",
       "  </tbody>\n",
       "</table>\n",
       "</div>"
      ],
      "text/plain": [
       "                                    Elo    Club Value  Normalized Club Value  \\\n",
       "Team                                                                           \n",
       "Manchester City FC          1673.028801  1.320000e+09               1.000000   \n",
       "Arsenal FC                  1580.854111  1.160000e+09               0.867159   \n",
       "Liverpool FC                1614.600993  9.419000e+08               0.686081   \n",
       "Manchester United FC        1597.638306  7.246500e+08               0.505708   \n",
       "Newcastle United FC         1587.050468  6.489500e+08               0.442858   \n",
       "Aston Villa FC              1584.879318  6.556000e+08               0.448379   \n",
       "Tottenham Hotspur FC        1505.378092  7.933000e+08               0.562705   \n",
       "Chelsea FC                  1459.215136  9.460000e+08               0.689485   \n",
       "Brighton & Hove Albion FC   1553.172568  5.117500e+08               0.328947   \n",
       "Brentford FC                1571.362628  4.148800e+08               0.248520   \n",
       "Crystal Palace FC           1512.132873  4.417000e+08               0.270787   \n",
       "West Ham United FC          1496.492909  4.396000e+08               0.269044   \n",
       "Fulham FC                   1507.056668  3.243000e+08               0.173316   \n",
       "Nottingham Forest FC        1490.806025  3.872500e+08               0.225580   \n",
       "Wolverhampton Wanderers FC  1491.796708  3.498000e+08               0.194487   \n",
       "Everton FC                  1484.649580  3.314000e+08               0.179210   \n",
       "AFC Bournemouth             1461.991338  3.844500e+08               0.223255   \n",
       "Burnley FC                  1450.952038  2.574300e+08               0.117797   \n",
       "Sheffield United FC         1450.952038  1.220000e+08               0.005355   \n",
       "Luton Town FC               1450.952038  1.155500e+08               0.000000   \n",
       "\n",
       "                            Exponential Club Value  \\\n",
       "Team                                                 \n",
       "Manchester City FC                        1.718282   \n",
       "Arsenal FC                                1.380140   \n",
       "Liverpool FC                              0.985917   \n",
       "Manchester United FC                      0.658159   \n",
       "Newcastle United FC                       0.557151   \n",
       "Aston Villa FC                            0.565772   \n",
       "Tottenham Hotspur FC                      0.755414   \n",
       "Chelsea FC                                0.992689   \n",
       "Brighton & Hove Albion FC                 0.389504   \n",
       "Brentford FC                              0.282127   \n",
       "Crystal Palace FC                         0.310996   \n",
       "West Ham United FC                        0.308713   \n",
       "Fulham FC                                 0.189241   \n",
       "Nottingham Forest FC                      0.253049   \n",
       "Wolverhampton Wanderers FC                0.214688   \n",
       "Everton FC                                0.196272   \n",
       "AFC Bournemouth                           0.250140   \n",
       "Burnley FC                                0.125015   \n",
       "Sheffield United FC                       0.005370   \n",
       "Luton Town FC                             0.000000   \n",
       "\n",
       "                            Normalized Exponential Club Value  Adjusted Elo  \n",
       "Team                                                                         \n",
       "Manchester City FC                                   1.000000   1973.028801  \n",
       "Arsenal FC                                           0.803209   1821.816900  \n",
       "Liverpool FC                                         0.573781   1786.735216  \n",
       "Manchester United FC                                 0.383033   1712.548282  \n",
       "Newcastle United FC                                  0.324249   1684.325103  \n",
       "Aston Villa FC                                       0.329266   1683.659138  \n",
       "Tottenham Hotspur FC                                 0.439634   1637.268172  \n",
       "Chelsea FC                                           0.577722   1632.531645  \n",
       "Brighton & Hove Albion FC                            0.226682   1621.177239  \n",
       "Brentford FC                                         0.164191   1620.619954  \n",
       "Crystal Palace FC                                    0.180993   1566.430679  \n",
       "West Ham United FC                                   0.179664   1550.391985  \n",
       "Fulham FC                                            0.110134   1540.096893  \n",
       "Nottingham Forest FC                                 0.147269   1534.986691  \n",
       "Wolverhampton Wanderers FC                           0.124943   1529.279702  \n",
       "Everton FC                                           0.114226   1518.917378  \n",
       "AFC Bournemouth                                      0.145576   1505.664008  \n",
       "Burnley FC                                           0.072756   1472.778810  \n",
       "Sheffield United FC                                  0.003125   1451.889516  \n",
       "Luton Town FC                                        0.000000   1450.952038  "
      ]
     },
     "execution_count": 10,
     "metadata": {},
     "output_type": "execute_result"
    }
   ],
   "source": [
    "elo_df = build_elo_between_seasons(df, df_2023, club_value_adjustment_factor)\n",
    "elo_df"
   ]
  },
  {
   "cell_type": "markdown",
   "metadata": {},
   "source": [
    "## Test Against 2023-2024 Season"
   ]
  },
  {
   "cell_type": "markdown",
   "metadata": {},
   "source": [
    "### Predict 2023-2024 Season"
   ]
  },
  {
   "cell_type": "code",
   "execution_count": 11,
   "metadata": {},
   "outputs": [
    {
     "name": "stderr",
     "output_type": "stream",
     "text": [
      "Simulating: 100%|██████████| 100/100 [03:49<00:00,  2.29s/season]\n"
     ]
    }
   ],
   "source": [
    "from concurrent.futures import ProcessPoolExecutor\n",
    "from tqdm import tqdm\n",
    "from functools import partial\n",
    "\n",
    "from simulation_utils import simulate_and_get_results\n",
    "\n",
    "# Get the model\n",
    "model = best_rf\n",
    "\n",
    "# Get adjusted Elo dict\n",
    "adjusted_elo = get_elo_dict_from_df(elo_df)\n",
    "\n",
    "# Number of simulations to run\n",
    "num_simulations = 100\n",
    "\n",
    "# Initialize a list to store results\n",
    "seasons = []\n",
    "\n",
    "# Create a partial function to pass the same arguments to each simulation\n",
    "simulate_and_get_results_partial = partial(simulate_and_get_results, df=df_2023, elo=adjusted_elo, model=model, scaler=scaler, k=k, half_life=decay_half_life, decay_method=decay_method)\n",
    "\n",
    "# Initialize a pool of workers\n",
    "with ProcessPoolExecutor() as executor:\n",
    "    seasons = list(tqdm(executor.map(simulate_and_get_results_partial, range(num_simulations)),  total=num_simulations, desc='Simulating', unit='season'))"
   ]
  },
  {
   "cell_type": "markdown",
   "metadata": {},
   "source": [
    "### Analyze Results Compared to actual 2023-2024 Season"
   ]
  },
  {
   "cell_type": "markdown",
   "metadata": {},
   "source": [
    "### Post Process Simulation Results"
   ]
  },
  {
   "cell_type": "code",
   "execution_count": 12,
   "metadata": {},
   "outputs": [
    {
     "data": {
      "text/html": [
       "<div>\n",
       "<style scoped>\n",
       "    .dataframe tbody tr th:only-of-type {\n",
       "        vertical-align: middle;\n",
       "    }\n",
       "\n",
       "    .dataframe tbody tr th {\n",
       "        vertical-align: top;\n",
       "    }\n",
       "\n",
       "    .dataframe thead th {\n",
       "        text-align: right;\n",
       "    }\n",
       "</style>\n",
       "<table border=\"1\" class=\"dataframe\">\n",
       "  <thead>\n",
       "    <tr style=\"text-align: right;\">\n",
       "      <th></th>\n",
       "      <th>Place</th>\n",
       "      <th>Win Premier League</th>\n",
       "      <th>Top 4</th>\n",
       "      <th>Bottom 3</th>\n",
       "    </tr>\n",
       "    <tr>\n",
       "      <th>Team</th>\n",
       "      <th></th>\n",
       "      <th></th>\n",
       "      <th></th>\n",
       "      <th></th>\n",
       "    </tr>\n",
       "  </thead>\n",
       "  <tbody>\n",
       "    <tr>\n",
       "      <th>Arsenal FC</th>\n",
       "      <td>2.83</td>\n",
       "      <td>0.28</td>\n",
       "      <td>0.82</td>\n",
       "      <td>0.00</td>\n",
       "    </tr>\n",
       "    <tr>\n",
       "      <th>Manchester City FC</th>\n",
       "      <td>2.86</td>\n",
       "      <td>0.27</td>\n",
       "      <td>0.82</td>\n",
       "      <td>0.00</td>\n",
       "    </tr>\n",
       "    <tr>\n",
       "      <th>Liverpool FC</th>\n",
       "      <td>3.83</td>\n",
       "      <td>0.13</td>\n",
       "      <td>0.65</td>\n",
       "      <td>0.00</td>\n",
       "    </tr>\n",
       "    <tr>\n",
       "      <th>Manchester United FC</th>\n",
       "      <td>4.41</td>\n",
       "      <td>0.13</td>\n",
       "      <td>0.55</td>\n",
       "      <td>0.00</td>\n",
       "    </tr>\n",
       "    <tr>\n",
       "      <th>Aston Villa FC</th>\n",
       "      <td>5.64</td>\n",
       "      <td>0.07</td>\n",
       "      <td>0.38</td>\n",
       "      <td>0.00</td>\n",
       "    </tr>\n",
       "    <tr>\n",
       "      <th>Newcastle United FC</th>\n",
       "      <td>5.88</td>\n",
       "      <td>0.09</td>\n",
       "      <td>0.30</td>\n",
       "      <td>0.00</td>\n",
       "    </tr>\n",
       "    <tr>\n",
       "      <th>Chelsea FC</th>\n",
       "      <td>7.93</td>\n",
       "      <td>0.02</td>\n",
       "      <td>0.08</td>\n",
       "      <td>0.00</td>\n",
       "    </tr>\n",
       "    <tr>\n",
       "      <th>Tottenham Hotspur FC</th>\n",
       "      <td>7.97</td>\n",
       "      <td>0.00</td>\n",
       "      <td>0.20</td>\n",
       "      <td>0.01</td>\n",
       "    </tr>\n",
       "    <tr>\n",
       "      <th>Brighton &amp; Hove Albion FC</th>\n",
       "      <td>8.48</td>\n",
       "      <td>0.00</td>\n",
       "      <td>0.07</td>\n",
       "      <td>0.00</td>\n",
       "    </tr>\n",
       "    <tr>\n",
       "      <th>Brentford FC</th>\n",
       "      <td>8.99</td>\n",
       "      <td>0.01</td>\n",
       "      <td>0.09</td>\n",
       "      <td>0.00</td>\n",
       "    </tr>\n",
       "    <tr>\n",
       "      <th>Crystal Palace FC</th>\n",
       "      <td>10.59</td>\n",
       "      <td>0.00</td>\n",
       "      <td>0.03</td>\n",
       "      <td>0.01</td>\n",
       "    </tr>\n",
       "    <tr>\n",
       "      <th>West Ham United FC</th>\n",
       "      <td>12.92</td>\n",
       "      <td>0.00</td>\n",
       "      <td>0.01</td>\n",
       "      <td>0.14</td>\n",
       "    </tr>\n",
       "    <tr>\n",
       "      <th>Fulham FC</th>\n",
       "      <td>13.70</td>\n",
       "      <td>0.00</td>\n",
       "      <td>0.00</td>\n",
       "      <td>0.18</td>\n",
       "    </tr>\n",
       "    <tr>\n",
       "      <th>Nottingham Forest FC</th>\n",
       "      <td>14.51</td>\n",
       "      <td>0.00</td>\n",
       "      <td>0.00</td>\n",
       "      <td>0.27</td>\n",
       "    </tr>\n",
       "    <tr>\n",
       "      <th>Wolverhampton Wanderers FC</th>\n",
       "      <td>15.41</td>\n",
       "      <td>0.00</td>\n",
       "      <td>0.00</td>\n",
       "      <td>0.35</td>\n",
       "    </tr>\n",
       "    <tr>\n",
       "      <th>Everton FC</th>\n",
       "      <td>15.43</td>\n",
       "      <td>0.00</td>\n",
       "      <td>0.00</td>\n",
       "      <td>0.40</td>\n",
       "    </tr>\n",
       "    <tr>\n",
       "      <th>AFC Bournemouth</th>\n",
       "      <td>15.57</td>\n",
       "      <td>0.00</td>\n",
       "      <td>0.00</td>\n",
       "      <td>0.43</td>\n",
       "    </tr>\n",
       "    <tr>\n",
       "      <th>Burnley FC</th>\n",
       "      <td>17.03</td>\n",
       "      <td>0.00</td>\n",
       "      <td>0.00</td>\n",
       "      <td>0.65</td>\n",
       "    </tr>\n",
       "    <tr>\n",
       "      <th>Sheffield United FC</th>\n",
       "      <td>17.85</td>\n",
       "      <td>0.00</td>\n",
       "      <td>0.00</td>\n",
       "      <td>0.75</td>\n",
       "    </tr>\n",
       "    <tr>\n",
       "      <th>Luton Town FC</th>\n",
       "      <td>18.17</td>\n",
       "      <td>0.00</td>\n",
       "      <td>0.00</td>\n",
       "      <td>0.81</td>\n",
       "    </tr>\n",
       "  </tbody>\n",
       "</table>\n",
       "</div>"
      ],
      "text/plain": [
       "                            Place  Win Premier League  Top 4  Bottom 3\n",
       "Team                                                                  \n",
       "Arsenal FC                   2.83                0.28   0.82      0.00\n",
       "Manchester City FC           2.86                0.27   0.82      0.00\n",
       "Liverpool FC                 3.83                0.13   0.65      0.00\n",
       "Manchester United FC         4.41                0.13   0.55      0.00\n",
       "Aston Villa FC               5.64                0.07   0.38      0.00\n",
       "Newcastle United FC          5.88                0.09   0.30      0.00\n",
       "Chelsea FC                   7.93                0.02   0.08      0.00\n",
       "Tottenham Hotspur FC         7.97                0.00   0.20      0.01\n",
       "Brighton & Hove Albion FC    8.48                0.00   0.07      0.00\n",
       "Brentford FC                 8.99                0.01   0.09      0.00\n",
       "Crystal Palace FC           10.59                0.00   0.03      0.01\n",
       "West Ham United FC          12.92                0.00   0.01      0.14\n",
       "Fulham FC                   13.70                0.00   0.00      0.18\n",
       "Nottingham Forest FC        14.51                0.00   0.00      0.27\n",
       "Wolverhampton Wanderers FC  15.41                0.00   0.00      0.35\n",
       "Everton FC                  15.43                0.00   0.00      0.40\n",
       "AFC Bournemouth             15.57                0.00   0.00      0.43\n",
       "Burnley FC                  17.03                0.00   0.00      0.65\n",
       "Sheffield United FC         17.85                0.00   0.00      0.75\n",
       "Luton Town FC               18.17                0.00   0.00      0.81"
      ]
     },
     "execution_count": 12,
     "metadata": {},
     "output_type": "execute_result"
    }
   ],
   "source": [
    "# Sort results based on total outcome\n",
    "results = results.sort_values(\"Total Outcome\", ascending=False)\n",
    "\n",
    "# Get the place each team finished in the league\n",
    "results[\"Place\"] = range(1, len(results) + 1)\n",
    "\n",
    "# Get 2023 season results\n",
    "# Determine outcomes: 3 for win, 1 for draw, 0 for loss\n",
    "df_2023[\"Home Outcome\"] = 1\n",
    "df_2023[\"Away Outcome\"] = 1\n",
    "df_2023.loc[df_2023[\"Home Score\"] > df_2023[\"Away Score\"], \"Home Outcome\"] = 3\n",
    "df_2023.loc[df_2023[\"Home Score\"] > df_2023[\"Away Score\"], \"Away Outcome\"] = 0\n",
    "df_2023.loc[df_2023[\"Away Score\"] > df_2023[\"Home Score\"], \"Away Outcome\"] = 3\n",
    "df_2023.loc[df_2023[\"Away Score\"] > df_2023[\"Home Score\"], \"Home Outcome\"] = 0\n",
    "\n",
    "home_results = df_2023.groupby(\"Home\").agg({\"Home Outcome\": \"sum\"})\n",
    "away_results = df_2023.groupby(\"Away\").agg({\"Away Outcome\": \"sum\"})\n",
    "results_2023 = home_results.join(away_results, how=\"outer\").fillna(0)\n",
    "results_2023[\"Total Outcome\"] = results_2023[\"Home Outcome\"] + results_2023[\"Away Outcome\"]\n",
    "results_2023 = results_2023.sort_values(\"Total Outcome\", ascending=False)\n",
    "results_2023[\"Place\"] = range(1, len(results_2023) + 1)\n",
    "\n",
    "# For each season, get the place each team finished in the league\n",
    "for index, season_df in enumerate(seasons):\n",
    "    season_df[\"Place\"] = range(1, len(season_df) + 1)\n",
    "\n",
    "# Get the average place each team finished in the league\n",
    "average_results = pd.concat(seasons).groupby(\"Team\").agg({\"Place\": \"mean\"}).sort_values(\"Place\")\n",
    "\n",
    "# Get a mapping of team names to a list places they finished in the league\n",
    "team_place_mapping = {}\n",
    "for team in average_results.index:\n",
    "    team_place_mapping[team] = [season_df.loc[team, \"Place\"] for season_df in seasons]\n",
    "\n",
    "# Get the total number of seasons simulated\n",
    "total_seasons = len(seasons)\n",
    "\n",
    "# Get a mapping of times each team won the league\n",
    "team_win_mapping = {}\n",
    "for team in average_results.index:\n",
    "    team_win_mapping[team] = sum([season_df.loc[team, \"Place\"] == 1 for season_df in seasons]) / total_seasons\n",
    "\n",
    "# Get a mapping of times each team finished in the top 4\n",
    "team_top_4_mapping = {}\n",
    "for team in average_results.index:\n",
    "    team_top_4_mapping[team] = sum([season_df.loc[team, \"Place\"] <= 4 for season_df in seasons]) / total_seasons\n",
    "\n",
    "# Get a mapping of times each team finished in the bottom 3\n",
    "team_bottom_3_mapping = {}\n",
    "for team in average_results.index:\n",
    "    team_bottom_3_mapping[team] = sum([season_df.loc[team, \"Place\"] >= len(season_df) - 3 for season_df in seasons]) / total_seasons\n",
    "\n",
    "# Build a dataframe with the average place, times won, times in top 4, and times in bottom 3\n",
    "average_results[\"Win Premier League\"] = [team_win_mapping[team] for team in average_results.index]\n",
    "average_results[\"Top 4\"] = [team_top_4_mapping[team] for team in average_results.index]\n",
    "average_results[\"Bottom 3\"] = [team_bottom_3_mapping[team] for team in average_results.index]\n",
    "\n",
    "# Show the dataframe\n",
    "average_results"
   ]
  }
 ],
 "metadata": {
  "kernelspec": {
   "display_name": "python310",
   "language": "python",
   "name": "python3"
  },
  "language_info": {
   "codemirror_mode": {
    "name": "ipython",
    "version": 3
   },
   "file_extension": ".py",
   "mimetype": "text/x-python",
   "name": "python",
   "nbconvert_exporter": "python",
   "pygments_lexer": "ipython3",
   "version": "3.10.9"
  }
 },
 "nbformat": 4,
 "nbformat_minor": 2
}
