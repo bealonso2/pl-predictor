{
 "cells": [
  {
   "cell_type": "code",
   "execution_count": 5,
   "metadata": {},
   "outputs": [],
   "source": [
    "# Get all matches from 2022-2023 season\n",
    "\n",
    "import requests\n",
    "\n",
    "# Get API token from .env file\n",
    "with open(\".env\") as f:\n",
    "  for line in f:\n",
    "    if \"FOOTBALL-DATA-API-KEY\" in line:\n",
    "      token = line.split(\"=\")[1].strip()\n",
    "      break\n",
    "\n",
    "uri = \"https://api.football-data.org/v4/competitions/2021/matches?season=2022\"\n",
    "headers = { \"X-Auth-Token\": token }\n",
    "\n",
    "response = requests.get(uri, headers=headers)\n",
    "\n",
    "data = response.json()"
   ]
  },
  {
   "cell_type": "code",
   "execution_count": 21,
   "metadata": {},
   "outputs": [],
   "source": [
    "import pandas as pd\n",
    "import re\n",
    "\n",
    "df = pd.DataFrame(data[\"matches\"])\n",
    "\n",
    "# Drop columns we don\"t need\n",
    "df = df[[\"utcDate\", \"matchday\", \"homeTeam\", \"awayTeam\", \"score\"]]\n",
    "\n",
    "# Parse the homeTeam and awayTeam and get the names or ids from the column\n",
    "df[\"home\"] = df[\"homeTeam\"].apply(lambda x: x[\"name\"])\n",
    "df[\"away\"] = df[\"awayTeam\"].apply(lambda x: x[\"name\"])\n",
    "df = df.drop(columns=[\"homeTeam\", \"awayTeam\"])\n",
    "\n",
    "# Get home team and away team scores from the dataframe, drop score column\n",
    "df[\"homeScore\"] = df[\"score\"].apply(lambda x: x[\"fullTime\"][\"home\"])\n",
    "df[\"awayScore\"] = df[\"score\"].apply(lambda x: x[\"fullTime\"][\"away\"])\n",
    "df = df.drop(columns=[\"score\"])\n",
    "\n",
    "# Function to convert camel case to title case\n",
    "def camel_to_title(camel_str):\n",
    "    title_str = re.sub(\"([A-Z])\", r\" \\1\", camel_str)\n",
    "    return title_str.title()\n",
    "\n",
    "# Apply the function to each column name\n",
    "df.columns = [camel_to_title(col) for col in df.columns]"
   ]
  },
  {
   "cell_type": "markdown",
   "metadata": {},
   "source": [
    "## Setting up Training Data"
   ]
  },
  {
   "cell_type": "code",
   "execution_count": 23,
   "metadata": {},
   "outputs": [],
   "source": [
    "# Initialize elo ratings for each team\n",
    "elo = {team: 1500 for team in df[\"Home\"].unique()}\n",
    "\n",
    "def update_elo(winner_elo, loser_elo, k=40):\n",
    "    expected_win = 1.0 / (1 + 10**((loser_elo - winner_elo) / 400))\n",
    "    change = k * (1 - expected_win)\n",
    "    return winner_elo + change, loser_elo - change\n",
    "\n",
    "# Process matches and update ELO ratings\n",
    "for index, row in df.iterrows():\n",
    "    home_team, away_team = row[\"Home\"], row[\"Away\"]\n",
    "    \n",
    "    if row[\"Home Score\"] > row[\"Away Score\"]:  # Home team won\n",
    "        elo[home_team], elo[away_team] = update_elo(elo[home_team], elo[away_team])\n",
    "    elif row[\"Away Score\"] > row[\"Home Score\"]:  # Away team won\n",
    "        elo[away_team], elo[home_team] = update_elo(elo[away_team], elo[home_team])\n",
    "    # For draws, no ELO adjustment\n",
    "    \n",
    "    df.at[index, \"Home Elo\"] = elo[home_team]\n",
    "    df.at[index, \"Away Elo\"] = elo[away_team]\n",
    "\n",
    "# Determine outcomes: 3 for win, 1 for draw, 0 for loss\n",
    "df[\"Home Outcome\"] = 1\n",
    "df[\"Away Outcome\"] = 1\n",
    "df.loc[df[\"Home Score\"] > df[\"Away Score\"], \"Home Outcome\"] = 3\n",
    "df.loc[df[\"Home Score\"] > df[\"Away Score\"], \"Away Outcome\"] = 0\n",
    "df.loc[df[\"Away Score\"] > df[\"Home Score\"], \"Away Outcome\"] = 3\n",
    "df.loc[df[\"Away Score\"] > df[\"Home Score\"], \"Home Outcome\"] = 0"
   ]
  },
  {
   "cell_type": "markdown",
   "metadata": {},
   "source": [
    "## Training"
   ]
  },
  {
   "cell_type": "code",
   "execution_count": 44,
   "metadata": {},
   "outputs": [
    {
     "name": "stdout",
     "output_type": "stream",
     "text": [
      "Validation accuracy: 60.53%\n"
     ]
    }
   ],
   "source": [
    "from sklearn.ensemble import RandomForestClassifier\n",
    "from sklearn.model_selection import train_test_split\n",
    "from sklearn.preprocessing import StandardScaler\n",
    "\n",
    "# For simplicity, let\"s predict the home outcome based on Elo ratings\n",
    "x = df[[\"Home Elo\", \"Away Elo\"]]\n",
    "y = df[\"Home Outcome\"]\n",
    "\n",
    "# Split data into training and validation sets\n",
    "x_train, x_val, y_train, y_val = train_test_split(x, y, test_size=0.2)\n",
    "\n",
    "# Standardize the features\n",
    "scaler = StandardScaler()\n",
    "x_train = scaler.fit_transform(x_train)\n",
    "x_val = scaler.transform(x_val)\n",
    "\n",
    "# Train the model\n",
    "model = RandomForestClassifier(n_estimators=100)\n",
    "model.fit(x_train, y_train)\n",
    "\n",
    "# Validate the model\n",
    "val_score = model.score(x_val, y_val)\n",
    "print(f\"Validation accuracy: {val_score * 100:.2f}%\")"
   ]
  }
 ],
 "metadata": {
  "kernelspec": {
   "display_name": "python310",
   "language": "python",
   "name": "python3"
  },
  "language_info": {
   "codemirror_mode": {
    "name": "ipython",
    "version": 3
   },
   "file_extension": ".py",
   "mimetype": "text/x-python",
   "name": "python",
   "nbconvert_exporter": "python",
   "pygments_lexer": "ipython3",
   "version": "3.10.9"
  }
 },
 "nbformat": 4,
 "nbformat_minor": 2
}
