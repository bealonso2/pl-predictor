{
 "cells": [
  {
   "cell_type": "code",
   "execution_count": 1,
   "metadata": {},
   "outputs": [],
   "source": [
    "from simulation_utils import build_data_by_year\n",
    "\n",
    "# Get data for 2022-2023 season\n",
    "df = build_data_by_year(2022)\n",
    "\n",
    "# Get data for the 2023-2024 season\n",
    "df_2023 = build_data_by_year(2023)"
   ]
  },
  {
   "cell_type": "markdown",
   "metadata": {},
   "source": [
    "## Setting up Training Data"
   ]
  },
  {
   "cell_type": "markdown",
   "metadata": {},
   "source": [
    "### Analyze Elo vs Outcome for Real Results"
   ]
  },
  {
   "cell_type": "code",
   "execution_count": 2,
   "metadata": {},
   "outputs": [
    {
     "name": "stdout",
     "output_type": "stream",
     "text": [
      "Best parameters: {'club_value_adjustment_factor': 300, 'decay_half_life': 19, 'decay_method': <DecayMethod.BASE_RATING: 2>, 'k': 40}\n",
      "Best correlation: 0.625952684095195\n"
     ]
    },
    {
     "data": {
      "text/html": [
       "<div>\n",
       "<style scoped>\n",
       "    .dataframe tbody tr th:only-of-type {\n",
       "        vertical-align: middle;\n",
       "    }\n",
       "\n",
       "    .dataframe tbody tr th {\n",
       "        vertical-align: top;\n",
       "    }\n",
       "\n",
       "    .dataframe thead th {\n",
       "        text-align: right;\n",
       "    }\n",
       "</style>\n",
       "<table border=\"1\" class=\"dataframe\">\n",
       "  <thead>\n",
       "    <tr style=\"text-align: right;\">\n",
       "      <th></th>\n",
       "      <th>Home Outcome</th>\n",
       "      <th>Home Elo</th>\n",
       "      <th>Away Outcome</th>\n",
       "      <th>Away Elo</th>\n",
       "      <th>Total Outcome</th>\n",
       "      <th>Total Elo</th>\n",
       "    </tr>\n",
       "    <tr>\n",
       "      <th>Team</th>\n",
       "      <th></th>\n",
       "      <th></th>\n",
       "      <th></th>\n",
       "      <th></th>\n",
       "      <th></th>\n",
       "      <th></th>\n",
       "    </tr>\n",
       "  </thead>\n",
       "  <tbody>\n",
       "    <tr>\n",
       "      <th>Manchester City FC</th>\n",
       "      <td>52</td>\n",
       "      <td>1696.335074</td>\n",
       "      <td>37</td>\n",
       "      <td>1649.687232</td>\n",
       "      <td>89</td>\n",
       "      <td>3346.022306</td>\n",
       "    </tr>\n",
       "    <tr>\n",
       "      <th>Arsenal FC</th>\n",
       "      <td>45</td>\n",
       "      <td>1587.086952</td>\n",
       "      <td>39</td>\n",
       "      <td>1574.586979</td>\n",
       "      <td>84</td>\n",
       "      <td>3161.673931</td>\n",
       "    </tr>\n",
       "    <tr>\n",
       "      <th>Manchester United FC</th>\n",
       "      <td>48</td>\n",
       "      <td>1608.114731</td>\n",
       "      <td>27</td>\n",
       "      <td>1587.043538</td>\n",
       "      <td>75</td>\n",
       "      <td>3195.158270</td>\n",
       "    </tr>\n",
       "    <tr>\n",
       "      <th>Newcastle United FC</th>\n",
       "      <td>39</td>\n",
       "      <td>1592.316323</td>\n",
       "      <td>32</td>\n",
       "      <td>1581.749808</td>\n",
       "      <td>71</td>\n",
       "      <td>3174.066131</td>\n",
       "    </tr>\n",
       "    <tr>\n",
       "      <th>Liverpool FC</th>\n",
       "      <td>44</td>\n",
       "      <td>1622.532541</td>\n",
       "      <td>23</td>\n",
       "      <td>1606.635440</td>\n",
       "      <td>67</td>\n",
       "      <td>3229.167982</td>\n",
       "    </tr>\n",
       "    <tr>\n",
       "      <th>Brighton &amp; Hove Albion FC</th>\n",
       "      <td>34</td>\n",
       "      <td>1563.564545</td>\n",
       "      <td>28</td>\n",
       "      <td>1542.747590</td>\n",
       "      <td>62</td>\n",
       "      <td>3106.312135</td>\n",
       "    </tr>\n",
       "    <tr>\n",
       "      <th>Aston Villa FC</th>\n",
       "      <td>38</td>\n",
       "      <td>1592.753052</td>\n",
       "      <td>23</td>\n",
       "      <td>1576.970629</td>\n",
       "      <td>61</td>\n",
       "      <td>3169.723681</td>\n",
       "    </tr>\n",
       "    <tr>\n",
       "      <th>Tottenham Hotspur FC</th>\n",
       "      <td>37</td>\n",
       "      <td>1497.688151</td>\n",
       "      <td>23</td>\n",
       "      <td>1513.031989</td>\n",
       "      <td>60</td>\n",
       "      <td>3010.720139</td>\n",
       "    </tr>\n",
       "    <tr>\n",
       "      <th>Brentford FC</th>\n",
       "      <td>37</td>\n",
       "      <td>1583.187264</td>\n",
       "      <td>22</td>\n",
       "      <td>1559.503813</td>\n",
       "      <td>59</td>\n",
       "      <td>3142.691077</td>\n",
       "    </tr>\n",
       "    <tr>\n",
       "      <th>Fulham FC</th>\n",
       "      <td>29</td>\n",
       "      <td>1514.710629</td>\n",
       "      <td>23</td>\n",
       "      <td>1499.371743</td>\n",
       "      <td>52</td>\n",
       "      <td>3014.082372</td>\n",
       "    </tr>\n",
       "    <tr>\n",
       "      <th>Crystal Palace FC</th>\n",
       "      <td>28</td>\n",
       "      <td>1511.246340</td>\n",
       "      <td>17</td>\n",
       "      <td>1512.987095</td>\n",
       "      <td>45</td>\n",
       "      <td>3024.233435</td>\n",
       "    </tr>\n",
       "    <tr>\n",
       "      <th>Chelsea FC</th>\n",
       "      <td>25</td>\n",
       "      <td>1463.638794</td>\n",
       "      <td>19</td>\n",
       "      <td>1454.758694</td>\n",
       "      <td>44</td>\n",
       "      <td>2918.397488</td>\n",
       "    </tr>\n",
       "    <tr>\n",
       "      <th>Wolverhampton Wanderers FC</th>\n",
       "      <td>30</td>\n",
       "      <td>1499.354173</td>\n",
       "      <td>11</td>\n",
       "      <td>1484.205332</td>\n",
       "      <td>41</td>\n",
       "      <td>2983.559505</td>\n",
       "    </tr>\n",
       "    <tr>\n",
       "      <th>West Ham United FC</th>\n",
       "      <td>28</td>\n",
       "      <td>1508.178513</td>\n",
       "      <td>12</td>\n",
       "      <td>1484.773675</td>\n",
       "      <td>40</td>\n",
       "      <td>2992.952189</td>\n",
       "    </tr>\n",
       "    <tr>\n",
       "      <th>AFC Bournemouth</th>\n",
       "      <td>22</td>\n",
       "      <td>1470.995977</td>\n",
       "      <td>17</td>\n",
       "      <td>1452.953586</td>\n",
       "      <td>39</td>\n",
       "      <td>2923.949563</td>\n",
       "    </tr>\n",
       "    <tr>\n",
       "      <th>Nottingham Forest FC</th>\n",
       "      <td>30</td>\n",
       "      <td>1489.972419</td>\n",
       "      <td>8</td>\n",
       "      <td>1491.607153</td>\n",
       "      <td>38</td>\n",
       "      <td>2981.579572</td>\n",
       "    </tr>\n",
       "    <tr>\n",
       "      <th>Everton FC</th>\n",
       "      <td>21</td>\n",
       "      <td>1494.627213</td>\n",
       "      <td>15</td>\n",
       "      <td>1474.637184</td>\n",
       "      <td>36</td>\n",
       "      <td>2969.264396</td>\n",
       "    </tr>\n",
       "    <tr>\n",
       "      <th>Leicester City FC</th>\n",
       "      <td>19</td>\n",
       "      <td>1463.597461</td>\n",
       "      <td>15</td>\n",
       "      <td>1438.274350</td>\n",
       "      <td>34</td>\n",
       "      <td>2901.871811</td>\n",
       "    </tr>\n",
       "    <tr>\n",
       "      <th>Leeds United FC</th>\n",
       "      <td>22</td>\n",
       "      <td>1411.591093</td>\n",
       "      <td>9</td>\n",
       "      <td>1424.134298</td>\n",
       "      <td>31</td>\n",
       "      <td>2835.725391</td>\n",
       "    </tr>\n",
       "    <tr>\n",
       "      <th>Southampton FC</th>\n",
       "      <td>11</td>\n",
       "      <td>1399.148202</td>\n",
       "      <td>14</td>\n",
       "      <td>1383.465993</td>\n",
       "      <td>25</td>\n",
       "      <td>2782.614195</td>\n",
       "    </tr>\n",
       "  </tbody>\n",
       "</table>\n",
       "</div>"
      ],
      "text/plain": [
       "                            Home Outcome     Home Elo  Away Outcome  \\\n",
       "Team                                                                  \n",
       "Manchester City FC                    52  1696.335074            37   \n",
       "Arsenal FC                            45  1587.086952            39   \n",
       "Manchester United FC                  48  1608.114731            27   \n",
       "Newcastle United FC                   39  1592.316323            32   \n",
       "Liverpool FC                          44  1622.532541            23   \n",
       "Brighton & Hove Albion FC             34  1563.564545            28   \n",
       "Aston Villa FC                        38  1592.753052            23   \n",
       "Tottenham Hotspur FC                  37  1497.688151            23   \n",
       "Brentford FC                          37  1583.187264            22   \n",
       "Fulham FC                             29  1514.710629            23   \n",
       "Crystal Palace FC                     28  1511.246340            17   \n",
       "Chelsea FC                            25  1463.638794            19   \n",
       "Wolverhampton Wanderers FC            30  1499.354173            11   \n",
       "West Ham United FC                    28  1508.178513            12   \n",
       "AFC Bournemouth                       22  1470.995977            17   \n",
       "Nottingham Forest FC                  30  1489.972419             8   \n",
       "Everton FC                            21  1494.627213            15   \n",
       "Leicester City FC                     19  1463.597461            15   \n",
       "Leeds United FC                       22  1411.591093             9   \n",
       "Southampton FC                        11  1399.148202            14   \n",
       "\n",
       "                               Away Elo  Total Outcome    Total Elo  \n",
       "Team                                                                 \n",
       "Manchester City FC          1649.687232             89  3346.022306  \n",
       "Arsenal FC                  1574.586979             84  3161.673931  \n",
       "Manchester United FC        1587.043538             75  3195.158270  \n",
       "Newcastle United FC         1581.749808             71  3174.066131  \n",
       "Liverpool FC                1606.635440             67  3229.167982  \n",
       "Brighton & Hove Albion FC   1542.747590             62  3106.312135  \n",
       "Aston Villa FC              1576.970629             61  3169.723681  \n",
       "Tottenham Hotspur FC        1513.031989             60  3010.720139  \n",
       "Brentford FC                1559.503813             59  3142.691077  \n",
       "Fulham FC                   1499.371743             52  3014.082372  \n",
       "Crystal Palace FC           1512.987095             45  3024.233435  \n",
       "Chelsea FC                  1454.758694             44  2918.397488  \n",
       "Wolverhampton Wanderers FC  1484.205332             41  2983.559505  \n",
       "West Ham United FC          1484.773675             40  2992.952189  \n",
       "AFC Bournemouth             1452.953586             39  2923.949563  \n",
       "Nottingham Forest FC        1491.607153             38  2981.579572  \n",
       "Everton FC                  1474.637184             36  2969.264396  \n",
       "Leicester City FC           1438.274350             34  2901.871811  \n",
       "Leeds United FC             1424.134298             31  2835.725391  \n",
       "Southampton FC              1383.465993             25  2782.614195  "
      ]
     },
     "execution_count": 2,
     "metadata": {},
     "output_type": "execute_result"
    }
   ],
   "source": [
    "import pandas as pd\n",
    "from scipy.stats import pearsonr\n",
    "from sklearn.model_selection import ParameterGrid\n",
    "\n",
    "from simulation_utils import DecayMethod, build_elo_between_seasons, get_elo_dict_from_df, process_fixture_results\n",
    "\n",
    "# Define the parameter grid\n",
    "param_grid = {\n",
    "    'k': [40],\n",
    "    'decay_half_life': [19],\n",
    "    'club_value_adjustment_factor': [300, 600, 900],\n",
    "    'decay_method': [DecayMethod.BASE_RATING, DecayMethod.MIN_BASE_CURRENT],\n",
    "}\n",
    "\n",
    "# Initialize best parameters and best correlation\n",
    "best_params = None\n",
    "best_correlation = -1\n",
    "\n",
    "# Iterate over all combinations of parameters\n",
    "for params in ParameterGrid(param_grid):\n",
    "    k = params['k']\n",
    "    decay_half_life = params['decay_half_life']\n",
    "    club_value_adjustment_factor = params['club_value_adjustment_factor']\n",
    "    decay_method = params['decay_method']\n",
    "    \n",
    "    # Process the fixture results for the 2022-2023 season and the 2023-2024 season\n",
    "    df, results = process_fixture_results(df, k, decay_half_life, club_value_adjustment_factor, decay_method, None)\n",
    "\n",
    "    # Get adjusted Elo dict\n",
    "    adjusted_elo = get_elo_dict_from_df(build_elo_between_seasons(df, df_2023, club_value_adjustment_factor))\n",
    "\n",
    "    df_2023, results_2023 = process_fixture_results(df_2023, k, decay_half_life, club_value_adjustment_factor, decay_method, adjusted_elo)\n",
    "\n",
    "    # Calculate Elo vs Outcome correlation\n",
    "    data_2022 = df[[\"Home Elo\", \"Away Elo\", \"Home Outcome\"]].copy()\n",
    "    data_2022[\"Season\"] = \"2022-2023\"\n",
    "    data_2023 = df_2023[[\"Home Elo\", \"Away Elo\", \"Home Outcome\"]].copy()\n",
    "    data_2023[\"Season\"] = \"2023-2024\"\n",
    "    data_2022_2024 = pd.concat([data_2022, data_2023])\n",
    "\n",
    "    data_2022_2024[\"Elo Difference\"] = data_2022_2024[\"Home Elo\"] - data_2022_2024[\"Away Elo\"]\n",
    "\n",
    "    # Convert 'Home Outcome' to categorical type with specified categories\n",
    "    data_2022_2024['Home Outcome'] = pd.Categorical(data_2022_2024['Home Outcome'], categories=[3, 1, 0], ordered=True)\n",
    "\n",
    "    # Calculate correlation\n",
    "    correlation, p_value = pearsonr(data_2022_2024[\"Elo Difference\"], data_2022_2024[\"Home Outcome\"])\n",
    "    \n",
    "    # If the correlation is better than the best found so far, update best correlation and best parameters\n",
    "    if correlation > best_correlation:\n",
    "        best_correlation = correlation\n",
    "        best_params = params\n",
    "\n",
    "print(\"Best parameters:\", best_params)\n",
    "print(\"Best correlation:\", best_correlation)\n",
    "\n",
    "# Calculate everything again with the best parameters\n",
    "k = best_params['k']\n",
    "decay_half_life = best_params['decay_half_life']\n",
    "club_value_adjustment_factor = best_params['club_value_adjustment_factor']\n",
    "decay_method = best_params['decay_method']\n",
    "\n",
    "# Process the fixture results for the 2022-2023 season and the 2023-2024 season\n",
    "df, results = process_fixture_results(df, k, decay_half_life, club_value_adjustment_factor, decay_method, None)\n",
    "\n",
    "# Get adjusted Elo dict\n",
    "adjusted_elo = get_elo_dict_from_df(build_elo_between_seasons(df, df_2023, club_value_adjustment_factor))\n",
    "\n",
    "df_2023, results_2023 = process_fixture_results(df_2023, k, decay_half_life, club_value_adjustment_factor, decay_method, adjusted_elo)\n",
    "\n",
    "# Calculate Elo vs Outcome correlation\n",
    "correlation_df_columns = [\"Home Elo\", \"Away Elo\", \"Home Outcome\", \"Home\", \"Away\", \"Home Score\", \"Away Score\", \"Utc Date\"]\n",
    "data_2022 = df[correlation_df_columns].copy()\n",
    "data_2022[\"Season\"] = \"2022-2023\"\n",
    "data_2023 = df_2023[correlation_df_columns].copy()\n",
    "data_2023[\"Season\"] = \"2023-2024\"\n",
    "data_2022_2024 = pd.concat([data_2022, data_2023])\n",
    "\n",
    "data_2022_2024[\"Match Info\"] = data_2022_2024[\"Home\"] + \" (\" + data_2022_2024[\"Home Score\"].astype(str) + \") - \" + data_2022_2024[\"Away\"] + \" (\" + data_2022_2024[\"Away Score\"].astype(str) + \") on \" + data_2022_2024[\"Utc Date\"].astype(str)\n",
    "\n",
    "data_2022_2024[\"Elo Difference\"] = data_2022_2024[\"Home Elo\"] - data_2022_2024[\"Away Elo\"]\n",
    "\n",
    "# Convert 'Home Outcome' to categorical type with specified categories\n",
    "data_2022_2024['Home Outcome'] = pd.Categorical(data_2022_2024['Home Outcome'], categories=[3, 1, 0], ordered=True)\n",
    "\n",
    "# Calculate correlation\n",
    "correlation, p_value = pearsonr(data_2022_2024[\"Elo Difference\"], data_2022_2024[\"Home Outcome\"])\n",
    "\n",
    "# Convert 'Home Outcome' to string type\n",
    "data_2022_2024['Home Outcome'] = data_2022_2024['Home Outcome'].astype(str)\n",
    "\n",
    "results"
   ]
  },
  {
   "cell_type": "markdown",
   "metadata": {},
   "source": [
    "#### Plotting Elo vs Outcome"
   ]
  },
  {
   "cell_type": "code",
   "execution_count": 4,
   "metadata": {},
   "outputs": [
    {
     "data": {
      "application/vnd.plotly.v1+json": {
       "config": {
        "plotlyServerURL": "https://plot.ly"
       },
       "data": [
        {
         "customdata": [
          [
           "Crystal Palace FC (0) - Arsenal FC (2) on 2022-08-05 19:00:00+00:00"
          ],
          [
           "Fulham FC (2) - Liverpool FC (2) on 2022-08-06 11:30:00+00:00"
          ],
          [
           "Tottenham Hotspur FC (4) - Southampton FC (1) on 2022-08-06 14:00:00+00:00"
          ],
          [
           "Newcastle United FC (2) - Nottingham Forest FC (0) on 2022-08-06 14:00:00+00:00"
          ],
          [
           "Leeds United FC (2) - Wolverhampton Wanderers FC (1) on 2022-08-06 14:00:00+00:00"
          ],
          [
           "AFC Bournemouth (2) - Aston Villa FC (0) on 2022-08-06 14:00:00+00:00"
          ],
          [
           "Everton FC (0) - Chelsea FC (1) on 2022-08-06 16:30:00+00:00"
          ],
          [
           "Manchester United FC (1) - Brighton & Hove Albion FC (2) on 2022-08-07 13:00:00+00:00"
          ],
          [
           "Leicester City FC (2) - Brentford FC (2) on 2022-08-07 13:00:00+00:00"
          ],
          [
           "West Ham United FC (0) - Manchester City FC (2) on 2022-08-07 15:30:00+00:00"
          ],
          [
           "Aston Villa FC (2) - Everton FC (1) on 2022-08-13 11:30:00+00:00"
          ],
          [
           "Wolverhampton Wanderers FC (0) - Fulham FC (0) on 2022-08-13 14:00:00+00:00"
          ],
          [
           "Southampton FC (2) - Leeds United FC (2) on 2022-08-13 14:00:00+00:00"
          ],
          [
           "Manchester City FC (4) - AFC Bournemouth (0) on 2022-08-13 14:00:00+00:00"
          ],
          [
           "Brighton & Hove Albion FC (0) - Newcastle United FC (0) on 2022-08-13 14:00:00+00:00"
          ],
          [
           "Arsenal FC (4) - Leicester City FC (2) on 2022-08-13 14:00:00+00:00"
          ],
          [
           "Brentford FC (4) - Manchester United FC (0) on 2022-08-13 16:30:00+00:00"
          ],
          [
           "Nottingham Forest FC (1) - West Ham United FC (0) on 2022-08-14 13:00:00+00:00"
          ],
          [
           "Chelsea FC (2) - Tottenham Hotspur FC (2) on 2022-08-14 15:30:00+00:00"
          ],
          [
           "Liverpool FC (1) - Crystal Palace FC (1) on 2022-08-15 19:00:00+00:00"
          ],
          [
           "Tottenham Hotspur FC (1) - Wolverhampton Wanderers FC (0) on 2022-08-20 11:30:00+00:00"
          ],
          [
           "Leicester City FC (1) - Southampton FC (2) on 2022-08-20 14:00:00+00:00"
          ],
          [
           "Fulham FC (3) - Brentford FC (2) on 2022-08-20 14:00:00+00:00"
          ],
          [
           "Everton FC (1) - Nottingham Forest FC (1) on 2022-08-20 14:00:00+00:00"
          ],
          [
           "Crystal Palace FC (3) - Aston Villa FC (1) on 2022-08-20 14:00:00+00:00"
          ],
          [
           "AFC Bournemouth (0) - Arsenal FC (3) on 2022-08-20 16:30:00+00:00"
          ],
          [
           "West Ham United FC (0) - Brighton & Hove Albion FC (2) on 2022-08-21 13:00:00+00:00"
          ],
          [
           "Leeds United FC (3) - Chelsea FC (0) on 2022-08-21 13:00:00+00:00"
          ],
          [
           "Newcastle United FC (3) - Manchester City FC (3) on 2022-08-21 15:30:00+00:00"
          ],
          [
           "Manchester United FC (2) - Liverpool FC (1) on 2022-08-22 19:00:00+00:00"
          ],
          [
           "Southampton FC (0) - Manchester United FC (1) on 2022-08-27 11:30:00+00:00"
          ],
          [
           "Manchester City FC (4) - Crystal Palace FC (2) on 2022-08-27 14:00:00+00:00"
          ],
          [
           "Liverpool FC (9) - AFC Bournemouth (0) on 2022-08-27 14:00:00+00:00"
          ],
          [
           "Chelsea FC (2) - Leicester City FC (1) on 2022-08-27 14:00:00+00:00"
          ],
          [
           "Brighton & Hove Albion FC (1) - Leeds United FC (0) on 2022-08-27 14:00:00+00:00"
          ],
          [
           "Brentford FC (1) - Everton FC (1) on 2022-08-27 14:00:00+00:00"
          ],
          [
           "Arsenal FC (2) - Fulham FC (1) on 2022-08-27 16:30:00+00:00"
          ],
          [
           "Wolverhampton Wanderers FC (1) - Newcastle United FC (1) on 2022-08-28 13:00:00+00:00"
          ],
          [
           "Aston Villa FC (0) - West Ham United FC (1) on 2022-08-28 13:00:00+00:00"
          ],
          [
           "Nottingham Forest FC (0) - Tottenham Hotspur FC (2) on 2022-08-28 15:30:00+00:00"
          ],
          [
           "Crystal Palace FC (1) - Brentford FC (1) on 2022-08-30 18:30:00+00:00"
          ],
          [
           "Fulham FC (2) - Brighton & Hove Albion FC (1) on 2022-08-30 18:30:00+00:00"
          ],
          [
           "Southampton FC (2) - Chelsea FC (1) on 2022-08-30 18:45:00+00:00"
          ],
          [
           "Leeds United FC (1) - Everton FC (1) on 2022-08-30 19:00:00+00:00"
          ],
          [
           "Manchester City FC (6) - Nottingham Forest FC (0) on 2022-08-31 18:30:00+00:00"
          ],
          [
           "AFC Bournemouth (0) - Wolverhampton Wanderers FC (0) on 2022-08-31 18:30:00+00:00"
          ],
          [
           "Arsenal FC (2) - Aston Villa FC (1) on 2022-08-31 18:30:00+00:00"
          ],
          [
           "West Ham United FC (1) - Tottenham Hotspur FC (1) on 2022-08-31 18:45:00+00:00"
          ],
          [
           "Liverpool FC (2) - Newcastle United FC (1) on 2022-08-31 19:00:00+00:00"
          ],
          [
           "Leicester City FC (0) - Manchester United FC (1) on 2022-09-01 19:00:00+00:00"
          ],
          [
           "Everton FC (0) - Liverpool FC (0) on 2022-09-03 11:30:00+00:00"
          ],
          [
           "Wolverhampton Wanderers FC (1) - Southampton FC (0) on 2022-09-03 14:00:00+00:00"
          ],
          [
           "Tottenham Hotspur FC (2) - Fulham FC (1) on 2022-09-03 14:00:00+00:00"
          ],
          [
           "Nottingham Forest FC (2) - AFC Bournemouth (3) on 2022-09-03 14:00:00+00:00"
          ],
          [
           "Newcastle United FC (0) - Crystal Palace FC (0) on 2022-09-03 14:00:00+00:00"
          ],
          [
           "Chelsea FC (2) - West Ham United FC (1) on 2022-09-03 14:00:00+00:00"
          ],
          [
           "Brentford FC (5) - Leeds United FC (2) on 2022-09-03 14:00:00+00:00"
          ],
          [
           "Aston Villa FC (1) - Manchester City FC (1) on 2022-09-03 16:30:00+00:00"
          ],
          [
           "Brighton & Hove Albion FC (5) - Leicester City FC (2) on 2022-09-04 13:00:00+00:00"
          ],
          [
           "Manchester United FC (3) - Arsenal FC (1) on 2022-09-04 15:30:00+00:00"
          ],
          [
           "Nottingham Forest FC (2) - Fulham FC (3) on 2022-09-16 19:00:00+00:00"
          ],
          [
           "Aston Villa FC (1) - Southampton FC (0) on 2022-09-16 19:00:00+00:00"
          ],
          [
           "Wolverhampton Wanderers FC (0) - Manchester City FC (3) on 2022-09-17 11:30:00+00:00"
          ],
          [
           "Newcastle United FC (1) - AFC Bournemouth (1) on 2022-09-17 14:00:00+00:00"
          ],
          [
           "Tottenham Hotspur FC (6) - Leicester City FC (2) on 2022-09-17 16:30:00+00:00"
          ],
          [
           "Brentford FC (0) - Arsenal FC (3) on 2022-09-18 11:00:00+00:00"
          ],
          [
           "Everton FC (1) - West Ham United FC (0) on 2022-09-18 13:15:00+00:00"
          ],
          [
           "Arsenal FC (3) - Tottenham Hotspur FC (1) on 2022-10-01 11:30:00+00:00"
          ],
          [
           "Southampton FC (1) - Everton FC (2) on 2022-10-01 14:00:00+00:00"
          ],
          [
           "Liverpool FC (3) - Brighton & Hove Albion FC (3) on 2022-10-01 14:00:00+00:00"
          ],
          [
           "Fulham FC (1) - Newcastle United FC (4) on 2022-10-01 14:00:00+00:00"
          ],
          [
           "Crystal Palace FC (1) - Chelsea FC (2) on 2022-10-01 14:00:00+00:00"
          ],
          [
           "AFC Bournemouth (0) - Brentford FC (0) on 2022-10-01 14:00:00+00:00"
          ],
          [
           "West Ham United FC (2) - Wolverhampton Wanderers FC (0) on 2022-10-01 16:30:00+00:00"
          ],
          [
           "Manchester City FC (6) - Manchester United FC (3) on 2022-10-02 13:00:00+00:00"
          ],
          [
           "Leeds United FC (0) - Aston Villa FC (0) on 2022-10-02 15:30:00+00:00"
          ],
          [
           "Leicester City FC (4) - Nottingham Forest FC (0) on 2022-10-03 19:00:00+00:00"
          ],
          [
           "Newcastle United FC (5) - Brentford FC (1) on 2022-10-08 14:00:00+00:00"
          ],
          [
           "Manchester City FC (4) - Southampton FC (0) on 2022-10-08 14:00:00+00:00"
          ],
          [
           "Chelsea FC (3) - Wolverhampton Wanderers FC (0) on 2022-10-08 14:00:00+00:00"
          ],
          [
           "AFC Bournemouth (2) - Leicester City FC (1) on 2022-10-08 14:00:00+00:00"
          ],
          [
           "Brighton & Hove Albion FC (0) - Tottenham Hotspur FC (1) on 2022-10-08 16:30:00+00:00"
          ],
          [
           "West Ham United FC (3) - Fulham FC (1) on 2022-10-09 13:00:00+00:00"
          ],
          [
           "Crystal Palace FC (2) - Leeds United FC (1) on 2022-10-09 13:00:00+00:00"
          ],
          [
           "Arsenal FC (3) - Liverpool FC (2) on 2022-10-09 15:30:00+00:00"
          ],
          [
           "Everton FC (1) - Manchester United FC (2) on 2022-10-09 18:00:00+00:00"
          ],
          [
           "Nottingham Forest FC (1) - Aston Villa FC (1) on 2022-10-10 19:00:00+00:00"
          ],
          [
           "Brentford FC (2) - Brighton & Hove Albion FC (0) on 2022-10-14 19:00:00+00:00"
          ],
          [
           "Leicester City FC (0) - Crystal Palace FC (0) on 2022-10-15 11:30:00+00:00"
          ],
          [
           "Wolverhampton Wanderers FC (1) - Nottingham Forest FC (0) on 2022-10-15 14:00:00+00:00"
          ],
          [
           "Fulham FC (2) - AFC Bournemouth (2) on 2022-10-15 14:00:00+00:00"
          ],
          [
           "Tottenham Hotspur FC (2) - Everton FC (0) on 2022-10-15 16:30:00+00:00"
          ],
          [
           "Southampton FC (1) - West Ham United FC (1) on 2022-10-16 13:00:00+00:00"
          ],
          [
           "Manchester United FC (0) - Newcastle United FC (0) on 2022-10-16 13:00:00+00:00"
          ],
          [
           "Leeds United FC (0) - Arsenal FC (1) on 2022-10-16 13:00:00+00:00"
          ],
          [
           "Aston Villa FC (0) - Chelsea FC (2) on 2022-10-16 13:00:00+00:00"
          ],
          [
           "Liverpool FC (1) - Manchester City FC (0) on 2022-10-16 15:30:00+00:00"
          ],
          [
           "Brighton & Hove Albion FC (0) - Nottingham Forest FC (0) on 2022-10-18 18:30:00+00:00"
          ],
          [
           "Crystal Palace FC (2) - Wolverhampton Wanderers FC (1) on 2022-10-18 19:15:00+00:00"
          ],
          [
           "Liverpool FC (1) - West Ham United FC (0) on 2022-10-19 18:30:00+00:00"
          ],
          [
           "Newcastle United FC (1) - Everton FC (0) on 2022-10-19 18:30:00+00:00"
          ],
          [
           "Brentford FC (0) - Chelsea FC (0) on 2022-10-19 18:30:00+00:00"
          ],
          [
           "AFC Bournemouth (0) - Southampton FC (1) on 2022-10-19 18:30:00+00:00"
          ],
          [
           "Manchester United FC (2) - Tottenham Hotspur FC (0) on 2022-10-19 19:15:00+00:00"
          ],
          [
           "Fulham FC (3) - Aston Villa FC (0) on 2022-10-20 18:30:00+00:00"
          ],
          [
           "Leicester City FC (2) - Leeds United FC (0) on 2022-10-20 19:15:00+00:00"
          ],
          [
           "Nottingham Forest FC (1) - Liverpool FC (0) on 2022-10-22 11:30:00+00:00"
          ],
          [
           "Manchester City FC (3) - Brighton & Hove Albion FC (1) on 2022-10-22 14:00:00+00:00"
          ],
          [
           "Everton FC (3) - Crystal Palace FC (0) on 2022-10-22 14:00:00+00:00"
          ],
          [
           "Chelsea FC (1) - Manchester United FC (1) on 2022-10-22 16:30:00+00:00"
          ],
          [
           "Southampton FC (1) - Arsenal FC (1) on 2022-10-23 13:00:00+00:00"
          ],
          [
           "Leeds United FC (2) - Fulham FC (3) on 2022-10-23 13:00:00+00:00"
          ],
          [
           "Aston Villa FC (4) - Brentford FC (0) on 2022-10-23 13:00:00+00:00"
          ],
          [
           "Wolverhampton Wanderers FC (0) - Leicester City FC (4) on 2022-10-23 13:00:00+00:00"
          ],
          [
           "Tottenham Hotspur FC (1) - Newcastle United FC (2) on 2022-10-23 15:30:00+00:00"
          ],
          [
           "West Ham United FC (2) - AFC Bournemouth (0) on 2022-10-24 19:00:00+00:00"
          ],
          [
           "Leicester City FC (0) - Manchester City FC (1) on 2022-10-29 11:30:00+00:00"
          ],
          [
           "Newcastle United FC (4) - Aston Villa FC (0) on 2022-10-29 14:00:00+00:00"
          ],
          [
           "Crystal Palace FC (1) - Southampton FC (0) on 2022-10-29 14:00:00+00:00"
          ],
          [
           "Brighton & Hove Albion FC (4) - Chelsea FC (1) on 2022-10-29 14:00:00+00:00"
          ],
          [
           "Brentford FC (1) - Wolverhampton Wanderers FC (1) on 2022-10-29 14:00:00+00:00"
          ],
          [
           "AFC Bournemouth (2) - Tottenham Hotspur FC (3) on 2022-10-29 14:00:00+00:00"
          ],
          [
           "Fulham FC (0) - Everton FC (0) on 2022-10-29 16:30:00+00:00"
          ],
          [
           "Liverpool FC (1) - Leeds United FC (2) on 2022-10-29 18:45:00+00:00"
          ],
          [
           "Arsenal FC (5) - Nottingham Forest FC (0) on 2022-10-30 14:00:00+00:00"
          ],
          [
           "Manchester United FC (1) - West Ham United FC (0) on 2022-10-30 16:15:00+00:00"
          ],
          [
           "Wolverhampton Wanderers FC (2) - Brighton & Hove Albion FC (3) on 2022-11-05 15:00:00+00:00"
          ],
          [
           "Nottingham Forest FC (2) - Brentford FC (2) on 2022-11-05 15:00:00+00:00"
          ],
          [
           "Manchester City FC (2) - Fulham FC (1) on 2022-11-05 15:00:00+00:00"
          ],
          [
           "Leeds United FC (4) - AFC Bournemouth (3) on 2022-11-05 15:00:00+00:00"
          ],
          [
           "Everton FC (0) - Leicester City FC (2) on 2022-11-05 17:30:00+00:00"
          ],
          [
           "Chelsea FC (0) - Arsenal FC (1) on 2022-11-06 12:00:00+00:00"
          ],
          [
           "West Ham United FC (1) - Crystal Palace FC (2) on 2022-11-06 14:00:00+00:00"
          ],
          [
           "Southampton FC (1) - Newcastle United FC (4) on 2022-11-06 14:00:00+00:00"
          ],
          [
           "Aston Villa FC (3) - Manchester United FC (1) on 2022-11-06 14:00:00+00:00"
          ],
          [
           "Tottenham Hotspur FC (1) - Liverpool FC (2) on 2022-11-06 16:30:00+00:00"
          ],
          [
           "Manchester City FC (1) - Brentford FC (2) on 2022-11-12 12:30:00+00:00"
          ],
          [
           "West Ham United FC (0) - Leicester City FC (2) on 2022-11-12 15:00:00+00:00"
          ],
          [
           "Tottenham Hotspur FC (4) - Leeds United FC (3) on 2022-11-12 15:00:00+00:00"
          ],
          [
           "Nottingham Forest FC (1) - Crystal Palace FC (0) on 2022-11-12 15:00:00+00:00"
          ],
          [
           "Liverpool FC (3) - Southampton FC (1) on 2022-11-12 15:00:00+00:00"
          ],
          [
           "AFC Bournemouth (3) - Everton FC (0) on 2022-11-12 15:00:00+00:00"
          ],
          [
           "Newcastle United FC (1) - Chelsea FC (0) on 2022-11-12 17:30:00+00:00"
          ],
          [
           "Wolverhampton Wanderers FC (0) - Arsenal FC (2) on 2022-11-12 19:45:00+00:00"
          ],
          [
           "Brighton & Hove Albion FC (1) - Aston Villa FC (2) on 2022-11-13 14:00:00+00:00"
          ],
          [
           "Fulham FC (1) - Manchester United FC (2) on 2022-11-13 16:30:00+00:00"
          ],
          [
           "Brentford FC (2) - Tottenham Hotspur FC (2) on 2022-12-26 12:30:00+00:00"
          ],
          [
           "Southampton FC (1) - Brighton & Hove Albion FC (3) on 2022-12-26 15:00:00+00:00"
          ],
          [
           "Leicester City FC (0) - Newcastle United FC (3) on 2022-12-26 15:00:00+00:00"
          ],
          [
           "Everton FC (1) - Wolverhampton Wanderers FC (2) on 2022-12-26 15:00:00+00:00"
          ],
          [
           "Crystal Palace FC (0) - Fulham FC (3) on 2022-12-26 15:00:00+00:00"
          ],
          [
           "Aston Villa FC (1) - Liverpool FC (3) on 2022-12-26 17:30:00+00:00"
          ],
          [
           "Arsenal FC (3) - West Ham United FC (1) on 2022-12-26 20:00:00+00:00"
          ],
          [
           "Chelsea FC (2) - AFC Bournemouth (0) on 2022-12-27 17:30:00+00:00"
          ],
          [
           "Manchester United FC (3) - Nottingham Forest FC (0) on 2022-12-27 20:00:00+00:00"
          ],
          [
           "Leeds United FC (1) - Manchester City FC (3) on 2022-12-28 20:00:00+00:00"
          ],
          [
           "West Ham United FC (0) - Brentford FC (2) on 2022-12-30 19:45:00+00:00"
          ],
          [
           "Liverpool FC (2) - Leicester City FC (1) on 2022-12-30 20:00:00+00:00"
          ],
          [
           "Wolverhampton Wanderers FC (0) - Manchester United FC (1) on 2022-12-31 12:30:00+00:00"
          ],
          [
           "Newcastle United FC (0) - Leeds United FC (0) on 2022-12-31 15:00:00+00:00"
          ],
          [
           "Manchester City FC (1) - Everton FC (1) on 2022-12-31 15:00:00+00:00"
          ],
          [
           "Fulham FC (2) - Southampton FC (1) on 2022-12-31 15:00:00+00:00"
          ],
          [
           "AFC Bournemouth (0) - Crystal Palace FC (2) on 2022-12-31 15:00:00+00:00"
          ],
          [
           "Brighton & Hove Albion FC (2) - Arsenal FC (4) on 2022-12-31 17:30:00+00:00"
          ],
          [
           "Tottenham Hotspur FC (0) - Aston Villa FC (2) on 2023-01-01 14:00:00+00:00"
          ],
          [
           "Nottingham Forest FC (1) - Chelsea FC (1) on 2023-01-01 16:30:00+00:00"
          ],
          [
           "Brentford FC (3) - Liverpool FC (1) on 2023-01-02 17:30:00+00:00"
          ],
          [
           "Leicester City FC (0) - Fulham FC (1) on 2023-01-03 19:45:00+00:00"
          ],
          [
           "Everton FC (1) - Brighton & Hove Albion FC (4) on 2023-01-03 19:45:00+00:00"
          ],
          [
           "Arsenal FC (0) - Newcastle United FC (0) on 2023-01-03 19:45:00+00:00"
          ],
          [
           "Manchester United FC (3) - AFC Bournemouth (0) on 2023-01-03 20:00:00+00:00"
          ],
          [
           "Southampton FC (0) - Nottingham Forest FC (1) on 2023-01-04 19:30:00+00:00"
          ],
          [
           "Leeds United FC (2) - West Ham United FC (2) on 2023-01-04 19:45:00+00:00"
          ],
          [
           "Crystal Palace FC (0) - Tottenham Hotspur FC (4) on 2023-01-04 20:00:00+00:00"
          ],
          [
           "Aston Villa FC (1) - Wolverhampton Wanderers FC (1) on 2023-01-04 20:00:00+00:00"
          ],
          [
           "Chelsea FC (0) - Manchester City FC (1) on 2023-01-05 20:00:00+00:00"
          ],
          [
           "Fulham FC (2) - Chelsea FC (1) on 2023-01-12 20:00:00+00:00"
          ],
          [
           "Aston Villa FC (2) - Leeds United FC (1) on 2023-01-13 20:00:00+00:00"
          ],
          [
           "Manchester United FC (2) - Manchester City FC (1) on 2023-01-14 12:30:00+00:00"
          ],
          [
           "Wolverhampton Wanderers FC (1) - West Ham United FC (0) on 2023-01-14 15:00:00+00:00"
          ],
          [
           "Nottingham Forest FC (2) - Leicester City FC (0) on 2023-01-14 15:00:00+00:00"
          ],
          [
           "Everton FC (1) - Southampton FC (2) on 2023-01-14 15:00:00+00:00"
          ],
          [
           "Brighton & Hove Albion FC (3) - Liverpool FC (0) on 2023-01-14 15:00:00+00:00"
          ],
          [
           "Brentford FC (2) - AFC Bournemouth (0) on 2023-01-14 17:30:00+00:00"
          ],
          [
           "Newcastle United FC (1) - Fulham FC (0) on 2023-01-15 14:00:00+00:00"
          ],
          [
           "Chelsea FC (1) - Crystal Palace FC (0) on 2023-01-15 14:00:00+00:00"
          ],
          [
           "Tottenham Hotspur FC (0) - Arsenal FC (2) on 2023-01-15 16:30:00+00:00"
          ],
          [
           "Crystal Palace FC (1) - Manchester United FC (1) on 2023-01-18 20:00:00+00:00"
          ],
          [
           "Manchester City FC (4) - Tottenham Hotspur FC (2) on 2023-01-19 20:00:00+00:00"
          ],
          [
           "Liverpool FC (0) - Chelsea FC (0) on 2023-01-21 12:30:00+00:00"
          ],
          [
           "West Ham United FC (2) - Everton FC (0) on 2023-01-21 15:00:00+00:00"
          ],
          [
           "Southampton FC (0) - Aston Villa FC (1) on 2023-01-21 15:00:00+00:00"
          ],
          [
           "Leicester City FC (2) - Brighton & Hove Albion FC (2) on 2023-01-21 15:00:00+00:00"
          ],
          [
           "AFC Bournemouth (1) - Nottingham Forest FC (1) on 2023-01-21 15:00:00+00:00"
          ],
          [
           "Crystal Palace FC (0) - Newcastle United FC (0) on 2023-01-21 17:30:00+00:00"
          ],
          [
           "Manchester City FC (3) - Wolverhampton Wanderers FC (0) on 2023-01-22 14:00:00+00:00"
          ],
          [
           "Leeds United FC (0) - Brentford FC (0) on 2023-01-22 14:00:00+00:00"
          ],
          [
           "Arsenal FC (3) - Manchester United FC (2) on 2023-01-22 16:30:00+00:00"
          ],
          [
           "Fulham FC (0) - Tottenham Hotspur FC (1) on 2023-01-23 20:15:00+00:00"
          ],
          [
           "Chelsea FC (0) - Fulham FC (0) on 2023-02-03 20:00:00+00:00"
          ],
          [
           "Everton FC (1) - Arsenal FC (0) on 2023-02-04 12:30:00+00:00"
          ],
          [
           "Wolverhampton Wanderers FC (3) - Liverpool FC (0) on 2023-02-04 15:00:00+00:00"
          ],
          [
           "Manchester United FC (2) - Crystal Palace FC (1) on 2023-02-04 15:00:00+00:00"
          ],
          [
           "Brighton & Hove Albion FC (1) - AFC Bournemouth (0) on 2023-02-04 15:00:00+00:00"
          ],
          [
           "Brentford FC (3) - Southampton FC (0) on 2023-02-04 15:00:00+00:00"
          ],
          [
           "Aston Villa FC (2) - Leicester City FC (4) on 2023-02-04 15:00:00+00:00"
          ],
          [
           "Newcastle United FC (1) - West Ham United FC (1) on 2023-02-04 17:30:00+00:00"
          ],
          [
           "Nottingham Forest FC (1) - Leeds United FC (0) on 2023-02-05 14:00:00+00:00"
          ],
          [
           "Tottenham Hotspur FC (1) - Manchester City FC (0) on 2023-02-05 16:30:00+00:00"
          ],
          [
           "Manchester United FC (2) - Leeds United FC (2) on 2023-02-08 20:00:00+00:00"
          ],
          [
           "West Ham United FC (1) - Chelsea FC (1) on 2023-02-11 12:30:00+00:00"
          ],
          [
           "Southampton FC (1) - Wolverhampton Wanderers FC (2) on 2023-02-11 15:00:00+00:00"
          ],
          [
           "Leicester City FC (4) - Tottenham Hotspur FC (1) on 2023-02-11 15:00:00+00:00"
          ],
          [
           "Fulham FC (2) - Nottingham Forest FC (0) on 2023-02-11 15:00:00+00:00"
          ],
          [
           "Crystal Palace FC (1) - Brighton & Hove Albion FC (1) on 2023-02-11 15:00:00+00:00"
          ],
          [
           "Arsenal FC (1) - Brentford FC (1) on 2023-02-11 15:00:00+00:00"
          ],
          [
           "AFC Bournemouth (1) - Newcastle United FC (1) on 2023-02-11 17:30:00+00:00"
          ],
          [
           "Leeds United FC (0) - Manchester United FC (2) on 2023-02-12 14:00:00+00:00"
          ],
          [
           "Manchester City FC (3) - Aston Villa FC (1) on 2023-02-12 16:30:00+00:00"
          ],
          [
           "Liverpool FC (2) - Everton FC (0) on 2023-02-13 20:00:00+00:00"
          ],
          [
           "Arsenal FC (1) - Manchester City FC (3) on 2023-02-15 19:30:00+00:00"
          ],
          [
           "Aston Villa FC (2) - Arsenal FC (4) on 2023-02-18 12:30:00+00:00"
          ],
          [
           "Wolverhampton Wanderers FC (0) - AFC Bournemouth (1) on 2023-02-18 15:00:00+00:00"
          ],
          [
           "Nottingham Forest FC (1) - Manchester City FC (1) on 2023-02-18 15:00:00+00:00"
          ],
          [
           "Everton FC (1) - Leeds United FC (0) on 2023-02-18 15:00:00+00:00"
          ],
          [
           "Chelsea FC (0) - Southampton FC (1) on 2023-02-18 15:00:00+00:00"
          ],
          [
           "Brighton & Hove Albion FC (0) - Fulham FC (1) on 2023-02-18 15:00:00+00:00"
          ],
          [
           "Brentford FC (1) - Crystal Palace FC (1) on 2023-02-18 15:00:00+00:00"
          ],
          [
           "Newcastle United FC (0) - Liverpool FC (2) on 2023-02-18 17:30:00+00:00"
          ],
          [
           "Manchester United FC (3) - Leicester City FC (0) on 2023-02-19 14:00:00+00:00"
          ],
          [
           "Tottenham Hotspur FC (2) - West Ham United FC (0) on 2023-02-19 16:30:00+00:00"
          ],
          [
           "Fulham FC (1) - Wolverhampton Wanderers FC (1) on 2023-02-24 20:00:00+00:00"
          ],
          [
           "West Ham United FC (4) - Nottingham Forest FC (0) on 2023-02-25 15:00:00+00:00"
          ],
          [
           "Leicester City FC (0) - Arsenal FC (1) on 2023-02-25 15:00:00+00:00"
          ],
          [
           "Leeds United FC (1) - Southampton FC (0) on 2023-02-25 15:00:00+00:00"
          ],
          [
           "Everton FC (0) - Aston Villa FC (2) on 2023-02-25 15:00:00+00:00"
          ],
          [
           "AFC Bournemouth (1) - Manchester City FC (4) on 2023-02-25 17:30:00+00:00"
          ],
          [
           "Crystal Palace FC (0) - Liverpool FC (0) on 2023-02-25 19:45:00+00:00"
          ],
          [
           "Tottenham Hotspur FC (2) - Chelsea FC (0) on 2023-02-26 13:30:00+00:00"
          ],
          [
           "Arsenal FC (4) - Everton FC (0) on 2023-03-01 19:45:00+00:00"
          ],
          [
           "Liverpool FC (2) - Wolverhampton Wanderers FC (0) on 2023-03-01 20:00:00+00:00"
          ],
          [
           "Manchester City FC (2) - Newcastle United FC (0) on 2023-03-04 12:30:00+00:00"
          ],
          [
           "Wolverhampton Wanderers FC (1) - Tottenham Hotspur FC (0) on 2023-03-04 15:00:00+00:00"
          ],
          [
           "Chelsea FC (1) - Leeds United FC (0) on 2023-03-04 15:00:00+00:00"
          ],
          [
           "Brighton & Hove Albion FC (4) - West Ham United FC (0) on 2023-03-04 15:00:00+00:00"
          ],
          [
           "Aston Villa FC (1) - Crystal Palace FC (0) on 2023-03-04 15:00:00+00:00"
          ],
          [
           "Arsenal FC (3) - AFC Bournemouth (2) on 2023-03-04 15:00:00+00:00"
          ],
          [
           "Southampton FC (1) - Leicester City FC (0) on 2023-03-04 17:30:00+00:00"
          ],
          [
           "Nottingham Forest FC (2) - Everton FC (2) on 2023-03-05 14:00:00+00:00"
          ],
          [
           "Liverpool FC (7) - Manchester United FC (0) on 2023-03-05 16:30:00+00:00"
          ],
          [
           "Brentford FC (3) - Fulham FC (2) on 2023-03-06 20:00:00+00:00"
          ],
          [
           "AFC Bournemouth (1) - Liverpool FC (0) on 2023-03-11 12:30:00+00:00"
          ],
          [
           "Tottenham Hotspur FC (3) - Nottingham Forest FC (1) on 2023-03-11 15:00:00+00:00"
          ],
          [
           "Leicester City FC (1) - Chelsea FC (3) on 2023-03-11 15:00:00+00:00"
          ],
          [
           "Leeds United FC (2) - Brighton & Hove Albion FC (2) on 2023-03-11 15:00:00+00:00"
          ],
          [
           "Everton FC (1) - Brentford FC (0) on 2023-03-11 15:00:00+00:00"
          ],
          [
           "Crystal Palace FC (0) - Manchester City FC (1) on 2023-03-11 17:30:00+00:00"
          ],
          [
           "West Ham United FC (1) - Aston Villa FC (1) on 2023-03-12 14:00:00+00:00"
          ],
          [
           "Manchester United FC (0) - Southampton FC (0) on 2023-03-12 14:00:00+00:00"
          ],
          [
           "Fulham FC (0) - Arsenal FC (3) on 2023-03-12 14:00:00+00:00"
          ],
          [
           "Newcastle United FC (2) - Wolverhampton Wanderers FC (1) on 2023-03-12 16:30:00+00:00"
          ],
          [
           "Brighton & Hove Albion FC (1) - Crystal Palace FC (0) on 2023-03-15 19:30:00+00:00"
          ],
          [
           "Southampton FC (0) - Brentford FC (2) on 2023-03-15 19:30:00+00:00"
          ],
          [
           "Nottingham Forest FC (1) - Newcastle United FC (2) on 2023-03-17 20:00:00+00:00"
          ],
          [
           "Wolverhampton Wanderers FC (2) - Leeds United FC (4) on 2023-03-18 15:00:00+00:00"
          ],
          [
           "Southampton FC (3) - Tottenham Hotspur FC (3) on 2023-03-18 15:00:00+00:00"
          ],
          [
           "Brentford FC (1) - Leicester City FC (1) on 2023-03-18 15:00:00+00:00"
          ],
          [
           "Aston Villa FC (3) - AFC Bournemouth (0) on 2023-03-18 15:00:00+00:00"
          ],
          [
           "Chelsea FC (2) - Everton FC (2) on 2023-03-18 17:30:00+00:00"
          ],
          [
           "Arsenal FC (4) - Crystal Palace FC (1) on 2023-03-19 14:00:00+00:00"
          ],
          [
           "Manchester City FC (4) - Liverpool FC (1) on 2023-04-01 11:30:00+00:00"
          ],
          [
           "Nottingham Forest FC (1) - Wolverhampton Wanderers FC (1) on 2023-04-01 14:00:00+00:00"
          ],
          [
           "Crystal Palace FC (2) - Leicester City FC (1) on 2023-04-01 14:00:00+00:00"
          ],
          [
           "Brighton & Hove Albion FC (3) - Brentford FC (3) on 2023-04-01 14:00:00+00:00"
          ],
          [
           "AFC Bournemouth (2) - Fulham FC (1) on 2023-04-01 14:00:00+00:00"
          ],
          [
           "Arsenal FC (4) - Leeds United FC (1) on 2023-04-01 14:00:00+00:00"
          ],
          [
           "Chelsea FC (0) - Aston Villa FC (2) on 2023-04-01 16:30:00+00:00"
          ],
          [
           "West Ham United FC (1) - Southampton FC (0) on 2023-04-02 13:00:00+00:00"
          ],
          [
           "Newcastle United FC (2) - Manchester United FC (0) on 2023-04-02 15:30:00+00:00"
          ],
          [
           "Everton FC (1) - Tottenham Hotspur FC (1) on 2023-04-03 19:00:00+00:00"
          ],
          [
           "Leicester City FC (1) - Aston Villa FC (2) on 2023-04-04 18:45:00+00:00"
          ],
          [
           "Leeds United FC (2) - Nottingham Forest FC (1) on 2023-04-04 18:45:00+00:00"
          ],
          [
           "AFC Bournemouth (0) - Brighton & Hove Albion FC (2) on 2023-04-04 18:45:00+00:00"
          ],
          [
           "Chelsea FC (0) - Liverpool FC (0) on 2023-04-04 19:00:00+00:00"
          ],
          [
           "West Ham United FC (1) - Newcastle United FC (5) on 2023-04-05 19:00:00+00:00"
          ],
          [
           "Manchester United FC (1) - Brentford FC (0) on 2023-04-05 19:00:00+00:00"
          ],
          [
           "Manchester United FC (2) - Everton FC (0) on 2023-04-08 11:30:00+00:00"
          ],
          [
           "Wolverhampton Wanderers FC (1) - Chelsea FC (0) on 2023-04-08 14:00:00+00:00"
          ],
          [
           "Tottenham Hotspur FC (2) - Brighton & Hove Albion FC (1) on 2023-04-08 14:00:00+00:00"
          ],
          [
           "Leicester City FC (0) - AFC Bournemouth (1) on 2023-04-08 14:00:00+00:00"
          ],
          [
           "Fulham FC (0) - West Ham United FC (1) on 2023-04-08 14:00:00+00:00"
          ],
          [
           "Brentford FC (1) - Newcastle United FC (2) on 2023-04-08 14:00:00+00:00"
          ],
          [
           "Aston Villa FC (2) - Nottingham Forest FC (0) on 2023-04-08 14:00:00+00:00"
          ],
          [
           "Southampton FC (1) - Manchester City FC (4) on 2023-04-08 16:30:00+00:00"
          ],
          [
           "Leeds United FC (1) - Crystal Palace FC (5) on 2023-04-09 13:00:00+00:00"
          ],
          [
           "Liverpool FC (2) - Arsenal FC (2) on 2023-04-09 15:30:00+00:00"
          ],
          [
           "Aston Villa FC (3) - Newcastle United FC (0) on 2023-04-15 11:30:00+00:00"
          ],
          [
           "Wolverhampton Wanderers FC (2) - Brentford FC (0) on 2023-04-15 14:00:00+00:00"
          ],
          [
           "Southampton FC (0) - Crystal Palace FC (2) on 2023-04-15 14:00:00+00:00"
          ],
          [
           "Everton FC (1) - Fulham FC (3) on 2023-04-15 14:00:00+00:00"
          ],
          [
           "Chelsea FC (1) - Brighton & Hove Albion FC (2) on 2023-04-15 14:00:00+00:00"
          ],
          [
           "Tottenham Hotspur FC (2) - AFC Bournemouth (3) on 2023-04-15 14:15:00+00:00"
          ],
          [
           "Manchester City FC (3) - Leicester City FC (1) on 2023-04-15 16:30:00+00:00"
          ],
          [
           "West Ham United FC (2) - Arsenal FC (2) on 2023-04-16 13:00:00+00:00"
          ],
          [
           "Nottingham Forest FC (0) - Manchester United FC (2) on 2023-04-16 15:30:00+00:00"
          ],
          [
           "Leeds United FC (1) - Liverpool FC (6) on 2023-04-17 19:00:00+00:00"
          ],
          [
           "Arsenal FC (3) - Southampton FC (3) on 2023-04-21 19:00:00+00:00"
          ],
          [
           "Fulham FC (2) - Leeds United FC (1) on 2023-04-22 11:30:00+00:00"
          ],
          [
           "Liverpool FC (3) - Nottingham Forest FC (2) on 2023-04-22 14:00:00+00:00"
          ],
          [
           "Leicester City FC (2) - Wolverhampton Wanderers FC (1) on 2023-04-22 14:00:00+00:00"
          ],
          [
           "Crystal Palace FC (0) - Everton FC (0) on 2023-04-22 14:00:00+00:00"
          ],
          [
           "Brentford FC (1) - Aston Villa FC (1) on 2023-04-22 14:00:00+00:00"
          ],
          [
           "Newcastle United FC (6) - Tottenham Hotspur FC (1) on 2023-04-23 13:00:00+00:00"
          ],
          [
           "AFC Bournemouth (0) - West Ham United FC (4) on 2023-04-23 13:00:00+00:00"
          ],
          [
           "Wolverhampton Wanderers FC (2) - Crystal Palace FC (0) on 2023-04-25 18:30:00+00:00"
          ],
          [
           "Aston Villa FC (1) - Fulham FC (0) on 2023-04-25 18:45:00+00:00"
          ],
          [
           "Leeds United FC (1) - Leicester City FC (1) on 2023-04-25 19:00:00+00:00"
          ],
          [
           "Nottingham Forest FC (3) - Brighton & Hove Albion FC (1) on 2023-04-26 18:30:00+00:00"
          ],
          [
           "Chelsea FC (0) - Brentford FC (2) on 2023-04-26 18:45:00+00:00"
          ],
          [
           "West Ham United FC (1) - Liverpool FC (2) on 2023-04-26 18:45:00+00:00"
          ],
          [
           "Manchester City FC (4) - Arsenal FC (1) on 2023-04-26 19:00:00+00:00"
          ],
          [
           "Southampton FC (0) - AFC Bournemouth (1) on 2023-04-27 18:45:00+00:00"
          ],
          [
           "Everton FC (1) - Newcastle United FC (4) on 2023-04-27 18:45:00+00:00"
          ],
          [
           "Tottenham Hotspur FC (2) - Manchester United FC (2) on 2023-04-27 19:15:00+00:00"
          ],
          [
           "Crystal Palace FC (4) - West Ham United FC (3) on 2023-04-29 11:45:00+00:00"
          ],
          [
           "Brighton & Hove Albion FC (6) - Wolverhampton Wanderers FC (0) on 2023-04-29 14:00:00+00:00"
          ],
          [
           "Brentford FC (2) - Nottingham Forest FC (1) on 2023-04-29 14:00:00+00:00"
          ],
          [
           "Newcastle United FC (3) - Southampton FC (1) on 2023-04-30 13:00:00+00:00"
          ],
          [
           "Manchester United FC (1) - Aston Villa FC (0) on 2023-04-30 13:00:00+00:00"
          ],
          [
           "Fulham FC (1) - Manchester City FC (2) on 2023-04-30 13:00:00+00:00"
          ],
          [
           "AFC Bournemouth (4) - Leeds United FC (1) on 2023-04-30 13:00:00+00:00"
          ],
          [
           "Liverpool FC (4) - Tottenham Hotspur FC (3) on 2023-04-30 15:30:00+00:00"
          ],
          [
           "Leicester City FC (2) - Everton FC (2) on 2023-05-01 19:00:00+00:00"
          ],
          [
           "Arsenal FC (3) - Chelsea FC (1) on 2023-05-02 19:00:00+00:00"
          ],
          [
           "Manchester City FC (3) - West Ham United FC (0) on 2023-05-03 19:00:00+00:00"
          ],
          [
           "Liverpool FC (1) - Fulham FC (0) on 2023-05-03 19:00:00+00:00"
          ],
          [
           "Brighton & Hove Albion FC (1) - Manchester United FC (0) on 2023-05-04 19:00:00+00:00"
          ],
          [
           "Wolverhampton Wanderers FC (1) - Aston Villa FC (0) on 2023-05-06 14:00:00+00:00"
          ],
          [
           "Tottenham Hotspur FC (1) - Crystal Palace FC (0) on 2023-05-06 14:00:00+00:00"
          ],
          [
           "Manchester City FC (2) - Leeds United FC (1) on 2023-05-06 14:00:00+00:00"
          ],
          [
           "AFC Bournemouth (1) - Chelsea FC (3) on 2023-05-06 14:00:00+00:00"
          ],
          [
           "Liverpool FC (1) - Brentford FC (0) on 2023-05-06 16:30:00+00:00"
          ],
          [
           "Newcastle United FC (0) - Arsenal FC (2) on 2023-05-07 15:30:00+00:00"
          ],
          [
           "West Ham United FC (1) - Manchester United FC (0) on 2023-05-07 18:00:00+00:00"
          ],
          [
           "Fulham FC (5) - Leicester City FC (3) on 2023-05-08 14:00:00+00:00"
          ],
          [
           "Brighton & Hove Albion FC (1) - Everton FC (5) on 2023-05-08 16:30:00+00:00"
          ],
          [
           "Nottingham Forest FC (4) - Southampton FC (3) on 2023-05-08 19:00:00+00:00"
          ],
          [
           "Leeds United FC (2) - Newcastle United FC (2) on 2023-05-13 11:30:00+00:00"
          ],
          [
           "Southampton FC (0) - Fulham FC (2) on 2023-05-13 14:00:00+00:00"
          ],
          [
           "Manchester United FC (2) - Wolverhampton Wanderers FC (0) on 2023-05-13 14:00:00+00:00"
          ],
          [
           "Crystal Palace FC (2) - AFC Bournemouth (0) on 2023-05-13 14:00:00+00:00"
          ],
          [
           "Chelsea FC (2) - Nottingham Forest FC (2) on 2023-05-13 14:00:00+00:00"
          ],
          [
           "Aston Villa FC (2) - Tottenham Hotspur FC (1) on 2023-05-13 14:00:00+00:00"
          ],
          [
           "Everton FC (0) - Manchester City FC (3) on 2023-05-14 13:00:00+00:00"
          ],
          [
           "Brentford FC (2) - West Ham United FC (0) on 2023-05-14 13:00:00+00:00"
          ],
          [
           "Arsenal FC (0) - Brighton & Hove Albion FC (3) on 2023-05-14 15:30:00+00:00"
          ],
          [
           "Leicester City FC (0) - Liverpool FC (3) on 2023-05-15 19:00:00+00:00"
          ],
          [
           "Newcastle United FC (4) - Brighton & Hove Albion FC (1) on 2023-05-18 18:30:00+00:00"
          ],
          [
           "Tottenham Hotspur FC (1) - Brentford FC (3) on 2023-05-20 11:30:00+00:00"
          ],
          [
           "Wolverhampton Wanderers FC (1) - Everton FC (1) on 2023-05-20 14:00:00+00:00"
          ],
          [
           "Liverpool FC (1) - Aston Villa FC (1) on 2023-05-20 14:00:00+00:00"
          ],
          [
           "Fulham FC (2) - Crystal Palace FC (2) on 2023-05-20 14:00:00+00:00"
          ],
          [
           "AFC Bournemouth (0) - Manchester United FC (1) on 2023-05-20 14:00:00+00:00"
          ],
          [
           "Nottingham Forest FC (1) - Arsenal FC (0) on 2023-05-20 16:30:00+00:00"
          ],
          [
           "West Ham United FC (3) - Leeds United FC (1) on 2023-05-21 12:30:00+00:00"
          ],
          [
           "Brighton & Hove Albion FC (3) - Southampton FC (1) on 2023-05-21 13:00:00+00:00"
          ],
          [
           "Manchester City FC (1) - Chelsea FC (0) on 2023-05-21 15:00:00+00:00"
          ],
          [
           "Newcastle United FC (0) - Leicester City FC (0) on 2023-05-22 19:00:00+00:00"
          ],
          [
           "Brighton & Hove Albion FC (1) - Manchester City FC (1) on 2023-05-24 19:00:00+00:00"
          ],
          [
           "Manchester United FC (4) - Chelsea FC (1) on 2023-05-25 19:00:00+00:00"
          ],
          [
           "Southampton FC (4) - Liverpool FC (4) on 2023-05-28 15:30:00+00:00"
          ],
          [
           "Manchester United FC (2) - Fulham FC (1) on 2023-05-28 15:30:00+00:00"
          ],
          [
           "Leicester City FC (2) - West Ham United FC (1) on 2023-05-28 15:30:00+00:00"
          ],
          [
           "Leeds United FC (1) - Tottenham Hotspur FC (4) on 2023-05-28 15:30:00+00:00"
          ],
          [
           "Everton FC (1) - AFC Bournemouth (0) on 2023-05-28 15:30:00+00:00"
          ],
          [
           "Crystal Palace FC (1) - Nottingham Forest FC (1) on 2023-05-28 15:30:00+00:00"
          ],
          [
           "Chelsea FC (1) - Newcastle United FC (1) on 2023-05-28 15:30:00+00:00"
          ],
          [
           "Brentford FC (1) - Manchester City FC (0) on 2023-05-28 15:30:00+00:00"
          ],
          [
           "Aston Villa FC (2) - Brighton & Hove Albion FC (1) on 2023-05-28 15:30:00+00:00"
          ],
          [
           "Arsenal FC (5) - Wolverhampton Wanderers FC (0) on 2023-05-28 15:30:00+00:00"
          ]
         ],
         "hovertemplate": "Season=2022-2023<br>Elo Difference=%{x}<br>Home Outcome=%{y}<br>Match Info=%{customdata[0]}<extra></extra>",
         "legendgroup": "2022-2023",
         "marker": {
          "color": "#636efa",
          "symbol": "circle"
         },
         "mode": "markers",
         "name": "2022-2023",
         "orientation": "h",
         "showlegend": true,
         "type": "scatter",
         "x": [
          -201.92790198344073,
          -120.72165524327215,
          148.99919782593497,
          84.2657854559468,
          19.212379652139816,
          -8.870315033981115,
          -159.26182726293882,
          0.6302701550723668,
          -31.293090569213064,
          -255.87291545275684,
          83.14793644961742,
          -20.174161626550585,
          -37.028309569165,
          243.3689277477547,
          -19.62249727333301,
          238.3539858011518,
          2.138462130287735,
          22.893207028253073,
          34.11776062218473,
          100.4901787869153,
          142.54894743874775,
          -28.764806459042575,
          13.811985331598407,
          -35.57616337094191,
          4.715175501317617,
          -202.28514408452043,
          -92.34212704614879,
          -82.15767895157956,
          -166.0325055113458,
          -33.765470250969656,
          -99.02398301434914,
          220.2450682822937,
          103.64830019832539,
          170.46044116732787,
          74.1822220900574,
          30.86164648830868,
          201.51489342438185,
          -92.77413079511462,
          9.61923620807329,
          -127.44511552947074,
          14.669338860403059,
          -19.148650183070913,
          -87.6304242417616,
          25.440601387816514,
          255.5474053744017,
          14.783986675193546,
          218.42373994732452,
          -107.81588514318173,
          62.63381772906314,
          -143.7304744749797,
          -114.53206090027129,
          24.85441102578193,
          103.5463322520443,
          -43.62301170067417,
          23.105245543180217,
          106.17011892876121,
          41.654199539192405,
          -213.79534467283452,
          143.1955532632021,
          -81.13669877190819,
          -81.01339833122256,
          67.63878866181199,
          -231.74490095371334,
          28.613312909333445,
          211.69493701355327,
          -171.45264048768195,
          37.06774699320454,
          88.64869993488423,
          -79.61175687957825,
          30.640104819930684,
          -45.44239049174371,
          -99.53152195992857,
          -0.2352033524127819,
          19.79738485825692,
          143.3302789982099,
          -34.23961165006676,
          6.012605858212282,
          77.99141800571783,
          287.007866446241,
          155.52405618639727,
          101.5552018509211,
          -73.45654091548818,
          18.37754119236729,
          54.99305054786578,
          123.21402211424925,
          -91.2938075943423,
          -76.05417436060452,
          -3.8897141190668663,
          -84.69421375873799,
          54.7455102498086,
          -29.802584757227123,
          136.0154343762531,
          -62.31243059801295,
          19.42701601332078,
          -239.23099524240433,
          -122.82806208429702,
          -87.74376821853889,
          83.60121980588247,
          72.50329794649633,
          120.4718479798853,
          107.42345449441382,
          -91.35182060272518,
          30.110900816771846,
          7.782588585265557,
          32.630092264138966,
          13.847134838987358,
          -117.12334208400284,
          189.47053604670987,
          -10.831976953715412,
          3.923118681825599,
          -202.1262033697767,
          -99.49520642375956,
          3.5613933761121643,
          -33.9973922796205,
          -23.776646277658983,
          31.914901161825355,
          -225.54875234228166,
          122.16561808565211,
          63.35240032403567,
          -51.48490846113896,
          48.10816698820099,
          -122.25395828945307,
          24.73954664233247,
          90.53323559035812,
          230.28664876504763,
          118.88569029649216,
          -107.17152103692342,
          -35.480138675973194,
          184.25673373405084,
          32.26439683861349,
          -11.566746935935043,
          -128.59576573469553,
          -65.03022660062288,
          -164.85662578312736,
          -69.89415283602762,
          -5.18307353061391,
          137.9846033553897,
          -49.173457222786055,
          110.28926975493891,
          -34.410670905138886,
          137.04634272513317,
          10.857766465517443,
          85.69489258036742,
          -261.9941968506878,
          -15.463159895398121,
          -99.25580190239657,
          -44.486192534808424,
          -105.03310246048272,
          -141.7299194592042,
          -13.69077893185181,
          -21.286908098661343,
          -75.99909387127218,
          239.03285888415257,
          102.33306849868018,
          135.75874031773424,
          -207.99691317194925,
          -99.59093503107579,
          120.98434700615462,
          -170.5498216399776,
          156.37061182574553,
          195.32839175153026,
          115.04658173959251,
          -73.77139848766615,
          -175.47708983211555,
          6.67901366873275,
          -74.48301647358949,
          -15.929607905427247,
          -80.72271135730398,
          -97.46501588042997,
          62.39247311674535,
          188.39489207974702,
          -89.6369828316715,
          23.471098203585143,
          -65.10671473800403,
          81.1712941797216,
          -121.4426533363694,
          48.86992484885536,
          93.74369539883355,
          7.554973569597905,
          44.434230563089386,
          61.50193179276562,
          -8.719693838160538,
          3.774680863556341,
          149.36673009173705,
          89.83432761798394,
          54.601922816637625,
          -145.74912538775448,
          -137.2624163292237,
          110.06787423542437,
          17.348709531787563,
          44.66181931168194,
          -139.68777168743668,
          -91.22469221522579,
          -76.6005345340634,
          -127.99113641342183,
          183.09455978093865,
          -101.69328024156607,
          97.06739222546685,
          -24.78148670044243,
          7.573208289763215,
          -220.8817176660716,
          -36.68327861353532,
          131.9610806609901,
          140.69295660531134,
          162.5917634553805,
          47.25990514680461,
          149.97585367301735,
          77.39743365525555,
          -44.09643884802131,
          144.53462959931267,
          -61.1226041453549,
          -105.14645812485196,
          -36.12081252103644,
          38.87654764392164,
          -67.24592117725638,
          76.00619064959415,
          -163.93556637767279,
          -162.74546366287518,
          110.53537206855435,
          110.41380817329082,
          -17.712971898040678,
          -131.39554777293097,
          22.07450679047588,
          -118.98956137281425,
          23.233747961887047,
          71.39442130949669,
          -28.407254163768812,
          75.21417364661102,
          10.922388735702725,
          123.89693793762899,
          106.88805241690375,
          68.93607935938826,
          -11.822714375517535,
          -157.43346738656578,
          38.28344383374542,
          -82.11433851281708,
          -186.34671924980466,
          -57.54020078795838,
          89.06978829035688,
          215.1773750707223,
          97.10296563440716,
          93.60231573635224,
          -49.41821264199393,
          67.43466409407483,
          87.24388483811003,
          57.43950747474719,
          206.90978441409789,
          -22.79213853963688,
          50.27470540378681,
          -6.270296865290447,
          50.34971156620145,
          -86.14910982177685,
          89.92316589253369,
          -73.50830258967585,
          -97.60192917102995,
          -89.8639040867165,
          -183.28404892950357,
          -64.20192879909814,
          133.46412063280923,
          -136.8148488934869,
          87.34930526826133,
          99.76989320487064,
          -129.3216941584169,
          -122.02916073216716,
          -6.8112048529164895,
          -106.01814921020491,
          103.10023765269489,
          89.72454619210953,
          46.35997885852521,
          213.5515865231323,
          119.97863112180926,
          -2.0979179938133257,
          32.5455464364145,
          -2.040542984118474,
          -16.410918348612086,
          205.99744503941793,
          -64.60548408188424,
          57.289290861535164,
          35.70954104729594,
          -70.40713944755726,
          -146.6066112491751,
          37.95865561441178,
          -100.3205562503017,
          -37.82291613272537,
          -132.26526930120394,
          43.117697466696654,
          125.8676431698052,
          5.823428491482446,
          20.833386346562975,
          -72.98197794422572,
          -18.253308803457003,
          -100.07909927674064,
          151.13013599534065,
          -240.01342670129225,
          -29.92148076766489,
          -108.9531121553689,
          8.305354330171212,
          10.298611869161732,
          -94.6851319875284,
          -51.12979432826023,
          -94.14480822578957,
          29.89914368030759,
          258.4753109442381,
          -134.8898930627072,
          -173.79051919627727,
          -109.63767224305275,
          196.88465861762847,
          80.91548090729202,
          153.61493827876916,
          -46.00246857155821,
          51.962053965156656,
          -89.64145816654855,
          84.38362466218587,
          -34.350754748198824,
          20.42019203377663,
          105.39853352025239,
          -2.6472601112027405,
          -86.18004447260296,
          -70.62692549837288,
          -75.70481689278813,
          75.82034764857758,
          -92.48478541585291,
          -171.544982965685,
          -64.76871137937633,
          18.578209735999735,
          61.436811309644554,
          103.30930232689025,
          211.50883170465318,
          26.615012455889655,
          -193.3174782609094,
          98.58186888867408,
          87.16467939406289,
          -3.1606114942092063,
          170.25447591448415,
          208.05213299690718,
          130.04628325067893,
          -12.605584247530032,
          -42.50243537158326,
          41.96705962046212,
          266.4212121938117,
          31.17774605118234,
          99.20629476327417,
          -30.937673637024318,
          -50.25957430439189,
          67.8154589826704,
          67.36851842184797,
          58.65415305215788,
          -152.03109640771822,
          -124.77641705314113,
          74.38197878833739,
          28.532860582973854,
          12.123029522307434,
          60.74611243627555,
          -222.84168790857075,
          51.75575170660318,
          35.44755601077736,
          -203.61772307194997,
          56.127100834057046,
          -61.815662727321524,
          24.716989735318293,
          45.56191248281243,
          1.7235334853760378,
          -116.04756097202221,
          -84.61455978820482,
          84.0442153047461,
          174.91144434857233,
          229.9358751328548,
          154.04197292732124,
          -118.45859935977091,
          142.0108159892111,
          -207.48723781514332,
          108.74298805978083,
          -21.176214631410858,
          -101.44089563149782,
          41.67362667653697,
          19.639187432519748,
          -118.1110143751007,
          -66.49996804995817,
          50.00546168668575,
          102.88162060476111
         ],
         "xaxis": "x",
         "y": [
          "0",
          "1",
          "3",
          "3",
          "3",
          "3",
          "0",
          "0",
          "1",
          "0",
          "3",
          "1",
          "1",
          "3",
          "1",
          "3",
          "3",
          "3",
          "1",
          "1",
          "3",
          "0",
          "3",
          "1",
          "3",
          "0",
          "0",
          "3",
          "1",
          "3",
          "0",
          "3",
          "3",
          "3",
          "3",
          "1",
          "3",
          "1",
          "0",
          "0",
          "1",
          "3",
          "3",
          "1",
          "3",
          "1",
          "3",
          "1",
          "3",
          "0",
          "1",
          "3",
          "3",
          "0",
          "1",
          "3",
          "3",
          "1",
          "3",
          "3",
          "0",
          "3",
          "0",
          "1",
          "3",
          "0",
          "3",
          "3",
          "0",
          "1",
          "0",
          "0",
          "1",
          "3",
          "3",
          "1",
          "3",
          "3",
          "3",
          "3",
          "3",
          "0",
          "3",
          "3",
          "3",
          "0",
          "1",
          "3",
          "1",
          "3",
          "1",
          "3",
          "1",
          "1",
          "0",
          "0",
          "3",
          "1",
          "3",
          "3",
          "3",
          "1",
          "0",
          "3",
          "3",
          "3",
          "3",
          "3",
          "3",
          "1",
          "1",
          "0",
          "3",
          "0",
          "0",
          "3",
          "0",
          "3",
          "3",
          "3",
          "1",
          "0",
          "1",
          "0",
          "3",
          "3",
          "0",
          "1",
          "3",
          "3",
          "0",
          "0",
          "0",
          "0",
          "3",
          "0",
          "0",
          "0",
          "3",
          "3",
          "3",
          "3",
          "3",
          "0",
          "0",
          "0",
          "1",
          "0",
          "0",
          "0",
          "0",
          "0",
          "3",
          "3",
          "3",
          "0",
          "0",
          "3",
          "0",
          "1",
          "1",
          "3",
          "0",
          "0",
          "0",
          "1",
          "3",
          "0",
          "0",
          "1",
          "3",
          "0",
          "1",
          "0",
          "1",
          "0",
          "3",
          "3",
          "3",
          "3",
          "3",
          "0",
          "3",
          "3",
          "3",
          "3",
          "0",
          "1",
          "3",
          "1",
          "3",
          "0",
          "1",
          "1",
          "1",
          "3",
          "1",
          "3",
          "0",
          "1",
          "3",
          "3",
          "3",
          "3",
          "3",
          "0",
          "1",
          "3",
          "3",
          "1",
          "1",
          "0",
          "3",
          "3",
          "1",
          "1",
          "1",
          "0",
          "3",
          "3",
          "0",
          "0",
          "0",
          "1",
          "3",
          "0",
          "0",
          "1",
          "0",
          "3",
          "3",
          "1",
          "3",
          "0",
          "3",
          "0",
          "0",
          "1",
          "3",
          "3",
          "3",
          "3",
          "3",
          "3",
          "3",
          "3",
          "3",
          "3",
          "1",
          "3",
          "3",
          "3",
          "3",
          "0",
          "1",
          "3",
          "0",
          "1",
          "1",
          "0",
          "3",
          "3",
          "0",
          "0",
          "0",
          "1",
          "1",
          "3",
          "1",
          "3",
          "3",
          "1",
          "3",
          "1",
          "3",
          "3",
          "0",
          "3",
          "3",
          "1",
          "0",
          "3",
          "0",
          "1",
          "0",
          "3",
          "3",
          "3",
          "3",
          "0",
          "0",
          "0",
          "3",
          "0",
          "0",
          "1",
          "3",
          "3",
          "0",
          "0",
          "0",
          "0",
          "3",
          "1",
          "0",
          "0",
          "1",
          "3",
          "3",
          "3",
          "1",
          "1",
          "3",
          "0",
          "3",
          "3",
          "1",
          "3",
          "0",
          "0",
          "3",
          "0",
          "0",
          "1",
          "3",
          "3",
          "3",
          "3",
          "3",
          "0",
          "3",
          "3",
          "1",
          "3",
          "3",
          "3",
          "3",
          "3",
          "3",
          "3",
          "0",
          "3",
          "0",
          "3",
          "3",
          "0",
          "3",
          "1",
          "0",
          "3",
          "3",
          "1",
          "3",
          "0",
          "3",
          "0",
          "0",
          "3",
          "0",
          "1",
          "1",
          "1",
          "0",
          "3",
          "3",
          "3",
          "3",
          "1",
          "1",
          "3",
          "1",
          "3",
          "3",
          "0",
          "3",
          "1",
          "1",
          "3",
          "3",
          "3"
         ],
         "yaxis": "y"
        },
        {
         "customdata": [
          [
           "Burnley FC (0) - Manchester City FC (3) on 2023-08-11 19:00:00+00:00"
          ],
          [
           "Arsenal FC (2) - Nottingham Forest FC (1) on 2023-08-12 12:00:00+00:00"
          ],
          [
           "AFC Bournemouth (1) - West Ham United FC (1) on 2023-08-12 14:00:00+00:00"
          ],
          [
           "Brighton & Hove Albion FC (4) - Luton Town FC (1) on 2023-08-12 14:00:00+00:00"
          ],
          [
           "Everton FC (0) - Fulham FC (1) on 2023-08-12 14:00:00+00:00"
          ],
          [
           "Sheffield United FC (0) - Crystal Palace FC (1) on 2023-08-12 14:00:00+00:00"
          ],
          [
           "Newcastle United FC (5) - Aston Villa FC (1) on 2023-08-12 16:30:00+00:00"
          ],
          [
           "Brentford FC (2) - Tottenham Hotspur FC (2) on 2023-08-13 13:00:00+00:00"
          ],
          [
           "Chelsea FC (1) - Liverpool FC (1) on 2023-08-13 15:30:00+00:00"
          ],
          [
           "Manchester United FC (1) - Wolverhampton Wanderers FC (0) on 2023-08-14 19:00:00+00:00"
          ],
          [
           "Nottingham Forest FC (2) - Sheffield United FC (1) on 2023-08-18 18:45:00+00:00"
          ],
          [
           "Fulham FC (0) - Brentford FC (3) on 2023-08-19 14:00:00+00:00"
          ],
          [
           "Liverpool FC (3) - AFC Bournemouth (1) on 2023-08-19 14:00:00+00:00"
          ],
          [
           "Wolverhampton Wanderers FC (1) - Brighton & Hove Albion FC (4) on 2023-08-19 14:00:00+00:00"
          ],
          [
           "Tottenham Hotspur FC (2) - Manchester United FC (0) on 2023-08-19 16:30:00+00:00"
          ],
          [
           "Manchester City FC (1) - Newcastle United FC (0) on 2023-08-19 19:00:00+00:00"
          ],
          [
           "Aston Villa FC (4) - Everton FC (0) on 2023-08-20 13:00:00+00:00"
          ],
          [
           "West Ham United FC (3) - Chelsea FC (1) on 2023-08-20 15:30:00+00:00"
          ],
          [
           "Crystal Palace FC (0) - Arsenal FC (1) on 2023-08-21 19:00:00+00:00"
          ],
          [
           "Chelsea FC (3) - Luton Town FC (0) on 2023-08-25 19:00:00+00:00"
          ],
          [
           "AFC Bournemouth (0) - Tottenham Hotspur FC (2) on 2023-08-26 11:30:00+00:00"
          ],
          [
           "Everton FC (0) - Wolverhampton Wanderers FC (1) on 2023-08-26 14:00:00+00:00"
          ],
          [
           "Manchester United FC (3) - Nottingham Forest FC (2) on 2023-08-26 14:00:00+00:00"
          ],
          [
           "Arsenal FC (2) - Fulham FC (2) on 2023-08-26 14:00:00+00:00"
          ],
          [
           "Brentford FC (1) - Crystal Palace FC (1) on 2023-08-26 14:00:00+00:00"
          ],
          [
           "Brighton & Hove Albion FC (1) - West Ham United FC (3) on 2023-08-26 16:30:00+00:00"
          ],
          [
           "Sheffield United FC (1) - Manchester City FC (2) on 2023-08-27 13:00:00+00:00"
          ],
          [
           "Burnley FC (1) - Aston Villa FC (3) on 2023-08-27 13:00:00+00:00"
          ],
          [
           "Newcastle United FC (1) - Liverpool FC (2) on 2023-08-27 15:30:00+00:00"
          ],
          [
           "Luton Town FC (1) - West Ham United FC (2) on 2023-09-01 19:00:00+00:00"
          ],
          [
           "Sheffield United FC (2) - Everton FC (2) on 2023-09-02 11:30:00+00:00"
          ],
          [
           "Brentford FC (2) - AFC Bournemouth (2) on 2023-09-02 14:00:00+00:00"
          ],
          [
           "Burnley FC (2) - Tottenham Hotspur FC (5) on 2023-09-02 14:00:00+00:00"
          ],
          [
           "Chelsea FC (0) - Nottingham Forest FC (1) on 2023-09-02 14:00:00+00:00"
          ],
          [
           "Manchester City FC (5) - Fulham FC (1) on 2023-09-02 14:00:00+00:00"
          ],
          [
           "Brighton & Hove Albion FC (3) - Newcastle United FC (1) on 2023-09-02 16:30:00+00:00"
          ],
          [
           "Crystal Palace FC (3) - Wolverhampton Wanderers FC (2) on 2023-09-03 13:00:00+00:00"
          ],
          [
           "Liverpool FC (3) - Aston Villa FC (0) on 2023-09-03 13:00:00+00:00"
          ],
          [
           "Arsenal FC (3) - Manchester United FC (1) on 2023-09-03 15:30:00+00:00"
          ],
          [
           "Wolverhampton Wanderers FC (1) - Liverpool FC (3) on 2023-09-16 11:30:00+00:00"
          ],
          [
           "Aston Villa FC (3) - Crystal Palace FC (1) on 2023-09-16 14:00:00+00:00"
          ],
          [
           "Fulham FC (1) - Luton Town FC (0) on 2023-09-16 14:00:00+00:00"
          ],
          [
           "Manchester United FC (1) - Brighton & Hove Albion FC (3) on 2023-09-16 14:00:00+00:00"
          ],
          [
           "Tottenham Hotspur FC (2) - Sheffield United FC (1) on 2023-09-16 14:00:00+00:00"
          ],
          [
           "West Ham United FC (1) - Manchester City FC (3) on 2023-09-16 14:00:00+00:00"
          ],
          [
           "Newcastle United FC (1) - Brentford FC (0) on 2023-09-16 16:30:00+00:00"
          ],
          [
           "AFC Bournemouth (0) - Chelsea FC (0) on 2023-09-17 13:00:00+00:00"
          ],
          [
           "Everton FC (0) - Arsenal FC (1) on 2023-09-17 15:30:00+00:00"
          ],
          [
           "Nottingham Forest FC (1) - Burnley FC (1) on 2023-09-18 18:45:00+00:00"
          ],
          [
           "Crystal Palace FC (0) - Fulham FC (0) on 2023-09-23 14:00:00+00:00"
          ],
          [
           "Luton Town FC (1) - Wolverhampton Wanderers FC (1) on 2023-09-23 14:00:00+00:00"
          ],
          [
           "Manchester City FC (2) - Nottingham Forest FC (0) on 2023-09-23 14:00:00+00:00"
          ],
          [
           "Brentford FC (1) - Everton FC (3) on 2023-09-23 16:30:00+00:00"
          ],
          [
           "Burnley FC (0) - Manchester United FC (1) on 2023-09-23 19:00:00+00:00"
          ],
          [
           "Arsenal FC (2) - Tottenham Hotspur FC (2) on 2023-09-24 13:00:00+00:00"
          ],
          [
           "Brighton & Hove Albion FC (3) - AFC Bournemouth (1) on 2023-09-24 13:00:00+00:00"
          ],
          [
           "Chelsea FC (0) - Aston Villa FC (1) on 2023-09-24 13:00:00+00:00"
          ],
          [
           "Liverpool FC (3) - West Ham United FC (1) on 2023-09-24 13:00:00+00:00"
          ],
          [
           "Sheffield United FC (0) - Newcastle United FC (8) on 2023-09-24 15:30:00+00:00"
          ],
          [
           "Aston Villa FC (6) - Brighton & Hove Albion FC (1) on 2023-09-30 11:30:00+00:00"
          ],
          [
           "AFC Bournemouth (0) - Arsenal FC (4) on 2023-09-30 14:00:00+00:00"
          ],
          [
           "Everton FC (1) - Luton Town FC (2) on 2023-09-30 14:00:00+00:00"
          ],
          [
           "Manchester United FC (0) - Crystal Palace FC (1) on 2023-09-30 14:00:00+00:00"
          ],
          [
           "Newcastle United FC (2) - Burnley FC (0) on 2023-09-30 14:00:00+00:00"
          ],
          [
           "West Ham United FC (2) - Sheffield United FC (0) on 2023-09-30 14:00:00+00:00"
          ],
          [
           "Wolverhampton Wanderers FC (2) - Manchester City FC (1) on 2023-09-30 14:00:00+00:00"
          ],
          [
           "Tottenham Hotspur FC (2) - Liverpool FC (1) on 2023-09-30 16:30:00+00:00"
          ],
          [
           "Nottingham Forest FC (1) - Brentford FC (1) on 2023-10-01 13:00:00+00:00"
          ],
          [
           "Fulham FC (0) - Chelsea FC (2) on 2023-10-02 19:00:00+00:00"
          ],
          [
           "Luton Town FC (1) - Burnley FC (2) on 2023-10-03 18:30:00+00:00"
          ],
          [
           "Luton Town FC (0) - Tottenham Hotspur FC (1) on 2023-10-07 11:30:00+00:00"
          ],
          [
           "Burnley FC (1) - Chelsea FC (4) on 2023-10-07 14:00:00+00:00"
          ],
          [
           "Everton FC (3) - AFC Bournemouth (0) on 2023-10-07 14:00:00+00:00"
          ],
          [
           "Fulham FC (3) - Sheffield United FC (1) on 2023-10-07 14:00:00+00:00"
          ],
          [
           "Manchester United FC (2) - Brentford FC (1) on 2023-10-07 14:00:00+00:00"
          ],
          [
           "Crystal Palace FC (0) - Nottingham Forest FC (0) on 2023-10-07 16:30:00+00:00"
          ],
          [
           "Brighton & Hove Albion FC (2) - Liverpool FC (2) on 2023-10-08 13:00:00+00:00"
          ],
          [
           "West Ham United FC (2) - Newcastle United FC (2) on 2023-10-08 13:00:00+00:00"
          ],
          [
           "Wolverhampton Wanderers FC (1) - Aston Villa FC (1) on 2023-10-08 13:00:00+00:00"
          ],
          [
           "Arsenal FC (1) - Manchester City FC (0) on 2023-10-08 15:30:00+00:00"
          ],
          [
           "Liverpool FC (2) - Everton FC (0) on 2023-10-21 11:30:00+00:00"
          ],
          [
           "AFC Bournemouth (1) - Wolverhampton Wanderers FC (2) on 2023-10-21 14:00:00+00:00"
          ],
          [
           "Brentford FC (3) - Burnley FC (0) on 2023-10-21 14:00:00+00:00"
          ],
          [
           "Manchester City FC (2) - Brighton & Hove Albion FC (1) on 2023-10-21 14:00:00+00:00"
          ],
          [
           "Newcastle United FC (4) - Crystal Palace FC (0) on 2023-10-21 14:00:00+00:00"
          ],
          [
           "Nottingham Forest FC (2) - Luton Town FC (2) on 2023-10-21 14:00:00+00:00"
          ],
          [
           "Chelsea FC (2) - Arsenal FC (2) on 2023-10-21 16:30:00+00:00"
          ],
          [
           "Sheffield United FC (1) - Manchester United FC (2) on 2023-10-21 19:00:00+00:00"
          ],
          [
           "Aston Villa FC (4) - West Ham United FC (1) on 2023-10-22 15:30:00+00:00"
          ],
          [
           "Tottenham Hotspur FC (2) - Fulham FC (0) on 2023-10-23 19:00:00+00:00"
          ],
          [
           "Crystal Palace FC (1) - Tottenham Hotspur FC (2) on 2023-10-27 19:00:00+00:00"
          ],
          [
           "Chelsea FC (0) - Brentford FC (2) on 2023-10-28 11:30:00+00:00"
          ],
          [
           "AFC Bournemouth (2) - Burnley FC (1) on 2023-10-28 14:00:00+00:00"
          ],
          [
           "Arsenal FC (5) - Sheffield United FC (0) on 2023-10-28 14:00:00+00:00"
          ],
          [
           "Wolverhampton Wanderers FC (2) - Newcastle United FC (2) on 2023-10-28 16:30:00+00:00"
          ],
          [
           "West Ham United FC (0) - Everton FC (1) on 2023-10-29 13:00:00+00:00"
          ],
          [
           "Aston Villa FC (3) - Luton Town FC (1) on 2023-10-29 14:00:00+00:00"
          ],
          [
           "Brighton & Hove Albion FC (1) - Fulham FC (1) on 2023-10-29 14:00:00+00:00"
          ],
          [
           "Liverpool FC (3) - Nottingham Forest FC (0) on 2023-10-29 14:00:00+00:00"
          ],
          [
           "Manchester United FC (0) - Manchester City FC (3) on 2023-10-29 15:30:00+00:00"
          ],
          [
           "Fulham FC (0) - Manchester United FC (1) on 2023-11-04 12:30:00+00:00"
          ],
          [
           "Brentford FC (3) - West Ham United FC (2) on 2023-11-04 15:00:00+00:00"
          ],
          [
           "Burnley FC (0) - Crystal Palace FC (2) on 2023-11-04 15:00:00+00:00"
          ],
          [
           "Everton FC (1) - Brighton & Hove Albion FC (1) on 2023-11-04 15:00:00+00:00"
          ],
          [
           "Manchester City FC (6) - AFC Bournemouth (1) on 2023-11-04 15:00:00+00:00"
          ],
          [
           "Sheffield United FC (2) - Wolverhampton Wanderers FC (1) on 2023-11-04 15:00:00+00:00"
          ],
          [
           "Newcastle United FC (1) - Arsenal FC (0) on 2023-11-04 17:30:00+00:00"
          ],
          [
           "Nottingham Forest FC (2) - Aston Villa FC (0) on 2023-11-05 14:00:00+00:00"
          ],
          [
           "Luton Town FC (1) - Liverpool FC (1) on 2023-11-05 16:30:00+00:00"
          ],
          [
           "Tottenham Hotspur FC (1) - Chelsea FC (4) on 2023-11-06 20:00:00+00:00"
          ],
          [
           "Wolverhampton Wanderers FC (2) - Tottenham Hotspur FC (1) on 2023-11-11 12:30:00+00:00"
          ],
          [
           "Arsenal FC (3) - Burnley FC (1) on 2023-11-11 15:00:00+00:00"
          ],
          [
           "Crystal Palace FC (2) - Everton FC (3) on 2023-11-11 15:00:00+00:00"
          ],
          [
           "Manchester United FC (1) - Luton Town FC (0) on 2023-11-11 15:00:00+00:00"
          ],
          [
           "AFC Bournemouth (2) - Newcastle United FC (0) on 2023-11-11 17:30:00+00:00"
          ],
          [
           "Aston Villa FC (3) - Fulham FC (1) on 2023-11-12 14:00:00+00:00"
          ],
          [
           "Brighton & Hove Albion FC (1) - Sheffield United FC (1) on 2023-11-12 14:00:00+00:00"
          ],
          [
           "Liverpool FC (3) - Brentford FC (0) on 2023-11-12 14:00:00+00:00"
          ],
          [
           "West Ham United FC (3) - Nottingham Forest FC (2) on 2023-11-12 14:00:00+00:00"
          ],
          [
           "Chelsea FC (4) - Manchester City FC (4) on 2023-11-12 16:30:00+00:00"
          ],
          [
           "Manchester City FC (1) - Liverpool FC (1) on 2023-11-25 12:30:00+00:00"
          ],
          [
           "Burnley FC (1) - West Ham United FC (2) on 2023-11-25 15:00:00+00:00"
          ],
          [
           "Luton Town FC (2) - Crystal Palace FC (1) on 2023-11-25 15:00:00+00:00"
          ],
          [
           "Newcastle United FC (4) - Chelsea FC (1) on 2023-11-25 15:00:00+00:00"
          ],
          [
           "Nottingham Forest FC (2) - Brighton & Hove Albion FC (3) on 2023-11-25 15:00:00+00:00"
          ],
          [
           "Sheffield United FC (1) - AFC Bournemouth (3) on 2023-11-25 15:00:00+00:00"
          ],
          [
           "Brentford FC (0) - Arsenal FC (1) on 2023-11-25 17:30:00+00:00"
          ],
          [
           "Tottenham Hotspur FC (1) - Aston Villa FC (2) on 2023-11-26 14:00:00+00:00"
          ],
          [
           "Everton FC (0) - Manchester United FC (3) on 2023-11-26 16:30:00+00:00"
          ],
          [
           "Fulham FC (3) - Wolverhampton Wanderers FC (2) on 2023-11-27 20:00:00+00:00"
          ],
          [
           "Arsenal FC (2) - Wolverhampton Wanderers FC (1) on 2023-12-02 15:00:00+00:00"
          ],
          [
           "Brentford FC (3) - Luton Town FC (1) on 2023-12-02 15:00:00+00:00"
          ],
          [
           "Burnley FC (5) - Sheffield United FC (0) on 2023-12-02 15:00:00+00:00"
          ],
          [
           "Nottingham Forest FC (0) - Everton FC (1) on 2023-12-02 17:30:00+00:00"
          ],
          [
           "Newcastle United FC (1) - Manchester United FC (0) on 2023-12-02 20:00:00+00:00"
          ],
          [
           "AFC Bournemouth (2) - Aston Villa FC (2) on 2023-12-03 14:00:00+00:00"
          ],
          [
           "Chelsea FC (3) - Brighton & Hove Albion FC (2) on 2023-12-03 14:00:00+00:00"
          ],
          [
           "Liverpool FC (4) - Fulham FC (3) on 2023-12-03 14:00:00+00:00"
          ],
          [
           "West Ham United FC (1) - Crystal Palace FC (1) on 2023-12-03 14:00:00+00:00"
          ],
          [
           "Manchester City FC (3) - Tottenham Hotspur FC (3) on 2023-12-03 16:30:00+00:00"
          ],
          [
           "Wolverhampton Wanderers FC (1) - Burnley FC (0) on 2023-12-05 19:30:00+00:00"
          ],
          [
           "Luton Town FC (3) - Arsenal FC (4) on 2023-12-05 20:15:00+00:00"
          ],
          [
           "Brighton & Hove Albion FC (2) - Brentford FC (1) on 2023-12-06 19:30:00+00:00"
          ],
          [
           "Fulham FC (5) - Nottingham Forest FC (0) on 2023-12-06 19:30:00+00:00"
          ],
          [
           "Sheffield United FC (0) - Liverpool FC (2) on 2023-12-06 19:30:00+00:00"
          ],
          [
           "Crystal Palace FC (0) - AFC Bournemouth (2) on 2023-12-06 19:30:00+00:00"
          ],
          [
           "Aston Villa FC (1) - Manchester City FC (0) on 2023-12-06 20:15:00+00:00"
          ],
          [
           "Manchester United FC (2) - Chelsea FC (1) on 2023-12-06 20:15:00+00:00"
          ],
          [
           "Everton FC (3) - Newcastle United FC (0) on 2023-12-07 19:30:00+00:00"
          ],
          [
           "Tottenham Hotspur FC (1) - West Ham United FC (2) on 2023-12-07 20:15:00+00:00"
          ],
          [
           "Crystal Palace FC (1) - Liverpool FC (2) on 2023-12-09 12:30:00+00:00"
          ],
          [
           "Brighton & Hove Albion FC (1) - Burnley FC (1) on 2023-12-09 15:00:00+00:00"
          ],
          [
           "Manchester United FC (0) - AFC Bournemouth (3) on 2023-12-09 15:00:00+00:00"
          ],
          [
           "Sheffield United FC (1) - Brentford FC (0) on 2023-12-09 15:00:00+00:00"
          ],
          [
           "Wolverhampton Wanderers FC (1) - Nottingham Forest FC (1) on 2023-12-09 15:00:00+00:00"
          ],
          [
           "Aston Villa FC (1) - Arsenal FC (0) on 2023-12-09 17:30:00+00:00"
          ],
          [
           "Everton FC (2) - Chelsea FC (0) on 2023-12-10 14:00:00+00:00"
          ],
          [
           "Fulham FC (5) - West Ham United FC (0) on 2023-12-10 14:00:00+00:00"
          ],
          [
           "Luton Town FC (1) - Manchester City FC (2) on 2023-12-10 14:00:00+00:00"
          ],
          [
           "Tottenham Hotspur FC (4) - Newcastle United FC (1) on 2023-12-10 16:30:00+00:00"
          ],
          [
           "Nottingham Forest FC (0) - Tottenham Hotspur FC (2) on 2023-12-15 20:00:00+00:00"
          ],
          [
           "Chelsea FC (2) - Sheffield United FC (0) on 2023-12-16 15:00:00+00:00"
          ],
          [
           "Manchester City FC (2) - Crystal Palace FC (2) on 2023-12-16 15:00:00+00:00"
          ],
          [
           "Newcastle United FC (3) - Fulham FC (0) on 2023-12-16 15:00:00+00:00"
          ],
          [
           "Burnley FC (0) - Everton FC (2) on 2023-12-16 17:30:00+00:00"
          ],
          [
           "Arsenal FC (2) - Brighton & Hove Albion FC (0) on 2023-12-17 14:00:00+00:00"
          ],
          [
           "Brentford FC (1) - Aston Villa FC (2) on 2023-12-17 14:00:00+00:00"
          ],
          [
           "West Ham United FC (3) - Wolverhampton Wanderers FC (0) on 2023-12-17 14:00:00+00:00"
          ],
          [
           "Liverpool FC (0) - Manchester United FC (0) on 2023-12-17 16:30:00+00:00"
          ],
          [
           "Crystal Palace FC (1) - Brighton & Hove Albion FC (1) on 2023-12-21 20:00:00+00:00"
          ],
          [
           "Aston Villa FC (1) - Sheffield United FC (1) on 2023-12-22 20:00:00+00:00"
          ],
          [
           "West Ham United FC (2) - Manchester United FC (0) on 2023-12-23 12:30:00+00:00"
          ],
          [
           "Fulham FC (0) - Burnley FC (2) on 2023-12-23 15:00:00+00:00"
          ],
          [
           "Luton Town FC (1) - Newcastle United FC (0) on 2023-12-23 15:00:00+00:00"
          ],
          [
           "Nottingham Forest FC (2) - AFC Bournemouth (3) on 2023-12-23 15:00:00+00:00"
          ],
          [
           "Tottenham Hotspur FC (2) - Everton FC (1) on 2023-12-23 15:00:00+00:00"
          ],
          [
           "Liverpool FC (1) - Arsenal FC (1) on 2023-12-23 17:30:00+00:00"
          ],
          [
           "Wolverhampton Wanderers FC (2) - Chelsea FC (1) on 2023-12-24 13:00:00+00:00"
          ],
          [
           "Newcastle United FC (1) - Nottingham Forest FC (3) on 2023-12-26 12:30:00+00:00"
          ],
          [
           "AFC Bournemouth (3) - Fulham FC (0) on 2023-12-26 15:00:00+00:00"
          ],
          [
           "Sheffield United FC (2) - Luton Town FC (3) on 2023-12-26 15:00:00+00:00"
          ],
          [
           "Burnley FC (0) - Liverpool FC (2) on 2023-12-26 17:30:00+00:00"
          ],
          [
           "Manchester United FC (3) - Aston Villa FC (2) on 2023-12-26 20:00:00+00:00"
          ],
          [
           "Brentford FC (1) - Wolverhampton Wanderers FC (4) on 2023-12-27 19:30:00+00:00"
          ],
          [
           "Chelsea FC (2) - Crystal Palace FC (1) on 2023-12-27 19:30:00+00:00"
          ],
          [
           "Everton FC (1) - Manchester City FC (3) on 2023-12-27 20:15:00+00:00"
          ],
          [
           "Brighton & Hove Albion FC (4) - Tottenham Hotspur FC (2) on 2023-12-28 19:30:00+00:00"
          ],
          [
           "Arsenal FC (0) - West Ham United FC (2) on 2023-12-28 20:15:00+00:00"
          ],
          [
           "Luton Town FC (2) - Chelsea FC (3) on 2023-12-30 12:30:00+00:00"
          ],
          [
           "Aston Villa FC (3) - Burnley FC (2) on 2023-12-30 15:00:00+00:00"
          ],
          [
           "Crystal Palace FC (3) - Brentford FC (1) on 2023-12-30 15:00:00+00:00"
          ],
          [
           "Manchester City FC (2) - Sheffield United FC (0) on 2023-12-30 15:00:00+00:00"
          ],
          [
           "Wolverhampton Wanderers FC (3) - Everton FC (0) on 2023-12-30 15:00:00+00:00"
          ],
          [
           "Nottingham Forest FC (2) - Manchester United FC (1) on 2023-12-30 17:30:00+00:00"
          ],
          [
           "Fulham FC (2) - Arsenal FC (1) on 2023-12-31 14:00:00+00:00"
          ],
          [
           "Tottenham Hotspur FC (3) - AFC Bournemouth (1) on 2023-12-31 14:00:00+00:00"
          ],
          [
           "Liverpool FC (4) - Newcastle United FC (2) on 2024-01-01 20:00:00+00:00"
          ],
          [
           "West Ham United FC (0) - Brighton & Hove Albion FC (0) on 2024-01-02 19:30:00+00:00"
          ],
          [
           "Burnley FC (1) - Luton Town FC (1) on 2024-01-12 19:45:00+00:00"
          ],
          [
           "Chelsea FC (1) - Fulham FC (0) on 2024-01-13 12:30:00+00:00"
          ],
          [
           "Newcastle United FC (2) - Manchester City FC (3) on 2024-01-13 17:30:00+00:00"
          ],
          [
           "Everton FC (0) - Aston Villa FC (0) on 2024-01-14 14:00:00+00:00"
          ],
          [
           "Manchester United FC (2) - Tottenham Hotspur FC (2) on 2024-01-14 16:30:00+00:00"
          ],
          [
           "Arsenal FC (5) - Crystal Palace FC (0) on 2024-01-20 12:30:00+00:00"
          ],
          [
           "Brentford FC (3) - Nottingham Forest FC (2) on 2024-01-20 17:30:00+00:00"
          ],
          [
           "Sheffield United FC (2) - West Ham United FC (2) on 2024-01-21 14:00:00+00:00"
          ],
          [
           "AFC Bournemouth (0) - Liverpool FC (4) on 2024-01-21 16:30:00+00:00"
          ],
          [
           "Brighton & Hove Albion FC (0) - Wolverhampton Wanderers FC (0) on 2024-01-22 19:45:00+00:00"
          ],
          [
           "Nottingham Forest FC (1) - Arsenal FC (2) on 2024-01-30 19:30:00+00:00"
          ],
          [
           "Luton Town FC (4) - Brighton & Hove Albion FC (0) on 2024-01-30 19:45:00+00:00"
          ],
          [
           "Fulham FC (0) - Everton FC (0) on 2024-01-30 19:45:00+00:00"
          ],
          [
           "Crystal Palace FC (3) - Sheffield United FC (2) on 2024-01-30 20:00:00+00:00"
          ],
          [
           "Aston Villa FC (1) - Newcastle United FC (3) on 2024-01-30 20:15:00+00:00"
          ],
          [
           "Tottenham Hotspur FC (3) - Brentford FC (2) on 2024-01-31 19:30:00+00:00"
          ],
          [
           "Manchester City FC (3) - Burnley FC (1) on 2024-01-31 19:30:00+00:00"
          ],
          [
           "Liverpool FC (4) - Chelsea FC (1) on 2024-01-31 20:15:00+00:00"
          ],
          [
           "West Ham United FC (1) - AFC Bournemouth (1) on 2024-02-01 19:30:00+00:00"
          ],
          [
           "Wolverhampton Wanderers FC (3) - Manchester United FC (4) on 2024-02-01 20:15:00+00:00"
          ],
          [
           "Everton FC (2) - Tottenham Hotspur FC (2) on 2024-02-03 12:30:00+00:00"
          ],
          [
           "Brighton & Hove Albion FC (4) - Crystal Palace FC (1) on 2024-02-03 15:00:00+00:00"
          ],
          [
           "Burnley FC (2) - Fulham FC (2) on 2024-02-03 15:00:00+00:00"
          ],
          [
           "Newcastle United FC (4) - Luton Town FC (4) on 2024-02-03 15:00:00+00:00"
          ],
          [
           "Sheffield United FC (0) - Aston Villa FC (5) on 2024-02-03 17:30:00+00:00"
          ],
          [
           "AFC Bournemouth (1) - Nottingham Forest FC (1) on 2024-02-04 14:00:00+00:00"
          ],
          [
           "Chelsea FC (2) - Wolverhampton Wanderers FC (4) on 2024-02-04 14:00:00+00:00"
          ],
          [
           "Manchester United FC (3) - West Ham United FC (0) on 2024-02-04 14:00:00+00:00"
          ],
          [
           "Arsenal FC (3) - Liverpool FC (1) on 2024-02-04 16:30:00+00:00"
          ],
          [
           "Brentford FC (1) - Manchester City FC (3) on 2024-02-05 20:00:00+00:00"
          ],
          [
           "Manchester City FC (2) - Everton FC (0) on 2024-02-10 12:30:00+00:00"
          ],
          [
           "Fulham FC (3) - AFC Bournemouth (1) on 2024-02-10 15:00:00+00:00"
          ],
          [
           "Liverpool FC (3) - Burnley FC (1) on 2024-02-10 15:00:00+00:00"
          ],
          [
           "Luton Town FC (1) - Sheffield United FC (3) on 2024-02-10 15:00:00+00:00"
          ],
          [
           "Tottenham Hotspur FC (2) - Brighton & Hove Albion FC (1) on 2024-02-10 15:00:00+00:00"
          ],
          [
           "Wolverhampton Wanderers FC (0) - Brentford FC (2) on 2024-02-10 15:00:00+00:00"
          ],
          [
           "Nottingham Forest FC (2) - Newcastle United FC (3) on 2024-02-10 17:30:00+00:00"
          ],
          [
           "West Ham United FC (0) - Arsenal FC (6) on 2024-02-11 14:00:00+00:00"
          ],
          [
           "Aston Villa FC (1) - Manchester United FC (2) on 2024-02-11 16:30:00+00:00"
          ],
          [
           "Crystal Palace FC (1) - Chelsea FC (3) on 2024-02-12 20:00:00+00:00"
          ],
          [
           "Brentford FC (1) - Liverpool FC (4) on 2024-02-17 12:30:00+00:00"
          ],
          [
           "Burnley FC (0) - Arsenal FC (5) on 2024-02-17 15:00:00+00:00"
          ],
          [
           "Fulham FC (1) - Aston Villa FC (2) on 2024-02-17 15:00:00+00:00"
          ],
          [
           "Newcastle United FC (2) - AFC Bournemouth (2) on 2024-02-17 15:00:00+00:00"
          ],
          [
           "Nottingham Forest FC (2) - West Ham United FC (0) on 2024-02-17 15:00:00+00:00"
          ],
          [
           "Tottenham Hotspur FC (1) - Wolverhampton Wanderers FC (2) on 2024-02-17 15:00:00+00:00"
          ],
          [
           "Manchester City FC (1) - Chelsea FC (1) on 2024-02-17 17:30:00+00:00"
          ],
          [
           "Sheffield United FC (0) - Brighton & Hove Albion FC (5) on 2024-02-18 14:00:00+00:00"
          ],
          [
           "Luton Town FC (1) - Manchester United FC (2) on 2024-02-18 16:30:00+00:00"
          ],
          [
           "Everton FC (1) - Crystal Palace FC (1) on 2024-02-19 20:00:00+00:00"
          ],
          [
           "Manchester City FC (1) - Brentford FC (0) on 2024-02-20 19:30:00+00:00"
          ],
          [
           "Liverpool FC (4) - Luton Town FC (1) on 2024-02-21 19:30:00+00:00"
          ],
          [
           "Aston Villa FC (4) - Nottingham Forest FC (2) on 2024-02-24 15:00:00+00:00"
          ],
          [
           "Brighton & Hove Albion FC (1) - Everton FC (1) on 2024-02-24 15:00:00+00:00"
          ],
          [
           "Crystal Palace FC (3) - Burnley FC (0) on 2024-02-24 15:00:00+00:00"
          ],
          [
           "Manchester United FC (1) - Fulham FC (2) on 2024-02-24 15:00:00+00:00"
          ],
          [
           "AFC Bournemouth (0) - Manchester City FC (1) on 2024-02-24 17:30:00+00:00"
          ],
          [
           "Arsenal FC (4) - Newcastle United FC (1) on 2024-02-24 20:00:00+00:00"
          ],
          [
           "Wolverhampton Wanderers FC (1) - Sheffield United FC (0) on 2024-02-25 13:30:00+00:00"
          ],
          [
           "West Ham United FC (4) - Brentford FC (2) on 2024-02-26 20:00:00+00:00"
          ],
          [
           "Brentford FC (2) - Chelsea FC (2) on 2024-03-02 15:00:00+00:00"
          ],
          [
           "Everton FC (1) - West Ham United FC (3) on 2024-03-02 15:00:00+00:00"
          ],
          [
           "Fulham FC (3) - Brighton & Hove Albion FC (0) on 2024-03-02 15:00:00+00:00"
          ],
          [
           "Newcastle United FC (3) - Wolverhampton Wanderers FC (0) on 2024-03-02 15:00:00+00:00"
          ],
          [
           "Nottingham Forest FC (0) - Liverpool FC (1) on 2024-03-02 15:00:00+00:00"
          ],
          [
           "Tottenham Hotspur FC (3) - Crystal Palace FC (1) on 2024-03-02 15:00:00+00:00"
          ],
          [
           "Luton Town FC (2) - Aston Villa FC (3) on 2024-03-02 17:30:00+00:00"
          ],
          [
           "Burnley FC (0) - AFC Bournemouth (2) on 2024-03-03 13:00:00+00:00"
          ],
          [
           "Manchester City FC (3) - Manchester United FC (1) on 2024-03-03 15:30:00+00:00"
          ],
          [
           "Sheffield United FC (0) - Arsenal FC (6) on 2024-03-04 20:00:00+00:00"
          ],
          [
           "Manchester United FC (2) - Everton FC (0) on 2024-03-09 12:30:00+00:00"
          ],
          [
           "AFC Bournemouth (2) - Sheffield United FC (2) on 2024-03-09 15:00:00+00:00"
          ],
          [
           "Crystal Palace FC (1) - Luton Town FC (1) on 2024-03-09 15:00:00+00:00"
          ],
          [
           "Wolverhampton Wanderers FC (2) - Fulham FC (1) on 2024-03-09 15:00:00+00:00"
          ],
          [
           "Arsenal FC (2) - Brentford FC (1) on 2024-03-09 17:30:00+00:00"
          ],
          [
           "Aston Villa FC (0) - Tottenham Hotspur FC (4) on 2024-03-10 13:00:00+00:00"
          ],
          [
           "Brighton & Hove Albion FC (1) - Nottingham Forest FC (0) on 2024-03-10 14:00:00+00:00"
          ],
          [
           "West Ham United FC (2) - Burnley FC (2) on 2024-03-10 14:00:00+00:00"
          ],
          [
           "Liverpool FC (1) - Manchester City FC (1) on 2024-03-10 15:45:00+00:00"
          ],
          [
           "Chelsea FC (3) - Newcastle United FC (2) on 2024-03-11 20:00:00+00:00"
          ],
          [
           "AFC Bournemouth (4) - Luton Town FC (3) on 2024-03-13 19:30:00+00:00"
          ],
          [
           "Burnley FC (2) - Brentford FC (1) on 2024-03-16 15:00:00+00:00"
          ],
          [
           "Luton Town FC (1) - Nottingham Forest FC (1) on 2024-03-16 15:00:00+00:00"
          ],
          [
           "Fulham FC (3) - Tottenham Hotspur FC (0) on 2024-03-16 17:30:00+00:00"
          ],
          [
           "West Ham United FC (1) - Aston Villa FC (1) on 2024-03-17 14:00:00+00:00"
          ],
          [
           "Newcastle United FC (4) - West Ham United FC (3) on 2024-03-30 12:30:00+00:00"
          ],
          [
           "AFC Bournemouth (2) - Everton FC (1) on 2024-03-30 15:00:00+00:00"
          ],
          [
           "Chelsea FC (2) - Burnley FC (2) on 2024-03-30 15:00:00+00:00"
          ],
          [
           "Nottingham Forest FC (1) - Crystal Palace FC (1) on 2024-03-30 15:00:00+00:00"
          ],
          [
           "Sheffield United FC (3) - Fulham FC (3) on 2024-03-30 15:00:00+00:00"
          ],
          [
           "Tottenham Hotspur FC (2) - Luton Town FC (1) on 2024-03-30 15:00:00+00:00"
          ],
          [
           "Aston Villa FC (2) - Wolverhampton Wanderers FC (0) on 2024-03-30 17:30:00+00:00"
          ],
          [
           "Brentford FC (1) - Manchester United FC (1) on 2024-03-30 20:00:00+00:00"
          ],
          [
           "Liverpool FC (2) - Brighton & Hove Albion FC (1) on 2024-03-31 13:00:00+00:00"
          ],
          [
           "Manchester City FC (0) - Arsenal FC (0) on 2024-03-31 15:30:00+00:00"
          ],
          [
           "Nottingham Forest FC (3) - Fulham FC (1) on 2024-04-02 18:30:00+00:00"
          ],
          [
           "Newcastle United FC (1) - Everton FC (1) on 2024-04-02 18:30:00+00:00"
          ],
          [
           "AFC Bournemouth (1) - Crystal Palace FC (0) on 2024-04-02 18:45:00+00:00"
          ],
          [
           "Burnley FC (1) - Wolverhampton Wanderers FC (1) on 2024-04-02 18:45:00+00:00"
          ],
          [
           "West Ham United FC (1) - Tottenham Hotspur FC (1) on 2024-04-02 19:15:00+00:00"
          ],
          [
           "Arsenal FC (2) - Luton Town FC (0) on 2024-04-03 18:30:00+00:00"
          ],
          [
           "Brentford FC (0) - Brighton & Hove Albion FC (0) on 2024-04-03 18:30:00+00:00"
          ],
          [
           "Manchester City FC (4) - Aston Villa FC (1) on 2024-04-03 19:15:00+00:00"
          ],
          [
           "Liverpool FC (3) - Sheffield United FC (1) on 2024-04-04 18:30:00+00:00"
          ],
          [
           "Chelsea FC (4) - Manchester United FC (3) on 2024-04-04 19:15:00+00:00"
          ],
          [
           "Crystal Palace FC (2) - Manchester City FC (4) on 2024-04-06 11:30:00+00:00"
          ],
          [
           "Aston Villa FC (3) - Brentford FC (3) on 2024-04-06 14:00:00+00:00"
          ],
          [
           "Everton FC (1) - Burnley FC (0) on 2024-04-06 14:00:00+00:00"
          ],
          [
           "Fulham FC (0) - Newcastle United FC (1) on 2024-04-06 14:00:00+00:00"
          ],
          [
           "Luton Town FC (2) - AFC Bournemouth (1) on 2024-04-06 14:00:00+00:00"
          ],
          [
           "Wolverhampton Wanderers FC (1) - West Ham United FC (2) on 2024-04-06 14:00:00+00:00"
          ],
          [
           "Brighton & Hove Albion FC (0) - Arsenal FC (3) on 2024-04-06 16:30:00+00:00"
          ],
          [
           "Manchester United FC (2) - Liverpool FC (2) on 2024-04-07 14:30:00+00:00"
          ],
          [
           "Sheffield United FC (2) - Chelsea FC (2) on 2024-04-07 16:30:00+00:00"
          ],
          [
           "Tottenham Hotspur FC (3) - Nottingham Forest FC (1) on 2024-04-07 17:00:00+00:00"
          ],
          [
           "Newcastle United FC (4) - Tottenham Hotspur FC (0) on 2024-04-13 11:30:00+00:00"
          ],
          [
           "Brentford FC (2) - Sheffield United FC (0) on 2024-04-13 14:00:00+00:00"
          ],
          [
           "Burnley FC (1) - Brighton & Hove Albion FC (1) on 2024-04-13 14:00:00+00:00"
          ],
          [
           "Manchester City FC (5) - Luton Town FC (1) on 2024-04-13 14:00:00+00:00"
          ],
          [
           "Nottingham Forest FC (2) - Wolverhampton Wanderers FC (2) on 2024-04-13 14:00:00+00:00"
          ],
          [
           "AFC Bournemouth (2) - Manchester United FC (2) on 2024-04-13 16:30:00+00:00"
          ],
          [
           "Liverpool FC (0) - Crystal Palace FC (1) on 2024-04-14 13:00:00+00:00"
          ],
          [
           "West Ham United FC (0) - Fulham FC (2) on 2024-04-14 13:00:00+00:00"
          ],
          [
           "Arsenal FC (0) - Aston Villa FC (2) on 2024-04-14 15:30:00+00:00"
          ],
          [
           "Chelsea FC (6) - Everton FC (0) on 2024-04-15 19:00:00+00:00"
          ],
          [
           "Luton Town FC (1) - Brentford FC (5) on 2024-04-20 14:00:00+00:00"
          ],
          [
           "Sheffield United FC (1) - Burnley FC (4) on 2024-04-20 14:00:00+00:00"
          ],
          [
           "Wolverhampton Wanderers FC (0) - Arsenal FC (2) on 2024-04-20 18:30:00+00:00"
          ],
          [
           "Everton FC (2) - Nottingham Forest FC (0) on 2024-04-21 12:30:00+00:00"
          ],
          [
           "Aston Villa FC (3) - AFC Bournemouth (1) on 2024-04-21 14:00:00+00:00"
          ],
          [
           "Crystal Palace FC (5) - West Ham United FC (2) on 2024-04-21 14:00:00+00:00"
          ],
          [
           "Fulham FC (1) - Liverpool FC (3) on 2024-04-21 15:30:00+00:00"
          ],
          [
           "Arsenal FC (5) - Chelsea FC (0) on 2024-04-23 19:00:00+00:00"
          ],
          [
           "Wolverhampton Wanderers FC (0) - AFC Bournemouth (1) on 2024-04-24 18:45:00+00:00"
          ],
          [
           "Crystal Palace FC (2) - Newcastle United FC (0) on 2024-04-24 19:00:00+00:00"
          ],
          [
           "Everton FC (2) - Liverpool FC (0) on 2024-04-24 19:00:00+00:00"
          ],
          [
           "Manchester United FC (4) - Sheffield United FC (2) on 2024-04-24 19:00:00+00:00"
          ],
          [
           "Brighton & Hove Albion FC (0) - Manchester City FC (4) on 2024-04-25 19:00:00+00:00"
          ],
          [
           "West Ham United FC (2) - Liverpool FC (2) on 2024-04-27 11:30:00+00:00"
          ],
          [
           "Fulham FC (1) - Crystal Palace FC (1) on 2024-04-27 14:00:00+00:00"
          ],
          [
           "Manchester United FC (1) - Burnley FC (1) on 2024-04-27 14:00:00+00:00"
          ],
          [
           "Newcastle United FC (5) - Sheffield United FC (1) on 2024-04-27 14:00:00+00:00"
          ],
          [
           "Wolverhampton Wanderers FC (2) - Luton Town FC (1) on 2024-04-27 14:00:00+00:00"
          ],
          [
           "Everton FC (1) - Brentford FC (0) on 2024-04-27 16:30:00+00:00"
          ],
          [
           "Aston Villa FC (2) - Chelsea FC (2) on 2024-04-27 19:00:00+00:00"
          ],
          [
           "AFC Bournemouth (3) - Brighton & Hove Albion FC (0) on 2024-04-28 13:00:00+00:00"
          ],
          [
           "Tottenham Hotspur FC (2) - Arsenal FC (3) on 2024-04-28 13:00:00+00:00"
          ],
          [
           "Nottingham Forest FC (0) - Manchester City FC (2) on 2024-04-28 15:30:00+00:00"
          ],
          [
           "Chelsea FC (2) - Tottenham Hotspur FC (0) on 2024-05-02 18:30:00+00:00"
          ],
          [
           "Luton Town FC (1) - Everton FC (1) on 2024-05-03 19:00:00+00:00"
          ],
          [
           "Arsenal FC (3) - AFC Bournemouth (0) on 2024-05-04 11:30:00+00:00"
          ],
          [
           "Brentford FC (0) - Fulham FC (0) on 2024-05-04 14:00:00+00:00"
          ],
          [
           "Burnley FC (1) - Newcastle United FC (4) on 2024-05-04 14:00:00+00:00"
          ],
          [
           "Sheffield United FC (1) - Nottingham Forest FC (3) on 2024-05-04 14:00:00+00:00"
          ],
          [
           "Manchester City FC (5) - Wolverhampton Wanderers FC (1) on 2024-05-04 16:30:00+00:00"
          ],
          [
           "Brighton & Hove Albion FC (1) - Aston Villa FC (0) on 2024-05-05 13:00:00+00:00"
          ],
          [
           "Chelsea FC (5) - West Ham United FC (0) on 2024-05-05 13:00:00+00:00"
          ],
          [
           "Liverpool FC (4) - Tottenham Hotspur FC (2) on 2024-05-05 15:30:00+00:00"
          ],
          [
           "Crystal Palace FC (4) - Manchester United FC (0) on 2024-05-06 19:00:00+00:00"
          ],
          [
           "Fulham FC (0) - Manchester City FC (4) on 2024-05-11 11:30:00+00:00"
          ],
          [
           "AFC Bournemouth (1) - Brentford FC (2) on 2024-05-11 14:00:00+00:00"
          ],
          [
           "Everton FC (1) - Sheffield United FC (0) on 2024-05-11 14:00:00+00:00"
          ],
          [
           "Newcastle United FC (1) - Brighton & Hove Albion FC (1) on 2024-05-11 14:00:00+00:00"
          ],
          [
           "Tottenham Hotspur FC (2) - Burnley FC (1) on 2024-05-11 14:00:00+00:00"
          ],
          [
           "West Ham United FC (3) - Luton Town FC (1) on 2024-05-11 14:00:00+00:00"
          ],
          [
           "Wolverhampton Wanderers FC (1) - Crystal Palace FC (3) on 2024-05-11 14:00:00+00:00"
          ],
          [
           "Nottingham Forest FC (2) - Chelsea FC (3) on 2024-05-11 16:30:00+00:00"
          ],
          [
           "Manchester United FC (0) - Arsenal FC (1) on 2024-05-12 15:30:00+00:00"
          ],
          [
           "Aston Villa FC (3) - Liverpool FC (3) on 2024-05-13 19:00:00+00:00"
          ],
          [
           "Tottenham Hotspur FC (0) - Manchester City FC (2) on 2024-05-14 19:00:00+00:00"
          ],
          [
           "Brighton & Hove Albion FC (1) - Chelsea FC (2) on 2024-05-15 18:45:00+00:00"
          ],
          [
           "Manchester United FC (3) - Newcastle United FC (2) on 2024-05-15 19:00:00+00:00"
          ],
          [
           "Arsenal FC (2) - Everton FC (1) on 2024-05-19 15:00:00+00:00"
          ],
          [
           "Brentford FC (2) - Newcastle United FC (4) on 2024-05-19 15:00:00+00:00"
          ],
          [
           "Brighton & Hove Albion FC (0) - Manchester United FC (2) on 2024-05-19 15:00:00+00:00"
          ],
          [
           "Burnley FC (1) - Nottingham Forest FC (2) on 2024-05-19 15:00:00+00:00"
          ],
          [
           "Chelsea FC (2) - AFC Bournemouth (1) on 2024-05-19 15:00:00+00:00"
          ],
          [
           "Crystal Palace FC (5) - Aston Villa FC (0) on 2024-05-19 15:00:00+00:00"
          ],
          [
           "Liverpool FC (2) - Wolverhampton Wanderers FC (0) on 2024-05-19 15:00:00+00:00"
          ],
          [
           "Luton Town FC (2) - Fulham FC (4) on 2024-05-19 15:00:00+00:00"
          ],
          [
           "Manchester City FC (3) - West Ham United FC (1) on 2024-05-19 15:00:00+00:00"
          ],
          [
           "Sheffield United FC (0) - Tottenham Hotspur FC (3) on 2024-05-19 15:00:00+00:00"
          ]
         ],
         "hovertemplate": "Season=2023-2024<br>Elo Difference=%{x}<br>Home Outcome=%{y}<br>Match Info=%{customdata[0]}<extra></extra>",
         "legendgroup": "2023-2024",
         "marker": {
          "color": "#EF553B",
          "symbol": "circle"
         },
         "mode": "markers",
         "name": "2023-2024",
         "orientation": "h",
         "showlegend": true,
         "type": "scatter",
         "x": [
          -486.428650482457,
          288.9692260559625,
          -38.18764563729928,
          185.17759328160264,
          -56.64132073832957,
          -136.73168757199142,
          39.13528638921275,
          -14.204396542689665,
          -132.60345105806823,
          195.32306608889894,
          113.04098989546173,
          -90.20878381873604,
          265.23978528211387,
          -132.0785545031813,
          -31.647360690308005,
          265.8412636990838,
          174.22526626233685,
          -38.18137584124929,
          -246.26002909280282,
          180.26914941387167,
          -167.39023937395973,
          -51.449758107673915,
          159.69872034741934,
          238.955989012391,
          53.24220624875693,
          19.197122957005377,
          -505.70185227315505,
          -203.92265060181467,
          -109.5104508251984,
          -172.4506165214416,
          -36.02041032426814,
          113.11243661546041,
          -205.5660110245592,
          34.98809416192944,
          378.2559380257678,
          -6.893612819001419,
          77.21290234329922,
          127.68247114116662,
          125.53498187839591,
          -273.9705336169584,
          94.37207114464354,
          141.272503072591,
          -4.198898921166119,
          235.10776320633568,
          -324.1948468021167,
          59.00445743491582,
          -76.31565162629909,
          -321.6252698216174,
          82.02444428640524,
          6.526517759365561,
          -71.37434493110482,
          364.0159225164539,
          66.19317262812501,
          -191.78230548769784,
          106.58151087595343,
          160.68673168316968,
          -106.96806324902923,
          196.73687000520545,
          -228.11930086883808,
          52.85746828940364,
          -283.4061188123401,
          21.68970495959161,
          33.217666155685265,
          208.84113166046086,
          170.56356693234306,
          -323.5062263599507,
          -54.3102606409725,
          -17.718432782770833,
          -43.59637414420331,
          -36.12554878428682,
          -258.0720872082213,
          -133.07613759672836,
          26.730588225258998,
          141.3552041745986,
          89.88692882384657,
          38.05768914090277,
          -94.8470115142577,
          -59.862878487216676,
          -129.3751718028302,
          -34.503098137874304,
          239.71843482304712,
          -99.78444514618991,
          109.67960596014655,
          200.69461971538158,
          96.4008075221393,
          97.08101738374398,
          -167.3953396624779,
          -232.47820249629467,
          107.2591442164171,
          157.695343578338,
          -150.50404760630386,
          -1.727292727170834,
          46.03784683892809,
          358.2845151420611,
          -90.11123539005962,
          33.02007192691849,
          246.65556313300044,
          70.31837610296384,
          203.7960171114164,
          -196.47538598507845,
          -108.51730901294127,
          64.33698548670827,
          -141.09263342215513,
          -83.43840159919091,
          339.5566284583931,
          -95.25424386665918,
          -57.898142071121356,
          -94.66074582416331,
          -258.2810597796797,
          69.16880301582069,
          -79.35391610329475,
          307.70173208761753,
          -1.9439383016404008,
          195.81904863352634,
          -131.60619412772257,
          144.30847820537633,
          143.68513812699985,
          139.06730156236995,
          16.575169490174858,
          -185.1449587345685,
          65.06795461099568,
          -149.79906691905126,
          -42.76531818356466,
          63.41047079404029,
          -89.02707296271842,
          -87.28363616207321,
          -167.29629500892474,
          -55.79577063345232,
          -123.18549962643806,
          0.34858001098268687,
          208.38931032637424,
          117.57396881756267,
          18.356699212259855,
          -47.663414394543906,
          38.704259453948225,
          -127.92512240613746,
          22.841346282282075,
          192.58966581102595,
          39.382160712018276,
          141.1538841714073,
          115.11348685613711,
          -277.39174219813685,
          42.92623626943373,
          61.38463149703284,
          -300.89635046283524,
          -49.041723447681306,
          -50.17494351743676,
          56.8310831994429,
          -63.89520164776536,
          15.51024415886127,
          -226.41678071606384,
          150.54486888529823,
          40.700051405402974,
          -82.43551595159988,
          49.89401069406176,
          -8.206909412841242,
          27.039692685361842,
          7.803618297281673,
          -276.3083032130587,
          4.092046432573397,
          -147.68336261399259,
          137.95646390446632,
          204.62942768079006,
          77.71478854727707,
          -169.22484939426568,
          137.45295258677538,
          -181.74370216528428,
          55.25139125912574,
          90.38350939837528,
          -58.144989537566516,
          229.46484543195425,
          2.269016632690864,
          61.07913981268575,
          -108.82412716418776,
          -122.01142148454869,
          59.44016322719199,
          -3.6374335813436574,
          -9.64875657880657,
          71.76625089006188,
          94.7659045071116,
          -65.10222375847957,
          -248.1444382808504,
          -38.94431739456968,
          -57.169458497065534,
          73.4981338087373,
          -151.69433753166004,
          -21.383208986390855,
          56.004196442896045,
          -93.45481586936626,
          210.03197642712075,
          31.67511815329135,
          281.5775152472909,
          33.56717804589766,
          -65.24943097756659,
          -105.95432220450084,
          48.50269818286074,
          156.98364314536457,
          22.877244579862918,
          -34.828610638719056,
          79.4722824934372,
          -180.8668061068231,
          -97.22219213275253,
          -36.057446835645806,
          145.73074669156745,
          7.432308380599579,
          -152.92487907701707,
          -149.63552682616046,
          10.007629187761722,
          -167.3047112815159,
          -46.23815376159723,
          -27.8160842127038,
          85.93525557168277,
          53.3214616805667,
          137.2756549991011,
          271.77252784516577,
          139.3621415333041,
          30.513012011527962,
          -45.976897575549856,
          -71.86712433866114,
          72.677042835767,
          -60.38921801515676,
          43.227418533177115,
          -196.91295643952026,
          65.68378565300372,
          -17.199201778627867,
          43.98957903615087,
          -16.815093054551426,
          -234.89793242846054,
          185.6368102235308,
          1.0673076645957735,
          242.78162549879994,
          38.0382311760593,
          78.73247636780843,
          37.48462079616161,
          -95.1432680939306,
          -123.82421758588907,
          -33.44834331842162,
          -85.88131505574415,
          -194.09201762913267,
          -240.25444573847676,
          -92.7197378392791,
          32.32483122861322,
          -29.187199147633237,
          35.197902824411585,
          130.3543280994777,
          -126.12410044336502,
          -160.11083734971908,
          44.295283032254474,
          217.91901367310584,
          224.09602517640815,
          132.42889438483144,
          28.79705192654842,
          78.93559394812178,
          65.1867487398697,
          -188.26464145269097,
          136.4012077137627,
          149.33456033284142,
          72.41389931128015,
          -87.2114006591155,
          -49.64505880626848,
          22.295771553854138,
          14.919963612250285,
          -217.8445130957282,
          123.0284289530673,
          -166.8061464963373,
          -121.35140327368026,
          126.96622813551312,
          -263.0240398072949,
          104.4649333128084,
          95.17684685773315,
          26.29156516742478,
          33.25738433839092,
          218.47386570294157,
          -27.499118258612498,
          90.17236771776766,
          127.31765944956874,
          -17.594702326926154,
          35.99883805706577,
          94.5859041339072,
          -0.8915736972139712,
          -12.213330431476379,
          -38.61716392352855,
          -42.29237224858707,
          33.57703577675625,
          78.0089956517304,
          114.85066211351295,
          -21.382009354048478,
          -110.83746004351974,
          166.77040929560872,
          58.57534067616007,
          -129.64929831132827,
          156.17208093544787,
          15.454107214655096,
          -35.476245690270844,
          72.78425452332499,
          98.8138881526163,
          -79.62465229241661,
          -65.61357352707637,
          248.58621946835456,
          -67.41311832581209,
          114.6772536771889,
          258.5915423081924,
          24.522359307809438,
          -241.20940834508883,
          107.93893986270314,
          56.09645619632602,
          -65.2940680880397,
          -77.70542857057899,
          -30.163745869319882,
          -168.74557683264334,
          -110.74687111432195,
          -132.46122367232715,
          131.81830419841003,
          7.465354983202815,
          61.29793203728286,
          -62.0539707584112,
          248.77299201199708,
          -38.24043155565778,
          -24.146978363863354,
          148.2569546004445,
          -0.26126798781956495,
          53.720190017017785,
          103.0221602085569,
          -67.66592521507096,
          -57.94896187059885,
          -156.7970804878032,
          44.74354286392918,
          90.91801557640815,
          10.579573681129204,
          -137.30493864435653,
          100.41456106655801,
          -53.911360876241815,
          -24.71116715203061,
          -85.9261535540104,
          168.16617207728632,
          -203.6144936040082,
          -97.2376000822128,
          -21.612742256009824,
          87.45391486701737,
          174.6746591323406,
          78.18161014045427,
          59.79806853753348,
          36.511359077228235,
          70.18178647980926,
          -114.74873729149499,
          -252.23253419310117,
          43.55511957266731,
          -106.22678884106926,
          144.3984376196338,
          -21.062262435042612,
          -119.38702062695552,
          -87.57508120171951,
          214.3691111656915,
          -65.35153718214701,
          103.81917517721331,
          93.6499152389431,
          13.552354009346573,
          -208.2118710326065,
          4.25841194794657,
          172.71756268316358,
          61.09987434243226,
          91.61725268389773,
          90.42832698130587,
          -90.72715865277996,
          -147.25597093696183,
          -162.21633199689109,
          -36.27668543445566,
          -184.41821751447628,
          -117.77742350199128,
          -2.519455878893723,
          158.99812173578312,
          -71.56630172429072,
          -80.16741094168287,
          -48.19143222054731,
          124.99004657869045,
          31.96045450367228,
          154.2369136801858,
          -108.13807746748284,
          213.43759334632978,
          -168.84585731882567
         ],
         "xaxis": "x",
         "y": [
          "0",
          "3",
          "1",
          "3",
          "0",
          "0",
          "3",
          "1",
          "1",
          "3",
          "3",
          "0",
          "3",
          "0",
          "3",
          "3",
          "3",
          "3",
          "0",
          "3",
          "0",
          "0",
          "3",
          "1",
          "1",
          "0",
          "0",
          "0",
          "0",
          "0",
          "1",
          "1",
          "0",
          "0",
          "3",
          "3",
          "3",
          "3",
          "3",
          "0",
          "3",
          "3",
          "0",
          "3",
          "0",
          "3",
          "1",
          "0",
          "1",
          "1",
          "1",
          "3",
          "0",
          "0",
          "1",
          "3",
          "0",
          "3",
          "0",
          "3",
          "0",
          "0",
          "0",
          "3",
          "3",
          "3",
          "3",
          "1",
          "0",
          "0",
          "0",
          "0",
          "3",
          "3",
          "3",
          "1",
          "1",
          "1",
          "1",
          "3",
          "3",
          "0",
          "3",
          "3",
          "3",
          "1",
          "1",
          "0",
          "3",
          "3",
          "0",
          "0",
          "3",
          "3",
          "1",
          "0",
          "3",
          "1",
          "3",
          "0",
          "0",
          "3",
          "0",
          "1",
          "3",
          "3",
          "3",
          "3",
          "1",
          "0",
          "3",
          "3",
          "0",
          "3",
          "3",
          "3",
          "1",
          "3",
          "3",
          "1",
          "1",
          "0",
          "3",
          "3",
          "0",
          "0",
          "0",
          "0",
          "0",
          "3",
          "3",
          "3",
          "3",
          "0",
          "3",
          "1",
          "3",
          "3",
          "1",
          "1",
          "3",
          "0",
          "3",
          "3",
          "0",
          "0",
          "3",
          "3",
          "3",
          "0",
          "0",
          "1",
          "0",
          "3",
          "1",
          "3",
          "3",
          "3",
          "0",
          "3",
          "0",
          "3",
          "1",
          "3",
          "0",
          "3",
          "0",
          "3",
          "1",
          "1",
          "1",
          "3",
          "0",
          "3",
          "0",
          "3",
          "1",
          "3",
          "0",
          "3",
          "0",
          "0",
          "3",
          "0",
          "3",
          "0",
          "3",
          "0",
          "0",
          "3",
          "3",
          "3",
          "3",
          "3",
          "3",
          "3",
          "3",
          "1",
          "1",
          "3",
          "0",
          "1",
          "1",
          "3",
          "3",
          "1",
          "0",
          "1",
          "0",
          "3",
          "1",
          "3",
          "0",
          "3",
          "3",
          "3",
          "1",
          "0",
          "1",
          "3",
          "1",
          "1",
          "0",
          "1",
          "0",
          "3",
          "3",
          "0",
          "3",
          "3",
          "3",
          "0",
          "3",
          "0",
          "0",
          "0",
          "0",
          "0",
          "0",
          "0",
          "0",
          "1",
          "3",
          "0",
          "1",
          "0",
          "0",
          "1",
          "3",
          "3",
          "3",
          "1",
          "3",
          "0",
          "0",
          "3",
          "3",
          "3",
          "1",
          "0",
          "3",
          "3",
          "0",
          "3",
          "0",
          "0",
          "3",
          "0",
          "3",
          "1",
          "1",
          "3",
          "3",
          "0",
          "3",
          "1",
          "1",
          "3",
          "3",
          "3",
          "1",
          "3",
          "1",
          "3",
          "3",
          "1",
          "1",
          "1",
          "3",
          "3",
          "1",
          "3",
          "1",
          "3",
          "1",
          "3",
          "1",
          "1",
          "3",
          "1",
          "3",
          "3",
          "3",
          "0",
          "1",
          "3",
          "0",
          "3",
          "0",
          "0",
          "1",
          "1",
          "3",
          "3",
          "3",
          "1",
          "3",
          "1",
          "1",
          "0",
          "0",
          "0",
          "3",
          "0",
          "0",
          "0",
          "3",
          "3",
          "3",
          "0",
          "3",
          "0",
          "3",
          "3",
          "3",
          "0",
          "1",
          "1",
          "1",
          "3",
          "3",
          "3",
          "1",
          "3",
          "0",
          "0",
          "3",
          "1",
          "3",
          "1",
          "0",
          "0",
          "3",
          "3",
          "3",
          "3",
          "3",
          "0",
          "0",
          "3",
          "1",
          "3",
          "3",
          "0",
          "0",
          "0",
          "1",
          "0",
          "0",
          "3",
          "3",
          "0",
          "0",
          "0",
          "3",
          "3",
          "3",
          "0",
          "3",
          "0"
         ],
         "yaxis": "y"
        }
       ],
       "layout": {
        "legend": {
         "title": {
          "text": "Season"
         },
         "tracegroupgap": 0
        },
        "template": {
         "data": {
          "bar": [
           {
            "error_x": {
             "color": "#2a3f5f"
            },
            "error_y": {
             "color": "#2a3f5f"
            },
            "marker": {
             "line": {
              "color": "#E5ECF6",
              "width": 0.5
             },
             "pattern": {
              "fillmode": "overlay",
              "size": 10,
              "solidity": 0.2
             }
            },
            "type": "bar"
           }
          ],
          "barpolar": [
           {
            "marker": {
             "line": {
              "color": "#E5ECF6",
              "width": 0.5
             },
             "pattern": {
              "fillmode": "overlay",
              "size": 10,
              "solidity": 0.2
             }
            },
            "type": "barpolar"
           }
          ],
          "carpet": [
           {
            "aaxis": {
             "endlinecolor": "#2a3f5f",
             "gridcolor": "white",
             "linecolor": "white",
             "minorgridcolor": "white",
             "startlinecolor": "#2a3f5f"
            },
            "baxis": {
             "endlinecolor": "#2a3f5f",
             "gridcolor": "white",
             "linecolor": "white",
             "minorgridcolor": "white",
             "startlinecolor": "#2a3f5f"
            },
            "type": "carpet"
           }
          ],
          "choropleth": [
           {
            "colorbar": {
             "outlinewidth": 0,
             "ticks": ""
            },
            "type": "choropleth"
           }
          ],
          "contour": [
           {
            "colorbar": {
             "outlinewidth": 0,
             "ticks": ""
            },
            "colorscale": [
             [
              0,
              "#0d0887"
             ],
             [
              0.1111111111111111,
              "#46039f"
             ],
             [
              0.2222222222222222,
              "#7201a8"
             ],
             [
              0.3333333333333333,
              "#9c179e"
             ],
             [
              0.4444444444444444,
              "#bd3786"
             ],
             [
              0.5555555555555556,
              "#d8576b"
             ],
             [
              0.6666666666666666,
              "#ed7953"
             ],
             [
              0.7777777777777778,
              "#fb9f3a"
             ],
             [
              0.8888888888888888,
              "#fdca26"
             ],
             [
              1,
              "#f0f921"
             ]
            ],
            "type": "contour"
           }
          ],
          "contourcarpet": [
           {
            "colorbar": {
             "outlinewidth": 0,
             "ticks": ""
            },
            "type": "contourcarpet"
           }
          ],
          "heatmap": [
           {
            "colorbar": {
             "outlinewidth": 0,
             "ticks": ""
            },
            "colorscale": [
             [
              0,
              "#0d0887"
             ],
             [
              0.1111111111111111,
              "#46039f"
             ],
             [
              0.2222222222222222,
              "#7201a8"
             ],
             [
              0.3333333333333333,
              "#9c179e"
             ],
             [
              0.4444444444444444,
              "#bd3786"
             ],
             [
              0.5555555555555556,
              "#d8576b"
             ],
             [
              0.6666666666666666,
              "#ed7953"
             ],
             [
              0.7777777777777778,
              "#fb9f3a"
             ],
             [
              0.8888888888888888,
              "#fdca26"
             ],
             [
              1,
              "#f0f921"
             ]
            ],
            "type": "heatmap"
           }
          ],
          "heatmapgl": [
           {
            "colorbar": {
             "outlinewidth": 0,
             "ticks": ""
            },
            "colorscale": [
             [
              0,
              "#0d0887"
             ],
             [
              0.1111111111111111,
              "#46039f"
             ],
             [
              0.2222222222222222,
              "#7201a8"
             ],
             [
              0.3333333333333333,
              "#9c179e"
             ],
             [
              0.4444444444444444,
              "#bd3786"
             ],
             [
              0.5555555555555556,
              "#d8576b"
             ],
             [
              0.6666666666666666,
              "#ed7953"
             ],
             [
              0.7777777777777778,
              "#fb9f3a"
             ],
             [
              0.8888888888888888,
              "#fdca26"
             ],
             [
              1,
              "#f0f921"
             ]
            ],
            "type": "heatmapgl"
           }
          ],
          "histogram": [
           {
            "marker": {
             "pattern": {
              "fillmode": "overlay",
              "size": 10,
              "solidity": 0.2
             }
            },
            "type": "histogram"
           }
          ],
          "histogram2d": [
           {
            "colorbar": {
             "outlinewidth": 0,
             "ticks": ""
            },
            "colorscale": [
             [
              0,
              "#0d0887"
             ],
             [
              0.1111111111111111,
              "#46039f"
             ],
             [
              0.2222222222222222,
              "#7201a8"
             ],
             [
              0.3333333333333333,
              "#9c179e"
             ],
             [
              0.4444444444444444,
              "#bd3786"
             ],
             [
              0.5555555555555556,
              "#d8576b"
             ],
             [
              0.6666666666666666,
              "#ed7953"
             ],
             [
              0.7777777777777778,
              "#fb9f3a"
             ],
             [
              0.8888888888888888,
              "#fdca26"
             ],
             [
              1,
              "#f0f921"
             ]
            ],
            "type": "histogram2d"
           }
          ],
          "histogram2dcontour": [
           {
            "colorbar": {
             "outlinewidth": 0,
             "ticks": ""
            },
            "colorscale": [
             [
              0,
              "#0d0887"
             ],
             [
              0.1111111111111111,
              "#46039f"
             ],
             [
              0.2222222222222222,
              "#7201a8"
             ],
             [
              0.3333333333333333,
              "#9c179e"
             ],
             [
              0.4444444444444444,
              "#bd3786"
             ],
             [
              0.5555555555555556,
              "#d8576b"
             ],
             [
              0.6666666666666666,
              "#ed7953"
             ],
             [
              0.7777777777777778,
              "#fb9f3a"
             ],
             [
              0.8888888888888888,
              "#fdca26"
             ],
             [
              1,
              "#f0f921"
             ]
            ],
            "type": "histogram2dcontour"
           }
          ],
          "mesh3d": [
           {
            "colorbar": {
             "outlinewidth": 0,
             "ticks": ""
            },
            "type": "mesh3d"
           }
          ],
          "parcoords": [
           {
            "line": {
             "colorbar": {
              "outlinewidth": 0,
              "ticks": ""
             }
            },
            "type": "parcoords"
           }
          ],
          "pie": [
           {
            "automargin": true,
            "type": "pie"
           }
          ],
          "scatter": [
           {
            "fillpattern": {
             "fillmode": "overlay",
             "size": 10,
             "solidity": 0.2
            },
            "type": "scatter"
           }
          ],
          "scatter3d": [
           {
            "line": {
             "colorbar": {
              "outlinewidth": 0,
              "ticks": ""
             }
            },
            "marker": {
             "colorbar": {
              "outlinewidth": 0,
              "ticks": ""
             }
            },
            "type": "scatter3d"
           }
          ],
          "scattercarpet": [
           {
            "marker": {
             "colorbar": {
              "outlinewidth": 0,
              "ticks": ""
             }
            },
            "type": "scattercarpet"
           }
          ],
          "scattergeo": [
           {
            "marker": {
             "colorbar": {
              "outlinewidth": 0,
              "ticks": ""
             }
            },
            "type": "scattergeo"
           }
          ],
          "scattergl": [
           {
            "marker": {
             "colorbar": {
              "outlinewidth": 0,
              "ticks": ""
             }
            },
            "type": "scattergl"
           }
          ],
          "scattermapbox": [
           {
            "marker": {
             "colorbar": {
              "outlinewidth": 0,
              "ticks": ""
             }
            },
            "type": "scattermapbox"
           }
          ],
          "scatterpolar": [
           {
            "marker": {
             "colorbar": {
              "outlinewidth": 0,
              "ticks": ""
             }
            },
            "type": "scatterpolar"
           }
          ],
          "scatterpolargl": [
           {
            "marker": {
             "colorbar": {
              "outlinewidth": 0,
              "ticks": ""
             }
            },
            "type": "scatterpolargl"
           }
          ],
          "scatterternary": [
           {
            "marker": {
             "colorbar": {
              "outlinewidth": 0,
              "ticks": ""
             }
            },
            "type": "scatterternary"
           }
          ],
          "surface": [
           {
            "colorbar": {
             "outlinewidth": 0,
             "ticks": ""
            },
            "colorscale": [
             [
              0,
              "#0d0887"
             ],
             [
              0.1111111111111111,
              "#46039f"
             ],
             [
              0.2222222222222222,
              "#7201a8"
             ],
             [
              0.3333333333333333,
              "#9c179e"
             ],
             [
              0.4444444444444444,
              "#bd3786"
             ],
             [
              0.5555555555555556,
              "#d8576b"
             ],
             [
              0.6666666666666666,
              "#ed7953"
             ],
             [
              0.7777777777777778,
              "#fb9f3a"
             ],
             [
              0.8888888888888888,
              "#fdca26"
             ],
             [
              1,
              "#f0f921"
             ]
            ],
            "type": "surface"
           }
          ],
          "table": [
           {
            "cells": {
             "fill": {
              "color": "#EBF0F8"
             },
             "line": {
              "color": "white"
             }
            },
            "header": {
             "fill": {
              "color": "#C8D4E3"
             },
             "line": {
              "color": "white"
             }
            },
            "type": "table"
           }
          ]
         },
         "layout": {
          "annotationdefaults": {
           "arrowcolor": "#2a3f5f",
           "arrowhead": 0,
           "arrowwidth": 1
          },
          "autotypenumbers": "strict",
          "coloraxis": {
           "colorbar": {
            "outlinewidth": 0,
            "ticks": ""
           }
          },
          "colorscale": {
           "diverging": [
            [
             0,
             "#8e0152"
            ],
            [
             0.1,
             "#c51b7d"
            ],
            [
             0.2,
             "#de77ae"
            ],
            [
             0.3,
             "#f1b6da"
            ],
            [
             0.4,
             "#fde0ef"
            ],
            [
             0.5,
             "#f7f7f7"
            ],
            [
             0.6,
             "#e6f5d0"
            ],
            [
             0.7,
             "#b8e186"
            ],
            [
             0.8,
             "#7fbc41"
            ],
            [
             0.9,
             "#4d9221"
            ],
            [
             1,
             "#276419"
            ]
           ],
           "sequential": [
            [
             0,
             "#0d0887"
            ],
            [
             0.1111111111111111,
             "#46039f"
            ],
            [
             0.2222222222222222,
             "#7201a8"
            ],
            [
             0.3333333333333333,
             "#9c179e"
            ],
            [
             0.4444444444444444,
             "#bd3786"
            ],
            [
             0.5555555555555556,
             "#d8576b"
            ],
            [
             0.6666666666666666,
             "#ed7953"
            ],
            [
             0.7777777777777778,
             "#fb9f3a"
            ],
            [
             0.8888888888888888,
             "#fdca26"
            ],
            [
             1,
             "#f0f921"
            ]
           ],
           "sequentialminus": [
            [
             0,
             "#0d0887"
            ],
            [
             0.1111111111111111,
             "#46039f"
            ],
            [
             0.2222222222222222,
             "#7201a8"
            ],
            [
             0.3333333333333333,
             "#9c179e"
            ],
            [
             0.4444444444444444,
             "#bd3786"
            ],
            [
             0.5555555555555556,
             "#d8576b"
            ],
            [
             0.6666666666666666,
             "#ed7953"
            ],
            [
             0.7777777777777778,
             "#fb9f3a"
            ],
            [
             0.8888888888888888,
             "#fdca26"
            ],
            [
             1,
             "#f0f921"
            ]
           ]
          },
          "colorway": [
           "#636efa",
           "#EF553B",
           "#00cc96",
           "#ab63fa",
           "#FFA15A",
           "#19d3f3",
           "#FF6692",
           "#B6E880",
           "#FF97FF",
           "#FECB52"
          ],
          "font": {
           "color": "#2a3f5f"
          },
          "geo": {
           "bgcolor": "white",
           "lakecolor": "white",
           "landcolor": "#E5ECF6",
           "showlakes": true,
           "showland": true,
           "subunitcolor": "white"
          },
          "hoverlabel": {
           "align": "left"
          },
          "hovermode": "closest",
          "mapbox": {
           "style": "light"
          },
          "paper_bgcolor": "white",
          "plot_bgcolor": "#E5ECF6",
          "polar": {
           "angularaxis": {
            "gridcolor": "white",
            "linecolor": "white",
            "ticks": ""
           },
           "bgcolor": "#E5ECF6",
           "radialaxis": {
            "gridcolor": "white",
            "linecolor": "white",
            "ticks": ""
           }
          },
          "scene": {
           "xaxis": {
            "backgroundcolor": "#E5ECF6",
            "gridcolor": "white",
            "gridwidth": 2,
            "linecolor": "white",
            "showbackground": true,
            "ticks": "",
            "zerolinecolor": "white"
           },
           "yaxis": {
            "backgroundcolor": "#E5ECF6",
            "gridcolor": "white",
            "gridwidth": 2,
            "linecolor": "white",
            "showbackground": true,
            "ticks": "",
            "zerolinecolor": "white"
           },
           "zaxis": {
            "backgroundcolor": "#E5ECF6",
            "gridcolor": "white",
            "gridwidth": 2,
            "linecolor": "white",
            "showbackground": true,
            "ticks": "",
            "zerolinecolor": "white"
           }
          },
          "shapedefaults": {
           "line": {
            "color": "#2a3f5f"
           }
          },
          "ternary": {
           "aaxis": {
            "gridcolor": "white",
            "linecolor": "white",
            "ticks": ""
           },
           "baxis": {
            "gridcolor": "white",
            "linecolor": "white",
            "ticks": ""
           },
           "bgcolor": "#E5ECF6",
           "caxis": {
            "gridcolor": "white",
            "linecolor": "white",
            "ticks": ""
           }
          },
          "title": {
           "x": 0.05
          },
          "xaxis": {
           "automargin": true,
           "gridcolor": "white",
           "linecolor": "white",
           "ticks": "",
           "title": {
            "standoff": 15
           },
           "zerolinecolor": "white",
           "zerolinewidth": 2
          },
          "yaxis": {
           "automargin": true,
           "gridcolor": "white",
           "linecolor": "white",
           "ticks": "",
           "title": {
            "standoff": 15
           },
           "zerolinecolor": "white",
           "zerolinewidth": 2
          }
         }
        },
        "title": {
         "text": "Elo Difference vs Outcome - Correlation: 0.63, P-value: 0.00"
        },
        "xaxis": {
         "anchor": "y",
         "domain": [
          0,
          1
         ],
         "title": {
          "text": "Elo Difference"
         }
        },
        "yaxis": {
         "anchor": "x",
         "domain": [
          0,
          1
         ],
         "title": {
          "text": "Home Outcome"
         }
        }
       }
      }
     },
     "metadata": {},
     "output_type": "display_data"
    },
    {
     "data": {
      "text/plain": [
       "<Figure size 1000x600 with 0 Axes>"
      ]
     },
     "metadata": {},
     "output_type": "display_data"
    }
   ],
   "source": [
    "import plotly.express as px\n",
    "import matplotlib.pyplot as plt\n",
    "\n",
    "plt.figure(figsize=(10, 6))\n",
    "fig = px.scatter(\n",
    "    data_2022_2024, x=\"Elo Difference\", y=\"Home Outcome\", color=\"Season\",\n",
    "    hover_data=[\"Match Info\"], title=f\"Elo Difference vs Outcome - Correlation: {correlation:.2f}, P-value: {p_value:.2f}\"\n",
    ")\n",
    "fig.show()"
   ]
  },
  {
   "cell_type": "markdown",
   "metadata": {},
   "source": [
    "## Training"
   ]
  },
  {
   "cell_type": "code",
   "execution_count": 5,
   "metadata": {},
   "outputs": [
    {
     "name": "stdout",
     "output_type": "stream",
     "text": [
      "Validation accuracy: 69.74%\n"
     ]
    }
   ],
   "source": [
    "from sklearn.ensemble import RandomForestClassifier\n",
    "from sklearn.model_selection import train_test_split\n",
    "from sklearn.preprocessing import StandardScaler\n",
    "\n",
    "# For simplicity, let\"s predict the home outcome based on Elo ratings\n",
    "x = df[[\"Home Elo\", \"Away Elo\"]]\n",
    "y = df[\"Home Outcome\"]\n",
    "\n",
    "# Split data into training and validation sets\n",
    "x_train, x_val, y_train, y_val = train_test_split(x, y, test_size=0.2)\n",
    "\n",
    "# Standardize the features\n",
    "scaler = StandardScaler()\n",
    "x_train = scaler.fit_transform(x_train)\n",
    "x_val = scaler.transform(x_val)\n",
    "\n",
    "# Train the model\n",
    "model = RandomForestClassifier(n_estimators=1000, max_depth=5, min_samples_split=5)\n",
    "model.fit(x_train, y_train)\n",
    "\n",
    "# Validate the model\n",
    "val_score = model.score(x_val, y_val)\n",
    "print(f\"Validation accuracy: {val_score * 100:.2f}%\")"
   ]
  },
  {
   "cell_type": "markdown",
   "metadata": {},
   "source": [
    "### Build Elo"
   ]
  },
  {
   "cell_type": "code",
   "execution_count": 6,
   "metadata": {},
   "outputs": [
    {
     "data": {
      "text/html": [
       "<div>\n",
       "<style scoped>\n",
       "    .dataframe tbody tr th:only-of-type {\n",
       "        vertical-align: middle;\n",
       "    }\n",
       "\n",
       "    .dataframe tbody tr th {\n",
       "        vertical-align: top;\n",
       "    }\n",
       "\n",
       "    .dataframe thead th {\n",
       "        text-align: right;\n",
       "    }\n",
       "</style>\n",
       "<table border=\"1\" class=\"dataframe\">\n",
       "  <thead>\n",
       "    <tr style=\"text-align: right;\">\n",
       "      <th></th>\n",
       "      <th>Elo</th>\n",
       "      <th>Club Value</th>\n",
       "      <th>Normalized Club Value</th>\n",
       "      <th>Exponential Club Value</th>\n",
       "      <th>Normalized Exponential Club Value</th>\n",
       "      <th>Adjusted Elo</th>\n",
       "    </tr>\n",
       "    <tr>\n",
       "      <th>Team</th>\n",
       "      <th></th>\n",
       "      <th></th>\n",
       "      <th></th>\n",
       "      <th></th>\n",
       "      <th></th>\n",
       "      <th></th>\n",
       "    </tr>\n",
       "  </thead>\n",
       "  <tbody>\n",
       "    <tr>\n",
       "      <th>Manchester City FC</th>\n",
       "      <td>1673.011153</td>\n",
       "      <td>1.320000e+09</td>\n",
       "      <td>1.000000</td>\n",
       "      <td>1.718282</td>\n",
       "      <td>1.000000</td>\n",
       "      <td>1973.011153</td>\n",
       "    </tr>\n",
       "    <tr>\n",
       "      <th>Arsenal FC</th>\n",
       "      <td>1580.836966</td>\n",
       "      <td>1.160000e+09</td>\n",
       "      <td>0.867159</td>\n",
       "      <td>1.380140</td>\n",
       "      <td>0.803209</td>\n",
       "      <td>1821.799755</td>\n",
       "    </tr>\n",
       "    <tr>\n",
       "      <th>Liverpool FC</th>\n",
       "      <td>1614.583991</td>\n",
       "      <td>9.419000e+08</td>\n",
       "      <td>0.686081</td>\n",
       "      <td>0.985917</td>\n",
       "      <td>0.573781</td>\n",
       "      <td>1786.718213</td>\n",
       "    </tr>\n",
       "    <tr>\n",
       "      <th>Manchester United FC</th>\n",
       "      <td>1597.579135</td>\n",
       "      <td>7.186500e+08</td>\n",
       "      <td>0.500726</td>\n",
       "      <td>0.649919</td>\n",
       "      <td>0.378238</td>\n",
       "      <td>1711.050530</td>\n",
       "    </tr>\n",
       "    <tr>\n",
       "      <th>Newcastle United FC</th>\n",
       "      <td>1587.033066</td>\n",
       "      <td>6.489500e+08</td>\n",
       "      <td>0.442858</td>\n",
       "      <td>0.557151</td>\n",
       "      <td>0.324249</td>\n",
       "      <td>1684.307700</td>\n",
       "    </tr>\n",
       "    <tr>\n",
       "      <th>Aston Villa FC</th>\n",
       "      <td>1584.861840</td>\n",
       "      <td>6.556000e+08</td>\n",
       "      <td>0.448379</td>\n",
       "      <td>0.565772</td>\n",
       "      <td>0.329266</td>\n",
       "      <td>1683.641660</td>\n",
       "    </tr>\n",
       "    <tr>\n",
       "      <th>Tottenham Hotspur FC</th>\n",
       "      <td>1505.360070</td>\n",
       "      <td>7.933000e+08</td>\n",
       "      <td>0.562705</td>\n",
       "      <td>0.755414</td>\n",
       "      <td>0.439634</td>\n",
       "      <td>1637.250149</td>\n",
       "    </tr>\n",
       "    <tr>\n",
       "      <th>Chelsea FC</th>\n",
       "      <td>1459.198744</td>\n",
       "      <td>9.460000e+08</td>\n",
       "      <td>0.689485</td>\n",
       "      <td>0.992689</td>\n",
       "      <td>0.577722</td>\n",
       "      <td>1632.515252</td>\n",
       "    </tr>\n",
       "    <tr>\n",
       "      <th>Brighton &amp; Hove Albion FC</th>\n",
       "      <td>1553.156068</td>\n",
       "      <td>5.117500e+08</td>\n",
       "      <td>0.328947</td>\n",
       "      <td>0.389504</td>\n",
       "      <td>0.226682</td>\n",
       "      <td>1621.160738</td>\n",
       "    </tr>\n",
       "    <tr>\n",
       "      <th>Brentford FC</th>\n",
       "      <td>1571.345539</td>\n",
       "      <td>4.148800e+08</td>\n",
       "      <td>0.248520</td>\n",
       "      <td>0.282127</td>\n",
       "      <td>0.164191</td>\n",
       "      <td>1620.602864</td>\n",
       "    </tr>\n",
       "    <tr>\n",
       "      <th>Crystal Palace FC</th>\n",
       "      <td>1512.116718</td>\n",
       "      <td>4.417000e+08</td>\n",
       "      <td>0.270787</td>\n",
       "      <td>0.310996</td>\n",
       "      <td>0.180993</td>\n",
       "      <td>1566.414524</td>\n",
       "    </tr>\n",
       "    <tr>\n",
       "      <th>West Ham United FC</th>\n",
       "      <td>1496.476094</td>\n",
       "      <td>4.396000e+08</td>\n",
       "      <td>0.269044</td>\n",
       "      <td>0.308713</td>\n",
       "      <td>0.179664</td>\n",
       "      <td>1550.375170</td>\n",
       "    </tr>\n",
       "    <tr>\n",
       "      <th>Fulham FC</th>\n",
       "      <td>1507.041186</td>\n",
       "      <td>3.243000e+08</td>\n",
       "      <td>0.173316</td>\n",
       "      <td>0.189241</td>\n",
       "      <td>0.110134</td>\n",
       "      <td>1540.081411</td>\n",
       "    </tr>\n",
       "    <tr>\n",
       "      <th>Nottingham Forest FC</th>\n",
       "      <td>1490.789786</td>\n",
       "      <td>3.872500e+08</td>\n",
       "      <td>0.225580</td>\n",
       "      <td>0.253049</td>\n",
       "      <td>0.147269</td>\n",
       "      <td>1534.970451</td>\n",
       "    </tr>\n",
       "    <tr>\n",
       "      <th>Wolverhampton Wanderers FC</th>\n",
       "      <td>1491.779753</td>\n",
       "      <td>3.498000e+08</td>\n",
       "      <td>0.194487</td>\n",
       "      <td>0.214688</td>\n",
       "      <td>0.124943</td>\n",
       "      <td>1529.262747</td>\n",
       "    </tr>\n",
       "    <tr>\n",
       "      <th>Everton FC</th>\n",
       "      <td>1484.632198</td>\n",
       "      <td>3.314000e+08</td>\n",
       "      <td>0.179210</td>\n",
       "      <td>0.196272</td>\n",
       "      <td>0.114226</td>\n",
       "      <td>1518.899996</td>\n",
       "    </tr>\n",
       "    <tr>\n",
       "      <th>AFC Bournemouth</th>\n",
       "      <td>1461.974782</td>\n",
       "      <td>3.844500e+08</td>\n",
       "      <td>0.223255</td>\n",
       "      <td>0.250140</td>\n",
       "      <td>0.145576</td>\n",
       "      <td>1505.647452</td>\n",
       "    </tr>\n",
       "    <tr>\n",
       "      <th>Burnley FC</th>\n",
       "      <td>1450.935905</td>\n",
       "      <td>2.574300e+08</td>\n",
       "      <td>0.117797</td>\n",
       "      <td>0.125015</td>\n",
       "      <td>0.072756</td>\n",
       "      <td>1472.762678</td>\n",
       "    </tr>\n",
       "    <tr>\n",
       "      <th>Sheffield United FC</th>\n",
       "      <td>1450.935905</td>\n",
       "      <td>1.220000e+08</td>\n",
       "      <td>0.005355</td>\n",
       "      <td>0.005370</td>\n",
       "      <td>0.003125</td>\n",
       "      <td>1451.873384</td>\n",
       "    </tr>\n",
       "    <tr>\n",
       "      <th>Luton Town FC</th>\n",
       "      <td>1450.935905</td>\n",
       "      <td>1.155500e+08</td>\n",
       "      <td>0.000000</td>\n",
       "      <td>0.000000</td>\n",
       "      <td>0.000000</td>\n",
       "      <td>1450.935905</td>\n",
       "    </tr>\n",
       "  </tbody>\n",
       "</table>\n",
       "</div>"
      ],
      "text/plain": [
       "                                    Elo    Club Value  Normalized Club Value  \\\n",
       "Team                                                                           \n",
       "Manchester City FC          1673.011153  1.320000e+09               1.000000   \n",
       "Arsenal FC                  1580.836966  1.160000e+09               0.867159   \n",
       "Liverpool FC                1614.583991  9.419000e+08               0.686081   \n",
       "Manchester United FC        1597.579135  7.186500e+08               0.500726   \n",
       "Newcastle United FC         1587.033066  6.489500e+08               0.442858   \n",
       "Aston Villa FC              1584.861840  6.556000e+08               0.448379   \n",
       "Tottenham Hotspur FC        1505.360070  7.933000e+08               0.562705   \n",
       "Chelsea FC                  1459.198744  9.460000e+08               0.689485   \n",
       "Brighton & Hove Albion FC   1553.156068  5.117500e+08               0.328947   \n",
       "Brentford FC                1571.345539  4.148800e+08               0.248520   \n",
       "Crystal Palace FC           1512.116718  4.417000e+08               0.270787   \n",
       "West Ham United FC          1496.476094  4.396000e+08               0.269044   \n",
       "Fulham FC                   1507.041186  3.243000e+08               0.173316   \n",
       "Nottingham Forest FC        1490.789786  3.872500e+08               0.225580   \n",
       "Wolverhampton Wanderers FC  1491.779753  3.498000e+08               0.194487   \n",
       "Everton FC                  1484.632198  3.314000e+08               0.179210   \n",
       "AFC Bournemouth             1461.974782  3.844500e+08               0.223255   \n",
       "Burnley FC                  1450.935905  2.574300e+08               0.117797   \n",
       "Sheffield United FC         1450.935905  1.220000e+08               0.005355   \n",
       "Luton Town FC               1450.935905  1.155500e+08               0.000000   \n",
       "\n",
       "                            Exponential Club Value  \\\n",
       "Team                                                 \n",
       "Manchester City FC                        1.718282   \n",
       "Arsenal FC                                1.380140   \n",
       "Liverpool FC                              0.985917   \n",
       "Manchester United FC                      0.649919   \n",
       "Newcastle United FC                       0.557151   \n",
       "Aston Villa FC                            0.565772   \n",
       "Tottenham Hotspur FC                      0.755414   \n",
       "Chelsea FC                                0.992689   \n",
       "Brighton & Hove Albion FC                 0.389504   \n",
       "Brentford FC                              0.282127   \n",
       "Crystal Palace FC                         0.310996   \n",
       "West Ham United FC                        0.308713   \n",
       "Fulham FC                                 0.189241   \n",
       "Nottingham Forest FC                      0.253049   \n",
       "Wolverhampton Wanderers FC                0.214688   \n",
       "Everton FC                                0.196272   \n",
       "AFC Bournemouth                           0.250140   \n",
       "Burnley FC                                0.125015   \n",
       "Sheffield United FC                       0.005370   \n",
       "Luton Town FC                             0.000000   \n",
       "\n",
       "                            Normalized Exponential Club Value  Adjusted Elo  \n",
       "Team                                                                         \n",
       "Manchester City FC                                   1.000000   1973.011153  \n",
       "Arsenal FC                                           0.803209   1821.799755  \n",
       "Liverpool FC                                         0.573781   1786.718213  \n",
       "Manchester United FC                                 0.378238   1711.050530  \n",
       "Newcastle United FC                                  0.324249   1684.307700  \n",
       "Aston Villa FC                                       0.329266   1683.641660  \n",
       "Tottenham Hotspur FC                                 0.439634   1637.250149  \n",
       "Chelsea FC                                           0.577722   1632.515252  \n",
       "Brighton & Hove Albion FC                            0.226682   1621.160738  \n",
       "Brentford FC                                         0.164191   1620.602864  \n",
       "Crystal Palace FC                                    0.180993   1566.414524  \n",
       "West Ham United FC                                   0.179664   1550.375170  \n",
       "Fulham FC                                            0.110134   1540.081411  \n",
       "Nottingham Forest FC                                 0.147269   1534.970451  \n",
       "Wolverhampton Wanderers FC                           0.124943   1529.262747  \n",
       "Everton FC                                           0.114226   1518.899996  \n",
       "AFC Bournemouth                                      0.145576   1505.647452  \n",
       "Burnley FC                                           0.072756   1472.762678  \n",
       "Sheffield United FC                                  0.003125   1451.873384  \n",
       "Luton Town FC                                        0.000000   1450.935905  "
      ]
     },
     "execution_count": 6,
     "metadata": {},
     "output_type": "execute_result"
    }
   ],
   "source": [
    "elo_df = build_elo_between_seasons(df, df_2023, club_value_adjustment_factor)\n",
    "elo_df"
   ]
  },
  {
   "cell_type": "markdown",
   "metadata": {},
   "source": [
    "## Test Against 2023-2024 Season"
   ]
  },
  {
   "cell_type": "markdown",
   "metadata": {},
   "source": [
    "### Predict 2023-2024 Season"
   ]
  },
  {
   "cell_type": "code",
   "execution_count": 9,
   "metadata": {},
   "outputs": [
    {
     "name": "stderr",
     "output_type": "stream",
     "text": [
      "Simulating: 100%|██████████| 100/100 [09:56<00:00,  5.97s/season]\n"
     ]
    }
   ],
   "source": [
    "from concurrent.futures import ProcessPoolExecutor\n",
    "from tqdm import tqdm\n",
    "from functools import partial\n",
    "\n",
    "from simulation_utils import simulate_and_get_results\n",
    "\n",
    "# Get adjusted Elo dict\n",
    "adjusted_elo = get_elo_dict_from_df(elo_df)\n",
    "\n",
    "# Number of simulations to run\n",
    "num_simulations = 100\n",
    "\n",
    "# Initialize a list to store results\n",
    "seasons = []\n",
    "\n",
    "# Create a partial function to pass the same arguments to each simulation\n",
    "simulate_and_get_results_partial = partial(simulate_and_get_results, df=df_2023, elo=adjusted_elo, model=model, scaler=scaler, k=k, half_life=decay_half_life, decay_method=decay_method)\n",
    "\n",
    "# Initialize a pool of workers\n",
    "with ProcessPoolExecutor() as executor:\n",
    "    seasons = list(tqdm(executor.map(simulate_and_get_results_partial, range(num_simulations)),  total=num_simulations, desc='Simulating', unit='season'))"
   ]
  },
  {
   "cell_type": "markdown",
   "metadata": {},
   "source": [
    "### Analyze Results Compared to actual 2023-2024 Season"
   ]
  },
  {
   "cell_type": "markdown",
   "metadata": {},
   "source": [
    "### Post Process Simulation Results"
   ]
  },
  {
   "cell_type": "code",
   "execution_count": 10,
   "metadata": {},
   "outputs": [
    {
     "data": {
      "text/html": [
       "<div>\n",
       "<style scoped>\n",
       "    .dataframe tbody tr th:only-of-type {\n",
       "        vertical-align: middle;\n",
       "    }\n",
       "\n",
       "    .dataframe tbody tr th {\n",
       "        vertical-align: top;\n",
       "    }\n",
       "\n",
       "    .dataframe thead th {\n",
       "        text-align: right;\n",
       "    }\n",
       "</style>\n",
       "<table border=\"1\" class=\"dataframe\">\n",
       "  <thead>\n",
       "    <tr style=\"text-align: right;\">\n",
       "      <th></th>\n",
       "      <th>Place</th>\n",
       "      <th>Win Premier League</th>\n",
       "      <th>Top 4</th>\n",
       "      <th>Bottom 3</th>\n",
       "    </tr>\n",
       "    <tr>\n",
       "      <th>Team</th>\n",
       "      <th></th>\n",
       "      <th></th>\n",
       "      <th></th>\n",
       "      <th></th>\n",
       "    </tr>\n",
       "  </thead>\n",
       "  <tbody>\n",
       "    <tr>\n",
       "      <th>Manchester City FC</th>\n",
       "      <td>3.03</td>\n",
       "      <td>0.26</td>\n",
       "      <td>0.81</td>\n",
       "      <td>0.00</td>\n",
       "    </tr>\n",
       "    <tr>\n",
       "      <th>Arsenal FC</th>\n",
       "      <td>3.19</td>\n",
       "      <td>0.20</td>\n",
       "      <td>0.79</td>\n",
       "      <td>0.00</td>\n",
       "    </tr>\n",
       "    <tr>\n",
       "      <th>Liverpool FC</th>\n",
       "      <td>4.55</td>\n",
       "      <td>0.11</td>\n",
       "      <td>0.58</td>\n",
       "      <td>0.00</td>\n",
       "    </tr>\n",
       "    <tr>\n",
       "      <th>Manchester United FC</th>\n",
       "      <td>4.77</td>\n",
       "      <td>0.14</td>\n",
       "      <td>0.47</td>\n",
       "      <td>0.00</td>\n",
       "    </tr>\n",
       "    <tr>\n",
       "      <th>Newcastle United FC</th>\n",
       "      <td>5.45</td>\n",
       "      <td>0.13</td>\n",
       "      <td>0.38</td>\n",
       "      <td>0.00</td>\n",
       "    </tr>\n",
       "    <tr>\n",
       "      <th>Aston Villa FC</th>\n",
       "      <td>5.88</td>\n",
       "      <td>0.07</td>\n",
       "      <td>0.31</td>\n",
       "      <td>0.00</td>\n",
       "    </tr>\n",
       "    <tr>\n",
       "      <th>Tottenham Hotspur FC</th>\n",
       "      <td>7.33</td>\n",
       "      <td>0.02</td>\n",
       "      <td>0.21</td>\n",
       "      <td>0.00</td>\n",
       "    </tr>\n",
       "    <tr>\n",
       "      <th>Chelsea FC</th>\n",
       "      <td>7.54</td>\n",
       "      <td>0.02</td>\n",
       "      <td>0.18</td>\n",
       "      <td>0.00</td>\n",
       "    </tr>\n",
       "    <tr>\n",
       "      <th>Brighton &amp; Hove Albion FC</th>\n",
       "      <td>7.89</td>\n",
       "      <td>0.03</td>\n",
       "      <td>0.12</td>\n",
       "      <td>0.00</td>\n",
       "    </tr>\n",
       "    <tr>\n",
       "      <th>Brentford FC</th>\n",
       "      <td>8.89</td>\n",
       "      <td>0.02</td>\n",
       "      <td>0.09</td>\n",
       "      <td>0.00</td>\n",
       "    </tr>\n",
       "    <tr>\n",
       "      <th>Crystal Palace FC</th>\n",
       "      <td>10.54</td>\n",
       "      <td>0.00</td>\n",
       "      <td>0.06</td>\n",
       "      <td>0.04</td>\n",
       "    </tr>\n",
       "    <tr>\n",
       "      <th>West Ham United FC</th>\n",
       "      <td>12.48</td>\n",
       "      <td>0.00</td>\n",
       "      <td>0.00</td>\n",
       "      <td>0.07</td>\n",
       "    </tr>\n",
       "    <tr>\n",
       "      <th>Fulham FC</th>\n",
       "      <td>13.46</td>\n",
       "      <td>0.00</td>\n",
       "      <td>0.00</td>\n",
       "      <td>0.18</td>\n",
       "    </tr>\n",
       "    <tr>\n",
       "      <th>Wolverhampton Wanderers FC</th>\n",
       "      <td>14.72</td>\n",
       "      <td>0.00</td>\n",
       "      <td>0.00</td>\n",
       "      <td>0.27</td>\n",
       "    </tr>\n",
       "    <tr>\n",
       "      <th>Everton FC</th>\n",
       "      <td>15.20</td>\n",
       "      <td>0.00</td>\n",
       "      <td>0.00</td>\n",
       "      <td>0.32</td>\n",
       "    </tr>\n",
       "    <tr>\n",
       "      <th>Nottingham Forest FC</th>\n",
       "      <td>15.28</td>\n",
       "      <td>0.00</td>\n",
       "      <td>0.00</td>\n",
       "      <td>0.37</td>\n",
       "    </tr>\n",
       "    <tr>\n",
       "      <th>AFC Bournemouth</th>\n",
       "      <td>16.25</td>\n",
       "      <td>0.00</td>\n",
       "      <td>0.00</td>\n",
       "      <td>0.49</td>\n",
       "    </tr>\n",
       "    <tr>\n",
       "      <th>Burnley FC</th>\n",
       "      <td>17.29</td>\n",
       "      <td>0.00</td>\n",
       "      <td>0.00</td>\n",
       "      <td>0.66</td>\n",
       "    </tr>\n",
       "    <tr>\n",
       "      <th>Sheffield United FC</th>\n",
       "      <td>18.03</td>\n",
       "      <td>0.00</td>\n",
       "      <td>0.00</td>\n",
       "      <td>0.79</td>\n",
       "    </tr>\n",
       "    <tr>\n",
       "      <th>Luton Town FC</th>\n",
       "      <td>18.23</td>\n",
       "      <td>0.00</td>\n",
       "      <td>0.00</td>\n",
       "      <td>0.81</td>\n",
       "    </tr>\n",
       "  </tbody>\n",
       "</table>\n",
       "</div>"
      ],
      "text/plain": [
       "                            Place  Win Premier League  Top 4  Bottom 3\n",
       "Team                                                                  \n",
       "Manchester City FC           3.03                0.26   0.81      0.00\n",
       "Arsenal FC                   3.19                0.20   0.79      0.00\n",
       "Liverpool FC                 4.55                0.11   0.58      0.00\n",
       "Manchester United FC         4.77                0.14   0.47      0.00\n",
       "Newcastle United FC          5.45                0.13   0.38      0.00\n",
       "Aston Villa FC               5.88                0.07   0.31      0.00\n",
       "Tottenham Hotspur FC         7.33                0.02   0.21      0.00\n",
       "Chelsea FC                   7.54                0.02   0.18      0.00\n",
       "Brighton & Hove Albion FC    7.89                0.03   0.12      0.00\n",
       "Brentford FC                 8.89                0.02   0.09      0.00\n",
       "Crystal Palace FC           10.54                0.00   0.06      0.04\n",
       "West Ham United FC          12.48                0.00   0.00      0.07\n",
       "Fulham FC                   13.46                0.00   0.00      0.18\n",
       "Wolverhampton Wanderers FC  14.72                0.00   0.00      0.27\n",
       "Everton FC                  15.20                0.00   0.00      0.32\n",
       "Nottingham Forest FC        15.28                0.00   0.00      0.37\n",
       "AFC Bournemouth             16.25                0.00   0.00      0.49\n",
       "Burnley FC                  17.29                0.00   0.00      0.66\n",
       "Sheffield United FC         18.03                0.00   0.00      0.79\n",
       "Luton Town FC               18.23                0.00   0.00      0.81"
      ]
     },
     "execution_count": 10,
     "metadata": {},
     "output_type": "execute_result"
    }
   ],
   "source": [
    "# Sort results based on total outcome\n",
    "results = results.sort_values(\"Total Outcome\", ascending=False)\n",
    "\n",
    "# Get the place each team finished in the league\n",
    "results[\"Place\"] = range(1, len(results) + 1)\n",
    "\n",
    "# Get 2023 season results\n",
    "# Determine outcomes: 3 for win, 1 for draw, 0 for loss\n",
    "df_2023[\"Home Outcome\"] = 1\n",
    "df_2023[\"Away Outcome\"] = 1\n",
    "df_2023.loc[df_2023[\"Home Score\"] > df_2023[\"Away Score\"], \"Home Outcome\"] = 3\n",
    "df_2023.loc[df_2023[\"Home Score\"] > df_2023[\"Away Score\"], \"Away Outcome\"] = 0\n",
    "df_2023.loc[df_2023[\"Away Score\"] > df_2023[\"Home Score\"], \"Away Outcome\"] = 3\n",
    "df_2023.loc[df_2023[\"Away Score\"] > df_2023[\"Home Score\"], \"Home Outcome\"] = 0\n",
    "\n",
    "home_results = df_2023.groupby(\"Home\").agg({\"Home Outcome\": \"sum\"})\n",
    "away_results = df_2023.groupby(\"Away\").agg({\"Away Outcome\": \"sum\"})\n",
    "results_2023 = home_results.join(away_results, how=\"outer\").fillna(0)\n",
    "results_2023[\"Total Outcome\"] = results_2023[\"Home Outcome\"] + results_2023[\"Away Outcome\"]\n",
    "results_2023 = results_2023.sort_values(\"Total Outcome\", ascending=False)\n",
    "results_2023[\"Place\"] = range(1, len(results_2023) + 1)\n",
    "\n",
    "# For each season, get the place each team finished in the league\n",
    "for index, season_df in enumerate(seasons):\n",
    "    season_df[\"Place\"] = range(1, len(season_df) + 1)\n",
    "\n",
    "# Get the average place each team finished in the league\n",
    "average_results = pd.concat(seasons).groupby(\"Team\").agg({\"Place\": \"mean\"}).sort_values(\"Place\")\n",
    "\n",
    "# Get a mapping of team names to a list places they finished in the league\n",
    "team_place_mapping = {}\n",
    "for team in average_results.index:\n",
    "    team_place_mapping[team] = [season_df.loc[team, \"Place\"] for season_df in seasons]\n",
    "\n",
    "# Get the total number of seasons simulated\n",
    "total_seasons = len(seasons)\n",
    "\n",
    "# Get a mapping of times each team won the league\n",
    "team_win_mapping = {}\n",
    "for team in average_results.index:\n",
    "    team_win_mapping[team] = sum([season_df.loc[team, \"Place\"] == 1 for season_df in seasons]) / total_seasons\n",
    "\n",
    "# Get a mapping of times each team finished in the top 4\n",
    "team_top_4_mapping = {}\n",
    "for team in average_results.index:\n",
    "    team_top_4_mapping[team] = sum([season_df.loc[team, \"Place\"] <= 4 for season_df in seasons]) / total_seasons\n",
    "\n",
    "# Get a mapping of times each team finished in the bottom 3\n",
    "team_bottom_3_mapping = {}\n",
    "for team in average_results.index:\n",
    "    team_bottom_3_mapping[team] = sum([season_df.loc[team, \"Place\"] >= len(season_df) - 3 for season_df in seasons]) / total_seasons\n",
    "\n",
    "# Build a dataframe with the average place, times won, times in top 4, and times in bottom 3\n",
    "average_results[\"Win Premier League\"] = [team_win_mapping[team] for team in average_results.index]\n",
    "average_results[\"Top 4\"] = [team_top_4_mapping[team] for team in average_results.index]\n",
    "average_results[\"Bottom 3\"] = [team_bottom_3_mapping[team] for team in average_results.index]\n",
    "\n",
    "# Show the dataframe\n",
    "average_results"
   ]
  }
 ],
 "metadata": {
  "kernelspec": {
   "display_name": "python310",
   "language": "python",
   "name": "python3"
  },
  "language_info": {
   "codemirror_mode": {
    "name": "ipython",
    "version": 3
   },
   "file_extension": ".py",
   "mimetype": "text/x-python",
   "name": "python",
   "nbconvert_exporter": "python",
   "pygments_lexer": "ipython3",
   "version": "3.10.9"
  }
 },
 "nbformat": 4,
 "nbformat_minor": 2
}
