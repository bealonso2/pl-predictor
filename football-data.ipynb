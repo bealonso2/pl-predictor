{
 "cells": [
  {
   "cell_type": "code",
   "execution_count": 154,
   "metadata": {},
   "outputs": [],
   "source": [
    "# Get all matches from 2022-2023 season\n",
    "\n",
    "import requests\n",
    "\n",
    "# Get API token from .env file\n",
    "with open(\".env\") as f:\n",
    "  for line in f:\n",
    "    if \"FOOTBALL-DATA-API-KEY\" in line:\n",
    "      token = line.split(\"=\")[1].strip()\n",
    "      break\n",
    "\n",
    "headers = { \"X-Auth-Token\": token }\n",
    "\n",
    "def get_data_by_year(year):\n",
    "  uri = f\"https://api.football-data.org/v4/competitions/2021/matches?season={year}\"\n",
    "  response = requests.get(uri, headers=headers)\n",
    "  return response.json()"
   ]
  },
  {
   "cell_type": "code",
   "execution_count": 190,
   "metadata": {},
   "outputs": [],
   "source": [
    "import pandas as pd\n",
    "import re\n",
    "\n",
    "def build_data_by_year(year):\n",
    "    df = pd.DataFrame(get_data_by_year(year)[\"matches\"])\n",
    "\n",
    "    # Drop columns we don\"t need\n",
    "    df = df[[\"utcDate\", \"matchday\", \"homeTeam\", \"awayTeam\", \"score\"]]\n",
    "\n",
    "    # Parse the homeTeam and awayTeam and get the names or ids from the column\n",
    "    df[\"home\"] = df[\"homeTeam\"].apply(lambda x: x[\"name\"])\n",
    "    df[\"away\"] = df[\"awayTeam\"].apply(lambda x: x[\"name\"])\n",
    "    df = df.drop(columns=[\"homeTeam\", \"awayTeam\"])\n",
    "\n",
    "    # Get home team and away team scores from the dataframe, drop score column\n",
    "    df[\"homeScore\"] = df[\"score\"].apply(lambda x: x[\"fullTime\"][\"home\"])\n",
    "    df[\"awayScore\"] = df[\"score\"].apply(lambda x: x[\"fullTime\"][\"away\"])\n",
    "    df = df.drop(columns=[\"score\"])\n",
    "\n",
    "    # Convert utcDate to datetime\n",
    "    df[\"utcDate\"] = pd.to_datetime(df[\"utcDate\"])\n",
    "\n",
    "    # Function to convert camel case to title case\n",
    "    def camel_to_title(camel_str):\n",
    "        title_str = re.sub(\"([A-Z])\", r\" \\1\", camel_str)\n",
    "        return title_str.title()\n",
    "\n",
    "    # Apply the function to each column name\n",
    "    df.columns = [camel_to_title(col) for col in df.columns]\n",
    "\n",
    "    return df\n",
    "\n",
    "# Get data for 2022-2023 season\n",
    "df = build_data_by_year(2022)\n",
    "\n",
    "# Get data for the 2023-2024 season\n",
    "df_2023 = build_data_by_year(2023)"
   ]
  },
  {
   "cell_type": "markdown",
   "metadata": {},
   "source": [
    "## Setting up Training Data"
   ]
  },
  {
   "cell_type": "code",
   "execution_count": 191,
   "metadata": {},
   "outputs": [],
   "source": [
    "# Initialize elo ratings for each team\n",
    "elo = {team: 1500 for team in df[\"Home\"].unique()}\n",
    "\n",
    "def update_elo_win(winner_elo, loser_elo, k=40):\n",
    "    expected_win = 1.0 / (1 + 10**((loser_elo - winner_elo) / 400))\n",
    "    change = k * (1 - expected_win)\n",
    "    return winner_elo + change, loser_elo - change\n",
    "\n",
    "def update_elo_draw(home_elo, away_elo, k=40):\n",
    "    expected_home_win = 1.0 / (1 + 10**((away_elo - home_elo) / 400))\n",
    "    change = k * (0.5 - expected_home_win)\n",
    "    return home_elo + change, away_elo - change\n",
    "\n",
    "# Process matches and update ELO ratings\n",
    "for index, row in df.iterrows():\n",
    "    home_team, away_team = row[\"Home\"], row[\"Away\"]\n",
    "    \n",
    "    if row[\"Home Score\"] > row[\"Away Score\"]:  # Home team won\n",
    "        elo[home_team], elo[away_team] = update_elo_win(elo[home_team], elo[away_team])\n",
    "    elif row[\"Away Score\"] > row[\"Home Score\"]:  # Away team won\n",
    "        elo[away_team], elo[home_team] = update_elo_win(elo[away_team], elo[home_team])\n",
    "    else: # Draw\n",
    "        elo[home_team], elo[away_team] = update_elo_draw(elo[home_team], elo[away_team])\n",
    "    \n",
    "    df.at[index, \"Home Elo\"] = elo[home_team]\n",
    "    df.at[index, \"Away Elo\"] = elo[away_team]\n",
    "\n",
    "# Determine outcomes: 3 for win, 1 for draw, 0 for loss\n",
    "df[\"Home Outcome\"] = 1\n",
    "df[\"Away Outcome\"] = 1\n",
    "df.loc[df[\"Home Score\"] > df[\"Away Score\"], \"Home Outcome\"] = 3\n",
    "df.loc[df[\"Home Score\"] > df[\"Away Score\"], \"Away Outcome\"] = 0\n",
    "df.loc[df[\"Away Score\"] > df[\"Home Score\"], \"Away Outcome\"] = 3\n",
    "df.loc[df[\"Away Score\"] > df[\"Home Score\"], \"Home Outcome\"] = 0"
   ]
  },
  {
   "cell_type": "code",
   "execution_count": 199,
   "metadata": {},
   "outputs": [],
   "source": [
    "def get_season_results(df: pd.DataFrame) -> pd.DataFrame:\n",
    "    # Aggregate results\n",
    "    home_results = df.groupby(\"Home\").agg({\"Home Outcome\": \"sum\", \"Home Elo\": \"last\"})\n",
    "    away_results = df.groupby(\"Away\").agg({\"Away Outcome\": \"sum\", \"Away Elo\": \"last\"})\n",
    "    results = home_results.join(away_results, how=\"outer\").fillna(0)\n",
    "    results[\"Total Outcome\"] = results[\"Home Outcome\"] + results[\"Away Outcome\"]\n",
    "    results[\"Total Elo\"] = results[\"Home Elo\"] + results[\"Away Elo\"]\n",
    "\n",
    "    # Sort by total outcome and total ELO\n",
    "    results = results.sort_values(by=[\"Total Outcome\", \"Total Elo\"], ascending=False)\n",
    "    return results\n",
    "\n",
    "results = get_season_results(df)"
   ]
  },
  {
   "cell_type": "markdown",
   "metadata": {},
   "source": [
    "## Training"
   ]
  },
  {
   "cell_type": "code",
   "execution_count": 193,
   "metadata": {},
   "outputs": [
    {
     "name": "stdout",
     "output_type": "stream",
     "text": [
      "Validation accuracy: 69.74%\n"
     ]
    }
   ],
   "source": [
    "from sklearn.ensemble import RandomForestClassifier\n",
    "from sklearn.model_selection import train_test_split\n",
    "from sklearn.preprocessing import StandardScaler\n",
    "\n",
    "# For simplicity, let\"s predict the home outcome based on Elo ratings\n",
    "x = df[[\"Home Elo\", \"Away Elo\"]]\n",
    "y = df[\"Home Outcome\"]\n",
    "\n",
    "# Split data into training and validation sets\n",
    "x_train, x_val, y_train, y_val = train_test_split(x, y, test_size=0.2)\n",
    "\n",
    "# Standardize the features\n",
    "scaler = StandardScaler()\n",
    "x_train = scaler.fit_transform(x_train)\n",
    "x_val = scaler.transform(x_val)\n",
    "\n",
    "# Train the model\n",
    "model = RandomForestClassifier(n_estimators=1000, max_depth=5, min_samples_split=5)\n",
    "model.fit(x_train, y_train)\n",
    "\n",
    "# Validate the model\n",
    "val_score = model.score(x_val, y_val)\n",
    "print(f\"Validation accuracy: {val_score * 100:.2f}%\")"
   ]
  },
  {
   "cell_type": "markdown",
   "metadata": {},
   "source": [
    "## Test Against 2023-2024 Season"
   ]
  },
  {
   "cell_type": "code",
   "execution_count": 200,
   "metadata": {},
   "outputs": [],
   "source": [
    "import warnings\n",
    "import numpy as np\n",
    "\n",
    "def simulate_match(home_elo, away_elo,):\n",
    "    with warnings.catch_warnings():\n",
    "        warnings.simplefilter(\"ignore\")\n",
    "        x = scaler.transform([[home_elo, away_elo]])\n",
    "    probabilities = model.predict_proba(x)\n",
    "    return np.random.choice([0, 1, 3], p=probabilities[0])"
   ]
  },
  {
   "cell_type": "code",
   "execution_count": 202,
   "metadata": {},
   "outputs": [
    {
     "ename": "KeyError",
     "evalue": "\"Column(s) ['Home Outcome'] do not exist\"",
     "output_type": "error",
     "traceback": [
      "\u001b[0;31m---------------------------------------------------------------------------\u001b[0m",
      "\u001b[0;31mKeyError\u001b[0m                                  Traceback (most recent call last)",
      "Cell \u001b[0;32mIn[202], line 39\u001b[0m\n\u001b[1;32m     36\u001b[0m     df_2023\u001b[38;5;241m.\u001b[39mat[index, \u001b[38;5;124m\"\u001b[39m\u001b[38;5;124mHome Elo\u001b[39m\u001b[38;5;124m\"\u001b[39m] \u001b[38;5;241m=\u001b[39m home_elo[home_team]\n\u001b[1;32m     37\u001b[0m     df_2023\u001b[38;5;241m.\u001b[39mat[index, \u001b[38;5;124m\"\u001b[39m\u001b[38;5;124mAway Elo\u001b[39m\u001b[38;5;124m\"\u001b[39m] \u001b[38;5;241m=\u001b[39m away_elo[away_team]\n\u001b[0;32m---> 39\u001b[0m \u001b[43mget_season_results\u001b[49m\u001b[43m(\u001b[49m\u001b[43mdf_2023\u001b[49m\u001b[43m)\u001b[49m\n",
      "Cell \u001b[0;32mIn[199], line 3\u001b[0m, in \u001b[0;36mget_season_results\u001b[0;34m(df)\u001b[0m\n\u001b[1;32m      1\u001b[0m \u001b[38;5;28;01mdef\u001b[39;00m \u001b[38;5;21mget_season_results\u001b[39m(df: pd\u001b[38;5;241m.\u001b[39mDataFrame) \u001b[38;5;241m-\u001b[39m\u001b[38;5;241m>\u001b[39m pd\u001b[38;5;241m.\u001b[39mDataFrame:\n\u001b[1;32m      2\u001b[0m     \u001b[38;5;66;03m# Aggregate results\u001b[39;00m\n\u001b[0;32m----> 3\u001b[0m     home_results \u001b[38;5;241m=\u001b[39m \u001b[43mdf\u001b[49m\u001b[38;5;241;43m.\u001b[39;49m\u001b[43mgroupby\u001b[49m\u001b[43m(\u001b[49m\u001b[38;5;124;43m\"\u001b[39;49m\u001b[38;5;124;43mHome\u001b[39;49m\u001b[38;5;124;43m\"\u001b[39;49m\u001b[43m)\u001b[49m\u001b[38;5;241;43m.\u001b[39;49m\u001b[43magg\u001b[49m\u001b[43m(\u001b[49m\u001b[43m{\u001b[49m\u001b[38;5;124;43m\"\u001b[39;49m\u001b[38;5;124;43mHome Outcome\u001b[39;49m\u001b[38;5;124;43m\"\u001b[39;49m\u001b[43m:\u001b[49m\u001b[43m \u001b[49m\u001b[38;5;124;43m\"\u001b[39;49m\u001b[38;5;124;43msum\u001b[39;49m\u001b[38;5;124;43m\"\u001b[39;49m\u001b[43m,\u001b[49m\u001b[43m \u001b[49m\u001b[38;5;124;43m\"\u001b[39;49m\u001b[38;5;124;43mHome Elo\u001b[39;49m\u001b[38;5;124;43m\"\u001b[39;49m\u001b[43m:\u001b[49m\u001b[43m \u001b[49m\u001b[38;5;124;43m\"\u001b[39;49m\u001b[38;5;124;43mlast\u001b[39;49m\u001b[38;5;124;43m\"\u001b[39;49m\u001b[43m}\u001b[49m\u001b[43m)\u001b[49m\n\u001b[1;32m      4\u001b[0m     away_results \u001b[38;5;241m=\u001b[39m df\u001b[38;5;241m.\u001b[39mgroupby(\u001b[38;5;124m\"\u001b[39m\u001b[38;5;124mAway\u001b[39m\u001b[38;5;124m\"\u001b[39m)\u001b[38;5;241m.\u001b[39magg({\u001b[38;5;124m\"\u001b[39m\u001b[38;5;124mAway Outcome\u001b[39m\u001b[38;5;124m\"\u001b[39m: \u001b[38;5;124m\"\u001b[39m\u001b[38;5;124msum\u001b[39m\u001b[38;5;124m\"\u001b[39m, \u001b[38;5;124m\"\u001b[39m\u001b[38;5;124mAway Elo\u001b[39m\u001b[38;5;124m\"\u001b[39m: \u001b[38;5;124m\"\u001b[39m\u001b[38;5;124mlast\u001b[39m\u001b[38;5;124m\"\u001b[39m})\n\u001b[1;32m      5\u001b[0m     results \u001b[38;5;241m=\u001b[39m home_results\u001b[38;5;241m.\u001b[39mjoin(away_results, how\u001b[38;5;241m=\u001b[39m\u001b[38;5;124m\"\u001b[39m\u001b[38;5;124mouter\u001b[39m\u001b[38;5;124m\"\u001b[39m)\u001b[38;5;241m.\u001b[39mfillna(\u001b[38;5;241m0\u001b[39m)\n",
      "File \u001b[0;32m~/opt/anaconda3/envs/python310/lib/python3.10/site-packages/pandas/core/groupby/generic.py:894\u001b[0m, in \u001b[0;36mDataFrameGroupBy.aggregate\u001b[0;34m(self, func, engine, engine_kwargs, *args, **kwargs)\u001b[0m\n\u001b[1;32m    891\u001b[0m func \u001b[38;5;241m=\u001b[39m maybe_mangle_lambdas(func)\n\u001b[1;32m    893\u001b[0m op \u001b[38;5;241m=\u001b[39m GroupByApply(\u001b[38;5;28mself\u001b[39m, func, args, kwargs)\n\u001b[0;32m--> 894\u001b[0m result \u001b[38;5;241m=\u001b[39m \u001b[43mop\u001b[49m\u001b[38;5;241;43m.\u001b[39;49m\u001b[43magg\u001b[49m\u001b[43m(\u001b[49m\u001b[43m)\u001b[49m\n\u001b[1;32m    895\u001b[0m \u001b[38;5;28;01mif\u001b[39;00m \u001b[38;5;129;01mnot\u001b[39;00m is_dict_like(func) \u001b[38;5;129;01mand\u001b[39;00m result \u001b[38;5;129;01mis\u001b[39;00m \u001b[38;5;129;01mnot\u001b[39;00m \u001b[38;5;28;01mNone\u001b[39;00m:\n\u001b[1;32m    896\u001b[0m     \u001b[38;5;28;01mreturn\u001b[39;00m result\n",
      "File \u001b[0;32m~/opt/anaconda3/envs/python310/lib/python3.10/site-packages/pandas/core/apply.py:169\u001b[0m, in \u001b[0;36mApply.agg\u001b[0;34m(self)\u001b[0m\n\u001b[1;32m    166\u001b[0m     \u001b[38;5;28;01mreturn\u001b[39;00m \u001b[38;5;28mself\u001b[39m\u001b[38;5;241m.\u001b[39mapply_str()\n\u001b[1;32m    168\u001b[0m \u001b[38;5;28;01mif\u001b[39;00m is_dict_like(arg):\n\u001b[0;32m--> 169\u001b[0m     \u001b[38;5;28;01mreturn\u001b[39;00m \u001b[38;5;28;43mself\u001b[39;49m\u001b[38;5;241;43m.\u001b[39;49m\u001b[43magg_dict_like\u001b[49m\u001b[43m(\u001b[49m\u001b[43m)\u001b[49m\n\u001b[1;32m    170\u001b[0m \u001b[38;5;28;01melif\u001b[39;00m is_list_like(arg):\n\u001b[1;32m    171\u001b[0m     \u001b[38;5;66;03m# we require a list, but not a 'str'\u001b[39;00m\n\u001b[1;32m    172\u001b[0m     \u001b[38;5;28;01mreturn\u001b[39;00m \u001b[38;5;28mself\u001b[39m\u001b[38;5;241m.\u001b[39magg_list_like()\n",
      "File \u001b[0;32m~/opt/anaconda3/envs/python310/lib/python3.10/site-packages/pandas/core/apply.py:478\u001b[0m, in \u001b[0;36mApply.agg_dict_like\u001b[0;34m(self)\u001b[0m\n\u001b[1;32m    475\u001b[0m     selected_obj \u001b[38;5;241m=\u001b[39m obj\u001b[38;5;241m.\u001b[39m_selected_obj\n\u001b[1;32m    476\u001b[0m     selection \u001b[38;5;241m=\u001b[39m obj\u001b[38;5;241m.\u001b[39m_selection\n\u001b[0;32m--> 478\u001b[0m arg \u001b[38;5;241m=\u001b[39m \u001b[38;5;28;43mself\u001b[39;49m\u001b[38;5;241;43m.\u001b[39;49m\u001b[43mnormalize_dictlike_arg\u001b[49m\u001b[43m(\u001b[49m\u001b[38;5;124;43m\"\u001b[39;49m\u001b[38;5;124;43magg\u001b[39;49m\u001b[38;5;124;43m\"\u001b[39;49m\u001b[43m,\u001b[49m\u001b[43m \u001b[49m\u001b[43mselected_obj\u001b[49m\u001b[43m,\u001b[49m\u001b[43m \u001b[49m\u001b[43marg\u001b[49m\u001b[43m)\u001b[49m\n\u001b[1;32m    480\u001b[0m \u001b[38;5;28;01mif\u001b[39;00m selected_obj\u001b[38;5;241m.\u001b[39mndim \u001b[38;5;241m==\u001b[39m \u001b[38;5;241m1\u001b[39m:\n\u001b[1;32m    481\u001b[0m     \u001b[38;5;66;03m# key only used for output\u001b[39;00m\n\u001b[1;32m    482\u001b[0m     colg \u001b[38;5;241m=\u001b[39m obj\u001b[38;5;241m.\u001b[39m_gotitem(selection, ndim\u001b[38;5;241m=\u001b[39m\u001b[38;5;241m1\u001b[39m)\n",
      "File \u001b[0;32m~/opt/anaconda3/envs/python310/lib/python3.10/site-packages/pandas/core/apply.py:601\u001b[0m, in \u001b[0;36mApply.normalize_dictlike_arg\u001b[0;34m(self, how, obj, func)\u001b[0m\n\u001b[1;32m    599\u001b[0m     \u001b[38;5;28;01mif\u001b[39;00m \u001b[38;5;28mlen\u001b[39m(cols) \u001b[38;5;241m>\u001b[39m \u001b[38;5;241m0\u001b[39m:\n\u001b[1;32m    600\u001b[0m         cols_sorted \u001b[38;5;241m=\u001b[39m \u001b[38;5;28mlist\u001b[39m(safe_sort(\u001b[38;5;28mlist\u001b[39m(cols)))\n\u001b[0;32m--> 601\u001b[0m         \u001b[38;5;28;01mraise\u001b[39;00m \u001b[38;5;167;01mKeyError\u001b[39;00m(\u001b[38;5;124mf\u001b[39m\u001b[38;5;124m\"\u001b[39m\u001b[38;5;124mColumn(s) \u001b[39m\u001b[38;5;132;01m{\u001b[39;00mcols_sorted\u001b[38;5;132;01m}\u001b[39;00m\u001b[38;5;124m do not exist\u001b[39m\u001b[38;5;124m\"\u001b[39m)\n\u001b[1;32m    603\u001b[0m aggregator_types \u001b[38;5;241m=\u001b[39m (\u001b[38;5;28mlist\u001b[39m, \u001b[38;5;28mtuple\u001b[39m, \u001b[38;5;28mdict\u001b[39m)\n\u001b[1;32m    605\u001b[0m \u001b[38;5;66;03m# if we have a dict of any non-scalars\u001b[39;00m\n\u001b[1;32m    606\u001b[0m \u001b[38;5;66;03m# eg. {'A' : ['mean']}, normalize all to\u001b[39;00m\n\u001b[1;32m    607\u001b[0m \u001b[38;5;66;03m# be list-likes\u001b[39;00m\n\u001b[1;32m    608\u001b[0m \u001b[38;5;66;03m# Cannot use func.values() because arg may be a Series\u001b[39;00m\n",
      "\u001b[0;31mKeyError\u001b[0m: \"Column(s) ['Home Outcome'] do not exist\""
     ]
    }
   ],
   "source": [
    "# Find teams that have been relegated/promoted by taking a difference of the two dataframes\n",
    "df_teams = pd.concat([df[\"Home\"], df[\"Away\"]]).unique()\n",
    "df_2023_teams = pd.concat([df_2023[\"Home\"], df_2023[\"Away\"]]).unique()\n",
    "\n",
    "relegated_teams = set(df_teams) - set(df_2023_teams)\n",
    "promoted_teams = set(df_2023_teams) - set(df_teams)\n",
    "teams_with_baseline = set(df_teams) & set(df_2023_teams)\n",
    "\n",
    "# Find the average ending ELO rating for the teams that have been relegated\n",
    "relegated_elo = results.loc[list(relegated_teams), \"Total Elo\"].mean()\n",
    "\n",
    "# Set the starting ELO rating for the promoted teams to the average ending ELO rating of the relegated teams\n",
    "elo = {team: relegated_elo for team in promoted_teams}\n",
    "\n",
    "# Set the starting ELO rating for the teams that have been in the league for both seasons to their ending ELO rating\n",
    "elo.update(results.loc[list(teams_with_baseline), \"Total Elo\"].to_dict())\n",
    "\n",
    "# Divide elo by 2 to get home and away elo\n",
    "home_elo = {team: elo / 2 for team, elo in elo.items()}\n",
    "away_elo = {team: elo / 2 for team, elo in elo.items()}\n",
    "\n",
    "for index, row in df_2023.iterrows():\n",
    "    home_team, away_team = row[\"Home\"], row[\"Away\"]\n",
    "\n",
    "    # Simulate match and update ELO ratings\n",
    "    outcome = simulate_match(home_elo[home_team], away_elo[away_team])\n",
    "    \n",
    "    match outcome:\n",
    "        case 3:  # Home team won\n",
    "            home_elo[home_team], away_elo[away_team] = update_elo_win(home_elo[home_team], away_elo[away_team])\n",
    "            df_2023.at[index, \"Home Outcome\"] = 3\n",
    "            df_2023.at[index, \"Away Outcome\"] = 0\n",
    "        case 0:  # Away team won\n",
    "            away_elo[away_team], home_elo[home_team] = update_elo_win(away_elo[away_team], home_elo[home_team])\n",
    "            df_2023.at[index, \"Away Outcome\"] = 3\n",
    "            df_2023.at[index, \"Home Outcome\"] = 0\n",
    "        case 1:  # Draw\n",
    "            home_elo[home_team], away_elo[away_team] = update_elo_draw(home_elo[home_team], away_elo[away_team])\n",
    "            df_2023.at[index, \"Home Outcome\"] = 1\n",
    "            df_2023.at[index, \"Away Outcome\"] = 1\n",
    "    \n",
    "    df_2023.at[index, \"Home Elo\"] = home_elo[home_team]\n",
    "    df_2023.at[index, \"Away Elo\"] = away_elo[away_team]\n",
    "\n",
    "get_season_results(df_2023)"
   ]
  }
 ],
 "metadata": {
  "kernelspec": {
   "display_name": "python310",
   "language": "python",
   "name": "python3"
  },
  "language_info": {
   "codemirror_mode": {
    "name": "ipython",
    "version": 3
   },
   "file_extension": ".py",
   "mimetype": "text/x-python",
   "name": "python",
   "nbconvert_exporter": "python",
   "pygments_lexer": "ipython3",
   "version": "3.10.9"
  }
 },
 "nbformat": 4,
 "nbformat_minor": 2
}
