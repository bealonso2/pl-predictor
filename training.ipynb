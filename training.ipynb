{
 "cells": [
  {
   "cell_type": "code",
   "execution_count": 1,
   "metadata": {},
   "outputs": [],
   "source": [
    "%load_ext autoreload\n",
    "%autoreload 2"
   ]
  },
  {
   "cell_type": "code",
   "execution_count": 5,
   "metadata": {},
   "outputs": [],
   "source": [
    "from simulation_utils import db_get_data_by_year\n",
    "\n",
    "# Get data for 2022-2023 season\n",
    "df = db_get_data_by_year(2022)\n",
    "\n",
    "# Get data for the 2023-2024 season\n",
    "df_2023 = db_get_data_by_year(2023)"
   ]
  },
  {
   "cell_type": "code",
   "execution_count": 14,
   "metadata": {},
   "outputs": [
    {
     "data": {
      "text/html": [
       "<div>\n",
       "<style scoped>\n",
       "    .dataframe tbody tr th:only-of-type {\n",
       "        vertical-align: middle;\n",
       "    }\n",
       "\n",
       "    .dataframe tbody tr th {\n",
       "        vertical-align: top;\n",
       "    }\n",
       "\n",
       "    .dataframe thead th {\n",
       "        text-align: right;\n",
       "    }\n",
       "</style>\n",
       "<table border=\"1\" class=\"dataframe\">\n",
       "  <thead>\n",
       "    <tr style=\"text-align: right;\">\n",
       "      <th></th>\n",
       "      <th>season</th>\n",
       "      <th>home</th>\n",
       "      <th>away</th>\n",
       "      <th>utc_date</th>\n",
       "      <th>status</th>\n",
       "      <th>matchday</th>\n",
       "      <th>home_score</th>\n",
       "      <th>away_score</th>\n",
       "      <th>home_outcome</th>\n",
       "      <th>away_outcome</th>\n",
       "      <th>home_manager</th>\n",
       "      <th>away_manager</th>\n",
       "      <th>home_manager_count</th>\n",
       "      <th>away_manager_count</th>\n",
       "      <th>home_position</th>\n",
       "      <th>away_position</th>\n",
       "    </tr>\n",
       "  </thead>\n",
       "  <tbody>\n",
       "    <tr>\n",
       "      <th>0</th>\n",
       "      <td>2022</td>\n",
       "      <td>Crystal Palace FC</td>\n",
       "      <td>Arsenal FC</td>\n",
       "      <td>2022-08-05 19:00:00</td>\n",
       "      <td>FINISHED</td>\n",
       "      <td>1</td>\n",
       "      <td>0.0</td>\n",
       "      <td>2.0</td>\n",
       "      <td>0.0</td>\n",
       "      <td>3.0</td>\n",
       "      <td>Patrick Vieira</td>\n",
       "      <td>Mikel Arteta</td>\n",
       "      <td>0</td>\n",
       "      <td>0</td>\n",
       "      <td>1</td>\n",
       "      <td>1</td>\n",
       "    </tr>\n",
       "    <tr>\n",
       "      <th>1</th>\n",
       "      <td>2022</td>\n",
       "      <td>Fulham FC</td>\n",
       "      <td>Liverpool FC</td>\n",
       "      <td>2022-08-06 11:30:00</td>\n",
       "      <td>FINISHED</td>\n",
       "      <td>1</td>\n",
       "      <td>2.0</td>\n",
       "      <td>2.0</td>\n",
       "      <td>1.0</td>\n",
       "      <td>1.0</td>\n",
       "      <td>Marco Silva</td>\n",
       "      <td>Jürgen Klopp</td>\n",
       "      <td>0</td>\n",
       "      <td>0</td>\n",
       "      <td>2</td>\n",
       "      <td>2</td>\n",
       "    </tr>\n",
       "    <tr>\n",
       "      <th>2</th>\n",
       "      <td>2022</td>\n",
       "      <td>Leeds United FC</td>\n",
       "      <td>Wolverhampton Wanderers FC</td>\n",
       "      <td>2022-08-06 14:00:00</td>\n",
       "      <td>FINISHED</td>\n",
       "      <td>1</td>\n",
       "      <td>2.0</td>\n",
       "      <td>1.0</td>\n",
       "      <td>3.0</td>\n",
       "      <td>0.0</td>\n",
       "      <td>Jesse Marsch</td>\n",
       "      <td>Bruno Lage</td>\n",
       "      <td>0</td>\n",
       "      <td>0</td>\n",
       "      <td>3</td>\n",
       "      <td>3</td>\n",
       "    </tr>\n",
       "    <tr>\n",
       "      <th>3</th>\n",
       "      <td>2022</td>\n",
       "      <td>AFC Bournemouth</td>\n",
       "      <td>Aston Villa FC</td>\n",
       "      <td>2022-08-06 14:00:00</td>\n",
       "      <td>FINISHED</td>\n",
       "      <td>1</td>\n",
       "      <td>2.0</td>\n",
       "      <td>0.0</td>\n",
       "      <td>3.0</td>\n",
       "      <td>0.0</td>\n",
       "      <td>Scott Parker</td>\n",
       "      <td>Steven Gerrard</td>\n",
       "      <td>0</td>\n",
       "      <td>0</td>\n",
       "      <td>3</td>\n",
       "      <td>3</td>\n",
       "    </tr>\n",
       "    <tr>\n",
       "      <th>4</th>\n",
       "      <td>2022</td>\n",
       "      <td>Newcastle United FC</td>\n",
       "      <td>Nottingham Forest FC</td>\n",
       "      <td>2022-08-06 14:00:00</td>\n",
       "      <td>FINISHED</td>\n",
       "      <td>1</td>\n",
       "      <td>2.0</td>\n",
       "      <td>0.0</td>\n",
       "      <td>3.0</td>\n",
       "      <td>0.0</td>\n",
       "      <td>Eddie Howe</td>\n",
       "      <td>Steve Cooper</td>\n",
       "      <td>0</td>\n",
       "      <td>0</td>\n",
       "      <td>3</td>\n",
       "      <td>3</td>\n",
       "    </tr>\n",
       "    <tr>\n",
       "      <th>...</th>\n",
       "      <td>...</td>\n",
       "      <td>...</td>\n",
       "      <td>...</td>\n",
       "      <td>...</td>\n",
       "      <td>...</td>\n",
       "      <td>...</td>\n",
       "      <td>...</td>\n",
       "      <td>...</td>\n",
       "      <td>...</td>\n",
       "      <td>...</td>\n",
       "      <td>...</td>\n",
       "      <td>...</td>\n",
       "      <td>...</td>\n",
       "      <td>...</td>\n",
       "      <td>...</td>\n",
       "      <td>...</td>\n",
       "    </tr>\n",
       "    <tr>\n",
       "      <th>375</th>\n",
       "      <td>2022</td>\n",
       "      <td>Manchester United FC</td>\n",
       "      <td>Fulham FC</td>\n",
       "      <td>2023-05-28 15:30:00</td>\n",
       "      <td>FINISHED</td>\n",
       "      <td>38</td>\n",
       "      <td>2.0</td>\n",
       "      <td>1.0</td>\n",
       "      <td>3.0</td>\n",
       "      <td>0.0</td>\n",
       "      <td>Erik ten Hag</td>\n",
       "      <td>Marco Silva</td>\n",
       "      <td>0</td>\n",
       "      <td>0</td>\n",
       "      <td>2</td>\n",
       "      <td>2</td>\n",
       "    </tr>\n",
       "    <tr>\n",
       "      <th>376</th>\n",
       "      <td>2022</td>\n",
       "      <td>Chelsea FC</td>\n",
       "      <td>Newcastle United FC</td>\n",
       "      <td>2023-05-28 15:30:00</td>\n",
       "      <td>FINISHED</td>\n",
       "      <td>38</td>\n",
       "      <td>1.0</td>\n",
       "      <td>1.0</td>\n",
       "      <td>1.0</td>\n",
       "      <td>1.0</td>\n",
       "      <td>Frank Lampard</td>\n",
       "      <td>Eddie Howe</td>\n",
       "      <td>3</td>\n",
       "      <td>0</td>\n",
       "      <td>2</td>\n",
       "      <td>2</td>\n",
       "    </tr>\n",
       "    <tr>\n",
       "      <th>377</th>\n",
       "      <td>2022</td>\n",
       "      <td>Aston Villa FC</td>\n",
       "      <td>Brighton &amp; Hove Albion FC</td>\n",
       "      <td>2023-05-28 15:30:00</td>\n",
       "      <td>FINISHED</td>\n",
       "      <td>38</td>\n",
       "      <td>2.0</td>\n",
       "      <td>1.0</td>\n",
       "      <td>3.0</td>\n",
       "      <td>0.0</td>\n",
       "      <td>Unai Emery</td>\n",
       "      <td>Roberto De Zerbi</td>\n",
       "      <td>2</td>\n",
       "      <td>1</td>\n",
       "      <td>2</td>\n",
       "      <td>2</td>\n",
       "    </tr>\n",
       "    <tr>\n",
       "      <th>378</th>\n",
       "      <td>2022</td>\n",
       "      <td>Leeds United FC</td>\n",
       "      <td>Tottenham Hotspur FC</td>\n",
       "      <td>2023-05-28 15:30:00</td>\n",
       "      <td>FINISHED</td>\n",
       "      <td>38</td>\n",
       "      <td>1.0</td>\n",
       "      <td>4.0</td>\n",
       "      <td>0.0</td>\n",
       "      <td>3.0</td>\n",
       "      <td>Sam Allardyce</td>\n",
       "      <td>Ryan Mason</td>\n",
       "      <td>3</td>\n",
       "      <td>2</td>\n",
       "      <td>3</td>\n",
       "      <td>2</td>\n",
       "    </tr>\n",
       "    <tr>\n",
       "      <th>379</th>\n",
       "      <td>2022</td>\n",
       "      <td>Brentford FC</td>\n",
       "      <td>Manchester City FC</td>\n",
       "      <td>2023-05-28 15:30:00</td>\n",
       "      <td>FINISHED</td>\n",
       "      <td>38</td>\n",
       "      <td>1.0</td>\n",
       "      <td>0.0</td>\n",
       "      <td>3.0</td>\n",
       "      <td>0.0</td>\n",
       "      <td>Thomas Frank</td>\n",
       "      <td>Pep Guardiola</td>\n",
       "      <td>0</td>\n",
       "      <td>0</td>\n",
       "      <td>2</td>\n",
       "      <td>2</td>\n",
       "    </tr>\n",
       "  </tbody>\n",
       "</table>\n",
       "<p>380 rows × 16 columns</p>\n",
       "</div>"
      ],
      "text/plain": [
       "     season                  home                        away  \\\n",
       "0      2022     Crystal Palace FC                  Arsenal FC   \n",
       "1      2022             Fulham FC                Liverpool FC   \n",
       "2      2022       Leeds United FC  Wolverhampton Wanderers FC   \n",
       "3      2022       AFC Bournemouth              Aston Villa FC   \n",
       "4      2022   Newcastle United FC        Nottingham Forest FC   \n",
       "..      ...                   ...                         ...   \n",
       "375    2022  Manchester United FC                   Fulham FC   \n",
       "376    2022            Chelsea FC         Newcastle United FC   \n",
       "377    2022        Aston Villa FC   Brighton & Hove Albion FC   \n",
       "378    2022       Leeds United FC        Tottenham Hotspur FC   \n",
       "379    2022          Brentford FC          Manchester City FC   \n",
       "\n",
       "               utc_date    status  matchday  home_score  away_score  \\\n",
       "0   2022-08-05 19:00:00  FINISHED         1         0.0         2.0   \n",
       "1   2022-08-06 11:30:00  FINISHED         1         2.0         2.0   \n",
       "2   2022-08-06 14:00:00  FINISHED         1         2.0         1.0   \n",
       "3   2022-08-06 14:00:00  FINISHED         1         2.0         0.0   \n",
       "4   2022-08-06 14:00:00  FINISHED         1         2.0         0.0   \n",
       "..                  ...       ...       ...         ...         ...   \n",
       "375 2023-05-28 15:30:00  FINISHED        38         2.0         1.0   \n",
       "376 2023-05-28 15:30:00  FINISHED        38         1.0         1.0   \n",
       "377 2023-05-28 15:30:00  FINISHED        38         2.0         1.0   \n",
       "378 2023-05-28 15:30:00  FINISHED        38         1.0         4.0   \n",
       "379 2023-05-28 15:30:00  FINISHED        38         1.0         0.0   \n",
       "\n",
       "     home_outcome  away_outcome    home_manager      away_manager  \\\n",
       "0             0.0           3.0  Patrick Vieira      Mikel Arteta   \n",
       "1             1.0           1.0     Marco Silva      Jürgen Klopp   \n",
       "2             3.0           0.0    Jesse Marsch        Bruno Lage   \n",
       "3             3.0           0.0    Scott Parker    Steven Gerrard   \n",
       "4             3.0           0.0      Eddie Howe      Steve Cooper   \n",
       "..            ...           ...             ...               ...   \n",
       "375           3.0           0.0    Erik ten Hag       Marco Silva   \n",
       "376           1.0           1.0   Frank Lampard        Eddie Howe   \n",
       "377           3.0           0.0      Unai Emery  Roberto De Zerbi   \n",
       "378           0.0           3.0   Sam Allardyce        Ryan Mason   \n",
       "379           3.0           0.0    Thomas Frank     Pep Guardiola   \n",
       "\n",
       "     home_manager_count  away_manager_count  home_position  away_position  \n",
       "0                     0                   0              1              1  \n",
       "1                     0                   0              2              2  \n",
       "2                     0                   0              3              3  \n",
       "3                     0                   0              3              3  \n",
       "4                     0                   0              3              3  \n",
       "..                  ...                 ...            ...            ...  \n",
       "375                   0                   0              2              2  \n",
       "376                   3                   0              2              2  \n",
       "377                   2                   1              2              2  \n",
       "378                   3                   2              3              2  \n",
       "379                   0                   0              2              2  \n",
       "\n",
       "[380 rows x 16 columns]"
      ]
     },
     "execution_count": 14,
     "metadata": {},
     "output_type": "execute_result"
    }
   ],
   "source": [
    "df"
   ]
  },
  {
   "cell_type": "code",
   "execution_count": 3,
   "metadata": {},
   "outputs": [
    {
     "data": {
      "text/html": [
       "<div>\n",
       "<style scoped>\n",
       "    .dataframe tbody tr th:only-of-type {\n",
       "        vertical-align: middle;\n",
       "    }\n",
       "\n",
       "    .dataframe tbody tr th {\n",
       "        vertical-align: top;\n",
       "    }\n",
       "\n",
       "    .dataframe thead th {\n",
       "        text-align: right;\n",
       "    }\n",
       "</style>\n",
       "<table border=\"1\" class=\"dataframe\">\n",
       "  <thead>\n",
       "    <tr style=\"text-align: right;\">\n",
       "      <th></th>\n",
       "      <th>season</th>\n",
       "      <th>home</th>\n",
       "      <th>away</th>\n",
       "      <th>utc_date</th>\n",
       "      <th>status</th>\n",
       "      <th>matchday</th>\n",
       "      <th>home_score</th>\n",
       "      <th>away_score</th>\n",
       "      <th>home_outcome</th>\n",
       "      <th>away_outcome</th>\n",
       "      <th>home_manager</th>\n",
       "      <th>away_manager</th>\n",
       "      <th>home_manager_count</th>\n",
       "      <th>away_manager_count</th>\n",
       "      <th>home_position</th>\n",
       "      <th>away_position</th>\n",
       "    </tr>\n",
       "  </thead>\n",
       "  <tbody>\n",
       "    <tr>\n",
       "      <th>0</th>\n",
       "      <td>2023</td>\n",
       "      <td>AFC Bournemouth</td>\n",
       "      <td>West Ham United FC</td>\n",
       "      <td>2023-08-12 14:00:00</td>\n",
       "      <td>FINISHED</td>\n",
       "      <td>1</td>\n",
       "      <td>1.0</td>\n",
       "      <td>1.0</td>\n",
       "      <td>1.0</td>\n",
       "      <td>1.0</td>\n",
       "      <td>Andoni Iraola</td>\n",
       "      <td>David Moyes</td>\n",
       "      <td>0</td>\n",
       "      <td>0</td>\n",
       "      <td>6</td>\n",
       "      <td>7</td>\n",
       "    </tr>\n",
       "    <tr>\n",
       "      <th>1</th>\n",
       "      <td>2023</td>\n",
       "      <td>Sheffield United FC</td>\n",
       "      <td>Crystal Palace FC</td>\n",
       "      <td>2023-08-12 14:00:00</td>\n",
       "      <td>FINISHED</td>\n",
       "      <td>1</td>\n",
       "      <td>0.0</td>\n",
       "      <td>1.0</td>\n",
       "      <td>0.0</td>\n",
       "      <td>3.0</td>\n",
       "      <td>Paul Heckingbottom</td>\n",
       "      <td>Roy Hodgson</td>\n",
       "      <td>0</td>\n",
       "      <td>0</td>\n",
       "      <td>12</td>\n",
       "      <td>3</td>\n",
       "    </tr>\n",
       "    <tr>\n",
       "      <th>2</th>\n",
       "      <td>2023</td>\n",
       "      <td>Everton FC</td>\n",
       "      <td>Fulham FC</td>\n",
       "      <td>2023-08-12 14:00:00</td>\n",
       "      <td>FINISHED</td>\n",
       "      <td>1</td>\n",
       "      <td>0.0</td>\n",
       "      <td>1.0</td>\n",
       "      <td>0.0</td>\n",
       "      <td>3.0</td>\n",
       "      <td>Sean Dyche</td>\n",
       "      <td>Marco Silva</td>\n",
       "      <td>0</td>\n",
       "      <td>0</td>\n",
       "      <td>9</td>\n",
       "      <td>4</td>\n",
       "    </tr>\n",
       "    <tr>\n",
       "      <th>3</th>\n",
       "      <td>2023</td>\n",
       "      <td>Crystal Palace FC</td>\n",
       "      <td>Arsenal FC</td>\n",
       "      <td>2023-08-21 19:00:00</td>\n",
       "      <td>FINISHED</td>\n",
       "      <td>2</td>\n",
       "      <td>0.0</td>\n",
       "      <td>1.0</td>\n",
       "      <td>0.0</td>\n",
       "      <td>3.0</td>\n",
       "      <td>Roy Hodgson</td>\n",
       "      <td>Mikel Arteta</td>\n",
       "      <td>0</td>\n",
       "      <td>0</td>\n",
       "      <td>10</td>\n",
       "      <td>2</td>\n",
       "    </tr>\n",
       "    <tr>\n",
       "      <th>4</th>\n",
       "      <td>2023</td>\n",
       "      <td>Brighton &amp; Hove Albion FC</td>\n",
       "      <td>West Ham United FC</td>\n",
       "      <td>2023-08-26 16:30:00</td>\n",
       "      <td>FINISHED</td>\n",
       "      <td>3</td>\n",
       "      <td>1.0</td>\n",
       "      <td>3.0</td>\n",
       "      <td>0.0</td>\n",
       "      <td>3.0</td>\n",
       "      <td>Roberto De Zerbi</td>\n",
       "      <td>David Moyes</td>\n",
       "      <td>0</td>\n",
       "      <td>0</td>\n",
       "      <td>5</td>\n",
       "      <td>1</td>\n",
       "    </tr>\n",
       "    <tr>\n",
       "      <th>...</th>\n",
       "      <td>...</td>\n",
       "      <td>...</td>\n",
       "      <td>...</td>\n",
       "      <td>...</td>\n",
       "      <td>...</td>\n",
       "      <td>...</td>\n",
       "      <td>...</td>\n",
       "      <td>...</td>\n",
       "      <td>...</td>\n",
       "      <td>...</td>\n",
       "      <td>...</td>\n",
       "      <td>...</td>\n",
       "      <td>...</td>\n",
       "      <td>...</td>\n",
       "      <td>...</td>\n",
       "      <td>...</td>\n",
       "    </tr>\n",
       "    <tr>\n",
       "      <th>375</th>\n",
       "      <td>2023</td>\n",
       "      <td>Nottingham Forest FC</td>\n",
       "      <td>Wolverhampton Wanderers FC</td>\n",
       "      <td>2024-04-13 14:00:00</td>\n",
       "      <td>FINISHED</td>\n",
       "      <td>33</td>\n",
       "      <td>2.0</td>\n",
       "      <td>2.0</td>\n",
       "      <td>1.0</td>\n",
       "      <td>1.0</td>\n",
       "      <td>Nuno Espírito Santo</td>\n",
       "      <td>Gary O'Neil</td>\n",
       "      <td>1</td>\n",
       "      <td>0</td>\n",
       "      <td>17</td>\n",
       "      <td>11</td>\n",
       "    </tr>\n",
       "    <tr>\n",
       "      <th>376</th>\n",
       "      <td>2023</td>\n",
       "      <td>Arsenal FC</td>\n",
       "      <td>Everton FC</td>\n",
       "      <td>2024-05-19 15:00:00</td>\n",
       "      <td>FINISHED</td>\n",
       "      <td>38</td>\n",
       "      <td>2.0</td>\n",
       "      <td>1.0</td>\n",
       "      <td>3.0</td>\n",
       "      <td>0.0</td>\n",
       "      <td>Mikel Arteta</td>\n",
       "      <td>Sean Dyche</td>\n",
       "      <td>0</td>\n",
       "      <td>0</td>\n",
       "      <td>2</td>\n",
       "      <td>12</td>\n",
       "    </tr>\n",
       "    <tr>\n",
       "      <th>377</th>\n",
       "      <td>2023</td>\n",
       "      <td>Manchester United FC</td>\n",
       "      <td>Newcastle United FC</td>\n",
       "      <td>2024-05-15 19:00:00</td>\n",
       "      <td>FINISHED</td>\n",
       "      <td>34</td>\n",
       "      <td>3.0</td>\n",
       "      <td>2.0</td>\n",
       "      <td>3.0</td>\n",
       "      <td>0.0</td>\n",
       "      <td>Erik ten Hag</td>\n",
       "      <td>Eddie Howe</td>\n",
       "      <td>0</td>\n",
       "      <td>0</td>\n",
       "      <td>8</td>\n",
       "      <td>7</td>\n",
       "    </tr>\n",
       "    <tr>\n",
       "      <th>378</th>\n",
       "      <td>2023</td>\n",
       "      <td>Manchester United FC</td>\n",
       "      <td>Sheffield United FC</td>\n",
       "      <td>2024-04-24 19:00:00</td>\n",
       "      <td>FINISHED</td>\n",
       "      <td>29</td>\n",
       "      <td>4.0</td>\n",
       "      <td>2.0</td>\n",
       "      <td>3.0</td>\n",
       "      <td>0.0</td>\n",
       "      <td>Erik ten Hag</td>\n",
       "      <td>Chris Wilder</td>\n",
       "      <td>0</td>\n",
       "      <td>1</td>\n",
       "      <td>6</td>\n",
       "      <td>20</td>\n",
       "    </tr>\n",
       "    <tr>\n",
       "      <th>379</th>\n",
       "      <td>2023</td>\n",
       "      <td>Crystal Palace FC</td>\n",
       "      <td>Brentford FC</td>\n",
       "      <td>2023-12-30 15:00:00</td>\n",
       "      <td>FINISHED</td>\n",
       "      <td>20</td>\n",
       "      <td>3.0</td>\n",
       "      <td>1.0</td>\n",
       "      <td>3.0</td>\n",
       "      <td>0.0</td>\n",
       "      <td>Roy Hodgson</td>\n",
       "      <td>Thomas Frank</td>\n",
       "      <td>0</td>\n",
       "      <td>0</td>\n",
       "      <td>15</td>\n",
       "      <td>16</td>\n",
       "    </tr>\n",
       "  </tbody>\n",
       "</table>\n",
       "<p>380 rows × 16 columns</p>\n",
       "</div>"
      ],
      "text/plain": [
       "     season                       home                        away  \\\n",
       "0      2023            AFC Bournemouth          West Ham United FC   \n",
       "1      2023        Sheffield United FC           Crystal Palace FC   \n",
       "2      2023                 Everton FC                   Fulham FC   \n",
       "3      2023          Crystal Palace FC                  Arsenal FC   \n",
       "4      2023  Brighton & Hove Albion FC          West Ham United FC   \n",
       "..      ...                        ...                         ...   \n",
       "375    2023       Nottingham Forest FC  Wolverhampton Wanderers FC   \n",
       "376    2023                 Arsenal FC                  Everton FC   \n",
       "377    2023       Manchester United FC         Newcastle United FC   \n",
       "378    2023       Manchester United FC         Sheffield United FC   \n",
       "379    2023          Crystal Palace FC                Brentford FC   \n",
       "\n",
       "               utc_date    status  matchday  home_score  away_score  \\\n",
       "0   2023-08-12 14:00:00  FINISHED         1         1.0         1.0   \n",
       "1   2023-08-12 14:00:00  FINISHED         1         0.0         1.0   \n",
       "2   2023-08-12 14:00:00  FINISHED         1         0.0         1.0   \n",
       "3   2023-08-21 19:00:00  FINISHED         2         0.0         1.0   \n",
       "4   2023-08-26 16:30:00  FINISHED         3         1.0         3.0   \n",
       "..                  ...       ...       ...         ...         ...   \n",
       "375 2024-04-13 14:00:00  FINISHED        33         2.0         2.0   \n",
       "376 2024-05-19 15:00:00  FINISHED        38         2.0         1.0   \n",
       "377 2024-05-15 19:00:00  FINISHED        34         3.0         2.0   \n",
       "378 2024-04-24 19:00:00  FINISHED        29         4.0         2.0   \n",
       "379 2023-12-30 15:00:00  FINISHED        20         3.0         1.0   \n",
       "\n",
       "     home_outcome  away_outcome         home_manager  away_manager  \\\n",
       "0             1.0           1.0        Andoni Iraola   David Moyes   \n",
       "1             0.0           3.0   Paul Heckingbottom   Roy Hodgson   \n",
       "2             0.0           3.0           Sean Dyche   Marco Silva   \n",
       "3             0.0           3.0          Roy Hodgson  Mikel Arteta   \n",
       "4             0.0           3.0     Roberto De Zerbi   David Moyes   \n",
       "..            ...           ...                  ...           ...   \n",
       "375           1.0           1.0  Nuno Espírito Santo   Gary O'Neil   \n",
       "376           3.0           0.0         Mikel Arteta    Sean Dyche   \n",
       "377           3.0           0.0         Erik ten Hag    Eddie Howe   \n",
       "378           3.0           0.0         Erik ten Hag  Chris Wilder   \n",
       "379           3.0           0.0          Roy Hodgson  Thomas Frank   \n",
       "\n",
       "     home_manager_count  away_manager_count  home_position  away_position  \n",
       "0                     0                   0              6              7  \n",
       "1                     0                   0             12              3  \n",
       "2                     0                   0              9              4  \n",
       "3                     0                   0             10              2  \n",
       "4                     0                   0              5              1  \n",
       "..                  ...                 ...            ...            ...  \n",
       "375                   1                   0             17             11  \n",
       "376                   0                   0              2             12  \n",
       "377                   0                   0              8              7  \n",
       "378                   0                   1              6             20  \n",
       "379                   0                   0             15             16  \n",
       "\n",
       "[380 rows x 16 columns]"
      ]
     },
     "execution_count": 3,
     "metadata": {},
     "output_type": "execute_result"
    }
   ],
   "source": [
    "df_2023"
   ]
  },
  {
   "cell_type": "markdown",
   "metadata": {},
   "source": [
    "## Setting up Training Data"
   ]
  },
  {
   "cell_type": "markdown",
   "metadata": {},
   "source": [
    "### Analyze Elo vs Outcome for Real Results"
   ]
  },
  {
   "cell_type": "code",
   "execution_count": 21,
   "metadata": {},
   "outputs": [
    {
     "name": "stdout",
     "output_type": "stream",
     "text": [
      "Best parameters: {'club_value_adjustment_factor': 300, 'decay_half_life': 19, 'decay_method': <DecayMethod.BASE_RATING: 1>, 'k': 40}\n",
      "Best correlation: 0.6175039074681774\n",
      "Best Params uploaded to s3://pl-prediction/2024/random_forest.joblib\n"
     ]
    },
    {
     "data": {
      "text/html": [
       "<div>\n",
       "<style scoped>\n",
       "    .dataframe tbody tr th:only-of-type {\n",
       "        vertical-align: middle;\n",
       "    }\n",
       "\n",
       "    .dataframe tbody tr th {\n",
       "        vertical-align: top;\n",
       "    }\n",
       "\n",
       "    .dataframe thead th {\n",
       "        text-align: right;\n",
       "    }\n",
       "</style>\n",
       "<table border=\"1\" class=\"dataframe\">\n",
       "  <thead>\n",
       "    <tr style=\"text-align: right;\">\n",
       "      <th></th>\n",
       "      <th>home_outcome</th>\n",
       "      <th>home_elo</th>\n",
       "      <th>away_outcome</th>\n",
       "      <th>away_elo</th>\n",
       "      <th>total_outcome</th>\n",
       "      <th>total_elo</th>\n",
       "    </tr>\n",
       "    <tr>\n",
       "      <th>team</th>\n",
       "      <th></th>\n",
       "      <th></th>\n",
       "      <th></th>\n",
       "      <th></th>\n",
       "      <th></th>\n",
       "      <th></th>\n",
       "    </tr>\n",
       "  </thead>\n",
       "  <tbody>\n",
       "    <tr>\n",
       "      <th>Manchester City FC</th>\n",
       "      <td>52</td>\n",
       "      <td>1691.387023</td>\n",
       "      <td>37</td>\n",
       "      <td>1645.596037</td>\n",
       "      <td>89</td>\n",
       "      <td>3336.983060</td>\n",
       "    </tr>\n",
       "    <tr>\n",
       "      <th>Arsenal FC</th>\n",
       "      <td>45</td>\n",
       "      <td>1584.251581</td>\n",
       "      <td>39</td>\n",
       "      <td>1571.345875</td>\n",
       "      <td>84</td>\n",
       "      <td>3155.597456</td>\n",
       "    </tr>\n",
       "    <tr>\n",
       "      <th>Manchester United FC</th>\n",
       "      <td>48</td>\n",
       "      <td>1611.820563</td>\n",
       "      <td>27</td>\n",
       "      <td>1591.289918</td>\n",
       "      <td>75</td>\n",
       "      <td>3203.110481</td>\n",
       "    </tr>\n",
       "    <tr>\n",
       "      <th>Newcastle United FC</th>\n",
       "      <td>39</td>\n",
       "      <td>1592.880068</td>\n",
       "      <td>32</td>\n",
       "      <td>1582.458521</td>\n",
       "      <td>71</td>\n",
       "      <td>3175.338590</td>\n",
       "    </tr>\n",
       "    <tr>\n",
       "      <th>Liverpool FC</th>\n",
       "      <td>44</td>\n",
       "      <td>1622.586100</td>\n",
       "      <td>23</td>\n",
       "      <td>1606.745763</td>\n",
       "      <td>67</td>\n",
       "      <td>3229.331863</td>\n",
       "    </tr>\n",
       "    <tr>\n",
       "      <th>Brighton &amp; Hove Albion FC</th>\n",
       "      <td>34</td>\n",
       "      <td>1564.162407</td>\n",
       "      <td>28</td>\n",
       "      <td>1543.237976</td>\n",
       "      <td>62</td>\n",
       "      <td>3107.400383</td>\n",
       "    </tr>\n",
       "    <tr>\n",
       "      <th>Aston Villa FC</th>\n",
       "      <td>38</td>\n",
       "      <td>1591.918598</td>\n",
       "      <td>23</td>\n",
       "      <td>1576.015916</td>\n",
       "      <td>61</td>\n",
       "      <td>3167.934514</td>\n",
       "    </tr>\n",
       "    <tr>\n",
       "      <th>Tottenham Hotspur FC</th>\n",
       "      <td>37</td>\n",
       "      <td>1496.564465</td>\n",
       "      <td>23</td>\n",
       "      <td>1512.041609</td>\n",
       "      <td>60</td>\n",
       "      <td>3008.606074</td>\n",
       "    </tr>\n",
       "    <tr>\n",
       "      <th>Brentford FC</th>\n",
       "      <td>37</td>\n",
       "      <td>1583.270673</td>\n",
       "      <td>22</td>\n",
       "      <td>1559.837282</td>\n",
       "      <td>59</td>\n",
       "      <td>3143.107955</td>\n",
       "    </tr>\n",
       "    <tr>\n",
       "      <th>Fulham FC</th>\n",
       "      <td>29</td>\n",
       "      <td>1514.258990</td>\n",
       "      <td>23</td>\n",
       "      <td>1499.174074</td>\n",
       "      <td>52</td>\n",
       "      <td>3013.433064</td>\n",
       "    </tr>\n",
       "    <tr>\n",
       "      <th>Crystal Palace FC</th>\n",
       "      <td>28</td>\n",
       "      <td>1510.301025</td>\n",
       "      <td>17</td>\n",
       "      <td>1511.938975</td>\n",
       "      <td>45</td>\n",
       "      <td>3022.240000</td>\n",
       "    </tr>\n",
       "    <tr>\n",
       "      <th>Chelsea FC</th>\n",
       "      <td>25</td>\n",
       "      <td>1467.347717</td>\n",
       "      <td>19</td>\n",
       "      <td>1458.776723</td>\n",
       "      <td>44</td>\n",
       "      <td>2926.124439</td>\n",
       "    </tr>\n",
       "    <tr>\n",
       "      <th>Wolverhampton Wanderers FC</th>\n",
       "      <td>30</td>\n",
       "      <td>1501.561983</td>\n",
       "      <td>11</td>\n",
       "      <td>1486.044425</td>\n",
       "      <td>41</td>\n",
       "      <td>2987.606408</td>\n",
       "    </tr>\n",
       "    <tr>\n",
       "      <th>West Ham United FC</th>\n",
       "      <td>28</td>\n",
       "      <td>1507.497653</td>\n",
       "      <td>12</td>\n",
       "      <td>1484.275096</td>\n",
       "      <td>40</td>\n",
       "      <td>2991.772749</td>\n",
       "    </tr>\n",
       "    <tr>\n",
       "      <th>AFC Bournemouth</th>\n",
       "      <td>22</td>\n",
       "      <td>1470.647753</td>\n",
       "      <td>17</td>\n",
       "      <td>1452.691346</td>\n",
       "      <td>39</td>\n",
       "      <td>2923.339099</td>\n",
       "    </tr>\n",
       "    <tr>\n",
       "      <th>Nottingham Forest FC</th>\n",
       "      <td>30</td>\n",
       "      <td>1490.104953</td>\n",
       "      <td>8</td>\n",
       "      <td>1491.669681</td>\n",
       "      <td>38</td>\n",
       "      <td>2981.774634</td>\n",
       "    </tr>\n",
       "    <tr>\n",
       "      <th>Everton FC</th>\n",
       "      <td>21</td>\n",
       "      <td>1495.495153</td>\n",
       "      <td>15</td>\n",
       "      <td>1475.613613</td>\n",
       "      <td>36</td>\n",
       "      <td>2971.108766</td>\n",
       "    </tr>\n",
       "    <tr>\n",
       "      <th>Leicester City FC</th>\n",
       "      <td>19</td>\n",
       "      <td>1465.633725</td>\n",
       "      <td>15</td>\n",
       "      <td>1440.550029</td>\n",
       "      <td>34</td>\n",
       "      <td>2906.183754</td>\n",
       "    </tr>\n",
       "    <tr>\n",
       "      <th>Leeds United FC</th>\n",
       "      <td>22</td>\n",
       "      <td>1412.102859</td>\n",
       "      <td>9</td>\n",
       "      <td>1424.761588</td>\n",
       "      <td>31</td>\n",
       "      <td>2836.864448</td>\n",
       "    </tr>\n",
       "    <tr>\n",
       "      <th>Southampton FC</th>\n",
       "      <td>11</td>\n",
       "      <td>1400.719969</td>\n",
       "      <td>14</td>\n",
       "      <td>1385.157022</td>\n",
       "      <td>25</td>\n",
       "      <td>2785.876991</td>\n",
       "    </tr>\n",
       "  </tbody>\n",
       "</table>\n",
       "</div>"
      ],
      "text/plain": [
       "                            home_outcome     home_elo  away_outcome  \\\n",
       "team                                                                  \n",
       "Manchester City FC                    52  1691.387023            37   \n",
       "Arsenal FC                            45  1584.251581            39   \n",
       "Manchester United FC                  48  1611.820563            27   \n",
       "Newcastle United FC                   39  1592.880068            32   \n",
       "Liverpool FC                          44  1622.586100            23   \n",
       "Brighton & Hove Albion FC             34  1564.162407            28   \n",
       "Aston Villa FC                        38  1591.918598            23   \n",
       "Tottenham Hotspur FC                  37  1496.564465            23   \n",
       "Brentford FC                          37  1583.270673            22   \n",
       "Fulham FC                             29  1514.258990            23   \n",
       "Crystal Palace FC                     28  1510.301025            17   \n",
       "Chelsea FC                            25  1467.347717            19   \n",
       "Wolverhampton Wanderers FC            30  1501.561983            11   \n",
       "West Ham United FC                    28  1507.497653            12   \n",
       "AFC Bournemouth                       22  1470.647753            17   \n",
       "Nottingham Forest FC                  30  1490.104953             8   \n",
       "Everton FC                            21  1495.495153            15   \n",
       "Leicester City FC                     19  1465.633725            15   \n",
       "Leeds United FC                       22  1412.102859             9   \n",
       "Southampton FC                        11  1400.719969            14   \n",
       "\n",
       "                               away_elo  total_outcome    total_elo  \n",
       "team                                                                 \n",
       "Manchester City FC          1645.596037             89  3336.983060  \n",
       "Arsenal FC                  1571.345875             84  3155.597456  \n",
       "Manchester United FC        1591.289918             75  3203.110481  \n",
       "Newcastle United FC         1582.458521             71  3175.338590  \n",
       "Liverpool FC                1606.745763             67  3229.331863  \n",
       "Brighton & Hove Albion FC   1543.237976             62  3107.400383  \n",
       "Aston Villa FC              1576.015916             61  3167.934514  \n",
       "Tottenham Hotspur FC        1512.041609             60  3008.606074  \n",
       "Brentford FC                1559.837282             59  3143.107955  \n",
       "Fulham FC                   1499.174074             52  3013.433064  \n",
       "Crystal Palace FC           1511.938975             45  3022.240000  \n",
       "Chelsea FC                  1458.776723             44  2926.124439  \n",
       "Wolverhampton Wanderers FC  1486.044425             41  2987.606408  \n",
       "West Ham United FC          1484.275096             40  2991.772749  \n",
       "AFC Bournemouth             1452.691346             39  2923.339099  \n",
       "Nottingham Forest FC        1491.669681             38  2981.774634  \n",
       "Everton FC                  1475.613613             36  2971.108766  \n",
       "Leicester City FC           1440.550029             34  2906.183754  \n",
       "Leeds United FC             1424.761588             31  2836.864448  \n",
       "Southampton FC              1385.157022             25  2785.876991  "
      ]
     },
     "execution_count": 21,
     "metadata": {},
     "output_type": "execute_result"
    }
   ],
   "source": [
    "import pandas as pd\n",
    "from scipy.stats import pearsonr\n",
    "from sklearn.model_selection import ParameterGrid\n",
    "\n",
    "from simulation_utils import DecayMethod, build_elo_between_seasons, get_elo_dict_from_df, process_fixture_results, upload_best_params_to_s3\n",
    "\n",
    "# Define the parameter grid\n",
    "param_grid = {\n",
    "    'k': [40],\n",
    "    'decay_half_life': [19],\n",
    "    'club_value_adjustment_factor': [300],\n",
    "    'decay_method': [DecayMethod.BASE_RATING],\n",
    "}\n",
    "\n",
    "# Initialize best parameters and best correlation\n",
    "best_params = None\n",
    "best_correlation = -1\n",
    "\n",
    "# Iterate over all combinations of parameters\n",
    "for params in ParameterGrid(param_grid):\n",
    "    k = params['k']\n",
    "    decay_half_life = params['decay_half_life']\n",
    "    club_value_adjustment_factor = params['club_value_adjustment_factor']\n",
    "    decay_method = params['decay_method']\n",
    "    \n",
    "    # Process the fixture results for the 2022-2023 season and the 2023-2024 season\n",
    "    df, results = process_fixture_results(df, k, decay_half_life, club_value_adjustment_factor, decay_method, None)\n",
    "\n",
    "    # Get adjusted Elo dict at current club value\n",
    "    adjusted_elo = get_elo_dict_from_df(build_elo_between_seasons(df, df_2023, club_value_adjustment_factor))\n",
    "\n",
    "    df_2023, results_2023 = process_fixture_results(df_2023, k, decay_half_life, club_value_adjustment_factor, decay_method, adjusted_elo)\n",
    "\n",
    "    # Calculate Elo vs Outcome correlation\n",
    "    data_2022 = df[[\"home_elo\", \"away_elo\", \"home_outcome\"]].copy()\n",
    "    data_2022[\"season\"] = \"2022-2023\"\n",
    "    data_2023 = df_2023[[\"home_elo\", \"away_elo\", \"home_outcome\"]].copy()\n",
    "    data_2023[\"season\"] = \"2023-2024\"\n",
    "    data_2022_2024 = pd.concat([data_2022, data_2023])\n",
    "\n",
    "    data_2022_2024[\"elo_difference\"] = data_2022_2024[\"home_elo\"] - data_2022_2024[\"away_elo\"]\n",
    "\n",
    "    # Convert \"home_outcome\" to categorical type with specified categories\n",
    "    data_2022_2024[\"home_outcome\"] = pd.Categorical(data_2022_2024[\"home_outcome\"], categories=[3, 1, 0], ordered=True)\n",
    "\n",
    "    # Calculate correlation\n",
    "    correlation, p_value = pearsonr(data_2022_2024[\"elo_difference\"], data_2022_2024[\"home_outcome\"])\n",
    "    \n",
    "    # If the correlation is better than the best found so far, update best correlation and best parameters\n",
    "    if correlation > best_correlation:\n",
    "        best_correlation = correlation\n",
    "        best_params = params\n",
    "\n",
    "print(\"Best parameters:\", best_params)\n",
    "print(\"Best correlation:\", best_correlation)\n",
    "\n",
    "# Calculate everything again with the best parameters\n",
    "k = best_params['k']\n",
    "decay_half_life = best_params['decay_half_life']\n",
    "club_value_adjustment_factor = best_params['club_value_adjustment_factor']\n",
    "decay_method = best_params['decay_method']\n",
    "\n",
    "# Process the fixture results for the 2022-2023 season and the 2023-2024 season\n",
    "df, results = process_fixture_results(df, k, decay_half_life, club_value_adjustment_factor, decay_method, None)\n",
    "\n",
    "# Get adjusted Elo dict at current club value\n",
    "adjusted_elo = get_elo_dict_from_df(build_elo_between_seasons(df, df_2023, club_value_adjustment_factor))\n",
    "\n",
    "df_2023, results_2023 = process_fixture_results(df_2023, k, decay_half_life, club_value_adjustment_factor, decay_method, adjusted_elo)\n",
    "\n",
    "# Calculate Elo vs Outcome correlation\n",
    "correlation_df_columns = [\"home_elo\", \"away_elo\", \"home_outcome\", \"home\", \"away\", \"home_score\", \"away_score\", \"utc_date\"]\n",
    "data_2022 = df[correlation_df_columns].copy()\n",
    "data_2022[\"season\"] = \"2022-2023\"\n",
    "data_2023 = df_2023[correlation_df_columns].copy()\n",
    "data_2023[\"season\"] = \"2023-2024\"\n",
    "data_2022_2024 = pd.concat([data_2022, data_2023])\n",
    "\n",
    "data_2022_2024[\"match_info\"] = data_2022_2024[\"home\"] + \" (\" + data_2022_2024[\"home_score\"].astype(str) + \") - \" + data_2022_2024[\"away\"] + \" (\" + data_2022_2024[\"away_score\"].astype(str) + \") on \" + data_2022_2024[\"utc_date\"].astype(str)\n",
    "\n",
    "data_2022_2024[\"elo_difference\"] = data_2022_2024[\"home_elo\"] - data_2022_2024[\"away_elo\"]\n",
    "\n",
    "# Convert \"home_outcome\" to categorical type with specified categories\n",
    "data_2022_2024[\"home_outcome\"] = pd.Categorical(data_2022_2024[\"home_outcome\"], categories=[3, 1, 0], ordered=True)\n",
    "\n",
    "# Calculate correlation\n",
    "correlation, p_value = pearsonr(data_2022_2024[\"elo_difference\"], data_2022_2024[\"home_outcome\"])\n",
    "\n",
    "# Convert \"home_outcome\" to string type\n",
    "data_2022_2024[\"home_outcome\"] = data_2022_2024[\"home_outcome\"].astype(str)\n",
    "\n",
    "# Upload best params to s3\n",
    "upload_best_params_to_s3(best_params, True)\n",
    "\n",
    "results"
   ]
  },
  {
   "cell_type": "markdown",
   "metadata": {},
   "source": [
    "#### Plotting Elo vs Outcome"
   ]
  },
  {
   "cell_type": "code",
   "execution_count": 3,
   "metadata": {},
   "outputs": [
    {
     "data": {
      "application/vnd.plotly.v1+json": {
       "config": {
        "plotlyServerURL": "https://plot.ly"
       },
       "data": [
        {
         "customdata": [
          [
           "Crystal Palace FC (0) - Arsenal FC (2) on 2022-08-05 19:00:00+00:00"
          ],
          [
           "Fulham FC (2) - Liverpool FC (2) on 2022-08-06 11:30:00+00:00"
          ],
          [
           "Tottenham Hotspur FC (4) - Southampton FC (1) on 2022-08-06 14:00:00+00:00"
          ],
          [
           "Newcastle United FC (2) - Nottingham Forest FC (0) on 2022-08-06 14:00:00+00:00"
          ],
          [
           "Leeds United FC (2) - Wolverhampton Wanderers FC (1) on 2022-08-06 14:00:00+00:00"
          ],
          [
           "AFC Bournemouth (2) - Aston Villa FC (0) on 2022-08-06 14:00:00+00:00"
          ],
          [
           "Everton FC (0) - Chelsea FC (1) on 2022-08-06 16:30:00+00:00"
          ],
          [
           "Manchester United FC (1) - Brighton & Hove Albion FC (2) on 2022-08-07 13:00:00+00:00"
          ],
          [
           "Leicester City FC (2) - Brentford FC (2) on 2022-08-07 13:00:00+00:00"
          ],
          [
           "West Ham United FC (0) - Manchester City FC (2) on 2022-08-07 15:30:00+00:00"
          ],
          [
           "Aston Villa FC (2) - Everton FC (1) on 2022-08-13 11:30:00+00:00"
          ],
          [
           "Wolverhampton Wanderers FC (0) - Fulham FC (0) on 2022-08-13 14:00:00+00:00"
          ],
          [
           "Southampton FC (2) - Leeds United FC (2) on 2022-08-13 14:00:00+00:00"
          ],
          [
           "Manchester City FC (4) - AFC Bournemouth (0) on 2022-08-13 14:00:00+00:00"
          ],
          [
           "Brighton & Hove Albion FC (0) - Newcastle United FC (0) on 2022-08-13 14:00:00+00:00"
          ],
          [
           "Arsenal FC (4) - Leicester City FC (2) on 2022-08-13 14:00:00+00:00"
          ],
          [
           "Brentford FC (4) - Manchester United FC (0) on 2022-08-13 16:30:00+00:00"
          ],
          [
           "Nottingham Forest FC (1) - West Ham United FC (0) on 2022-08-14 13:00:00+00:00"
          ],
          [
           "Chelsea FC (2) - Tottenham Hotspur FC (2) on 2022-08-14 15:30:00+00:00"
          ],
          [
           "Liverpool FC (1) - Crystal Palace FC (1) on 2022-08-15 19:00:00+00:00"
          ],
          [
           "Tottenham Hotspur FC (1) - Wolverhampton Wanderers FC (0) on 2022-08-20 11:30:00+00:00"
          ],
          [
           "Leicester City FC (1) - Southampton FC (2) on 2022-08-20 14:00:00+00:00"
          ],
          [
           "Fulham FC (3) - Brentford FC (2) on 2022-08-20 14:00:00+00:00"
          ],
          [
           "Everton FC (1) - Nottingham Forest FC (1) on 2022-08-20 14:00:00+00:00"
          ],
          [
           "Crystal Palace FC (3) - Aston Villa FC (1) on 2022-08-20 14:00:00+00:00"
          ],
          [
           "AFC Bournemouth (0) - Arsenal FC (3) on 2022-08-20 16:30:00+00:00"
          ],
          [
           "West Ham United FC (0) - Brighton & Hove Albion FC (2) on 2022-08-21 13:00:00+00:00"
          ],
          [
           "Leeds United FC (3) - Chelsea FC (0) on 2022-08-21 13:00:00+00:00"
          ],
          [
           "Newcastle United FC (3) - Manchester City FC (3) on 2022-08-21 15:30:00+00:00"
          ],
          [
           "Manchester United FC (2) - Liverpool FC (1) on 2022-08-22 19:00:00+00:00"
          ],
          [
           "Southampton FC (0) - Manchester United FC (1) on 2022-08-27 11:30:00+00:00"
          ],
          [
           "Manchester City FC (4) - Crystal Palace FC (2) on 2022-08-27 14:00:00+00:00"
          ],
          [
           "Liverpool FC (9) - AFC Bournemouth (0) on 2022-08-27 14:00:00+00:00"
          ],
          [
           "Chelsea FC (2) - Leicester City FC (1) on 2022-08-27 14:00:00+00:00"
          ],
          [
           "Brighton & Hove Albion FC (1) - Leeds United FC (0) on 2022-08-27 14:00:00+00:00"
          ],
          [
           "Brentford FC (1) - Everton FC (1) on 2022-08-27 14:00:00+00:00"
          ],
          [
           "Arsenal FC (2) - Fulham FC (1) on 2022-08-27 16:30:00+00:00"
          ],
          [
           "Wolverhampton Wanderers FC (1) - Newcastle United FC (1) on 2022-08-28 13:00:00+00:00"
          ],
          [
           "Aston Villa FC (0) - West Ham United FC (1) on 2022-08-28 13:00:00+00:00"
          ],
          [
           "Nottingham Forest FC (0) - Tottenham Hotspur FC (2) on 2022-08-28 15:30:00+00:00"
          ],
          [
           "Crystal Palace FC (1) - Brentford FC (1) on 2022-08-30 18:30:00+00:00"
          ],
          [
           "Fulham FC (2) - Brighton & Hove Albion FC (1) on 2022-08-30 18:30:00+00:00"
          ],
          [
           "Southampton FC (2) - Chelsea FC (1) on 2022-08-30 18:45:00+00:00"
          ],
          [
           "Leeds United FC (1) - Everton FC (1) on 2022-08-30 19:00:00+00:00"
          ],
          [
           "Manchester City FC (6) - Nottingham Forest FC (0) on 2022-08-31 18:30:00+00:00"
          ],
          [
           "AFC Bournemouth (0) - Wolverhampton Wanderers FC (0) on 2022-08-31 18:30:00+00:00"
          ],
          [
           "Arsenal FC (2) - Aston Villa FC (1) on 2022-08-31 18:30:00+00:00"
          ],
          [
           "West Ham United FC (1) - Tottenham Hotspur FC (1) on 2022-08-31 18:45:00+00:00"
          ],
          [
           "Liverpool FC (2) - Newcastle United FC (1) on 2022-08-31 19:00:00+00:00"
          ],
          [
           "Leicester City FC (0) - Manchester United FC (1) on 2022-09-01 19:00:00+00:00"
          ],
          [
           "Everton FC (0) - Liverpool FC (0) on 2022-09-03 11:30:00+00:00"
          ],
          [
           "Wolverhampton Wanderers FC (1) - Southampton FC (0) on 2022-09-03 14:00:00+00:00"
          ],
          [
           "Tottenham Hotspur FC (2) - Fulham FC (1) on 2022-09-03 14:00:00+00:00"
          ],
          [
           "Nottingham Forest FC (2) - AFC Bournemouth (3) on 2022-09-03 14:00:00+00:00"
          ],
          [
           "Newcastle United FC (0) - Crystal Palace FC (0) on 2022-09-03 14:00:00+00:00"
          ],
          [
           "Chelsea FC (2) - West Ham United FC (1) on 2022-09-03 14:00:00+00:00"
          ],
          [
           "Brentford FC (5) - Leeds United FC (2) on 2022-09-03 14:00:00+00:00"
          ],
          [
           "Aston Villa FC (1) - Manchester City FC (1) on 2022-09-03 16:30:00+00:00"
          ],
          [
           "Brighton & Hove Albion FC (5) - Leicester City FC (2) on 2022-09-04 13:00:00+00:00"
          ],
          [
           "Manchester United FC (3) - Arsenal FC (1) on 2022-09-04 15:30:00+00:00"
          ],
          [
           "Nottingham Forest FC (2) - Fulham FC (3) on 2022-09-16 19:00:00+00:00"
          ],
          [
           "Aston Villa FC (1) - Southampton FC (0) on 2022-09-16 19:00:00+00:00"
          ],
          [
           "Wolverhampton Wanderers FC (0) - Manchester City FC (3) on 2022-09-17 11:30:00+00:00"
          ],
          [
           "Newcastle United FC (1) - AFC Bournemouth (1) on 2022-09-17 14:00:00+00:00"
          ],
          [
           "Tottenham Hotspur FC (6) - Leicester City FC (2) on 2022-09-17 16:30:00+00:00"
          ],
          [
           "Brentford FC (0) - Arsenal FC (3) on 2022-09-18 11:00:00+00:00"
          ],
          [
           "Everton FC (1) - West Ham United FC (0) on 2022-09-18 13:15:00+00:00"
          ],
          [
           "Arsenal FC (3) - Tottenham Hotspur FC (1) on 2022-10-01 11:30:00+00:00"
          ],
          [
           "Southampton FC (1) - Everton FC (2) on 2022-10-01 14:00:00+00:00"
          ],
          [
           "Liverpool FC (3) - Brighton & Hove Albion FC (3) on 2022-10-01 14:00:00+00:00"
          ],
          [
           "Fulham FC (1) - Newcastle United FC (4) on 2022-10-01 14:00:00+00:00"
          ],
          [
           "Crystal Palace FC (1) - Chelsea FC (2) on 2022-10-01 14:00:00+00:00"
          ],
          [
           "AFC Bournemouth (0) - Brentford FC (0) on 2022-10-01 14:00:00+00:00"
          ],
          [
           "West Ham United FC (2) - Wolverhampton Wanderers FC (0) on 2022-10-01 16:30:00+00:00"
          ],
          [
           "Manchester City FC (6) - Manchester United FC (3) on 2022-10-02 13:00:00+00:00"
          ],
          [
           "Leeds United FC (0) - Aston Villa FC (0) on 2022-10-02 15:30:00+00:00"
          ],
          [
           "Leicester City FC (4) - Nottingham Forest FC (0) on 2022-10-03 19:00:00+00:00"
          ],
          [
           "Newcastle United FC (5) - Brentford FC (1) on 2022-10-08 14:00:00+00:00"
          ],
          [
           "Manchester City FC (4) - Southampton FC (0) on 2022-10-08 14:00:00+00:00"
          ],
          [
           "Chelsea FC (3) - Wolverhampton Wanderers FC (0) on 2022-10-08 14:00:00+00:00"
          ],
          [
           "AFC Bournemouth (2) - Leicester City FC (1) on 2022-10-08 14:00:00+00:00"
          ],
          [
           "Brighton & Hove Albion FC (0) - Tottenham Hotspur FC (1) on 2022-10-08 16:30:00+00:00"
          ],
          [
           "West Ham United FC (3) - Fulham FC (1) on 2022-10-09 13:00:00+00:00"
          ],
          [
           "Crystal Palace FC (2) - Leeds United FC (1) on 2022-10-09 13:00:00+00:00"
          ],
          [
           "Arsenal FC (3) - Liverpool FC (2) on 2022-10-09 15:30:00+00:00"
          ],
          [
           "Everton FC (1) - Manchester United FC (2) on 2022-10-09 18:00:00+00:00"
          ],
          [
           "Nottingham Forest FC (1) - Aston Villa FC (1) on 2022-10-10 19:00:00+00:00"
          ],
          [
           "Brentford FC (2) - Brighton & Hove Albion FC (0) on 2022-10-14 19:00:00+00:00"
          ],
          [
           "Leicester City FC (0) - Crystal Palace FC (0) on 2022-10-15 11:30:00+00:00"
          ],
          [
           "Wolverhampton Wanderers FC (1) - Nottingham Forest FC (0) on 2022-10-15 14:00:00+00:00"
          ],
          [
           "Fulham FC (2) - AFC Bournemouth (2) on 2022-10-15 14:00:00+00:00"
          ],
          [
           "Tottenham Hotspur FC (2) - Everton FC (0) on 2022-10-15 16:30:00+00:00"
          ],
          [
           "Southampton FC (1) - West Ham United FC (1) on 2022-10-16 13:00:00+00:00"
          ],
          [
           "Manchester United FC (0) - Newcastle United FC (0) on 2022-10-16 13:00:00+00:00"
          ],
          [
           "Leeds United FC (0) - Arsenal FC (1) on 2022-10-16 13:00:00+00:00"
          ],
          [
           "Aston Villa FC (0) - Chelsea FC (2) on 2022-10-16 13:00:00+00:00"
          ],
          [
           "Liverpool FC (1) - Manchester City FC (0) on 2022-10-16 15:30:00+00:00"
          ],
          [
           "Brighton & Hove Albion FC (0) - Nottingham Forest FC (0) on 2022-10-18 18:30:00+00:00"
          ],
          [
           "Crystal Palace FC (2) - Wolverhampton Wanderers FC (1) on 2022-10-18 19:15:00+00:00"
          ],
          [
           "Liverpool FC (1) - West Ham United FC (0) on 2022-10-19 18:30:00+00:00"
          ],
          [
           "Newcastle United FC (1) - Everton FC (0) on 2022-10-19 18:30:00+00:00"
          ],
          [
           "Brentford FC (0) - Chelsea FC (0) on 2022-10-19 18:30:00+00:00"
          ],
          [
           "AFC Bournemouth (0) - Southampton FC (1) on 2022-10-19 18:30:00+00:00"
          ],
          [
           "Manchester United FC (2) - Tottenham Hotspur FC (0) on 2022-10-19 19:15:00+00:00"
          ],
          [
           "Fulham FC (3) - Aston Villa FC (0) on 2022-10-20 18:30:00+00:00"
          ],
          [
           "Leicester City FC (2) - Leeds United FC (0) on 2022-10-20 19:15:00+00:00"
          ],
          [
           "Nottingham Forest FC (1) - Liverpool FC (0) on 2022-10-22 11:30:00+00:00"
          ],
          [
           "Manchester City FC (3) - Brighton & Hove Albion FC (1) on 2022-10-22 14:00:00+00:00"
          ],
          [
           "Everton FC (3) - Crystal Palace FC (0) on 2022-10-22 14:00:00+00:00"
          ],
          [
           "Chelsea FC (1) - Manchester United FC (1) on 2022-10-22 16:30:00+00:00"
          ],
          [
           "Southampton FC (1) - Arsenal FC (1) on 2022-10-23 13:00:00+00:00"
          ],
          [
           "Leeds United FC (2) - Fulham FC (3) on 2022-10-23 13:00:00+00:00"
          ],
          [
           "Aston Villa FC (4) - Brentford FC (0) on 2022-10-23 13:00:00+00:00"
          ],
          [
           "Wolverhampton Wanderers FC (0) - Leicester City FC (4) on 2022-10-23 13:00:00+00:00"
          ],
          [
           "Tottenham Hotspur FC (1) - Newcastle United FC (2) on 2022-10-23 15:30:00+00:00"
          ],
          [
           "West Ham United FC (2) - AFC Bournemouth (0) on 2022-10-24 19:00:00+00:00"
          ],
          [
           "Leicester City FC (0) - Manchester City FC (1) on 2022-10-29 11:30:00+00:00"
          ],
          [
           "Newcastle United FC (4) - Aston Villa FC (0) on 2022-10-29 14:00:00+00:00"
          ],
          [
           "Crystal Palace FC (1) - Southampton FC (0) on 2022-10-29 14:00:00+00:00"
          ],
          [
           "Brighton & Hove Albion FC (4) - Chelsea FC (1) on 2022-10-29 14:00:00+00:00"
          ],
          [
           "Brentford FC (1) - Wolverhampton Wanderers FC (1) on 2022-10-29 14:00:00+00:00"
          ],
          [
           "AFC Bournemouth (2) - Tottenham Hotspur FC (3) on 2022-10-29 14:00:00+00:00"
          ],
          [
           "Fulham FC (0) - Everton FC (0) on 2022-10-29 16:30:00+00:00"
          ],
          [
           "Liverpool FC (1) - Leeds United FC (2) on 2022-10-29 18:45:00+00:00"
          ],
          [
           "Arsenal FC (5) - Nottingham Forest FC (0) on 2022-10-30 14:00:00+00:00"
          ],
          [
           "Manchester United FC (1) - West Ham United FC (0) on 2022-10-30 16:15:00+00:00"
          ],
          [
           "Wolverhampton Wanderers FC (2) - Brighton & Hove Albion FC (3) on 2022-11-05 15:00:00+00:00"
          ],
          [
           "Nottingham Forest FC (2) - Brentford FC (2) on 2022-11-05 15:00:00+00:00"
          ],
          [
           "Manchester City FC (2) - Fulham FC (1) on 2022-11-05 15:00:00+00:00"
          ],
          [
           "Leeds United FC (4) - AFC Bournemouth (3) on 2022-11-05 15:00:00+00:00"
          ],
          [
           "Everton FC (0) - Leicester City FC (2) on 2022-11-05 17:30:00+00:00"
          ],
          [
           "Chelsea FC (0) - Arsenal FC (1) on 2022-11-06 12:00:00+00:00"
          ],
          [
           "West Ham United FC (1) - Crystal Palace FC (2) on 2022-11-06 14:00:00+00:00"
          ],
          [
           "Southampton FC (1) - Newcastle United FC (4) on 2022-11-06 14:00:00+00:00"
          ],
          [
           "Aston Villa FC (3) - Manchester United FC (1) on 2022-11-06 14:00:00+00:00"
          ],
          [
           "Tottenham Hotspur FC (1) - Liverpool FC (2) on 2022-11-06 16:30:00+00:00"
          ],
          [
           "Manchester City FC (1) - Brentford FC (2) on 2022-11-12 12:30:00+00:00"
          ],
          [
           "West Ham United FC (0) - Leicester City FC (2) on 2022-11-12 15:00:00+00:00"
          ],
          [
           "Tottenham Hotspur FC (4) - Leeds United FC (3) on 2022-11-12 15:00:00+00:00"
          ],
          [
           "Nottingham Forest FC (1) - Crystal Palace FC (0) on 2022-11-12 15:00:00+00:00"
          ],
          [
           "Liverpool FC (3) - Southampton FC (1) on 2022-11-12 15:00:00+00:00"
          ],
          [
           "AFC Bournemouth (3) - Everton FC (0) on 2022-11-12 15:00:00+00:00"
          ],
          [
           "Newcastle United FC (1) - Chelsea FC (0) on 2022-11-12 17:30:00+00:00"
          ],
          [
           "Wolverhampton Wanderers FC (0) - Arsenal FC (2) on 2022-11-12 19:45:00+00:00"
          ],
          [
           "Brighton & Hove Albion FC (1) - Aston Villa FC (2) on 2022-11-13 14:00:00+00:00"
          ],
          [
           "Fulham FC (1) - Manchester United FC (2) on 2022-11-13 16:30:00+00:00"
          ],
          [
           "Brentford FC (2) - Tottenham Hotspur FC (2) on 2022-12-26 12:30:00+00:00"
          ],
          [
           "Southampton FC (1) - Brighton & Hove Albion FC (3) on 2022-12-26 15:00:00+00:00"
          ],
          [
           "Leicester City FC (0) - Newcastle United FC (3) on 2022-12-26 15:00:00+00:00"
          ],
          [
           "Everton FC (1) - Wolverhampton Wanderers FC (2) on 2022-12-26 15:00:00+00:00"
          ],
          [
           "Crystal Palace FC (0) - Fulham FC (3) on 2022-12-26 15:00:00+00:00"
          ],
          [
           "Aston Villa FC (1) - Liverpool FC (3) on 2022-12-26 17:30:00+00:00"
          ],
          [
           "Arsenal FC (3) - West Ham United FC (1) on 2022-12-26 20:00:00+00:00"
          ],
          [
           "Chelsea FC (2) - AFC Bournemouth (0) on 2022-12-27 17:30:00+00:00"
          ],
          [
           "Manchester United FC (3) - Nottingham Forest FC (0) on 2022-12-27 20:00:00+00:00"
          ],
          [
           "Leeds United FC (1) - Manchester City FC (3) on 2022-12-28 20:00:00+00:00"
          ],
          [
           "West Ham United FC (0) - Brentford FC (2) on 2022-12-30 19:45:00+00:00"
          ],
          [
           "Liverpool FC (2) - Leicester City FC (1) on 2022-12-30 20:00:00+00:00"
          ],
          [
           "Wolverhampton Wanderers FC (0) - Manchester United FC (1) on 2022-12-31 12:30:00+00:00"
          ],
          [
           "Newcastle United FC (0) - Leeds United FC (0) on 2022-12-31 15:00:00+00:00"
          ],
          [
           "Manchester City FC (1) - Everton FC (1) on 2022-12-31 15:00:00+00:00"
          ],
          [
           "Fulham FC (2) - Southampton FC (1) on 2022-12-31 15:00:00+00:00"
          ],
          [
           "AFC Bournemouth (0) - Crystal Palace FC (2) on 2022-12-31 15:00:00+00:00"
          ],
          [
           "Brighton & Hove Albion FC (2) - Arsenal FC (4) on 2022-12-31 17:30:00+00:00"
          ],
          [
           "Tottenham Hotspur FC (0) - Aston Villa FC (2) on 2023-01-01 14:00:00+00:00"
          ],
          [
           "Nottingham Forest FC (1) - Chelsea FC (1) on 2023-01-01 16:30:00+00:00"
          ],
          [
           "Brentford FC (3) - Liverpool FC (1) on 2023-01-02 17:30:00+00:00"
          ],
          [
           "Leicester City FC (0) - Fulham FC (1) on 2023-01-03 19:45:00+00:00"
          ],
          [
           "Everton FC (1) - Brighton & Hove Albion FC (4) on 2023-01-03 19:45:00+00:00"
          ],
          [
           "Arsenal FC (0) - Newcastle United FC (0) on 2023-01-03 19:45:00+00:00"
          ],
          [
           "Manchester United FC (3) - AFC Bournemouth (0) on 2023-01-03 20:00:00+00:00"
          ],
          [
           "Southampton FC (0) - Nottingham Forest FC (1) on 2023-01-04 19:30:00+00:00"
          ],
          [
           "Leeds United FC (2) - West Ham United FC (2) on 2023-01-04 19:45:00+00:00"
          ],
          [
           "Crystal Palace FC (0) - Tottenham Hotspur FC (4) on 2023-01-04 20:00:00+00:00"
          ],
          [
           "Aston Villa FC (1) - Wolverhampton Wanderers FC (1) on 2023-01-04 20:00:00+00:00"
          ],
          [
           "Chelsea FC (0) - Manchester City FC (1) on 2023-01-05 20:00:00+00:00"
          ],
          [
           "Fulham FC (2) - Chelsea FC (1) on 2023-01-12 20:00:00+00:00"
          ],
          [
           "Aston Villa FC (2) - Leeds United FC (1) on 2023-01-13 20:00:00+00:00"
          ],
          [
           "Manchester United FC (2) - Manchester City FC (1) on 2023-01-14 12:30:00+00:00"
          ],
          [
           "Wolverhampton Wanderers FC (1) - West Ham United FC (0) on 2023-01-14 15:00:00+00:00"
          ],
          [
           "Nottingham Forest FC (2) - Leicester City FC (0) on 2023-01-14 15:00:00+00:00"
          ],
          [
           "Everton FC (1) - Southampton FC (2) on 2023-01-14 15:00:00+00:00"
          ],
          [
           "Brighton & Hove Albion FC (3) - Liverpool FC (0) on 2023-01-14 15:00:00+00:00"
          ],
          [
           "Brentford FC (2) - AFC Bournemouth (0) on 2023-01-14 17:30:00+00:00"
          ],
          [
           "Newcastle United FC (1) - Fulham FC (0) on 2023-01-15 14:00:00+00:00"
          ],
          [
           "Chelsea FC (1) - Crystal Palace FC (0) on 2023-01-15 14:00:00+00:00"
          ],
          [
           "Tottenham Hotspur FC (0) - Arsenal FC (2) on 2023-01-15 16:30:00+00:00"
          ],
          [
           "Crystal Palace FC (1) - Manchester United FC (1) on 2023-01-18 20:00:00+00:00"
          ],
          [
           "Manchester City FC (4) - Tottenham Hotspur FC (2) on 2023-01-19 20:00:00+00:00"
          ],
          [
           "Liverpool FC (0) - Chelsea FC (0) on 2023-01-21 12:30:00+00:00"
          ],
          [
           "West Ham United FC (2) - Everton FC (0) on 2023-01-21 15:00:00+00:00"
          ],
          [
           "Southampton FC (0) - Aston Villa FC (1) on 2023-01-21 15:00:00+00:00"
          ],
          [
           "Leicester City FC (2) - Brighton & Hove Albion FC (2) on 2023-01-21 15:00:00+00:00"
          ],
          [
           "AFC Bournemouth (1) - Nottingham Forest FC (1) on 2023-01-21 15:00:00+00:00"
          ],
          [
           "Crystal Palace FC (0) - Newcastle United FC (0) on 2023-01-21 17:30:00+00:00"
          ],
          [
           "Manchester City FC (3) - Wolverhampton Wanderers FC (0) on 2023-01-22 14:00:00+00:00"
          ],
          [
           "Leeds United FC (0) - Brentford FC (0) on 2023-01-22 14:00:00+00:00"
          ],
          [
           "Arsenal FC (3) - Manchester United FC (2) on 2023-01-22 16:30:00+00:00"
          ],
          [
           "Fulham FC (0) - Tottenham Hotspur FC (1) on 2023-01-23 20:15:00+00:00"
          ],
          [
           "Chelsea FC (0) - Fulham FC (0) on 2023-02-03 20:00:00+00:00"
          ],
          [
           "Everton FC (1) - Arsenal FC (0) on 2023-02-04 12:30:00+00:00"
          ],
          [
           "Wolverhampton Wanderers FC (3) - Liverpool FC (0) on 2023-02-04 15:00:00+00:00"
          ],
          [
           "Manchester United FC (2) - Crystal Palace FC (1) on 2023-02-04 15:00:00+00:00"
          ],
          [
           "Brighton & Hove Albion FC (1) - AFC Bournemouth (0) on 2023-02-04 15:00:00+00:00"
          ],
          [
           "Brentford FC (3) - Southampton FC (0) on 2023-02-04 15:00:00+00:00"
          ],
          [
           "Aston Villa FC (2) - Leicester City FC (4) on 2023-02-04 15:00:00+00:00"
          ],
          [
           "Newcastle United FC (1) - West Ham United FC (1) on 2023-02-04 17:30:00+00:00"
          ],
          [
           "Nottingham Forest FC (1) - Leeds United FC (0) on 2023-02-05 14:00:00+00:00"
          ],
          [
           "Tottenham Hotspur FC (1) - Manchester City FC (0) on 2023-02-05 16:30:00+00:00"
          ],
          [
           "Manchester United FC (2) - Leeds United FC (2) on 2023-02-08 20:00:00+00:00"
          ],
          [
           "West Ham United FC (1) - Chelsea FC (1) on 2023-02-11 12:30:00+00:00"
          ],
          [
           "Southampton FC (1) - Wolverhampton Wanderers FC (2) on 2023-02-11 15:00:00+00:00"
          ],
          [
           "Leicester City FC (4) - Tottenham Hotspur FC (1) on 2023-02-11 15:00:00+00:00"
          ],
          [
           "Fulham FC (2) - Nottingham Forest FC (0) on 2023-02-11 15:00:00+00:00"
          ],
          [
           "Crystal Palace FC (1) - Brighton & Hove Albion FC (1) on 2023-02-11 15:00:00+00:00"
          ],
          [
           "Arsenal FC (1) - Brentford FC (1) on 2023-02-11 15:00:00+00:00"
          ],
          [
           "AFC Bournemouth (1) - Newcastle United FC (1) on 2023-02-11 17:30:00+00:00"
          ],
          [
           "Leeds United FC (0) - Manchester United FC (2) on 2023-02-12 14:00:00+00:00"
          ],
          [
           "Manchester City FC (3) - Aston Villa FC (1) on 2023-02-12 16:30:00+00:00"
          ],
          [
           "Liverpool FC (2) - Everton FC (0) on 2023-02-13 20:00:00+00:00"
          ],
          [
           "Arsenal FC (1) - Manchester City FC (3) on 2023-02-15 19:30:00+00:00"
          ],
          [
           "Aston Villa FC (2) - Arsenal FC (4) on 2023-02-18 12:30:00+00:00"
          ],
          [
           "Wolverhampton Wanderers FC (0) - AFC Bournemouth (1) on 2023-02-18 15:00:00+00:00"
          ],
          [
           "Nottingham Forest FC (1) - Manchester City FC (1) on 2023-02-18 15:00:00+00:00"
          ],
          [
           "Everton FC (1) - Leeds United FC (0) on 2023-02-18 15:00:00+00:00"
          ],
          [
           "Chelsea FC (0) - Southampton FC (1) on 2023-02-18 15:00:00+00:00"
          ],
          [
           "Brighton & Hove Albion FC (0) - Fulham FC (1) on 2023-02-18 15:00:00+00:00"
          ],
          [
           "Brentford FC (1) - Crystal Palace FC (1) on 2023-02-18 15:00:00+00:00"
          ],
          [
           "Newcastle United FC (0) - Liverpool FC (2) on 2023-02-18 17:30:00+00:00"
          ],
          [
           "Manchester United FC (3) - Leicester City FC (0) on 2023-02-19 14:00:00+00:00"
          ],
          [
           "Tottenham Hotspur FC (2) - West Ham United FC (0) on 2023-02-19 16:30:00+00:00"
          ],
          [
           "Fulham FC (1) - Wolverhampton Wanderers FC (1) on 2023-02-24 20:00:00+00:00"
          ],
          [
           "West Ham United FC (4) - Nottingham Forest FC (0) on 2023-02-25 15:00:00+00:00"
          ],
          [
           "Leicester City FC (0) - Arsenal FC (1) on 2023-02-25 15:00:00+00:00"
          ],
          [
           "Leeds United FC (1) - Southampton FC (0) on 2023-02-25 15:00:00+00:00"
          ],
          [
           "Everton FC (0) - Aston Villa FC (2) on 2023-02-25 15:00:00+00:00"
          ],
          [
           "AFC Bournemouth (1) - Manchester City FC (4) on 2023-02-25 17:30:00+00:00"
          ],
          [
           "Crystal Palace FC (0) - Liverpool FC (0) on 2023-02-25 19:45:00+00:00"
          ],
          [
           "Tottenham Hotspur FC (2) - Chelsea FC (0) on 2023-02-26 13:30:00+00:00"
          ],
          [
           "Arsenal FC (4) - Everton FC (0) on 2023-03-01 19:45:00+00:00"
          ],
          [
           "Liverpool FC (2) - Wolverhampton Wanderers FC (0) on 2023-03-01 20:00:00+00:00"
          ],
          [
           "Manchester City FC (2) - Newcastle United FC (0) on 2023-03-04 12:30:00+00:00"
          ],
          [
           "Wolverhampton Wanderers FC (1) - Tottenham Hotspur FC (0) on 2023-03-04 15:00:00+00:00"
          ],
          [
           "Chelsea FC (1) - Leeds United FC (0) on 2023-03-04 15:00:00+00:00"
          ],
          [
           "Brighton & Hove Albion FC (4) - West Ham United FC (0) on 2023-03-04 15:00:00+00:00"
          ],
          [
           "Aston Villa FC (1) - Crystal Palace FC (0) on 2023-03-04 15:00:00+00:00"
          ],
          [
           "Arsenal FC (3) - AFC Bournemouth (2) on 2023-03-04 15:00:00+00:00"
          ],
          [
           "Southampton FC (1) - Leicester City FC (0) on 2023-03-04 17:30:00+00:00"
          ],
          [
           "Nottingham Forest FC (2) - Everton FC (2) on 2023-03-05 14:00:00+00:00"
          ],
          [
           "Liverpool FC (7) - Manchester United FC (0) on 2023-03-05 16:30:00+00:00"
          ],
          [
           "Brentford FC (3) - Fulham FC (2) on 2023-03-06 20:00:00+00:00"
          ],
          [
           "AFC Bournemouth (1) - Liverpool FC (0) on 2023-03-11 12:30:00+00:00"
          ],
          [
           "Tottenham Hotspur FC (3) - Nottingham Forest FC (1) on 2023-03-11 15:00:00+00:00"
          ],
          [
           "Leicester City FC (1) - Chelsea FC (3) on 2023-03-11 15:00:00+00:00"
          ],
          [
           "Leeds United FC (2) - Brighton & Hove Albion FC (2) on 2023-03-11 15:00:00+00:00"
          ],
          [
           "Everton FC (1) - Brentford FC (0) on 2023-03-11 15:00:00+00:00"
          ],
          [
           "Crystal Palace FC (0) - Manchester City FC (1) on 2023-03-11 17:30:00+00:00"
          ],
          [
           "West Ham United FC (1) - Aston Villa FC (1) on 2023-03-12 14:00:00+00:00"
          ],
          [
           "Manchester United FC (0) - Southampton FC (0) on 2023-03-12 14:00:00+00:00"
          ],
          [
           "Fulham FC (0) - Arsenal FC (3) on 2023-03-12 14:00:00+00:00"
          ],
          [
           "Newcastle United FC (2) - Wolverhampton Wanderers FC (1) on 2023-03-12 16:30:00+00:00"
          ],
          [
           "Brighton & Hove Albion FC (1) - Crystal Palace FC (0) on 2023-03-15 19:30:00+00:00"
          ],
          [
           "Southampton FC (0) - Brentford FC (2) on 2023-03-15 19:30:00+00:00"
          ],
          [
           "Nottingham Forest FC (1) - Newcastle United FC (2) on 2023-03-17 20:00:00+00:00"
          ],
          [
           "Wolverhampton Wanderers FC (2) - Leeds United FC (4) on 2023-03-18 15:00:00+00:00"
          ],
          [
           "Southampton FC (3) - Tottenham Hotspur FC (3) on 2023-03-18 15:00:00+00:00"
          ],
          [
           "Brentford FC (1) - Leicester City FC (1) on 2023-03-18 15:00:00+00:00"
          ],
          [
           "Aston Villa FC (3) - AFC Bournemouth (0) on 2023-03-18 15:00:00+00:00"
          ],
          [
           "Chelsea FC (2) - Everton FC (2) on 2023-03-18 17:30:00+00:00"
          ],
          [
           "Arsenal FC (4) - Crystal Palace FC (1) on 2023-03-19 14:00:00+00:00"
          ],
          [
           "Manchester City FC (4) - Liverpool FC (1) on 2023-04-01 11:30:00+00:00"
          ],
          [
           "Nottingham Forest FC (1) - Wolverhampton Wanderers FC (1) on 2023-04-01 14:00:00+00:00"
          ],
          [
           "Crystal Palace FC (2) - Leicester City FC (1) on 2023-04-01 14:00:00+00:00"
          ],
          [
           "Brighton & Hove Albion FC (3) - Brentford FC (3) on 2023-04-01 14:00:00+00:00"
          ],
          [
           "AFC Bournemouth (2) - Fulham FC (1) on 2023-04-01 14:00:00+00:00"
          ],
          [
           "Arsenal FC (4) - Leeds United FC (1) on 2023-04-01 14:00:00+00:00"
          ],
          [
           "Chelsea FC (0) - Aston Villa FC (2) on 2023-04-01 16:30:00+00:00"
          ],
          [
           "West Ham United FC (1) - Southampton FC (0) on 2023-04-02 13:00:00+00:00"
          ],
          [
           "Newcastle United FC (2) - Manchester United FC (0) on 2023-04-02 15:30:00+00:00"
          ],
          [
           "Everton FC (1) - Tottenham Hotspur FC (1) on 2023-04-03 19:00:00+00:00"
          ],
          [
           "Leicester City FC (1) - Aston Villa FC (2) on 2023-04-04 18:45:00+00:00"
          ],
          [
           "Leeds United FC (2) - Nottingham Forest FC (1) on 2023-04-04 18:45:00+00:00"
          ],
          [
           "AFC Bournemouth (0) - Brighton & Hove Albion FC (2) on 2023-04-04 18:45:00+00:00"
          ],
          [
           "Chelsea FC (0) - Liverpool FC (0) on 2023-04-04 19:00:00+00:00"
          ],
          [
           "West Ham United FC (1) - Newcastle United FC (5) on 2023-04-05 19:00:00+00:00"
          ],
          [
           "Manchester United FC (1) - Brentford FC (0) on 2023-04-05 19:00:00+00:00"
          ],
          [
           "Manchester United FC (2) - Everton FC (0) on 2023-04-08 11:30:00+00:00"
          ],
          [
           "Wolverhampton Wanderers FC (1) - Chelsea FC (0) on 2023-04-08 14:00:00+00:00"
          ],
          [
           "Tottenham Hotspur FC (2) - Brighton & Hove Albion FC (1) on 2023-04-08 14:00:00+00:00"
          ],
          [
           "Leicester City FC (0) - AFC Bournemouth (1) on 2023-04-08 14:00:00+00:00"
          ],
          [
           "Fulham FC (0) - West Ham United FC (1) on 2023-04-08 14:00:00+00:00"
          ],
          [
           "Brentford FC (1) - Newcastle United FC (2) on 2023-04-08 14:00:00+00:00"
          ],
          [
           "Aston Villa FC (2) - Nottingham Forest FC (0) on 2023-04-08 14:00:00+00:00"
          ],
          [
           "Southampton FC (1) - Manchester City FC (4) on 2023-04-08 16:30:00+00:00"
          ],
          [
           "Leeds United FC (1) - Crystal Palace FC (5) on 2023-04-09 13:00:00+00:00"
          ],
          [
           "Liverpool FC (2) - Arsenal FC (2) on 2023-04-09 15:30:00+00:00"
          ],
          [
           "Aston Villa FC (3) - Newcastle United FC (0) on 2023-04-15 11:30:00+00:00"
          ],
          [
           "Wolverhampton Wanderers FC (2) - Brentford FC (0) on 2023-04-15 14:00:00+00:00"
          ],
          [
           "Southampton FC (0) - Crystal Palace FC (2) on 2023-04-15 14:00:00+00:00"
          ],
          [
           "Everton FC (1) - Fulham FC (3) on 2023-04-15 14:00:00+00:00"
          ],
          [
           "Chelsea FC (1) - Brighton & Hove Albion FC (2) on 2023-04-15 14:00:00+00:00"
          ],
          [
           "Tottenham Hotspur FC (2) - AFC Bournemouth (3) on 2023-04-15 14:15:00+00:00"
          ],
          [
           "Manchester City FC (3) - Leicester City FC (1) on 2023-04-15 16:30:00+00:00"
          ],
          [
           "West Ham United FC (2) - Arsenal FC (2) on 2023-04-16 13:00:00+00:00"
          ],
          [
           "Nottingham Forest FC (0) - Manchester United FC (2) on 2023-04-16 15:30:00+00:00"
          ],
          [
           "Leeds United FC (1) - Liverpool FC (6) on 2023-04-17 19:00:00+00:00"
          ],
          [
           "Arsenal FC (3) - Southampton FC (3) on 2023-04-21 19:00:00+00:00"
          ],
          [
           "Fulham FC (2) - Leeds United FC (1) on 2023-04-22 11:30:00+00:00"
          ],
          [
           "Liverpool FC (3) - Nottingham Forest FC (2) on 2023-04-22 14:00:00+00:00"
          ],
          [
           "Leicester City FC (2) - Wolverhampton Wanderers FC (1) on 2023-04-22 14:00:00+00:00"
          ],
          [
           "Crystal Palace FC (0) - Everton FC (0) on 2023-04-22 14:00:00+00:00"
          ],
          [
           "Brentford FC (1) - Aston Villa FC (1) on 2023-04-22 14:00:00+00:00"
          ],
          [
           "Newcastle United FC (6) - Tottenham Hotspur FC (1) on 2023-04-23 13:00:00+00:00"
          ],
          [
           "AFC Bournemouth (0) - West Ham United FC (4) on 2023-04-23 13:00:00+00:00"
          ],
          [
           "Wolverhampton Wanderers FC (2) - Crystal Palace FC (0) on 2023-04-25 18:30:00+00:00"
          ],
          [
           "Aston Villa FC (1) - Fulham FC (0) on 2023-04-25 18:45:00+00:00"
          ],
          [
           "Leeds United FC (1) - Leicester City FC (1) on 2023-04-25 19:00:00+00:00"
          ],
          [
           "Nottingham Forest FC (3) - Brighton & Hove Albion FC (1) on 2023-04-26 18:30:00+00:00"
          ],
          [
           "Chelsea FC (0) - Brentford FC (2) on 2023-04-26 18:45:00+00:00"
          ],
          [
           "West Ham United FC (1) - Liverpool FC (2) on 2023-04-26 18:45:00+00:00"
          ],
          [
           "Manchester City FC (4) - Arsenal FC (1) on 2023-04-26 19:00:00+00:00"
          ],
          [
           "Southampton FC (0) - AFC Bournemouth (1) on 2023-04-27 18:45:00+00:00"
          ],
          [
           "Everton FC (1) - Newcastle United FC (4) on 2023-04-27 18:45:00+00:00"
          ],
          [
           "Tottenham Hotspur FC (2) - Manchester United FC (2) on 2023-04-27 19:15:00+00:00"
          ],
          [
           "Crystal Palace FC (4) - West Ham United FC (3) on 2023-04-29 11:45:00+00:00"
          ],
          [
           "Brighton & Hove Albion FC (6) - Wolverhampton Wanderers FC (0) on 2023-04-29 14:00:00+00:00"
          ],
          [
           "Brentford FC (2) - Nottingham Forest FC (1) on 2023-04-29 14:00:00+00:00"
          ],
          [
           "Newcastle United FC (3) - Southampton FC (1) on 2023-04-30 13:00:00+00:00"
          ],
          [
           "Manchester United FC (1) - Aston Villa FC (0) on 2023-04-30 13:00:00+00:00"
          ],
          [
           "Fulham FC (1) - Manchester City FC (2) on 2023-04-30 13:00:00+00:00"
          ],
          [
           "AFC Bournemouth (4) - Leeds United FC (1) on 2023-04-30 13:00:00+00:00"
          ],
          [
           "Liverpool FC (4) - Tottenham Hotspur FC (3) on 2023-04-30 15:30:00+00:00"
          ],
          [
           "Leicester City FC (2) - Everton FC (2) on 2023-05-01 19:00:00+00:00"
          ],
          [
           "Arsenal FC (3) - Chelsea FC (1) on 2023-05-02 19:00:00+00:00"
          ],
          [
           "Manchester City FC (3) - West Ham United FC (0) on 2023-05-03 19:00:00+00:00"
          ],
          [
           "Liverpool FC (1) - Fulham FC (0) on 2023-05-03 19:00:00+00:00"
          ],
          [
           "Brighton & Hove Albion FC (1) - Manchester United FC (0) on 2023-05-04 19:00:00+00:00"
          ],
          [
           "Wolverhampton Wanderers FC (1) - Aston Villa FC (0) on 2023-05-06 14:00:00+00:00"
          ],
          [
           "Tottenham Hotspur FC (1) - Crystal Palace FC (0) on 2023-05-06 14:00:00+00:00"
          ],
          [
           "Manchester City FC (2) - Leeds United FC (1) on 2023-05-06 14:00:00+00:00"
          ],
          [
           "AFC Bournemouth (1) - Chelsea FC (3) on 2023-05-06 14:00:00+00:00"
          ],
          [
           "Liverpool FC (1) - Brentford FC (0) on 2023-05-06 16:30:00+00:00"
          ],
          [
           "Newcastle United FC (0) - Arsenal FC (2) on 2023-05-07 15:30:00+00:00"
          ],
          [
           "West Ham United FC (1) - Manchester United FC (0) on 2023-05-07 18:00:00+00:00"
          ],
          [
           "Fulham FC (5) - Leicester City FC (3) on 2023-05-08 14:00:00+00:00"
          ],
          [
           "Brighton & Hove Albion FC (1) - Everton FC (5) on 2023-05-08 16:30:00+00:00"
          ],
          [
           "Nottingham Forest FC (4) - Southampton FC (3) on 2023-05-08 19:00:00+00:00"
          ],
          [
           "Leeds United FC (2) - Newcastle United FC (2) on 2023-05-13 11:30:00+00:00"
          ],
          [
           "Southampton FC (0) - Fulham FC (2) on 2023-05-13 14:00:00+00:00"
          ],
          [
           "Manchester United FC (2) - Wolverhampton Wanderers FC (0) on 2023-05-13 14:00:00+00:00"
          ],
          [
           "Crystal Palace FC (2) - AFC Bournemouth (0) on 2023-05-13 14:00:00+00:00"
          ],
          [
           "Chelsea FC (2) - Nottingham Forest FC (2) on 2023-05-13 14:00:00+00:00"
          ],
          [
           "Aston Villa FC (2) - Tottenham Hotspur FC (1) on 2023-05-13 14:00:00+00:00"
          ],
          [
           "Everton FC (0) - Manchester City FC (3) on 2023-05-14 13:00:00+00:00"
          ],
          [
           "Brentford FC (2) - West Ham United FC (0) on 2023-05-14 13:00:00+00:00"
          ],
          [
           "Arsenal FC (0) - Brighton & Hove Albion FC (3) on 2023-05-14 15:30:00+00:00"
          ],
          [
           "Leicester City FC (0) - Liverpool FC (3) on 2023-05-15 19:00:00+00:00"
          ],
          [
           "Newcastle United FC (4) - Brighton & Hove Albion FC (1) on 2023-05-18 18:30:00+00:00"
          ],
          [
           "Tottenham Hotspur FC (1) - Brentford FC (3) on 2023-05-20 11:30:00+00:00"
          ],
          [
           "Wolverhampton Wanderers FC (1) - Everton FC (1) on 2023-05-20 14:00:00+00:00"
          ],
          [
           "Liverpool FC (1) - Aston Villa FC (1) on 2023-05-20 14:00:00+00:00"
          ],
          [
           "Fulham FC (2) - Crystal Palace FC (2) on 2023-05-20 14:00:00+00:00"
          ],
          [
           "AFC Bournemouth (0) - Manchester United FC (1) on 2023-05-20 14:00:00+00:00"
          ],
          [
           "Nottingham Forest FC (1) - Arsenal FC (0) on 2023-05-20 16:30:00+00:00"
          ],
          [
           "West Ham United FC (3) - Leeds United FC (1) on 2023-05-21 12:30:00+00:00"
          ],
          [
           "Brighton & Hove Albion FC (3) - Southampton FC (1) on 2023-05-21 13:00:00+00:00"
          ],
          [
           "Manchester City FC (1) - Chelsea FC (0) on 2023-05-21 15:00:00+00:00"
          ],
          [
           "Newcastle United FC (0) - Leicester City FC (0) on 2023-05-22 19:00:00+00:00"
          ],
          [
           "Brighton & Hove Albion FC (1) - Manchester City FC (1) on 2023-05-24 19:00:00+00:00"
          ],
          [
           "Manchester United FC (4) - Chelsea FC (1) on 2023-05-25 19:00:00+00:00"
          ],
          [
           "Southampton FC (4) - Liverpool FC (4) on 2023-05-28 15:30:00+00:00"
          ],
          [
           "Manchester United FC (2) - Fulham FC (1) on 2023-05-28 15:30:00+00:00"
          ],
          [
           "Leicester City FC (2) - West Ham United FC (1) on 2023-05-28 15:30:00+00:00"
          ],
          [
           "Leeds United FC (1) - Tottenham Hotspur FC (4) on 2023-05-28 15:30:00+00:00"
          ],
          [
           "Everton FC (1) - AFC Bournemouth (0) on 2023-05-28 15:30:00+00:00"
          ],
          [
           "Crystal Palace FC (1) - Nottingham Forest FC (1) on 2023-05-28 15:30:00+00:00"
          ],
          [
           "Chelsea FC (1) - Newcastle United FC (1) on 2023-05-28 15:30:00+00:00"
          ],
          [
           "Brentford FC (1) - Manchester City FC (0) on 2023-05-28 15:30:00+00:00"
          ],
          [
           "Aston Villa FC (2) - Brighton & Hove Albion FC (1) on 2023-05-28 15:30:00+00:00"
          ],
          [
           "Arsenal FC (5) - Wolverhampton Wanderers FC (0) on 2023-05-28 15:30:00+00:00"
          ]
         ],
         "hovertemplate": "season=2022-2023<br>elo_difference=%{x}<br>home_outcome=%{y}<br>match_info=%{customdata[0]}<extra></extra>",
         "legendgroup": "2022-2023",
         "marker": {
          "color": "#636efa",
          "symbol": "circle"
         },
         "mode": "markers",
         "name": "2022-2023",
         "orientation": "h",
         "showlegend": true,
         "type": "scatter",
         "x": [
          -163.61499092375607,
          -134.17433285455627,
          63.953755684963426,
          109.48218649388946,
          -19.310487675714512,
          8.05902805055257,
          -257.3799768487065,
          101.19000144881034,
          32.65315479731862,
          -178.69275923088662,
          25.92479557791944,
          41.208668433186176,
          -13.865653240345182,
          169.19059904342953,
          -19.731440454303083,
          106.90114979655209,
          -99.41659857554464,
          44.135340905095745,
          176.0283977538213,
          139.5006403788982,
          72.88618364520289,
          -16.63072402057901,
          -1.7627452717711094,
          -11.094123640379848,
          -1.097384574390162,
          -160.11598509831947,
          -132.6019074956921,
          -163.58848758464933,
          -62.45889083488555,
          62.75258558742348,
          -148.63710394785767,
          175.56781144941783,
          129.9349189987895,
          214.42018255067978,
          68.02072068489338,
          20.111179198922173,
          148.30685850464943,
          -64.5658942320049,
          1.1815794945582638,
          -110.73595617660635,
          -26.585894934296903,
          -42.00436838539895,
          -135.7596968151961,
          28.468762245275684,
          184.83012793373064,
          -42.24523962950025,
          190.55070303425168,
          -109.32568876291043,
          52.130813027570184,
          -177.39306710700475,
          -101.02849812553154,
          18.36909811048531,
          92.84850926030731,
          -33.78652397360884,
          65.39132710891136,
          206.82793172313086,
          27.775541931066755,
          -172.36382718491814,
          108.03148500401676,
          46.501630475288266,
          -80.51258449472675,
          2.960697589045367,
          -134.78323769791928,
          52.85675391878567,
          149.88187854911007,
          -123.05699684425917,
          65.4325921859247,
          63.282492718615,
          -60.12397926449103,
          20.072768471047084,
          -59.810197877069186,
          -200.65717928020672,
          -16.394845475463626,
          -18.00938680594686,
          19.84751040614242,
          5.823506077092134,
          52.20031555770129,
          82.46751920911902,
          205.58243578669362,
          198.11082666868947,
          53.86545067036354,
          -46.75303246063413,
          15.315341861542947,
          19.31269446577471,
          83.6627693676528,
          -135.80818213872544,
          -59.76260196234989,
          -12.607626549808856,
          -33.95333202691995,
          83.57233440641335,
          -26.778811845390692,
          108.52188885364035,
          -27.583748863109122,
          66.85955524422798,
          -193.54964490258135,
          -203.46969217226751,
          -42.309149263894824,
          96.35438146398701,
          35.29138799141424,
          126.01983978057729,
          102.37333436359381,
          -144.66189557638677,
          -1.7528209706463258,
          66.71403190891738,
          40.81334568498028,
          32.23621920621963,
          -118.07271101232959,
          139.85853564586114,
          14.44274654775154,
          10.567633691177662,
          -150.00537665206411,
          -83.09470104211096,
          -14.398553819325116,
          -40.915904128266675,
          -38.56225677961652,
          32.51885430037737,
          -163.09041519129414,
          141.0887578709112,
          34.43812865166319,
          -94.03767897439798,
          33.045597669033896,
          -122.86801594211374,
          9.074517151514783,
          80.25035965238453,
          204.80592195138047,
          167.72580513075968,
          -97.98285738241407,
          -42.67231940226111,
          155.43207978317378,
          46.37110237293132,
          -23.29994127981149,
          -59.32043670805524,
          -59.192063158970996,
          -154.77680212630867,
          -119.8823448527678,
          -9.999262239829477,
          103.4251891845147,
          -72.21420286678517,
          98.1658729842352,
          -28.409098831460597,
          121.32704662687502,
          -3.8039846868882705,
          52.64830163137117,
          -224.25168016563475,
          0.5180899044557918,
          -139.71196995106857,
          -38.08926549961507,
          -98.6976627685292,
          -131.55820938070065,
          -19.36218018904924,
          -26.089701962075196,
          -82.53767784427396,
          222.3103678066991,
          142.57618951776158,
          170.55508884720962,
          -173.5928004794182,
          -103.89677847215876,
          103.87802406872129,
          -186.39518857362555,
          159.8551032318851,
          160.72793189335766,
          99.32214823511504,
          -68.39435461621997,
          -151.09159502325429,
          9.002758407400734,
          -108.26049480582378,
          -14.92166906716534,
          -63.46317016024068,
          -96.33018856327362,
          39.80263080508621,
          218.47851009779947,
          -79.19142281603331,
          30.14481087241097,
          -68.06783242830397,
          61.80327538471465,
          -68.8826433443619,
          21.924709503956592,
          85.3135985141937,
          51.510693005913936,
          58.257503528629286,
          49.2861292168418,
          -12.442428892877615,
          8.871100539135568,
          151.54062126303393,
          95.3328674898587,
          84.36473894854112,
          -136.0178816332043,
          -163.95282814114967,
          98.12310063262021,
          -2.8889225705381705,
          37.20258100073602,
          -125.96609329926082,
          -83.84404444669053,
          -79.25998866392797,
          -136.64647119505935,
          157.01731397905905,
          -99.5325797674459,
          64.8584839746677,
          -19.567654390194775,
          26.264131903962607,
          -203.86049324946998,
          -29.186391494839654,
          152.0711298128506,
          146.5647266016215,
          155.04768786155432,
          32.5041044966822,
          155.47769022429634,
          76.06284428354252,
          -35.07842267066462,
          157.6690868708647,
          -78.88641575787346,
          -105.71372995776414,
          -21.2749024707839,
          38.542980447225546,
          -73.56850969109837,
          65.0191956537517,
          -168.73162496152668,
          -174.1958622195807,
          100.61702409161558,
          107.38443231757992,
          -15.066851982516255,
          -125.75263722637601,
          30.348927611608815,
          -106.6275016711304,
          24.2201485620285,
          79.63402573763233,
          -25.508343545371872,
          77.24953598887419,
          12.775304720229315,
          128.2994728511976,
          102.76880270991228,
          62.92413846691852,
          -12.42833593041496,
          -140.38542322239414,
          34.19113002034078,
          -74.68231496388671,
          -176.15692383564965,
          -60.76322877024995,
          71.07033707034725,
          204.2390183831044,
          92.18271079269198,
          81.07492058810317,
          -40.87572940395262,
          76.97012752171781,
          90.71123314113902,
          55.86875479710852,
          200.94502369668157,
          -23.45657056115624,
          47.709417945017094,
          -16.856105364753375,
          49.28437302879138,
          -89.23957187387668,
          87.35522673382775,
          -78.20643611227479,
          -96.9451162395851,
          -87.29168308823023,
          -176.17725944399695,
          -61.41820588900805,
          138.25460703344038,
          -129.71883590536572,
          84.48825283132419,
          104.36808041003542,
          -123.02058287393265,
          -124.1530102562997,
          -5.414433578851913,
          -98.0459597781853,
          96.5453430677419,
          87.91518413179165,
          55.0306309587354,
          209.3292476366546,
          110.2307766487429,
          -6.294855338498564,
          24.60833923454038,
          -0.3919286207847108,
          -17.798664912489357,
          197.2731442790532,
          -52.06051968449674,
          51.72862943724135,
          27.40814969323992,
          -66.13503422053532,
          -139.12948826371985,
          40.26944552365035,
          -103.38270574843705,
          -29.96444392820672,
          -134.7629053831215,
          51.83788691634595,
          132.34270410156023,
          1.5758888085044873,
          17.51290634963175,
          -67.23178437085653,
          -18.0413555917919,
          -101.05504546617863,
          149.24148428198646,
          -227.6295944730714,
          -26.225057581699957,
          -102.6100685096385,
          5.058275298154058,
          13.13198997538484,
          -89.69781436781432,
          -48.878565372164076,
          -88.11723458205847,
          29.08129203448084,
          246.83640214138404,
          -130.4540797499692,
          -181.5725773708973,
          -108.5578278305668,
          189.03700529514822,
          79.19713898997361,
          154.02437644860947,
          -45.74312851314562,
          49.02703028034148,
          -87.31527452492787,
          87.27199854117612,
          -34.59107482431341,
          24.514536980644152,
          104.13464742807218,
          -4.5921016703318855,
          -87.36243560155617,
          -64.7445469116185,
          -76.94591682461464,
          73.35722965629202,
          -88.92164240727129,
          -171.07587882078315,
          -73.06189409378771,
          18.431888031261224,
          59.94145818817401,
          103.99308596130209,
          210.11655622972808,
          33.99467693159136,
          -187.18146638368194,
          96.47754852930257,
          88.57168996799919,
          -1.5023804765523892,
          160.07094916965684,
          202.81422420639865,
          130.843252372282,
          -16.836035699073136,
          -39.11394775963345,
          41.84478189387005,
          259.5968231911113,
          25.33795700161204,
          98.67515506804216,
          -26.474695755674247,
          -56.18262309855254,
          64.58148973326843,
          67.38993444933703,
          56.69790743199974,
          -151.7830396361178,
          -122.55229821504736,
          76.70004247158818,
          28.052869499926146,
          16.524435095409444,
          60.95274562902409,
          -216.36833738031555,
          52.991388611060074,
          30.93230207659417,
          -201.29190589862856,
          55.72154449797222,
          -63.27281725062744,
          25.94836954774678,
          46.570183634917385,
          2.3200145891892134,
          -120.64216461723345,
          -81.24092193058937,
          82.73606431264534,
          174.1315467948025,
          220.82476659514532,
          152.330039627215,
          -113.37057492815393,
          142.0829359645661,
          -206.02579399978026,
          112.6464885347807,
          -18.64137114923983,
          -99.93874977432165,
          42.803806322635864,
          18.63134318761854,
          -115.1108047095097,
          -62.3253638650699,
          48.68062202098349,
          98.207156670308
         ],
         "xaxis": "x",
         "y": [
          "0",
          "1",
          "3",
          "3",
          "3",
          "3",
          "0",
          "0",
          "1",
          "0",
          "3",
          "1",
          "1",
          "3",
          "1",
          "3",
          "3",
          "3",
          "1",
          "1",
          "3",
          "0",
          "3",
          "1",
          "3",
          "0",
          "0",
          "3",
          "1",
          "3",
          "0",
          "3",
          "3",
          "3",
          "3",
          "1",
          "3",
          "1",
          "0",
          "0",
          "1",
          "3",
          "3",
          "1",
          "3",
          "1",
          "3",
          "1",
          "3",
          "0",
          "1",
          "3",
          "3",
          "0",
          "1",
          "3",
          "3",
          "1",
          "3",
          "3",
          "0",
          "3",
          "0",
          "1",
          "3",
          "0",
          "3",
          "3",
          "0",
          "1",
          "0",
          "0",
          "1",
          "3",
          "3",
          "1",
          "3",
          "3",
          "3",
          "3",
          "3",
          "0",
          "3",
          "3",
          "3",
          "0",
          "1",
          "3",
          "1",
          "3",
          "1",
          "3",
          "1",
          "1",
          "0",
          "0",
          "3",
          "1",
          "3",
          "3",
          "3",
          "1",
          "0",
          "3",
          "3",
          "3",
          "3",
          "3",
          "3",
          "1",
          "1",
          "0",
          "3",
          "0",
          "0",
          "3",
          "0",
          "3",
          "3",
          "3",
          "1",
          "0",
          "1",
          "0",
          "3",
          "3",
          "0",
          "1",
          "3",
          "3",
          "0",
          "0",
          "0",
          "0",
          "3",
          "0",
          "0",
          "0",
          "3",
          "3",
          "3",
          "3",
          "3",
          "0",
          "0",
          "0",
          "1",
          "0",
          "0",
          "0",
          "0",
          "0",
          "3",
          "3",
          "3",
          "0",
          "0",
          "3",
          "0",
          "1",
          "1",
          "3",
          "0",
          "0",
          "0",
          "1",
          "3",
          "0",
          "0",
          "1",
          "3",
          "0",
          "1",
          "0",
          "1",
          "0",
          "3",
          "3",
          "3",
          "3",
          "3",
          "0",
          "3",
          "3",
          "3",
          "3",
          "0",
          "1",
          "3",
          "1",
          "3",
          "0",
          "1",
          "1",
          "1",
          "3",
          "1",
          "3",
          "0",
          "1",
          "3",
          "3",
          "3",
          "3",
          "3",
          "0",
          "1",
          "3",
          "3",
          "1",
          "1",
          "0",
          "3",
          "3",
          "1",
          "1",
          "1",
          "0",
          "3",
          "3",
          "0",
          "0",
          "0",
          "1",
          "3",
          "0",
          "0",
          "1",
          "0",
          "3",
          "3",
          "1",
          "3",
          "0",
          "3",
          "0",
          "0",
          "1",
          "3",
          "3",
          "3",
          "3",
          "3",
          "3",
          "3",
          "3",
          "3",
          "3",
          "1",
          "3",
          "3",
          "3",
          "3",
          "0",
          "1",
          "3",
          "0",
          "1",
          "1",
          "0",
          "3",
          "3",
          "0",
          "0",
          "0",
          "1",
          "1",
          "3",
          "1",
          "3",
          "3",
          "1",
          "3",
          "1",
          "3",
          "3",
          "0",
          "3",
          "3",
          "1",
          "0",
          "3",
          "0",
          "1",
          "0",
          "3",
          "3",
          "3",
          "3",
          "0",
          "0",
          "0",
          "3",
          "0",
          "0",
          "1",
          "3",
          "3",
          "0",
          "0",
          "0",
          "0",
          "3",
          "1",
          "0",
          "0",
          "1",
          "3",
          "3",
          "3",
          "1",
          "1",
          "3",
          "0",
          "3",
          "3",
          "1",
          "3",
          "0",
          "0",
          "3",
          "0",
          "0",
          "1",
          "3",
          "3",
          "3",
          "3",
          "3",
          "0",
          "3",
          "3",
          "1",
          "3",
          "3",
          "3",
          "3",
          "3",
          "3",
          "3",
          "0",
          "3",
          "0",
          "3",
          "3",
          "0",
          "3",
          "1",
          "0",
          "3",
          "3",
          "1",
          "3",
          "0",
          "3",
          "0",
          "0",
          "3",
          "0",
          "1",
          "1",
          "1",
          "0",
          "3",
          "3",
          "3",
          "3",
          "1",
          "1",
          "3",
          "1",
          "3",
          "3",
          "0",
          "3",
          "1",
          "1",
          "3",
          "3",
          "3"
         ],
         "yaxis": "y"
        },
        {
         "customdata": [
          [
           "Burnley FC (0) - Manchester City FC (3) on 2023-08-11 19:00:00+00:00"
          ],
          [
           "Arsenal FC (2) - Nottingham Forest FC (1) on 2023-08-12 12:00:00+00:00"
          ],
          [
           "AFC Bournemouth (1) - West Ham United FC (1) on 2023-08-12 14:00:00+00:00"
          ],
          [
           "Brighton & Hove Albion FC (4) - Luton Town FC (1) on 2023-08-12 14:00:00+00:00"
          ],
          [
           "Everton FC (0) - Fulham FC (1) on 2023-08-12 14:00:00+00:00"
          ],
          [
           "Sheffield United FC (0) - Crystal Palace FC (1) on 2023-08-12 14:00:00+00:00"
          ],
          [
           "Newcastle United FC (5) - Aston Villa FC (1) on 2023-08-12 16:30:00+00:00"
          ],
          [
           "Brentford FC (2) - Tottenham Hotspur FC (2) on 2023-08-13 13:00:00+00:00"
          ],
          [
           "Chelsea FC (1) - Liverpool FC (1) on 2023-08-13 15:30:00+00:00"
          ],
          [
           "Manchester United FC (1) - Wolverhampton Wanderers FC (0) on 2023-08-14 19:00:00+00:00"
          ],
          [
           "Nottingham Forest FC (2) - Sheffield United FC (1) on 2023-08-18 18:45:00+00:00"
          ],
          [
           "Fulham FC (0) - Brentford FC (3) on 2023-08-19 14:00:00+00:00"
          ],
          [
           "Liverpool FC (3) - AFC Bournemouth (1) on 2023-08-19 14:00:00+00:00"
          ],
          [
           "Wolverhampton Wanderers FC (1) - Brighton & Hove Albion FC (4) on 2023-08-19 14:00:00+00:00"
          ],
          [
           "Tottenham Hotspur FC (2) - Manchester United FC (0) on 2023-08-19 16:30:00+00:00"
          ],
          [
           "Manchester City FC (1) - Newcastle United FC (0) on 2023-08-19 19:00:00+00:00"
          ],
          [
           "Aston Villa FC (4) - Everton FC (0) on 2023-08-20 13:00:00+00:00"
          ],
          [
           "West Ham United FC (3) - Chelsea FC (1) on 2023-08-20 15:30:00+00:00"
          ],
          [
           "Crystal Palace FC (0) - Arsenal FC (1) on 2023-08-21 19:00:00+00:00"
          ],
          [
           "Chelsea FC (3) - Luton Town FC (0) on 2023-08-25 19:00:00+00:00"
          ],
          [
           "AFC Bournemouth (0) - Tottenham Hotspur FC (2) on 2023-08-26 11:30:00+00:00"
          ],
          [
           "Everton FC (0) - Wolverhampton Wanderers FC (1) on 2023-08-26 14:00:00+00:00"
          ],
          [
           "Manchester United FC (3) - Nottingham Forest FC (2) on 2023-08-26 14:00:00+00:00"
          ],
          [
           "Arsenal FC (2) - Fulham FC (2) on 2023-08-26 14:00:00+00:00"
          ],
          [
           "Brentford FC (1) - Crystal Palace FC (1) on 2023-08-26 14:00:00+00:00"
          ],
          [
           "Brighton & Hove Albion FC (1) - West Ham United FC (3) on 2023-08-26 16:30:00+00:00"
          ],
          [
           "Sheffield United FC (1) - Manchester City FC (2) on 2023-08-27 13:00:00+00:00"
          ],
          [
           "Burnley FC (1) - Aston Villa FC (3) on 2023-08-27 13:00:00+00:00"
          ],
          [
           "Newcastle United FC (1) - Liverpool FC (2) on 2023-08-27 15:30:00+00:00"
          ],
          [
           "Luton Town FC (1) - West Ham United FC (2) on 2023-09-01 19:00:00+00:00"
          ],
          [
           "Sheffield United FC (2) - Everton FC (2) on 2023-09-02 11:30:00+00:00"
          ],
          [
           "Brentford FC (2) - AFC Bournemouth (2) on 2023-09-02 14:00:00+00:00"
          ],
          [
           "Burnley FC (2) - Tottenham Hotspur FC (5) on 2023-09-02 14:00:00+00:00"
          ],
          [
           "Chelsea FC (0) - Nottingham Forest FC (1) on 2023-09-02 14:00:00+00:00"
          ],
          [
           "Manchester City FC (5) - Fulham FC (1) on 2023-09-02 14:00:00+00:00"
          ],
          [
           "Brighton & Hove Albion FC (3) - Newcastle United FC (1) on 2023-09-02 16:30:00+00:00"
          ],
          [
           "Crystal Palace FC (3) - Wolverhampton Wanderers FC (2) on 2023-09-03 13:00:00+00:00"
          ],
          [
           "Liverpool FC (3) - Aston Villa FC (0) on 2023-09-03 13:00:00+00:00"
          ],
          [
           "Arsenal FC (3) - Manchester United FC (1) on 2023-09-03 15:30:00+00:00"
          ],
          [
           "Wolverhampton Wanderers FC (1) - Liverpool FC (3) on 2023-09-16 11:30:00+00:00"
          ],
          [
           "Aston Villa FC (3) - Crystal Palace FC (1) on 2023-09-16 14:00:00+00:00"
          ],
          [
           "Fulham FC (1) - Luton Town FC (0) on 2023-09-16 14:00:00+00:00"
          ],
          [
           "Manchester United FC (1) - Brighton & Hove Albion FC (3) on 2023-09-16 14:00:00+00:00"
          ],
          [
           "Tottenham Hotspur FC (2) - Sheffield United FC (1) on 2023-09-16 14:00:00+00:00"
          ],
          [
           "West Ham United FC (1) - Manchester City FC (3) on 2023-09-16 14:00:00+00:00"
          ],
          [
           "Newcastle United FC (1) - Brentford FC (0) on 2023-09-16 16:30:00+00:00"
          ],
          [
           "AFC Bournemouth (0) - Chelsea FC (0) on 2023-09-17 13:00:00+00:00"
          ],
          [
           "Everton FC (0) - Arsenal FC (1) on 2023-09-17 15:30:00+00:00"
          ],
          [
           "Nottingham Forest FC (1) - Burnley FC (1) on 2023-09-18 18:45:00+00:00"
          ],
          [
           "Crystal Palace FC (0) - Fulham FC (0) on 2023-09-23 14:00:00+00:00"
          ],
          [
           "Luton Town FC (1) - Wolverhampton Wanderers FC (1) on 2023-09-23 14:00:00+00:00"
          ],
          [
           "Manchester City FC (2) - Nottingham Forest FC (0) on 2023-09-23 14:00:00+00:00"
          ],
          [
           "Brentford FC (1) - Everton FC (3) on 2023-09-23 16:30:00+00:00"
          ],
          [
           "Burnley FC (0) - Manchester United FC (1) on 2023-09-23 19:00:00+00:00"
          ],
          [
           "Arsenal FC (2) - Tottenham Hotspur FC (2) on 2023-09-24 13:00:00+00:00"
          ],
          [
           "Brighton & Hove Albion FC (3) - AFC Bournemouth (1) on 2023-09-24 13:00:00+00:00"
          ],
          [
           "Chelsea FC (0) - Aston Villa FC (1) on 2023-09-24 13:00:00+00:00"
          ],
          [
           "Liverpool FC (3) - West Ham United FC (1) on 2023-09-24 13:00:00+00:00"
          ],
          [
           "Sheffield United FC (0) - Newcastle United FC (8) on 2023-09-24 15:30:00+00:00"
          ],
          [
           "Aston Villa FC (6) - Brighton & Hove Albion FC (1) on 2023-09-30 11:30:00+00:00"
          ],
          [
           "AFC Bournemouth (0) - Arsenal FC (4) on 2023-09-30 14:00:00+00:00"
          ],
          [
           "Everton FC (1) - Luton Town FC (2) on 2023-09-30 14:00:00+00:00"
          ],
          [
           "Manchester United FC (0) - Crystal Palace FC (1) on 2023-09-30 14:00:00+00:00"
          ],
          [
           "Newcastle United FC (2) - Burnley FC (0) on 2023-09-30 14:00:00+00:00"
          ],
          [
           "West Ham United FC (2) - Sheffield United FC (0) on 2023-09-30 14:00:00+00:00"
          ],
          [
           "Wolverhampton Wanderers FC (2) - Manchester City FC (1) on 2023-09-30 14:00:00+00:00"
          ],
          [
           "Tottenham Hotspur FC (2) - Liverpool FC (1) on 2023-09-30 16:30:00+00:00"
          ],
          [
           "Nottingham Forest FC (1) - Brentford FC (1) on 2023-10-01 13:00:00+00:00"
          ],
          [
           "Fulham FC (0) - Chelsea FC (2) on 2023-10-02 19:00:00+00:00"
          ],
          [
           "Luton Town FC (1) - Burnley FC (2) on 2023-10-03 18:30:00+00:00"
          ],
          [
           "Luton Town FC (0) - Tottenham Hotspur FC (1) on 2023-10-07 11:30:00+00:00"
          ],
          [
           "Burnley FC (1) - Chelsea FC (4) on 2023-10-07 14:00:00+00:00"
          ],
          [
           "Everton FC (3) - AFC Bournemouth (0) on 2023-10-07 14:00:00+00:00"
          ],
          [
           "Fulham FC (3) - Sheffield United FC (1) on 2023-10-07 14:00:00+00:00"
          ],
          [
           "Manchester United FC (2) - Brentford FC (1) on 2023-10-07 14:00:00+00:00"
          ],
          [
           "Crystal Palace FC (0) - Nottingham Forest FC (0) on 2023-10-07 16:30:00+00:00"
          ],
          [
           "Brighton & Hove Albion FC (2) - Liverpool FC (2) on 2023-10-08 13:00:00+00:00"
          ],
          [
           "West Ham United FC (2) - Newcastle United FC (2) on 2023-10-08 13:00:00+00:00"
          ],
          [
           "Wolverhampton Wanderers FC (1) - Aston Villa FC (1) on 2023-10-08 13:00:00+00:00"
          ],
          [
           "Arsenal FC (1) - Manchester City FC (0) on 2023-10-08 15:30:00+00:00"
          ],
          [
           "Liverpool FC (2) - Everton FC (0) on 2023-10-21 11:30:00+00:00"
          ],
          [
           "AFC Bournemouth (1) - Wolverhampton Wanderers FC (2) on 2023-10-21 14:00:00+00:00"
          ],
          [
           "Brentford FC (3) - Burnley FC (0) on 2023-10-21 14:00:00+00:00"
          ],
          [
           "Manchester City FC (2) - Brighton & Hove Albion FC (1) on 2023-10-21 14:00:00+00:00"
          ],
          [
           "Newcastle United FC (4) - Crystal Palace FC (0) on 2023-10-21 14:00:00+00:00"
          ],
          [
           "Nottingham Forest FC (2) - Luton Town FC (2) on 2023-10-21 14:00:00+00:00"
          ],
          [
           "Chelsea FC (2) - Arsenal FC (2) on 2023-10-21 16:30:00+00:00"
          ],
          [
           "Sheffield United FC (1) - Manchester United FC (2) on 2023-10-21 19:00:00+00:00"
          ],
          [
           "Aston Villa FC (4) - West Ham United FC (1) on 2023-10-22 15:30:00+00:00"
          ],
          [
           "Tottenham Hotspur FC (2) - Fulham FC (0) on 2023-10-23 19:00:00+00:00"
          ],
          [
           "Crystal Palace FC (1) - Tottenham Hotspur FC (2) on 2023-10-27 19:00:00+00:00"
          ],
          [
           "Chelsea FC (0) - Brentford FC (2) on 2023-10-28 11:30:00+00:00"
          ],
          [
           "AFC Bournemouth (2) - Burnley FC (1) on 2023-10-28 14:00:00+00:00"
          ],
          [
           "Arsenal FC (5) - Sheffield United FC (0) on 2023-10-28 14:00:00+00:00"
          ],
          [
           "Wolverhampton Wanderers FC (2) - Newcastle United FC (2) on 2023-10-28 16:30:00+00:00"
          ],
          [
           "West Ham United FC (0) - Everton FC (1) on 2023-10-29 13:00:00+00:00"
          ],
          [
           "Aston Villa FC (3) - Luton Town FC (1) on 2023-10-29 14:00:00+00:00"
          ],
          [
           "Brighton & Hove Albion FC (1) - Fulham FC (1) on 2023-10-29 14:00:00+00:00"
          ],
          [
           "Liverpool FC (3) - Nottingham Forest FC (0) on 2023-10-29 14:00:00+00:00"
          ],
          [
           "Manchester United FC (0) - Manchester City FC (3) on 2023-10-29 15:30:00+00:00"
          ],
          [
           "Fulham FC (0) - Manchester United FC (1) on 2023-11-04 12:30:00+00:00"
          ],
          [
           "Brentford FC (3) - West Ham United FC (2) on 2023-11-04 15:00:00+00:00"
          ],
          [
           "Burnley FC (0) - Crystal Palace FC (2) on 2023-11-04 15:00:00+00:00"
          ],
          [
           "Everton FC (1) - Brighton & Hove Albion FC (1) on 2023-11-04 15:00:00+00:00"
          ],
          [
           "Manchester City FC (6) - AFC Bournemouth (1) on 2023-11-04 15:00:00+00:00"
          ],
          [
           "Sheffield United FC (2) - Wolverhampton Wanderers FC (1) on 2023-11-04 15:00:00+00:00"
          ],
          [
           "Newcastle United FC (1) - Arsenal FC (0) on 2023-11-04 17:30:00+00:00"
          ],
          [
           "Nottingham Forest FC (2) - Aston Villa FC (0) on 2023-11-05 14:00:00+00:00"
          ],
          [
           "Luton Town FC (1) - Liverpool FC (1) on 2023-11-05 16:30:00+00:00"
          ],
          [
           "Tottenham Hotspur FC (1) - Chelsea FC (4) on 2023-11-06 20:00:00+00:00"
          ],
          [
           "Wolverhampton Wanderers FC (2) - Tottenham Hotspur FC (1) on 2023-11-11 12:30:00+00:00"
          ],
          [
           "Arsenal FC (3) - Burnley FC (1) on 2023-11-11 15:00:00+00:00"
          ],
          [
           "Crystal Palace FC (2) - Everton FC (3) on 2023-11-11 15:00:00+00:00"
          ],
          [
           "Manchester United FC (1) - Luton Town FC (0) on 2023-11-11 15:00:00+00:00"
          ],
          [
           "AFC Bournemouth (2) - Newcastle United FC (0) on 2023-11-11 17:30:00+00:00"
          ],
          [
           "Aston Villa FC (3) - Fulham FC (1) on 2023-11-12 14:00:00+00:00"
          ],
          [
           "Brighton & Hove Albion FC (1) - Sheffield United FC (1) on 2023-11-12 14:00:00+00:00"
          ],
          [
           "Liverpool FC (3) - Brentford FC (0) on 2023-11-12 14:00:00+00:00"
          ],
          [
           "West Ham United FC (3) - Nottingham Forest FC (2) on 2023-11-12 14:00:00+00:00"
          ],
          [
           "Chelsea FC (4) - Manchester City FC (4) on 2023-11-12 16:30:00+00:00"
          ],
          [
           "Manchester City FC (1) - Liverpool FC (1) on 2023-11-25 12:30:00+00:00"
          ],
          [
           "Burnley FC (1) - West Ham United FC (2) on 2023-11-25 15:00:00+00:00"
          ],
          [
           "Luton Town FC (2) - Crystal Palace FC (1) on 2023-11-25 15:00:00+00:00"
          ],
          [
           "Newcastle United FC (4) - Chelsea FC (1) on 2023-11-25 15:00:00+00:00"
          ],
          [
           "Nottingham Forest FC (2) - Brighton & Hove Albion FC (3) on 2023-11-25 15:00:00+00:00"
          ],
          [
           "Sheffield United FC (1) - AFC Bournemouth (3) on 2023-11-25 15:00:00+00:00"
          ],
          [
           "Brentford FC (0) - Arsenal FC (1) on 2023-11-25 17:30:00+00:00"
          ],
          [
           "Tottenham Hotspur FC (1) - Aston Villa FC (2) on 2023-11-26 14:00:00+00:00"
          ],
          [
           "Everton FC (0) - Manchester United FC (3) on 2023-11-26 16:30:00+00:00"
          ],
          [
           "Fulham FC (3) - Wolverhampton Wanderers FC (2) on 2023-11-27 20:00:00+00:00"
          ],
          [
           "Arsenal FC (2) - Wolverhampton Wanderers FC (1) on 2023-12-02 15:00:00+00:00"
          ],
          [
           "Brentford FC (3) - Luton Town FC (1) on 2023-12-02 15:00:00+00:00"
          ],
          [
           "Burnley FC (5) - Sheffield United FC (0) on 2023-12-02 15:00:00+00:00"
          ],
          [
           "Nottingham Forest FC (0) - Everton FC (1) on 2023-12-02 17:30:00+00:00"
          ],
          [
           "Newcastle United FC (1) - Manchester United FC (0) on 2023-12-02 20:00:00+00:00"
          ],
          [
           "AFC Bournemouth (2) - Aston Villa FC (2) on 2023-12-03 14:00:00+00:00"
          ],
          [
           "Chelsea FC (3) - Brighton & Hove Albion FC (2) on 2023-12-03 14:00:00+00:00"
          ],
          [
           "Liverpool FC (4) - Fulham FC (3) on 2023-12-03 14:00:00+00:00"
          ],
          [
           "West Ham United FC (1) - Crystal Palace FC (1) on 2023-12-03 14:00:00+00:00"
          ],
          [
           "Manchester City FC (3) - Tottenham Hotspur FC (3) on 2023-12-03 16:30:00+00:00"
          ],
          [
           "Wolverhampton Wanderers FC (1) - Burnley FC (0) on 2023-12-05 19:30:00+00:00"
          ],
          [
           "Luton Town FC (3) - Arsenal FC (4) on 2023-12-05 20:15:00+00:00"
          ],
          [
           "Brighton & Hove Albion FC (2) - Brentford FC (1) on 2023-12-06 19:30:00+00:00"
          ],
          [
           "Fulham FC (5) - Nottingham Forest FC (0) on 2023-12-06 19:30:00+00:00"
          ],
          [
           "Sheffield United FC (0) - Liverpool FC (2) on 2023-12-06 19:30:00+00:00"
          ],
          [
           "Crystal Palace FC (0) - AFC Bournemouth (2) on 2023-12-06 19:30:00+00:00"
          ],
          [
           "Aston Villa FC (1) - Manchester City FC (0) on 2023-12-06 20:15:00+00:00"
          ],
          [
           "Manchester United FC (2) - Chelsea FC (1) on 2023-12-06 20:15:00+00:00"
          ],
          [
           "Everton FC (3) - Newcastle United FC (0) on 2023-12-07 19:30:00+00:00"
          ],
          [
           "Tottenham Hotspur FC (1) - West Ham United FC (2) on 2023-12-07 20:15:00+00:00"
          ],
          [
           "Crystal Palace FC (1) - Liverpool FC (2) on 2023-12-09 12:30:00+00:00"
          ],
          [
           "Brighton & Hove Albion FC (1) - Burnley FC (1) on 2023-12-09 15:00:00+00:00"
          ],
          [
           "Manchester United FC (0) - AFC Bournemouth (3) on 2023-12-09 15:00:00+00:00"
          ],
          [
           "Sheffield United FC (1) - Brentford FC (0) on 2023-12-09 15:00:00+00:00"
          ],
          [
           "Wolverhampton Wanderers FC (1) - Nottingham Forest FC (1) on 2023-12-09 15:00:00+00:00"
          ],
          [
           "Aston Villa FC (1) - Arsenal FC (0) on 2023-12-09 17:30:00+00:00"
          ],
          [
           "Everton FC (2) - Chelsea FC (0) on 2023-12-10 14:00:00+00:00"
          ],
          [
           "Fulham FC (5) - West Ham United FC (0) on 2023-12-10 14:00:00+00:00"
          ],
          [
           "Luton Town FC (1) - Manchester City FC (2) on 2023-12-10 14:00:00+00:00"
          ],
          [
           "Tottenham Hotspur FC (4) - Newcastle United FC (1) on 2023-12-10 16:30:00+00:00"
          ],
          [
           "Nottingham Forest FC (0) - Tottenham Hotspur FC (2) on 2023-12-15 20:00:00+00:00"
          ],
          [
           "Chelsea FC (2) - Sheffield United FC (0) on 2023-12-16 15:00:00+00:00"
          ],
          [
           "Manchester City FC (2) - Crystal Palace FC (2) on 2023-12-16 15:00:00+00:00"
          ],
          [
           "Newcastle United FC (3) - Fulham FC (0) on 2023-12-16 15:00:00+00:00"
          ],
          [
           "Burnley FC (0) - Everton FC (2) on 2023-12-16 17:30:00+00:00"
          ],
          [
           "Arsenal FC (2) - Brighton & Hove Albion FC (0) on 2023-12-17 14:00:00+00:00"
          ],
          [
           "Brentford FC (1) - Aston Villa FC (2) on 2023-12-17 14:00:00+00:00"
          ],
          [
           "West Ham United FC (3) - Wolverhampton Wanderers FC (0) on 2023-12-17 14:00:00+00:00"
          ],
          [
           "Liverpool FC (0) - Manchester United FC (0) on 2023-12-17 16:30:00+00:00"
          ],
          [
           "Crystal Palace FC (1) - Brighton & Hove Albion FC (1) on 2023-12-21 20:00:00+00:00"
          ],
          [
           "Aston Villa FC (1) - Sheffield United FC (1) on 2023-12-22 20:00:00+00:00"
          ],
          [
           "West Ham United FC (2) - Manchester United FC (0) on 2023-12-23 12:30:00+00:00"
          ],
          [
           "Fulham FC (0) - Burnley FC (2) on 2023-12-23 15:00:00+00:00"
          ],
          [
           "Luton Town FC (1) - Newcastle United FC (0) on 2023-12-23 15:00:00+00:00"
          ],
          [
           "Nottingham Forest FC (2) - AFC Bournemouth (3) on 2023-12-23 15:00:00+00:00"
          ],
          [
           "Tottenham Hotspur FC (2) - Everton FC (1) on 2023-12-23 15:00:00+00:00"
          ],
          [
           "Liverpool FC (1) - Arsenal FC (1) on 2023-12-23 17:30:00+00:00"
          ],
          [
           "Wolverhampton Wanderers FC (2) - Chelsea FC (1) on 2023-12-24 13:00:00+00:00"
          ],
          [
           "Newcastle United FC (1) - Nottingham Forest FC (3) on 2023-12-26 12:30:00+00:00"
          ],
          [
           "AFC Bournemouth (3) - Fulham FC (0) on 2023-12-26 15:00:00+00:00"
          ],
          [
           "Sheffield United FC (2) - Luton Town FC (3) on 2023-12-26 15:00:00+00:00"
          ],
          [
           "Burnley FC (0) - Liverpool FC (2) on 2023-12-26 17:30:00+00:00"
          ],
          [
           "Manchester United FC (3) - Aston Villa FC (2) on 2023-12-26 20:00:00+00:00"
          ],
          [
           "Brentford FC (1) - Wolverhampton Wanderers FC (4) on 2023-12-27 19:30:00+00:00"
          ],
          [
           "Chelsea FC (2) - Crystal Palace FC (1) on 2023-12-27 19:30:00+00:00"
          ],
          [
           "Everton FC (1) - Manchester City FC (3) on 2023-12-27 20:15:00+00:00"
          ],
          [
           "Brighton & Hove Albion FC (4) - Tottenham Hotspur FC (2) on 2023-12-28 19:30:00+00:00"
          ],
          [
           "Arsenal FC (0) - West Ham United FC (2) on 2023-12-28 20:15:00+00:00"
          ],
          [
           "Luton Town FC (2) - Chelsea FC (3) on 2023-12-30 12:30:00+00:00"
          ],
          [
           "Aston Villa FC (3) - Burnley FC (2) on 2023-12-30 15:00:00+00:00"
          ],
          [
           "Crystal Palace FC (3) - Brentford FC (1) on 2023-12-30 15:00:00+00:00"
          ],
          [
           "Manchester City FC (2) - Sheffield United FC (0) on 2023-12-30 15:00:00+00:00"
          ],
          [
           "Wolverhampton Wanderers FC (3) - Everton FC (0) on 2023-12-30 15:00:00+00:00"
          ],
          [
           "Nottingham Forest FC (2) - Manchester United FC (1) on 2023-12-30 17:30:00+00:00"
          ],
          [
           "Fulham FC (2) - Arsenal FC (1) on 2023-12-31 14:00:00+00:00"
          ],
          [
           "Tottenham Hotspur FC (3) - AFC Bournemouth (1) on 2023-12-31 14:00:00+00:00"
          ],
          [
           "Liverpool FC (4) - Newcastle United FC (2) on 2024-01-01 20:00:00+00:00"
          ],
          [
           "West Ham United FC (0) - Brighton & Hove Albion FC (0) on 2024-01-02 19:30:00+00:00"
          ],
          [
           "Burnley FC (1) - Luton Town FC (1) on 2024-01-12 19:45:00+00:00"
          ],
          [
           "Chelsea FC (1) - Fulham FC (0) on 2024-01-13 12:30:00+00:00"
          ],
          [
           "Newcastle United FC (2) - Manchester City FC (3) on 2024-01-13 17:30:00+00:00"
          ],
          [
           "Everton FC (0) - Aston Villa FC (0) on 2024-01-14 14:00:00+00:00"
          ],
          [
           "Manchester United FC (2) - Tottenham Hotspur FC (2) on 2024-01-14 16:30:00+00:00"
          ],
          [
           "Arsenal FC (5) - Crystal Palace FC (0) on 2024-01-20 12:30:00+00:00"
          ],
          [
           "Brentford FC (3) - Nottingham Forest FC (2) on 2024-01-20 17:30:00+00:00"
          ],
          [
           "Sheffield United FC (2) - West Ham United FC (2) on 2024-01-21 14:00:00+00:00"
          ],
          [
           "AFC Bournemouth (0) - Liverpool FC (4) on 2024-01-21 16:30:00+00:00"
          ],
          [
           "Brighton & Hove Albion FC (0) - Wolverhampton Wanderers FC (0) on 2024-01-22 19:45:00+00:00"
          ],
          [
           "Nottingham Forest FC (1) - Arsenal FC (2) on 2024-01-30 19:30:00+00:00"
          ],
          [
           "Luton Town FC (4) - Brighton & Hove Albion FC (0) on 2024-01-30 19:45:00+00:00"
          ],
          [
           "Fulham FC (0) - Everton FC (0) on 2024-01-30 19:45:00+00:00"
          ],
          [
           "Crystal Palace FC (3) - Sheffield United FC (2) on 2024-01-30 20:00:00+00:00"
          ],
          [
           "Aston Villa FC (1) - Newcastle United FC (3) on 2024-01-30 20:15:00+00:00"
          ],
          [
           "Tottenham Hotspur FC (3) - Brentford FC (2) on 2024-01-31 19:30:00+00:00"
          ],
          [
           "Manchester City FC (3) - Burnley FC (1) on 2024-01-31 19:30:00+00:00"
          ],
          [
           "Liverpool FC (4) - Chelsea FC (1) on 2024-01-31 20:15:00+00:00"
          ],
          [
           "West Ham United FC (1) - AFC Bournemouth (1) on 2024-02-01 19:30:00+00:00"
          ],
          [
           "Wolverhampton Wanderers FC (3) - Manchester United FC (4) on 2024-02-01 20:15:00+00:00"
          ],
          [
           "Everton FC (2) - Tottenham Hotspur FC (2) on 2024-02-03 12:30:00+00:00"
          ],
          [
           "Brighton & Hove Albion FC (4) - Crystal Palace FC (1) on 2024-02-03 15:00:00+00:00"
          ],
          [
           "Burnley FC (2) - Fulham FC (2) on 2024-02-03 15:00:00+00:00"
          ],
          [
           "Newcastle United FC (4) - Luton Town FC (4) on 2024-02-03 15:00:00+00:00"
          ],
          [
           "Sheffield United FC (0) - Aston Villa FC (5) on 2024-02-03 17:30:00+00:00"
          ],
          [
           "AFC Bournemouth (1) - Nottingham Forest FC (1) on 2024-02-04 14:00:00+00:00"
          ],
          [
           "Chelsea FC (2) - Wolverhampton Wanderers FC (4) on 2024-02-04 14:00:00+00:00"
          ],
          [
           "Manchester United FC (3) - West Ham United FC (0) on 2024-02-04 14:00:00+00:00"
          ],
          [
           "Arsenal FC (3) - Liverpool FC (1) on 2024-02-04 16:30:00+00:00"
          ],
          [
           "Brentford FC (1) - Manchester City FC (3) on 2024-02-05 20:00:00+00:00"
          ],
          [
           "Manchester City FC (2) - Everton FC (0) on 2024-02-10 12:30:00+00:00"
          ],
          [
           "Fulham FC (3) - AFC Bournemouth (1) on 2024-02-10 15:00:00+00:00"
          ],
          [
           "Liverpool FC (3) - Burnley FC (1) on 2024-02-10 15:00:00+00:00"
          ],
          [
           "Luton Town FC (1) - Sheffield United FC (3) on 2024-02-10 15:00:00+00:00"
          ],
          [
           "Tottenham Hotspur FC (2) - Brighton & Hove Albion FC (1) on 2024-02-10 15:00:00+00:00"
          ],
          [
           "Wolverhampton Wanderers FC (0) - Brentford FC (2) on 2024-02-10 15:00:00+00:00"
          ],
          [
           "Nottingham Forest FC (2) - Newcastle United FC (3) on 2024-02-10 17:30:00+00:00"
          ],
          [
           "West Ham United FC (0) - Arsenal FC (6) on 2024-02-11 14:00:00+00:00"
          ],
          [
           "Aston Villa FC (1) - Manchester United FC (2) on 2024-02-11 16:30:00+00:00"
          ],
          [
           "Crystal Palace FC (1) - Chelsea FC (3) on 2024-02-12 20:00:00+00:00"
          ],
          [
           "Brentford FC (1) - Liverpool FC (4) on 2024-02-17 12:30:00+00:00"
          ],
          [
           "Burnley FC (0) - Arsenal FC (5) on 2024-02-17 15:00:00+00:00"
          ],
          [
           "Fulham FC (1) - Aston Villa FC (2) on 2024-02-17 15:00:00+00:00"
          ],
          [
           "Newcastle United FC (2) - AFC Bournemouth (2) on 2024-02-17 15:00:00+00:00"
          ],
          [
           "Nottingham Forest FC (2) - West Ham United FC (0) on 2024-02-17 15:00:00+00:00"
          ],
          [
           "Tottenham Hotspur FC (1) - Wolverhampton Wanderers FC (2) on 2024-02-17 15:00:00+00:00"
          ],
          [
           "Manchester City FC (1) - Chelsea FC (1) on 2024-02-17 17:30:00+00:00"
          ],
          [
           "Sheffield United FC (0) - Brighton & Hove Albion FC (5) on 2024-02-18 14:00:00+00:00"
          ],
          [
           "Luton Town FC (1) - Manchester United FC (2) on 2024-02-18 16:30:00+00:00"
          ],
          [
           "Everton FC (1) - Crystal Palace FC (1) on 2024-02-19 20:00:00+00:00"
          ],
          [
           "Manchester City FC (1) - Brentford FC (0) on 2024-02-20 19:30:00+00:00"
          ],
          [
           "Liverpool FC (4) - Luton Town FC (1) on 2024-02-21 19:30:00+00:00"
          ],
          [
           "Aston Villa FC (4) - Nottingham Forest FC (2) on 2024-02-24 15:00:00+00:00"
          ],
          [
           "Brighton & Hove Albion FC (1) - Everton FC (1) on 2024-02-24 15:00:00+00:00"
          ],
          [
           "Crystal Palace FC (3) - Burnley FC (0) on 2024-02-24 15:00:00+00:00"
          ],
          [
           "Manchester United FC (1) - Fulham FC (2) on 2024-02-24 15:00:00+00:00"
          ],
          [
           "AFC Bournemouth (0) - Manchester City FC (1) on 2024-02-24 17:30:00+00:00"
          ],
          [
           "Arsenal FC (4) - Newcastle United FC (1) on 2024-02-24 20:00:00+00:00"
          ],
          [
           "Wolverhampton Wanderers FC (1) - Sheffield United FC (0) on 2024-02-25 13:30:00+00:00"
          ],
          [
           "West Ham United FC (4) - Brentford FC (2) on 2024-02-26 20:00:00+00:00"
          ],
          [
           "Brentford FC (2) - Chelsea FC (2) on 2024-03-02 15:00:00+00:00"
          ],
          [
           "Everton FC (1) - West Ham United FC (3) on 2024-03-02 15:00:00+00:00"
          ],
          [
           "Fulham FC (3) - Brighton & Hove Albion FC (0) on 2024-03-02 15:00:00+00:00"
          ],
          [
           "Newcastle United FC (3) - Wolverhampton Wanderers FC (0) on 2024-03-02 15:00:00+00:00"
          ],
          [
           "Nottingham Forest FC (0) - Liverpool FC (1) on 2024-03-02 15:00:00+00:00"
          ],
          [
           "Tottenham Hotspur FC (3) - Crystal Palace FC (1) on 2024-03-02 15:00:00+00:00"
          ],
          [
           "Luton Town FC (2) - Aston Villa FC (3) on 2024-03-02 17:30:00+00:00"
          ],
          [
           "Burnley FC (0) - AFC Bournemouth (2) on 2024-03-03 13:00:00+00:00"
          ],
          [
           "Manchester City FC (3) - Manchester United FC (1) on 2024-03-03 15:30:00+00:00"
          ],
          [
           "Sheffield United FC (0) - Arsenal FC (6) on 2024-03-04 20:00:00+00:00"
          ],
          [
           "Manchester United FC (2) - Everton FC (0) on 2024-03-09 12:30:00+00:00"
          ],
          [
           "AFC Bournemouth (2) - Sheffield United FC (2) on 2024-03-09 15:00:00+00:00"
          ],
          [
           "Crystal Palace FC (1) - Luton Town FC (1) on 2024-03-09 15:00:00+00:00"
          ],
          [
           "Wolverhampton Wanderers FC (2) - Fulham FC (1) on 2024-03-09 15:00:00+00:00"
          ],
          [
           "Arsenal FC (2) - Brentford FC (1) on 2024-03-09 17:30:00+00:00"
          ],
          [
           "Aston Villa FC (0) - Tottenham Hotspur FC (4) on 2024-03-10 13:00:00+00:00"
          ],
          [
           "Brighton & Hove Albion FC (1) - Nottingham Forest FC (0) on 2024-03-10 14:00:00+00:00"
          ],
          [
           "West Ham United FC (2) - Burnley FC (2) on 2024-03-10 14:00:00+00:00"
          ],
          [
           "Liverpool FC (1) - Manchester City FC (1) on 2024-03-10 15:45:00+00:00"
          ],
          [
           "Chelsea FC (3) - Newcastle United FC (2) on 2024-03-11 20:00:00+00:00"
          ],
          [
           "AFC Bournemouth (4) - Luton Town FC (3) on 2024-03-13 19:30:00+00:00"
          ],
          [
           "Burnley FC (2) - Brentford FC (1) on 2024-03-16 15:00:00+00:00"
          ],
          [
           "Luton Town FC (1) - Nottingham Forest FC (1) on 2024-03-16 15:00:00+00:00"
          ],
          [
           "Fulham FC (3) - Tottenham Hotspur FC (0) on 2024-03-16 17:30:00+00:00"
          ],
          [
           "West Ham United FC (1) - Aston Villa FC (1) on 2024-03-17 14:00:00+00:00"
          ],
          [
           "Newcastle United FC (4) - West Ham United FC (3) on 2024-03-30 12:30:00+00:00"
          ],
          [
           "AFC Bournemouth (2) - Everton FC (1) on 2024-03-30 15:00:00+00:00"
          ],
          [
           "Chelsea FC (2) - Burnley FC (2) on 2024-03-30 15:00:00+00:00"
          ],
          [
           "Nottingham Forest FC (1) - Crystal Palace FC (1) on 2024-03-30 15:00:00+00:00"
          ],
          [
           "Sheffield United FC (3) - Fulham FC (3) on 2024-03-30 15:00:00+00:00"
          ],
          [
           "Tottenham Hotspur FC (2) - Luton Town FC (1) on 2024-03-30 15:00:00+00:00"
          ],
          [
           "Aston Villa FC (2) - Wolverhampton Wanderers FC (0) on 2024-03-30 17:30:00+00:00"
          ],
          [
           "Brentford FC (1) - Manchester United FC (1) on 2024-03-30 20:00:00+00:00"
          ],
          [
           "Liverpool FC (2) - Brighton & Hove Albion FC (1) on 2024-03-31 13:00:00+00:00"
          ],
          [
           "Manchester City FC (0) - Arsenal FC (0) on 2024-03-31 15:30:00+00:00"
          ],
          [
           "Nottingham Forest FC (3) - Fulham FC (1) on 2024-04-02 18:30:00+00:00"
          ],
          [
           "Newcastle United FC (1) - Everton FC (1) on 2024-04-02 18:30:00+00:00"
          ],
          [
           "AFC Bournemouth (1) - Crystal Palace FC (0) on 2024-04-02 18:45:00+00:00"
          ],
          [
           "Burnley FC (1) - Wolverhampton Wanderers FC (1) on 2024-04-02 18:45:00+00:00"
          ],
          [
           "West Ham United FC (1) - Tottenham Hotspur FC (1) on 2024-04-02 19:15:00+00:00"
          ],
          [
           "Arsenal FC (2) - Luton Town FC (0) on 2024-04-03 18:30:00+00:00"
          ],
          [
           "Brentford FC (0) - Brighton & Hove Albion FC (0) on 2024-04-03 18:30:00+00:00"
          ],
          [
           "Manchester City FC (4) - Aston Villa FC (1) on 2024-04-03 19:15:00+00:00"
          ],
          [
           "Liverpool FC (3) - Sheffield United FC (1) on 2024-04-04 18:30:00+00:00"
          ],
          [
           "Chelsea FC (4) - Manchester United FC (3) on 2024-04-04 19:15:00+00:00"
          ],
          [
           "Crystal Palace FC (2) - Manchester City FC (4) on 2024-04-06 11:30:00+00:00"
          ],
          [
           "Aston Villa FC (3) - Brentford FC (3) on 2024-04-06 14:00:00+00:00"
          ],
          [
           "Everton FC (1) - Burnley FC (0) on 2024-04-06 14:00:00+00:00"
          ],
          [
           "Fulham FC (0) - Newcastle United FC (1) on 2024-04-06 14:00:00+00:00"
          ],
          [
           "Luton Town FC (2) - AFC Bournemouth (1) on 2024-04-06 14:00:00+00:00"
          ],
          [
           "Wolverhampton Wanderers FC (1) - West Ham United FC (2) on 2024-04-06 14:00:00+00:00"
          ],
          [
           "Brighton & Hove Albion FC (0) - Arsenal FC (3) on 2024-04-06 16:30:00+00:00"
          ],
          [
           "Manchester United FC (2) - Liverpool FC (2) on 2024-04-07 14:30:00+00:00"
          ],
          [
           "Sheffield United FC (2) - Chelsea FC (2) on 2024-04-07 16:30:00+00:00"
          ],
          [
           "Tottenham Hotspur FC (3) - Nottingham Forest FC (1) on 2024-04-07 17:00:00+00:00"
          ],
          [
           "Newcastle United FC (4) - Tottenham Hotspur FC (0) on 2024-04-13 11:30:00+00:00"
          ],
          [
           "Brentford FC (2) - Sheffield United FC (0) on 2024-04-13 14:00:00+00:00"
          ],
          [
           "Burnley FC (1) - Brighton & Hove Albion FC (1) on 2024-04-13 14:00:00+00:00"
          ],
          [
           "Manchester City FC (5) - Luton Town FC (1) on 2024-04-13 14:00:00+00:00"
          ],
          [
           "Nottingham Forest FC (2) - Wolverhampton Wanderers FC (2) on 2024-04-13 14:00:00+00:00"
          ],
          [
           "AFC Bournemouth (2) - Manchester United FC (2) on 2024-04-13 16:30:00+00:00"
          ],
          [
           "Liverpool FC (0) - Crystal Palace FC (1) on 2024-04-14 13:00:00+00:00"
          ],
          [
           "West Ham United FC (0) - Fulham FC (2) on 2024-04-14 13:00:00+00:00"
          ],
          [
           "Arsenal FC (0) - Aston Villa FC (2) on 2024-04-14 15:30:00+00:00"
          ],
          [
           "Chelsea FC (6) - Everton FC (0) on 2024-04-15 19:00:00+00:00"
          ],
          [
           "Luton Town FC (1) - Brentford FC (5) on 2024-04-20 14:00:00+00:00"
          ],
          [
           "Sheffield United FC (1) - Burnley FC (4) on 2024-04-20 14:00:00+00:00"
          ],
          [
           "Wolverhampton Wanderers FC (0) - Arsenal FC (2) on 2024-04-20 18:30:00+00:00"
          ],
          [
           "Everton FC (2) - Nottingham Forest FC (0) on 2024-04-21 12:30:00+00:00"
          ],
          [
           "Aston Villa FC (3) - AFC Bournemouth (1) on 2024-04-21 14:00:00+00:00"
          ],
          [
           "Crystal Palace FC (5) - West Ham United FC (2) on 2024-04-21 14:00:00+00:00"
          ],
          [
           "Fulham FC (1) - Liverpool FC (3) on 2024-04-21 15:30:00+00:00"
          ],
          [
           "Arsenal FC (5) - Chelsea FC (0) on 2024-04-23 19:00:00+00:00"
          ],
          [
           "Wolverhampton Wanderers FC (0) - AFC Bournemouth (1) on 2024-04-24 18:45:00+00:00"
          ],
          [
           "Crystal Palace FC (2) - Newcastle United FC (0) on 2024-04-24 19:00:00+00:00"
          ],
          [
           "Everton FC (2) - Liverpool FC (0) on 2024-04-24 19:00:00+00:00"
          ],
          [
           "Manchester United FC (4) - Sheffield United FC (2) on 2024-04-24 19:00:00+00:00"
          ],
          [
           "Brighton & Hove Albion FC (0) - Manchester City FC (4) on 2024-04-25 19:00:00+00:00"
          ],
          [
           "West Ham United FC (2) - Liverpool FC (2) on 2024-04-27 11:30:00+00:00"
          ],
          [
           "Fulham FC (1) - Crystal Palace FC (1) on 2024-04-27 14:00:00+00:00"
          ],
          [
           "Manchester United FC (1) - Burnley FC (1) on 2024-04-27 14:00:00+00:00"
          ],
          [
           "Newcastle United FC (5) - Sheffield United FC (1) on 2024-04-27 14:00:00+00:00"
          ],
          [
           "Wolverhampton Wanderers FC (2) - Luton Town FC (1) on 2024-04-27 14:00:00+00:00"
          ],
          [
           "Everton FC (1) - Brentford FC (0) on 2024-04-27 16:30:00+00:00"
          ],
          [
           "Aston Villa FC (2) - Chelsea FC (2) on 2024-04-27 19:00:00+00:00"
          ],
          [
           "AFC Bournemouth (3) - Brighton & Hove Albion FC (0) on 2024-04-28 13:00:00+00:00"
          ],
          [
           "Tottenham Hotspur FC (2) - Arsenal FC (3) on 2024-04-28 13:00:00+00:00"
          ],
          [
           "Nottingham Forest FC (0) - Manchester City FC (2) on 2024-04-28 15:30:00+00:00"
          ],
          [
           "Chelsea FC (2) - Tottenham Hotspur FC (0) on 2024-05-02 18:30:00+00:00"
          ],
          [
           "Luton Town FC (1) - Everton FC (1) on 2024-05-03 19:00:00+00:00"
          ],
          [
           "Arsenal FC (3) - AFC Bournemouth (0) on 2024-05-04 11:30:00+00:00"
          ],
          [
           "Brentford FC (0) - Fulham FC (0) on 2024-05-04 14:00:00+00:00"
          ],
          [
           "Burnley FC (1) - Newcastle United FC (4) on 2024-05-04 14:00:00+00:00"
          ],
          [
           "Sheffield United FC (1) - Nottingham Forest FC (3) on 2024-05-04 14:00:00+00:00"
          ],
          [
           "Manchester City FC (5) - Wolverhampton Wanderers FC (1) on 2024-05-04 16:30:00+00:00"
          ],
          [
           "Brighton & Hove Albion FC (1) - Aston Villa FC (0) on 2024-05-05 13:00:00+00:00"
          ],
          [
           "Chelsea FC (5) - West Ham United FC (0) on 2024-05-05 13:00:00+00:00"
          ],
          [
           "Liverpool FC (4) - Tottenham Hotspur FC (2) on 2024-05-05 15:30:00+00:00"
          ],
          [
           "Crystal Palace FC (4) - Manchester United FC (0) on 2024-05-06 19:00:00+00:00"
          ],
          [
           "Fulham FC (0) - Manchester City FC (4) on 2024-05-11 11:30:00+00:00"
          ],
          [
           "AFC Bournemouth (1) - Brentford FC (2) on 2024-05-11 14:00:00+00:00"
          ],
          [
           "Everton FC (1) - Sheffield United FC (0) on 2024-05-11 14:00:00+00:00"
          ],
          [
           "Newcastle United FC (1) - Brighton & Hove Albion FC (1) on 2024-05-11 14:00:00+00:00"
          ],
          [
           "Tottenham Hotspur FC (2) - Burnley FC (1) on 2024-05-11 14:00:00+00:00"
          ],
          [
           "West Ham United FC (3) - Luton Town FC (1) on 2024-05-11 14:00:00+00:00"
          ],
          [
           "Wolverhampton Wanderers FC (1) - Crystal Palace FC (3) on 2024-05-11 14:00:00+00:00"
          ],
          [
           "Nottingham Forest FC (2) - Chelsea FC (3) on 2024-05-11 16:30:00+00:00"
          ],
          [
           "Manchester United FC (0) - Arsenal FC (1) on 2024-05-12 15:30:00+00:00"
          ],
          [
           "Aston Villa FC (3) - Liverpool FC (3) on 2024-05-13 19:00:00+00:00"
          ],
          [
           "Tottenham Hotspur FC (0) - Manchester City FC (2) on 2024-05-14 19:00:00+00:00"
          ],
          [
           "Brighton & Hove Albion FC (1) - Chelsea FC (2) on 2024-05-15 18:45:00+00:00"
          ],
          [
           "Manchester United FC (3) - Newcastle United FC (2) on 2024-05-15 19:00:00+00:00"
          ],
          [
           "Arsenal FC (2) - Everton FC (1) on 2024-05-19 15:00:00+00:00"
          ],
          [
           "Brentford FC (2) - Newcastle United FC (4) on 2024-05-19 15:00:00+00:00"
          ],
          [
           "Brighton & Hove Albion FC (0) - Manchester United FC (2) on 2024-05-19 15:00:00+00:00"
          ],
          [
           "Burnley FC (1) - Nottingham Forest FC (2) on 2024-05-19 15:00:00+00:00"
          ],
          [
           "Chelsea FC (2) - AFC Bournemouth (1) on 2024-05-19 15:00:00+00:00"
          ],
          [
           "Crystal Palace FC (5) - Aston Villa FC (0) on 2024-05-19 15:00:00+00:00"
          ],
          [
           "Liverpool FC (2) - Wolverhampton Wanderers FC (0) on 2024-05-19 15:00:00+00:00"
          ],
          [
           "Luton Town FC (2) - Fulham FC (4) on 2024-05-19 15:00:00+00:00"
          ],
          [
           "Manchester City FC (3) - West Ham United FC (1) on 2024-05-19 15:00:00+00:00"
          ],
          [
           "Sheffield United FC (0) - Tottenham Hotspur FC (3) on 2024-05-19 15:00:00+00:00"
          ]
         ],
         "hovertemplate": "season=2023-2024<br>elo_difference=%{x}<br>home_outcome=%{y}<br>match_info=%{customdata[0]}<extra></extra>",
         "legendgroup": "2023-2024",
         "marker": {
          "color": "#EF553B",
          "symbol": "circle"
         },
         "mode": "markers",
         "name": "2023-2024",
         "orientation": "h",
         "showlegend": true,
         "type": "scatter",
         "x": [
          -480.16644339864774,
          285.6377545954415,
          -37.771651516786505,
          183.69626053674983,
          -55.5782967039645,
          -133.95489030532644,
          40.4431816618453,
          -13.026029068486196,
          -112.31253346894982,
          198.3671232165118,
          111.3372874472384,
          -90.50760660156584,
          249.53903845752438,
          -130.89898735122347,
          -36.840285414243,
          261.62744919318607,
          172.75906890563397,
          -40.917620316123475,
          -243.99644331749096,
          180.39291369853277,
          -167.565564671135,
          -52.36523087751107,
          163.526448894356,
          236.31323695112474,
          54.07220622926866,
          20.194726157006016,
          -500.3062344443017,
          -201.48594367589885,
          -95.01129180063117,
          -170.31647651611115,
          -35.24322998919138,
          113.89807522845126,
          -203.33766170636113,
          36.54928990990197,
          375.07807236631925,
          -5.906953510129142,
          75.10535362035375,
          115.17611582914742,
          119.46011985886912,
          -260.21583142924646,
          93.7757509539922,
          139.4147161031633,
          -1.5007680113903916,
          233.22237892689054,
          -321.28269943217356,
          58.55351926556705,
          -78.66253727211847,
          -318.66391819954174,
          80.91179476832144,
          6.17358536966708,
          -70.76821896648948,
          360.56480498095584,
          65.58408573109159,
          -193.33320182463035,
          104.99592187473127,
          161.75737138248292,
          -104.42276780422935,
          185.83036621504198,
          -226.4247832536205,
          51.51977472125918,
          -281.98063104103426,
          20.89791612488716,
          36.40646378727115,
          207.114756408331,
          168.62139144850198,
          -319.7495363364444,
          -44.56643063360184,
          -17.435193914592674,
          -45.0902306067328,
          -36.12238377052245,
          -255.8593269251237,
          -133.05877962586464,
          27.761497194246886,
          140.2406256288341,
          92.27500987880967,
          37.47282133136059,
          -85.13378371743443,
          -60.284084008698755,
          -127.86205229039365,
          -33.69642908600213,
          230.44483661945037,
          -100.80988679933989,
          108.68540668054243,
          198.39130941455664,
          96.41303856205059,
          96.2248451735909,
          -164.5029865860795,
          -233.82206228876657,
          107.20457464499304,
          156.91469359147686,
          -150.00765359735055,
          -0.9560750346877285,
          44.655716431489054,
          355.67857297661226,
          -89.31002916317357,
          32.286112744680395,
          244.94176158666323,
          70.18293947631378,
          195.49941010579641,
          -192.10148643827392,
          -110.42718699349075,
          65.11295200724317,
          -139.86555238567576,
          -83.14612662260811,
          337.75425223474053,
          -94.89577930251698,
          -56.69383098733351,
          -94.17226118621647,
          -249.7269870394573,
          67.55188872533199,
          -78.25750298757657,
          305.44100515236255,
          -2.2186575010914567,
          196.86673378458045,
          -131.62904820847393,
          143.76310929514761,
          142.69269880545085,
          132.12422254296712,
          16.20257179152054,
          -182.44726683722706,
          69.53781695644602,
          -148.58729614045092,
          -41.92580047493425,
          62.50982117552621,
          -89.0178593090236,
          -86.29970842019407,
          -166.2631373771717,
          -55.84198213211903,
          -124.69200077887308,
          -0.0762793713231531,
          206.87795672432617,
          116.77867124120507,
          18.387375663953435,
          -47.90725090480282,
          37.106101220432265,
          -127.65980597962766,
          23.548814817094353,
          186.78213162220936,
          39.149042609606795,
          139.80015858814477,
          114.76976315555999,
          -275.7979261774012,
          43.00159656522192,
          61.2509680371943,
          -294.72915414552494,
          -48.975931752365796,
          -48.89703596689992,
          57.58193794076874,
          -63.692937522384454,
          15.3068140552773,
          -221.53754572989624,
          149.8409539084564,
          42.09343960472279,
          -81.85040390475388,
          50.30762314418416,
          -7.782826311831741,
          26.58946449016412,
          7.924771003024716,
          -274.1682598732825,
          3.657169685778399,
          -147.28469600540916,
          138.0738580527211,
          203.44331914377426,
          77.83249366477685,
          -168.7809944511298,
          136.64309407738392,
          -181.36132760724104,
          54.65607932176863,
          84.7733811423891,
          -58.40449511965335,
          228.59077816199328,
          1.2413427648966717,
          60.35660867456477,
          -108.33624182014319,
          -121.98664508309162,
          58.87376233993109,
          -6.8946102585102835,
          -9.89363828320188,
          71.78101015589095,
          94.81269769379583,
          -65.10549116504649,
          -243.78369439336575,
          -37.857980750824254,
          -57.53539612665759,
          74.2660389919638,
          -150.2143158795343,
          -21.09329906035532,
          55.27292770239637,
          -93.51681146368787,
          209.37922815787056,
          31.51187389886627,
          279.9235600272832,
          33.7535783122662,
          -65.93461613964337,
          -105.22490198121363,
          48.25607849506423,
          153.56941930511448,
          22.749485565507257,
          -34.89157930331589,
          80.0222265026689,
          -179.92900640873154,
          -96.88457513322805,
          -35.19119652266386,
          145.17066345215972,
          7.374749092850834,
          -152.424520047525,
          -146.5621426049588,
          9.703032024043068,
          -166.59855217511586,
          -45.83803052932399,
          -27.97147899237075,
          85.43418012063603,
          53.312678264644774,
          137.1029270530537,
          270.38595938761887,
          136.10504891912228,
          30.5832464158334,
          -46.27656256533942,
          -71.60621930234606,
          72.83788449978874,
          -60.06168981001588,
          42.697462539953904,
          -196.4373210523404,
          65.51513636062145,
          -17.22070889160841,
          44.61363779453745,
          -14.869600812894305,
          -233.98246651019963,
          184.70453053114466,
          1.1945790324539303,
          240.06670220937622,
          38.10142022148443,
          78.57617835694737,
          37.79297332824672,
          -95.0130972844886,
          -123.2023623562477,
          -34.06634013646726,
          -86.24703210831603,
          -191.90132319916074,
          -239.44101052530664,
          -92.6362125780472,
          32.33865093074678,
          -29.103876210549288,
          34.832336571286305,
          129.36262562780917,
          -125.87198730630553,
          -160.22615197606865,
          44.43254108483529,
          217.33151723051446,
          221.7161730747714,
          132.3407866937166,
          28.785579744808956,
          78.7219293205651,
          65.62030563548478,
          -187.74145197491225,
          135.9402545750861,
          149.3085981745819,
          72.46600792051186,
          -87.49698524148312,
          -49.53623964861663,
          22.273964172630485,
          14.586204182865004,
          -215.9642799839953,
          122.99281282573043,
          -166.5076596939623,
          -121.09658421577069,
          126.0005139810155,
          -262.23646498397125,
          104.75026452986322,
          94.85760230358096,
          26.036985234237818,
          33.435615224346975,
          218.0849425446777,
          -27.469062838235686,
          90.27451156304915,
          127.14960189947578,
          -18.765444664516735,
          36.244910983681166,
          94.31840847270905,
          -0.6919920837963218,
          -11.991149786053711,
          -38.511643002357914,
          -42.282704407054325,
          33.54233305936782,
          77.8905815001558,
          114.8988235431791,
          -21.385089996299712,
          -110.67224073592843,
          166.55003527162648,
          58.35065509103288,
          -130.03505744179574,
          154.56900291465877,
          15.337790761542237,
          -35.546013713548746,
          72.66987226548508,
          98.79372988500336,
          -79.69583032994024,
          -65.5983661313935,
          248.0040287276347,
          -67.42577324403715,
          114.18454247835098,
          256.92492643945707,
          24.38329543116606,
          -240.7482536481184,
          107.93971720986042,
          56.044807390669575,
          -65.20792154596484,
          -77.5400895028065,
          -29.975594610612234,
          -168.39769218526408,
          -109.15951283675645,
          -132.4831873703613,
          131.80039438794938,
          7.46067638659224,
          61.13406663488513,
          -61.90932154042889,
          248.20568188941593,
          -38.40808699346667,
          -24.35693091883263,
          147.0748456173494,
          -0.3081429889573428,
          53.413823078329415,
          103.11072379161328,
          -67.54622387908239,
          -57.9260060966194,
          -156.33920674999717,
          44.8087461172463,
          90.87988548881162,
          10.509787397329774,
          -136.17196320712674,
          100.00176083893098,
          -53.7858445867555,
          -24.74230499998339,
          -84.86206040362254,
          168.2221293349371,
          -203.2449252909014,
          -96.334545896784,
          -21.574669451221098,
          87.52467001597051,
          174.52700553984323,
          78.20324369850914,
          59.82459088181167,
          36.355660070178146,
          70.22625281432875,
          -114.53718962026346,
          -251.85427604598613,
          43.69479926479198,
          -106.15008665329879,
          144.17632756579815,
          -21.055681797468196,
          -119.27134984455643,
          -87.46076613486707,
          213.91710680683423,
          -65.35808508710443,
          103.96236307115669,
          92.85287951847295,
          13.347108729059073,
          -207.91746162440154,
          4.259736327783685,
          172.63457693926694,
          61.121802623096755,
          91.46556457131487,
          90.30955711726938,
          -90.60537698812186,
          -147.34304056917335,
          -161.8723128019003,
          -35.55916118391838,
          -184.18871129772742,
          -117.88816027606731,
          -2.3877440629678404,
          158.80017239839458,
          -71.5742304544433,
          -80.29963178188245,
          -48.120007679064656,
          125.07264642296195,
          31.999043923221052,
          153.46892987471938,
          -108.03863752596772,
          213.20460295111343,
          -168.69435746892896
         ],
         "xaxis": "x",
         "y": [
          "0",
          "3",
          "1",
          "3",
          "0",
          "0",
          "3",
          "1",
          "1",
          "3",
          "3",
          "0",
          "3",
          "0",
          "3",
          "3",
          "3",
          "3",
          "0",
          "3",
          "0",
          "0",
          "3",
          "1",
          "1",
          "0",
          "0",
          "0",
          "0",
          "0",
          "1",
          "1",
          "0",
          "0",
          "3",
          "3",
          "3",
          "3",
          "3",
          "0",
          "3",
          "3",
          "0",
          "3",
          "0",
          "3",
          "1",
          "0",
          "1",
          "1",
          "1",
          "3",
          "0",
          "0",
          "1",
          "3",
          "0",
          "3",
          "0",
          "3",
          "0",
          "0",
          "0",
          "3",
          "3",
          "3",
          "3",
          "1",
          "0",
          "0",
          "0",
          "0",
          "3",
          "3",
          "3",
          "1",
          "1",
          "1",
          "1",
          "3",
          "3",
          "0",
          "3",
          "3",
          "3",
          "1",
          "1",
          "0",
          "3",
          "3",
          "0",
          "0",
          "3",
          "3",
          "1",
          "0",
          "3",
          "1",
          "3",
          "0",
          "0",
          "3",
          "0",
          "1",
          "3",
          "3",
          "3",
          "3",
          "1",
          "0",
          "3",
          "3",
          "0",
          "3",
          "3",
          "3",
          "1",
          "3",
          "3",
          "1",
          "1",
          "0",
          "3",
          "3",
          "0",
          "0",
          "0",
          "0",
          "0",
          "3",
          "3",
          "3",
          "3",
          "0",
          "3",
          "1",
          "3",
          "3",
          "1",
          "1",
          "3",
          "0",
          "3",
          "3",
          "0",
          "0",
          "3",
          "3",
          "3",
          "0",
          "0",
          "1",
          "0",
          "3",
          "1",
          "3",
          "3",
          "3",
          "0",
          "3",
          "0",
          "3",
          "1",
          "3",
          "0",
          "3",
          "0",
          "3",
          "1",
          "1",
          "1",
          "3",
          "0",
          "3",
          "0",
          "3",
          "1",
          "3",
          "0",
          "3",
          "0",
          "0",
          "3",
          "0",
          "3",
          "0",
          "3",
          "0",
          "0",
          "3",
          "3",
          "3",
          "3",
          "3",
          "3",
          "3",
          "3",
          "1",
          "1",
          "3",
          "0",
          "1",
          "1",
          "3",
          "3",
          "1",
          "0",
          "1",
          "0",
          "3",
          "1",
          "3",
          "0",
          "3",
          "3",
          "3",
          "1",
          "0",
          "1",
          "3",
          "1",
          "1",
          "0",
          "1",
          "0",
          "3",
          "3",
          "0",
          "3",
          "3",
          "3",
          "0",
          "3",
          "0",
          "0",
          "0",
          "0",
          "0",
          "0",
          "0",
          "0",
          "1",
          "3",
          "0",
          "1",
          "0",
          "0",
          "1",
          "3",
          "3",
          "3",
          "1",
          "3",
          "0",
          "0",
          "3",
          "3",
          "3",
          "1",
          "0",
          "3",
          "3",
          "0",
          "3",
          "0",
          "0",
          "3",
          "0",
          "3",
          "1",
          "1",
          "3",
          "3",
          "0",
          "3",
          "1",
          "1",
          "3",
          "3",
          "3",
          "1",
          "3",
          "1",
          "3",
          "3",
          "1",
          "1",
          "1",
          "3",
          "3",
          "1",
          "3",
          "1",
          "3",
          "1",
          "3",
          "1",
          "1",
          "3",
          "1",
          "3",
          "3",
          "3",
          "0",
          "1",
          "3",
          "0",
          "3",
          "0",
          "0",
          "1",
          "1",
          "3",
          "3",
          "3",
          "1",
          "3",
          "1",
          "1",
          "0",
          "0",
          "0",
          "3",
          "0",
          "0",
          "0",
          "3",
          "3",
          "3",
          "0",
          "3",
          "0",
          "3",
          "3",
          "3",
          "0",
          "1",
          "1",
          "1",
          "3",
          "3",
          "3",
          "1",
          "3",
          "0",
          "0",
          "3",
          "1",
          "3",
          "1",
          "0",
          "0",
          "3",
          "3",
          "3",
          "3",
          "3",
          "0",
          "0",
          "3",
          "1",
          "3",
          "3",
          "0",
          "0",
          "0",
          "1",
          "0",
          "0",
          "3",
          "3",
          "0",
          "0",
          "0",
          "3",
          "3",
          "3",
          "0",
          "3",
          "0"
         ],
         "yaxis": "y"
        }
       ],
       "layout": {
        "legend": {
         "title": {
          "text": "season"
         },
         "tracegroupgap": 0
        },
        "template": {
         "data": {
          "bar": [
           {
            "error_x": {
             "color": "#2a3f5f"
            },
            "error_y": {
             "color": "#2a3f5f"
            },
            "marker": {
             "line": {
              "color": "#E5ECF6",
              "width": 0.5
             },
             "pattern": {
              "fillmode": "overlay",
              "size": 10,
              "solidity": 0.2
             }
            },
            "type": "bar"
           }
          ],
          "barpolar": [
           {
            "marker": {
             "line": {
              "color": "#E5ECF6",
              "width": 0.5
             },
             "pattern": {
              "fillmode": "overlay",
              "size": 10,
              "solidity": 0.2
             }
            },
            "type": "barpolar"
           }
          ],
          "carpet": [
           {
            "aaxis": {
             "endlinecolor": "#2a3f5f",
             "gridcolor": "white",
             "linecolor": "white",
             "minorgridcolor": "white",
             "startlinecolor": "#2a3f5f"
            },
            "baxis": {
             "endlinecolor": "#2a3f5f",
             "gridcolor": "white",
             "linecolor": "white",
             "minorgridcolor": "white",
             "startlinecolor": "#2a3f5f"
            },
            "type": "carpet"
           }
          ],
          "choropleth": [
           {
            "colorbar": {
             "outlinewidth": 0,
             "ticks": ""
            },
            "type": "choropleth"
           }
          ],
          "contour": [
           {
            "colorbar": {
             "outlinewidth": 0,
             "ticks": ""
            },
            "colorscale": [
             [
              0,
              "#0d0887"
             ],
             [
              0.1111111111111111,
              "#46039f"
             ],
             [
              0.2222222222222222,
              "#7201a8"
             ],
             [
              0.3333333333333333,
              "#9c179e"
             ],
             [
              0.4444444444444444,
              "#bd3786"
             ],
             [
              0.5555555555555556,
              "#d8576b"
             ],
             [
              0.6666666666666666,
              "#ed7953"
             ],
             [
              0.7777777777777778,
              "#fb9f3a"
             ],
             [
              0.8888888888888888,
              "#fdca26"
             ],
             [
              1,
              "#f0f921"
             ]
            ],
            "type": "contour"
           }
          ],
          "contourcarpet": [
           {
            "colorbar": {
             "outlinewidth": 0,
             "ticks": ""
            },
            "type": "contourcarpet"
           }
          ],
          "heatmap": [
           {
            "colorbar": {
             "outlinewidth": 0,
             "ticks": ""
            },
            "colorscale": [
             [
              0,
              "#0d0887"
             ],
             [
              0.1111111111111111,
              "#46039f"
             ],
             [
              0.2222222222222222,
              "#7201a8"
             ],
             [
              0.3333333333333333,
              "#9c179e"
             ],
             [
              0.4444444444444444,
              "#bd3786"
             ],
             [
              0.5555555555555556,
              "#d8576b"
             ],
             [
              0.6666666666666666,
              "#ed7953"
             ],
             [
              0.7777777777777778,
              "#fb9f3a"
             ],
             [
              0.8888888888888888,
              "#fdca26"
             ],
             [
              1,
              "#f0f921"
             ]
            ],
            "type": "heatmap"
           }
          ],
          "heatmapgl": [
           {
            "colorbar": {
             "outlinewidth": 0,
             "ticks": ""
            },
            "colorscale": [
             [
              0,
              "#0d0887"
             ],
             [
              0.1111111111111111,
              "#46039f"
             ],
             [
              0.2222222222222222,
              "#7201a8"
             ],
             [
              0.3333333333333333,
              "#9c179e"
             ],
             [
              0.4444444444444444,
              "#bd3786"
             ],
             [
              0.5555555555555556,
              "#d8576b"
             ],
             [
              0.6666666666666666,
              "#ed7953"
             ],
             [
              0.7777777777777778,
              "#fb9f3a"
             ],
             [
              0.8888888888888888,
              "#fdca26"
             ],
             [
              1,
              "#f0f921"
             ]
            ],
            "type": "heatmapgl"
           }
          ],
          "histogram": [
           {
            "marker": {
             "pattern": {
              "fillmode": "overlay",
              "size": 10,
              "solidity": 0.2
             }
            },
            "type": "histogram"
           }
          ],
          "histogram2d": [
           {
            "colorbar": {
             "outlinewidth": 0,
             "ticks": ""
            },
            "colorscale": [
             [
              0,
              "#0d0887"
             ],
             [
              0.1111111111111111,
              "#46039f"
             ],
             [
              0.2222222222222222,
              "#7201a8"
             ],
             [
              0.3333333333333333,
              "#9c179e"
             ],
             [
              0.4444444444444444,
              "#bd3786"
             ],
             [
              0.5555555555555556,
              "#d8576b"
             ],
             [
              0.6666666666666666,
              "#ed7953"
             ],
             [
              0.7777777777777778,
              "#fb9f3a"
             ],
             [
              0.8888888888888888,
              "#fdca26"
             ],
             [
              1,
              "#f0f921"
             ]
            ],
            "type": "histogram2d"
           }
          ],
          "histogram2dcontour": [
           {
            "colorbar": {
             "outlinewidth": 0,
             "ticks": ""
            },
            "colorscale": [
             [
              0,
              "#0d0887"
             ],
             [
              0.1111111111111111,
              "#46039f"
             ],
             [
              0.2222222222222222,
              "#7201a8"
             ],
             [
              0.3333333333333333,
              "#9c179e"
             ],
             [
              0.4444444444444444,
              "#bd3786"
             ],
             [
              0.5555555555555556,
              "#d8576b"
             ],
             [
              0.6666666666666666,
              "#ed7953"
             ],
             [
              0.7777777777777778,
              "#fb9f3a"
             ],
             [
              0.8888888888888888,
              "#fdca26"
             ],
             [
              1,
              "#f0f921"
             ]
            ],
            "type": "histogram2dcontour"
           }
          ],
          "mesh3d": [
           {
            "colorbar": {
             "outlinewidth": 0,
             "ticks": ""
            },
            "type": "mesh3d"
           }
          ],
          "parcoords": [
           {
            "line": {
             "colorbar": {
              "outlinewidth": 0,
              "ticks": ""
             }
            },
            "type": "parcoords"
           }
          ],
          "pie": [
           {
            "automargin": true,
            "type": "pie"
           }
          ],
          "scatter": [
           {
            "fillpattern": {
             "fillmode": "overlay",
             "size": 10,
             "solidity": 0.2
            },
            "type": "scatter"
           }
          ],
          "scatter3d": [
           {
            "line": {
             "colorbar": {
              "outlinewidth": 0,
              "ticks": ""
             }
            },
            "marker": {
             "colorbar": {
              "outlinewidth": 0,
              "ticks": ""
             }
            },
            "type": "scatter3d"
           }
          ],
          "scattercarpet": [
           {
            "marker": {
             "colorbar": {
              "outlinewidth": 0,
              "ticks": ""
             }
            },
            "type": "scattercarpet"
           }
          ],
          "scattergeo": [
           {
            "marker": {
             "colorbar": {
              "outlinewidth": 0,
              "ticks": ""
             }
            },
            "type": "scattergeo"
           }
          ],
          "scattergl": [
           {
            "marker": {
             "colorbar": {
              "outlinewidth": 0,
              "ticks": ""
             }
            },
            "type": "scattergl"
           }
          ],
          "scattermapbox": [
           {
            "marker": {
             "colorbar": {
              "outlinewidth": 0,
              "ticks": ""
             }
            },
            "type": "scattermapbox"
           }
          ],
          "scatterpolar": [
           {
            "marker": {
             "colorbar": {
              "outlinewidth": 0,
              "ticks": ""
             }
            },
            "type": "scatterpolar"
           }
          ],
          "scatterpolargl": [
           {
            "marker": {
             "colorbar": {
              "outlinewidth": 0,
              "ticks": ""
             }
            },
            "type": "scatterpolargl"
           }
          ],
          "scatterternary": [
           {
            "marker": {
             "colorbar": {
              "outlinewidth": 0,
              "ticks": ""
             }
            },
            "type": "scatterternary"
           }
          ],
          "surface": [
           {
            "colorbar": {
             "outlinewidth": 0,
             "ticks": ""
            },
            "colorscale": [
             [
              0,
              "#0d0887"
             ],
             [
              0.1111111111111111,
              "#46039f"
             ],
             [
              0.2222222222222222,
              "#7201a8"
             ],
             [
              0.3333333333333333,
              "#9c179e"
             ],
             [
              0.4444444444444444,
              "#bd3786"
             ],
             [
              0.5555555555555556,
              "#d8576b"
             ],
             [
              0.6666666666666666,
              "#ed7953"
             ],
             [
              0.7777777777777778,
              "#fb9f3a"
             ],
             [
              0.8888888888888888,
              "#fdca26"
             ],
             [
              1,
              "#f0f921"
             ]
            ],
            "type": "surface"
           }
          ],
          "table": [
           {
            "cells": {
             "fill": {
              "color": "#EBF0F8"
             },
             "line": {
              "color": "white"
             }
            },
            "header": {
             "fill": {
              "color": "#C8D4E3"
             },
             "line": {
              "color": "white"
             }
            },
            "type": "table"
           }
          ]
         },
         "layout": {
          "annotationdefaults": {
           "arrowcolor": "#2a3f5f",
           "arrowhead": 0,
           "arrowwidth": 1
          },
          "autotypenumbers": "strict",
          "coloraxis": {
           "colorbar": {
            "outlinewidth": 0,
            "ticks": ""
           }
          },
          "colorscale": {
           "diverging": [
            [
             0,
             "#8e0152"
            ],
            [
             0.1,
             "#c51b7d"
            ],
            [
             0.2,
             "#de77ae"
            ],
            [
             0.3,
             "#f1b6da"
            ],
            [
             0.4,
             "#fde0ef"
            ],
            [
             0.5,
             "#f7f7f7"
            ],
            [
             0.6,
             "#e6f5d0"
            ],
            [
             0.7,
             "#b8e186"
            ],
            [
             0.8,
             "#7fbc41"
            ],
            [
             0.9,
             "#4d9221"
            ],
            [
             1,
             "#276419"
            ]
           ],
           "sequential": [
            [
             0,
             "#0d0887"
            ],
            [
             0.1111111111111111,
             "#46039f"
            ],
            [
             0.2222222222222222,
             "#7201a8"
            ],
            [
             0.3333333333333333,
             "#9c179e"
            ],
            [
             0.4444444444444444,
             "#bd3786"
            ],
            [
             0.5555555555555556,
             "#d8576b"
            ],
            [
             0.6666666666666666,
             "#ed7953"
            ],
            [
             0.7777777777777778,
             "#fb9f3a"
            ],
            [
             0.8888888888888888,
             "#fdca26"
            ],
            [
             1,
             "#f0f921"
            ]
           ],
           "sequentialminus": [
            [
             0,
             "#0d0887"
            ],
            [
             0.1111111111111111,
             "#46039f"
            ],
            [
             0.2222222222222222,
             "#7201a8"
            ],
            [
             0.3333333333333333,
             "#9c179e"
            ],
            [
             0.4444444444444444,
             "#bd3786"
            ],
            [
             0.5555555555555556,
             "#d8576b"
            ],
            [
             0.6666666666666666,
             "#ed7953"
            ],
            [
             0.7777777777777778,
             "#fb9f3a"
            ],
            [
             0.8888888888888888,
             "#fdca26"
            ],
            [
             1,
             "#f0f921"
            ]
           ]
          },
          "colorway": [
           "#636efa",
           "#EF553B",
           "#00cc96",
           "#ab63fa",
           "#FFA15A",
           "#19d3f3",
           "#FF6692",
           "#B6E880",
           "#FF97FF",
           "#FECB52"
          ],
          "font": {
           "color": "#2a3f5f"
          },
          "geo": {
           "bgcolor": "white",
           "lakecolor": "white",
           "landcolor": "#E5ECF6",
           "showlakes": true,
           "showland": true,
           "subunitcolor": "white"
          },
          "hoverlabel": {
           "align": "left"
          },
          "hovermode": "closest",
          "mapbox": {
           "style": "light"
          },
          "paper_bgcolor": "white",
          "plot_bgcolor": "#E5ECF6",
          "polar": {
           "angularaxis": {
            "gridcolor": "white",
            "linecolor": "white",
            "ticks": ""
           },
           "bgcolor": "#E5ECF6",
           "radialaxis": {
            "gridcolor": "white",
            "linecolor": "white",
            "ticks": ""
           }
          },
          "scene": {
           "xaxis": {
            "backgroundcolor": "#E5ECF6",
            "gridcolor": "white",
            "gridwidth": 2,
            "linecolor": "white",
            "showbackground": true,
            "ticks": "",
            "zerolinecolor": "white"
           },
           "yaxis": {
            "backgroundcolor": "#E5ECF6",
            "gridcolor": "white",
            "gridwidth": 2,
            "linecolor": "white",
            "showbackground": true,
            "ticks": "",
            "zerolinecolor": "white"
           },
           "zaxis": {
            "backgroundcolor": "#E5ECF6",
            "gridcolor": "white",
            "gridwidth": 2,
            "linecolor": "white",
            "showbackground": true,
            "ticks": "",
            "zerolinecolor": "white"
           }
          },
          "shapedefaults": {
           "line": {
            "color": "#2a3f5f"
           }
          },
          "ternary": {
           "aaxis": {
            "gridcolor": "white",
            "linecolor": "white",
            "ticks": ""
           },
           "baxis": {
            "gridcolor": "white",
            "linecolor": "white",
            "ticks": ""
           },
           "bgcolor": "#E5ECF6",
           "caxis": {
            "gridcolor": "white",
            "linecolor": "white",
            "ticks": ""
           }
          },
          "title": {
           "x": 0.05
          },
          "xaxis": {
           "automargin": true,
           "gridcolor": "white",
           "linecolor": "white",
           "ticks": "",
           "title": {
            "standoff": 15
           },
           "zerolinecolor": "white",
           "zerolinewidth": 2
          },
          "yaxis": {
           "automargin": true,
           "gridcolor": "white",
           "linecolor": "white",
           "ticks": "",
           "title": {
            "standoff": 15
           },
           "zerolinecolor": "white",
           "zerolinewidth": 2
          }
         }
        },
        "title": {
         "text": "Elo Difference vs Outcome - Correlation: 0.62, P-value: 0.00"
        },
        "xaxis": {
         "anchor": "y",
         "domain": [
          0,
          1
         ],
         "title": {
          "text": "elo_difference"
         }
        },
        "yaxis": {
         "anchor": "x",
         "domain": [
          0,
          1
         ],
         "title": {
          "text": "home_outcome"
         }
        }
       }
      }
     },
     "metadata": {},
     "output_type": "display_data"
    },
    {
     "data": {
      "text/plain": [
       "<Figure size 1000x600 with 0 Axes>"
      ]
     },
     "metadata": {},
     "output_type": "display_data"
    }
   ],
   "source": [
    "import plotly.express as px\n",
    "import matplotlib.pyplot as plt\n",
    "\n",
    "plt.figure(figsize=(10, 6))\n",
    "fig = px.scatter(\n",
    "    data_2022_2024, x=\"elo_difference\", y=\"home_outcome\", color=\"season\",\n",
    "    hover_data=[\"match_info\"], title=f\"Elo Difference vs Outcome - Correlation: {correlation:.2f}, P-value: {p_value:.2f}\"\n",
    ")\n",
    "fig.show()"
   ]
  },
  {
   "cell_type": "markdown",
   "metadata": {},
   "source": [
    "## Training"
   ]
  },
  {
   "cell_type": "code",
   "execution_count": 4,
   "metadata": {},
   "outputs": [
    {
     "name": "stdout",
     "output_type": "stream",
     "text": [
      "Best parameters found: {'bootstrap': True, 'max_depth': 5, 'min_samples_leaf': 2, 'min_samples_split': 5, 'n_estimators': 500}\n",
      "Best cross-validation accuracy: 0.6053005464480874\n",
      "Validation accuracy on 2023-2024 data: 65.00%\n"
     ]
    }
   ],
   "source": [
    "from sklearn.ensemble import RandomForestClassifier\n",
    "from sklearn.model_selection import GridSearchCV, train_test_split\n",
    "from sklearn.preprocessing import StandardScaler\n",
    "\n",
    "# For simplicity, let\"s predict the home outcome based on Elo ratings\n",
    "x = df[[\"home_elo\", \"away_elo\", \"home_position\", \"away_position\"]]\n",
    "y = df[\"home_outcome\"]\n",
    "\n",
    "# Split data into training and validation sets\n",
    "x_train, x_val, y_train, y_val = train_test_split(x, y, test_size=0.2)\n",
    "\n",
    "# Standardize the features\n",
    "scaler = StandardScaler()\n",
    "x_train = scaler.fit_transform(x_train)\n",
    "x_val = scaler.transform(x_val)\n",
    "\n",
    "# Define the parameter grid for Random Forest\n",
    "# Current parameters: n_estimators=1000, max_depth=5, min_samples_split=5\n",
    "param_grid_rf = {\n",
    "    'n_estimators': [100, 200, 500, 1000],\n",
    "    'max_depth': [None, 5, 10, 15, 20, 25],\n",
    "    'min_samples_split': [2, 5, 10],\n",
    "    'min_samples_leaf': [1, 2, 4],\n",
    "    'bootstrap': [True, False]\n",
    "}\n",
    "\n",
    "# Initialize the model\n",
    "rf = RandomForestClassifier()\n",
    "\n",
    "# Initialize GridSearchCV with 5-fold cross-validation\n",
    "grid_search = GridSearchCV(estimator=rf, param_grid=param_grid_rf, cv=5, n_jobs=-1, scoring='accuracy')\n",
    "\n",
    "# Perform the grid search\n",
    "grid_search.fit(x_train, y_train)\n",
    "\n",
    "# Extract best parameters and model\n",
    "print(f\"Best parameters found: {grid_search.best_params_}\")\n",
    "print(f\"Best cross-validation accuracy: {grid_search.best_score_}\")\n",
    "\n",
    "best_rf = grid_search.best_estimator_\n",
    "\n",
    "# Cross-validate the model against 2023-2024 season\n",
    "x_2023 = df_2023[[\"home_elo\", \"away_elo\", \"home_position\", \"away_position\"]]\n",
    "y_2023 = df_2023[\"home_outcome\"]\n",
    "\n",
    "# Standardize the features\n",
    "x_2023 = scaler.transform(x_2023)\n",
    "\n",
    "# Validate the model\n",
    "val_score_2023 = best_rf.score(x_2023, y_2023)\n",
    "print(f\"Validation accuracy on 2023-2024 data: {val_score_2023 * 100:.2f}%\")"
   ]
  },
  {
   "cell_type": "markdown",
   "metadata": {},
   "source": [
    "## Store the Model"
   ]
  },
  {
   "cell_type": "code",
   "execution_count": 22,
   "metadata": {},
   "outputs": [
    {
     "name": "stdout",
     "output_type": "stream",
     "text": [
      "Model uploaded to s3://pl-prediction/2024/random_forest.joblib\n",
      "Scalar uploaded to s3://pl-prediction/2024/random_forest.joblib\n"
     ]
    }
   ],
   "source": [
    "from joblib import dump\n",
    "from simulation_utils import upload_model_and_scaler_to_s3\n",
    "\n",
    "# Save the model\n",
    "model_filename = \"random_forest.joblib\"\n",
    "dump(best_rf, model_filename)\n",
    "\n",
    "# Save the scalar\n",
    "scalar_filename = \"standard_scaler.joblib\"\n",
    "dump(scaler, scalar_filename)\n",
    "\n",
    "# Upload the model and scalar to S3\n",
    "upload_model_and_scaler_to_s3(model_filename, scalar_filename, should_delete=True)"
   ]
  }
 ],
 "metadata": {
  "kernelspec": {
   "display_name": "python310",
   "language": "python",
   "name": "python3"
  },
  "language_info": {
   "codemirror_mode": {
    "name": "ipython",
    "version": 3
   },
   "file_extension": ".py",
   "mimetype": "text/x-python",
   "name": "python",
   "nbconvert_exporter": "python",
   "pygments_lexer": "ipython3",
   "version": "3.10.9"
  }
 },
 "nbformat": 4,
 "nbformat_minor": 2
}
