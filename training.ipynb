{
 "cells": [
  {
   "cell_type": "code",
   "execution_count": 1,
   "metadata": {},
   "outputs": [],
   "source": [
    "%load_ext autoreload\n",
    "%autoreload 2"
   ]
  },
  {
   "cell_type": "markdown",
   "metadata": {},
   "source": [
    "## Setting up Training Data"
   ]
  },
  {
   "cell_type": "code",
   "execution_count": 17,
   "metadata": {},
   "outputs": [],
   "source": [
    "from simulation_utils import db_get_data_by_year\n",
    "import pandas as pd\n",
    "\n",
    "# Get data for 2022-2023 season\n",
    "df = db_get_data_by_year(2022)\n",
    "\n",
    "# Get data for the 2023-2024 season\n",
    "df_2023 = db_get_data_by_year(2023)\n",
    "\n",
    "pd.concat([df, df_2023])"
   ]
  },
  {
   "cell_type": "markdown",
   "metadata": {},
   "source": [
    "### Analyze Elo vs Outcome for Real Results"
   ]
  },
  {
   "cell_type": "code",
   "execution_count": 31,
   "metadata": {},
   "outputs": [
    {
     "name": "stdout",
     "output_type": "stream",
     "text": [
      "Best parameters: {'club_value_adjustment_factor': 300, 'decay_half_life': 9.5, 'decay_method': <DecayMethod.BASE_RATING: 1>, 'k': 40}\n",
      "Best correlation: 0.5436362891412282\n"
     ]
    },
    {
     "data": {
      "text/html": [
       "<div>\n",
       "<style scoped>\n",
       "    .dataframe tbody tr th:only-of-type {\n",
       "        vertical-align: middle;\n",
       "    }\n",
       "\n",
       "    .dataframe tbody tr th {\n",
       "        vertical-align: top;\n",
       "    }\n",
       "\n",
       "    .dataframe thead th {\n",
       "        text-align: right;\n",
       "    }\n",
       "</style>\n",
       "<table border=\"1\" class=\"dataframe\">\n",
       "  <thead>\n",
       "    <tr style=\"text-align: right;\">\n",
       "      <th></th>\n",
       "      <th>home_outcome</th>\n",
       "      <th>home_elo</th>\n",
       "      <th>away_outcome</th>\n",
       "      <th>away_elo</th>\n",
       "      <th>total_outcome</th>\n",
       "      <th>total_elo</th>\n",
       "    </tr>\n",
       "    <tr>\n",
       "      <th>team</th>\n",
       "      <th></th>\n",
       "      <th></th>\n",
       "      <th></th>\n",
       "      <th></th>\n",
       "      <th></th>\n",
       "      <th></th>\n",
       "    </tr>\n",
       "  </thead>\n",
       "  <tbody>\n",
       "    <tr>\n",
       "      <th>Manchester City FC</th>\n",
       "      <td>193.0</td>\n",
       "      <td>1627.536177</td>\n",
       "      <td>169.0</td>\n",
       "      <td>1625.018000</td>\n",
       "      <td>362.0</td>\n",
       "      <td>3252.554177</td>\n",
       "    </tr>\n",
       "    <tr>\n",
       "      <th>Arsenal FC</th>\n",
       "      <td>186.0</td>\n",
       "      <td>1619.215190</td>\n",
       "      <td>165.0</td>\n",
       "      <td>1613.162314</td>\n",
       "      <td>351.0</td>\n",
       "      <td>3232.377504</td>\n",
       "    </tr>\n",
       "    <tr>\n",
       "      <th>Liverpool FC</th>\n",
       "      <td>188.0</td>\n",
       "      <td>1554.352818</td>\n",
       "      <td>125.0</td>\n",
       "      <td>1543.608059</td>\n",
       "      <td>313.0</td>\n",
       "      <td>3097.960877</td>\n",
       "    </tr>\n",
       "    <tr>\n",
       "      <th>Aston Villa FC</th>\n",
       "      <td>158.0</td>\n",
       "      <td>1521.373248</td>\n",
       "      <td>107.0</td>\n",
       "      <td>1502.423012</td>\n",
       "      <td>265.0</td>\n",
       "      <td>3023.796260</td>\n",
       "    </tr>\n",
       "    <tr>\n",
       "      <th>Tottenham Hotspur FC</th>\n",
       "      <td>154.0</td>\n",
       "      <td>1483.086006</td>\n",
       "      <td>104.0</td>\n",
       "      <td>1497.745280</td>\n",
       "      <td>258.0</td>\n",
       "      <td>2980.831286</td>\n",
       "    </tr>\n",
       "    <tr>\n",
       "      <th>Manchester United FC</th>\n",
       "      <td>147.0</td>\n",
       "      <td>1506.672892</td>\n",
       "      <td>108.0</td>\n",
       "      <td>1522.822359</td>\n",
       "      <td>255.0</td>\n",
       "      <td>3029.495251</td>\n",
       "    </tr>\n",
       "    <tr>\n",
       "      <th>Newcastle United FC</th>\n",
       "      <td>159.0</td>\n",
       "      <td>1535.935357</td>\n",
       "      <td>92.0</td>\n",
       "      <td>1528.947655</td>\n",
       "      <td>251.0</td>\n",
       "      <td>3064.883012</td>\n",
       "    </tr>\n",
       "    <tr>\n",
       "      <th>Chelsea FC</th>\n",
       "      <td>136.0</td>\n",
       "      <td>1581.500988</td>\n",
       "      <td>97.0</td>\n",
       "      <td>1572.523588</td>\n",
       "      <td>233.0</td>\n",
       "      <td>3154.024576</td>\n",
       "    </tr>\n",
       "    <tr>\n",
       "      <th>Brighton &amp; Hove Albion FC</th>\n",
       "      <td>124.0</td>\n",
       "      <td>1455.167931</td>\n",
       "      <td>82.0</td>\n",
       "      <td>1482.846715</td>\n",
       "      <td>206.0</td>\n",
       "      <td>2938.014646</td>\n",
       "    </tr>\n",
       "    <tr>\n",
       "      <th>West Ham United FC</th>\n",
       "      <td>115.0</td>\n",
       "      <td>1481.358987</td>\n",
       "      <td>81.0</td>\n",
       "      <td>1471.355631</td>\n",
       "      <td>196.0</td>\n",
       "      <td>2952.714618</td>\n",
       "    </tr>\n",
       "    <tr>\n",
       "      <th>Fulham FC</th>\n",
       "      <td>116.0</td>\n",
       "      <td>1473.674358</td>\n",
       "      <td>77.0</td>\n",
       "      <td>1491.080312</td>\n",
       "      <td>193.0</td>\n",
       "      <td>2964.754670</td>\n",
       "    </tr>\n",
       "    <tr>\n",
       "      <th>Crystal Palace FC</th>\n",
       "      <td>112.0</td>\n",
       "      <td>1557.255801</td>\n",
       "      <td>80.0</td>\n",
       "      <td>1542.822688</td>\n",
       "      <td>192.0</td>\n",
       "      <td>3100.078489</td>\n",
       "    </tr>\n",
       "    <tr>\n",
       "      <th>AFC Bournemouth</th>\n",
       "      <td>103.0</td>\n",
       "      <td>1486.488992</td>\n",
       "      <td>80.0</td>\n",
       "      <td>1473.359194</td>\n",
       "      <td>183.0</td>\n",
       "      <td>2959.848186</td>\n",
       "    </tr>\n",
       "    <tr>\n",
       "      <th>Everton FC</th>\n",
       "      <td>105.0</td>\n",
       "      <td>1525.836014</td>\n",
       "      <td>75.0</td>\n",
       "      <td>1510.002570</td>\n",
       "      <td>180.0</td>\n",
       "      <td>3035.838584</td>\n",
       "    </tr>\n",
       "    <tr>\n",
       "      <th>Wolverhampton Wanderers FC</th>\n",
       "      <td>111.0</td>\n",
       "      <td>1452.246336</td>\n",
       "      <td>68.0</td>\n",
       "      <td>1441.793281</td>\n",
       "      <td>179.0</td>\n",
       "      <td>2894.039617</td>\n",
       "    </tr>\n",
       "    <tr>\n",
       "      <th>Brentford FC</th>\n",
       "      <td>103.0</td>\n",
       "      <td>1478.486434</td>\n",
       "      <td>73.0</td>\n",
       "      <td>1495.929795</td>\n",
       "      <td>176.0</td>\n",
       "      <td>2974.416229</td>\n",
       "    </tr>\n",
       "    <tr>\n",
       "      <th>Nottingham Forest FC</th>\n",
       "      <td>90.0</td>\n",
       "      <td>1447.829108</td>\n",
       "      <td>56.0</td>\n",
       "      <td>1469.845543</td>\n",
       "      <td>146.0</td>\n",
       "      <td>2917.674651</td>\n",
       "    </tr>\n",
       "    <tr>\n",
       "      <th>Luton Town FC</th>\n",
       "      <td>48.0</td>\n",
       "      <td>1406.699906</td>\n",
       "      <td>30.0</td>\n",
       "      <td>1416.368785</td>\n",
       "      <td>78.0</td>\n",
       "      <td>2823.068691</td>\n",
       "    </tr>\n",
       "    <tr>\n",
       "      <th>Burnley FC</th>\n",
       "      <td>30.0</td>\n",
       "      <td>1428.859075</td>\n",
       "      <td>42.0</td>\n",
       "      <td>1443.208403</td>\n",
       "      <td>72.0</td>\n",
       "      <td>2872.067478</td>\n",
       "    </tr>\n",
       "    <tr>\n",
       "      <th>Sheffield United FC</th>\n",
       "      <td>30.0</td>\n",
       "      <td>1379.439769</td>\n",
       "      <td>18.0</td>\n",
       "      <td>1384.803108</td>\n",
       "      <td>48.0</td>\n",
       "      <td>2764.242877</td>\n",
       "    </tr>\n",
       "    <tr>\n",
       "      <th>Leicester City FC</th>\n",
       "      <td>19.0</td>\n",
       "      <td>1554.352818</td>\n",
       "      <td>15.0</td>\n",
       "      <td>1625.018000</td>\n",
       "      <td>34.0</td>\n",
       "      <td>3179.370819</td>\n",
       "    </tr>\n",
       "    <tr>\n",
       "      <th>Leeds United FC</th>\n",
       "      <td>22.0</td>\n",
       "      <td>1581.500988</td>\n",
       "      <td>9.0</td>\n",
       "      <td>1562.520599</td>\n",
       "      <td>31.0</td>\n",
       "      <td>3144.021586</td>\n",
       "    </tr>\n",
       "    <tr>\n",
       "      <th>Southampton FC</th>\n",
       "      <td>11.0</td>\n",
       "      <td>1557.255801</td>\n",
       "      <td>14.0</td>\n",
       "      <td>1613.162314</td>\n",
       "      <td>25.0</td>\n",
       "      <td>3170.418115</td>\n",
       "    </tr>\n",
       "  </tbody>\n",
       "</table>\n",
       "</div>"
      ],
      "text/plain": [
       "                            home_outcome     home_elo  away_outcome  \\\n",
       "team                                                                  \n",
       "Manchester City FC                 193.0  1627.536177         169.0   \n",
       "Arsenal FC                         186.0  1619.215190         165.0   \n",
       "Liverpool FC                       188.0  1554.352818         125.0   \n",
       "Aston Villa FC                     158.0  1521.373248         107.0   \n",
       "Tottenham Hotspur FC               154.0  1483.086006         104.0   \n",
       "Manchester United FC               147.0  1506.672892         108.0   \n",
       "Newcastle United FC                159.0  1535.935357          92.0   \n",
       "Chelsea FC                         136.0  1581.500988          97.0   \n",
       "Brighton & Hove Albion FC          124.0  1455.167931          82.0   \n",
       "West Ham United FC                 115.0  1481.358987          81.0   \n",
       "Fulham FC                          116.0  1473.674358          77.0   \n",
       "Crystal Palace FC                  112.0  1557.255801          80.0   \n",
       "AFC Bournemouth                    103.0  1486.488992          80.0   \n",
       "Everton FC                         105.0  1525.836014          75.0   \n",
       "Wolverhampton Wanderers FC         111.0  1452.246336          68.0   \n",
       "Brentford FC                       103.0  1478.486434          73.0   \n",
       "Nottingham Forest FC                90.0  1447.829108          56.0   \n",
       "Luton Town FC                       48.0  1406.699906          30.0   \n",
       "Burnley FC                          30.0  1428.859075          42.0   \n",
       "Sheffield United FC                 30.0  1379.439769          18.0   \n",
       "Leicester City FC                   19.0  1554.352818          15.0   \n",
       "Leeds United FC                     22.0  1581.500988           9.0   \n",
       "Southampton FC                      11.0  1557.255801          14.0   \n",
       "\n",
       "                               away_elo  total_outcome    total_elo  \n",
       "team                                                                 \n",
       "Manchester City FC          1625.018000          362.0  3252.554177  \n",
       "Arsenal FC                  1613.162314          351.0  3232.377504  \n",
       "Liverpool FC                1543.608059          313.0  3097.960877  \n",
       "Aston Villa FC              1502.423012          265.0  3023.796260  \n",
       "Tottenham Hotspur FC        1497.745280          258.0  2980.831286  \n",
       "Manchester United FC        1522.822359          255.0  3029.495251  \n",
       "Newcastle United FC         1528.947655          251.0  3064.883012  \n",
       "Chelsea FC                  1572.523588          233.0  3154.024576  \n",
       "Brighton & Hove Albion FC   1482.846715          206.0  2938.014646  \n",
       "West Ham United FC          1471.355631          196.0  2952.714618  \n",
       "Fulham FC                   1491.080312          193.0  2964.754670  \n",
       "Crystal Palace FC           1542.822688          192.0  3100.078489  \n",
       "AFC Bournemouth             1473.359194          183.0  2959.848186  \n",
       "Everton FC                  1510.002570          180.0  3035.838584  \n",
       "Wolverhampton Wanderers FC  1441.793281          179.0  2894.039617  \n",
       "Brentford FC                1495.929795          176.0  2974.416229  \n",
       "Nottingham Forest FC        1469.845543          146.0  2917.674651  \n",
       "Luton Town FC               1416.368785           78.0  2823.068691  \n",
       "Burnley FC                  1443.208403           72.0  2872.067478  \n",
       "Sheffield United FC         1384.803108           48.0  2764.242877  \n",
       "Leicester City FC           1625.018000           34.0  3179.370819  \n",
       "Leeds United FC             1562.520599           31.0  3144.021586  \n",
       "Southampton FC              1613.162314           25.0  3170.418115  "
      ]
     },
     "execution_count": 31,
     "metadata": {},
     "output_type": "execute_result"
    }
   ],
   "source": [
    "from scipy.stats import pearsonr\n",
    "from sklearn.model_selection import ParameterGrid\n",
    "\n",
    "from simulation_utils import DecayMethod, build_elo_between_seasons, get_elo_dict_from_df, process_fixture_results, upload_best_params_to_s3\n",
    "\n",
    "# Define the parameter grid\n",
    "param_grid = {\n",
    "    'k': [40],\n",
    "    'decay_half_life': [38/4],\n",
    "    'club_value_adjustment_factor': [300],\n",
    "    'decay_method': [DecayMethod.BASE_RATING],\n",
    "}\n",
    "\n",
    "# Initialize best parameters and best correlation\n",
    "best_params = None\n",
    "best_correlation = -1\n",
    "\n",
    "# Iterate over all combinations of parameters\n",
    "for params in ParameterGrid(param_grid):\n",
    "    k = params['k']\n",
    "    decay_half_life = params['decay_half_life']\n",
    "    club_value_adjustment_factor = params['club_value_adjustment_factor']\n",
    "    decay_method = params['decay_method']\n",
    "    \n",
    "    # Process the fixture results for the 2022-2023 season and the 2023-2024 season\n",
    "    df, results = process_fixture_results(df, k, decay_half_life, club_value_adjustment_factor, decay_method, None)\n",
    "\n",
    "    # Get adjusted Elo dict at current club value\n",
    "    adjusted_elo = get_elo_dict_from_df(build_elo_between_seasons(df, df_2023, club_value_adjustment_factor))\n",
    "\n",
    "    df_2023, results_2023 = process_fixture_results(df_2023, k, decay_half_life, club_value_adjustment_factor, decay_method, adjusted_elo)\n",
    "\n",
    "    # Calculate Elo vs Outcome correlation\n",
    "    data_2022 = df[[\"home_elo\", \"away_elo\", \"home_outcome\"]].copy()\n",
    "    data_2022[\"season\"] = \"2022-2023\"\n",
    "    data_2023 = df_2023[[\"home_elo\", \"away_elo\", \"home_outcome\"]].copy()\n",
    "    data_2023[\"season\"] = \"2023-2024\"\n",
    "    data_2022_2024 = pd.concat([data_2022, data_2023])\n",
    "\n",
    "    data_2022_2024[\"elo_difference\"] = data_2022_2024[\"home_elo\"] - data_2022_2024[\"away_elo\"]\n",
    "\n",
    "    # Convert \"home_outcome\" to categorical type with specified categories\n",
    "    data_2022_2024[\"home_outcome\"] = pd.Categorical(data_2022_2024[\"home_outcome\"], categories=[3, 1, 0], ordered=True)\n",
    "\n",
    "    # Calculate correlation\n",
    "    correlation, p_value = pearsonr(data_2022_2024[\"elo_difference\"], data_2022_2024[\"home_outcome\"])\n",
    "    \n",
    "    # If the correlation is better than the best found so far, update best correlation and best parameters\n",
    "    if correlation > best_correlation:\n",
    "        best_correlation = correlation\n",
    "        best_params = params\n",
    "\n",
    "print(\"Best parameters:\", best_params)\n",
    "print(\"Best correlation:\", best_correlation)\n",
    "\n",
    "# # Calculate everything again with the best parameters\n",
    "# k = best_params['k']\n",
    "# decay_half_life = best_params['decay_half_life']\n",
    "# club_value_adjustment_factor = best_params['club_value_adjustment_factor']\n",
    "# decay_method = best_params['decay_method']\n",
    "\n",
    "# # Process the fixture results for the 2022-2023 season and the 2023-2024 season\n",
    "# df, results = process_fixture_results(df, k, decay_half_life, club_value_adjustment_factor, decay_method, None)\n",
    "\n",
    "# # Get adjusted Elo dict at current club value\n",
    "# adjusted_elo = get_elo_dict_from_df(build_elo_between_seasons(df, df_2023, club_value_adjustment_factor))\n",
    "\n",
    "# df_2023, results_2023 = process_fixture_results(df_2023, k, decay_half_life, club_value_adjustment_factor, decay_method, adjusted_elo)\n",
    "\n",
    "# Calculate Elo vs Outcome correlation\n",
    "correlation_df_columns = [\"home_elo\", \"away_elo\", \"home_outcome\", \"home\", \"away\", \"home_score\", \"away_score\", \"utc_date\"]\n",
    "data_2022 = df[correlation_df_columns].copy()\n",
    "data_2022[\"season\"] = \"2022-2023\"\n",
    "data_2023 = df_2023[correlation_df_columns].copy()\n",
    "data_2023[\"season\"] = \"2023-2024\"\n",
    "data_2022_2024 = pd.concat([data_2022, data_2023])\n",
    "\n",
    "data_2022_2024[\"match_info\"] = data_2022_2024[\"home\"] + \" (\" + data_2022_2024[\"home_score\"].astype(str) + \") - \" + data_2022_2024[\"away\"] + \" (\" + data_2022_2024[\"away_score\"].astype(str) + \") on \" + data_2022_2024[\"utc_date\"].astype(str)\n",
    "\n",
    "data_2022_2024[\"elo_difference\"] = data_2022_2024[\"home_elo\"] - data_2022_2024[\"away_elo\"]\n",
    "\n",
    "# Convert \"home_outcome\" to categorical type with specified categories\n",
    "data_2022_2024[\"home_outcome\"] = pd.Categorical(data_2022_2024[\"home_outcome\"], categories=[3, 1, 0], ordered=True)\n",
    "\n",
    "# Calculate correlation\n",
    "correlation, p_value = pearsonr(data_2022_2024[\"elo_difference\"], data_2022_2024[\"home_outcome\"])\n",
    "\n",
    "# Convert \"home_outcome\" to string type\n",
    "data_2022_2024[\"home_outcome\"] = data_2022_2024[\"home_outcome\"].astype(str)\n",
    "\n",
    "results"
   ]
  },
  {
   "cell_type": "code",
   "execution_count": 33,
   "metadata": {},
   "outputs": [
    {
     "name": "stdout",
     "output_type": "stream",
     "text": [
      "Best Params uploaded to s3://pl-prediction/2024/random_forest.joblib\n"
     ]
    }
   ],
   "source": [
    "# Upload best params to s3\n",
    "upload_best_params_to_s3(best_params, True)"
   ]
  },
  {
   "cell_type": "markdown",
   "metadata": {},
   "source": [
    "#### Plotting Elo vs Outcome"
   ]
  },
  {
   "cell_type": "code",
   "execution_count": 32,
   "metadata": {},
   "outputs": [
    {
     "data": {
      "application/vnd.plotly.v1+json": {
       "config": {
        "plotlyServerURL": "https://plot.ly"
       },
       "data": [
        {
         "customdata": [
          [
           "Crystal Palace FC (0.0) - Arsenal FC (2.0) on 2022-08-05 19:00:00"
          ],
          [
           "Fulham FC (2.0) - Liverpool FC (2.0) on 2022-08-06 11:30:00"
          ],
          [
           "Leeds United FC (2.0) - Wolverhampton Wanderers FC (1.0) on 2022-08-06 14:00:00"
          ],
          [
           "AFC Bournemouth (2.0) - Aston Villa FC (0.0) on 2022-08-06 14:00:00"
          ],
          [
           "Newcastle United FC (2.0) - Nottingham Forest FC (0.0) on 2022-08-06 14:00:00"
          ],
          [
           "Tottenham Hotspur FC (4.0) - Southampton FC (1.0) on 2022-08-06 14:00:00"
          ],
          [
           "Everton FC (0.0) - Chelsea FC (1.0) on 2022-08-06 16:30:00"
          ],
          [
           "Manchester United FC (1.0) - Brighton & Hove Albion FC (2.0) on 2022-08-07 13:00:00"
          ],
          [
           "Leicester City FC (2.0) - Brentford FC (2.0) on 2022-08-07 13:00:00"
          ],
          [
           "West Ham United FC (0.0) - Manchester City FC (2.0) on 2022-08-07 15:30:00"
          ],
          [
           "Aston Villa FC (2.0) - Everton FC (1.0) on 2022-08-13 11:30:00"
          ],
          [
           "Arsenal FC (4.0) - Leicester City FC (2.0) on 2022-08-13 14:00:00"
          ],
          [
           "Manchester City FC (4.0) - AFC Bournemouth (0.0) on 2022-08-13 14:00:00"
          ],
          [
           "Brighton & Hove Albion FC (0.0) - Newcastle United FC (0.0) on 2022-08-13 14:00:00"
          ],
          [
           "Southampton FC (2.0) - Leeds United FC (2.0) on 2022-08-13 14:00:00"
          ],
          [
           "Wolverhampton Wanderers FC (0.0) - Fulham FC (0.0) on 2022-08-13 14:00:00"
          ],
          [
           "Brentford FC (4.0) - Manchester United FC (0.0) on 2022-08-13 16:30:00"
          ],
          [
           "Nottingham Forest FC (1.0) - West Ham United FC (0.0) on 2022-08-14 13:00:00"
          ],
          [
           "Chelsea FC (2.0) - Tottenham Hotspur FC (2.0) on 2022-08-14 15:30:00"
          ],
          [
           "Liverpool FC (1.0) - Crystal Palace FC (1.0) on 2022-08-15 19:00:00"
          ],
          [
           "Tottenham Hotspur FC (1.0) - Wolverhampton Wanderers FC (0.0) on 2022-08-20 11:30:00"
          ],
          [
           "Crystal Palace FC (3.0) - Aston Villa FC (1.0) on 2022-08-20 14:00:00"
          ],
          [
           "Leicester City FC (1.0) - Southampton FC (2.0) on 2022-08-20 14:00:00"
          ],
          [
           "Fulham FC (3.0) - Brentford FC (2.0) on 2022-08-20 14:00:00"
          ],
          [
           "Everton FC (1.0) - Nottingham Forest FC (1.0) on 2022-08-20 14:00:00"
          ],
          [
           "AFC Bournemouth (0.0) - Arsenal FC (3.0) on 2022-08-20 16:30:00"
          ],
          [
           "Leeds United FC (3.0) - Chelsea FC (0.0) on 2022-08-21 13:00:00"
          ],
          [
           "West Ham United FC (0.0) - Brighton & Hove Albion FC (2.0) on 2022-08-21 13:00:00"
          ],
          [
           "Newcastle United FC (3.0) - Manchester City FC (3.0) on 2022-08-21 15:30:00"
          ],
          [
           "Manchester United FC (2.0) - Liverpool FC (1.0) on 2022-08-22 19:00:00"
          ],
          [
           "Southampton FC (0.0) - Manchester United FC (1.0) on 2022-08-27 11:30:00"
          ],
          [
           "Brighton & Hove Albion FC (1.0) - Leeds United FC (0.0) on 2022-08-27 14:00:00"
          ],
          [
           "Brentford FC (1.0) - Everton FC (1.0) on 2022-08-27 14:00:00"
          ],
          [
           "Chelsea FC (2.0) - Leicester City FC (1.0) on 2022-08-27 14:00:00"
          ],
          [
           "Manchester City FC (4.0) - Crystal Palace FC (2.0) on 2022-08-27 14:00:00"
          ],
          [
           "Liverpool FC (9.0) - AFC Bournemouth (0.0) on 2022-08-27 14:00:00"
          ],
          [
           "Arsenal FC (2.0) - Fulham FC (1.0) on 2022-08-27 16:30:00"
          ],
          [
           "Wolverhampton Wanderers FC (1.0) - Newcastle United FC (1.0) on 2022-08-28 13:00:00"
          ],
          [
           "Aston Villa FC (0.0) - West Ham United FC (1.0) on 2022-08-28 13:00:00"
          ],
          [
           "Nottingham Forest FC (0.0) - Tottenham Hotspur FC (2.0) on 2022-08-28 15:30:00"
          ],
          [
           "Fulham FC (2.0) - Brighton & Hove Albion FC (1.0) on 2022-08-30 18:30:00"
          ],
          [
           "Crystal Palace FC (1.0) - Brentford FC (1.0) on 2022-08-30 18:30:00"
          ],
          [
           "Southampton FC (2.0) - Chelsea FC (1.0) on 2022-08-30 18:45:00"
          ],
          [
           "Leeds United FC (1.0) - Everton FC (1.0) on 2022-08-30 19:00:00"
          ],
          [
           "Arsenal FC (2.0) - Aston Villa FC (1.0) on 2022-08-31 18:30:00"
          ],
          [
           "AFC Bournemouth (0.0) - Wolverhampton Wanderers FC (0.0) on 2022-08-31 18:30:00"
          ],
          [
           "Manchester City FC (6.0) - Nottingham Forest FC (0.0) on 2022-08-31 18:30:00"
          ],
          [
           "West Ham United FC (1.0) - Tottenham Hotspur FC (1.0) on 2022-08-31 18:45:00"
          ],
          [
           "Liverpool FC (2.0) - Newcastle United FC (1.0) on 2022-08-31 19:00:00"
          ],
          [
           "Leicester City FC (0.0) - Manchester United FC (1.0) on 2022-09-01 19:00:00"
          ],
          [
           "Everton FC (0.0) - Liverpool FC (0.0) on 2022-09-03 11:30:00"
          ],
          [
           "Brentford FC (5.0) - Leeds United FC (2.0) on 2022-09-03 14:00:00"
          ],
          [
           "Chelsea FC (2.0) - West Ham United FC (1.0) on 2022-09-03 14:00:00"
          ],
          [
           "Newcastle United FC (0.0) - Crystal Palace FC (0.0) on 2022-09-03 14:00:00"
          ],
          [
           "Nottingham Forest FC (2.0) - AFC Bournemouth (3.0) on 2022-09-03 14:00:00"
          ],
          [
           "Wolverhampton Wanderers FC (1.0) - Southampton FC (0.0) on 2022-09-03 14:00:00"
          ],
          [
           "Tottenham Hotspur FC (2.0) - Fulham FC (1.0) on 2022-09-03 14:00:00"
          ],
          [
           "Aston Villa FC (1.0) - Manchester City FC (1.0) on 2022-09-03 16:30:00"
          ],
          [
           "Brighton & Hove Albion FC (5.0) - Leicester City FC (2.0) on 2022-09-04 13:00:00"
          ],
          [
           "Manchester United FC (3.0) - Arsenal FC (1.0) on 2022-09-04 15:30:00"
          ],
          [
           "Nottingham Forest FC (2.0) - Fulham FC (3.0) on 2022-09-16 19:00:00"
          ],
          [
           "Aston Villa FC (1.0) - Southampton FC (0.0) on 2022-09-16 19:00:00"
          ],
          [
           "Wolverhampton Wanderers FC (0.0) - Manchester City FC (3.0) on 2022-09-17 11:30:00"
          ],
          [
           "Newcastle United FC (1.0) - AFC Bournemouth (1.0) on 2022-09-17 14:00:00"
          ],
          [
           "Tottenham Hotspur FC (6.0) - Leicester City FC (2.0) on 2022-09-17 16:30:00"
          ],
          [
           "Brentford FC (0.0) - Arsenal FC (3.0) on 2022-09-18 11:00:00"
          ],
          [
           "Everton FC (1.0) - West Ham United FC (0.0) on 2022-09-18 13:15:00"
          ],
          [
           "Arsenal FC (3.0) - Tottenham Hotspur FC (1.0) on 2022-10-01 11:30:00"
          ],
          [
           "Fulham FC (1.0) - Newcastle United FC (4.0) on 2022-10-01 14:00:00"
          ],
          [
           "AFC Bournemouth (0.0) - Brentford FC (0.0) on 2022-10-01 14:00:00"
          ],
          [
           "Liverpool FC (3.0) - Brighton & Hove Albion FC (3.0) on 2022-10-01 14:00:00"
          ],
          [
           "Crystal Palace FC (1.0) - Chelsea FC (2.0) on 2022-10-01 14:00:00"
          ],
          [
           "Southampton FC (1.0) - Everton FC (2.0) on 2022-10-01 14:00:00"
          ],
          [
           "West Ham United FC (2.0) - Wolverhampton Wanderers FC (0.0) on 2022-10-01 16:30:00"
          ],
          [
           "Manchester City FC (6.0) - Manchester United FC (3.0) on 2022-10-02 13:00:00"
          ],
          [
           "Leeds United FC (0.0) - Aston Villa FC (0.0) on 2022-10-02 15:30:00"
          ],
          [
           "Leicester City FC (4.0) - Nottingham Forest FC (0.0) on 2022-10-03 19:00:00"
          ],
          [
           "Newcastle United FC (5.0) - Brentford FC (1.0) on 2022-10-08 14:00:00"
          ],
          [
           "Manchester City FC (4.0) - Southampton FC (0.0) on 2022-10-08 14:00:00"
          ],
          [
           "Chelsea FC (3.0) - Wolverhampton Wanderers FC (0.0) on 2022-10-08 14:00:00"
          ],
          [
           "AFC Bournemouth (2.0) - Leicester City FC (1.0) on 2022-10-08 14:00:00"
          ],
          [
           "Brighton & Hove Albion FC (0.0) - Tottenham Hotspur FC (1.0) on 2022-10-08 16:30:00"
          ],
          [
           "Crystal Palace FC (2.0) - Leeds United FC (1.0) on 2022-10-09 13:00:00"
          ],
          [
           "West Ham United FC (3.0) - Fulham FC (1.0) on 2022-10-09 13:00:00"
          ],
          [
           "Arsenal FC (3.0) - Liverpool FC (2.0) on 2022-10-09 15:30:00"
          ],
          [
           "Everton FC (1.0) - Manchester United FC (2.0) on 2022-10-09 18:00:00"
          ],
          [
           "Nottingham Forest FC (1.0) - Aston Villa FC (1.0) on 2022-10-10 19:00:00"
          ],
          [
           "Brentford FC (2.0) - Brighton & Hove Albion FC (0.0) on 2022-10-14 19:00:00"
          ],
          [
           "Leicester City FC (0.0) - Crystal Palace FC (0.0) on 2022-10-15 11:30:00"
          ],
          [
           "Wolverhampton Wanderers FC (1.0) - Nottingham Forest FC (0.0) on 2022-10-15 14:00:00"
          ],
          [
           "Fulham FC (2.0) - AFC Bournemouth (2.0) on 2022-10-15 14:00:00"
          ],
          [
           "Tottenham Hotspur FC (2.0) - Everton FC (0.0) on 2022-10-15 16:30:00"
          ],
          [
           "Aston Villa FC (0.0) - Chelsea FC (2.0) on 2022-10-16 13:00:00"
          ],
          [
           "Manchester United FC (0.0) - Newcastle United FC (0.0) on 2022-10-16 13:00:00"
          ],
          [
           "Southampton FC (1.0) - West Ham United FC (1.0) on 2022-10-16 13:00:00"
          ],
          [
           "Leeds United FC (0.0) - Arsenal FC (1.0) on 2022-10-16 13:00:00"
          ],
          [
           "Liverpool FC (1.0) - Manchester City FC (0.0) on 2022-10-16 15:30:00"
          ],
          [
           "Brighton & Hove Albion FC (0.0) - Nottingham Forest FC (0.0) on 2022-10-18 18:30:00"
          ],
          [
           "Crystal Palace FC (2.0) - Wolverhampton Wanderers FC (1.0) on 2022-10-18 19:15:00"
          ],
          [
           "Liverpool FC (1.0) - West Ham United FC (0.0) on 2022-10-19 18:30:00"
          ],
          [
           "Newcastle United FC (1.0) - Everton FC (0.0) on 2022-10-19 18:30:00"
          ],
          [
           "Brentford FC (0.0) - Chelsea FC (0.0) on 2022-10-19 18:30:00"
          ],
          [
           "AFC Bournemouth (0.0) - Southampton FC (1.0) on 2022-10-19 18:30:00"
          ],
          [
           "Manchester United FC (2.0) - Tottenham Hotspur FC (0.0) on 2022-10-19 19:15:00"
          ],
          [
           "Fulham FC (3.0) - Aston Villa FC (0.0) on 2022-10-20 18:30:00"
          ],
          [
           "Leicester City FC (2.0) - Leeds United FC (0.0) on 2022-10-20 19:15:00"
          ],
          [
           "Nottingham Forest FC (1.0) - Liverpool FC (0.0) on 2022-10-22 11:30:00"
          ],
          [
           "Everton FC (3.0) - Crystal Palace FC (0.0) on 2022-10-22 14:00:00"
          ],
          [
           "Manchester City FC (3.0) - Brighton & Hove Albion FC (1.0) on 2022-10-22 14:00:00"
          ],
          [
           "Chelsea FC (1.0) - Manchester United FC (1.0) on 2022-10-22 16:30:00"
          ],
          [
           "Aston Villa FC (4.0) - Brentford FC (0.0) on 2022-10-23 13:00:00"
          ],
          [
           "Southampton FC (1.0) - Arsenal FC (1.0) on 2022-10-23 13:00:00"
          ],
          [
           "Leeds United FC (2.0) - Fulham FC (3.0) on 2022-10-23 13:00:00"
          ],
          [
           "Wolverhampton Wanderers FC (0.0) - Leicester City FC (4.0) on 2022-10-23 13:00:00"
          ],
          [
           "Tottenham Hotspur FC (1.0) - Newcastle United FC (2.0) on 2022-10-23 15:30:00"
          ],
          [
           "West Ham United FC (2.0) - AFC Bournemouth (0.0) on 2022-10-24 19:00:00"
          ],
          [
           "Leicester City FC (0.0) - Manchester City FC (1.0) on 2022-10-29 11:30:00"
          ],
          [
           "AFC Bournemouth (2.0) - Tottenham Hotspur FC (3.0) on 2022-10-29 14:00:00"
          ],
          [
           "Brentford FC (1.0) - Wolverhampton Wanderers FC (1.0) on 2022-10-29 14:00:00"
          ],
          [
           "Brighton & Hove Albion FC (4.0) - Chelsea FC (1.0) on 2022-10-29 14:00:00"
          ],
          [
           "Crystal Palace FC (1.0) - Southampton FC (0.0) on 2022-10-29 14:00:00"
          ],
          [
           "Newcastle United FC (4.0) - Aston Villa FC (0.0) on 2022-10-29 14:00:00"
          ],
          [
           "Fulham FC (0.0) - Everton FC (0.0) on 2022-10-29 16:30:00"
          ],
          [
           "Liverpool FC (1.0) - Leeds United FC (2.0) on 2022-10-29 18:45:00"
          ],
          [
           "Arsenal FC (5.0) - Nottingham Forest FC (0.0) on 2022-10-30 14:00:00"
          ],
          [
           "Manchester United FC (1.0) - West Ham United FC (0.0) on 2022-10-30 16:15:00"
          ],
          [
           "Nottingham Forest FC (2.0) - Brentford FC (2.0) on 2022-11-05 15:00:00"
          ],
          [
           "Manchester City FC (2.0) - Fulham FC (1.0) on 2022-11-05 15:00:00"
          ],
          [
           "Leeds United FC (4.0) - AFC Bournemouth (3.0) on 2022-11-05 15:00:00"
          ],
          [
           "Wolverhampton Wanderers FC (2.0) - Brighton & Hove Albion FC (3.0) on 2022-11-05 15:00:00"
          ],
          [
           "Everton FC (0.0) - Leicester City FC (2.0) on 2022-11-05 17:30:00"
          ],
          [
           "Chelsea FC (0.0) - Arsenal FC (1.0) on 2022-11-06 12:00:00"
          ],
          [
           "West Ham United FC (1.0) - Crystal Palace FC (2.0) on 2022-11-06 14:00:00"
          ],
          [
           "Southampton FC (1.0) - Newcastle United FC (4.0) on 2022-11-06 14:00:00"
          ],
          [
           "Aston Villa FC (3.0) - Manchester United FC (1.0) on 2022-11-06 14:00:00"
          ],
          [
           "Tottenham Hotspur FC (1.0) - Liverpool FC (2.0) on 2022-11-06 16:30:00"
          ],
          [
           "Manchester City FC (1.0) - Brentford FC (2.0) on 2022-11-12 12:30:00"
          ],
          [
           "Liverpool FC (3.0) - Southampton FC (1.0) on 2022-11-12 15:00:00"
          ],
          [
           "AFC Bournemouth (3.0) - Everton FC (0.0) on 2022-11-12 15:00:00"
          ],
          [
           "Tottenham Hotspur FC (4.0) - Leeds United FC (3.0) on 2022-11-12 15:00:00"
          ],
          [
           "West Ham United FC (0.0) - Leicester City FC (2.0) on 2022-11-12 15:00:00"
          ],
          [
           "Nottingham Forest FC (1.0) - Crystal Palace FC (0.0) on 2022-11-12 15:00:00"
          ],
          [
           "Newcastle United FC (1.0) - Chelsea FC (0.0) on 2022-11-12 17:30:00"
          ],
          [
           "Wolverhampton Wanderers FC (0.0) - Arsenal FC (2.0) on 2022-11-12 19:45:00"
          ],
          [
           "Brighton & Hove Albion FC (1.0) - Aston Villa FC (2.0) on 2022-11-13 14:00:00"
          ],
          [
           "Fulham FC (1.0) - Manchester United FC (2.0) on 2022-11-13 16:30:00"
          ],
          [
           "Brentford FC (2.0) - Tottenham Hotspur FC (2.0) on 2022-12-26 12:30:00"
          ],
          [
           "Southampton FC (1.0) - Brighton & Hove Albion FC (3.0) on 2022-12-26 15:00:00"
          ],
          [
           "Leicester City FC (0.0) - Newcastle United FC (3.0) on 2022-12-26 15:00:00"
          ],
          [
           "Everton FC (1.0) - Wolverhampton Wanderers FC (2.0) on 2022-12-26 15:00:00"
          ],
          [
           "Crystal Palace FC (0.0) - Fulham FC (3.0) on 2022-12-26 15:00:00"
          ],
          [
           "Aston Villa FC (1.0) - Liverpool FC (3.0) on 2022-12-26 17:30:00"
          ],
          [
           "Arsenal FC (3.0) - West Ham United FC (1.0) on 2022-12-26 20:00:00"
          ],
          [
           "Chelsea FC (2.0) - AFC Bournemouth (0.0) on 2022-12-27 17:30:00"
          ],
          [
           "Manchester United FC (3.0) - Nottingham Forest FC (0.0) on 2022-12-27 20:00:00"
          ],
          [
           "Leeds United FC (1.0) - Manchester City FC (3.0) on 2022-12-28 20:00:00"
          ],
          [
           "West Ham United FC (0.0) - Brentford FC (2.0) on 2022-12-30 19:45:00"
          ],
          [
           "Liverpool FC (2.0) - Leicester City FC (1.0) on 2022-12-30 20:00:00"
          ],
          [
           "Wolverhampton Wanderers FC (0.0) - Manchester United FC (1.0) on 2022-12-31 12:30:00"
          ],
          [
           "Newcastle United FC (0.0) - Leeds United FC (0.0) on 2022-12-31 15:00:00"
          ],
          [
           "Manchester City FC (1.0) - Everton FC (1.0) on 2022-12-31 15:00:00"
          ],
          [
           "Fulham FC (2.0) - Southampton FC (1.0) on 2022-12-31 15:00:00"
          ],
          [
           "AFC Bournemouth (0.0) - Crystal Palace FC (2.0) on 2022-12-31 15:00:00"
          ],
          [
           "Brighton & Hove Albion FC (2.0) - Arsenal FC (4.0) on 2022-12-31 17:30:00"
          ],
          [
           "Tottenham Hotspur FC (0.0) - Aston Villa FC (2.0) on 2023-01-01 14:00:00"
          ],
          [
           "Nottingham Forest FC (1.0) - Chelsea FC (1.0) on 2023-01-01 16:30:00"
          ],
          [
           "Brentford FC (3.0) - Liverpool FC (1.0) on 2023-01-02 17:30:00"
          ],
          [
           "Everton FC (1.0) - Brighton & Hove Albion FC (4.0) on 2023-01-03 19:45:00"
          ],
          [
           "Arsenal FC (0.0) - Newcastle United FC (0.0) on 2023-01-03 19:45:00"
          ],
          [
           "Leicester City FC (0.0) - Fulham FC (1.0) on 2023-01-03 19:45:00"
          ],
          [
           "Manchester United FC (3.0) - AFC Bournemouth (0.0) on 2023-01-03 20:00:00"
          ],
          [
           "Southampton FC (0.0) - Nottingham Forest FC (1.0) on 2023-01-04 19:30:00"
          ],
          [
           "Leeds United FC (2.0) - West Ham United FC (2.0) on 2023-01-04 19:45:00"
          ],
          [
           "Crystal Palace FC (0.0) - Tottenham Hotspur FC (4.0) on 2023-01-04 20:00:00"
          ],
          [
           "Aston Villa FC (1.0) - Wolverhampton Wanderers FC (1.0) on 2023-01-04 20:00:00"
          ],
          [
           "Chelsea FC (0.0) - Manchester City FC (1.0) on 2023-01-05 20:00:00"
          ],
          [
           "Fulham FC (2.0) - Chelsea FC (1.0) on 2023-01-12 20:00:00"
          ],
          [
           "Aston Villa FC (2.0) - Leeds United FC (1.0) on 2023-01-13 20:00:00"
          ],
          [
           "Manchester United FC (2.0) - Manchester City FC (1.0) on 2023-01-14 12:30:00"
          ],
          [
           "Brighton & Hove Albion FC (3.0) - Liverpool FC (0.0) on 2023-01-14 15:00:00"
          ],
          [
           "Everton FC (1.0) - Southampton FC (2.0) on 2023-01-14 15:00:00"
          ],
          [
           "Nottingham Forest FC (2.0) - Leicester City FC (0.0) on 2023-01-14 15:00:00"
          ],
          [
           "Wolverhampton Wanderers FC (1.0) - West Ham United FC (0.0) on 2023-01-14 15:00:00"
          ],
          [
           "Brentford FC (2.0) - AFC Bournemouth (0.0) on 2023-01-14 17:30:00"
          ],
          [
           "Newcastle United FC (1.0) - Fulham FC (0.0) on 2023-01-15 14:00:00"
          ],
          [
           "Chelsea FC (1.0) - Crystal Palace FC (0.0) on 2023-01-15 14:00:00"
          ],
          [
           "Tottenham Hotspur FC (0.0) - Arsenal FC (2.0) on 2023-01-15 16:30:00"
          ],
          [
           "Crystal Palace FC (1.0) - Manchester United FC (1.0) on 2023-01-18 20:00:00"
          ],
          [
           "Manchester City FC (4.0) - Tottenham Hotspur FC (2.0) on 2023-01-19 20:00:00"
          ],
          [
           "Liverpool FC (0.0) - Chelsea FC (0.0) on 2023-01-21 12:30:00"
          ],
          [
           "West Ham United FC (2.0) - Everton FC (0.0) on 2023-01-21 15:00:00"
          ],
          [
           "Southampton FC (0.0) - Aston Villa FC (1.0) on 2023-01-21 15:00:00"
          ],
          [
           "AFC Bournemouth (1.0) - Nottingham Forest FC (1.0) on 2023-01-21 15:00:00"
          ],
          [
           "Leicester City FC (2.0) - Brighton & Hove Albion FC (2.0) on 2023-01-21 15:00:00"
          ],
          [
           "Crystal Palace FC (0.0) - Newcastle United FC (0.0) on 2023-01-21 17:30:00"
          ],
          [
           "Manchester City FC (3.0) - Wolverhampton Wanderers FC (0.0) on 2023-01-22 14:00:00"
          ],
          [
           "Leeds United FC (0.0) - Brentford FC (0.0) on 2023-01-22 14:00:00"
          ],
          [
           "Arsenal FC (3.0) - Manchester United FC (2.0) on 2023-01-22 16:30:00"
          ],
          [
           "Fulham FC (0.0) - Tottenham Hotspur FC (1.0) on 2023-01-23 20:15:00"
          ],
          [
           "Chelsea FC (0.0) - Fulham FC (0.0) on 2023-02-03 20:00:00"
          ],
          [
           "Everton FC (1.0) - Arsenal FC (0.0) on 2023-02-04 12:30:00"
          ],
          [
           "Wolverhampton Wanderers FC (3.0) - Liverpool FC (0.0) on 2023-02-04 15:00:00"
          ],
          [
           "Manchester United FC (2.0) - Crystal Palace FC (1.0) on 2023-02-04 15:00:00"
          ],
          [
           "Brentford FC (3.0) - Southampton FC (0.0) on 2023-02-04 15:00:00"
          ],
          [
           "Brighton & Hove Albion FC (1.0) - AFC Bournemouth (0.0) on 2023-02-04 15:00:00"
          ],
          [
           "Aston Villa FC (2.0) - Leicester City FC (4.0) on 2023-02-04 15:00:00"
          ],
          [
           "Newcastle United FC (1.0) - West Ham United FC (1.0) on 2023-02-04 17:30:00"
          ],
          [
           "Nottingham Forest FC (1.0) - Leeds United FC (0.0) on 2023-02-05 14:00:00"
          ],
          [
           "Tottenham Hotspur FC (1.0) - Manchester City FC (0.0) on 2023-02-05 16:30:00"
          ],
          [
           "Manchester United FC (2.0) - Leeds United FC (2.0) on 2023-02-08 20:00:00"
          ],
          [
           "West Ham United FC (1.0) - Chelsea FC (1.0) on 2023-02-11 12:30:00"
          ],
          [
           "Fulham FC (2.0) - Nottingham Forest FC (0.0) on 2023-02-11 15:00:00"
          ],
          [
           "Leicester City FC (4.0) - Tottenham Hotspur FC (1.0) on 2023-02-11 15:00:00"
          ],
          [
           "Southampton FC (1.0) - Wolverhampton Wanderers FC (2.0) on 2023-02-11 15:00:00"
          ],
          [
           "Arsenal FC (1.0) - Brentford FC (1.0) on 2023-02-11 15:00:00"
          ],
          [
           "Crystal Palace FC (1.0) - Brighton & Hove Albion FC (1.0) on 2023-02-11 15:00:00"
          ],
          [
           "AFC Bournemouth (1.0) - Newcastle United FC (1.0) on 2023-02-11 17:30:00"
          ],
          [
           "Leeds United FC (0.0) - Manchester United FC (2.0) on 2023-02-12 14:00:00"
          ],
          [
           "Manchester City FC (3.0) - Aston Villa FC (1.0) on 2023-02-12 16:30:00"
          ],
          [
           "Liverpool FC (2.0) - Everton FC (0.0) on 2023-02-13 20:00:00"
          ],
          [
           "Arsenal FC (1.0) - Manchester City FC (3.0) on 2023-02-15 19:30:00"
          ],
          [
           "Aston Villa FC (2.0) - Arsenal FC (4.0) on 2023-02-18 12:30:00"
          ],
          [
           "Brighton & Hove Albion FC (0.0) - Fulham FC (1.0) on 2023-02-18 15:00:00"
          ],
          [
           "Wolverhampton Wanderers FC (0.0) - AFC Bournemouth (1.0) on 2023-02-18 15:00:00"
          ],
          [
           "Nottingham Forest FC (1.0) - Manchester City FC (1.0) on 2023-02-18 15:00:00"
          ],
          [
           "Everton FC (1.0) - Leeds United FC (0.0) on 2023-02-18 15:00:00"
          ],
          [
           "Chelsea FC (0.0) - Southampton FC (1.0) on 2023-02-18 15:00:00"
          ],
          [
           "Brentford FC (1.0) - Crystal Palace FC (1.0) on 2023-02-18 15:00:00"
          ],
          [
           "Newcastle United FC (0.0) - Liverpool FC (2.0) on 2023-02-18 17:30:00"
          ],
          [
           "Manchester United FC (3.0) - Leicester City FC (0.0) on 2023-02-19 14:00:00"
          ],
          [
           "Tottenham Hotspur FC (2.0) - West Ham United FC (0.0) on 2023-02-19 16:30:00"
          ],
          [
           "Fulham FC (1.0) - Wolverhampton Wanderers FC (1.0) on 2023-02-24 20:00:00"
          ],
          [
           "Leeds United FC (1.0) - Southampton FC (0.0) on 2023-02-25 15:00:00"
          ],
          [
           "West Ham United FC (4.0) - Nottingham Forest FC (0.0) on 2023-02-25 15:00:00"
          ],
          [
           "Leicester City FC (0.0) - Arsenal FC (1.0) on 2023-02-25 15:00:00"
          ],
          [
           "Everton FC (0.0) - Aston Villa FC (2.0) on 2023-02-25 15:00:00"
          ],
          [
           "AFC Bournemouth (1.0) - Manchester City FC (4.0) on 2023-02-25 17:30:00"
          ],
          [
           "Crystal Palace FC (0.0) - Liverpool FC (0.0) on 2023-02-25 19:45:00"
          ],
          [
           "Tottenham Hotspur FC (2.0) - Chelsea FC (0.0) on 2023-02-26 13:30:00"
          ],
          [
           "Arsenal FC (4.0) - Everton FC (0.0) on 2023-03-01 19:45:00"
          ],
          [
           "Liverpool FC (2.0) - Wolverhampton Wanderers FC (0.0) on 2023-03-01 20:00:00"
          ],
          [
           "Manchester City FC (2.0) - Newcastle United FC (0.0) on 2023-03-04 12:30:00"
          ],
          [
           "Arsenal FC (3.0) - AFC Bournemouth (2.0) on 2023-03-04 15:00:00"
          ],
          [
           "Wolverhampton Wanderers FC (1.0) - Tottenham Hotspur FC (0.0) on 2023-03-04 15:00:00"
          ],
          [
           "Chelsea FC (1.0) - Leeds United FC (0.0) on 2023-03-04 15:00:00"
          ],
          [
           "Brighton & Hove Albion FC (4.0) - West Ham United FC (0.0) on 2023-03-04 15:00:00"
          ],
          [
           "Aston Villa FC (1.0) - Crystal Palace FC (0.0) on 2023-03-04 15:00:00"
          ],
          [
           "Southampton FC (1.0) - Leicester City FC (0.0) on 2023-03-04 17:30:00"
          ],
          [
           "Nottingham Forest FC (2.0) - Everton FC (2.0) on 2023-03-05 14:00:00"
          ],
          [
           "Liverpool FC (7.0) - Manchester United FC (0.0) on 2023-03-05 16:30:00"
          ],
          [
           "Brentford FC (3.0) - Fulham FC (2.0) on 2023-03-06 20:00:00"
          ],
          [
           "AFC Bournemouth (1.0) - Liverpool FC (0.0) on 2023-03-11 12:30:00"
          ],
          [
           "Leicester City FC (1.0) - Chelsea FC (3.0) on 2023-03-11 15:00:00"
          ],
          [
           "Leeds United FC (2.0) - Brighton & Hove Albion FC (2.0) on 2023-03-11 15:00:00"
          ],
          [
           "Everton FC (1.0) - Brentford FC (0.0) on 2023-03-11 15:00:00"
          ],
          [
           "Tottenham Hotspur FC (3.0) - Nottingham Forest FC (1.0) on 2023-03-11 15:00:00"
          ],
          [
           "Crystal Palace FC (0.0) - Manchester City FC (1.0) on 2023-03-11 17:30:00"
          ],
          [
           "West Ham United FC (1.0) - Aston Villa FC (1.0) on 2023-03-12 14:00:00"
          ],
          [
           "Fulham FC (0.0) - Arsenal FC (3.0) on 2023-03-12 14:00:00"
          ],
          [
           "Manchester United FC (0.0) - Southampton FC (0.0) on 2023-03-12 14:00:00"
          ],
          [
           "Newcastle United FC (2.0) - Wolverhampton Wanderers FC (1.0) on 2023-03-12 16:30:00"
          ],
          [
           "Brighton & Hove Albion FC (1.0) - Crystal Palace FC (0.0) on 2023-03-15 19:30:00"
          ],
          [
           "Southampton FC (0.0) - Brentford FC (2.0) on 2023-03-15 19:30:00"
          ],
          [
           "Nottingham Forest FC (1.0) - Newcastle United FC (2.0) on 2023-03-17 20:00:00"
          ],
          [
           "Aston Villa FC (3.0) - AFC Bournemouth (0.0) on 2023-03-18 15:00:00"
          ],
          [
           "Southampton FC (3.0) - Tottenham Hotspur FC (3.0) on 2023-03-18 15:00:00"
          ],
          [
           "Brentford FC (1.0) - Leicester City FC (1.0) on 2023-03-18 15:00:00"
          ],
          [
           "Wolverhampton Wanderers FC (2.0) - Leeds United FC (4.0) on 2023-03-18 15:00:00"
          ],
          [
           "Chelsea FC (2.0) - Everton FC (2.0) on 2023-03-18 17:30:00"
          ],
          [
           "Arsenal FC (4.0) - Crystal Palace FC (1.0) on 2023-03-19 14:00:00"
          ],
          [
           "Manchester City FC (4.0) - Liverpool FC (1.0) on 2023-04-01 11:30:00"
          ],
          [
           "AFC Bournemouth (2.0) - Fulham FC (1.0) on 2023-04-01 14:00:00"
          ],
          [
           "Brighton & Hove Albion FC (3.0) - Brentford FC (3.0) on 2023-04-01 14:00:00"
          ],
          [
           "Crystal Palace FC (2.0) - Leicester City FC (1.0) on 2023-04-01 14:00:00"
          ],
          [
           "Nottingham Forest FC (1.0) - Wolverhampton Wanderers FC (1.0) on 2023-04-01 14:00:00"
          ],
          [
           "Arsenal FC (4.0) - Leeds United FC (1.0) on 2023-04-01 14:00:00"
          ],
          [
           "Chelsea FC (0.0) - Aston Villa FC (2.0) on 2023-04-01 16:30:00"
          ],
          [
           "West Ham United FC (1.0) - Southampton FC (0.0) on 2023-04-02 13:00:00"
          ],
          [
           "Newcastle United FC (2.0) - Manchester United FC (0.0) on 2023-04-02 15:30:00"
          ],
          [
           "Everton FC (1.0) - Tottenham Hotspur FC (1.0) on 2023-04-03 19:00:00"
          ],
          [
           "AFC Bournemouth (0.0) - Brighton & Hove Albion FC (2.0) on 2023-04-04 18:45:00"
          ],
          [
           "Leicester City FC (1.0) - Aston Villa FC (2.0) on 2023-04-04 18:45:00"
          ],
          [
           "Leeds United FC (2.0) - Nottingham Forest FC (1.0) on 2023-04-04 18:45:00"
          ],
          [
           "Chelsea FC (0.0) - Liverpool FC (0.0) on 2023-04-04 19:00:00"
          ],
          [
           "West Ham United FC (1.0) - Newcastle United FC (5.0) on 2023-04-05 19:00:00"
          ],
          [
           "Manchester United FC (1.0) - Brentford FC (0.0) on 2023-04-05 19:00:00"
          ],
          [
           "Manchester United FC (2.0) - Everton FC (0.0) on 2023-04-08 11:30:00"
          ],
          [
           "Wolverhampton Wanderers FC (1.0) - Chelsea FC (0.0) on 2023-04-08 14:00:00"
          ],
          [
           "Tottenham Hotspur FC (2.0) - Brighton & Hove Albion FC (1.0) on 2023-04-08 14:00:00"
          ],
          [
           "Leicester City FC (0.0) - AFC Bournemouth (1.0) on 2023-04-08 14:00:00"
          ],
          [
           "Fulham FC (0.0) - West Ham United FC (1.0) on 2023-04-08 14:00:00"
          ],
          [
           "Brentford FC (1.0) - Newcastle United FC (2.0) on 2023-04-08 14:00:00"
          ],
          [
           "Aston Villa FC (2.0) - Nottingham Forest FC (0.0) on 2023-04-08 14:00:00"
          ],
          [
           "Southampton FC (1.0) - Manchester City FC (4.0) on 2023-04-08 16:30:00"
          ],
          [
           "Leeds United FC (1.0) - Crystal Palace FC (5.0) on 2023-04-09 13:00:00"
          ],
          [
           "Liverpool FC (2.0) - Arsenal FC (2.0) on 2023-04-09 15:30:00"
          ],
          [
           "Aston Villa FC (3.0) - Newcastle United FC (0.0) on 2023-04-15 11:30:00"
          ],
          [
           "Chelsea FC (1.0) - Brighton & Hove Albion FC (2.0) on 2023-04-15 14:00:00"
          ],
          [
           "Everton FC (1.0) - Fulham FC (3.0) on 2023-04-15 14:00:00"
          ],
          [
           "Southampton FC (0.0) - Crystal Palace FC (2.0) on 2023-04-15 14:00:00"
          ],
          [
           "Wolverhampton Wanderers FC (2.0) - Brentford FC (0.0) on 2023-04-15 14:00:00"
          ],
          [
           "Tottenham Hotspur FC (2.0) - AFC Bournemouth (3.0) on 2023-04-15 14:15:00"
          ],
          [
           "Manchester City FC (3.0) - Leicester City FC (1.0) on 2023-04-15 16:30:00"
          ],
          [
           "West Ham United FC (2.0) - Arsenal FC (2.0) on 2023-04-16 13:00:00"
          ],
          [
           "Nottingham Forest FC (0.0) - Manchester United FC (2.0) on 2023-04-16 15:30:00"
          ],
          [
           "Leeds United FC (1.0) - Liverpool FC (6.0) on 2023-04-17 19:00:00"
          ],
          [
           "Arsenal FC (3.0) - Southampton FC (3.0) on 2023-04-21 19:00:00"
          ],
          [
           "Fulham FC (2.0) - Leeds United FC (1.0) on 2023-04-22 11:30:00"
          ],
          [
           "Liverpool FC (3.0) - Nottingham Forest FC (2.0) on 2023-04-22 14:00:00"
          ],
          [
           "Crystal Palace FC (0.0) - Everton FC (0.0) on 2023-04-22 14:00:00"
          ],
          [
           "Leicester City FC (2.0) - Wolverhampton Wanderers FC (1.0) on 2023-04-22 14:00:00"
          ],
          [
           "Brentford FC (1.0) - Aston Villa FC (1.0) on 2023-04-22 14:00:00"
          ],
          [
           "Newcastle United FC (6.0) - Tottenham Hotspur FC (1.0) on 2023-04-23 13:00:00"
          ],
          [
           "AFC Bournemouth (0.0) - West Ham United FC (4.0) on 2023-04-23 13:00:00"
          ],
          [
           "Wolverhampton Wanderers FC (2.0) - Crystal Palace FC (0.0) on 2023-04-25 18:30:00"
          ],
          [
           "Aston Villa FC (1.0) - Fulham FC (0.0) on 2023-04-25 18:45:00"
          ],
          [
           "Leeds United FC (1.0) - Leicester City FC (1.0) on 2023-04-25 19:00:00"
          ],
          [
           "Nottingham Forest FC (3.0) - Brighton & Hove Albion FC (1.0) on 2023-04-26 18:30:00"
          ],
          [
           "Chelsea FC (0.0) - Brentford FC (2.0) on 2023-04-26 18:45:00"
          ],
          [
           "West Ham United FC (1.0) - Liverpool FC (2.0) on 2023-04-26 18:45:00"
          ],
          [
           "Manchester City FC (4.0) - Arsenal FC (1.0) on 2023-04-26 19:00:00"
          ],
          [
           "Everton FC (1.0) - Newcastle United FC (4.0) on 2023-04-27 18:45:00"
          ],
          [
           "Southampton FC (0.0) - AFC Bournemouth (1.0) on 2023-04-27 18:45:00"
          ],
          [
           "Tottenham Hotspur FC (2.0) - Manchester United FC (2.0) on 2023-04-27 19:15:00"
          ],
          [
           "Crystal Palace FC (4.0) - West Ham United FC (3.0) on 2023-04-29 11:45:00"
          ],
          [
           "Brighton & Hove Albion FC (6.0) - Wolverhampton Wanderers FC (0.0) on 2023-04-29 14:00:00"
          ],
          [
           "Brentford FC (2.0) - Nottingham Forest FC (1.0) on 2023-04-29 14:00:00"
          ],
          [
           "AFC Bournemouth (4.0) - Leeds United FC (1.0) on 2023-04-30 13:00:00"
          ],
          [
           "Newcastle United FC (3.0) - Southampton FC (1.0) on 2023-04-30 13:00:00"
          ],
          [
           "Fulham FC (1.0) - Manchester City FC (2.0) on 2023-04-30 13:00:00"
          ],
          [
           "Manchester United FC (1.0) - Aston Villa FC (0.0) on 2023-04-30 13:00:00"
          ],
          [
           "Liverpool FC (4.0) - Tottenham Hotspur FC (3.0) on 2023-04-30 15:30:00"
          ],
          [
           "Leicester City FC (2.0) - Everton FC (2.0) on 2023-05-01 19:00:00"
          ],
          [
           "Arsenal FC (3.0) - Chelsea FC (1.0) on 2023-05-02 19:00:00"
          ],
          [
           "Liverpool FC (1.0) - Fulham FC (0.0) on 2023-05-03 19:00:00"
          ],
          [
           "Manchester City FC (3.0) - West Ham United FC (0.0) on 2023-05-03 19:00:00"
          ],
          [
           "Brighton & Hove Albion FC (1.0) - Manchester United FC (0.0) on 2023-05-04 19:00:00"
          ],
          [
           "Wolverhampton Wanderers FC (1.0) - Aston Villa FC (0.0) on 2023-05-06 14:00:00"
          ],
          [
           "Tottenham Hotspur FC (1.0) - Crystal Palace FC (0.0) on 2023-05-06 14:00:00"
          ],
          [
           "AFC Bournemouth (1.0) - Chelsea FC (3.0) on 2023-05-06 14:00:00"
          ],
          [
           "Manchester City FC (2.0) - Leeds United FC (1.0) on 2023-05-06 14:00:00"
          ],
          [
           "Liverpool FC (1.0) - Brentford FC (0.0) on 2023-05-06 16:30:00"
          ],
          [
           "Newcastle United FC (0.0) - Arsenal FC (2.0) on 2023-05-07 15:30:00"
          ],
          [
           "West Ham United FC (1.0) - Manchester United FC (0.0) on 2023-05-07 18:00:00"
          ],
          [
           "Fulham FC (5.0) - Leicester City FC (3.0) on 2023-05-08 14:00:00"
          ],
          [
           "Brighton & Hove Albion FC (1.0) - Everton FC (5.0) on 2023-05-08 16:30:00"
          ],
          [
           "Nottingham Forest FC (4.0) - Southampton FC (3.0) on 2023-05-08 19:00:00"
          ],
          [
           "Leeds United FC (2.0) - Newcastle United FC (2.0) on 2023-05-13 11:30:00"
          ],
          [
           "Southampton FC (0.0) - Fulham FC (2.0) on 2023-05-13 14:00:00"
          ],
          [
           "Manchester United FC (2.0) - Wolverhampton Wanderers FC (0.0) on 2023-05-13 14:00:00"
          ],
          [
           "Crystal Palace FC (2.0) - AFC Bournemouth (0.0) on 2023-05-13 14:00:00"
          ],
          [
           "Chelsea FC (2.0) - Nottingham Forest FC (2.0) on 2023-05-13 14:00:00"
          ],
          [
           "Aston Villa FC (2.0) - Tottenham Hotspur FC (1.0) on 2023-05-13 14:00:00"
          ],
          [
           "Everton FC (0.0) - Manchester City FC (3.0) on 2023-05-14 13:00:00"
          ],
          [
           "Brentford FC (2.0) - West Ham United FC (0.0) on 2023-05-14 13:00:00"
          ],
          [
           "Arsenal FC (0.0) - Brighton & Hove Albion FC (3.0) on 2023-05-14 15:30:00"
          ],
          [
           "Leicester City FC (0.0) - Liverpool FC (3.0) on 2023-05-15 19:00:00"
          ],
          [
           "Newcastle United FC (4.0) - Brighton & Hove Albion FC (1.0) on 2023-05-18 18:30:00"
          ],
          [
           "Tottenham Hotspur FC (1.0) - Brentford FC (3.0) on 2023-05-20 11:30:00"
          ],
          [
           "AFC Bournemouth (0.0) - Manchester United FC (1.0) on 2023-05-20 14:00:00"
          ],
          [
           "Fulham FC (2.0) - Crystal Palace FC (2.0) on 2023-05-20 14:00:00"
          ],
          [
           "Wolverhampton Wanderers FC (1.0) - Everton FC (1.0) on 2023-05-20 14:00:00"
          ],
          [
           "Liverpool FC (1.0) - Aston Villa FC (1.0) on 2023-05-20 14:00:00"
          ],
          [
           "Nottingham Forest FC (1.0) - Arsenal FC (0.0) on 2023-05-20 16:30:00"
          ],
          [
           "West Ham United FC (3.0) - Leeds United FC (1.0) on 2023-05-21 12:30:00"
          ],
          [
           "Brighton & Hove Albion FC (3.0) - Southampton FC (1.0) on 2023-05-21 13:00:00"
          ],
          [
           "Manchester City FC (1.0) - Chelsea FC (0.0) on 2023-05-21 15:00:00"
          ],
          [
           "Newcastle United FC (0.0) - Leicester City FC (0.0) on 2023-05-22 19:00:00"
          ],
          [
           "Brighton & Hove Albion FC (1.0) - Manchester City FC (1.0) on 2023-05-24 19:00:00"
          ],
          [
           "Manchester United FC (4.0) - Chelsea FC (1.0) on 2023-05-25 19:00:00"
          ],
          [
           "Arsenal FC (5.0) - Wolverhampton Wanderers FC (0.0) on 2023-05-28 15:30:00"
          ],
          [
           "Crystal Palace FC (1.0) - Nottingham Forest FC (1.0) on 2023-05-28 15:30:00"
          ],
          [
           "Everton FC (1.0) - AFC Bournemouth (0.0) on 2023-05-28 15:30:00"
          ],
          [
           "Southampton FC (4.0) - Liverpool FC (4.0) on 2023-05-28 15:30:00"
          ],
          [
           "Leicester City FC (2.0) - West Ham United FC (1.0) on 2023-05-28 15:30:00"
          ],
          [
           "Manchester United FC (2.0) - Fulham FC (1.0) on 2023-05-28 15:30:00"
          ],
          [
           "Chelsea FC (1.0) - Newcastle United FC (1.0) on 2023-05-28 15:30:00"
          ],
          [
           "Aston Villa FC (2.0) - Brighton & Hove Albion FC (1.0) on 2023-05-28 15:30:00"
          ],
          [
           "Leeds United FC (1.0) - Tottenham Hotspur FC (4.0) on 2023-05-28 15:30:00"
          ],
          [
           "Brentford FC (1.0) - Manchester City FC (0.0) on 2023-05-28 15:30:00"
          ],
          [
           "Burnley FC (0.0) - Manchester City FC (3.0) on 2023-08-11 19:00:00"
          ],
          [
           "Arsenal FC (2.0) - Nottingham Forest FC (1.0) on 2023-08-12 12:00:00"
          ],
          [
           "AFC Bournemouth (1.0) - West Ham United FC (1.0) on 2023-08-12 14:00:00"
          ],
          [
           "Sheffield United FC (0.0) - Crystal Palace FC (1.0) on 2023-08-12 14:00:00"
          ],
          [
           "Everton FC (0.0) - Fulham FC (1.0) on 2023-08-12 14:00:00"
          ],
          [
           "Brighton & Hove Albion FC (4.0) - Luton Town FC (1.0) on 2023-08-12 14:00:00"
          ],
          [
           "Newcastle United FC (5.0) - Aston Villa FC (1.0) on 2023-08-12 16:30:00"
          ],
          [
           "Brentford FC (2.0) - Tottenham Hotspur FC (2.0) on 2023-08-13 13:00:00"
          ],
          [
           "Chelsea FC (1.0) - Liverpool FC (1.0) on 2023-08-13 15:30:00"
          ],
          [
           "Manchester United FC (1.0) - Wolverhampton Wanderers FC (0.0) on 2023-08-14 19:00:00"
          ],
          [
           "Nottingham Forest FC (2.0) - Sheffield United FC (1.0) on 2023-08-18 18:45:00"
          ],
          [
           "Liverpool FC (3.0) - AFC Bournemouth (1.0) on 2023-08-19 14:00:00"
          ],
          [
           "Fulham FC (0.0) - Brentford FC (3.0) on 2023-08-19 14:00:00"
          ],
          [
           "Wolverhampton Wanderers FC (1.0) - Brighton & Hove Albion FC (4.0) on 2023-08-19 14:00:00"
          ],
          [
           "Tottenham Hotspur FC (2.0) - Manchester United FC (0.0) on 2023-08-19 16:30:00"
          ],
          [
           "Manchester City FC (1.0) - Newcastle United FC (0.0) on 2023-08-19 19:00:00"
          ],
          [
           "Aston Villa FC (4.0) - Everton FC (0.0) on 2023-08-20 13:00:00"
          ],
          [
           "West Ham United FC (3.0) - Chelsea FC (1.0) on 2023-08-20 15:30:00"
          ],
          [
           "Crystal Palace FC (0.0) - Arsenal FC (1.0) on 2023-08-21 19:00:00"
          ],
          [
           "Chelsea FC (3.0) - Luton Town FC (0.0) on 2023-08-25 19:00:00"
          ],
          [
           "AFC Bournemouth (0.0) - Tottenham Hotspur FC (2.0) on 2023-08-26 11:30:00"
          ],
          [
           "Everton FC (0.0) - Wolverhampton Wanderers FC (1.0) on 2023-08-26 14:00:00"
          ],
          [
           "Brentford FC (1.0) - Crystal Palace FC (1.0) on 2023-08-26 14:00:00"
          ],
          [
           "Arsenal FC (2.0) - Fulham FC (2.0) on 2023-08-26 14:00:00"
          ],
          [
           "Manchester United FC (3.0) - Nottingham Forest FC (2.0) on 2023-08-26 14:00:00"
          ],
          [
           "Brighton & Hove Albion FC (1.0) - West Ham United FC (3.0) on 2023-08-26 16:30:00"
          ],
          [
           "Sheffield United FC (1.0) - Manchester City FC (2.0) on 2023-08-27 13:00:00"
          ],
          [
           "Burnley FC (1.0) - Aston Villa FC (3.0) on 2023-08-27 13:00:00"
          ],
          [
           "Newcastle United FC (1.0) - Liverpool FC (2.0) on 2023-08-27 15:30:00"
          ],
          [
           "Luton Town FC (1.0) - West Ham United FC (2.0) on 2023-09-01 19:00:00"
          ],
          [
           "Sheffield United FC (2.0) - Everton FC (2.0) on 2023-09-02 11:30:00"
          ],
          [
           "Chelsea FC (0.0) - Nottingham Forest FC (1.0) on 2023-09-02 14:00:00"
          ],
          [
           "Manchester City FC (5.0) - Fulham FC (1.0) on 2023-09-02 14:00:00"
          ],
          [
           "Burnley FC (2.0) - Tottenham Hotspur FC (5.0) on 2023-09-02 14:00:00"
          ],
          [
           "Brentford FC (2.0) - AFC Bournemouth (2.0) on 2023-09-02 14:00:00"
          ],
          [
           "Brighton & Hove Albion FC (3.0) - Newcastle United FC (1.0) on 2023-09-02 16:30:00"
          ],
          [
           "Crystal Palace FC (3.0) - Wolverhampton Wanderers FC (2.0) on 2023-09-03 13:00:00"
          ],
          [
           "Liverpool FC (3.0) - Aston Villa FC (0.0) on 2023-09-03 13:00:00"
          ],
          [
           "Arsenal FC (3.0) - Manchester United FC (1.0) on 2023-09-03 15:30:00"
          ],
          [
           "Wolverhampton Wanderers FC (1.0) - Liverpool FC (3.0) on 2023-09-16 11:30:00"
          ],
          [
           "Aston Villa FC (3.0) - Crystal Palace FC (1.0) on 2023-09-16 14:00:00"
          ],
          [
           "Fulham FC (1.0) - Luton Town FC (0.0) on 2023-09-16 14:00:00"
          ],
          [
           "Manchester United FC (1.0) - Brighton & Hove Albion FC (3.0) on 2023-09-16 14:00:00"
          ],
          [
           "Tottenham Hotspur FC (2.0) - Sheffield United FC (1.0) on 2023-09-16 14:00:00"
          ],
          [
           "West Ham United FC (1.0) - Manchester City FC (3.0) on 2023-09-16 14:00:00"
          ],
          [
           "Newcastle United FC (1.0) - Brentford FC (0.0) on 2023-09-16 16:30:00"
          ],
          [
           "AFC Bournemouth (0.0) - Chelsea FC (0.0) on 2023-09-17 13:00:00"
          ],
          [
           "Everton FC (0.0) - Arsenal FC (1.0) on 2023-09-17 15:30:00"
          ],
          [
           "Nottingham Forest FC (1.0) - Burnley FC (1.0) on 2023-09-18 18:45:00"
          ],
          [
           "Luton Town FC (1.0) - Wolverhampton Wanderers FC (1.0) on 2023-09-23 14:00:00"
          ],
          [
           "Manchester City FC (2.0) - Nottingham Forest FC (0.0) on 2023-09-23 14:00:00"
          ],
          [
           "Crystal Palace FC (0.0) - Fulham FC (0.0) on 2023-09-23 14:00:00"
          ],
          [
           "Brentford FC (1.0) - Everton FC (3.0) on 2023-09-23 16:30:00"
          ],
          [
           "Burnley FC (0.0) - Manchester United FC (1.0) on 2023-09-23 19:00:00"
          ],
          [
           "Chelsea FC (0.0) - Aston Villa FC (1.0) on 2023-09-24 13:00:00"
          ],
          [
           "Liverpool FC (3.0) - West Ham United FC (1.0) on 2023-09-24 13:00:00"
          ],
          [
           "Arsenal FC (2.0) - Tottenham Hotspur FC (2.0) on 2023-09-24 13:00:00"
          ],
          [
           "Brighton & Hove Albion FC (3.0) - AFC Bournemouth (1.0) on 2023-09-24 13:00:00"
          ],
          [
           "Sheffield United FC (0.0) - Newcastle United FC (8.0) on 2023-09-24 15:30:00"
          ],
          [
           "Aston Villa FC (6.0) - Brighton & Hove Albion FC (1.0) on 2023-09-30 11:30:00"
          ],
          [
           "West Ham United FC (2.0) - Sheffield United FC (0.0) on 2023-09-30 14:00:00"
          ],
          [
           "Newcastle United FC (2.0) - Burnley FC (0.0) on 2023-09-30 14:00:00"
          ],
          [
           "Manchester United FC (0.0) - Crystal Palace FC (1.0) on 2023-09-30 14:00:00"
          ],
          [
           "Wolverhampton Wanderers FC (2.0) - Manchester City FC (1.0) on 2023-09-30 14:00:00"
          ],
          [
           "AFC Bournemouth (0.0) - Arsenal FC (4.0) on 2023-09-30 14:00:00"
          ],
          [
           "Everton FC (1.0) - Luton Town FC (2.0) on 2023-09-30 14:00:00"
          ],
          [
           "Tottenham Hotspur FC (2.0) - Liverpool FC (1.0) on 2023-09-30 16:30:00"
          ],
          [
           "Nottingham Forest FC (1.0) - Brentford FC (1.0) on 2023-10-01 13:00:00"
          ],
          [
           "Fulham FC (0.0) - Chelsea FC (2.0) on 2023-10-02 19:00:00"
          ],
          [
           "Luton Town FC (1.0) - Burnley FC (2.0) on 2023-10-03 18:30:00"
          ],
          [
           "Luton Town FC (0.0) - Tottenham Hotspur FC (1.0) on 2023-10-07 11:30:00"
          ],
          [
           "Everton FC (3.0) - AFC Bournemouth (0.0) on 2023-10-07 14:00:00"
          ],
          [
           "Burnley FC (1.0) - Chelsea FC (4.0) on 2023-10-07 14:00:00"
          ],
          [
           "Fulham FC (3.0) - Sheffield United FC (1.0) on 2023-10-07 14:00:00"
          ],
          [
           "Manchester United FC (2.0) - Brentford FC (1.0) on 2023-10-07 14:00:00"
          ],
          [
           "Crystal Palace FC (0.0) - Nottingham Forest FC (0.0) on 2023-10-07 16:30:00"
          ],
          [
           "Brighton & Hove Albion FC (2.0) - Liverpool FC (2.0) on 2023-10-08 13:00:00"
          ],
          [
           "West Ham United FC (2.0) - Newcastle United FC (2.0) on 2023-10-08 13:00:00"
          ],
          [
           "Wolverhampton Wanderers FC (1.0) - Aston Villa FC (1.0) on 2023-10-08 13:00:00"
          ],
          [
           "Arsenal FC (1.0) - Manchester City FC (0.0) on 2023-10-08 15:30:00"
          ],
          [
           "Liverpool FC (2.0) - Everton FC (0.0) on 2023-10-21 11:30:00"
          ],
          [
           "Brentford FC (3.0) - Burnley FC (0.0) on 2023-10-21 14:00:00"
          ],
          [
           "Nottingham Forest FC (2.0) - Luton Town FC (2.0) on 2023-10-21 14:00:00"
          ],
          [
           "AFC Bournemouth (1.0) - Wolverhampton Wanderers FC (2.0) on 2023-10-21 14:00:00"
          ],
          [
           "Manchester City FC (2.0) - Brighton & Hove Albion FC (1.0) on 2023-10-21 14:00:00"
          ],
          [
           "Newcastle United FC (4.0) - Crystal Palace FC (0.0) on 2023-10-21 14:00:00"
          ],
          [
           "Chelsea FC (2.0) - Arsenal FC (2.0) on 2023-10-21 16:30:00"
          ],
          [
           "Sheffield United FC (1.0) - Manchester United FC (2.0) on 2023-10-21 19:00:00"
          ],
          [
           "Aston Villa FC (4.0) - West Ham United FC (1.0) on 2023-10-22 15:30:00"
          ],
          [
           "Tottenham Hotspur FC (2.0) - Fulham FC (0.0) on 2023-10-23 19:00:00"
          ],
          [
           "Crystal Palace FC (1.0) - Tottenham Hotspur FC (2.0) on 2023-10-27 19:00:00"
          ],
          [
           "Chelsea FC (0.0) - Brentford FC (2.0) on 2023-10-28 11:30:00"
          ],
          [
           "AFC Bournemouth (2.0) - Burnley FC (1.0) on 2023-10-28 14:00:00"
          ],
          [
           "Arsenal FC (5.0) - Sheffield United FC (0.0) on 2023-10-28 14:00:00"
          ],
          [
           "Wolverhampton Wanderers FC (2.0) - Newcastle United FC (2.0) on 2023-10-28 16:30:00"
          ],
          [
           "West Ham United FC (0.0) - Everton FC (1.0) on 2023-10-29 13:00:00"
          ],
          [
           "Liverpool FC (3.0) - Nottingham Forest FC (0.0) on 2023-10-29 14:00:00"
          ],
          [
           "Brighton & Hove Albion FC (1.0) - Fulham FC (1.0) on 2023-10-29 14:00:00"
          ],
          [
           "Aston Villa FC (3.0) - Luton Town FC (1.0) on 2023-10-29 14:00:00"
          ],
          [
           "Manchester United FC (0.0) - Manchester City FC (3.0) on 2023-10-29 15:30:00"
          ],
          [
           "Fulham FC (0.0) - Manchester United FC (1.0) on 2023-11-04 12:30:00"
          ],
          [
           "Brentford FC (3.0) - West Ham United FC (2.0) on 2023-11-04 15:00:00"
          ],
          [
           "Manchester City FC (6.0) - AFC Bournemouth (1.0) on 2023-11-04 15:00:00"
          ],
          [
           "Everton FC (1.0) - Brighton & Hove Albion FC (1.0) on 2023-11-04 15:00:00"
          ],
          [
           "Sheffield United FC (2.0) - Wolverhampton Wanderers FC (1.0) on 2023-11-04 15:00:00"
          ],
          [
           "Burnley FC (0.0) - Crystal Palace FC (2.0) on 2023-11-04 15:00:00"
          ],
          [
           "Newcastle United FC (1.0) - Arsenal FC (0.0) on 2023-11-04 17:30:00"
          ],
          [
           "Nottingham Forest FC (2.0) - Aston Villa FC (0.0) on 2023-11-05 14:00:00"
          ],
          [
           "Luton Town FC (1.0) - Liverpool FC (1.0) on 2023-11-05 16:30:00"
          ],
          [
           "Tottenham Hotspur FC (1.0) - Chelsea FC (4.0) on 2023-11-06 20:00:00"
          ],
          [
           "Wolverhampton Wanderers FC (2.0) - Tottenham Hotspur FC (1.0) on 2023-11-11 12:30:00"
          ],
          [
           "Crystal Palace FC (2.0) - Everton FC (3.0) on 2023-11-11 15:00:00"
          ],
          [
           "Arsenal FC (3.0) - Burnley FC (1.0) on 2023-11-11 15:00:00"
          ],
          [
           "Manchester United FC (1.0) - Luton Town FC (0.0) on 2023-11-11 15:00:00"
          ],
          [
           "AFC Bournemouth (2.0) - Newcastle United FC (0.0) on 2023-11-11 17:30:00"
          ],
          [
           "Aston Villa FC (3.0) - Fulham FC (1.0) on 2023-11-12 14:00:00"
          ],
          [
           "West Ham United FC (3.0) - Nottingham Forest FC (2.0) on 2023-11-12 14:00:00"
          ],
          [
           "Brighton & Hove Albion FC (1.0) - Sheffield United FC (1.0) on 2023-11-12 14:00:00"
          ],
          [
           "Liverpool FC (3.0) - Brentford FC (0.0) on 2023-11-12 14:00:00"
          ],
          [
           "Chelsea FC (4.0) - Manchester City FC (4.0) on 2023-11-12 16:30:00"
          ],
          [
           "Manchester City FC (1.0) - Liverpool FC (1.0) on 2023-11-25 12:30:00"
          ],
          [
           "Burnley FC (1.0) - West Ham United FC (2.0) on 2023-11-25 15:00:00"
          ],
          [
           "Luton Town FC (2.0) - Crystal Palace FC (1.0) on 2023-11-25 15:00:00"
          ],
          [
           "Newcastle United FC (4.0) - Chelsea FC (1.0) on 2023-11-25 15:00:00"
          ],
          [
           "Nottingham Forest FC (2.0) - Brighton & Hove Albion FC (3.0) on 2023-11-25 15:00:00"
          ],
          [
           "Sheffield United FC (1.0) - AFC Bournemouth (3.0) on 2023-11-25 15:00:00"
          ],
          [
           "Brentford FC (0.0) - Arsenal FC (1.0) on 2023-11-25 17:30:00"
          ],
          [
           "Tottenham Hotspur FC (1.0) - Aston Villa FC (2.0) on 2023-11-26 14:00:00"
          ],
          [
           "Everton FC (0.0) - Manchester United FC (3.0) on 2023-11-26 16:30:00"
          ],
          [
           "Fulham FC (3.0) - Wolverhampton Wanderers FC (2.0) on 2023-11-27 20:00:00"
          ],
          [
           "Burnley FC (5.0) - Sheffield United FC (0.0) on 2023-12-02 15:00:00"
          ],
          [
           "Arsenal FC (2.0) - Wolverhampton Wanderers FC (1.0) on 2023-12-02 15:00:00"
          ],
          [
           "Brentford FC (3.0) - Luton Town FC (1.0) on 2023-12-02 15:00:00"
          ],
          [
           "Nottingham Forest FC (0.0) - Everton FC (1.0) on 2023-12-02 17:30:00"
          ],
          [
           "Newcastle United FC (1.0) - Manchester United FC (0.0) on 2023-12-02 20:00:00"
          ],
          [
           "AFC Bournemouth (2.0) - Aston Villa FC (2.0) on 2023-12-03 14:00:00"
          ],
          [
           "Chelsea FC (3.0) - Brighton & Hove Albion FC (2.0) on 2023-12-03 14:00:00"
          ],
          [
           "West Ham United FC (1.0) - Crystal Palace FC (1.0) on 2023-12-03 14:00:00"
          ],
          [
           "Liverpool FC (4.0) - Fulham FC (3.0) on 2023-12-03 14:00:00"
          ],
          [
           "Manchester City FC (3.0) - Tottenham Hotspur FC (3.0) on 2023-12-03 16:30:00"
          ],
          [
           "Wolverhampton Wanderers FC (1.0) - Burnley FC (0.0) on 2023-12-05 19:30:00"
          ],
          [
           "Luton Town FC (3.0) - Arsenal FC (4.0) on 2023-12-05 20:15:00"
          ],
          [
           "Crystal Palace FC (0.0) - AFC Bournemouth (2.0) on 2023-12-06 19:30:00"
          ],
          [
           "Sheffield United FC (0.0) - Liverpool FC (2.0) on 2023-12-06 19:30:00"
          ],
          [
           "Fulham FC (5.0) - Nottingham Forest FC (0.0) on 2023-12-06 19:30:00"
          ],
          [
           "Brighton & Hove Albion FC (2.0) - Brentford FC (1.0) on 2023-12-06 19:30:00"
          ],
          [
           "Manchester United FC (2.0) - Chelsea FC (1.0) on 2023-12-06 20:15:00"
          ],
          [
           "Aston Villa FC (1.0) - Manchester City FC (0.0) on 2023-12-06 20:15:00"
          ],
          [
           "Everton FC (3.0) - Newcastle United FC (0.0) on 2023-12-07 19:30:00"
          ],
          [
           "Tottenham Hotspur FC (1.0) - West Ham United FC (2.0) on 2023-12-07 20:15:00"
          ],
          [
           "Crystal Palace FC (1.0) - Liverpool FC (2.0) on 2023-12-09 12:30:00"
          ],
          [
           "Brighton & Hove Albion FC (1.0) - Burnley FC (1.0) on 2023-12-09 15:00:00"
          ],
          [
           "Manchester United FC (0.0) - AFC Bournemouth (3.0) on 2023-12-09 15:00:00"
          ],
          [
           "Sheffield United FC (1.0) - Brentford FC (0.0) on 2023-12-09 15:00:00"
          ],
          [
           "Wolverhampton Wanderers FC (1.0) - Nottingham Forest FC (1.0) on 2023-12-09 15:00:00"
          ],
          [
           "Aston Villa FC (1.0) - Arsenal FC (0.0) on 2023-12-09 17:30:00"
          ],
          [
           "Everton FC (2.0) - Chelsea FC (0.0) on 2023-12-10 14:00:00"
          ],
          [
           "Fulham FC (5.0) - West Ham United FC (0.0) on 2023-12-10 14:00:00"
          ],
          [
           "Luton Town FC (1.0) - Manchester City FC (2.0) on 2023-12-10 14:00:00"
          ],
          [
           "Tottenham Hotspur FC (4.0) - Newcastle United FC (1.0) on 2023-12-10 16:30:00"
          ],
          [
           "Nottingham Forest FC (0.0) - Tottenham Hotspur FC (2.0) on 2023-12-15 20:00:00"
          ],
          [
           "Newcastle United FC (3.0) - Fulham FC (0.0) on 2023-12-16 15:00:00"
          ],
          [
           "Chelsea FC (2.0) - Sheffield United FC (0.0) on 2023-12-16 15:00:00"
          ],
          [
           "Manchester City FC (2.0) - Crystal Palace FC (2.0) on 2023-12-16 15:00:00"
          ],
          [
           "Burnley FC (0.0) - Everton FC (2.0) on 2023-12-16 17:30:00"
          ],
          [
           "Arsenal FC (2.0) - Brighton & Hove Albion FC (0.0) on 2023-12-17 14:00:00"
          ],
          [
           "Brentford FC (1.0) - Aston Villa FC (2.0) on 2023-12-17 14:00:00"
          ],
          [
           "West Ham United FC (3.0) - Wolverhampton Wanderers FC (0.0) on 2023-12-17 14:00:00"
          ],
          [
           "Liverpool FC (0.0) - Manchester United FC (0.0) on 2023-12-17 16:30:00"
          ],
          [
           "Crystal Palace FC (1.0) - Brighton & Hove Albion FC (1.0) on 2023-12-21 20:00:00"
          ],
          [
           "Aston Villa FC (1.0) - Sheffield United FC (1.0) on 2023-12-22 20:00:00"
          ],
          [
           "West Ham United FC (2.0) - Manchester United FC (0.0) on 2023-12-23 12:30:00"
          ],
          [
           "Fulham FC (0.0) - Burnley FC (2.0) on 2023-12-23 15:00:00"
          ],
          [
           "Luton Town FC (1.0) - Newcastle United FC (0.0) on 2023-12-23 15:00:00"
          ],
          [
           "Tottenham Hotspur FC (2.0) - Everton FC (1.0) on 2023-12-23 15:00:00"
          ],
          [
           "Nottingham Forest FC (2.0) - AFC Bournemouth (3.0) on 2023-12-23 15:00:00"
          ],
          [
           "Liverpool FC (1.0) - Arsenal FC (1.0) on 2023-12-23 17:30:00"
          ],
          [
           "Wolverhampton Wanderers FC (2.0) - Chelsea FC (1.0) on 2023-12-24 13:00:00"
          ],
          [
           "Newcastle United FC (1.0) - Nottingham Forest FC (3.0) on 2023-12-26 12:30:00"
          ],
          [
           "AFC Bournemouth (3.0) - Fulham FC (0.0) on 2023-12-26 15:00:00"
          ],
          [
           "Sheffield United FC (2.0) - Luton Town FC (3.0) on 2023-12-26 15:00:00"
          ],
          [
           "Burnley FC (0.0) - Liverpool FC (2.0) on 2023-12-26 17:30:00"
          ],
          [
           "Manchester United FC (3.0) - Aston Villa FC (2.0) on 2023-12-26 20:00:00"
          ],
          [
           "Chelsea FC (2.0) - Crystal Palace FC (1.0) on 2023-12-27 19:30:00"
          ],
          [
           "Brentford FC (1.0) - Wolverhampton Wanderers FC (4.0) on 2023-12-27 19:30:00"
          ],
          [
           "Everton FC (1.0) - Manchester City FC (3.0) on 2023-12-27 20:15:00"
          ],
          [
           "Brighton & Hove Albion FC (4.0) - Tottenham Hotspur FC (2.0) on 2023-12-28 19:30:00"
          ],
          [
           "Arsenal FC (0.0) - West Ham United FC (2.0) on 2023-12-28 20:15:00"
          ],
          [
           "Luton Town FC (2.0) - Chelsea FC (3.0) on 2023-12-30 12:30:00"
          ],
          [
           "Manchester City FC (2.0) - Sheffield United FC (0.0) on 2023-12-30 15:00:00"
          ],
          [
           "Wolverhampton Wanderers FC (3.0) - Everton FC (0.0) on 2023-12-30 15:00:00"
          ],
          [
           "Crystal Palace FC (3.0) - Brentford FC (1.0) on 2023-12-30 15:00:00"
          ],
          [
           "Aston Villa FC (3.0) - Burnley FC (2.0) on 2023-12-30 15:00:00"
          ],
          [
           "Nottingham Forest FC (2.0) - Manchester United FC (1.0) on 2023-12-30 17:30:00"
          ],
          [
           "Fulham FC (2.0) - Arsenal FC (1.0) on 2023-12-31 14:00:00"
          ],
          [
           "Tottenham Hotspur FC (3.0) - AFC Bournemouth (1.0) on 2023-12-31 14:00:00"
          ],
          [
           "Liverpool FC (4.0) - Newcastle United FC (2.0) on 2024-01-01 20:00:00"
          ],
          [
           "West Ham United FC (0.0) - Brighton & Hove Albion FC (0.0) on 2024-01-02 19:30:00"
          ],
          [
           "Burnley FC (1.0) - Luton Town FC (1.0) on 2024-01-12 19:45:00"
          ],
          [
           "Chelsea FC (1.0) - Fulham FC (0.0) on 2024-01-13 12:30:00"
          ],
          [
           "Newcastle United FC (2.0) - Manchester City FC (3.0) on 2024-01-13 17:30:00"
          ],
          [
           "Everton FC (0.0) - Aston Villa FC (0.0) on 2024-01-14 14:00:00"
          ],
          [
           "Manchester United FC (2.0) - Tottenham Hotspur FC (2.0) on 2024-01-14 16:30:00"
          ],
          [
           "Arsenal FC (5.0) - Crystal Palace FC (0.0) on 2024-01-20 12:30:00"
          ],
          [
           "Brentford FC (3.0) - Nottingham Forest FC (2.0) on 2024-01-20 17:30:00"
          ],
          [
           "Sheffield United FC (2.0) - West Ham United FC (2.0) on 2024-01-21 14:00:00"
          ],
          [
           "AFC Bournemouth (0.0) - Liverpool FC (4.0) on 2024-01-21 16:30:00"
          ],
          [
           "Brighton & Hove Albion FC (0.0) - Wolverhampton Wanderers FC (0.0) on 2024-01-22 19:45:00"
          ],
          [
           "Nottingham Forest FC (1.0) - Arsenal FC (2.0) on 2024-01-30 19:30:00"
          ],
          [
           "Luton Town FC (4.0) - Brighton & Hove Albion FC (0.0) on 2024-01-30 19:45:00"
          ],
          [
           "Fulham FC (0.0) - Everton FC (0.0) on 2024-01-30 19:45:00"
          ],
          [
           "Crystal Palace FC (3.0) - Sheffield United FC (2.0) on 2024-01-30 20:00:00"
          ],
          [
           "Aston Villa FC (1.0) - Newcastle United FC (3.0) on 2024-01-30 20:15:00"
          ],
          [
           "Manchester City FC (3.0) - Burnley FC (1.0) on 2024-01-31 19:30:00"
          ],
          [
           "Tottenham Hotspur FC (3.0) - Brentford FC (2.0) on 2024-01-31 19:30:00"
          ],
          [
           "Liverpool FC (4.0) - Chelsea FC (1.0) on 2024-01-31 20:15:00"
          ],
          [
           "West Ham United FC (1.0) - AFC Bournemouth (1.0) on 2024-02-01 19:30:00"
          ],
          [
           "Wolverhampton Wanderers FC (3.0) - Manchester United FC (4.0) on 2024-02-01 20:15:00"
          ],
          [
           "Everton FC (2.0) - Tottenham Hotspur FC (2.0) on 2024-02-03 12:30:00"
          ],
          [
           "Brighton & Hove Albion FC (4.0) - Crystal Palace FC (1.0) on 2024-02-03 15:00:00"
          ],
          [
           "Burnley FC (2.0) - Fulham FC (2.0) on 2024-02-03 15:00:00"
          ],
          [
           "Newcastle United FC (4.0) - Luton Town FC (4.0) on 2024-02-03 15:00:00"
          ],
          [
           "Sheffield United FC (0.0) - Aston Villa FC (5.0) on 2024-02-03 17:30:00"
          ],
          [
           "Manchester United FC (3.0) - West Ham United FC (0.0) on 2024-02-04 14:00:00"
          ],
          [
           "Chelsea FC (2.0) - Wolverhampton Wanderers FC (4.0) on 2024-02-04 14:00:00"
          ],
          [
           "AFC Bournemouth (1.0) - Nottingham Forest FC (1.0) on 2024-02-04 14:00:00"
          ],
          [
           "Arsenal FC (3.0) - Liverpool FC (1.0) on 2024-02-04 16:30:00"
          ],
          [
           "Brentford FC (1.0) - Manchester City FC (3.0) on 2024-02-05 20:00:00"
          ],
          [
           "Manchester City FC (2.0) - Everton FC (0.0) on 2024-02-10 12:30:00"
          ],
          [
           "Fulham FC (3.0) - AFC Bournemouth (1.0) on 2024-02-10 15:00:00"
          ],
          [
           "Liverpool FC (3.0) - Burnley FC (1.0) on 2024-02-10 15:00:00"
          ],
          [
           "Luton Town FC (1.0) - Sheffield United FC (3.0) on 2024-02-10 15:00:00"
          ],
          [
           "Tottenham Hotspur FC (2.0) - Brighton & Hove Albion FC (1.0) on 2024-02-10 15:00:00"
          ],
          [
           "Wolverhampton Wanderers FC (0.0) - Brentford FC (2.0) on 2024-02-10 15:00:00"
          ],
          [
           "Nottingham Forest FC (2.0) - Newcastle United FC (3.0) on 2024-02-10 17:30:00"
          ],
          [
           "West Ham United FC (0.0) - Arsenal FC (6.0) on 2024-02-11 14:00:00"
          ],
          [
           "Aston Villa FC (1.0) - Manchester United FC (2.0) on 2024-02-11 16:30:00"
          ],
          [
           "Crystal Palace FC (1.0) - Chelsea FC (3.0) on 2024-02-12 20:00:00"
          ],
          [
           "Brentford FC (1.0) - Liverpool FC (4.0) on 2024-02-17 12:30:00"
          ],
          [
           "Burnley FC (0.0) - Arsenal FC (5.0) on 2024-02-17 15:00:00"
          ],
          [
           "Fulham FC (1.0) - Aston Villa FC (2.0) on 2024-02-17 15:00:00"
          ],
          [
           "Newcastle United FC (2.0) - AFC Bournemouth (2.0) on 2024-02-17 15:00:00"
          ],
          [
           "Nottingham Forest FC (2.0) - West Ham United FC (0.0) on 2024-02-17 15:00:00"
          ],
          [
           "Tottenham Hotspur FC (1.0) - Wolverhampton Wanderers FC (2.0) on 2024-02-17 15:00:00"
          ],
          [
           "Manchester City FC (1.0) - Chelsea FC (1.0) on 2024-02-17 17:30:00"
          ],
          [
           "Sheffield United FC (0.0) - Brighton & Hove Albion FC (5.0) on 2024-02-18 14:00:00"
          ],
          [
           "Luton Town FC (1.0) - Manchester United FC (2.0) on 2024-02-18 16:30:00"
          ],
          [
           "Everton FC (1.0) - Crystal Palace FC (1.0) on 2024-02-19 20:00:00"
          ],
          [
           "Manchester City FC (1.0) - Brentford FC (0.0) on 2024-02-20 19:30:00"
          ],
          [
           "Liverpool FC (4.0) - Luton Town FC (1.0) on 2024-02-21 19:30:00"
          ],
          [
           "Manchester United FC (1.0) - Fulham FC (2.0) on 2024-02-24 15:00:00"
          ],
          [
           "Brighton & Hove Albion FC (1.0) - Everton FC (1.0) on 2024-02-24 15:00:00"
          ],
          [
           "Crystal Palace FC (3.0) - Burnley FC (0.0) on 2024-02-24 15:00:00"
          ],
          [
           "Aston Villa FC (4.0) - Nottingham Forest FC (2.0) on 2024-02-24 15:00:00"
          ],
          [
           "AFC Bournemouth (0.0) - Manchester City FC (1.0) on 2024-02-24 17:30:00"
          ],
          [
           "Arsenal FC (4.0) - Newcastle United FC (1.0) on 2024-02-24 20:00:00"
          ],
          [
           "Wolverhampton Wanderers FC (1.0) - Sheffield United FC (0.0) on 2024-02-25 13:30:00"
          ],
          [
           "West Ham United FC (4.0) - Brentford FC (2.0) on 2024-02-26 20:00:00"
          ],
          [
           "Fulham FC (3.0) - Brighton & Hove Albion FC (0.0) on 2024-03-02 15:00:00"
          ],
          [
           "Tottenham Hotspur FC (3.0) - Crystal Palace FC (1.0) on 2024-03-02 15:00:00"
          ],
          [
           "Brentford FC (2.0) - Chelsea FC (2.0) on 2024-03-02 15:00:00"
          ],
          [
           "Newcastle United FC (3.0) - Wolverhampton Wanderers FC (0.0) on 2024-03-02 15:00:00"
          ],
          [
           "Everton FC (1.0) - West Ham United FC (3.0) on 2024-03-02 15:00:00"
          ],
          [
           "Nottingham Forest FC (0.0) - Liverpool FC (1.0) on 2024-03-02 15:00:00"
          ],
          [
           "Luton Town FC (2.0) - Aston Villa FC (3.0) on 2024-03-02 17:30:00"
          ],
          [
           "Burnley FC (0.0) - AFC Bournemouth (2.0) on 2024-03-03 13:00:00"
          ],
          [
           "Manchester City FC (3.0) - Manchester United FC (1.0) on 2024-03-03 15:30:00"
          ],
          [
           "Sheffield United FC (0.0) - Arsenal FC (6.0) on 2024-03-04 20:00:00"
          ],
          [
           "Manchester United FC (2.0) - Everton FC (0.0) on 2024-03-09 12:30:00"
          ],
          [
           "Wolverhampton Wanderers FC (2.0) - Fulham FC (1.0) on 2024-03-09 15:00:00"
          ],
          [
           "AFC Bournemouth (2.0) - Sheffield United FC (2.0) on 2024-03-09 15:00:00"
          ],
          [
           "Crystal Palace FC (1.0) - Luton Town FC (1.0) on 2024-03-09 15:00:00"
          ],
          [
           "Arsenal FC (2.0) - Brentford FC (1.0) on 2024-03-09 17:30:00"
          ],
          [
           "Aston Villa FC (0.0) - Tottenham Hotspur FC (4.0) on 2024-03-10 13:00:00"
          ],
          [
           "Brighton & Hove Albion FC (1.0) - Nottingham Forest FC (0.0) on 2024-03-10 14:00:00"
          ],
          [
           "West Ham United FC (2.0) - Burnley FC (2.0) on 2024-03-10 14:00:00"
          ],
          [
           "Liverpool FC (1.0) - Manchester City FC (1.0) on 2024-03-10 15:45:00"
          ],
          [
           "Chelsea FC (3.0) - Newcastle United FC (2.0) on 2024-03-11 20:00:00"
          ],
          [
           "AFC Bournemouth (4.0) - Luton Town FC (3.0) on 2024-03-13 19:30:00"
          ],
          [
           "Burnley FC (2.0) - Brentford FC (1.0) on 2024-03-16 15:00:00"
          ],
          [
           "Luton Town FC (1.0) - Nottingham Forest FC (1.0) on 2024-03-16 15:00:00"
          ],
          [
           "Fulham FC (3.0) - Tottenham Hotspur FC (0.0) on 2024-03-16 17:30:00"
          ],
          [
           "West Ham United FC (1.0) - Aston Villa FC (1.0) on 2024-03-17 14:00:00"
          ],
          [
           "Newcastle United FC (4.0) - West Ham United FC (3.0) on 2024-03-30 12:30:00"
          ],
          [
           "Tottenham Hotspur FC (2.0) - Luton Town FC (1.0) on 2024-03-30 15:00:00"
          ],
          [
           "Sheffield United FC (3.0) - Fulham FC (3.0) on 2024-03-30 15:00:00"
          ],
          [
           "AFC Bournemouth (2.0) - Everton FC (1.0) on 2024-03-30 15:00:00"
          ],
          [
           "Nottingham Forest FC (1.0) - Crystal Palace FC (1.0) on 2024-03-30 15:00:00"
          ],
          [
           "Chelsea FC (2.0) - Burnley FC (2.0) on 2024-03-30 15:00:00"
          ],
          [
           "Aston Villa FC (2.0) - Wolverhampton Wanderers FC (0.0) on 2024-03-30 17:30:00"
          ],
          [
           "Brentford FC (1.0) - Manchester United FC (1.0) on 2024-03-30 20:00:00"
          ],
          [
           "Liverpool FC (2.0) - Brighton & Hove Albion FC (1.0) on 2024-03-31 13:00:00"
          ],
          [
           "Manchester City FC (0.0) - Arsenal FC (0.0) on 2024-03-31 15:30:00"
          ],
          [
           "Nottingham Forest FC (3.0) - Fulham FC (1.0) on 2024-04-02 18:30:00"
          ],
          [
           "Newcastle United FC (1.0) - Everton FC (1.0) on 2024-04-02 18:30:00"
          ],
          [
           "AFC Bournemouth (1.0) - Crystal Palace FC (0.0) on 2024-04-02 18:45:00"
          ],
          [
           "Burnley FC (1.0) - Wolverhampton Wanderers FC (1.0) on 2024-04-02 18:45:00"
          ],
          [
           "West Ham United FC (1.0) - Tottenham Hotspur FC (1.0) on 2024-04-02 19:15:00"
          ],
          [
           "Arsenal FC (2.0) - Luton Town FC (0.0) on 2024-04-03 18:30:00"
          ],
          [
           "Brentford FC (0.0) - Brighton & Hove Albion FC (0.0) on 2024-04-03 18:30:00"
          ],
          [
           "Manchester City FC (4.0) - Aston Villa FC (1.0) on 2024-04-03 19:15:00"
          ],
          [
           "Liverpool FC (3.0) - Sheffield United FC (1.0) on 2024-04-04 18:30:00"
          ],
          [
           "Chelsea FC (4.0) - Manchester United FC (3.0) on 2024-04-04 19:15:00"
          ],
          [
           "Crystal Palace FC (2.0) - Manchester City FC (4.0) on 2024-04-06 11:30:00"
          ],
          [
           "Luton Town FC (2.0) - AFC Bournemouth (1.0) on 2024-04-06 14:00:00"
          ],
          [
           "Aston Villa FC (3.0) - Brentford FC (3.0) on 2024-04-06 14:00:00"
          ],
          [
           "Everton FC (1.0) - Burnley FC (0.0) on 2024-04-06 14:00:00"
          ],
          [
           "Fulham FC (0.0) - Newcastle United FC (1.0) on 2024-04-06 14:00:00"
          ],
          [
           "Wolverhampton Wanderers FC (1.0) - West Ham United FC (2.0) on 2024-04-06 14:00:00"
          ],
          [
           "Brighton & Hove Albion FC (0.0) - Arsenal FC (3.0) on 2024-04-06 16:30:00"
          ],
          [
           "Manchester United FC (2.0) - Liverpool FC (2.0) on 2024-04-07 14:30:00"
          ],
          [
           "Sheffield United FC (2.0) - Chelsea FC (2.0) on 2024-04-07 16:30:00"
          ],
          [
           "Tottenham Hotspur FC (3.0) - Nottingham Forest FC (1.0) on 2024-04-07 17:00:00"
          ],
          [
           "Newcastle United FC (4.0) - Tottenham Hotspur FC (0.0) on 2024-04-13 11:30:00"
          ],
          [
           "Nottingham Forest FC (2.0) - Wolverhampton Wanderers FC (2.0) on 2024-04-13 14:00:00"
          ],
          [
           "Brentford FC (2.0) - Sheffield United FC (0.0) on 2024-04-13 14:00:00"
          ],
          [
           "Burnley FC (1.0) - Brighton & Hove Albion FC (1.0) on 2024-04-13 14:00:00"
          ],
          [
           "Manchester City FC (5.0) - Luton Town FC (1.0) on 2024-04-13 14:00:00"
          ],
          [
           "AFC Bournemouth (2.0) - Manchester United FC (2.0) on 2024-04-13 16:30:00"
          ],
          [
           "Liverpool FC (0.0) - Crystal Palace FC (1.0) on 2024-04-14 13:00:00"
          ],
          [
           "West Ham United FC (0.0) - Fulham FC (2.0) on 2024-04-14 13:00:00"
          ],
          [
           "Arsenal FC (0.0) - Aston Villa FC (2.0) on 2024-04-14 15:30:00"
          ],
          [
           "Chelsea FC (6.0) - Everton FC (0.0) on 2024-04-15 19:00:00"
          ],
          [
           "Sheffield United FC (1.0) - Burnley FC (4.0) on 2024-04-20 14:00:00"
          ],
          [
           "Luton Town FC (1.0) - Brentford FC (5.0) on 2024-04-20 14:00:00"
          ],
          [
           "Wolverhampton Wanderers FC (0.0) - Arsenal FC (2.0) on 2024-04-20 18:30:00"
          ],
          [
           "Everton FC (2.0) - Nottingham Forest FC (0.0) on 2024-04-21 12:30:00"
          ],
          [
           "Aston Villa FC (3.0) - AFC Bournemouth (1.0) on 2024-04-21 14:00:00"
          ],
          [
           "Crystal Palace FC (5.0) - West Ham United FC (2.0) on 2024-04-21 14:00:00"
          ],
          [
           "Fulham FC (1.0) - Liverpool FC (3.0) on 2024-04-21 15:30:00"
          ],
          [
           "Arsenal FC (5.0) - Chelsea FC (0.0) on 2024-04-23 19:00:00"
          ],
          [
           "Wolverhampton Wanderers FC (0.0) - AFC Bournemouth (1.0) on 2024-04-24 18:45:00"
          ],
          [
           "Crystal Palace FC (2.0) - Newcastle United FC (0.0) on 2024-04-24 19:00:00"
          ],
          [
           "Everton FC (2.0) - Liverpool FC (0.0) on 2024-04-24 19:00:00"
          ],
          [
           "Manchester United FC (4.0) - Sheffield United FC (2.0) on 2024-04-24 19:00:00"
          ],
          [
           "Brighton & Hove Albion FC (0.0) - Manchester City FC (4.0) on 2024-04-25 19:00:00"
          ],
          [
           "West Ham United FC (2.0) - Liverpool FC (2.0) on 2024-04-27 11:30:00"
          ],
          [
           "Newcastle United FC (5.0) - Sheffield United FC (1.0) on 2024-04-27 14:00:00"
          ],
          [
           "Manchester United FC (1.0) - Burnley FC (1.0) on 2024-04-27 14:00:00"
          ],
          [
           "Fulham FC (1.0) - Crystal Palace FC (1.0) on 2024-04-27 14:00:00"
          ],
          [
           "Wolverhampton Wanderers FC (2.0) - Luton Town FC (1.0) on 2024-04-27 14:00:00"
          ],
          [
           "Everton FC (1.0) - Brentford FC (0.0) on 2024-04-27 16:30:00"
          ],
          [
           "Aston Villa FC (2.0) - Chelsea FC (2.0) on 2024-04-27 19:00:00"
          ],
          [
           "Tottenham Hotspur FC (2.0) - Arsenal FC (3.0) on 2024-04-28 13:00:00"
          ],
          [
           "AFC Bournemouth (3.0) - Brighton & Hove Albion FC (0.0) on 2024-04-28 13:00:00"
          ],
          [
           "Nottingham Forest FC (0.0) - Manchester City FC (2.0) on 2024-04-28 15:30:00"
          ],
          [
           "Chelsea FC (2.0) - Tottenham Hotspur FC (0.0) on 2024-05-02 18:30:00"
          ],
          [
           "Luton Town FC (1.0) - Everton FC (1.0) on 2024-05-03 19:00:00"
          ],
          [
           "Arsenal FC (3.0) - AFC Bournemouth (0.0) on 2024-05-04 11:30:00"
          ],
          [
           "Brentford FC (0.0) - Fulham FC (0.0) on 2024-05-04 14:00:00"
          ],
          [
           "Burnley FC (1.0) - Newcastle United FC (4.0) on 2024-05-04 14:00:00"
          ],
          [
           "Sheffield United FC (1.0) - Nottingham Forest FC (3.0) on 2024-05-04 14:00:00"
          ],
          [
           "Manchester City FC (5.0) - Wolverhampton Wanderers FC (1.0) on 2024-05-04 16:30:00"
          ],
          [
           "Brighton & Hove Albion FC (1.0) - Aston Villa FC (0.0) on 2024-05-05 13:00:00"
          ],
          [
           "Chelsea FC (5.0) - West Ham United FC (0.0) on 2024-05-05 13:00:00"
          ],
          [
           "Liverpool FC (4.0) - Tottenham Hotspur FC (2.0) on 2024-05-05 15:30:00"
          ],
          [
           "Crystal Palace FC (4.0) - Manchester United FC (0.0) on 2024-05-06 19:00:00"
          ],
          [
           "Fulham FC (0.0) - Manchester City FC (4.0) on 2024-05-11 11:30:00"
          ],
          [
           "Everton FC (1.0) - Sheffield United FC (0.0) on 2024-05-11 14:00:00"
          ],
          [
           "Newcastle United FC (1.0) - Brighton & Hove Albion FC (1.0) on 2024-05-11 14:00:00"
          ],
          [
           "Tottenham Hotspur FC (2.0) - Burnley FC (1.0) on 2024-05-11 14:00:00"
          ],
          [
           "West Ham United FC (3.0) - Luton Town FC (1.0) on 2024-05-11 14:00:00"
          ],
          [
           "Wolverhampton Wanderers FC (1.0) - Crystal Palace FC (3.0) on 2024-05-11 14:00:00"
          ],
          [
           "AFC Bournemouth (1.0) - Brentford FC (2.0) on 2024-05-11 14:00:00"
          ],
          [
           "Nottingham Forest FC (2.0) - Chelsea FC (3.0) on 2024-05-11 16:30:00"
          ],
          [
           "Manchester United FC (0.0) - Arsenal FC (1.0) on 2024-05-12 15:30:00"
          ],
          [
           "Aston Villa FC (3.0) - Liverpool FC (3.0) on 2024-05-13 19:00:00"
          ],
          [
           "Tottenham Hotspur FC (0.0) - Manchester City FC (2.0) on 2024-05-14 19:00:00"
          ],
          [
           "Brighton & Hove Albion FC (1.0) - Chelsea FC (2.0) on 2024-05-15 18:45:00"
          ],
          [
           "Manchester United FC (3.0) - Newcastle United FC (2.0) on 2024-05-15 19:00:00"
          ],
          [
           "Brighton & Hove Albion FC (0.0) - Manchester United FC (2.0) on 2024-05-19 15:00:00"
          ],
          [
           "Arsenal FC (2.0) - Everton FC (1.0) on 2024-05-19 15:00:00"
          ],
          [
           "Burnley FC (1.0) - Nottingham Forest FC (2.0) on 2024-05-19 15:00:00"
          ],
          [
           "Crystal Palace FC (5.0) - Aston Villa FC (0.0) on 2024-05-19 15:00:00"
          ],
          [
           "Liverpool FC (2.0) - Wolverhampton Wanderers FC (0.0) on 2024-05-19 15:00:00"
          ],
          [
           "Luton Town FC (2.0) - Fulham FC (4.0) on 2024-05-19 15:00:00"
          ],
          [
           "Sheffield United FC (0.0) - Tottenham Hotspur FC (3.0) on 2024-05-19 15:00:00"
          ],
          [
           "Manchester City FC (3.0) - West Ham United FC (1.0) on 2024-05-19 15:00:00"
          ],
          [
           "Chelsea FC (2.0) - AFC Bournemouth (1.0) on 2024-05-19 15:00:00"
          ],
          [
           "Brentford FC (2.0) - Newcastle United FC (4.0) on 2024-05-19 15:00:00"
          ],
          [
           "Burnley FC (0.0) - Manchester City FC (3.0) on 2023-08-11 19:00:00"
          ],
          [
           "Arsenal FC (2.0) - Nottingham Forest FC (1.0) on 2023-08-12 12:00:00"
          ],
          [
           "AFC Bournemouth (1.0) - West Ham United FC (1.0) on 2023-08-12 14:00:00"
          ],
          [
           "Sheffield United FC (0.0) - Crystal Palace FC (1.0) on 2023-08-12 14:00:00"
          ],
          [
           "Everton FC (0.0) - Fulham FC (1.0) on 2023-08-12 14:00:00"
          ],
          [
           "Brighton & Hove Albion FC (4.0) - Luton Town FC (1.0) on 2023-08-12 14:00:00"
          ],
          [
           "Newcastle United FC (5.0) - Aston Villa FC (1.0) on 2023-08-12 16:30:00"
          ],
          [
           "Brentford FC (2.0) - Tottenham Hotspur FC (2.0) on 2023-08-13 13:00:00"
          ],
          [
           "Chelsea FC (1.0) - Liverpool FC (1.0) on 2023-08-13 15:30:00"
          ],
          [
           "Manchester United FC (1.0) - Wolverhampton Wanderers FC (0.0) on 2023-08-14 19:00:00"
          ],
          [
           "Nottingham Forest FC (2.0) - Sheffield United FC (1.0) on 2023-08-18 18:45:00"
          ],
          [
           "Liverpool FC (3.0) - AFC Bournemouth (1.0) on 2023-08-19 14:00:00"
          ],
          [
           "Fulham FC (0.0) - Brentford FC (3.0) on 2023-08-19 14:00:00"
          ],
          [
           "Wolverhampton Wanderers FC (1.0) - Brighton & Hove Albion FC (4.0) on 2023-08-19 14:00:00"
          ],
          [
           "Tottenham Hotspur FC (2.0) - Manchester United FC (0.0) on 2023-08-19 16:30:00"
          ],
          [
           "Manchester City FC (1.0) - Newcastle United FC (0.0) on 2023-08-19 19:00:00"
          ],
          [
           "Aston Villa FC (4.0) - Everton FC (0.0) on 2023-08-20 13:00:00"
          ],
          [
           "West Ham United FC (3.0) - Chelsea FC (1.0) on 2023-08-20 15:30:00"
          ],
          [
           "Crystal Palace FC (0.0) - Arsenal FC (1.0) on 2023-08-21 19:00:00"
          ],
          [
           "Chelsea FC (3.0) - Luton Town FC (0.0) on 2023-08-25 19:00:00"
          ],
          [
           "AFC Bournemouth (0.0) - Tottenham Hotspur FC (2.0) on 2023-08-26 11:30:00"
          ],
          [
           "Everton FC (0.0) - Wolverhampton Wanderers FC (1.0) on 2023-08-26 14:00:00"
          ],
          [
           "Brentford FC (1.0) - Crystal Palace FC (1.0) on 2023-08-26 14:00:00"
          ],
          [
           "Arsenal FC (2.0) - Fulham FC (2.0) on 2023-08-26 14:00:00"
          ],
          [
           "Manchester United FC (3.0) - Nottingham Forest FC (2.0) on 2023-08-26 14:00:00"
          ],
          [
           "Brighton & Hove Albion FC (1.0) - West Ham United FC (3.0) on 2023-08-26 16:30:00"
          ],
          [
           "Sheffield United FC (1.0) - Manchester City FC (2.0) on 2023-08-27 13:00:00"
          ],
          [
           "Burnley FC (1.0) - Aston Villa FC (3.0) on 2023-08-27 13:00:00"
          ],
          [
           "Newcastle United FC (1.0) - Liverpool FC (2.0) on 2023-08-27 15:30:00"
          ],
          [
           "Luton Town FC (1.0) - West Ham United FC (2.0) on 2023-09-01 19:00:00"
          ],
          [
           "Sheffield United FC (2.0) - Everton FC (2.0) on 2023-09-02 11:30:00"
          ],
          [
           "Chelsea FC (0.0) - Nottingham Forest FC (1.0) on 2023-09-02 14:00:00"
          ],
          [
           "Manchester City FC (5.0) - Fulham FC (1.0) on 2023-09-02 14:00:00"
          ],
          [
           "Burnley FC (2.0) - Tottenham Hotspur FC (5.0) on 2023-09-02 14:00:00"
          ],
          [
           "Brentford FC (2.0) - AFC Bournemouth (2.0) on 2023-09-02 14:00:00"
          ],
          [
           "Brighton & Hove Albion FC (3.0) - Newcastle United FC (1.0) on 2023-09-02 16:30:00"
          ],
          [
           "Crystal Palace FC (3.0) - Wolverhampton Wanderers FC (2.0) on 2023-09-03 13:00:00"
          ],
          [
           "Liverpool FC (3.0) - Aston Villa FC (0.0) on 2023-09-03 13:00:00"
          ],
          [
           "Arsenal FC (3.0) - Manchester United FC (1.0) on 2023-09-03 15:30:00"
          ],
          [
           "Wolverhampton Wanderers FC (1.0) - Liverpool FC (3.0) on 2023-09-16 11:30:00"
          ],
          [
           "Aston Villa FC (3.0) - Crystal Palace FC (1.0) on 2023-09-16 14:00:00"
          ],
          [
           "Fulham FC (1.0) - Luton Town FC (0.0) on 2023-09-16 14:00:00"
          ],
          [
           "Manchester United FC (1.0) - Brighton & Hove Albion FC (3.0) on 2023-09-16 14:00:00"
          ],
          [
           "Tottenham Hotspur FC (2.0) - Sheffield United FC (1.0) on 2023-09-16 14:00:00"
          ],
          [
           "West Ham United FC (1.0) - Manchester City FC (3.0) on 2023-09-16 14:00:00"
          ],
          [
           "Newcastle United FC (1.0) - Brentford FC (0.0) on 2023-09-16 16:30:00"
          ],
          [
           "AFC Bournemouth (0.0) - Chelsea FC (0.0) on 2023-09-17 13:00:00"
          ],
          [
           "Everton FC (0.0) - Arsenal FC (1.0) on 2023-09-17 15:30:00"
          ],
          [
           "Nottingham Forest FC (1.0) - Burnley FC (1.0) on 2023-09-18 18:45:00"
          ],
          [
           "Luton Town FC (1.0) - Wolverhampton Wanderers FC (1.0) on 2023-09-23 14:00:00"
          ],
          [
           "Manchester City FC (2.0) - Nottingham Forest FC (0.0) on 2023-09-23 14:00:00"
          ],
          [
           "Crystal Palace FC (0.0) - Fulham FC (0.0) on 2023-09-23 14:00:00"
          ],
          [
           "Brentford FC (1.0) - Everton FC (3.0) on 2023-09-23 16:30:00"
          ],
          [
           "Burnley FC (0.0) - Manchester United FC (1.0) on 2023-09-23 19:00:00"
          ],
          [
           "Chelsea FC (0.0) - Aston Villa FC (1.0) on 2023-09-24 13:00:00"
          ],
          [
           "Liverpool FC (3.0) - West Ham United FC (1.0) on 2023-09-24 13:00:00"
          ],
          [
           "Arsenal FC (2.0) - Tottenham Hotspur FC (2.0) on 2023-09-24 13:00:00"
          ],
          [
           "Brighton & Hove Albion FC (3.0) - AFC Bournemouth (1.0) on 2023-09-24 13:00:00"
          ],
          [
           "Sheffield United FC (0.0) - Newcastle United FC (8.0) on 2023-09-24 15:30:00"
          ],
          [
           "Aston Villa FC (6.0) - Brighton & Hove Albion FC (1.0) on 2023-09-30 11:30:00"
          ],
          [
           "West Ham United FC (2.0) - Sheffield United FC (0.0) on 2023-09-30 14:00:00"
          ],
          [
           "Newcastle United FC (2.0) - Burnley FC (0.0) on 2023-09-30 14:00:00"
          ],
          [
           "Manchester United FC (0.0) - Crystal Palace FC (1.0) on 2023-09-30 14:00:00"
          ],
          [
           "Wolverhampton Wanderers FC (2.0) - Manchester City FC (1.0) on 2023-09-30 14:00:00"
          ],
          [
           "AFC Bournemouth (0.0) - Arsenal FC (4.0) on 2023-09-30 14:00:00"
          ],
          [
           "Everton FC (1.0) - Luton Town FC (2.0) on 2023-09-30 14:00:00"
          ],
          [
           "Tottenham Hotspur FC (2.0) - Liverpool FC (1.0) on 2023-09-30 16:30:00"
          ],
          [
           "Nottingham Forest FC (1.0) - Brentford FC (1.0) on 2023-10-01 13:00:00"
          ],
          [
           "Fulham FC (0.0) - Chelsea FC (2.0) on 2023-10-02 19:00:00"
          ],
          [
           "Luton Town FC (1.0) - Burnley FC (2.0) on 2023-10-03 18:30:00"
          ],
          [
           "Luton Town FC (0.0) - Tottenham Hotspur FC (1.0) on 2023-10-07 11:30:00"
          ],
          [
           "Everton FC (3.0) - AFC Bournemouth (0.0) on 2023-10-07 14:00:00"
          ],
          [
           "Burnley FC (1.0) - Chelsea FC (4.0) on 2023-10-07 14:00:00"
          ],
          [
           "Fulham FC (3.0) - Sheffield United FC (1.0) on 2023-10-07 14:00:00"
          ],
          [
           "Manchester United FC (2.0) - Brentford FC (1.0) on 2023-10-07 14:00:00"
          ],
          [
           "Crystal Palace FC (0.0) - Nottingham Forest FC (0.0) on 2023-10-07 16:30:00"
          ],
          [
           "Brighton & Hove Albion FC (2.0) - Liverpool FC (2.0) on 2023-10-08 13:00:00"
          ],
          [
           "West Ham United FC (2.0) - Newcastle United FC (2.0) on 2023-10-08 13:00:00"
          ],
          [
           "Wolverhampton Wanderers FC (1.0) - Aston Villa FC (1.0) on 2023-10-08 13:00:00"
          ],
          [
           "Arsenal FC (1.0) - Manchester City FC (0.0) on 2023-10-08 15:30:00"
          ],
          [
           "Liverpool FC (2.0) - Everton FC (0.0) on 2023-10-21 11:30:00"
          ],
          [
           "Brentford FC (3.0) - Burnley FC (0.0) on 2023-10-21 14:00:00"
          ],
          [
           "Nottingham Forest FC (2.0) - Luton Town FC (2.0) on 2023-10-21 14:00:00"
          ],
          [
           "AFC Bournemouth (1.0) - Wolverhampton Wanderers FC (2.0) on 2023-10-21 14:00:00"
          ],
          [
           "Manchester City FC (2.0) - Brighton & Hove Albion FC (1.0) on 2023-10-21 14:00:00"
          ],
          [
           "Newcastle United FC (4.0) - Crystal Palace FC (0.0) on 2023-10-21 14:00:00"
          ],
          [
           "Chelsea FC (2.0) - Arsenal FC (2.0) on 2023-10-21 16:30:00"
          ],
          [
           "Sheffield United FC (1.0) - Manchester United FC (2.0) on 2023-10-21 19:00:00"
          ],
          [
           "Aston Villa FC (4.0) - West Ham United FC (1.0) on 2023-10-22 15:30:00"
          ],
          [
           "Tottenham Hotspur FC (2.0) - Fulham FC (0.0) on 2023-10-23 19:00:00"
          ],
          [
           "Crystal Palace FC (1.0) - Tottenham Hotspur FC (2.0) on 2023-10-27 19:00:00"
          ],
          [
           "Chelsea FC (0.0) - Brentford FC (2.0) on 2023-10-28 11:30:00"
          ],
          [
           "AFC Bournemouth (2.0) - Burnley FC (1.0) on 2023-10-28 14:00:00"
          ],
          [
           "Arsenal FC (5.0) - Sheffield United FC (0.0) on 2023-10-28 14:00:00"
          ],
          [
           "Wolverhampton Wanderers FC (2.0) - Newcastle United FC (2.0) on 2023-10-28 16:30:00"
          ],
          [
           "West Ham United FC (0.0) - Everton FC (1.0) on 2023-10-29 13:00:00"
          ],
          [
           "Liverpool FC (3.0) - Nottingham Forest FC (0.0) on 2023-10-29 14:00:00"
          ],
          [
           "Brighton & Hove Albion FC (1.0) - Fulham FC (1.0) on 2023-10-29 14:00:00"
          ],
          [
           "Aston Villa FC (3.0) - Luton Town FC (1.0) on 2023-10-29 14:00:00"
          ],
          [
           "Manchester United FC (0.0) - Manchester City FC (3.0) on 2023-10-29 15:30:00"
          ],
          [
           "Fulham FC (0.0) - Manchester United FC (1.0) on 2023-11-04 12:30:00"
          ],
          [
           "Brentford FC (3.0) - West Ham United FC (2.0) on 2023-11-04 15:00:00"
          ],
          [
           "Manchester City FC (6.0) - AFC Bournemouth (1.0) on 2023-11-04 15:00:00"
          ],
          [
           "Everton FC (1.0) - Brighton & Hove Albion FC (1.0) on 2023-11-04 15:00:00"
          ],
          [
           "Sheffield United FC (2.0) - Wolverhampton Wanderers FC (1.0) on 2023-11-04 15:00:00"
          ],
          [
           "Burnley FC (0.0) - Crystal Palace FC (2.0) on 2023-11-04 15:00:00"
          ],
          [
           "Newcastle United FC (1.0) - Arsenal FC (0.0) on 2023-11-04 17:30:00"
          ],
          [
           "Nottingham Forest FC (2.0) - Aston Villa FC (0.0) on 2023-11-05 14:00:00"
          ],
          [
           "Luton Town FC (1.0) - Liverpool FC (1.0) on 2023-11-05 16:30:00"
          ],
          [
           "Tottenham Hotspur FC (1.0) - Chelsea FC (4.0) on 2023-11-06 20:00:00"
          ],
          [
           "Wolverhampton Wanderers FC (2.0) - Tottenham Hotspur FC (1.0) on 2023-11-11 12:30:00"
          ],
          [
           "Crystal Palace FC (2.0) - Everton FC (3.0) on 2023-11-11 15:00:00"
          ],
          [
           "Arsenal FC (3.0) - Burnley FC (1.0) on 2023-11-11 15:00:00"
          ],
          [
           "Manchester United FC (1.0) - Luton Town FC (0.0) on 2023-11-11 15:00:00"
          ],
          [
           "AFC Bournemouth (2.0) - Newcastle United FC (0.0) on 2023-11-11 17:30:00"
          ],
          [
           "Aston Villa FC (3.0) - Fulham FC (1.0) on 2023-11-12 14:00:00"
          ],
          [
           "West Ham United FC (3.0) - Nottingham Forest FC (2.0) on 2023-11-12 14:00:00"
          ],
          [
           "Brighton & Hove Albion FC (1.0) - Sheffield United FC (1.0) on 2023-11-12 14:00:00"
          ],
          [
           "Liverpool FC (3.0) - Brentford FC (0.0) on 2023-11-12 14:00:00"
          ],
          [
           "Chelsea FC (4.0) - Manchester City FC (4.0) on 2023-11-12 16:30:00"
          ],
          [
           "Manchester City FC (1.0) - Liverpool FC (1.0) on 2023-11-25 12:30:00"
          ],
          [
           "Burnley FC (1.0) - West Ham United FC (2.0) on 2023-11-25 15:00:00"
          ],
          [
           "Luton Town FC (2.0) - Crystal Palace FC (1.0) on 2023-11-25 15:00:00"
          ],
          [
           "Newcastle United FC (4.0) - Chelsea FC (1.0) on 2023-11-25 15:00:00"
          ],
          [
           "Nottingham Forest FC (2.0) - Brighton & Hove Albion FC (3.0) on 2023-11-25 15:00:00"
          ],
          [
           "Sheffield United FC (1.0) - AFC Bournemouth (3.0) on 2023-11-25 15:00:00"
          ],
          [
           "Brentford FC (0.0) - Arsenal FC (1.0) on 2023-11-25 17:30:00"
          ],
          [
           "Tottenham Hotspur FC (1.0) - Aston Villa FC (2.0) on 2023-11-26 14:00:00"
          ],
          [
           "Everton FC (0.0) - Manchester United FC (3.0) on 2023-11-26 16:30:00"
          ],
          [
           "Fulham FC (3.0) - Wolverhampton Wanderers FC (2.0) on 2023-11-27 20:00:00"
          ],
          [
           "Burnley FC (5.0) - Sheffield United FC (0.0) on 2023-12-02 15:00:00"
          ],
          [
           "Arsenal FC (2.0) - Wolverhampton Wanderers FC (1.0) on 2023-12-02 15:00:00"
          ],
          [
           "Brentford FC (3.0) - Luton Town FC (1.0) on 2023-12-02 15:00:00"
          ],
          [
           "Nottingham Forest FC (0.0) - Everton FC (1.0) on 2023-12-02 17:30:00"
          ],
          [
           "Newcastle United FC (1.0) - Manchester United FC (0.0) on 2023-12-02 20:00:00"
          ],
          [
           "AFC Bournemouth (2.0) - Aston Villa FC (2.0) on 2023-12-03 14:00:00"
          ],
          [
           "Chelsea FC (3.0) - Brighton & Hove Albion FC (2.0) on 2023-12-03 14:00:00"
          ],
          [
           "West Ham United FC (1.0) - Crystal Palace FC (1.0) on 2023-12-03 14:00:00"
          ],
          [
           "Liverpool FC (4.0) - Fulham FC (3.0) on 2023-12-03 14:00:00"
          ],
          [
           "Manchester City FC (3.0) - Tottenham Hotspur FC (3.0) on 2023-12-03 16:30:00"
          ],
          [
           "Wolverhampton Wanderers FC (1.0) - Burnley FC (0.0) on 2023-12-05 19:30:00"
          ],
          [
           "Luton Town FC (3.0) - Arsenal FC (4.0) on 2023-12-05 20:15:00"
          ],
          [
           "Crystal Palace FC (0.0) - AFC Bournemouth (2.0) on 2023-12-06 19:30:00"
          ],
          [
           "Sheffield United FC (0.0) - Liverpool FC (2.0) on 2023-12-06 19:30:00"
          ],
          [
           "Fulham FC (5.0) - Nottingham Forest FC (0.0) on 2023-12-06 19:30:00"
          ],
          [
           "Brighton & Hove Albion FC (2.0) - Brentford FC (1.0) on 2023-12-06 19:30:00"
          ],
          [
           "Manchester United FC (2.0) - Chelsea FC (1.0) on 2023-12-06 20:15:00"
          ],
          [
           "Aston Villa FC (1.0) - Manchester City FC (0.0) on 2023-12-06 20:15:00"
          ],
          [
           "Everton FC (3.0) - Newcastle United FC (0.0) on 2023-12-07 19:30:00"
          ],
          [
           "Tottenham Hotspur FC (1.0) - West Ham United FC (2.0) on 2023-12-07 20:15:00"
          ],
          [
           "Crystal Palace FC (1.0) - Liverpool FC (2.0) on 2023-12-09 12:30:00"
          ],
          [
           "Brighton & Hove Albion FC (1.0) - Burnley FC (1.0) on 2023-12-09 15:00:00"
          ],
          [
           "Manchester United FC (0.0) - AFC Bournemouth (3.0) on 2023-12-09 15:00:00"
          ],
          [
           "Sheffield United FC (1.0) - Brentford FC (0.0) on 2023-12-09 15:00:00"
          ],
          [
           "Wolverhampton Wanderers FC (1.0) - Nottingham Forest FC (1.0) on 2023-12-09 15:00:00"
          ],
          [
           "Aston Villa FC (1.0) - Arsenal FC (0.0) on 2023-12-09 17:30:00"
          ],
          [
           "Everton FC (2.0) - Chelsea FC (0.0) on 2023-12-10 14:00:00"
          ],
          [
           "Fulham FC (5.0) - West Ham United FC (0.0) on 2023-12-10 14:00:00"
          ],
          [
           "Luton Town FC (1.0) - Manchester City FC (2.0) on 2023-12-10 14:00:00"
          ],
          [
           "Tottenham Hotspur FC (4.0) - Newcastle United FC (1.0) on 2023-12-10 16:30:00"
          ],
          [
           "Nottingham Forest FC (0.0) - Tottenham Hotspur FC (2.0) on 2023-12-15 20:00:00"
          ],
          [
           "Newcastle United FC (3.0) - Fulham FC (0.0) on 2023-12-16 15:00:00"
          ],
          [
           "Chelsea FC (2.0) - Sheffield United FC (0.0) on 2023-12-16 15:00:00"
          ],
          [
           "Manchester City FC (2.0) - Crystal Palace FC (2.0) on 2023-12-16 15:00:00"
          ],
          [
           "Burnley FC (0.0) - Everton FC (2.0) on 2023-12-16 17:30:00"
          ],
          [
           "Arsenal FC (2.0) - Brighton & Hove Albion FC (0.0) on 2023-12-17 14:00:00"
          ],
          [
           "Brentford FC (1.0) - Aston Villa FC (2.0) on 2023-12-17 14:00:00"
          ],
          [
           "West Ham United FC (3.0) - Wolverhampton Wanderers FC (0.0) on 2023-12-17 14:00:00"
          ],
          [
           "Liverpool FC (0.0) - Manchester United FC (0.0) on 2023-12-17 16:30:00"
          ],
          [
           "Crystal Palace FC (1.0) - Brighton & Hove Albion FC (1.0) on 2023-12-21 20:00:00"
          ],
          [
           "Aston Villa FC (1.0) - Sheffield United FC (1.0) on 2023-12-22 20:00:00"
          ],
          [
           "West Ham United FC (2.0) - Manchester United FC (0.0) on 2023-12-23 12:30:00"
          ],
          [
           "Fulham FC (0.0) - Burnley FC (2.0) on 2023-12-23 15:00:00"
          ],
          [
           "Luton Town FC (1.0) - Newcastle United FC (0.0) on 2023-12-23 15:00:00"
          ],
          [
           "Tottenham Hotspur FC (2.0) - Everton FC (1.0) on 2023-12-23 15:00:00"
          ],
          [
           "Nottingham Forest FC (2.0) - AFC Bournemouth (3.0) on 2023-12-23 15:00:00"
          ],
          [
           "Liverpool FC (1.0) - Arsenal FC (1.0) on 2023-12-23 17:30:00"
          ],
          [
           "Wolverhampton Wanderers FC (2.0) - Chelsea FC (1.0) on 2023-12-24 13:00:00"
          ],
          [
           "Newcastle United FC (1.0) - Nottingham Forest FC (3.0) on 2023-12-26 12:30:00"
          ],
          [
           "AFC Bournemouth (3.0) - Fulham FC (0.0) on 2023-12-26 15:00:00"
          ],
          [
           "Sheffield United FC (2.0) - Luton Town FC (3.0) on 2023-12-26 15:00:00"
          ],
          [
           "Burnley FC (0.0) - Liverpool FC (2.0) on 2023-12-26 17:30:00"
          ],
          [
           "Manchester United FC (3.0) - Aston Villa FC (2.0) on 2023-12-26 20:00:00"
          ],
          [
           "Chelsea FC (2.0) - Crystal Palace FC (1.0) on 2023-12-27 19:30:00"
          ],
          [
           "Brentford FC (1.0) - Wolverhampton Wanderers FC (4.0) on 2023-12-27 19:30:00"
          ],
          [
           "Everton FC (1.0) - Manchester City FC (3.0) on 2023-12-27 20:15:00"
          ],
          [
           "Brighton & Hove Albion FC (4.0) - Tottenham Hotspur FC (2.0) on 2023-12-28 19:30:00"
          ],
          [
           "Arsenal FC (0.0) - West Ham United FC (2.0) on 2023-12-28 20:15:00"
          ],
          [
           "Luton Town FC (2.0) - Chelsea FC (3.0) on 2023-12-30 12:30:00"
          ],
          [
           "Manchester City FC (2.0) - Sheffield United FC (0.0) on 2023-12-30 15:00:00"
          ],
          [
           "Wolverhampton Wanderers FC (3.0) - Everton FC (0.0) on 2023-12-30 15:00:00"
          ],
          [
           "Crystal Palace FC (3.0) - Brentford FC (1.0) on 2023-12-30 15:00:00"
          ],
          [
           "Aston Villa FC (3.0) - Burnley FC (2.0) on 2023-12-30 15:00:00"
          ],
          [
           "Nottingham Forest FC (2.0) - Manchester United FC (1.0) on 2023-12-30 17:30:00"
          ],
          [
           "Fulham FC (2.0) - Arsenal FC (1.0) on 2023-12-31 14:00:00"
          ],
          [
           "Tottenham Hotspur FC (3.0) - AFC Bournemouth (1.0) on 2023-12-31 14:00:00"
          ],
          [
           "Liverpool FC (4.0) - Newcastle United FC (2.0) on 2024-01-01 20:00:00"
          ],
          [
           "West Ham United FC (0.0) - Brighton & Hove Albion FC (0.0) on 2024-01-02 19:30:00"
          ],
          [
           "Burnley FC (1.0) - Luton Town FC (1.0) on 2024-01-12 19:45:00"
          ],
          [
           "Chelsea FC (1.0) - Fulham FC (0.0) on 2024-01-13 12:30:00"
          ],
          [
           "Newcastle United FC (2.0) - Manchester City FC (3.0) on 2024-01-13 17:30:00"
          ],
          [
           "Everton FC (0.0) - Aston Villa FC (0.0) on 2024-01-14 14:00:00"
          ],
          [
           "Manchester United FC (2.0) - Tottenham Hotspur FC (2.0) on 2024-01-14 16:30:00"
          ],
          [
           "Arsenal FC (5.0) - Crystal Palace FC (0.0) on 2024-01-20 12:30:00"
          ],
          [
           "Brentford FC (3.0) - Nottingham Forest FC (2.0) on 2024-01-20 17:30:00"
          ],
          [
           "Sheffield United FC (2.0) - West Ham United FC (2.0) on 2024-01-21 14:00:00"
          ],
          [
           "AFC Bournemouth (0.0) - Liverpool FC (4.0) on 2024-01-21 16:30:00"
          ],
          [
           "Brighton & Hove Albion FC (0.0) - Wolverhampton Wanderers FC (0.0) on 2024-01-22 19:45:00"
          ],
          [
           "Nottingham Forest FC (1.0) - Arsenal FC (2.0) on 2024-01-30 19:30:00"
          ],
          [
           "Luton Town FC (4.0) - Brighton & Hove Albion FC (0.0) on 2024-01-30 19:45:00"
          ],
          [
           "Fulham FC (0.0) - Everton FC (0.0) on 2024-01-30 19:45:00"
          ],
          [
           "Crystal Palace FC (3.0) - Sheffield United FC (2.0) on 2024-01-30 20:00:00"
          ],
          [
           "Aston Villa FC (1.0) - Newcastle United FC (3.0) on 2024-01-30 20:15:00"
          ],
          [
           "Manchester City FC (3.0) - Burnley FC (1.0) on 2024-01-31 19:30:00"
          ],
          [
           "Tottenham Hotspur FC (3.0) - Brentford FC (2.0) on 2024-01-31 19:30:00"
          ],
          [
           "Liverpool FC (4.0) - Chelsea FC (1.0) on 2024-01-31 20:15:00"
          ],
          [
           "West Ham United FC (1.0) - AFC Bournemouth (1.0) on 2024-02-01 19:30:00"
          ],
          [
           "Wolverhampton Wanderers FC (3.0) - Manchester United FC (4.0) on 2024-02-01 20:15:00"
          ],
          [
           "Everton FC (2.0) - Tottenham Hotspur FC (2.0) on 2024-02-03 12:30:00"
          ],
          [
           "Brighton & Hove Albion FC (4.0) - Crystal Palace FC (1.0) on 2024-02-03 15:00:00"
          ],
          [
           "Burnley FC (2.0) - Fulham FC (2.0) on 2024-02-03 15:00:00"
          ],
          [
           "Newcastle United FC (4.0) - Luton Town FC (4.0) on 2024-02-03 15:00:00"
          ],
          [
           "Sheffield United FC (0.0) - Aston Villa FC (5.0) on 2024-02-03 17:30:00"
          ],
          [
           "Manchester United FC (3.0) - West Ham United FC (0.0) on 2024-02-04 14:00:00"
          ],
          [
           "Chelsea FC (2.0) - Wolverhampton Wanderers FC (4.0) on 2024-02-04 14:00:00"
          ],
          [
           "AFC Bournemouth (1.0) - Nottingham Forest FC (1.0) on 2024-02-04 14:00:00"
          ],
          [
           "Arsenal FC (3.0) - Liverpool FC (1.0) on 2024-02-04 16:30:00"
          ],
          [
           "Brentford FC (1.0) - Manchester City FC (3.0) on 2024-02-05 20:00:00"
          ],
          [
           "Manchester City FC (2.0) - Everton FC (0.0) on 2024-02-10 12:30:00"
          ],
          [
           "Fulham FC (3.0) - AFC Bournemouth (1.0) on 2024-02-10 15:00:00"
          ],
          [
           "Liverpool FC (3.0) - Burnley FC (1.0) on 2024-02-10 15:00:00"
          ],
          [
           "Luton Town FC (1.0) - Sheffield United FC (3.0) on 2024-02-10 15:00:00"
          ],
          [
           "Tottenham Hotspur FC (2.0) - Brighton & Hove Albion FC (1.0) on 2024-02-10 15:00:00"
          ],
          [
           "Wolverhampton Wanderers FC (0.0) - Brentford FC (2.0) on 2024-02-10 15:00:00"
          ],
          [
           "Nottingham Forest FC (2.0) - Newcastle United FC (3.0) on 2024-02-10 17:30:00"
          ],
          [
           "West Ham United FC (0.0) - Arsenal FC (6.0) on 2024-02-11 14:00:00"
          ],
          [
           "Aston Villa FC (1.0) - Manchester United FC (2.0) on 2024-02-11 16:30:00"
          ],
          [
           "Crystal Palace FC (1.0) - Chelsea FC (3.0) on 2024-02-12 20:00:00"
          ],
          [
           "Brentford FC (1.0) - Liverpool FC (4.0) on 2024-02-17 12:30:00"
          ],
          [
           "Burnley FC (0.0) - Arsenal FC (5.0) on 2024-02-17 15:00:00"
          ],
          [
           "Fulham FC (1.0) - Aston Villa FC (2.0) on 2024-02-17 15:00:00"
          ],
          [
           "Newcastle United FC (2.0) - AFC Bournemouth (2.0) on 2024-02-17 15:00:00"
          ],
          [
           "Nottingham Forest FC (2.0) - West Ham United FC (0.0) on 2024-02-17 15:00:00"
          ],
          [
           "Tottenham Hotspur FC (1.0) - Wolverhampton Wanderers FC (2.0) on 2024-02-17 15:00:00"
          ],
          [
           "Manchester City FC (1.0) - Chelsea FC (1.0) on 2024-02-17 17:30:00"
          ],
          [
           "Sheffield United FC (0.0) - Brighton & Hove Albion FC (5.0) on 2024-02-18 14:00:00"
          ],
          [
           "Luton Town FC (1.0) - Manchester United FC (2.0) on 2024-02-18 16:30:00"
          ],
          [
           "Everton FC (1.0) - Crystal Palace FC (1.0) on 2024-02-19 20:00:00"
          ],
          [
           "Manchester City FC (1.0) - Brentford FC (0.0) on 2024-02-20 19:30:00"
          ],
          [
           "Liverpool FC (4.0) - Luton Town FC (1.0) on 2024-02-21 19:30:00"
          ],
          [
           "Manchester United FC (1.0) - Fulham FC (2.0) on 2024-02-24 15:00:00"
          ],
          [
           "Brighton & Hove Albion FC (1.0) - Everton FC (1.0) on 2024-02-24 15:00:00"
          ],
          [
           "Crystal Palace FC (3.0) - Burnley FC (0.0) on 2024-02-24 15:00:00"
          ],
          [
           "Aston Villa FC (4.0) - Nottingham Forest FC (2.0) on 2024-02-24 15:00:00"
          ],
          [
           "AFC Bournemouth (0.0) - Manchester City FC (1.0) on 2024-02-24 17:30:00"
          ],
          [
           "Arsenal FC (4.0) - Newcastle United FC (1.0) on 2024-02-24 20:00:00"
          ],
          [
           "Wolverhampton Wanderers FC (1.0) - Sheffield United FC (0.0) on 2024-02-25 13:30:00"
          ],
          [
           "West Ham United FC (4.0) - Brentford FC (2.0) on 2024-02-26 20:00:00"
          ],
          [
           "Fulham FC (3.0) - Brighton & Hove Albion FC (0.0) on 2024-03-02 15:00:00"
          ],
          [
           "Tottenham Hotspur FC (3.0) - Crystal Palace FC (1.0) on 2024-03-02 15:00:00"
          ],
          [
           "Brentford FC (2.0) - Chelsea FC (2.0) on 2024-03-02 15:00:00"
          ],
          [
           "Newcastle United FC (3.0) - Wolverhampton Wanderers FC (0.0) on 2024-03-02 15:00:00"
          ],
          [
           "Everton FC (1.0) - West Ham United FC (3.0) on 2024-03-02 15:00:00"
          ],
          [
           "Nottingham Forest FC (0.0) - Liverpool FC (1.0) on 2024-03-02 15:00:00"
          ],
          [
           "Luton Town FC (2.0) - Aston Villa FC (3.0) on 2024-03-02 17:30:00"
          ],
          [
           "Burnley FC (0.0) - AFC Bournemouth (2.0) on 2024-03-03 13:00:00"
          ],
          [
           "Manchester City FC (3.0) - Manchester United FC (1.0) on 2024-03-03 15:30:00"
          ],
          [
           "Sheffield United FC (0.0) - Arsenal FC (6.0) on 2024-03-04 20:00:00"
          ],
          [
           "Manchester United FC (2.0) - Everton FC (0.0) on 2024-03-09 12:30:00"
          ],
          [
           "Wolverhampton Wanderers FC (2.0) - Fulham FC (1.0) on 2024-03-09 15:00:00"
          ],
          [
           "AFC Bournemouth (2.0) - Sheffield United FC (2.0) on 2024-03-09 15:00:00"
          ],
          [
           "Crystal Palace FC (1.0) - Luton Town FC (1.0) on 2024-03-09 15:00:00"
          ],
          [
           "Arsenal FC (2.0) - Brentford FC (1.0) on 2024-03-09 17:30:00"
          ],
          [
           "Aston Villa FC (0.0) - Tottenham Hotspur FC (4.0) on 2024-03-10 13:00:00"
          ],
          [
           "Brighton & Hove Albion FC (1.0) - Nottingham Forest FC (0.0) on 2024-03-10 14:00:00"
          ],
          [
           "West Ham United FC (2.0) - Burnley FC (2.0) on 2024-03-10 14:00:00"
          ],
          [
           "Liverpool FC (1.0) - Manchester City FC (1.0) on 2024-03-10 15:45:00"
          ],
          [
           "Chelsea FC (3.0) - Newcastle United FC (2.0) on 2024-03-11 20:00:00"
          ],
          [
           "AFC Bournemouth (4.0) - Luton Town FC (3.0) on 2024-03-13 19:30:00"
          ],
          [
           "Burnley FC (2.0) - Brentford FC (1.0) on 2024-03-16 15:00:00"
          ],
          [
           "Luton Town FC (1.0) - Nottingham Forest FC (1.0) on 2024-03-16 15:00:00"
          ],
          [
           "Fulham FC (3.0) - Tottenham Hotspur FC (0.0) on 2024-03-16 17:30:00"
          ],
          [
           "West Ham United FC (1.0) - Aston Villa FC (1.0) on 2024-03-17 14:00:00"
          ],
          [
           "Newcastle United FC (4.0) - West Ham United FC (3.0) on 2024-03-30 12:30:00"
          ],
          [
           "Tottenham Hotspur FC (2.0) - Luton Town FC (1.0) on 2024-03-30 15:00:00"
          ],
          [
           "Sheffield United FC (3.0) - Fulham FC (3.0) on 2024-03-30 15:00:00"
          ],
          [
           "AFC Bournemouth (2.0) - Everton FC (1.0) on 2024-03-30 15:00:00"
          ],
          [
           "Nottingham Forest FC (1.0) - Crystal Palace FC (1.0) on 2024-03-30 15:00:00"
          ],
          [
           "Chelsea FC (2.0) - Burnley FC (2.0) on 2024-03-30 15:00:00"
          ],
          [
           "Aston Villa FC (2.0) - Wolverhampton Wanderers FC (0.0) on 2024-03-30 17:30:00"
          ],
          [
           "Brentford FC (1.0) - Manchester United FC (1.0) on 2024-03-30 20:00:00"
          ],
          [
           "Liverpool FC (2.0) - Brighton & Hove Albion FC (1.0) on 2024-03-31 13:00:00"
          ],
          [
           "Manchester City FC (0.0) - Arsenal FC (0.0) on 2024-03-31 15:30:00"
          ],
          [
           "Nottingham Forest FC (3.0) - Fulham FC (1.0) on 2024-04-02 18:30:00"
          ],
          [
           "Newcastle United FC (1.0) - Everton FC (1.0) on 2024-04-02 18:30:00"
          ],
          [
           "AFC Bournemouth (1.0) - Crystal Palace FC (0.0) on 2024-04-02 18:45:00"
          ],
          [
           "Burnley FC (1.0) - Wolverhampton Wanderers FC (1.0) on 2024-04-02 18:45:00"
          ],
          [
           "West Ham United FC (1.0) - Tottenham Hotspur FC (1.0) on 2024-04-02 19:15:00"
          ],
          [
           "Arsenal FC (2.0) - Luton Town FC (0.0) on 2024-04-03 18:30:00"
          ],
          [
           "Brentford FC (0.0) - Brighton & Hove Albion FC (0.0) on 2024-04-03 18:30:00"
          ],
          [
           "Manchester City FC (4.0) - Aston Villa FC (1.0) on 2024-04-03 19:15:00"
          ],
          [
           "Liverpool FC (3.0) - Sheffield United FC (1.0) on 2024-04-04 18:30:00"
          ],
          [
           "Chelsea FC (4.0) - Manchester United FC (3.0) on 2024-04-04 19:15:00"
          ],
          [
           "Crystal Palace FC (2.0) - Manchester City FC (4.0) on 2024-04-06 11:30:00"
          ],
          [
           "Luton Town FC (2.0) - AFC Bournemouth (1.0) on 2024-04-06 14:00:00"
          ],
          [
           "Aston Villa FC (3.0) - Brentford FC (3.0) on 2024-04-06 14:00:00"
          ],
          [
           "Everton FC (1.0) - Burnley FC (0.0) on 2024-04-06 14:00:00"
          ],
          [
           "Fulham FC (0.0) - Newcastle United FC (1.0) on 2024-04-06 14:00:00"
          ],
          [
           "Wolverhampton Wanderers FC (1.0) - West Ham United FC (2.0) on 2024-04-06 14:00:00"
          ],
          [
           "Brighton & Hove Albion FC (0.0) - Arsenal FC (3.0) on 2024-04-06 16:30:00"
          ],
          [
           "Manchester United FC (2.0) - Liverpool FC (2.0) on 2024-04-07 14:30:00"
          ],
          [
           "Sheffield United FC (2.0) - Chelsea FC (2.0) on 2024-04-07 16:30:00"
          ],
          [
           "Tottenham Hotspur FC (3.0) - Nottingham Forest FC (1.0) on 2024-04-07 17:00:00"
          ],
          [
           "Newcastle United FC (4.0) - Tottenham Hotspur FC (0.0) on 2024-04-13 11:30:00"
          ],
          [
           "Nottingham Forest FC (2.0) - Wolverhampton Wanderers FC (2.0) on 2024-04-13 14:00:00"
          ],
          [
           "Brentford FC (2.0) - Sheffield United FC (0.0) on 2024-04-13 14:00:00"
          ],
          [
           "Burnley FC (1.0) - Brighton & Hove Albion FC (1.0) on 2024-04-13 14:00:00"
          ],
          [
           "Manchester City FC (5.0) - Luton Town FC (1.0) on 2024-04-13 14:00:00"
          ],
          [
           "AFC Bournemouth (2.0) - Manchester United FC (2.0) on 2024-04-13 16:30:00"
          ],
          [
           "Liverpool FC (0.0) - Crystal Palace FC (1.0) on 2024-04-14 13:00:00"
          ],
          [
           "West Ham United FC (0.0) - Fulham FC (2.0) on 2024-04-14 13:00:00"
          ],
          [
           "Arsenal FC (0.0) - Aston Villa FC (2.0) on 2024-04-14 15:30:00"
          ],
          [
           "Chelsea FC (6.0) - Everton FC (0.0) on 2024-04-15 19:00:00"
          ],
          [
           "Sheffield United FC (1.0) - Burnley FC (4.0) on 2024-04-20 14:00:00"
          ],
          [
           "Luton Town FC (1.0) - Brentford FC (5.0) on 2024-04-20 14:00:00"
          ],
          [
           "Wolverhampton Wanderers FC (0.0) - Arsenal FC (2.0) on 2024-04-20 18:30:00"
          ],
          [
           "Everton FC (2.0) - Nottingham Forest FC (0.0) on 2024-04-21 12:30:00"
          ],
          [
           "Aston Villa FC (3.0) - AFC Bournemouth (1.0) on 2024-04-21 14:00:00"
          ],
          [
           "Crystal Palace FC (5.0) - West Ham United FC (2.0) on 2024-04-21 14:00:00"
          ],
          [
           "Fulham FC (1.0) - Liverpool FC (3.0) on 2024-04-21 15:30:00"
          ],
          [
           "Arsenal FC (5.0) - Chelsea FC (0.0) on 2024-04-23 19:00:00"
          ],
          [
           "Wolverhampton Wanderers FC (0.0) - AFC Bournemouth (1.0) on 2024-04-24 18:45:00"
          ],
          [
           "Crystal Palace FC (2.0) - Newcastle United FC (0.0) on 2024-04-24 19:00:00"
          ],
          [
           "Everton FC (2.0) - Liverpool FC (0.0) on 2024-04-24 19:00:00"
          ],
          [
           "Manchester United FC (4.0) - Sheffield United FC (2.0) on 2024-04-24 19:00:00"
          ],
          [
           "Brighton & Hove Albion FC (0.0) - Manchester City FC (4.0) on 2024-04-25 19:00:00"
          ],
          [
           "West Ham United FC (2.0) - Liverpool FC (2.0) on 2024-04-27 11:30:00"
          ],
          [
           "Newcastle United FC (5.0) - Sheffield United FC (1.0) on 2024-04-27 14:00:00"
          ],
          [
           "Manchester United FC (1.0) - Burnley FC (1.0) on 2024-04-27 14:00:00"
          ],
          [
           "Fulham FC (1.0) - Crystal Palace FC (1.0) on 2024-04-27 14:00:00"
          ],
          [
           "Wolverhampton Wanderers FC (2.0) - Luton Town FC (1.0) on 2024-04-27 14:00:00"
          ],
          [
           "Everton FC (1.0) - Brentford FC (0.0) on 2024-04-27 16:30:00"
          ],
          [
           "Aston Villa FC (2.0) - Chelsea FC (2.0) on 2024-04-27 19:00:00"
          ],
          [
           "Tottenham Hotspur FC (2.0) - Arsenal FC (3.0) on 2024-04-28 13:00:00"
          ],
          [
           "AFC Bournemouth (3.0) - Brighton & Hove Albion FC (0.0) on 2024-04-28 13:00:00"
          ],
          [
           "Nottingham Forest FC (0.0) - Manchester City FC (2.0) on 2024-04-28 15:30:00"
          ],
          [
           "Chelsea FC (2.0) - Tottenham Hotspur FC (0.0) on 2024-05-02 18:30:00"
          ],
          [
           "Luton Town FC (1.0) - Everton FC (1.0) on 2024-05-03 19:00:00"
          ],
          [
           "Arsenal FC (3.0) - AFC Bournemouth (0.0) on 2024-05-04 11:30:00"
          ],
          [
           "Brentford FC (0.0) - Fulham FC (0.0) on 2024-05-04 14:00:00"
          ],
          [
           "Burnley FC (1.0) - Newcastle United FC (4.0) on 2024-05-04 14:00:00"
          ],
          [
           "Sheffield United FC (1.0) - Nottingham Forest FC (3.0) on 2024-05-04 14:00:00"
          ],
          [
           "Manchester City FC (5.0) - Wolverhampton Wanderers FC (1.0) on 2024-05-04 16:30:00"
          ],
          [
           "Brighton & Hove Albion FC (1.0) - Aston Villa FC (0.0) on 2024-05-05 13:00:00"
          ],
          [
           "Chelsea FC (5.0) - West Ham United FC (0.0) on 2024-05-05 13:00:00"
          ],
          [
           "Liverpool FC (4.0) - Tottenham Hotspur FC (2.0) on 2024-05-05 15:30:00"
          ],
          [
           "Crystal Palace FC (4.0) - Manchester United FC (0.0) on 2024-05-06 19:00:00"
          ],
          [
           "Fulham FC (0.0) - Manchester City FC (4.0) on 2024-05-11 11:30:00"
          ],
          [
           "Everton FC (1.0) - Sheffield United FC (0.0) on 2024-05-11 14:00:00"
          ],
          [
           "Newcastle United FC (1.0) - Brighton & Hove Albion FC (1.0) on 2024-05-11 14:00:00"
          ],
          [
           "Tottenham Hotspur FC (2.0) - Burnley FC (1.0) on 2024-05-11 14:00:00"
          ],
          [
           "West Ham United FC (3.0) - Luton Town FC (1.0) on 2024-05-11 14:00:00"
          ],
          [
           "Wolverhampton Wanderers FC (1.0) - Crystal Palace FC (3.0) on 2024-05-11 14:00:00"
          ],
          [
           "AFC Bournemouth (1.0) - Brentford FC (2.0) on 2024-05-11 14:00:00"
          ],
          [
           "Nottingham Forest FC (2.0) - Chelsea FC (3.0) on 2024-05-11 16:30:00"
          ],
          [
           "Manchester United FC (0.0) - Arsenal FC (1.0) on 2024-05-12 15:30:00"
          ],
          [
           "Aston Villa FC (3.0) - Liverpool FC (3.0) on 2024-05-13 19:00:00"
          ],
          [
           "Tottenham Hotspur FC (0.0) - Manchester City FC (2.0) on 2024-05-14 19:00:00"
          ],
          [
           "Brighton & Hove Albion FC (1.0) - Chelsea FC (2.0) on 2024-05-15 18:45:00"
          ],
          [
           "Manchester United FC (3.0) - Newcastle United FC (2.0) on 2024-05-15 19:00:00"
          ],
          [
           "Brighton & Hove Albion FC (0.0) - Manchester United FC (2.0) on 2024-05-19 15:00:00"
          ],
          [
           "Arsenal FC (2.0) - Everton FC (1.0) on 2024-05-19 15:00:00"
          ],
          [
           "Burnley FC (1.0) - Nottingham Forest FC (2.0) on 2024-05-19 15:00:00"
          ],
          [
           "Crystal Palace FC (5.0) - Aston Villa FC (0.0) on 2024-05-19 15:00:00"
          ],
          [
           "Liverpool FC (2.0) - Wolverhampton Wanderers FC (0.0) on 2024-05-19 15:00:00"
          ],
          [
           "Luton Town FC (2.0) - Fulham FC (4.0) on 2024-05-19 15:00:00"
          ],
          [
           "Sheffield United FC (0.0) - Tottenham Hotspur FC (3.0) on 2024-05-19 15:00:00"
          ],
          [
           "Manchester City FC (3.0) - West Ham United FC (1.0) on 2024-05-19 15:00:00"
          ],
          [
           "Chelsea FC (2.0) - AFC Bournemouth (1.0) on 2024-05-19 15:00:00"
          ],
          [
           "Brentford FC (2.0) - Newcastle United FC (4.0) on 2024-05-19 15:00:00"
          ],
          [
           "Burnley FC (0.0) - Manchester City FC (3.0) on 2023-08-11 19:00:00"
          ],
          [
           "Arsenal FC (2.0) - Nottingham Forest FC (1.0) on 2023-08-12 12:00:00"
          ],
          [
           "AFC Bournemouth (1.0) - West Ham United FC (1.0) on 2023-08-12 14:00:00"
          ],
          [
           "Sheffield United FC (0.0) - Crystal Palace FC (1.0) on 2023-08-12 14:00:00"
          ],
          [
           "Everton FC (0.0) - Fulham FC (1.0) on 2023-08-12 14:00:00"
          ],
          [
           "Brighton & Hove Albion FC (4.0) - Luton Town FC (1.0) on 2023-08-12 14:00:00"
          ],
          [
           "Newcastle United FC (5.0) - Aston Villa FC (1.0) on 2023-08-12 16:30:00"
          ],
          [
           "Brentford FC (2.0) - Tottenham Hotspur FC (2.0) on 2023-08-13 13:00:00"
          ],
          [
           "Chelsea FC (1.0) - Liverpool FC (1.0) on 2023-08-13 15:30:00"
          ],
          [
           "Manchester United FC (1.0) - Wolverhampton Wanderers FC (0.0) on 2023-08-14 19:00:00"
          ],
          [
           "Nottingham Forest FC (2.0) - Sheffield United FC (1.0) on 2023-08-18 18:45:00"
          ],
          [
           "Liverpool FC (3.0) - AFC Bournemouth (1.0) on 2023-08-19 14:00:00"
          ],
          [
           "Fulham FC (0.0) - Brentford FC (3.0) on 2023-08-19 14:00:00"
          ],
          [
           "Wolverhampton Wanderers FC (1.0) - Brighton & Hove Albion FC (4.0) on 2023-08-19 14:00:00"
          ],
          [
           "Tottenham Hotspur FC (2.0) - Manchester United FC (0.0) on 2023-08-19 16:30:00"
          ],
          [
           "Manchester City FC (1.0) - Newcastle United FC (0.0) on 2023-08-19 19:00:00"
          ],
          [
           "Aston Villa FC (4.0) - Everton FC (0.0) on 2023-08-20 13:00:00"
          ],
          [
           "West Ham United FC (3.0) - Chelsea FC (1.0) on 2023-08-20 15:30:00"
          ],
          [
           "Crystal Palace FC (0.0) - Arsenal FC (1.0) on 2023-08-21 19:00:00"
          ],
          [
           "Chelsea FC (3.0) - Luton Town FC (0.0) on 2023-08-25 19:00:00"
          ],
          [
           "AFC Bournemouth (0.0) - Tottenham Hotspur FC (2.0) on 2023-08-26 11:30:00"
          ],
          [
           "Everton FC (0.0) - Wolverhampton Wanderers FC (1.0) on 2023-08-26 14:00:00"
          ],
          [
           "Brentford FC (1.0) - Crystal Palace FC (1.0) on 2023-08-26 14:00:00"
          ],
          [
           "Arsenal FC (2.0) - Fulham FC (2.0) on 2023-08-26 14:00:00"
          ],
          [
           "Manchester United FC (3.0) - Nottingham Forest FC (2.0) on 2023-08-26 14:00:00"
          ],
          [
           "Brighton & Hove Albion FC (1.0) - West Ham United FC (3.0) on 2023-08-26 16:30:00"
          ],
          [
           "Sheffield United FC (1.0) - Manchester City FC (2.0) on 2023-08-27 13:00:00"
          ],
          [
           "Burnley FC (1.0) - Aston Villa FC (3.0) on 2023-08-27 13:00:00"
          ],
          [
           "Newcastle United FC (1.0) - Liverpool FC (2.0) on 2023-08-27 15:30:00"
          ],
          [
           "Luton Town FC (1.0) - West Ham United FC (2.0) on 2023-09-01 19:00:00"
          ],
          [
           "Sheffield United FC (2.0) - Everton FC (2.0) on 2023-09-02 11:30:00"
          ],
          [
           "Chelsea FC (0.0) - Nottingham Forest FC (1.0) on 2023-09-02 14:00:00"
          ],
          [
           "Manchester City FC (5.0) - Fulham FC (1.0) on 2023-09-02 14:00:00"
          ],
          [
           "Burnley FC (2.0) - Tottenham Hotspur FC (5.0) on 2023-09-02 14:00:00"
          ],
          [
           "Brentford FC (2.0) - AFC Bournemouth (2.0) on 2023-09-02 14:00:00"
          ],
          [
           "Brighton & Hove Albion FC (3.0) - Newcastle United FC (1.0) on 2023-09-02 16:30:00"
          ],
          [
           "Crystal Palace FC (3.0) - Wolverhampton Wanderers FC (2.0) on 2023-09-03 13:00:00"
          ],
          [
           "Liverpool FC (3.0) - Aston Villa FC (0.0) on 2023-09-03 13:00:00"
          ],
          [
           "Arsenal FC (3.0) - Manchester United FC (1.0) on 2023-09-03 15:30:00"
          ],
          [
           "Wolverhampton Wanderers FC (1.0) - Liverpool FC (3.0) on 2023-09-16 11:30:00"
          ],
          [
           "Aston Villa FC (3.0) - Crystal Palace FC (1.0) on 2023-09-16 14:00:00"
          ],
          [
           "Fulham FC (1.0) - Luton Town FC (0.0) on 2023-09-16 14:00:00"
          ],
          [
           "Manchester United FC (1.0) - Brighton & Hove Albion FC (3.0) on 2023-09-16 14:00:00"
          ],
          [
           "Tottenham Hotspur FC (2.0) - Sheffield United FC (1.0) on 2023-09-16 14:00:00"
          ],
          [
           "West Ham United FC (1.0) - Manchester City FC (3.0) on 2023-09-16 14:00:00"
          ],
          [
           "Newcastle United FC (1.0) - Brentford FC (0.0) on 2023-09-16 16:30:00"
          ],
          [
           "AFC Bournemouth (0.0) - Chelsea FC (0.0) on 2023-09-17 13:00:00"
          ],
          [
           "Everton FC (0.0) - Arsenal FC (1.0) on 2023-09-17 15:30:00"
          ],
          [
           "Nottingham Forest FC (1.0) - Burnley FC (1.0) on 2023-09-18 18:45:00"
          ],
          [
           "Luton Town FC (1.0) - Wolverhampton Wanderers FC (1.0) on 2023-09-23 14:00:00"
          ],
          [
           "Manchester City FC (2.0) - Nottingham Forest FC (0.0) on 2023-09-23 14:00:00"
          ],
          [
           "Crystal Palace FC (0.0) - Fulham FC (0.0) on 2023-09-23 14:00:00"
          ],
          [
           "Brentford FC (1.0) - Everton FC (3.0) on 2023-09-23 16:30:00"
          ],
          [
           "Burnley FC (0.0) - Manchester United FC (1.0) on 2023-09-23 19:00:00"
          ],
          [
           "Chelsea FC (0.0) - Aston Villa FC (1.0) on 2023-09-24 13:00:00"
          ],
          [
           "Liverpool FC (3.0) - West Ham United FC (1.0) on 2023-09-24 13:00:00"
          ],
          [
           "Arsenal FC (2.0) - Tottenham Hotspur FC (2.0) on 2023-09-24 13:00:00"
          ],
          [
           "Brighton & Hove Albion FC (3.0) - AFC Bournemouth (1.0) on 2023-09-24 13:00:00"
          ],
          [
           "Sheffield United FC (0.0) - Newcastle United FC (8.0) on 2023-09-24 15:30:00"
          ],
          [
           "Aston Villa FC (6.0) - Brighton & Hove Albion FC (1.0) on 2023-09-30 11:30:00"
          ],
          [
           "West Ham United FC (2.0) - Sheffield United FC (0.0) on 2023-09-30 14:00:00"
          ],
          [
           "Newcastle United FC (2.0) - Burnley FC (0.0) on 2023-09-30 14:00:00"
          ],
          [
           "Manchester United FC (0.0) - Crystal Palace FC (1.0) on 2023-09-30 14:00:00"
          ],
          [
           "Wolverhampton Wanderers FC (2.0) - Manchester City FC (1.0) on 2023-09-30 14:00:00"
          ],
          [
           "AFC Bournemouth (0.0) - Arsenal FC (4.0) on 2023-09-30 14:00:00"
          ],
          [
           "Everton FC (1.0) - Luton Town FC (2.0) on 2023-09-30 14:00:00"
          ],
          [
           "Tottenham Hotspur FC (2.0) - Liverpool FC (1.0) on 2023-09-30 16:30:00"
          ],
          [
           "Nottingham Forest FC (1.0) - Brentford FC (1.0) on 2023-10-01 13:00:00"
          ],
          [
           "Fulham FC (0.0) - Chelsea FC (2.0) on 2023-10-02 19:00:00"
          ],
          [
           "Luton Town FC (1.0) - Burnley FC (2.0) on 2023-10-03 18:30:00"
          ],
          [
           "Luton Town FC (0.0) - Tottenham Hotspur FC (1.0) on 2023-10-07 11:30:00"
          ],
          [
           "Everton FC (3.0) - AFC Bournemouth (0.0) on 2023-10-07 14:00:00"
          ],
          [
           "Burnley FC (1.0) - Chelsea FC (4.0) on 2023-10-07 14:00:00"
          ],
          [
           "Fulham FC (3.0) - Sheffield United FC (1.0) on 2023-10-07 14:00:00"
          ],
          [
           "Manchester United FC (2.0) - Brentford FC (1.0) on 2023-10-07 14:00:00"
          ],
          [
           "Crystal Palace FC (0.0) - Nottingham Forest FC (0.0) on 2023-10-07 16:30:00"
          ],
          [
           "Brighton & Hove Albion FC (2.0) - Liverpool FC (2.0) on 2023-10-08 13:00:00"
          ],
          [
           "West Ham United FC (2.0) - Newcastle United FC (2.0) on 2023-10-08 13:00:00"
          ],
          [
           "Wolverhampton Wanderers FC (1.0) - Aston Villa FC (1.0) on 2023-10-08 13:00:00"
          ],
          [
           "Arsenal FC (1.0) - Manchester City FC (0.0) on 2023-10-08 15:30:00"
          ],
          [
           "Liverpool FC (2.0) - Everton FC (0.0) on 2023-10-21 11:30:00"
          ],
          [
           "Brentford FC (3.0) - Burnley FC (0.0) on 2023-10-21 14:00:00"
          ],
          [
           "Nottingham Forest FC (2.0) - Luton Town FC (2.0) on 2023-10-21 14:00:00"
          ],
          [
           "AFC Bournemouth (1.0) - Wolverhampton Wanderers FC (2.0) on 2023-10-21 14:00:00"
          ],
          [
           "Manchester City FC (2.0) - Brighton & Hove Albion FC (1.0) on 2023-10-21 14:00:00"
          ],
          [
           "Newcastle United FC (4.0) - Crystal Palace FC (0.0) on 2023-10-21 14:00:00"
          ],
          [
           "Chelsea FC (2.0) - Arsenal FC (2.0) on 2023-10-21 16:30:00"
          ],
          [
           "Sheffield United FC (1.0) - Manchester United FC (2.0) on 2023-10-21 19:00:00"
          ],
          [
           "Aston Villa FC (4.0) - West Ham United FC (1.0) on 2023-10-22 15:30:00"
          ],
          [
           "Tottenham Hotspur FC (2.0) - Fulham FC (0.0) on 2023-10-23 19:00:00"
          ],
          [
           "Crystal Palace FC (1.0) - Tottenham Hotspur FC (2.0) on 2023-10-27 19:00:00"
          ],
          [
           "Chelsea FC (0.0) - Brentford FC (2.0) on 2023-10-28 11:30:00"
          ],
          [
           "AFC Bournemouth (2.0) - Burnley FC (1.0) on 2023-10-28 14:00:00"
          ],
          [
           "Arsenal FC (5.0) - Sheffield United FC (0.0) on 2023-10-28 14:00:00"
          ],
          [
           "Wolverhampton Wanderers FC (2.0) - Newcastle United FC (2.0) on 2023-10-28 16:30:00"
          ],
          [
           "West Ham United FC (0.0) - Everton FC (1.0) on 2023-10-29 13:00:00"
          ],
          [
           "Liverpool FC (3.0) - Nottingham Forest FC (0.0) on 2023-10-29 14:00:00"
          ],
          [
           "Brighton & Hove Albion FC (1.0) - Fulham FC (1.0) on 2023-10-29 14:00:00"
          ],
          [
           "Aston Villa FC (3.0) - Luton Town FC (1.0) on 2023-10-29 14:00:00"
          ],
          [
           "Manchester United FC (0.0) - Manchester City FC (3.0) on 2023-10-29 15:30:00"
          ],
          [
           "Fulham FC (0.0) - Manchester United FC (1.0) on 2023-11-04 12:30:00"
          ],
          [
           "Brentford FC (3.0) - West Ham United FC (2.0) on 2023-11-04 15:00:00"
          ],
          [
           "Manchester City FC (6.0) - AFC Bournemouth (1.0) on 2023-11-04 15:00:00"
          ],
          [
           "Everton FC (1.0) - Brighton & Hove Albion FC (1.0) on 2023-11-04 15:00:00"
          ],
          [
           "Sheffield United FC (2.0) - Wolverhampton Wanderers FC (1.0) on 2023-11-04 15:00:00"
          ],
          [
           "Burnley FC (0.0) - Crystal Palace FC (2.0) on 2023-11-04 15:00:00"
          ],
          [
           "Newcastle United FC (1.0) - Arsenal FC (0.0) on 2023-11-04 17:30:00"
          ],
          [
           "Nottingham Forest FC (2.0) - Aston Villa FC (0.0) on 2023-11-05 14:00:00"
          ],
          [
           "Luton Town FC (1.0) - Liverpool FC (1.0) on 2023-11-05 16:30:00"
          ],
          [
           "Tottenham Hotspur FC (1.0) - Chelsea FC (4.0) on 2023-11-06 20:00:00"
          ],
          [
           "Wolverhampton Wanderers FC (2.0) - Tottenham Hotspur FC (1.0) on 2023-11-11 12:30:00"
          ],
          [
           "Crystal Palace FC (2.0) - Everton FC (3.0) on 2023-11-11 15:00:00"
          ],
          [
           "Arsenal FC (3.0) - Burnley FC (1.0) on 2023-11-11 15:00:00"
          ],
          [
           "Manchester United FC (1.0) - Luton Town FC (0.0) on 2023-11-11 15:00:00"
          ],
          [
           "AFC Bournemouth (2.0) - Newcastle United FC (0.0) on 2023-11-11 17:30:00"
          ],
          [
           "Aston Villa FC (3.0) - Fulham FC (1.0) on 2023-11-12 14:00:00"
          ],
          [
           "West Ham United FC (3.0) - Nottingham Forest FC (2.0) on 2023-11-12 14:00:00"
          ],
          [
           "Brighton & Hove Albion FC (1.0) - Sheffield United FC (1.0) on 2023-11-12 14:00:00"
          ],
          [
           "Liverpool FC (3.0) - Brentford FC (0.0) on 2023-11-12 14:00:00"
          ],
          [
           "Chelsea FC (4.0) - Manchester City FC (4.0) on 2023-11-12 16:30:00"
          ],
          [
           "Manchester City FC (1.0) - Liverpool FC (1.0) on 2023-11-25 12:30:00"
          ],
          [
           "Burnley FC (1.0) - West Ham United FC (2.0) on 2023-11-25 15:00:00"
          ],
          [
           "Luton Town FC (2.0) - Crystal Palace FC (1.0) on 2023-11-25 15:00:00"
          ],
          [
           "Newcastle United FC (4.0) - Chelsea FC (1.0) on 2023-11-25 15:00:00"
          ],
          [
           "Nottingham Forest FC (2.0) - Brighton & Hove Albion FC (3.0) on 2023-11-25 15:00:00"
          ],
          [
           "Sheffield United FC (1.0) - AFC Bournemouth (3.0) on 2023-11-25 15:00:00"
          ],
          [
           "Brentford FC (0.0) - Arsenal FC (1.0) on 2023-11-25 17:30:00"
          ],
          [
           "Tottenham Hotspur FC (1.0) - Aston Villa FC (2.0) on 2023-11-26 14:00:00"
          ],
          [
           "Everton FC (0.0) - Manchester United FC (3.0) on 2023-11-26 16:30:00"
          ],
          [
           "Fulham FC (3.0) - Wolverhampton Wanderers FC (2.0) on 2023-11-27 20:00:00"
          ],
          [
           "Burnley FC (5.0) - Sheffield United FC (0.0) on 2023-12-02 15:00:00"
          ],
          [
           "Arsenal FC (2.0) - Wolverhampton Wanderers FC (1.0) on 2023-12-02 15:00:00"
          ],
          [
           "Brentford FC (3.0) - Luton Town FC (1.0) on 2023-12-02 15:00:00"
          ],
          [
           "Nottingham Forest FC (0.0) - Everton FC (1.0) on 2023-12-02 17:30:00"
          ],
          [
           "Newcastle United FC (1.0) - Manchester United FC (0.0) on 2023-12-02 20:00:00"
          ],
          [
           "AFC Bournemouth (2.0) - Aston Villa FC (2.0) on 2023-12-03 14:00:00"
          ],
          [
           "Chelsea FC (3.0) - Brighton & Hove Albion FC (2.0) on 2023-12-03 14:00:00"
          ],
          [
           "West Ham United FC (1.0) - Crystal Palace FC (1.0) on 2023-12-03 14:00:00"
          ],
          [
           "Liverpool FC (4.0) - Fulham FC (3.0) on 2023-12-03 14:00:00"
          ],
          [
           "Manchester City FC (3.0) - Tottenham Hotspur FC (3.0) on 2023-12-03 16:30:00"
          ],
          [
           "Wolverhampton Wanderers FC (1.0) - Burnley FC (0.0) on 2023-12-05 19:30:00"
          ],
          [
           "Luton Town FC (3.0) - Arsenal FC (4.0) on 2023-12-05 20:15:00"
          ],
          [
           "Crystal Palace FC (0.0) - AFC Bournemouth (2.0) on 2023-12-06 19:30:00"
          ],
          [
           "Sheffield United FC (0.0) - Liverpool FC (2.0) on 2023-12-06 19:30:00"
          ],
          [
           "Fulham FC (5.0) - Nottingham Forest FC (0.0) on 2023-12-06 19:30:00"
          ],
          [
           "Brighton & Hove Albion FC (2.0) - Brentford FC (1.0) on 2023-12-06 19:30:00"
          ],
          [
           "Manchester United FC (2.0) - Chelsea FC (1.0) on 2023-12-06 20:15:00"
          ],
          [
           "Aston Villa FC (1.0) - Manchester City FC (0.0) on 2023-12-06 20:15:00"
          ],
          [
           "Everton FC (3.0) - Newcastle United FC (0.0) on 2023-12-07 19:30:00"
          ],
          [
           "Tottenham Hotspur FC (1.0) - West Ham United FC (2.0) on 2023-12-07 20:15:00"
          ],
          [
           "Crystal Palace FC (1.0) - Liverpool FC (2.0) on 2023-12-09 12:30:00"
          ],
          [
           "Brighton & Hove Albion FC (1.0) - Burnley FC (1.0) on 2023-12-09 15:00:00"
          ],
          [
           "Manchester United FC (0.0) - AFC Bournemouth (3.0) on 2023-12-09 15:00:00"
          ],
          [
           "Sheffield United FC (1.0) - Brentford FC (0.0) on 2023-12-09 15:00:00"
          ],
          [
           "Wolverhampton Wanderers FC (1.0) - Nottingham Forest FC (1.0) on 2023-12-09 15:00:00"
          ],
          [
           "Aston Villa FC (1.0) - Arsenal FC (0.0) on 2023-12-09 17:30:00"
          ],
          [
           "Everton FC (2.0) - Chelsea FC (0.0) on 2023-12-10 14:00:00"
          ],
          [
           "Fulham FC (5.0) - West Ham United FC (0.0) on 2023-12-10 14:00:00"
          ],
          [
           "Luton Town FC (1.0) - Manchester City FC (2.0) on 2023-12-10 14:00:00"
          ],
          [
           "Tottenham Hotspur FC (4.0) - Newcastle United FC (1.0) on 2023-12-10 16:30:00"
          ],
          [
           "Nottingham Forest FC (0.0) - Tottenham Hotspur FC (2.0) on 2023-12-15 20:00:00"
          ],
          [
           "Newcastle United FC (3.0) - Fulham FC (0.0) on 2023-12-16 15:00:00"
          ],
          [
           "Chelsea FC (2.0) - Sheffield United FC (0.0) on 2023-12-16 15:00:00"
          ],
          [
           "Manchester City FC (2.0) - Crystal Palace FC (2.0) on 2023-12-16 15:00:00"
          ],
          [
           "Burnley FC (0.0) - Everton FC (2.0) on 2023-12-16 17:30:00"
          ],
          [
           "Arsenal FC (2.0) - Brighton & Hove Albion FC (0.0) on 2023-12-17 14:00:00"
          ],
          [
           "Brentford FC (1.0) - Aston Villa FC (2.0) on 2023-12-17 14:00:00"
          ],
          [
           "West Ham United FC (3.0) - Wolverhampton Wanderers FC (0.0) on 2023-12-17 14:00:00"
          ],
          [
           "Liverpool FC (0.0) - Manchester United FC (0.0) on 2023-12-17 16:30:00"
          ],
          [
           "Crystal Palace FC (1.0) - Brighton & Hove Albion FC (1.0) on 2023-12-21 20:00:00"
          ],
          [
           "Aston Villa FC (1.0) - Sheffield United FC (1.0) on 2023-12-22 20:00:00"
          ],
          [
           "West Ham United FC (2.0) - Manchester United FC (0.0) on 2023-12-23 12:30:00"
          ],
          [
           "Fulham FC (0.0) - Burnley FC (2.0) on 2023-12-23 15:00:00"
          ],
          [
           "Luton Town FC (1.0) - Newcastle United FC (0.0) on 2023-12-23 15:00:00"
          ],
          [
           "Tottenham Hotspur FC (2.0) - Everton FC (1.0) on 2023-12-23 15:00:00"
          ],
          [
           "Nottingham Forest FC (2.0) - AFC Bournemouth (3.0) on 2023-12-23 15:00:00"
          ],
          [
           "Liverpool FC (1.0) - Arsenal FC (1.0) on 2023-12-23 17:30:00"
          ],
          [
           "Wolverhampton Wanderers FC (2.0) - Chelsea FC (1.0) on 2023-12-24 13:00:00"
          ],
          [
           "Newcastle United FC (1.0) - Nottingham Forest FC (3.0) on 2023-12-26 12:30:00"
          ],
          [
           "AFC Bournemouth (3.0) - Fulham FC (0.0) on 2023-12-26 15:00:00"
          ],
          [
           "Sheffield United FC (2.0) - Luton Town FC (3.0) on 2023-12-26 15:00:00"
          ],
          [
           "Burnley FC (0.0) - Liverpool FC (2.0) on 2023-12-26 17:30:00"
          ],
          [
           "Manchester United FC (3.0) - Aston Villa FC (2.0) on 2023-12-26 20:00:00"
          ],
          [
           "Chelsea FC (2.0) - Crystal Palace FC (1.0) on 2023-12-27 19:30:00"
          ],
          [
           "Brentford FC (1.0) - Wolverhampton Wanderers FC (4.0) on 2023-12-27 19:30:00"
          ],
          [
           "Everton FC (1.0) - Manchester City FC (3.0) on 2023-12-27 20:15:00"
          ],
          [
           "Brighton & Hove Albion FC (4.0) - Tottenham Hotspur FC (2.0) on 2023-12-28 19:30:00"
          ],
          [
           "Arsenal FC (0.0) - West Ham United FC (2.0) on 2023-12-28 20:15:00"
          ],
          [
           "Luton Town FC (2.0) - Chelsea FC (3.0) on 2023-12-30 12:30:00"
          ],
          [
           "Manchester City FC (2.0) - Sheffield United FC (0.0) on 2023-12-30 15:00:00"
          ],
          [
           "Wolverhampton Wanderers FC (3.0) - Everton FC (0.0) on 2023-12-30 15:00:00"
          ],
          [
           "Crystal Palace FC (3.0) - Brentford FC (1.0) on 2023-12-30 15:00:00"
          ],
          [
           "Aston Villa FC (3.0) - Burnley FC (2.0) on 2023-12-30 15:00:00"
          ],
          [
           "Nottingham Forest FC (2.0) - Manchester United FC (1.0) on 2023-12-30 17:30:00"
          ],
          [
           "Fulham FC (2.0) - Arsenal FC (1.0) on 2023-12-31 14:00:00"
          ],
          [
           "Tottenham Hotspur FC (3.0) - AFC Bournemouth (1.0) on 2023-12-31 14:00:00"
          ],
          [
           "Liverpool FC (4.0) - Newcastle United FC (2.0) on 2024-01-01 20:00:00"
          ],
          [
           "West Ham United FC (0.0) - Brighton & Hove Albion FC (0.0) on 2024-01-02 19:30:00"
          ],
          [
           "Burnley FC (1.0) - Luton Town FC (1.0) on 2024-01-12 19:45:00"
          ],
          [
           "Chelsea FC (1.0) - Fulham FC (0.0) on 2024-01-13 12:30:00"
          ],
          [
           "Newcastle United FC (2.0) - Manchester City FC (3.0) on 2024-01-13 17:30:00"
          ],
          [
           "Everton FC (0.0) - Aston Villa FC (0.0) on 2024-01-14 14:00:00"
          ],
          [
           "Manchester United FC (2.0) - Tottenham Hotspur FC (2.0) on 2024-01-14 16:30:00"
          ],
          [
           "Arsenal FC (5.0) - Crystal Palace FC (0.0) on 2024-01-20 12:30:00"
          ],
          [
           "Brentford FC (3.0) - Nottingham Forest FC (2.0) on 2024-01-20 17:30:00"
          ],
          [
           "Sheffield United FC (2.0) - West Ham United FC (2.0) on 2024-01-21 14:00:00"
          ],
          [
           "AFC Bournemouth (0.0) - Liverpool FC (4.0) on 2024-01-21 16:30:00"
          ],
          [
           "Brighton & Hove Albion FC (0.0) - Wolverhampton Wanderers FC (0.0) on 2024-01-22 19:45:00"
          ],
          [
           "Nottingham Forest FC (1.0) - Arsenal FC (2.0) on 2024-01-30 19:30:00"
          ],
          [
           "Luton Town FC (4.0) - Brighton & Hove Albion FC (0.0) on 2024-01-30 19:45:00"
          ],
          [
           "Fulham FC (0.0) - Everton FC (0.0) on 2024-01-30 19:45:00"
          ],
          [
           "Crystal Palace FC (3.0) - Sheffield United FC (2.0) on 2024-01-30 20:00:00"
          ],
          [
           "Aston Villa FC (1.0) - Newcastle United FC (3.0) on 2024-01-30 20:15:00"
          ],
          [
           "Manchester City FC (3.0) - Burnley FC (1.0) on 2024-01-31 19:30:00"
          ],
          [
           "Tottenham Hotspur FC (3.0) - Brentford FC (2.0) on 2024-01-31 19:30:00"
          ],
          [
           "Liverpool FC (4.0) - Chelsea FC (1.0) on 2024-01-31 20:15:00"
          ],
          [
           "West Ham United FC (1.0) - AFC Bournemouth (1.0) on 2024-02-01 19:30:00"
          ],
          [
           "Wolverhampton Wanderers FC (3.0) - Manchester United FC (4.0) on 2024-02-01 20:15:00"
          ],
          [
           "Everton FC (2.0) - Tottenham Hotspur FC (2.0) on 2024-02-03 12:30:00"
          ],
          [
           "Brighton & Hove Albion FC (4.0) - Crystal Palace FC (1.0) on 2024-02-03 15:00:00"
          ],
          [
           "Burnley FC (2.0) - Fulham FC (2.0) on 2024-02-03 15:00:00"
          ],
          [
           "Newcastle United FC (4.0) - Luton Town FC (4.0) on 2024-02-03 15:00:00"
          ],
          [
           "Sheffield United FC (0.0) - Aston Villa FC (5.0) on 2024-02-03 17:30:00"
          ],
          [
           "Manchester United FC (3.0) - West Ham United FC (0.0) on 2024-02-04 14:00:00"
          ],
          [
           "Chelsea FC (2.0) - Wolverhampton Wanderers FC (4.0) on 2024-02-04 14:00:00"
          ],
          [
           "AFC Bournemouth (1.0) - Nottingham Forest FC (1.0) on 2024-02-04 14:00:00"
          ],
          [
           "Arsenal FC (3.0) - Liverpool FC (1.0) on 2024-02-04 16:30:00"
          ],
          [
           "Brentford FC (1.0) - Manchester City FC (3.0) on 2024-02-05 20:00:00"
          ],
          [
           "Manchester City FC (2.0) - Everton FC (0.0) on 2024-02-10 12:30:00"
          ],
          [
           "Fulham FC (3.0) - AFC Bournemouth (1.0) on 2024-02-10 15:00:00"
          ],
          [
           "Liverpool FC (3.0) - Burnley FC (1.0) on 2024-02-10 15:00:00"
          ],
          [
           "Luton Town FC (1.0) - Sheffield United FC (3.0) on 2024-02-10 15:00:00"
          ],
          [
           "Tottenham Hotspur FC (2.0) - Brighton & Hove Albion FC (1.0) on 2024-02-10 15:00:00"
          ],
          [
           "Wolverhampton Wanderers FC (0.0) - Brentford FC (2.0) on 2024-02-10 15:00:00"
          ],
          [
           "Nottingham Forest FC (2.0) - Newcastle United FC (3.0) on 2024-02-10 17:30:00"
          ],
          [
           "West Ham United FC (0.0) - Arsenal FC (6.0) on 2024-02-11 14:00:00"
          ],
          [
           "Aston Villa FC (1.0) - Manchester United FC (2.0) on 2024-02-11 16:30:00"
          ],
          [
           "Crystal Palace FC (1.0) - Chelsea FC (3.0) on 2024-02-12 20:00:00"
          ],
          [
           "Brentford FC (1.0) - Liverpool FC (4.0) on 2024-02-17 12:30:00"
          ],
          [
           "Burnley FC (0.0) - Arsenal FC (5.0) on 2024-02-17 15:00:00"
          ],
          [
           "Fulham FC (1.0) - Aston Villa FC (2.0) on 2024-02-17 15:00:00"
          ],
          [
           "Newcastle United FC (2.0) - AFC Bournemouth (2.0) on 2024-02-17 15:00:00"
          ],
          [
           "Nottingham Forest FC (2.0) - West Ham United FC (0.0) on 2024-02-17 15:00:00"
          ],
          [
           "Tottenham Hotspur FC (1.0) - Wolverhampton Wanderers FC (2.0) on 2024-02-17 15:00:00"
          ],
          [
           "Manchester City FC (1.0) - Chelsea FC (1.0) on 2024-02-17 17:30:00"
          ],
          [
           "Sheffield United FC (0.0) - Brighton & Hove Albion FC (5.0) on 2024-02-18 14:00:00"
          ],
          [
           "Luton Town FC (1.0) - Manchester United FC (2.0) on 2024-02-18 16:30:00"
          ],
          [
           "Everton FC (1.0) - Crystal Palace FC (1.0) on 2024-02-19 20:00:00"
          ],
          [
           "Manchester City FC (1.0) - Brentford FC (0.0) on 2024-02-20 19:30:00"
          ],
          [
           "Liverpool FC (4.0) - Luton Town FC (1.0) on 2024-02-21 19:30:00"
          ],
          [
           "Manchester United FC (1.0) - Fulham FC (2.0) on 2024-02-24 15:00:00"
          ],
          [
           "Brighton & Hove Albion FC (1.0) - Everton FC (1.0) on 2024-02-24 15:00:00"
          ],
          [
           "Crystal Palace FC (3.0) - Burnley FC (0.0) on 2024-02-24 15:00:00"
          ],
          [
           "Aston Villa FC (4.0) - Nottingham Forest FC (2.0) on 2024-02-24 15:00:00"
          ],
          [
           "AFC Bournemouth (0.0) - Manchester City FC (1.0) on 2024-02-24 17:30:00"
          ],
          [
           "Arsenal FC (4.0) - Newcastle United FC (1.0) on 2024-02-24 20:00:00"
          ],
          [
           "Wolverhampton Wanderers FC (1.0) - Sheffield United FC (0.0) on 2024-02-25 13:30:00"
          ],
          [
           "West Ham United FC (4.0) - Brentford FC (2.0) on 2024-02-26 20:00:00"
          ],
          [
           "Fulham FC (3.0) - Brighton & Hove Albion FC (0.0) on 2024-03-02 15:00:00"
          ],
          [
           "Tottenham Hotspur FC (3.0) - Crystal Palace FC (1.0) on 2024-03-02 15:00:00"
          ],
          [
           "Brentford FC (2.0) - Chelsea FC (2.0) on 2024-03-02 15:00:00"
          ],
          [
           "Newcastle United FC (3.0) - Wolverhampton Wanderers FC (0.0) on 2024-03-02 15:00:00"
          ],
          [
           "Everton FC (1.0) - West Ham United FC (3.0) on 2024-03-02 15:00:00"
          ],
          [
           "Nottingham Forest FC (0.0) - Liverpool FC (1.0) on 2024-03-02 15:00:00"
          ],
          [
           "Luton Town FC (2.0) - Aston Villa FC (3.0) on 2024-03-02 17:30:00"
          ],
          [
           "Burnley FC (0.0) - AFC Bournemouth (2.0) on 2024-03-03 13:00:00"
          ],
          [
           "Manchester City FC (3.0) - Manchester United FC (1.0) on 2024-03-03 15:30:00"
          ],
          [
           "Sheffield United FC (0.0) - Arsenal FC (6.0) on 2024-03-04 20:00:00"
          ],
          [
           "Manchester United FC (2.0) - Everton FC (0.0) on 2024-03-09 12:30:00"
          ],
          [
           "Wolverhampton Wanderers FC (2.0) - Fulham FC (1.0) on 2024-03-09 15:00:00"
          ],
          [
           "AFC Bournemouth (2.0) - Sheffield United FC (2.0) on 2024-03-09 15:00:00"
          ],
          [
           "Crystal Palace FC (1.0) - Luton Town FC (1.0) on 2024-03-09 15:00:00"
          ],
          [
           "Arsenal FC (2.0) - Brentford FC (1.0) on 2024-03-09 17:30:00"
          ],
          [
           "Aston Villa FC (0.0) - Tottenham Hotspur FC (4.0) on 2024-03-10 13:00:00"
          ],
          [
           "Brighton & Hove Albion FC (1.0) - Nottingham Forest FC (0.0) on 2024-03-10 14:00:00"
          ],
          [
           "West Ham United FC (2.0) - Burnley FC (2.0) on 2024-03-10 14:00:00"
          ],
          [
           "Liverpool FC (1.0) - Manchester City FC (1.0) on 2024-03-10 15:45:00"
          ],
          [
           "Chelsea FC (3.0) - Newcastle United FC (2.0) on 2024-03-11 20:00:00"
          ],
          [
           "AFC Bournemouth (4.0) - Luton Town FC (3.0) on 2024-03-13 19:30:00"
          ],
          [
           "Burnley FC (2.0) - Brentford FC (1.0) on 2024-03-16 15:00:00"
          ],
          [
           "Luton Town FC (1.0) - Nottingham Forest FC (1.0) on 2024-03-16 15:00:00"
          ],
          [
           "Fulham FC (3.0) - Tottenham Hotspur FC (0.0) on 2024-03-16 17:30:00"
          ],
          [
           "West Ham United FC (1.0) - Aston Villa FC (1.0) on 2024-03-17 14:00:00"
          ],
          [
           "Newcastle United FC (4.0) - West Ham United FC (3.0) on 2024-03-30 12:30:00"
          ],
          [
           "Tottenham Hotspur FC (2.0) - Luton Town FC (1.0) on 2024-03-30 15:00:00"
          ],
          [
           "Sheffield United FC (3.0) - Fulham FC (3.0) on 2024-03-30 15:00:00"
          ],
          [
           "AFC Bournemouth (2.0) - Everton FC (1.0) on 2024-03-30 15:00:00"
          ],
          [
           "Nottingham Forest FC (1.0) - Crystal Palace FC (1.0) on 2024-03-30 15:00:00"
          ],
          [
           "Chelsea FC (2.0) - Burnley FC (2.0) on 2024-03-30 15:00:00"
          ],
          [
           "Aston Villa FC (2.0) - Wolverhampton Wanderers FC (0.0) on 2024-03-30 17:30:00"
          ],
          [
           "Brentford FC (1.0) - Manchester United FC (1.0) on 2024-03-30 20:00:00"
          ],
          [
           "Liverpool FC (2.0) - Brighton & Hove Albion FC (1.0) on 2024-03-31 13:00:00"
          ],
          [
           "Manchester City FC (0.0) - Arsenal FC (0.0) on 2024-03-31 15:30:00"
          ],
          [
           "Nottingham Forest FC (3.0) - Fulham FC (1.0) on 2024-04-02 18:30:00"
          ],
          [
           "Newcastle United FC (1.0) - Everton FC (1.0) on 2024-04-02 18:30:00"
          ],
          [
           "AFC Bournemouth (1.0) - Crystal Palace FC (0.0) on 2024-04-02 18:45:00"
          ],
          [
           "Burnley FC (1.0) - Wolverhampton Wanderers FC (1.0) on 2024-04-02 18:45:00"
          ],
          [
           "West Ham United FC (1.0) - Tottenham Hotspur FC (1.0) on 2024-04-02 19:15:00"
          ],
          [
           "Arsenal FC (2.0) - Luton Town FC (0.0) on 2024-04-03 18:30:00"
          ],
          [
           "Brentford FC (0.0) - Brighton & Hove Albion FC (0.0) on 2024-04-03 18:30:00"
          ],
          [
           "Manchester City FC (4.0) - Aston Villa FC (1.0) on 2024-04-03 19:15:00"
          ],
          [
           "Liverpool FC (3.0) - Sheffield United FC (1.0) on 2024-04-04 18:30:00"
          ],
          [
           "Chelsea FC (4.0) - Manchester United FC (3.0) on 2024-04-04 19:15:00"
          ],
          [
           "Crystal Palace FC (2.0) - Manchester City FC (4.0) on 2024-04-06 11:30:00"
          ],
          [
           "Luton Town FC (2.0) - AFC Bournemouth (1.0) on 2024-04-06 14:00:00"
          ],
          [
           "Aston Villa FC (3.0) - Brentford FC (3.0) on 2024-04-06 14:00:00"
          ],
          [
           "Everton FC (1.0) - Burnley FC (0.0) on 2024-04-06 14:00:00"
          ],
          [
           "Fulham FC (0.0) - Newcastle United FC (1.0) on 2024-04-06 14:00:00"
          ],
          [
           "Wolverhampton Wanderers FC (1.0) - West Ham United FC (2.0) on 2024-04-06 14:00:00"
          ],
          [
           "Brighton & Hove Albion FC (0.0) - Arsenal FC (3.0) on 2024-04-06 16:30:00"
          ],
          [
           "Manchester United FC (2.0) - Liverpool FC (2.0) on 2024-04-07 14:30:00"
          ],
          [
           "Sheffield United FC (2.0) - Chelsea FC (2.0) on 2024-04-07 16:30:00"
          ],
          [
           "Tottenham Hotspur FC (3.0) - Nottingham Forest FC (1.0) on 2024-04-07 17:00:00"
          ],
          [
           "Newcastle United FC (4.0) - Tottenham Hotspur FC (0.0) on 2024-04-13 11:30:00"
          ],
          [
           "Nottingham Forest FC (2.0) - Wolverhampton Wanderers FC (2.0) on 2024-04-13 14:00:00"
          ],
          [
           "Brentford FC (2.0) - Sheffield United FC (0.0) on 2024-04-13 14:00:00"
          ],
          [
           "Burnley FC (1.0) - Brighton & Hove Albion FC (1.0) on 2024-04-13 14:00:00"
          ],
          [
           "Manchester City FC (5.0) - Luton Town FC (1.0) on 2024-04-13 14:00:00"
          ],
          [
           "AFC Bournemouth (2.0) - Manchester United FC (2.0) on 2024-04-13 16:30:00"
          ],
          [
           "Liverpool FC (0.0) - Crystal Palace FC (1.0) on 2024-04-14 13:00:00"
          ],
          [
           "West Ham United FC (0.0) - Fulham FC (2.0) on 2024-04-14 13:00:00"
          ],
          [
           "Arsenal FC (0.0) - Aston Villa FC (2.0) on 2024-04-14 15:30:00"
          ],
          [
           "Chelsea FC (6.0) - Everton FC (0.0) on 2024-04-15 19:00:00"
          ],
          [
           "Sheffield United FC (1.0) - Burnley FC (4.0) on 2024-04-20 14:00:00"
          ],
          [
           "Luton Town FC (1.0) - Brentford FC (5.0) on 2024-04-20 14:00:00"
          ],
          [
           "Wolverhampton Wanderers FC (0.0) - Arsenal FC (2.0) on 2024-04-20 18:30:00"
          ],
          [
           "Everton FC (2.0) - Nottingham Forest FC (0.0) on 2024-04-21 12:30:00"
          ],
          [
           "Aston Villa FC (3.0) - AFC Bournemouth (1.0) on 2024-04-21 14:00:00"
          ],
          [
           "Crystal Palace FC (5.0) - West Ham United FC (2.0) on 2024-04-21 14:00:00"
          ],
          [
           "Fulham FC (1.0) - Liverpool FC (3.0) on 2024-04-21 15:30:00"
          ],
          [
           "Arsenal FC (5.0) - Chelsea FC (0.0) on 2024-04-23 19:00:00"
          ],
          [
           "Wolverhampton Wanderers FC (0.0) - AFC Bournemouth (1.0) on 2024-04-24 18:45:00"
          ],
          [
           "Crystal Palace FC (2.0) - Newcastle United FC (0.0) on 2024-04-24 19:00:00"
          ],
          [
           "Everton FC (2.0) - Liverpool FC (0.0) on 2024-04-24 19:00:00"
          ],
          [
           "Manchester United FC (4.0) - Sheffield United FC (2.0) on 2024-04-24 19:00:00"
          ],
          [
           "Brighton & Hove Albion FC (0.0) - Manchester City FC (4.0) on 2024-04-25 19:00:00"
          ],
          [
           "West Ham United FC (2.0) - Liverpool FC (2.0) on 2024-04-27 11:30:00"
          ],
          [
           "Newcastle United FC (5.0) - Sheffield United FC (1.0) on 2024-04-27 14:00:00"
          ],
          [
           "Manchester United FC (1.0) - Burnley FC (1.0) on 2024-04-27 14:00:00"
          ],
          [
           "Fulham FC (1.0) - Crystal Palace FC (1.0) on 2024-04-27 14:00:00"
          ],
          [
           "Wolverhampton Wanderers FC (2.0) - Luton Town FC (1.0) on 2024-04-27 14:00:00"
          ],
          [
           "Everton FC (1.0) - Brentford FC (0.0) on 2024-04-27 16:30:00"
          ],
          [
           "Aston Villa FC (2.0) - Chelsea FC (2.0) on 2024-04-27 19:00:00"
          ],
          [
           "Tottenham Hotspur FC (2.0) - Arsenal FC (3.0) on 2024-04-28 13:00:00"
          ],
          [
           "AFC Bournemouth (3.0) - Brighton & Hove Albion FC (0.0) on 2024-04-28 13:00:00"
          ],
          [
           "Nottingham Forest FC (0.0) - Manchester City FC (2.0) on 2024-04-28 15:30:00"
          ],
          [
           "Chelsea FC (2.0) - Tottenham Hotspur FC (0.0) on 2024-05-02 18:30:00"
          ],
          [
           "Luton Town FC (1.0) - Everton FC (1.0) on 2024-05-03 19:00:00"
          ],
          [
           "Arsenal FC (3.0) - AFC Bournemouth (0.0) on 2024-05-04 11:30:00"
          ],
          [
           "Brentford FC (0.0) - Fulham FC (0.0) on 2024-05-04 14:00:00"
          ],
          [
           "Burnley FC (1.0) - Newcastle United FC (4.0) on 2024-05-04 14:00:00"
          ],
          [
           "Sheffield United FC (1.0) - Nottingham Forest FC (3.0) on 2024-05-04 14:00:00"
          ],
          [
           "Manchester City FC (5.0) - Wolverhampton Wanderers FC (1.0) on 2024-05-04 16:30:00"
          ],
          [
           "Brighton & Hove Albion FC (1.0) - Aston Villa FC (0.0) on 2024-05-05 13:00:00"
          ],
          [
           "Chelsea FC (5.0) - West Ham United FC (0.0) on 2024-05-05 13:00:00"
          ],
          [
           "Liverpool FC (4.0) - Tottenham Hotspur FC (2.0) on 2024-05-05 15:30:00"
          ],
          [
           "Crystal Palace FC (4.0) - Manchester United FC (0.0) on 2024-05-06 19:00:00"
          ],
          [
           "Fulham FC (0.0) - Manchester City FC (4.0) on 2024-05-11 11:30:00"
          ],
          [
           "Everton FC (1.0) - Sheffield United FC (0.0) on 2024-05-11 14:00:00"
          ],
          [
           "Newcastle United FC (1.0) - Brighton & Hove Albion FC (1.0) on 2024-05-11 14:00:00"
          ],
          [
           "Tottenham Hotspur FC (2.0) - Burnley FC (1.0) on 2024-05-11 14:00:00"
          ],
          [
           "West Ham United FC (3.0) - Luton Town FC (1.0) on 2024-05-11 14:00:00"
          ],
          [
           "Wolverhampton Wanderers FC (1.0) - Crystal Palace FC (3.0) on 2024-05-11 14:00:00"
          ],
          [
           "AFC Bournemouth (1.0) - Brentford FC (2.0) on 2024-05-11 14:00:00"
          ],
          [
           "Nottingham Forest FC (2.0) - Chelsea FC (3.0) on 2024-05-11 16:30:00"
          ],
          [
           "Manchester United FC (0.0) - Arsenal FC (1.0) on 2024-05-12 15:30:00"
          ],
          [
           "Aston Villa FC (3.0) - Liverpool FC (3.0) on 2024-05-13 19:00:00"
          ],
          [
           "Tottenham Hotspur FC (0.0) - Manchester City FC (2.0) on 2024-05-14 19:00:00"
          ],
          [
           "Brighton & Hove Albion FC (1.0) - Chelsea FC (2.0) on 2024-05-15 18:45:00"
          ],
          [
           "Manchester United FC (3.0) - Newcastle United FC (2.0) on 2024-05-15 19:00:00"
          ],
          [
           "Brighton & Hove Albion FC (0.0) - Manchester United FC (2.0) on 2024-05-19 15:00:00"
          ],
          [
           "Arsenal FC (2.0) - Everton FC (1.0) on 2024-05-19 15:00:00"
          ],
          [
           "Burnley FC (1.0) - Nottingham Forest FC (2.0) on 2024-05-19 15:00:00"
          ],
          [
           "Crystal Palace FC (5.0) - Aston Villa FC (0.0) on 2024-05-19 15:00:00"
          ],
          [
           "Liverpool FC (2.0) - Wolverhampton Wanderers FC (0.0) on 2024-05-19 15:00:00"
          ],
          [
           "Luton Town FC (2.0) - Fulham FC (4.0) on 2024-05-19 15:00:00"
          ],
          [
           "Sheffield United FC (0.0) - Tottenham Hotspur FC (3.0) on 2024-05-19 15:00:00"
          ],
          [
           "Manchester City FC (3.0) - West Ham United FC (1.0) on 2024-05-19 15:00:00"
          ],
          [
           "Chelsea FC (2.0) - AFC Bournemouth (1.0) on 2024-05-19 15:00:00"
          ],
          [
           "Brentford FC (2.0) - Newcastle United FC (4.0) on 2024-05-19 15:00:00"
          ]
         ],
         "hovertemplate": "season=2022-2023<br>elo_difference=%{x}<br>home_outcome=%{y}<br>match_info=%{customdata[0]}<extra></extra>",
         "legendgroup": "2022-2023",
         "marker": {
          "color": "#636efa",
          "symbol": "circle"
         },
         "mode": "markers",
         "name": "2022-2023",
         "showlegend": true,
         "type": "scattergl",
         "x": [
          -202.65998598149554,
          160.96953934744738,
          1.6454096723671228,
          -184.95593546666896,
          -21.619706680873605,
          77.08696678058323,
          59.00749524697267,
          -15.84045189591916,
          22.332055607686698,
          103.99405903399133,
          105.47131177103415,
          100.53734057450424,
          -12.267695866461963,
          -72.4016132333129,
          5.351784711825076,
          106.00588720002293,
          33.38945431206844,
          -46.052069038801164,
          -85.63529549272812,
          159.81039957664257,
          -82.822143262277,
          5.236711322678502,
          -33.39127611656045,
          114.64520758308618,
          65.56904554073753,
          -42.71999521866883,
          -255.6087896370227,
          -103.20878420464692,
          -66.88912687012316,
          -139.8179661691097,
          -63.9947499939924,
          37.44836419272133,
          146.5765378788701,
          -133.34800192132457,
          45.480270620035526,
          9.646034647013266,
          112.20514722997086,
          83.39385381648185,
          106.7877359021436,
          -160.27420803600035,
          -1.5601178081010403,
          117.80445292192962,
          -24.67091082500974,
          165.66568470689617,
          -123.42202513800976,
          25.635929591743206,
          -57.91596092533268,
          -176.14876178350096,
          65.56756971554637,
          -38.91176812899812,
          162.7205580755833,
          19.55735773588026,
          -6.565504017017702,
          -96.65248301998122,
          -39.19304061762455,
          100.84645396303563,
          58.1085773622367,
          81.56294494738177,
          -138.78381204262337,
          44.37549741598559,
          134.18679082449717,
          126.95597147210128,
          -48.98193476699157,
          -134.04271259384564,
          -169.11788657798365,
          24.964586678908518,
          -2.497744119016261,
          10.509887197759781,
          -36.07171230470476,
          -20.835858038228707,
          -168.7419072335772,
          42.35122266358849,
          -110.56093361208741,
          125.43390942251312,
          56.11093825999251,
          50.63712617739702,
          -49.24855700609123,
          -16.727050426803544,
          -73.67985361100386,
          46.802407321815735,
          112.95911519351807,
          61.57185337019564,
          62.73737449856708,
          -73.96020789354361,
          88.00356375511342,
          33.60834070681176,
          -74.11763629927759,
          -148.95596059729814,
          66.592111917887,
          100.25700687767971,
          -96.87494801242292,
          14.64883065524009,
          43.16696822717881,
          237.29932425475545,
          -44.00325939230288,
          -8.761714071608594,
          114.10492972812722,
          11.433552607687716,
          156.57813199038924,
          -92.13970775435837,
          -51.10120482889192,
          55.18223064599647,
          163.95381143029545,
          -11.685815198524551,
          -64.95269138914887,
          -117.55700242688272,
          -20.31219736864591,
          -45.92812708182805,
          -141.1693944330084,
          30.627597450027906,
          -39.42340831225465,
          -16.650452060089947,
          192.5523508501933,
          114.9265165798929,
          -65.11805432614688,
          95.01516519279812,
          8.622752978404606,
          74.99040838707378,
          81.10060905944601,
          -54.48846134349469,
          8.562952820088412,
          -112.68451051388479,
          -21.969215809972184,
          33.59335163840319,
          -52.62118156120414,
          -76.27601226879483,
          -108.06790616902981,
          -50.1510292086748,
          -58.986332494560884,
          4.401118205357534,
          18.654043338818383,
          132.6406897888944,
          68.05150439037584,
          -62.448333640398005,
          36.473515827532765,
          -67.90352704489987,
          39.3298034099771,
          24.185926276223654,
          113.98244514937096,
          54.72793477233563,
          80.43818585970507,
          -173.75489274360802,
          -51.31380411562077,
          -193.72802296282862,
          57.05950258287339,
          29.055083489072103,
          33.024515746853695,
          24.068562633326792,
          -8.697737845074926,
          -18.9968563196403,
          -144.4198536230076,
          89.33892077285464,
          -8.143935297869348,
          -37.10473983471957,
          43.45832483647564,
          13.358011135198467,
          51.84715022387377,
          13.83365451997679,
          -136.99433688714703,
          4.95352574424237,
          -102.84697411907769,
          40.75576141508759,
          93.59446925335033,
          90.86446015747151,
          -142.92684172039435,
          94.28240632011716,
          -142.5314125688376,
          47.927478491704505,
          59.68754397310818,
          -26.99825729708232,
          149.57027904421466,
          30.082905842100217,
          29.08645685986494,
          -53.876804473546144,
          19.790851474853753,
          -118.98085131405742,
          -1.9333773023047343,
          2.7695074569444387,
          32.19648360072847,
          95.9025004512846,
          -55.12472152027976,
          -150.84407354394534,
          -26.085401343665126,
          57.090854939482824,
          -68.21444051419712,
          -52.52298794625699,
          -12.370218734707123,
          1.110610548344539,
          -64.26466661142354,
          157.97618849131595,
          34.39894585967818,
          44.80796252806135,
          135.17145812884064,
          -24.777870591530245,
          -42.16777681477902,
          14.541022591917681,
          120.86592230444921,
          32.12613187927241,
          -26.8890885990038,
          69.04343077166072,
          -119.61489801098878,
          -56.82801873158246,
          -34.87718522389696,
          82.70372243127895,
          -4.6310385409829,
          -110.77553792716208,
          -88.51902234482327,
          -9.732864179004082,
          -105.44221748091468,
          -7.715829240813491,
          -22.697045596447197,
          63.109732319023124,
          39.89773417288529,
          158.53764039795578,
          108.1879217262076,
          89.07692896302501,
          20.109333356898105,
          -20.655499258904,
          -45.33271002790684,
          49.08760458270831,
          -37.868056269127464,
          1.607435100786006,
          -129.47741331333077,
          29.382508883357104,
          -23.037288770282203,
          54.86494878462918,
          -10.081279023356274,
          -155.61073664537093,
          113.04250770827889,
          7.244766341582363,
          157.811962467365,
          27.001814837655047,
          64.7629169511224,
          34.80789895977932,
          -64.75017339840815,
          -85.08481569394417,
          -40.36023408521123,
          -68.33468927788567,
          -138.7179714950753,
          -163.79297402581233,
          -54.89437256963379,
          14.37457090581438,
          -8.268919257167227,
          12.365470913728132,
          67.7314207136892,
          -83.32262397664294,
          -113.62680798195106,
          30.80965666378529,
          147.85594028302512,
          152.3460532394131,
          35.99855778561664,
          20.589740754423474,
          62.96475822455636,
          92.07043001935995,
          -122.53201861190087,
          104.84775772493481,
          114.55178273913361,
          61.372137415144834,
          33.35645726174994,
          85.17463033947502,
          -71.98925071115582,
          2.0159327521214436,
          -42.5396320215641,
          -156.16256463217906,
          -120.37951860897033,
          -91.82688636928015,
          87.34583251794788,
          -183.9957023378936,
          79.30675806432055,
          26.994921855572102,
          66.20499042762503,
          20.348050938398274,
          166.71168883626774,
          -28.56887232488225,
          72.20719919464727,
          90.91040655300822,
          -5.2181100128032085,
          39.058494881964634,
          77.35038066762718,
          20.64169452706824,
          -2.86395420917529,
          -12.733558062273687,
          -22.366458474373758,
          24.90825038438652,
          120.1163372205458,
          -81.4873007273286,
          79.26164032156544,
          -19.670778253547496,
          74.60332456174797,
          38.36821266908669,
          -95.29071806722573,
          111.12599838228266,
          -1.1008405666975705,
          -22.53984134473876,
          56.64456311870072,
          85.988973411512,
          -47.6359935826199,
          -48.85405940567898,
          176.79496216342795,
          -49.07292252243292,
          76.33409432829922,
          176.45037719401262,
          34.94879123287569,
          -163.55891751761942,
          -57.96506970666928,
          71.69138974361886,
          32.81073271550554,
          -49.53170470243367,
          -26.74611774452137,
          -127.53307224501827,
          -81.79992466402496,
          -92.77889233922156,
          94.88511183717446,
          14.72705363327691,
          -22.29729322510275,
          44.30727222095743,
          -29.732379785085868,
          165.87990521950337,
          -1.4070639219312397,
          86.99222082396068,
          -7.734624200784083,
          32.0676535916416,
          86.02715431163529,
          -54.19689508019951,
          -58.74753581006803,
          -111.25465560095404,
          35.53622341187179,
          64.29868573023373,
          23.500570899345348,
          -88.77144629313261,
          67.54731134460599,
          -53.71204221582366,
          -2.717410296108028,
          -37.040944852854864,
          116.76723128195908,
          -147.72817545097382,
          -59.312855045798415,
          130.28043168937097,
          45.46233644358722,
          -27.79707599043968,
          57.848478044728154,
          50.746476133669375,
          24.470859257933625,
          -90.85323481056548,
          72.89037723887873,
          -176.8551663366568,
          49.11371377434011,
          -86.62076378845768,
          100.51095113531869,
          -10.659664262534761,
          -84.42185020295915,
          -69.44645169751016,
          153.04907709813392,
          -43.55784086103131,
          90.6450454379808,
          73.02213306825251,
          32.90747813758139,
          -147.78984483685008,
          141.03290619527274,
          53.088641974054326,
          51.613856640959966,
          64.99020137942102,
          -90.57635244621747,
          -9.440803114554456,
          -114.69149068690854,
          -128.93936325358186,
          -22.23481070306798,
          -141.93199447398956,
          -102.87211790061383,
          -5.394091781100769,
          -67.6544280125272,
          109.21261917325546,
          -40.98646823312765,
          54.83278873679592,
          112.5595377995212,
          -84.38040644413854,
          -118.3055113378773,
          156.1805451774569,
          108.14179403339222,
          -50.461221303668935,
          -202.65998598149554,
          160.96953934744738,
          1.6454096723671228,
          -184.95593546666896,
          -21.619706680873605,
          77.08696678058323,
          59.00749524697267,
          -15.84045189591916,
          22.332055607686698,
          103.99405903399133,
          105.47131177103415,
          100.53734057450424,
          -12.267695866461963,
          -72.4016132333129,
          5.351784711825076,
          106.00588720002293,
          33.38945431206844,
          -46.052069038801164,
          -85.63529549272812,
          159.81039957664257,
          -82.822143262277,
          5.236711322678502,
          -33.39127611656045,
          114.64520758308618,
          65.56904554073753,
          -42.71999521866883,
          -255.6087896370227,
          -103.20878420464692,
          -66.88912687012316,
          -139.8179661691097,
          -63.9947499939924,
          37.44836419272133,
          146.5765378788701,
          -133.34800192132457,
          45.480270620035526,
          9.646034647013266,
          112.20514722997086,
          83.39385381648185,
          106.7877359021436,
          -160.27420803600035,
          -1.5601178081010403,
          117.80445292192962,
          -24.67091082500974,
          165.66568470689617,
          -123.42202513800976,
          25.635929591743206,
          -57.91596092533268,
          -176.14876178350096,
          65.56756971554637,
          -38.91176812899812,
          162.7205580755833,
          19.55735773588026,
          -6.565504017017702,
          -96.65248301998122,
          -39.19304061762455,
          100.84645396303563,
          58.1085773622367,
          81.56294494738177,
          -138.78381204262337,
          44.37549741598559,
          134.18679082449717,
          126.95597147210128,
          -48.98193476699157,
          -134.04271259384564,
          -169.11788657798365,
          24.964586678908518,
          -2.497744119016261,
          10.509887197759781,
          -36.07171230470476,
          -20.835858038228707,
          -168.7419072335772,
          42.35122266358849,
          -110.56093361208741,
          125.43390942251312,
          56.11093825999251,
          50.63712617739702,
          -49.24855700609123,
          -16.727050426803544,
          -73.67985361100386,
          46.802407321815735,
          112.95911519351807,
          61.57185337019564,
          62.73737449856708,
          -73.96020789354361,
          88.00356375511342,
          33.60834070681176,
          -74.11763629927759,
          -148.95596059729814,
          66.592111917887,
          100.25700687767971,
          -96.87494801242292,
          14.64883065524009,
          43.16696822717881,
          237.29932425475545,
          -44.00325939230288,
          -8.761714071608594,
          114.10492972812722,
          11.433552607687716,
          156.57813199038924,
          -92.13970775435837,
          -51.10120482889192,
          55.18223064599647,
          163.95381143029545,
          -11.685815198524551,
          -64.95269138914887,
          -117.55700242688272,
          -20.31219736864591,
          -45.92812708182805,
          -141.1693944330084,
          30.627597450027906,
          -39.42340831225465,
          -16.650452060089947,
          192.5523508501933,
          114.9265165798929,
          -65.11805432614688,
          95.01516519279812,
          8.622752978404606,
          74.99040838707378,
          81.10060905944601,
          -54.48846134349469,
          8.562952820088412,
          -112.68451051388479,
          -21.969215809972184,
          33.59335163840319,
          -52.62118156120414,
          -76.27601226879483,
          -108.06790616902981,
          -50.1510292086748,
          -58.986332494560884,
          4.401118205357534,
          18.654043338818383,
          132.6406897888944,
          68.05150439037584,
          -62.448333640398005,
          36.473515827532765,
          -67.90352704489987,
          39.3298034099771,
          24.185926276223654,
          113.98244514937096,
          54.72793477233563,
          80.43818585970507,
          -173.75489274360802,
          -51.31380411562077,
          -193.72802296282862,
          57.05950258287339,
          29.055083489072103,
          33.024515746853695,
          24.068562633326792,
          -8.697737845074926,
          -18.9968563196403,
          -144.4198536230076,
          89.33892077285464,
          -8.143935297869348,
          -37.10473983471957,
          43.45832483647564,
          13.358011135198467,
          51.84715022387377,
          13.83365451997679,
          -136.99433688714703,
          4.95352574424237,
          -102.84697411907769,
          40.75576141508759,
          93.59446925335033,
          90.86446015747151,
          -142.92684172039435,
          94.28240632011716,
          -142.5314125688376,
          47.927478491704505,
          59.68754397310818,
          -26.99825729708232,
          149.57027904421466,
          30.082905842100217,
          29.08645685986494,
          -53.876804473546144,
          19.790851474853753,
          -118.98085131405742,
          -1.9333773023047343,
          2.7695074569444387,
          32.19648360072847,
          95.9025004512846,
          -55.12472152027976,
          -150.84407354394534,
          -26.085401343665126,
          57.090854939482824,
          -68.21444051419712,
          -52.52298794625699,
          -12.370218734707123,
          1.110610548344539,
          -64.26466661142354,
          157.97618849131595,
          34.39894585967818,
          44.80796252806135,
          135.17145812884064,
          -24.777870591530245,
          -42.16777681477902,
          14.541022591917681,
          120.86592230444921,
          32.12613187927241,
          -26.8890885990038,
          69.04343077166072,
          -119.61489801098878,
          -56.82801873158246,
          -34.87718522389696,
          82.70372243127895,
          -4.6310385409829,
          -110.77553792716208,
          -88.51902234482327,
          -9.732864179004082,
          -105.44221748091468,
          -7.715829240813491,
          -22.697045596447197,
          63.109732319023124,
          39.89773417288529,
          158.53764039795578,
          108.1879217262076,
          89.07692896302501,
          20.109333356898105,
          -20.655499258904,
          -45.33271002790684,
          49.08760458270831,
          -37.868056269127464,
          1.607435100786006,
          -129.47741331333077,
          29.382508883357104,
          -23.037288770282203,
          54.86494878462918,
          -10.081279023356274,
          -155.61073664537093,
          113.04250770827889,
          7.244766341582363,
          157.811962467365,
          27.001814837655047,
          64.7629169511224,
          34.80789895977932,
          -64.75017339840815,
          -85.08481569394417,
          -40.36023408521123,
          -68.33468927788567,
          -138.7179714950753,
          -163.79297402581233,
          -54.89437256963379,
          14.37457090581438,
          -8.268919257167227,
          12.365470913728132,
          67.7314207136892,
          -83.32262397664294,
          -113.62680798195106,
          30.80965666378529,
          147.85594028302512,
          152.3460532394131,
          35.99855778561664,
          20.589740754423474,
          62.96475822455636,
          92.07043001935995,
          -122.53201861190087,
          104.84775772493481,
          114.55178273913361,
          61.372137415144834,
          33.35645726174994,
          85.17463033947502,
          -71.98925071115582,
          2.0159327521214436,
          -42.5396320215641,
          -156.16256463217906,
          -120.37951860897033,
          -91.82688636928015,
          87.34583251794788,
          -183.9957023378936,
          79.30675806432055,
          26.994921855572102,
          66.20499042762503,
          20.348050938398274,
          166.71168883626774,
          -28.56887232488225,
          72.20719919464727,
          90.91040655300822,
          -5.2181100128032085,
          39.058494881964634,
          77.35038066762718,
          20.64169452706824,
          -2.86395420917529,
          -12.733558062273687,
          -22.366458474373758,
          24.90825038438652,
          120.1163372205458,
          -81.4873007273286,
          79.26164032156544,
          -19.670778253547496,
          74.60332456174797,
          38.36821266908669,
          -95.29071806722573,
          111.12599838228266,
          -1.1008405666975705,
          -22.53984134473876,
          56.64456311870072,
          85.988973411512,
          -47.6359935826199,
          -48.85405940567898,
          176.79496216342795,
          -49.07292252243292,
          76.33409432829922,
          176.45037719401262,
          34.94879123287569,
          -163.55891751761942,
          -57.96506970666928,
          71.69138974361886,
          32.81073271550554,
          -49.53170470243367,
          -26.74611774452137,
          -127.53307224501827,
          -81.79992466402496,
          -92.77889233922156,
          94.88511183717446,
          14.72705363327691,
          -22.29729322510275,
          44.30727222095743,
          -29.732379785085868,
          165.87990521950337,
          -1.4070639219312397,
          86.99222082396068,
          -7.734624200784083,
          32.0676535916416,
          86.02715431163529,
          -54.19689508019951,
          -58.74753581006803,
          -111.25465560095404,
          35.53622341187179,
          64.29868573023373,
          23.500570899345348,
          -88.77144629313261,
          67.54731134460599,
          -53.71204221582366,
          -2.717410296108028,
          -37.040944852854864,
          116.76723128195908,
          -147.72817545097382,
          -59.312855045798415,
          130.28043168937097,
          45.46233644358722,
          -27.79707599043968,
          57.848478044728154,
          50.746476133669375,
          24.470859257933625,
          -90.85323481056548,
          72.89037723887873,
          -176.8551663366568,
          49.11371377434011,
          -86.62076378845768,
          100.51095113531869,
          -10.659664262534761,
          -84.42185020295915,
          -69.44645169751016,
          153.04907709813392,
          -43.55784086103131,
          90.6450454379808,
          73.02213306825251,
          32.90747813758139,
          -147.78984483685008,
          141.03290619527274,
          53.088641974054326,
          51.613856640959966,
          64.99020137942102,
          -90.57635244621747,
          -9.440803114554456,
          -114.69149068690854,
          -128.93936325358186,
          -22.23481070306798,
          -141.93199447398956,
          -102.87211790061383,
          -5.394091781100769,
          -67.6544280125272,
          109.21261917325546,
          -40.98646823312765,
          54.83278873679592,
          112.5595377995212,
          -84.38040644413854,
          -118.3055113378773,
          156.1805451774569,
          108.14179403339222,
          -50.461221303668935,
          -202.65998598149554,
          160.96953934744738,
          1.6454096723671228,
          -184.95593546666896,
          -21.619706680873605,
          77.08696678058323,
          59.00749524697267,
          -15.84045189591916,
          22.332055607686698,
          103.99405903399133,
          105.47131177103415,
          100.53734057450424,
          -12.267695866461963,
          -72.4016132333129,
          5.351784711825076,
          106.00588720002293,
          33.38945431206844,
          -46.052069038801164,
          -85.63529549272812,
          159.81039957664257,
          -82.822143262277,
          5.236711322678502,
          -33.39127611656045,
          114.64520758308618,
          65.56904554073753,
          -42.71999521866883,
          -255.6087896370227,
          -103.20878420464692,
          -66.88912687012316,
          -139.8179661691097,
          -63.9947499939924,
          37.44836419272133,
          146.5765378788701,
          -133.34800192132457,
          45.480270620035526,
          9.646034647013266,
          112.20514722997086,
          83.39385381648185,
          106.7877359021436,
          -160.27420803600035,
          -1.5601178081010403,
          117.80445292192962,
          -24.67091082500974,
          165.66568470689617,
          -123.42202513800976,
          25.635929591743206,
          -57.91596092533268,
          -176.14876178350096,
          65.56756971554637,
          -38.91176812899812,
          162.7205580755833,
          19.55735773588026,
          -6.565504017017702,
          -96.65248301998122,
          -39.19304061762455,
          100.84645396303563,
          58.1085773622367,
          81.56294494738177,
          -138.78381204262337,
          44.37549741598559,
          134.18679082449717,
          126.95597147210128,
          -48.98193476699157,
          -134.04271259384564,
          -169.11788657798365,
          24.964586678908518,
          -2.497744119016261,
          10.509887197759781,
          -36.07171230470476,
          -20.835858038228707,
          -168.7419072335772,
          42.35122266358849,
          -110.56093361208741,
          125.43390942251312,
          56.11093825999251,
          50.63712617739702,
          -49.24855700609123,
          -16.727050426803544,
          -73.67985361100386,
          46.802407321815735,
          112.95911519351807,
          61.57185337019564,
          62.73737449856708,
          -73.96020789354361,
          88.00356375511342,
          33.60834070681176,
          -74.11763629927759,
          -148.95596059729814,
          66.592111917887,
          100.25700687767971,
          -96.87494801242292,
          14.64883065524009,
          43.16696822717881,
          237.29932425475545,
          -44.00325939230288,
          -8.761714071608594,
          114.10492972812722,
          11.433552607687716,
          156.57813199038924,
          -92.13970775435837,
          -51.10120482889192,
          55.18223064599647,
          163.95381143029545,
          -11.685815198524551,
          -64.95269138914887,
          -117.55700242688272,
          -20.31219736864591,
          -45.92812708182805,
          -141.1693944330084,
          30.627597450027906,
          -39.42340831225465,
          -16.650452060089947,
          192.5523508501933,
          114.9265165798929,
          -65.11805432614688,
          95.01516519279812,
          8.622752978404606,
          74.99040838707378,
          81.10060905944601,
          -54.48846134349469,
          8.562952820088412,
          -112.68451051388479,
          -21.969215809972184,
          33.59335163840319,
          -52.62118156120414,
          -76.27601226879483,
          -108.06790616902981,
          -50.1510292086748,
          -58.986332494560884,
          4.401118205357534,
          18.654043338818383,
          132.6406897888944,
          68.05150439037584,
          -62.448333640398005,
          36.473515827532765,
          -67.90352704489987,
          39.3298034099771,
          24.185926276223654,
          113.98244514937096,
          54.72793477233563,
          80.43818585970507,
          -173.75489274360802,
          -51.31380411562077,
          -193.72802296282862,
          57.05950258287339,
          29.055083489072103,
          33.024515746853695,
          24.068562633326792,
          -8.697737845074926,
          -18.9968563196403,
          -144.4198536230076,
          89.33892077285464,
          -8.143935297869348,
          -37.10473983471957,
          43.45832483647564,
          13.358011135198467,
          51.84715022387377,
          13.83365451997679,
          -136.99433688714703,
          4.95352574424237,
          -102.84697411907769,
          40.75576141508759,
          93.59446925335033,
          90.86446015747151,
          -142.92684172039435,
          94.28240632011716,
          -142.5314125688376,
          47.927478491704505,
          59.68754397310818,
          -26.99825729708232,
          149.57027904421466,
          30.082905842100217,
          29.08645685986494,
          -53.876804473546144,
          19.790851474853753,
          -118.98085131405742,
          -1.9333773023047343,
          2.7695074569444387,
          32.19648360072847,
          95.9025004512846,
          -55.12472152027976,
          -150.84407354394534,
          -26.085401343665126,
          57.090854939482824,
          -68.21444051419712,
          -52.52298794625699,
          -12.370218734707123,
          1.110610548344539,
          -64.26466661142354,
          157.97618849131595,
          34.39894585967818,
          44.80796252806135,
          135.17145812884064,
          -24.777870591530245,
          -42.16777681477902,
          14.541022591917681,
          120.86592230444921,
          32.12613187927241,
          -26.8890885990038,
          69.04343077166072,
          -119.61489801098878,
          -56.82801873158246,
          -34.87718522389696,
          82.70372243127895,
          -4.6310385409829,
          -110.77553792716208,
          -88.51902234482327,
          -9.732864179004082,
          -105.44221748091468,
          -7.715829240813491,
          -22.697045596447197,
          63.109732319023124,
          39.89773417288529,
          158.53764039795578,
          108.1879217262076,
          89.07692896302501,
          20.109333356898105,
          -20.655499258904,
          -45.33271002790684,
          49.08760458270831,
          -37.868056269127464,
          1.607435100786006,
          -129.47741331333077,
          29.382508883357104,
          -23.037288770282203,
          54.86494878462918,
          -10.081279023356274,
          -155.61073664537093,
          113.04250770827889,
          7.244766341582363,
          157.811962467365,
          27.001814837655047,
          64.7629169511224,
          34.80789895977932,
          -64.75017339840815,
          -85.08481569394417,
          -40.36023408521123,
          -68.33468927788567,
          -138.7179714950753,
          -163.79297402581233,
          -54.89437256963379,
          14.37457090581438,
          -8.268919257167227,
          12.365470913728132,
          67.7314207136892,
          -83.32262397664294,
          -113.62680798195106,
          30.80965666378529,
          147.85594028302512,
          152.3460532394131,
          35.99855778561664,
          20.589740754423474,
          62.96475822455636,
          92.07043001935995,
          -122.53201861190087,
          104.84775772493481,
          114.55178273913361,
          61.372137415144834,
          33.35645726174994,
          85.17463033947502,
          -71.98925071115582,
          2.0159327521214436,
          -42.5396320215641,
          -156.16256463217906,
          -120.37951860897033,
          -91.82688636928015,
          87.34583251794788,
          -183.9957023378936,
          79.30675806432055,
          26.994921855572102,
          66.20499042762503,
          20.348050938398274,
          166.71168883626774,
          -28.56887232488225,
          72.20719919464727,
          90.91040655300822,
          -5.2181100128032085,
          39.058494881964634,
          77.35038066762718,
          20.64169452706824,
          -2.86395420917529,
          -12.733558062273687,
          -22.366458474373758,
          24.90825038438652,
          120.1163372205458,
          -81.4873007273286,
          79.26164032156544,
          -19.670778253547496,
          74.60332456174797,
          38.36821266908669,
          -95.29071806722573,
          111.12599838228266,
          -1.1008405666975705,
          -22.53984134473876,
          56.64456311870072,
          85.988973411512,
          -47.6359935826199,
          -48.85405940567898,
          176.79496216342795,
          -49.07292252243292,
          76.33409432829922,
          176.45037719401262,
          34.94879123287569,
          -163.55891751761942,
          -57.96506970666928,
          71.69138974361886,
          32.81073271550554,
          -49.53170470243367,
          -26.74611774452137,
          -127.53307224501827,
          -81.79992466402496,
          -92.77889233922156,
          94.88511183717446,
          14.72705363327691,
          -22.29729322510275,
          44.30727222095743,
          -29.732379785085868,
          165.87990521950337,
          -1.4070639219312397,
          86.99222082396068,
          -7.734624200784083,
          32.0676535916416,
          86.02715431163529,
          -54.19689508019951,
          -58.74753581006803,
          -111.25465560095404,
          35.53622341187179,
          64.29868573023373,
          23.500570899345348,
          -88.77144629313261,
          67.54731134460599,
          -53.71204221582366,
          -2.717410296108028,
          -37.040944852854864,
          116.76723128195908,
          -147.72817545097382,
          -59.312855045798415,
          130.28043168937097,
          45.46233644358722,
          -27.79707599043968,
          57.848478044728154,
          50.746476133669375,
          24.470859257933625,
          -90.85323481056548,
          72.89037723887873,
          -176.8551663366568,
          49.11371377434011,
          -86.62076378845768,
          100.51095113531869,
          -10.659664262534761,
          -84.42185020295915,
          -69.44645169751016,
          153.04907709813392,
          -43.55784086103131,
          90.6450454379808,
          73.02213306825251,
          32.90747813758139,
          -147.78984483685008,
          141.03290619527274,
          53.088641974054326,
          51.613856640959966,
          64.99020137942102,
          -90.57635244621747,
          -9.440803114554456,
          -114.69149068690854,
          -128.93936325358186,
          -22.23481070306798,
          -141.93199447398956,
          -102.87211790061383,
          -5.394091781100769,
          -67.6544280125272,
          109.21261917325546,
          -40.98646823312765,
          54.83278873679592,
          112.5595377995212,
          -84.38040644413854,
          -118.3055113378773,
          156.1805451774569,
          108.14179403339222,
          -50.461221303668935,
          -202.65998598149554,
          160.96953934744738,
          1.6454096723671228,
          -184.95593546666896,
          -21.619706680873605,
          77.08696678058323,
          59.00749524697267,
          -15.84045189591916,
          22.332055607686698,
          103.99405903399133,
          105.47131177103415,
          100.53734057450424,
          -12.267695866461963,
          -72.4016132333129,
          5.351784711825076,
          106.00588720002293,
          33.38945431206844,
          -46.052069038801164,
          -85.63529549272812,
          159.81039957664257,
          -82.822143262277,
          5.236711322678502,
          -33.39127611656045,
          114.64520758308618,
          65.56904554073753,
          -42.71999521866883,
          -255.6087896370227,
          -103.20878420464692,
          -66.88912687012316,
          -139.8179661691097,
          -63.9947499939924,
          37.44836419272133,
          146.5765378788701,
          -133.34800192132457,
          45.480270620035526,
          9.646034647013266,
          112.20514722997086,
          83.39385381648185,
          106.7877359021436,
          -160.27420803600035,
          -1.5601178081010403,
          117.80445292192962,
          -24.67091082500974,
          165.66568470689617,
          -123.42202513800976,
          25.635929591743206,
          -57.91596092533268,
          -176.14876178350096,
          65.56756971554637,
          -38.91176812899812,
          162.7205580755833,
          19.55735773588026,
          -6.565504017017702,
          -96.65248301998122,
          -39.19304061762455,
          100.84645396303563,
          58.1085773622367,
          81.56294494738177,
          -138.78381204262337,
          44.37549741598559,
          134.18679082449717,
          126.95597147210128,
          -48.98193476699157,
          -134.04271259384564,
          -169.11788657798365,
          24.964586678908518,
          -2.497744119016261,
          10.509887197759781,
          -36.07171230470476,
          -20.835858038228707,
          -168.7419072335772,
          42.35122266358849,
          -110.56093361208741,
          125.43390942251312,
          56.11093825999251,
          50.63712617739702,
          -49.24855700609123,
          -16.727050426803544,
          -73.67985361100386,
          46.802407321815735,
          112.95911519351807,
          61.57185337019564,
          62.73737449856708,
          -73.96020789354361,
          88.00356375511342,
          33.60834070681176,
          -74.11763629927759,
          -148.95596059729814,
          66.592111917887,
          100.25700687767971,
          -96.87494801242292,
          14.64883065524009,
          43.16696822717881,
          237.29932425475545,
          -44.00325939230288,
          -8.761714071608594,
          114.10492972812722,
          11.433552607687716,
          156.57813199038924,
          -92.13970775435837,
          -51.10120482889192,
          55.18223064599647,
          163.95381143029545,
          -11.685815198524551,
          -64.95269138914887,
          -117.55700242688272,
          -20.31219736864591,
          -45.92812708182805,
          -141.1693944330084,
          30.627597450027906,
          -39.42340831225465,
          -16.650452060089947,
          192.5523508501933,
          114.9265165798929,
          -65.11805432614688,
          95.01516519279812,
          8.622752978404606,
          74.99040838707378,
          81.10060905944601,
          -54.48846134349469,
          8.562952820088412,
          -112.68451051388479,
          -21.969215809972184,
          33.59335163840319,
          -52.62118156120414,
          -76.27601226879483,
          -108.06790616902981,
          -50.1510292086748,
          -58.986332494560884,
          4.401118205357534,
          18.654043338818383,
          132.6406897888944,
          68.05150439037584,
          -62.448333640398005,
          36.473515827532765,
          -67.90352704489987,
          39.3298034099771,
          24.185926276223654,
          113.98244514937096,
          54.72793477233563,
          80.43818585970507,
          -173.75489274360802,
          -51.31380411562077,
          -193.72802296282862,
          57.05950258287339,
          29.055083489072103,
          33.024515746853695,
          24.068562633326792,
          -8.697737845074926,
          -18.9968563196403,
          -144.4198536230076,
          89.33892077285464,
          -8.143935297869348,
          -37.10473983471957,
          43.45832483647564,
          13.358011135198467,
          51.84715022387377,
          13.83365451997679,
          -136.99433688714703,
          4.95352574424237,
          -102.84697411907769,
          40.75576141508759,
          93.59446925335033,
          90.86446015747151,
          -142.92684172039435,
          94.28240632011716,
          -142.5314125688376,
          47.927478491704505,
          59.68754397310818,
          -26.99825729708232,
          149.57027904421466,
          30.082905842100217,
          29.08645685986494,
          -53.876804473546144,
          19.790851474853753,
          -118.98085131405742,
          -1.9333773023047343,
          2.7695074569444387,
          32.19648360072847,
          95.9025004512846,
          -55.12472152027976,
          -150.84407354394534,
          -26.085401343665126,
          57.090854939482824,
          -68.21444051419712,
          -52.52298794625699,
          -12.370218734707123,
          1.110610548344539,
          -64.26466661142354,
          157.97618849131595,
          34.39894585967818,
          44.80796252806135,
          135.17145812884064,
          -24.777870591530245,
          -42.16777681477902,
          14.541022591917681,
          120.86592230444921,
          32.12613187927241,
          -26.8890885990038,
          69.04343077166072,
          -119.61489801098878,
          -56.82801873158246,
          -34.87718522389696,
          82.70372243127895,
          -4.6310385409829,
          -110.77553792716208,
          -88.51902234482327,
          -9.732864179004082,
          -105.44221748091468,
          -7.715829240813491,
          -22.697045596447197,
          63.109732319023124,
          39.89773417288529,
          158.53764039795578,
          108.1879217262076,
          89.07692896302501,
          20.109333356898105,
          -20.655499258904,
          -45.33271002790684,
          49.08760458270831,
          -37.868056269127464,
          1.607435100786006,
          -129.47741331333077,
          29.382508883357104,
          -23.037288770282203,
          54.86494878462918,
          -10.081279023356274,
          -155.61073664537093,
          113.04250770827889,
          7.244766341582363,
          157.811962467365,
          27.001814837655047,
          64.7629169511224,
          34.80789895977932,
          -64.75017339840815,
          -85.08481569394417,
          -40.36023408521123,
          -68.33468927788567,
          -138.7179714950753,
          -163.79297402581233,
          -54.89437256963379,
          14.37457090581438,
          -8.268919257167227,
          12.365470913728132,
          67.7314207136892,
          -83.32262397664294,
          -113.62680798195106,
          30.80965666378529,
          147.85594028302512,
          152.3460532394131,
          35.99855778561664,
          20.589740754423474,
          62.96475822455636,
          92.07043001935995,
          -122.53201861190087,
          104.84775772493481,
          114.55178273913361,
          61.372137415144834,
          33.35645726174994,
          85.17463033947502,
          -71.98925071115582,
          2.0159327521214436,
          -42.5396320215641,
          -156.16256463217906,
          -120.37951860897033,
          -91.82688636928015,
          87.34583251794788,
          -183.9957023378936,
          79.30675806432055,
          26.994921855572102,
          66.20499042762503,
          20.348050938398274,
          166.71168883626774,
          -28.56887232488225,
          72.20719919464727,
          90.91040655300822,
          -5.2181100128032085,
          39.058494881964634,
          77.35038066762718,
          20.64169452706824,
          -2.86395420917529,
          -12.733558062273687,
          -22.366458474373758,
          24.90825038438652,
          120.1163372205458,
          -81.4873007273286,
          79.26164032156544,
          -19.670778253547496,
          74.60332456174797,
          38.36821266908669,
          -95.29071806722573,
          111.12599838228266,
          -1.1008405666975705,
          -22.53984134473876,
          56.64456311870072,
          85.988973411512,
          -47.6359935826199,
          -48.85405940567898,
          176.79496216342795,
          -49.07292252243292,
          76.33409432829922,
          176.45037719401262,
          34.94879123287569,
          -163.55891751761942,
          -57.96506970666928,
          71.69138974361886,
          32.81073271550554,
          -49.53170470243367,
          -26.74611774452137,
          -127.53307224501827,
          -81.79992466402496,
          -92.77889233922156,
          94.88511183717446,
          14.72705363327691,
          -22.29729322510275,
          44.30727222095743,
          -29.732379785085868,
          165.87990521950337,
          -1.4070639219312397,
          86.99222082396068,
          -7.734624200784083,
          32.0676535916416,
          86.02715431163529,
          -54.19689508019951,
          -58.74753581006803,
          -111.25465560095404,
          35.53622341187179,
          64.29868573023373,
          23.500570899345348,
          -88.77144629313261,
          67.54731134460599,
          -53.71204221582366,
          -2.717410296108028,
          -37.040944852854864,
          116.76723128195908,
          -147.72817545097382,
          -59.312855045798415,
          130.28043168937097,
          45.46233644358722,
          -27.79707599043968,
          57.848478044728154,
          50.746476133669375,
          24.470859257933625,
          -90.85323481056548,
          72.89037723887873,
          -176.8551663366568,
          49.11371377434011,
          -86.62076378845768,
          100.51095113531869,
          -10.659664262534761,
          -84.42185020295915,
          -69.44645169751016,
          153.04907709813392,
          -43.55784086103131,
          90.6450454379808,
          73.02213306825251,
          32.90747813758139,
          -147.78984483685008,
          141.03290619527274,
          53.088641974054326,
          51.613856640959966,
          64.99020137942102,
          -90.57635244621747,
          -9.440803114554456,
          -114.69149068690854,
          -128.93936325358186,
          -22.23481070306798,
          -141.93199447398956,
          -102.87211790061383,
          -5.394091781100769,
          -67.6544280125272,
          109.21261917325546,
          -40.98646823312765,
          54.83278873679592,
          112.5595377995212,
          -84.38040644413854,
          -118.3055113378773,
          156.1805451774569,
          108.14179403339222,
          -50.461221303668935
         ],
         "xaxis": "x",
         "y": [
          "0",
          "1",
          "3",
          "3",
          "3",
          "3",
          "0",
          "0",
          "1",
          "0",
          "3",
          "3",
          "3",
          "1",
          "1",
          "1",
          "3",
          "3",
          "1",
          "1",
          "3",
          "3",
          "0",
          "3",
          "1",
          "0",
          "3",
          "0",
          "1",
          "3",
          "0",
          "3",
          "1",
          "3",
          "3",
          "3",
          "3",
          "1",
          "0",
          "0",
          "3",
          "1",
          "3",
          "1",
          "3",
          "1",
          "3",
          "1",
          "3",
          "0",
          "1",
          "3",
          "3",
          "1",
          "0",
          "3",
          "3",
          "1",
          "3",
          "3",
          "0",
          "3",
          "0",
          "1",
          "3",
          "0",
          "3",
          "3",
          "0",
          "1",
          "1",
          "0",
          "0",
          "3",
          "3",
          "1",
          "3",
          "3",
          "3",
          "3",
          "3",
          "0",
          "3",
          "3",
          "3",
          "0",
          "1",
          "3",
          "1",
          "3",
          "1",
          "3",
          "0",
          "1",
          "1",
          "0",
          "3",
          "1",
          "3",
          "3",
          "3",
          "1",
          "0",
          "3",
          "3",
          "3",
          "3",
          "3",
          "3",
          "1",
          "3",
          "1",
          "0",
          "0",
          "0",
          "3",
          "0",
          "0",
          "1",
          "3",
          "3",
          "3",
          "1",
          "0",
          "3",
          "3",
          "1",
          "3",
          "3",
          "0",
          "0",
          "0",
          "0",
          "0",
          "3",
          "0",
          "0",
          "3",
          "3",
          "3",
          "0",
          "3",
          "3",
          "0",
          "0",
          "0",
          "1",
          "0",
          "0",
          "0",
          "0",
          "0",
          "3",
          "3",
          "3",
          "0",
          "0",
          "3",
          "0",
          "1",
          "1",
          "3",
          "0",
          "0",
          "0",
          "1",
          "3",
          "0",
          "1",
          "0",
          "3",
          "0",
          "1",
          "0",
          "1",
          "0",
          "3",
          "3",
          "3",
          "3",
          "0",
          "3",
          "3",
          "3",
          "3",
          "3",
          "0",
          "1",
          "3",
          "1",
          "3",
          "0",
          "1",
          "1",
          "1",
          "3",
          "1",
          "3",
          "0",
          "1",
          "3",
          "3",
          "3",
          "3",
          "3",
          "0",
          "1",
          "3",
          "3",
          "1",
          "1",
          "3",
          "3",
          "0",
          "1",
          "1",
          "1",
          "0",
          "3",
          "3",
          "0",
          "0",
          "0",
          "0",
          "1",
          "3",
          "0",
          "1",
          "0",
          "3",
          "3",
          "1",
          "3",
          "3",
          "0",
          "0",
          "0",
          "1",
          "3",
          "3",
          "3",
          "3",
          "3",
          "3",
          "3",
          "3",
          "3",
          "3",
          "1",
          "3",
          "3",
          "3",
          "0",
          "1",
          "3",
          "3",
          "0",
          "1",
          "0",
          "1",
          "3",
          "3",
          "0",
          "0",
          "3",
          "1",
          "1",
          "0",
          "1",
          "3",
          "3",
          "3",
          "1",
          "3",
          "1",
          "3",
          "0",
          "3",
          "3",
          "1",
          "0",
          "0",
          "3",
          "1",
          "0",
          "3",
          "3",
          "3",
          "3",
          "0",
          "0",
          "0",
          "3",
          "0",
          "0",
          "1",
          "3",
          "0",
          "0",
          "0",
          "3",
          "0",
          "3",
          "1",
          "0",
          "0",
          "1",
          "3",
          "3",
          "1",
          "3",
          "1",
          "3",
          "0",
          "3",
          "3",
          "1",
          "3",
          "0",
          "0",
          "3",
          "0",
          "0",
          "1",
          "3",
          "3",
          "3",
          "3",
          "3",
          "0",
          "3",
          "3",
          "1",
          "3",
          "3",
          "3",
          "3",
          "3",
          "3",
          "0",
          "3",
          "3",
          "0",
          "3",
          "3",
          "0",
          "3",
          "1",
          "0",
          "3",
          "3",
          "1",
          "3",
          "0",
          "3",
          "0",
          "0",
          "3",
          "0",
          "0",
          "1",
          "1",
          "1",
          "3",
          "3",
          "3",
          "3",
          "1",
          "1",
          "3",
          "3",
          "1",
          "3",
          "1",
          "3",
          "3",
          "1",
          "3",
          "0",
          "3",
          "0",
          "3",
          "1",
          "0",
          "0",
          "3",
          "3",
          "1",
          "1",
          "3",
          "3",
          "3",
          "0",
          "0",
          "3",
          "3",
          "3",
          "3",
          "0",
          "3",
          "0",
          "0",
          "1",
          "1",
          "3",
          "0",
          "0",
          "0",
          "0",
          "0",
          "1",
          "0",
          "3",
          "0",
          "1",
          "3",
          "3",
          "3",
          "3",
          "0",
          "3",
          "3",
          "0",
          "3",
          "0",
          "3",
          "1",
          "0",
          "1",
          "1",
          "3",
          "1",
          "0",
          "0",
          "0",
          "3",
          "1",
          "3",
          "0",
          "3",
          "3",
          "3",
          "0",
          "3",
          "0",
          "0",
          "3",
          "1",
          "0",
          "0",
          "0",
          "3",
          "0",
          "3",
          "3",
          "1",
          "1",
          "1",
          "1",
          "3",
          "3",
          "3",
          "1",
          "0",
          "3",
          "3",
          "1",
          "0",
          "3",
          "3",
          "0",
          "0",
          "3",
          "3",
          "1",
          "0",
          "3",
          "1",
          "3",
          "0",
          "0",
          "3",
          "3",
          "1",
          "3",
          "0",
          "3",
          "3",
          "1",
          "0",
          "3",
          "0",
          "3",
          "3",
          "3",
          "3",
          "3",
          "1",
          "3",
          "1",
          "1",
          "0",
          "3",
          "3",
          "0",
          "0",
          "0",
          "0",
          "0",
          "3",
          "3",
          "3",
          "3",
          "0",
          "3",
          "1",
          "3",
          "1",
          "3",
          "1",
          "3",
          "0",
          "0",
          "0",
          "3",
          "3",
          "3",
          "3",
          "3",
          "0",
          "0",
          "1",
          "0",
          "3",
          "1",
          "3",
          "3",
          "3",
          "0",
          "3",
          "0",
          "3",
          "3",
          "1",
          "0",
          "3",
          "0",
          "3",
          "1",
          "1",
          "1",
          "3",
          "0",
          "3",
          "3",
          "0",
          "1",
          "3",
          "0",
          "3",
          "0",
          "0",
          "3",
          "3",
          "0",
          "0",
          "3",
          "0",
          "0",
          "3",
          "3",
          "3",
          "3",
          "3",
          "3",
          "3",
          "3",
          "1",
          "1",
          "3",
          "0",
          "1",
          "1",
          "3",
          "3",
          "1",
          "0",
          "1",
          "0",
          "3",
          "1",
          "3",
          "0",
          "3",
          "3",
          "3",
          "1",
          "0",
          "1",
          "3",
          "1",
          "1",
          "0",
          "3",
          "0",
          "1",
          "3",
          "0",
          "3",
          "3",
          "3",
          "0",
          "3",
          "0",
          "0",
          "0",
          "0",
          "0",
          "0",
          "0",
          "0",
          "1",
          "3",
          "0",
          "1",
          "0",
          "0",
          "1",
          "3",
          "3",
          "0",
          "1",
          "3",
          "3",
          "0",
          "3",
          "3",
          "3",
          "3",
          "3",
          "1",
          "3",
          "0",
          "0",
          "0",
          "0",
          "3",
          "0",
          "3",
          "3",
          "1",
          "1",
          "3",
          "0",
          "3",
          "1",
          "1",
          "3",
          "3",
          "3",
          "1",
          "3",
          "1",
          "3",
          "3",
          "1",
          "3",
          "1",
          "1",
          "3",
          "1",
          "3",
          "1",
          "3",
          "1",
          "3",
          "1",
          "1",
          "3",
          "1",
          "3",
          "3",
          "3",
          "0",
          "3",
          "1",
          "3",
          "0",
          "0",
          "0",
          "1",
          "1",
          "3",
          "3",
          "1",
          "3",
          "1",
          "3",
          "1",
          "0",
          "0",
          "0",
          "3",
          "0",
          "0",
          "0",
          "3",
          "3",
          "3",
          "0",
          "3",
          "0",
          "3",
          "3",
          "3",
          "0",
          "1",
          "3",
          "1",
          "1",
          "3",
          "3",
          "1",
          "0",
          "3",
          "0",
          "3",
          "1",
          "3",
          "1",
          "0",
          "0",
          "3",
          "3",
          "3",
          "3",
          "3",
          "0",
          "3",
          "1",
          "3",
          "3",
          "0",
          "0",
          "0",
          "0",
          "1",
          "0",
          "0",
          "3",
          "0",
          "3",
          "0",
          "3",
          "3",
          "0",
          "0",
          "3",
          "3",
          "0",
          "0",
          "3",
          "1",
          "0",
          "0",
          "3",
          "3",
          "1",
          "1",
          "3",
          "3",
          "3",
          "0",
          "0",
          "3",
          "3",
          "3",
          "3",
          "0",
          "3",
          "0",
          "0",
          "1",
          "1",
          "3",
          "0",
          "0",
          "0",
          "0",
          "0",
          "1",
          "0",
          "3",
          "0",
          "1",
          "3",
          "3",
          "3",
          "3",
          "0",
          "3",
          "3",
          "0",
          "3",
          "0",
          "3",
          "1",
          "0",
          "1",
          "1",
          "3",
          "1",
          "0",
          "0",
          "0",
          "3",
          "1",
          "3",
          "0",
          "3",
          "3",
          "3",
          "0",
          "3",
          "0",
          "0",
          "3",
          "1",
          "0",
          "0",
          "0",
          "3",
          "0",
          "3",
          "3",
          "1",
          "1",
          "1",
          "1",
          "3",
          "3",
          "3",
          "1",
          "0",
          "3",
          "3",
          "1",
          "0",
          "3",
          "3",
          "0",
          "0",
          "3",
          "3",
          "1",
          "0",
          "3",
          "1",
          "3",
          "0",
          "0",
          "3",
          "3",
          "1",
          "3",
          "0",
          "3",
          "3",
          "1",
          "0",
          "3",
          "0",
          "3",
          "3",
          "3",
          "3",
          "3",
          "1",
          "3",
          "1",
          "1",
          "0",
          "3",
          "3",
          "0",
          "0",
          "0",
          "0",
          "0",
          "3",
          "3",
          "3",
          "3",
          "0",
          "3",
          "1",
          "3",
          "1",
          "3",
          "1",
          "3",
          "0",
          "0",
          "0",
          "3",
          "3",
          "3",
          "3",
          "3",
          "0",
          "0",
          "1",
          "0",
          "3",
          "1",
          "3",
          "3",
          "3",
          "0",
          "3",
          "0",
          "3",
          "3",
          "1",
          "0",
          "3",
          "0",
          "3",
          "1",
          "1",
          "1",
          "3",
          "0",
          "3",
          "3",
          "0",
          "1",
          "3",
          "0",
          "3",
          "0",
          "0",
          "3",
          "3",
          "0",
          "0",
          "3",
          "0",
          "0",
          "3",
          "3",
          "3",
          "3",
          "3",
          "3",
          "3",
          "3",
          "1",
          "1",
          "3",
          "0",
          "1",
          "1",
          "3",
          "3",
          "1",
          "0",
          "1",
          "0",
          "3",
          "1",
          "3",
          "0",
          "3",
          "3",
          "3",
          "1",
          "0",
          "1",
          "3",
          "1",
          "1",
          "0",
          "3",
          "0",
          "1",
          "3",
          "0",
          "3",
          "3",
          "3",
          "0",
          "3",
          "0",
          "0",
          "0",
          "0",
          "0",
          "0",
          "0",
          "0",
          "1",
          "3",
          "0",
          "1",
          "0",
          "0",
          "1",
          "3",
          "3",
          "0",
          "1",
          "3",
          "3",
          "0",
          "3",
          "3",
          "3",
          "3",
          "3",
          "1",
          "3",
          "0",
          "0",
          "0",
          "0",
          "3",
          "0",
          "3",
          "3",
          "1",
          "1",
          "3",
          "0",
          "3",
          "1",
          "1",
          "3",
          "3",
          "3",
          "1",
          "3",
          "1",
          "3",
          "3",
          "1",
          "3",
          "1",
          "1",
          "3",
          "1",
          "3",
          "1",
          "3",
          "1",
          "3",
          "1",
          "1",
          "3",
          "1",
          "3",
          "3",
          "3",
          "0",
          "3",
          "1",
          "3",
          "0",
          "0",
          "0",
          "1",
          "1",
          "3",
          "3",
          "1",
          "3",
          "1",
          "3",
          "1",
          "0",
          "0",
          "0",
          "3",
          "0",
          "0",
          "0",
          "3",
          "3",
          "3",
          "0",
          "3",
          "0",
          "3",
          "3",
          "3",
          "0",
          "1",
          "3",
          "1",
          "1",
          "3",
          "3",
          "1",
          "0",
          "3",
          "0",
          "3",
          "1",
          "3",
          "1",
          "0",
          "0",
          "3",
          "3",
          "3",
          "3",
          "3",
          "0",
          "3",
          "1",
          "3",
          "3",
          "0",
          "0",
          "0",
          "0",
          "1",
          "0",
          "0",
          "3",
          "0",
          "3",
          "0",
          "3",
          "3",
          "0",
          "0",
          "3",
          "3",
          "0",
          "0",
          "3",
          "1",
          "0",
          "0",
          "3",
          "3",
          "1",
          "1",
          "3",
          "3",
          "3",
          "0",
          "0",
          "3",
          "3",
          "3",
          "3",
          "0",
          "3",
          "0",
          "0",
          "1",
          "1",
          "3",
          "0",
          "0",
          "0",
          "0",
          "0",
          "1",
          "0",
          "3",
          "0",
          "1",
          "3",
          "3",
          "3",
          "3",
          "0",
          "3",
          "3",
          "0",
          "3",
          "0",
          "3",
          "1",
          "0",
          "1",
          "1",
          "3",
          "1",
          "0",
          "0",
          "0",
          "3",
          "1",
          "3",
          "0",
          "3",
          "3",
          "3",
          "0",
          "3",
          "0",
          "0",
          "3",
          "1",
          "0",
          "0",
          "0",
          "3",
          "0",
          "3",
          "3",
          "1",
          "1",
          "1",
          "1",
          "3",
          "3",
          "3",
          "1",
          "0",
          "3",
          "3",
          "1",
          "0",
          "3",
          "3",
          "0",
          "0",
          "3",
          "3",
          "1",
          "0",
          "3",
          "1",
          "3",
          "0",
          "0",
          "3",
          "3",
          "1",
          "3",
          "0",
          "3",
          "3",
          "1",
          "0",
          "3",
          "0",
          "3",
          "3",
          "3",
          "3",
          "3",
          "1",
          "3",
          "1",
          "1",
          "0",
          "3",
          "3",
          "0",
          "0",
          "0",
          "0",
          "0",
          "3",
          "3",
          "3",
          "3",
          "0",
          "3",
          "1",
          "3",
          "1",
          "3",
          "1",
          "3",
          "0",
          "0",
          "0",
          "3",
          "3",
          "3",
          "3",
          "3",
          "0",
          "0",
          "1",
          "0",
          "3",
          "1",
          "3",
          "3",
          "3",
          "0",
          "3",
          "0",
          "3",
          "3",
          "1",
          "0",
          "3",
          "0",
          "3",
          "1",
          "1",
          "1",
          "3",
          "0",
          "3",
          "3",
          "0",
          "1",
          "3",
          "0",
          "3",
          "0",
          "0",
          "3",
          "3",
          "0",
          "0",
          "3",
          "0",
          "0",
          "3",
          "3",
          "3",
          "3",
          "3",
          "3",
          "3",
          "3",
          "1",
          "1",
          "3",
          "0",
          "1",
          "1",
          "3",
          "3",
          "1",
          "0",
          "1",
          "0",
          "3",
          "1",
          "3",
          "0",
          "3",
          "3",
          "3",
          "1",
          "0",
          "1",
          "3",
          "1",
          "1",
          "0",
          "3",
          "0",
          "1",
          "3",
          "0",
          "3",
          "3",
          "3",
          "0",
          "3",
          "0",
          "0",
          "0",
          "0",
          "0",
          "0",
          "0",
          "0",
          "1",
          "3",
          "0",
          "1",
          "0",
          "0",
          "1",
          "3",
          "3",
          "0",
          "1",
          "3",
          "3",
          "0",
          "3",
          "3",
          "3",
          "3",
          "3",
          "1",
          "3",
          "0",
          "0",
          "0",
          "0",
          "3",
          "0",
          "3",
          "3",
          "1",
          "1",
          "3",
          "0",
          "3",
          "1",
          "1",
          "3",
          "3",
          "3",
          "1",
          "3",
          "1",
          "3",
          "3",
          "1",
          "3",
          "1",
          "1",
          "3",
          "1",
          "3",
          "1",
          "3",
          "1",
          "3",
          "1",
          "1",
          "3",
          "1",
          "3",
          "3",
          "3",
          "0",
          "3",
          "1",
          "3",
          "0",
          "0",
          "0",
          "1",
          "1",
          "3",
          "3",
          "1",
          "3",
          "1",
          "3",
          "1",
          "0",
          "0",
          "0",
          "3",
          "0",
          "0",
          "0",
          "3",
          "3",
          "3",
          "0",
          "3",
          "0",
          "3",
          "3",
          "3",
          "0",
          "1",
          "3",
          "1",
          "1",
          "3",
          "3",
          "1",
          "0",
          "3",
          "0",
          "3",
          "1",
          "3",
          "1",
          "0",
          "0",
          "3",
          "3",
          "3",
          "3",
          "3",
          "0",
          "3",
          "1",
          "3",
          "3",
          "0",
          "0",
          "0",
          "0",
          "1",
          "0",
          "0",
          "3",
          "0",
          "3",
          "0",
          "3",
          "3",
          "0",
          "0",
          "3",
          "3",
          "0"
         ],
         "yaxis": "y"
        },
        {
         "customdata": [
          [
           "Burnley FC (0.0) - Manchester City FC (3.0) on 2023-08-11 19:00:00"
          ],
          [
           "Arsenal FC (2.0) - Nottingham Forest FC (1.0) on 2023-08-12 12:00:00"
          ],
          [
           "AFC Bournemouth (1.0) - West Ham United FC (1.0) on 2023-08-12 14:00:00"
          ],
          [
           "Sheffield United FC (0.0) - Crystal Palace FC (1.0) on 2023-08-12 14:00:00"
          ],
          [
           "Everton FC (0.0) - Fulham FC (1.0) on 2023-08-12 14:00:00"
          ],
          [
           "Brighton & Hove Albion FC (4.0) - Luton Town FC (1.0) on 2023-08-12 14:00:00"
          ],
          [
           "Newcastle United FC (5.0) - Aston Villa FC (1.0) on 2023-08-12 16:30:00"
          ],
          [
           "Brentford FC (2.0) - Tottenham Hotspur FC (2.0) on 2023-08-13 13:00:00"
          ],
          [
           "Chelsea FC (1.0) - Liverpool FC (1.0) on 2023-08-13 15:30:00"
          ],
          [
           "Manchester United FC (1.0) - Wolverhampton Wanderers FC (0.0) on 2023-08-14 19:00:00"
          ],
          [
           "Nottingham Forest FC (2.0) - Sheffield United FC (1.0) on 2023-08-18 18:45:00"
          ],
          [
           "Liverpool FC (3.0) - AFC Bournemouth (1.0) on 2023-08-19 14:00:00"
          ],
          [
           "Fulham FC (0.0) - Brentford FC (3.0) on 2023-08-19 14:00:00"
          ],
          [
           "Wolverhampton Wanderers FC (1.0) - Brighton & Hove Albion FC (4.0) on 2023-08-19 14:00:00"
          ],
          [
           "Tottenham Hotspur FC (2.0) - Manchester United FC (0.0) on 2023-08-19 16:30:00"
          ],
          [
           "Manchester City FC (1.0) - Newcastle United FC (0.0) on 2023-08-19 19:00:00"
          ],
          [
           "Aston Villa FC (4.0) - Everton FC (0.0) on 2023-08-20 13:00:00"
          ],
          [
           "West Ham United FC (3.0) - Chelsea FC (1.0) on 2023-08-20 15:30:00"
          ],
          [
           "Crystal Palace FC (0.0) - Arsenal FC (1.0) on 2023-08-21 19:00:00"
          ],
          [
           "Chelsea FC (3.0) - Luton Town FC (0.0) on 2023-08-25 19:00:00"
          ],
          [
           "AFC Bournemouth (0.0) - Tottenham Hotspur FC (2.0) on 2023-08-26 11:30:00"
          ],
          [
           "Everton FC (0.0) - Wolverhampton Wanderers FC (1.0) on 2023-08-26 14:00:00"
          ],
          [
           "Brentford FC (1.0) - Crystal Palace FC (1.0) on 2023-08-26 14:00:00"
          ],
          [
           "Arsenal FC (2.0) - Fulham FC (2.0) on 2023-08-26 14:00:00"
          ],
          [
           "Manchester United FC (3.0) - Nottingham Forest FC (2.0) on 2023-08-26 14:00:00"
          ],
          [
           "Brighton & Hove Albion FC (1.0) - West Ham United FC (3.0) on 2023-08-26 16:30:00"
          ],
          [
           "Sheffield United FC (1.0) - Manchester City FC (2.0) on 2023-08-27 13:00:00"
          ],
          [
           "Burnley FC (1.0) - Aston Villa FC (3.0) on 2023-08-27 13:00:00"
          ],
          [
           "Newcastle United FC (1.0) - Liverpool FC (2.0) on 2023-08-27 15:30:00"
          ],
          [
           "Luton Town FC (1.0) - West Ham United FC (2.0) on 2023-09-01 19:00:00"
          ],
          [
           "Sheffield United FC (2.0) - Everton FC (2.0) on 2023-09-02 11:30:00"
          ],
          [
           "Chelsea FC (0.0) - Nottingham Forest FC (1.0) on 2023-09-02 14:00:00"
          ],
          [
           "Manchester City FC (5.0) - Fulham FC (1.0) on 2023-09-02 14:00:00"
          ],
          [
           "Burnley FC (2.0) - Tottenham Hotspur FC (5.0) on 2023-09-02 14:00:00"
          ],
          [
           "Brentford FC (2.0) - AFC Bournemouth (2.0) on 2023-09-02 14:00:00"
          ],
          [
           "Brighton & Hove Albion FC (3.0) - Newcastle United FC (1.0) on 2023-09-02 16:30:00"
          ],
          [
           "Crystal Palace FC (3.0) - Wolverhampton Wanderers FC (2.0) on 2023-09-03 13:00:00"
          ],
          [
           "Liverpool FC (3.0) - Aston Villa FC (0.0) on 2023-09-03 13:00:00"
          ],
          [
           "Arsenal FC (3.0) - Manchester United FC (1.0) on 2023-09-03 15:30:00"
          ],
          [
           "Wolverhampton Wanderers FC (1.0) - Liverpool FC (3.0) on 2023-09-16 11:30:00"
          ],
          [
           "Aston Villa FC (3.0) - Crystal Palace FC (1.0) on 2023-09-16 14:00:00"
          ],
          [
           "Fulham FC (1.0) - Luton Town FC (0.0) on 2023-09-16 14:00:00"
          ],
          [
           "Manchester United FC (1.0) - Brighton & Hove Albion FC (3.0) on 2023-09-16 14:00:00"
          ],
          [
           "Tottenham Hotspur FC (2.0) - Sheffield United FC (1.0) on 2023-09-16 14:00:00"
          ],
          [
           "West Ham United FC (1.0) - Manchester City FC (3.0) on 2023-09-16 14:00:00"
          ],
          [
           "Newcastle United FC (1.0) - Brentford FC (0.0) on 2023-09-16 16:30:00"
          ],
          [
           "AFC Bournemouth (0.0) - Chelsea FC (0.0) on 2023-09-17 13:00:00"
          ],
          [
           "Everton FC (0.0) - Arsenal FC (1.0) on 2023-09-17 15:30:00"
          ],
          [
           "Nottingham Forest FC (1.0) - Burnley FC (1.0) on 2023-09-18 18:45:00"
          ],
          [
           "Luton Town FC (1.0) - Wolverhampton Wanderers FC (1.0) on 2023-09-23 14:00:00"
          ],
          [
           "Manchester City FC (2.0) - Nottingham Forest FC (0.0) on 2023-09-23 14:00:00"
          ],
          [
           "Crystal Palace FC (0.0) - Fulham FC (0.0) on 2023-09-23 14:00:00"
          ],
          [
           "Brentford FC (1.0) - Everton FC (3.0) on 2023-09-23 16:30:00"
          ],
          [
           "Burnley FC (0.0) - Manchester United FC (1.0) on 2023-09-23 19:00:00"
          ],
          [
           "Chelsea FC (0.0) - Aston Villa FC (1.0) on 2023-09-24 13:00:00"
          ],
          [
           "Liverpool FC (3.0) - West Ham United FC (1.0) on 2023-09-24 13:00:00"
          ],
          [
           "Arsenal FC (2.0) - Tottenham Hotspur FC (2.0) on 2023-09-24 13:00:00"
          ],
          [
           "Brighton & Hove Albion FC (3.0) - AFC Bournemouth (1.0) on 2023-09-24 13:00:00"
          ],
          [
           "Sheffield United FC (0.0) - Newcastle United FC (8.0) on 2023-09-24 15:30:00"
          ],
          [
           "Aston Villa FC (6.0) - Brighton & Hove Albion FC (1.0) on 2023-09-30 11:30:00"
          ],
          [
           "West Ham United FC (2.0) - Sheffield United FC (0.0) on 2023-09-30 14:00:00"
          ],
          [
           "Newcastle United FC (2.0) - Burnley FC (0.0) on 2023-09-30 14:00:00"
          ],
          [
           "Manchester United FC (0.0) - Crystal Palace FC (1.0) on 2023-09-30 14:00:00"
          ],
          [
           "Wolverhampton Wanderers FC (2.0) - Manchester City FC (1.0) on 2023-09-30 14:00:00"
          ],
          [
           "AFC Bournemouth (0.0) - Arsenal FC (4.0) on 2023-09-30 14:00:00"
          ],
          [
           "Everton FC (1.0) - Luton Town FC (2.0) on 2023-09-30 14:00:00"
          ],
          [
           "Tottenham Hotspur FC (2.0) - Liverpool FC (1.0) on 2023-09-30 16:30:00"
          ],
          [
           "Nottingham Forest FC (1.0) - Brentford FC (1.0) on 2023-10-01 13:00:00"
          ],
          [
           "Fulham FC (0.0) - Chelsea FC (2.0) on 2023-10-02 19:00:00"
          ],
          [
           "Luton Town FC (1.0) - Burnley FC (2.0) on 2023-10-03 18:30:00"
          ],
          [
           "Luton Town FC (0.0) - Tottenham Hotspur FC (1.0) on 2023-10-07 11:30:00"
          ],
          [
           "Everton FC (3.0) - AFC Bournemouth (0.0) on 2023-10-07 14:00:00"
          ],
          [
           "Burnley FC (1.0) - Chelsea FC (4.0) on 2023-10-07 14:00:00"
          ],
          [
           "Fulham FC (3.0) - Sheffield United FC (1.0) on 2023-10-07 14:00:00"
          ],
          [
           "Manchester United FC (2.0) - Brentford FC (1.0) on 2023-10-07 14:00:00"
          ],
          [
           "Crystal Palace FC (0.0) - Nottingham Forest FC (0.0) on 2023-10-07 16:30:00"
          ],
          [
           "Brighton & Hove Albion FC (2.0) - Liverpool FC (2.0) on 2023-10-08 13:00:00"
          ],
          [
           "West Ham United FC (2.0) - Newcastle United FC (2.0) on 2023-10-08 13:00:00"
          ],
          [
           "Wolverhampton Wanderers FC (1.0) - Aston Villa FC (1.0) on 2023-10-08 13:00:00"
          ],
          [
           "Arsenal FC (1.0) - Manchester City FC (0.0) on 2023-10-08 15:30:00"
          ],
          [
           "Liverpool FC (2.0) - Everton FC (0.0) on 2023-10-21 11:30:00"
          ],
          [
           "Brentford FC (3.0) - Burnley FC (0.0) on 2023-10-21 14:00:00"
          ],
          [
           "Nottingham Forest FC (2.0) - Luton Town FC (2.0) on 2023-10-21 14:00:00"
          ],
          [
           "AFC Bournemouth (1.0) - Wolverhampton Wanderers FC (2.0) on 2023-10-21 14:00:00"
          ],
          [
           "Manchester City FC (2.0) - Brighton & Hove Albion FC (1.0) on 2023-10-21 14:00:00"
          ],
          [
           "Newcastle United FC (4.0) - Crystal Palace FC (0.0) on 2023-10-21 14:00:00"
          ],
          [
           "Chelsea FC (2.0) - Arsenal FC (2.0) on 2023-10-21 16:30:00"
          ],
          [
           "Sheffield United FC (1.0) - Manchester United FC (2.0) on 2023-10-21 19:00:00"
          ],
          [
           "Aston Villa FC (4.0) - West Ham United FC (1.0) on 2023-10-22 15:30:00"
          ],
          [
           "Tottenham Hotspur FC (2.0) - Fulham FC (0.0) on 2023-10-23 19:00:00"
          ],
          [
           "Crystal Palace FC (1.0) - Tottenham Hotspur FC (2.0) on 2023-10-27 19:00:00"
          ],
          [
           "Chelsea FC (0.0) - Brentford FC (2.0) on 2023-10-28 11:30:00"
          ],
          [
           "AFC Bournemouth (2.0) - Burnley FC (1.0) on 2023-10-28 14:00:00"
          ],
          [
           "Arsenal FC (5.0) - Sheffield United FC (0.0) on 2023-10-28 14:00:00"
          ],
          [
           "Wolverhampton Wanderers FC (2.0) - Newcastle United FC (2.0) on 2023-10-28 16:30:00"
          ],
          [
           "West Ham United FC (0.0) - Everton FC (1.0) on 2023-10-29 13:00:00"
          ],
          [
           "Liverpool FC (3.0) - Nottingham Forest FC (0.0) on 2023-10-29 14:00:00"
          ],
          [
           "Brighton & Hove Albion FC (1.0) - Fulham FC (1.0) on 2023-10-29 14:00:00"
          ],
          [
           "Aston Villa FC (3.0) - Luton Town FC (1.0) on 2023-10-29 14:00:00"
          ],
          [
           "Manchester United FC (0.0) - Manchester City FC (3.0) on 2023-10-29 15:30:00"
          ],
          [
           "Fulham FC (0.0) - Manchester United FC (1.0) on 2023-11-04 12:30:00"
          ],
          [
           "Brentford FC (3.0) - West Ham United FC (2.0) on 2023-11-04 15:00:00"
          ],
          [
           "Manchester City FC (6.0) - AFC Bournemouth (1.0) on 2023-11-04 15:00:00"
          ],
          [
           "Everton FC (1.0) - Brighton & Hove Albion FC (1.0) on 2023-11-04 15:00:00"
          ],
          [
           "Sheffield United FC (2.0) - Wolverhampton Wanderers FC (1.0) on 2023-11-04 15:00:00"
          ],
          [
           "Burnley FC (0.0) - Crystal Palace FC (2.0) on 2023-11-04 15:00:00"
          ],
          [
           "Newcastle United FC (1.0) - Arsenal FC (0.0) on 2023-11-04 17:30:00"
          ],
          [
           "Nottingham Forest FC (2.0) - Aston Villa FC (0.0) on 2023-11-05 14:00:00"
          ],
          [
           "Luton Town FC (1.0) - Liverpool FC (1.0) on 2023-11-05 16:30:00"
          ],
          [
           "Tottenham Hotspur FC (1.0) - Chelsea FC (4.0) on 2023-11-06 20:00:00"
          ],
          [
           "Wolverhampton Wanderers FC (2.0) - Tottenham Hotspur FC (1.0) on 2023-11-11 12:30:00"
          ],
          [
           "Crystal Palace FC (2.0) - Everton FC (3.0) on 2023-11-11 15:00:00"
          ],
          [
           "Arsenal FC (3.0) - Burnley FC (1.0) on 2023-11-11 15:00:00"
          ],
          [
           "Manchester United FC (1.0) - Luton Town FC (0.0) on 2023-11-11 15:00:00"
          ],
          [
           "AFC Bournemouth (2.0) - Newcastle United FC (0.0) on 2023-11-11 17:30:00"
          ],
          [
           "Aston Villa FC (3.0) - Fulham FC (1.0) on 2023-11-12 14:00:00"
          ],
          [
           "West Ham United FC (3.0) - Nottingham Forest FC (2.0) on 2023-11-12 14:00:00"
          ],
          [
           "Brighton & Hove Albion FC (1.0) - Sheffield United FC (1.0) on 2023-11-12 14:00:00"
          ],
          [
           "Liverpool FC (3.0) - Brentford FC (0.0) on 2023-11-12 14:00:00"
          ],
          [
           "Chelsea FC (4.0) - Manchester City FC (4.0) on 2023-11-12 16:30:00"
          ],
          [
           "Manchester City FC (1.0) - Liverpool FC (1.0) on 2023-11-25 12:30:00"
          ],
          [
           "Burnley FC (1.0) - West Ham United FC (2.0) on 2023-11-25 15:00:00"
          ],
          [
           "Luton Town FC (2.0) - Crystal Palace FC (1.0) on 2023-11-25 15:00:00"
          ],
          [
           "Newcastle United FC (4.0) - Chelsea FC (1.0) on 2023-11-25 15:00:00"
          ],
          [
           "Nottingham Forest FC (2.0) - Brighton & Hove Albion FC (3.0) on 2023-11-25 15:00:00"
          ],
          [
           "Sheffield United FC (1.0) - AFC Bournemouth (3.0) on 2023-11-25 15:00:00"
          ],
          [
           "Brentford FC (0.0) - Arsenal FC (1.0) on 2023-11-25 17:30:00"
          ],
          [
           "Tottenham Hotspur FC (1.0) - Aston Villa FC (2.0) on 2023-11-26 14:00:00"
          ],
          [
           "Everton FC (0.0) - Manchester United FC (3.0) on 2023-11-26 16:30:00"
          ],
          [
           "Fulham FC (3.0) - Wolverhampton Wanderers FC (2.0) on 2023-11-27 20:00:00"
          ],
          [
           "Burnley FC (5.0) - Sheffield United FC (0.0) on 2023-12-02 15:00:00"
          ],
          [
           "Arsenal FC (2.0) - Wolverhampton Wanderers FC (1.0) on 2023-12-02 15:00:00"
          ],
          [
           "Brentford FC (3.0) - Luton Town FC (1.0) on 2023-12-02 15:00:00"
          ],
          [
           "Nottingham Forest FC (0.0) - Everton FC (1.0) on 2023-12-02 17:30:00"
          ],
          [
           "Newcastle United FC (1.0) - Manchester United FC (0.0) on 2023-12-02 20:00:00"
          ],
          [
           "AFC Bournemouth (2.0) - Aston Villa FC (2.0) on 2023-12-03 14:00:00"
          ],
          [
           "Chelsea FC (3.0) - Brighton & Hove Albion FC (2.0) on 2023-12-03 14:00:00"
          ],
          [
           "West Ham United FC (1.0) - Crystal Palace FC (1.0) on 2023-12-03 14:00:00"
          ],
          [
           "Liverpool FC (4.0) - Fulham FC (3.0) on 2023-12-03 14:00:00"
          ],
          [
           "Manchester City FC (3.0) - Tottenham Hotspur FC (3.0) on 2023-12-03 16:30:00"
          ],
          [
           "Wolverhampton Wanderers FC (1.0) - Burnley FC (0.0) on 2023-12-05 19:30:00"
          ],
          [
           "Luton Town FC (3.0) - Arsenal FC (4.0) on 2023-12-05 20:15:00"
          ],
          [
           "Crystal Palace FC (0.0) - AFC Bournemouth (2.0) on 2023-12-06 19:30:00"
          ],
          [
           "Sheffield United FC (0.0) - Liverpool FC (2.0) on 2023-12-06 19:30:00"
          ],
          [
           "Fulham FC (5.0) - Nottingham Forest FC (0.0) on 2023-12-06 19:30:00"
          ],
          [
           "Brighton & Hove Albion FC (2.0) - Brentford FC (1.0) on 2023-12-06 19:30:00"
          ],
          [
           "Manchester United FC (2.0) - Chelsea FC (1.0) on 2023-12-06 20:15:00"
          ],
          [
           "Aston Villa FC (1.0) - Manchester City FC (0.0) on 2023-12-06 20:15:00"
          ],
          [
           "Everton FC (3.0) - Newcastle United FC (0.0) on 2023-12-07 19:30:00"
          ],
          [
           "Tottenham Hotspur FC (1.0) - West Ham United FC (2.0) on 2023-12-07 20:15:00"
          ],
          [
           "Crystal Palace FC (1.0) - Liverpool FC (2.0) on 2023-12-09 12:30:00"
          ],
          [
           "Brighton & Hove Albion FC (1.0) - Burnley FC (1.0) on 2023-12-09 15:00:00"
          ],
          [
           "Manchester United FC (0.0) - AFC Bournemouth (3.0) on 2023-12-09 15:00:00"
          ],
          [
           "Sheffield United FC (1.0) - Brentford FC (0.0) on 2023-12-09 15:00:00"
          ],
          [
           "Wolverhampton Wanderers FC (1.0) - Nottingham Forest FC (1.0) on 2023-12-09 15:00:00"
          ],
          [
           "Aston Villa FC (1.0) - Arsenal FC (0.0) on 2023-12-09 17:30:00"
          ],
          [
           "Everton FC (2.0) - Chelsea FC (0.0) on 2023-12-10 14:00:00"
          ],
          [
           "Fulham FC (5.0) - West Ham United FC (0.0) on 2023-12-10 14:00:00"
          ],
          [
           "Luton Town FC (1.0) - Manchester City FC (2.0) on 2023-12-10 14:00:00"
          ],
          [
           "Tottenham Hotspur FC (4.0) - Newcastle United FC (1.0) on 2023-12-10 16:30:00"
          ],
          [
           "Nottingham Forest FC (0.0) - Tottenham Hotspur FC (2.0) on 2023-12-15 20:00:00"
          ],
          [
           "Newcastle United FC (3.0) - Fulham FC (0.0) on 2023-12-16 15:00:00"
          ],
          [
           "Chelsea FC (2.0) - Sheffield United FC (0.0) on 2023-12-16 15:00:00"
          ],
          [
           "Manchester City FC (2.0) - Crystal Palace FC (2.0) on 2023-12-16 15:00:00"
          ],
          [
           "Burnley FC (0.0) - Everton FC (2.0) on 2023-12-16 17:30:00"
          ],
          [
           "Arsenal FC (2.0) - Brighton & Hove Albion FC (0.0) on 2023-12-17 14:00:00"
          ],
          [
           "Brentford FC (1.0) - Aston Villa FC (2.0) on 2023-12-17 14:00:00"
          ],
          [
           "West Ham United FC (3.0) - Wolverhampton Wanderers FC (0.0) on 2023-12-17 14:00:00"
          ],
          [
           "Liverpool FC (0.0) - Manchester United FC (0.0) on 2023-12-17 16:30:00"
          ],
          [
           "Crystal Palace FC (1.0) - Brighton & Hove Albion FC (1.0) on 2023-12-21 20:00:00"
          ],
          [
           "Aston Villa FC (1.0) - Sheffield United FC (1.0) on 2023-12-22 20:00:00"
          ],
          [
           "West Ham United FC (2.0) - Manchester United FC (0.0) on 2023-12-23 12:30:00"
          ],
          [
           "Fulham FC (0.0) - Burnley FC (2.0) on 2023-12-23 15:00:00"
          ],
          [
           "Luton Town FC (1.0) - Newcastle United FC (0.0) on 2023-12-23 15:00:00"
          ],
          [
           "Tottenham Hotspur FC (2.0) - Everton FC (1.0) on 2023-12-23 15:00:00"
          ],
          [
           "Nottingham Forest FC (2.0) - AFC Bournemouth (3.0) on 2023-12-23 15:00:00"
          ],
          [
           "Liverpool FC (1.0) - Arsenal FC (1.0) on 2023-12-23 17:30:00"
          ],
          [
           "Wolverhampton Wanderers FC (2.0) - Chelsea FC (1.0) on 2023-12-24 13:00:00"
          ],
          [
           "Newcastle United FC (1.0) - Nottingham Forest FC (3.0) on 2023-12-26 12:30:00"
          ],
          [
           "AFC Bournemouth (3.0) - Fulham FC (0.0) on 2023-12-26 15:00:00"
          ],
          [
           "Sheffield United FC (2.0) - Luton Town FC (3.0) on 2023-12-26 15:00:00"
          ],
          [
           "Burnley FC (0.0) - Liverpool FC (2.0) on 2023-12-26 17:30:00"
          ],
          [
           "Manchester United FC (3.0) - Aston Villa FC (2.0) on 2023-12-26 20:00:00"
          ],
          [
           "Chelsea FC (2.0) - Crystal Palace FC (1.0) on 2023-12-27 19:30:00"
          ],
          [
           "Brentford FC (1.0) - Wolverhampton Wanderers FC (4.0) on 2023-12-27 19:30:00"
          ],
          [
           "Everton FC (1.0) - Manchester City FC (3.0) on 2023-12-27 20:15:00"
          ],
          [
           "Brighton & Hove Albion FC (4.0) - Tottenham Hotspur FC (2.0) on 2023-12-28 19:30:00"
          ],
          [
           "Arsenal FC (0.0) - West Ham United FC (2.0) on 2023-12-28 20:15:00"
          ],
          [
           "Luton Town FC (2.0) - Chelsea FC (3.0) on 2023-12-30 12:30:00"
          ],
          [
           "Manchester City FC (2.0) - Sheffield United FC (0.0) on 2023-12-30 15:00:00"
          ],
          [
           "Wolverhampton Wanderers FC (3.0) - Everton FC (0.0) on 2023-12-30 15:00:00"
          ],
          [
           "Crystal Palace FC (3.0) - Brentford FC (1.0) on 2023-12-30 15:00:00"
          ],
          [
           "Aston Villa FC (3.0) - Burnley FC (2.0) on 2023-12-30 15:00:00"
          ],
          [
           "Nottingham Forest FC (2.0) - Manchester United FC (1.0) on 2023-12-30 17:30:00"
          ],
          [
           "Fulham FC (2.0) - Arsenal FC (1.0) on 2023-12-31 14:00:00"
          ],
          [
           "Tottenham Hotspur FC (3.0) - AFC Bournemouth (1.0) on 2023-12-31 14:00:00"
          ],
          [
           "Liverpool FC (4.0) - Newcastle United FC (2.0) on 2024-01-01 20:00:00"
          ],
          [
           "West Ham United FC (0.0) - Brighton & Hove Albion FC (0.0) on 2024-01-02 19:30:00"
          ],
          [
           "Burnley FC (1.0) - Luton Town FC (1.0) on 2024-01-12 19:45:00"
          ],
          [
           "Chelsea FC (1.0) - Fulham FC (0.0) on 2024-01-13 12:30:00"
          ],
          [
           "Newcastle United FC (2.0) - Manchester City FC (3.0) on 2024-01-13 17:30:00"
          ],
          [
           "Everton FC (0.0) - Aston Villa FC (0.0) on 2024-01-14 14:00:00"
          ],
          [
           "Manchester United FC (2.0) - Tottenham Hotspur FC (2.0) on 2024-01-14 16:30:00"
          ],
          [
           "Arsenal FC (5.0) - Crystal Palace FC (0.0) on 2024-01-20 12:30:00"
          ],
          [
           "Brentford FC (3.0) - Nottingham Forest FC (2.0) on 2024-01-20 17:30:00"
          ],
          [
           "Sheffield United FC (2.0) - West Ham United FC (2.0) on 2024-01-21 14:00:00"
          ],
          [
           "AFC Bournemouth (0.0) - Liverpool FC (4.0) on 2024-01-21 16:30:00"
          ],
          [
           "Brighton & Hove Albion FC (0.0) - Wolverhampton Wanderers FC (0.0) on 2024-01-22 19:45:00"
          ],
          [
           "Nottingham Forest FC (1.0) - Arsenal FC (2.0) on 2024-01-30 19:30:00"
          ],
          [
           "Luton Town FC (4.0) - Brighton & Hove Albion FC (0.0) on 2024-01-30 19:45:00"
          ],
          [
           "Fulham FC (0.0) - Everton FC (0.0) on 2024-01-30 19:45:00"
          ],
          [
           "Crystal Palace FC (3.0) - Sheffield United FC (2.0) on 2024-01-30 20:00:00"
          ],
          [
           "Aston Villa FC (1.0) - Newcastle United FC (3.0) on 2024-01-30 20:15:00"
          ],
          [
           "Manchester City FC (3.0) - Burnley FC (1.0) on 2024-01-31 19:30:00"
          ],
          [
           "Tottenham Hotspur FC (3.0) - Brentford FC (2.0) on 2024-01-31 19:30:00"
          ],
          [
           "Liverpool FC (4.0) - Chelsea FC (1.0) on 2024-01-31 20:15:00"
          ],
          [
           "West Ham United FC (1.0) - AFC Bournemouth (1.0) on 2024-02-01 19:30:00"
          ],
          [
           "Wolverhampton Wanderers FC (3.0) - Manchester United FC (4.0) on 2024-02-01 20:15:00"
          ],
          [
           "Everton FC (2.0) - Tottenham Hotspur FC (2.0) on 2024-02-03 12:30:00"
          ],
          [
           "Brighton & Hove Albion FC (4.0) - Crystal Palace FC (1.0) on 2024-02-03 15:00:00"
          ],
          [
           "Burnley FC (2.0) - Fulham FC (2.0) on 2024-02-03 15:00:00"
          ],
          [
           "Newcastle United FC (4.0) - Luton Town FC (4.0) on 2024-02-03 15:00:00"
          ],
          [
           "Sheffield United FC (0.0) - Aston Villa FC (5.0) on 2024-02-03 17:30:00"
          ],
          [
           "Manchester United FC (3.0) - West Ham United FC (0.0) on 2024-02-04 14:00:00"
          ],
          [
           "Chelsea FC (2.0) - Wolverhampton Wanderers FC (4.0) on 2024-02-04 14:00:00"
          ],
          [
           "AFC Bournemouth (1.0) - Nottingham Forest FC (1.0) on 2024-02-04 14:00:00"
          ],
          [
           "Arsenal FC (3.0) - Liverpool FC (1.0) on 2024-02-04 16:30:00"
          ],
          [
           "Brentford FC (1.0) - Manchester City FC (3.0) on 2024-02-05 20:00:00"
          ],
          [
           "Manchester City FC (2.0) - Everton FC (0.0) on 2024-02-10 12:30:00"
          ],
          [
           "Fulham FC (3.0) - AFC Bournemouth (1.0) on 2024-02-10 15:00:00"
          ],
          [
           "Liverpool FC (3.0) - Burnley FC (1.0) on 2024-02-10 15:00:00"
          ],
          [
           "Luton Town FC (1.0) - Sheffield United FC (3.0) on 2024-02-10 15:00:00"
          ],
          [
           "Tottenham Hotspur FC (2.0) - Brighton & Hove Albion FC (1.0) on 2024-02-10 15:00:00"
          ],
          [
           "Wolverhampton Wanderers FC (0.0) - Brentford FC (2.0) on 2024-02-10 15:00:00"
          ],
          [
           "Nottingham Forest FC (2.0) - Newcastle United FC (3.0) on 2024-02-10 17:30:00"
          ],
          [
           "West Ham United FC (0.0) - Arsenal FC (6.0) on 2024-02-11 14:00:00"
          ],
          [
           "Aston Villa FC (1.0) - Manchester United FC (2.0) on 2024-02-11 16:30:00"
          ],
          [
           "Crystal Palace FC (1.0) - Chelsea FC (3.0) on 2024-02-12 20:00:00"
          ],
          [
           "Brentford FC (1.0) - Liverpool FC (4.0) on 2024-02-17 12:30:00"
          ],
          [
           "Burnley FC (0.0) - Arsenal FC (5.0) on 2024-02-17 15:00:00"
          ],
          [
           "Fulham FC (1.0) - Aston Villa FC (2.0) on 2024-02-17 15:00:00"
          ],
          [
           "Newcastle United FC (2.0) - AFC Bournemouth (2.0) on 2024-02-17 15:00:00"
          ],
          [
           "Nottingham Forest FC (2.0) - West Ham United FC (0.0) on 2024-02-17 15:00:00"
          ],
          [
           "Tottenham Hotspur FC (1.0) - Wolverhampton Wanderers FC (2.0) on 2024-02-17 15:00:00"
          ],
          [
           "Manchester City FC (1.0) - Chelsea FC (1.0) on 2024-02-17 17:30:00"
          ],
          [
           "Sheffield United FC (0.0) - Brighton & Hove Albion FC (5.0) on 2024-02-18 14:00:00"
          ],
          [
           "Luton Town FC (1.0) - Manchester United FC (2.0) on 2024-02-18 16:30:00"
          ],
          [
           "Everton FC (1.0) - Crystal Palace FC (1.0) on 2024-02-19 20:00:00"
          ],
          [
           "Manchester City FC (1.0) - Brentford FC (0.0) on 2024-02-20 19:30:00"
          ],
          [
           "Liverpool FC (4.0) - Luton Town FC (1.0) on 2024-02-21 19:30:00"
          ],
          [
           "Manchester United FC (1.0) - Fulham FC (2.0) on 2024-02-24 15:00:00"
          ],
          [
           "Brighton & Hove Albion FC (1.0) - Everton FC (1.0) on 2024-02-24 15:00:00"
          ],
          [
           "Crystal Palace FC (3.0) - Burnley FC (0.0) on 2024-02-24 15:00:00"
          ],
          [
           "Aston Villa FC (4.0) - Nottingham Forest FC (2.0) on 2024-02-24 15:00:00"
          ],
          [
           "AFC Bournemouth (0.0) - Manchester City FC (1.0) on 2024-02-24 17:30:00"
          ],
          [
           "Arsenal FC (4.0) - Newcastle United FC (1.0) on 2024-02-24 20:00:00"
          ],
          [
           "Wolverhampton Wanderers FC (1.0) - Sheffield United FC (0.0) on 2024-02-25 13:30:00"
          ],
          [
           "West Ham United FC (4.0) - Brentford FC (2.0) on 2024-02-26 20:00:00"
          ],
          [
           "Fulham FC (3.0) - Brighton & Hove Albion FC (0.0) on 2024-03-02 15:00:00"
          ],
          [
           "Tottenham Hotspur FC (3.0) - Crystal Palace FC (1.0) on 2024-03-02 15:00:00"
          ],
          [
           "Brentford FC (2.0) - Chelsea FC (2.0) on 2024-03-02 15:00:00"
          ],
          [
           "Newcastle United FC (3.0) - Wolverhampton Wanderers FC (0.0) on 2024-03-02 15:00:00"
          ],
          [
           "Everton FC (1.0) - West Ham United FC (3.0) on 2024-03-02 15:00:00"
          ],
          [
           "Nottingham Forest FC (0.0) - Liverpool FC (1.0) on 2024-03-02 15:00:00"
          ],
          [
           "Luton Town FC (2.0) - Aston Villa FC (3.0) on 2024-03-02 17:30:00"
          ],
          [
           "Burnley FC (0.0) - AFC Bournemouth (2.0) on 2024-03-03 13:00:00"
          ],
          [
           "Manchester City FC (3.0) - Manchester United FC (1.0) on 2024-03-03 15:30:00"
          ],
          [
           "Sheffield United FC (0.0) - Arsenal FC (6.0) on 2024-03-04 20:00:00"
          ],
          [
           "Manchester United FC (2.0) - Everton FC (0.0) on 2024-03-09 12:30:00"
          ],
          [
           "Wolverhampton Wanderers FC (2.0) - Fulham FC (1.0) on 2024-03-09 15:00:00"
          ],
          [
           "AFC Bournemouth (2.0) - Sheffield United FC (2.0) on 2024-03-09 15:00:00"
          ],
          [
           "Crystal Palace FC (1.0) - Luton Town FC (1.0) on 2024-03-09 15:00:00"
          ],
          [
           "Arsenal FC (2.0) - Brentford FC (1.0) on 2024-03-09 17:30:00"
          ],
          [
           "Aston Villa FC (0.0) - Tottenham Hotspur FC (4.0) on 2024-03-10 13:00:00"
          ],
          [
           "Brighton & Hove Albion FC (1.0) - Nottingham Forest FC (0.0) on 2024-03-10 14:00:00"
          ],
          [
           "West Ham United FC (2.0) - Burnley FC (2.0) on 2024-03-10 14:00:00"
          ],
          [
           "Liverpool FC (1.0) - Manchester City FC (1.0) on 2024-03-10 15:45:00"
          ],
          [
           "Chelsea FC (3.0) - Newcastle United FC (2.0) on 2024-03-11 20:00:00"
          ],
          [
           "AFC Bournemouth (4.0) - Luton Town FC (3.0) on 2024-03-13 19:30:00"
          ],
          [
           "Burnley FC (2.0) - Brentford FC (1.0) on 2024-03-16 15:00:00"
          ],
          [
           "Luton Town FC (1.0) - Nottingham Forest FC (1.0) on 2024-03-16 15:00:00"
          ],
          [
           "Fulham FC (3.0) - Tottenham Hotspur FC (0.0) on 2024-03-16 17:30:00"
          ],
          [
           "West Ham United FC (1.0) - Aston Villa FC (1.0) on 2024-03-17 14:00:00"
          ],
          [
           "Newcastle United FC (4.0) - West Ham United FC (3.0) on 2024-03-30 12:30:00"
          ],
          [
           "Tottenham Hotspur FC (2.0) - Luton Town FC (1.0) on 2024-03-30 15:00:00"
          ],
          [
           "Sheffield United FC (3.0) - Fulham FC (3.0) on 2024-03-30 15:00:00"
          ],
          [
           "AFC Bournemouth (2.0) - Everton FC (1.0) on 2024-03-30 15:00:00"
          ],
          [
           "Nottingham Forest FC (1.0) - Crystal Palace FC (1.0) on 2024-03-30 15:00:00"
          ],
          [
           "Chelsea FC (2.0) - Burnley FC (2.0) on 2024-03-30 15:00:00"
          ],
          [
           "Aston Villa FC (2.0) - Wolverhampton Wanderers FC (0.0) on 2024-03-30 17:30:00"
          ],
          [
           "Brentford FC (1.0) - Manchester United FC (1.0) on 2024-03-30 20:00:00"
          ],
          [
           "Liverpool FC (2.0) - Brighton & Hove Albion FC (1.0) on 2024-03-31 13:00:00"
          ],
          [
           "Manchester City FC (0.0) - Arsenal FC (0.0) on 2024-03-31 15:30:00"
          ],
          [
           "Nottingham Forest FC (3.0) - Fulham FC (1.0) on 2024-04-02 18:30:00"
          ],
          [
           "Newcastle United FC (1.0) - Everton FC (1.0) on 2024-04-02 18:30:00"
          ],
          [
           "AFC Bournemouth (1.0) - Crystal Palace FC (0.0) on 2024-04-02 18:45:00"
          ],
          [
           "Burnley FC (1.0) - Wolverhampton Wanderers FC (1.0) on 2024-04-02 18:45:00"
          ],
          [
           "West Ham United FC (1.0) - Tottenham Hotspur FC (1.0) on 2024-04-02 19:15:00"
          ],
          [
           "Arsenal FC (2.0) - Luton Town FC (0.0) on 2024-04-03 18:30:00"
          ],
          [
           "Brentford FC (0.0) - Brighton & Hove Albion FC (0.0) on 2024-04-03 18:30:00"
          ],
          [
           "Manchester City FC (4.0) - Aston Villa FC (1.0) on 2024-04-03 19:15:00"
          ],
          [
           "Liverpool FC (3.0) - Sheffield United FC (1.0) on 2024-04-04 18:30:00"
          ],
          [
           "Chelsea FC (4.0) - Manchester United FC (3.0) on 2024-04-04 19:15:00"
          ],
          [
           "Crystal Palace FC (2.0) - Manchester City FC (4.0) on 2024-04-06 11:30:00"
          ],
          [
           "Luton Town FC (2.0) - AFC Bournemouth (1.0) on 2024-04-06 14:00:00"
          ],
          [
           "Aston Villa FC (3.0) - Brentford FC (3.0) on 2024-04-06 14:00:00"
          ],
          [
           "Everton FC (1.0) - Burnley FC (0.0) on 2024-04-06 14:00:00"
          ],
          [
           "Fulham FC (0.0) - Newcastle United FC (1.0) on 2024-04-06 14:00:00"
          ],
          [
           "Wolverhampton Wanderers FC (1.0) - West Ham United FC (2.0) on 2024-04-06 14:00:00"
          ],
          [
           "Brighton & Hove Albion FC (0.0) - Arsenal FC (3.0) on 2024-04-06 16:30:00"
          ],
          [
           "Manchester United FC (2.0) - Liverpool FC (2.0) on 2024-04-07 14:30:00"
          ],
          [
           "Sheffield United FC (2.0) - Chelsea FC (2.0) on 2024-04-07 16:30:00"
          ],
          [
           "Tottenham Hotspur FC (3.0) - Nottingham Forest FC (1.0) on 2024-04-07 17:00:00"
          ],
          [
           "Newcastle United FC (4.0) - Tottenham Hotspur FC (0.0) on 2024-04-13 11:30:00"
          ],
          [
           "Nottingham Forest FC (2.0) - Wolverhampton Wanderers FC (2.0) on 2024-04-13 14:00:00"
          ],
          [
           "Brentford FC (2.0) - Sheffield United FC (0.0) on 2024-04-13 14:00:00"
          ],
          [
           "Burnley FC (1.0) - Brighton & Hove Albion FC (1.0) on 2024-04-13 14:00:00"
          ],
          [
           "Manchester City FC (5.0) - Luton Town FC (1.0) on 2024-04-13 14:00:00"
          ],
          [
           "AFC Bournemouth (2.0) - Manchester United FC (2.0) on 2024-04-13 16:30:00"
          ],
          [
           "Liverpool FC (0.0) - Crystal Palace FC (1.0) on 2024-04-14 13:00:00"
          ],
          [
           "West Ham United FC (0.0) - Fulham FC (2.0) on 2024-04-14 13:00:00"
          ],
          [
           "Arsenal FC (0.0) - Aston Villa FC (2.0) on 2024-04-14 15:30:00"
          ],
          [
           "Chelsea FC (6.0) - Everton FC (0.0) on 2024-04-15 19:00:00"
          ],
          [
           "Sheffield United FC (1.0) - Burnley FC (4.0) on 2024-04-20 14:00:00"
          ],
          [
           "Luton Town FC (1.0) - Brentford FC (5.0) on 2024-04-20 14:00:00"
          ],
          [
           "Wolverhampton Wanderers FC (0.0) - Arsenal FC (2.0) on 2024-04-20 18:30:00"
          ],
          [
           "Everton FC (2.0) - Nottingham Forest FC (0.0) on 2024-04-21 12:30:00"
          ],
          [
           "Aston Villa FC (3.0) - AFC Bournemouth (1.0) on 2024-04-21 14:00:00"
          ],
          [
           "Crystal Palace FC (5.0) - West Ham United FC (2.0) on 2024-04-21 14:00:00"
          ],
          [
           "Fulham FC (1.0) - Liverpool FC (3.0) on 2024-04-21 15:30:00"
          ],
          [
           "Arsenal FC (5.0) - Chelsea FC (0.0) on 2024-04-23 19:00:00"
          ],
          [
           "Wolverhampton Wanderers FC (0.0) - AFC Bournemouth (1.0) on 2024-04-24 18:45:00"
          ],
          [
           "Crystal Palace FC (2.0) - Newcastle United FC (0.0) on 2024-04-24 19:00:00"
          ],
          [
           "Everton FC (2.0) - Liverpool FC (0.0) on 2024-04-24 19:00:00"
          ],
          [
           "Manchester United FC (4.0) - Sheffield United FC (2.0) on 2024-04-24 19:00:00"
          ],
          [
           "Brighton & Hove Albion FC (0.0) - Manchester City FC (4.0) on 2024-04-25 19:00:00"
          ],
          [
           "West Ham United FC (2.0) - Liverpool FC (2.0) on 2024-04-27 11:30:00"
          ],
          [
           "Newcastle United FC (5.0) - Sheffield United FC (1.0) on 2024-04-27 14:00:00"
          ],
          [
           "Manchester United FC (1.0) - Burnley FC (1.0) on 2024-04-27 14:00:00"
          ],
          [
           "Fulham FC (1.0) - Crystal Palace FC (1.0) on 2024-04-27 14:00:00"
          ],
          [
           "Wolverhampton Wanderers FC (2.0) - Luton Town FC (1.0) on 2024-04-27 14:00:00"
          ],
          [
           "Everton FC (1.0) - Brentford FC (0.0) on 2024-04-27 16:30:00"
          ],
          [
           "Aston Villa FC (2.0) - Chelsea FC (2.0) on 2024-04-27 19:00:00"
          ],
          [
           "Tottenham Hotspur FC (2.0) - Arsenal FC (3.0) on 2024-04-28 13:00:00"
          ],
          [
           "AFC Bournemouth (3.0) - Brighton & Hove Albion FC (0.0) on 2024-04-28 13:00:00"
          ],
          [
           "Nottingham Forest FC (0.0) - Manchester City FC (2.0) on 2024-04-28 15:30:00"
          ],
          [
           "Chelsea FC (2.0) - Tottenham Hotspur FC (0.0) on 2024-05-02 18:30:00"
          ],
          [
           "Luton Town FC (1.0) - Everton FC (1.0) on 2024-05-03 19:00:00"
          ],
          [
           "Arsenal FC (3.0) - AFC Bournemouth (0.0) on 2024-05-04 11:30:00"
          ],
          [
           "Brentford FC (0.0) - Fulham FC (0.0) on 2024-05-04 14:00:00"
          ],
          [
           "Burnley FC (1.0) - Newcastle United FC (4.0) on 2024-05-04 14:00:00"
          ],
          [
           "Sheffield United FC (1.0) - Nottingham Forest FC (3.0) on 2024-05-04 14:00:00"
          ],
          [
           "Manchester City FC (5.0) - Wolverhampton Wanderers FC (1.0) on 2024-05-04 16:30:00"
          ],
          [
           "Brighton & Hove Albion FC (1.0) - Aston Villa FC (0.0) on 2024-05-05 13:00:00"
          ],
          [
           "Chelsea FC (5.0) - West Ham United FC (0.0) on 2024-05-05 13:00:00"
          ],
          [
           "Liverpool FC (4.0) - Tottenham Hotspur FC (2.0) on 2024-05-05 15:30:00"
          ],
          [
           "Crystal Palace FC (4.0) - Manchester United FC (0.0) on 2024-05-06 19:00:00"
          ],
          [
           "Fulham FC (0.0) - Manchester City FC (4.0) on 2024-05-11 11:30:00"
          ],
          [
           "Everton FC (1.0) - Sheffield United FC (0.0) on 2024-05-11 14:00:00"
          ],
          [
           "Newcastle United FC (1.0) - Brighton & Hove Albion FC (1.0) on 2024-05-11 14:00:00"
          ],
          [
           "Tottenham Hotspur FC (2.0) - Burnley FC (1.0) on 2024-05-11 14:00:00"
          ],
          [
           "West Ham United FC (3.0) - Luton Town FC (1.0) on 2024-05-11 14:00:00"
          ],
          [
           "Wolverhampton Wanderers FC (1.0) - Crystal Palace FC (3.0) on 2024-05-11 14:00:00"
          ],
          [
           "AFC Bournemouth (1.0) - Brentford FC (2.0) on 2024-05-11 14:00:00"
          ],
          [
           "Nottingham Forest FC (2.0) - Chelsea FC (3.0) on 2024-05-11 16:30:00"
          ],
          [
           "Manchester United FC (0.0) - Arsenal FC (1.0) on 2024-05-12 15:30:00"
          ],
          [
           "Aston Villa FC (3.0) - Liverpool FC (3.0) on 2024-05-13 19:00:00"
          ],
          [
           "Tottenham Hotspur FC (0.0) - Manchester City FC (2.0) on 2024-05-14 19:00:00"
          ],
          [
           "Brighton & Hove Albion FC (1.0) - Chelsea FC (2.0) on 2024-05-15 18:45:00"
          ],
          [
           "Manchester United FC (3.0) - Newcastle United FC (2.0) on 2024-05-15 19:00:00"
          ],
          [
           "Brighton & Hove Albion FC (0.0) - Manchester United FC (2.0) on 2024-05-19 15:00:00"
          ],
          [
           "Arsenal FC (2.0) - Everton FC (1.0) on 2024-05-19 15:00:00"
          ],
          [
           "Burnley FC (1.0) - Nottingham Forest FC (2.0) on 2024-05-19 15:00:00"
          ],
          [
           "Crystal Palace FC (5.0) - Aston Villa FC (0.0) on 2024-05-19 15:00:00"
          ],
          [
           "Liverpool FC (2.0) - Wolverhampton Wanderers FC (0.0) on 2024-05-19 15:00:00"
          ],
          [
           "Luton Town FC (2.0) - Fulham FC (4.0) on 2024-05-19 15:00:00"
          ],
          [
           "Sheffield United FC (0.0) - Tottenham Hotspur FC (3.0) on 2024-05-19 15:00:00"
          ],
          [
           "Manchester City FC (3.0) - West Ham United FC (1.0) on 2024-05-19 15:00:00"
          ],
          [
           "Chelsea FC (2.0) - AFC Bournemouth (1.0) on 2024-05-19 15:00:00"
          ],
          [
           "Brentford FC (2.0) - Newcastle United FC (4.0) on 2024-05-19 15:00:00"
          ]
         ],
         "hovertemplate": "season=2023-2024<br>elo_difference=%{x}<br>home_outcome=%{y}<br>match_info=%{customdata[0]}<extra></extra>",
         "legendgroup": "2023-2024",
         "marker": {
          "color": "#EF553B",
          "symbol": "circle"
         },
         "mode": "markers",
         "name": "2023-2024",
         "showlegend": true,
         "type": "scattergl",
         "x": [
          -354.883356579752,
          274.07698035842213,
          -31.885111511111518,
          -152.8394249400542,
          -16.39922527124895,
          122.37728141827051,
          47.33659657012322,
          -69.1364684652799,
          66.204327445427,
          163.19870509153884,
          103.7466644753556,
          165.43491408148293,
          -47.127613826599145,
          -90.69348200965464,
          -2.3474738064642224,
          215.521529017047,
          85.93930296266126,
          -120.06615172089437,
          -205.47066096957906,
          254.528312077774,
          -131.9157265035874,
          -24.001955130779606,
          -6.150231621586499,
          218.1883860881303,
          124.86455248961238,
          -42.38706074938136,
          -380.2441345379034,
          -122.72478639350584,
          -96.57679932311089,
          -165.14872943381397,
          -48.15805669919723,
          116.63528888530118,
          271.5132824814425,
          -170.498942815296,
          46.877165539573525,
          10.303192211393252,
          84.67825069741366,
          109.19431105019521,
          126.53709147168797,
          -197.86490944181378,
          36.49159160558179,
          105.71634681089654,
          -1.483333739469117,
          205.27586156041139,
          -194.84359797990805,
          44.16843698191951,
          -124.51407723644138,
          -254.43158141738468,
          60.926403980764235,
          -47.041426694522215,
          244.0813324642702,
          17.025934956062883,
          7.310730859792784,
          -131.4307069745737,
          2.407593359814655,
          116.89095513882194,
          79.18814782076788,
          98.48762410733411,
          -157.3100077277304,
          44.078800345397894,
          154.5341168601708,
          136.29524925324108,
          -0.5961427084098432,
          -203.1301105430307,
          -214.51566458411162,
          16.531620178696812,
          -5.213079395374052,
          13.159083706219008,
          -99.51101429642154,
          -29.023952367743277,
          -202.0678693622217,
          27.925520761009466,
          -152.95975269859196,
          116.91987376086081,
          84.53934964977998,
          36.99063575838841,
          -63.57535038210972,
          -12.77693484608426,
          -83.27741998066585,
          25.93188183208167,
          148.93176887090522,
          59.55795410738574,
          67.49990634146593,
          -76.49505611262293,
          130.25609171342012,
          55.33848912501003,
          -75.38904273654475,
          -175.09222051956567,
          64.99152513567424,
          132.25741626891545,
          -125.90583479704696,
          49.15230424965557,
          42.97318210955655,
          275.5138162920664,
          -48.795706242980486,
          11.701162086831573,
          136.47734195512248,
          32.9955641220447,
          172.46709950792433,
          -121.07541535344421,
          -77.07520120569461,
          46.43269964381261,
          208.14373063534094,
          -30.35190437517599,
          -68.33184754973331,
          -108.51113464102082,
          -44.65841101150204,
          -55.06970904718355,
          -164.29022414125984,
          16.880651556141856,
          -52.400430650284534,
          -18.200692814814374,
          220.76961411223215,
          135.11229970338377,
          -70.32735638009763,
          107.29274775745625,
          16.90543172837124,
          85.16351143587804,
          95.8322730374523,
          -66.66864609962522,
          29.782218313920566,
          -118.96284344501214,
          -17.156506664946164,
          14.959907658501152,
          -60.463440045830794,
          -78.5265739550407,
          -130.77930771338583,
          -43.21826583653774,
          -79.13818239146485,
          -1.968217554841658,
          19.890796816761622,
          152.27328283906058,
          72.975005373062,
          -57.49312358101406,
          31.001453254098124,
          -72.34417877302417,
          54.3633890544686,
          36.765175173705074,
          131.33558846176606,
          74.34634947157156,
          82.19472363660793,
          -195.12286607737246,
          -58.32258043333968,
          -206.24524266624053,
          54.482420921021,
          34.32967407255046,
          24.37137856622644,
          1.3918006723799863,
          -19.09309313988433,
          -12.165794886450612,
          -159.87419243804038,
          95.03633615909894,
          1.3634263088924854,
          -38.96634386411142,
          45.70522492925443,
          2.9668183779140236,
          30.99203256878559,
          6.732009058387348,
          -163.3195322841243,
          10.117652988818008,
          -112.37594816706928,
          47.677272738226065,
          108.75138898563478,
          116.70134510618482,
          -140.09076693201996,
          103.40759601184777,
          -146.98228111140838,
          50.210020744778376,
          59.41221494165802,
          -34.93375861234813,
          154.2293616469974,
          25.210502727301673,
          27.15306909057631,
          -56.942437286922996,
          29.741819318292528,
          -121.35596803917065,
          -6.728756885163648,
          -8.836933802875592,
          35.67583191163476,
          99.47272077883872,
          -55.547059057978686,
          -158.46789813897954,
          -23.244508956670416,
          70.66481344904878,
          -67.42591298561001,
          -73.81133759925137,
          -14.743522239697086,
          9.393173028968704,
          -73.22775012641023,
          175.06908721352943,
          36.38488540000935,
          41.10800768087438,
          139.07303102643777,
          -31.162522075311927,
          -53.77564250011778,
          18.959466118644514,
          124.47496502623835,
          31.39501107036972,
          -27.652805760218598,
          78.34012881705212,
          -132.01760148135827,
          -60.73306260173399,
          -34.52966268632599,
          92.7244233681597,
          -3.1471523996174255,
          -112.78395051719394,
          -92.74928665817333,
          -7.414418826208021,
          -112.72873140323009,
          -9.97703558938565,
          -22.841644944084464,
          61.4190610412104,
          39.75623858592121,
          171.92093828727798,
          111.49431283388685,
          86.86263210653624,
          21.116437713789992,
          -24.4966329011163,
          -49.83716354066178,
          52.47665267681805,
          -36.72511455425115,
          3.580034376421281,
          -131.49637866483658,
          31.51721215607563,
          -17.72085243655829,
          55.787665344703555,
          -8.295514993119241,
          -166.09164783906454,
          123.63772400961238,
          5.611211557640445,
          161.7887620930776,
          27.139630492514925,
          66.09113704519382,
          34.42996446851589,
          -66.72365192589814,
          -88.84058591007829,
          -41.934875170212536,
          -74.62340378594195,
          -141.09036104612846,
          -168.5163930117817,
          -57.444913930482016,
          15.483450418914344,
          -9.93606991088268,
          14.339260794008169,
          71.87235073298802,
          -84.85976004082477,
          -116.45560873070917,
          31.378362241593095,
          154.64788611238646,
          155.11647846029928,
          39.32514998654119,
          22.180093654569873,
          62.01530384510238,
          93.45374894602992,
          -128.1734309263279,
          107.63113852865217,
          115.1919059467516,
          62.30336084662713,
          31.680680397867263,
          88.95003601596932,
          -76.65811590467251,
          2.7870984709531967,
          -43.90331486048058,
          -158.77930119253074,
          -121.24070569347668,
          -92.34689967205554,
          90.45991180642409,
          -187.68627589374114,
          81.60348826900622,
          28.008529764262676,
          66.57166656364006,
          19.60487920384685,
          169.40231594010606,
          -30.22358839713752,
          73.02516899494913,
          91.79928327080415,
          -7.68017189723264,
          42.29070906073639,
          77.59758852081995,
          20.131206280811966,
          -3.4281362972953957,
          -15.499684715275407,
          -22.512052730469577,
          26.021053415374354,
          122.57919411232751,
          -80.43781786315026,
          79.044002660753,
          -19.851369532414537,
          79.07452597220663,
          38.192258771081015,
          -97.27659381855983,
          112.55483123808267,
          0.2850714098026401,
          -22.29912332078925,
          57.79498676633716,
          86.1545649606062,
          -48.29676513776144,
          -49.84070543216512,
          180.4609896687807,
          -49.877181313278015,
          79.94939953990524,
          178.3857829112576,
          36.729872133481194,
          -167.38842078132416,
          -58.4007560330017,
          72.0744980631141,
          33.04276830982508,
          -51.20557760515794,
          -26.6398682498982,
          -129.22373711882437,
          -81.94453146950764,
          -95.73103687132448,
          96.4392393061969,
          14.651400561238688,
          -22.994235406775033,
          44.07135429468508,
          -30.651701022199177,
          169.53143608148616,
          -3.1326664009447995,
          88.81624072206205,
          -6.950452094490402,
          33.83324212600337,
          88.75243816205852,
          -53.81443935296079,
          -59.1936253229901,
          -112.91062211350231,
          36.0119662411862,
          64.8448611995841,
          23.27268563801772,
          -90.69737333566513,
          66.33692012205165,
          -53.32781902968463,
          -4.020688718837391,
          -38.170801433011775,
          118.36140927634028,
          -149.75353793885256,
          -59.811893596630625,
          131.09933820981837,
          46.69808077927496,
          -27.712645572733663,
          57.988640813756774,
          50.411686366412596,
          22.687247984865962,
          -90.70340458194823,
          71.70140074513051,
          -179.55247767129526,
          49.81381901717782,
          -86.66162288303553,
          102.01512829090598,
          -10.310575643813308,
          -84.99814923642816,
          -69.419937893422,
          155.34663708604603,
          -43.42927085436577,
          91.81250931540967,
          72.84600472321858,
          31.511968614378475,
          -149.93953769478935,
          140.90346467435165,
          53.04717973476045,
          52.28205214793934,
          65.46774858185404,
          -90.34467722065597,
          -9.740858945075615,
          -116.00151100785865,
          -129.0258506578425,
          -22.3483929103229,
          -142.95073323562337,
          -103.40563180199979,
          -5.050524491540045,
          -67.89672658130326,
          110.3053334701649,
          -40.88011935624172,
          54.171728880821775,
          113.12801918347441,
          -84.43968309001525,
          -118.65338105513979,
          157.10686135472088,
          108.96324600261369,
          -50.550002341473146
         ],
         "xaxis": "x",
         "y": [
          "0",
          "3",
          "1",
          "0",
          "0",
          "3",
          "3",
          "1",
          "1",
          "3",
          "3",
          "3",
          "0",
          "0",
          "3",
          "3",
          "3",
          "3",
          "0",
          "3",
          "0",
          "0",
          "1",
          "1",
          "3",
          "0",
          "0",
          "0",
          "0",
          "0",
          "1",
          "0",
          "3",
          "0",
          "1",
          "3",
          "3",
          "3",
          "3",
          "0",
          "3",
          "3",
          "0",
          "3",
          "0",
          "3",
          "1",
          "0",
          "1",
          "1",
          "3",
          "1",
          "0",
          "0",
          "0",
          "3",
          "1",
          "3",
          "0",
          "3",
          "3",
          "3",
          "0",
          "3",
          "0",
          "0",
          "3",
          "1",
          "0",
          "0",
          "0",
          "3",
          "0",
          "3",
          "3",
          "1",
          "1",
          "1",
          "1",
          "3",
          "3",
          "3",
          "1",
          "0",
          "3",
          "3",
          "1",
          "0",
          "3",
          "3",
          "0",
          "0",
          "3",
          "3",
          "1",
          "0",
          "3",
          "1",
          "3",
          "0",
          "0",
          "3",
          "3",
          "1",
          "3",
          "0",
          "3",
          "3",
          "1",
          "0",
          "3",
          "0",
          "3",
          "3",
          "3",
          "3",
          "3",
          "1",
          "3",
          "1",
          "1",
          "0",
          "3",
          "3",
          "0",
          "0",
          "0",
          "0",
          "0",
          "3",
          "3",
          "3",
          "3",
          "0",
          "3",
          "1",
          "3",
          "1",
          "3",
          "1",
          "3",
          "0",
          "0",
          "0",
          "3",
          "3",
          "3",
          "3",
          "3",
          "0",
          "0",
          "1",
          "0",
          "3",
          "1",
          "3",
          "3",
          "3",
          "0",
          "3",
          "0",
          "3",
          "3",
          "1",
          "0",
          "3",
          "0",
          "3",
          "1",
          "1",
          "1",
          "3",
          "0",
          "3",
          "3",
          "0",
          "1",
          "3",
          "0",
          "3",
          "0",
          "0",
          "3",
          "3",
          "0",
          "0",
          "3",
          "0",
          "0",
          "3",
          "3",
          "3",
          "3",
          "3",
          "3",
          "3",
          "3",
          "1",
          "1",
          "3",
          "0",
          "1",
          "1",
          "3",
          "3",
          "1",
          "0",
          "1",
          "0",
          "3",
          "1",
          "3",
          "0",
          "3",
          "3",
          "3",
          "1",
          "0",
          "1",
          "3",
          "1",
          "1",
          "0",
          "3",
          "0",
          "1",
          "3",
          "0",
          "3",
          "3",
          "3",
          "0",
          "3",
          "0",
          "0",
          "0",
          "0",
          "0",
          "0",
          "0",
          "0",
          "1",
          "3",
          "0",
          "1",
          "0",
          "0",
          "1",
          "3",
          "3",
          "0",
          "1",
          "3",
          "3",
          "0",
          "3",
          "3",
          "3",
          "3",
          "3",
          "1",
          "3",
          "0",
          "0",
          "0",
          "0",
          "3",
          "0",
          "3",
          "3",
          "1",
          "1",
          "3",
          "0",
          "3",
          "1",
          "1",
          "3",
          "3",
          "3",
          "1",
          "3",
          "1",
          "3",
          "3",
          "1",
          "3",
          "1",
          "1",
          "3",
          "1",
          "3",
          "1",
          "3",
          "1",
          "3",
          "1",
          "1",
          "3",
          "1",
          "3",
          "3",
          "3",
          "0",
          "3",
          "1",
          "3",
          "0",
          "0",
          "0",
          "1",
          "1",
          "3",
          "3",
          "1",
          "3",
          "1",
          "3",
          "1",
          "0",
          "0",
          "0",
          "3",
          "0",
          "0",
          "0",
          "3",
          "3",
          "3",
          "0",
          "3",
          "0",
          "3",
          "3",
          "3",
          "0",
          "1",
          "3",
          "1",
          "1",
          "3",
          "3",
          "1",
          "0",
          "3",
          "0",
          "3",
          "1",
          "3",
          "1",
          "0",
          "0",
          "3",
          "3",
          "3",
          "3",
          "3",
          "0",
          "3",
          "1",
          "3",
          "3",
          "0",
          "0",
          "0",
          "0",
          "1",
          "0",
          "0",
          "3",
          "0",
          "3",
          "0",
          "3",
          "3",
          "0",
          "0",
          "3",
          "3",
          "0"
         ],
         "yaxis": "y"
        }
       ],
       "layout": {
        "legend": {
         "title": {
          "text": "season"
         },
         "tracegroupgap": 0
        },
        "template": {
         "data": {
          "bar": [
           {
            "error_x": {
             "color": "#2a3f5f"
            },
            "error_y": {
             "color": "#2a3f5f"
            },
            "marker": {
             "line": {
              "color": "#E5ECF6",
              "width": 0.5
             },
             "pattern": {
              "fillmode": "overlay",
              "size": 10,
              "solidity": 0.2
             }
            },
            "type": "bar"
           }
          ],
          "barpolar": [
           {
            "marker": {
             "line": {
              "color": "#E5ECF6",
              "width": 0.5
             },
             "pattern": {
              "fillmode": "overlay",
              "size": 10,
              "solidity": 0.2
             }
            },
            "type": "barpolar"
           }
          ],
          "carpet": [
           {
            "aaxis": {
             "endlinecolor": "#2a3f5f",
             "gridcolor": "white",
             "linecolor": "white",
             "minorgridcolor": "white",
             "startlinecolor": "#2a3f5f"
            },
            "baxis": {
             "endlinecolor": "#2a3f5f",
             "gridcolor": "white",
             "linecolor": "white",
             "minorgridcolor": "white",
             "startlinecolor": "#2a3f5f"
            },
            "type": "carpet"
           }
          ],
          "choropleth": [
           {
            "colorbar": {
             "outlinewidth": 0,
             "ticks": ""
            },
            "type": "choropleth"
           }
          ],
          "contour": [
           {
            "colorbar": {
             "outlinewidth": 0,
             "ticks": ""
            },
            "colorscale": [
             [
              0,
              "#0d0887"
             ],
             [
              0.1111111111111111,
              "#46039f"
             ],
             [
              0.2222222222222222,
              "#7201a8"
             ],
             [
              0.3333333333333333,
              "#9c179e"
             ],
             [
              0.4444444444444444,
              "#bd3786"
             ],
             [
              0.5555555555555556,
              "#d8576b"
             ],
             [
              0.6666666666666666,
              "#ed7953"
             ],
             [
              0.7777777777777778,
              "#fb9f3a"
             ],
             [
              0.8888888888888888,
              "#fdca26"
             ],
             [
              1,
              "#f0f921"
             ]
            ],
            "type": "contour"
           }
          ],
          "contourcarpet": [
           {
            "colorbar": {
             "outlinewidth": 0,
             "ticks": ""
            },
            "type": "contourcarpet"
           }
          ],
          "heatmap": [
           {
            "colorbar": {
             "outlinewidth": 0,
             "ticks": ""
            },
            "colorscale": [
             [
              0,
              "#0d0887"
             ],
             [
              0.1111111111111111,
              "#46039f"
             ],
             [
              0.2222222222222222,
              "#7201a8"
             ],
             [
              0.3333333333333333,
              "#9c179e"
             ],
             [
              0.4444444444444444,
              "#bd3786"
             ],
             [
              0.5555555555555556,
              "#d8576b"
             ],
             [
              0.6666666666666666,
              "#ed7953"
             ],
             [
              0.7777777777777778,
              "#fb9f3a"
             ],
             [
              0.8888888888888888,
              "#fdca26"
             ],
             [
              1,
              "#f0f921"
             ]
            ],
            "type": "heatmap"
           }
          ],
          "heatmapgl": [
           {
            "colorbar": {
             "outlinewidth": 0,
             "ticks": ""
            },
            "colorscale": [
             [
              0,
              "#0d0887"
             ],
             [
              0.1111111111111111,
              "#46039f"
             ],
             [
              0.2222222222222222,
              "#7201a8"
             ],
             [
              0.3333333333333333,
              "#9c179e"
             ],
             [
              0.4444444444444444,
              "#bd3786"
             ],
             [
              0.5555555555555556,
              "#d8576b"
             ],
             [
              0.6666666666666666,
              "#ed7953"
             ],
             [
              0.7777777777777778,
              "#fb9f3a"
             ],
             [
              0.8888888888888888,
              "#fdca26"
             ],
             [
              1,
              "#f0f921"
             ]
            ],
            "type": "heatmapgl"
           }
          ],
          "histogram": [
           {
            "marker": {
             "pattern": {
              "fillmode": "overlay",
              "size": 10,
              "solidity": 0.2
             }
            },
            "type": "histogram"
           }
          ],
          "histogram2d": [
           {
            "colorbar": {
             "outlinewidth": 0,
             "ticks": ""
            },
            "colorscale": [
             [
              0,
              "#0d0887"
             ],
             [
              0.1111111111111111,
              "#46039f"
             ],
             [
              0.2222222222222222,
              "#7201a8"
             ],
             [
              0.3333333333333333,
              "#9c179e"
             ],
             [
              0.4444444444444444,
              "#bd3786"
             ],
             [
              0.5555555555555556,
              "#d8576b"
             ],
             [
              0.6666666666666666,
              "#ed7953"
             ],
             [
              0.7777777777777778,
              "#fb9f3a"
             ],
             [
              0.8888888888888888,
              "#fdca26"
             ],
             [
              1,
              "#f0f921"
             ]
            ],
            "type": "histogram2d"
           }
          ],
          "histogram2dcontour": [
           {
            "colorbar": {
             "outlinewidth": 0,
             "ticks": ""
            },
            "colorscale": [
             [
              0,
              "#0d0887"
             ],
             [
              0.1111111111111111,
              "#46039f"
             ],
             [
              0.2222222222222222,
              "#7201a8"
             ],
             [
              0.3333333333333333,
              "#9c179e"
             ],
             [
              0.4444444444444444,
              "#bd3786"
             ],
             [
              0.5555555555555556,
              "#d8576b"
             ],
             [
              0.6666666666666666,
              "#ed7953"
             ],
             [
              0.7777777777777778,
              "#fb9f3a"
             ],
             [
              0.8888888888888888,
              "#fdca26"
             ],
             [
              1,
              "#f0f921"
             ]
            ],
            "type": "histogram2dcontour"
           }
          ],
          "mesh3d": [
           {
            "colorbar": {
             "outlinewidth": 0,
             "ticks": ""
            },
            "type": "mesh3d"
           }
          ],
          "parcoords": [
           {
            "line": {
             "colorbar": {
              "outlinewidth": 0,
              "ticks": ""
             }
            },
            "type": "parcoords"
           }
          ],
          "pie": [
           {
            "automargin": true,
            "type": "pie"
           }
          ],
          "scatter": [
           {
            "fillpattern": {
             "fillmode": "overlay",
             "size": 10,
             "solidity": 0.2
            },
            "type": "scatter"
           }
          ],
          "scatter3d": [
           {
            "line": {
             "colorbar": {
              "outlinewidth": 0,
              "ticks": ""
             }
            },
            "marker": {
             "colorbar": {
              "outlinewidth": 0,
              "ticks": ""
             }
            },
            "type": "scatter3d"
           }
          ],
          "scattercarpet": [
           {
            "marker": {
             "colorbar": {
              "outlinewidth": 0,
              "ticks": ""
             }
            },
            "type": "scattercarpet"
           }
          ],
          "scattergeo": [
           {
            "marker": {
             "colorbar": {
              "outlinewidth": 0,
              "ticks": ""
             }
            },
            "type": "scattergeo"
           }
          ],
          "scattergl": [
           {
            "marker": {
             "colorbar": {
              "outlinewidth": 0,
              "ticks": ""
             }
            },
            "type": "scattergl"
           }
          ],
          "scattermapbox": [
           {
            "marker": {
             "colorbar": {
              "outlinewidth": 0,
              "ticks": ""
             }
            },
            "type": "scattermapbox"
           }
          ],
          "scatterpolar": [
           {
            "marker": {
             "colorbar": {
              "outlinewidth": 0,
              "ticks": ""
             }
            },
            "type": "scatterpolar"
           }
          ],
          "scatterpolargl": [
           {
            "marker": {
             "colorbar": {
              "outlinewidth": 0,
              "ticks": ""
             }
            },
            "type": "scatterpolargl"
           }
          ],
          "scatterternary": [
           {
            "marker": {
             "colorbar": {
              "outlinewidth": 0,
              "ticks": ""
             }
            },
            "type": "scatterternary"
           }
          ],
          "surface": [
           {
            "colorbar": {
             "outlinewidth": 0,
             "ticks": ""
            },
            "colorscale": [
             [
              0,
              "#0d0887"
             ],
             [
              0.1111111111111111,
              "#46039f"
             ],
             [
              0.2222222222222222,
              "#7201a8"
             ],
             [
              0.3333333333333333,
              "#9c179e"
             ],
             [
              0.4444444444444444,
              "#bd3786"
             ],
             [
              0.5555555555555556,
              "#d8576b"
             ],
             [
              0.6666666666666666,
              "#ed7953"
             ],
             [
              0.7777777777777778,
              "#fb9f3a"
             ],
             [
              0.8888888888888888,
              "#fdca26"
             ],
             [
              1,
              "#f0f921"
             ]
            ],
            "type": "surface"
           }
          ],
          "table": [
           {
            "cells": {
             "fill": {
              "color": "#EBF0F8"
             },
             "line": {
              "color": "white"
             }
            },
            "header": {
             "fill": {
              "color": "#C8D4E3"
             },
             "line": {
              "color": "white"
             }
            },
            "type": "table"
           }
          ]
         },
         "layout": {
          "annotationdefaults": {
           "arrowcolor": "#2a3f5f",
           "arrowhead": 0,
           "arrowwidth": 1
          },
          "autotypenumbers": "strict",
          "coloraxis": {
           "colorbar": {
            "outlinewidth": 0,
            "ticks": ""
           }
          },
          "colorscale": {
           "diverging": [
            [
             0,
             "#8e0152"
            ],
            [
             0.1,
             "#c51b7d"
            ],
            [
             0.2,
             "#de77ae"
            ],
            [
             0.3,
             "#f1b6da"
            ],
            [
             0.4,
             "#fde0ef"
            ],
            [
             0.5,
             "#f7f7f7"
            ],
            [
             0.6,
             "#e6f5d0"
            ],
            [
             0.7,
             "#b8e186"
            ],
            [
             0.8,
             "#7fbc41"
            ],
            [
             0.9,
             "#4d9221"
            ],
            [
             1,
             "#276419"
            ]
           ],
           "sequential": [
            [
             0,
             "#0d0887"
            ],
            [
             0.1111111111111111,
             "#46039f"
            ],
            [
             0.2222222222222222,
             "#7201a8"
            ],
            [
             0.3333333333333333,
             "#9c179e"
            ],
            [
             0.4444444444444444,
             "#bd3786"
            ],
            [
             0.5555555555555556,
             "#d8576b"
            ],
            [
             0.6666666666666666,
             "#ed7953"
            ],
            [
             0.7777777777777778,
             "#fb9f3a"
            ],
            [
             0.8888888888888888,
             "#fdca26"
            ],
            [
             1,
             "#f0f921"
            ]
           ],
           "sequentialminus": [
            [
             0,
             "#0d0887"
            ],
            [
             0.1111111111111111,
             "#46039f"
            ],
            [
             0.2222222222222222,
             "#7201a8"
            ],
            [
             0.3333333333333333,
             "#9c179e"
            ],
            [
             0.4444444444444444,
             "#bd3786"
            ],
            [
             0.5555555555555556,
             "#d8576b"
            ],
            [
             0.6666666666666666,
             "#ed7953"
            ],
            [
             0.7777777777777778,
             "#fb9f3a"
            ],
            [
             0.8888888888888888,
             "#fdca26"
            ],
            [
             1,
             "#f0f921"
            ]
           ]
          },
          "colorway": [
           "#636efa",
           "#EF553B",
           "#00cc96",
           "#ab63fa",
           "#FFA15A",
           "#19d3f3",
           "#FF6692",
           "#B6E880",
           "#FF97FF",
           "#FECB52"
          ],
          "font": {
           "color": "#2a3f5f"
          },
          "geo": {
           "bgcolor": "white",
           "lakecolor": "white",
           "landcolor": "#E5ECF6",
           "showlakes": true,
           "showland": true,
           "subunitcolor": "white"
          },
          "hoverlabel": {
           "align": "left"
          },
          "hovermode": "closest",
          "mapbox": {
           "style": "light"
          },
          "paper_bgcolor": "white",
          "plot_bgcolor": "#E5ECF6",
          "polar": {
           "angularaxis": {
            "gridcolor": "white",
            "linecolor": "white",
            "ticks": ""
           },
           "bgcolor": "#E5ECF6",
           "radialaxis": {
            "gridcolor": "white",
            "linecolor": "white",
            "ticks": ""
           }
          },
          "scene": {
           "xaxis": {
            "backgroundcolor": "#E5ECF6",
            "gridcolor": "white",
            "gridwidth": 2,
            "linecolor": "white",
            "showbackground": true,
            "ticks": "",
            "zerolinecolor": "white"
           },
           "yaxis": {
            "backgroundcolor": "#E5ECF6",
            "gridcolor": "white",
            "gridwidth": 2,
            "linecolor": "white",
            "showbackground": true,
            "ticks": "",
            "zerolinecolor": "white"
           },
           "zaxis": {
            "backgroundcolor": "#E5ECF6",
            "gridcolor": "white",
            "gridwidth": 2,
            "linecolor": "white",
            "showbackground": true,
            "ticks": "",
            "zerolinecolor": "white"
           }
          },
          "shapedefaults": {
           "line": {
            "color": "#2a3f5f"
           }
          },
          "ternary": {
           "aaxis": {
            "gridcolor": "white",
            "linecolor": "white",
            "ticks": ""
           },
           "baxis": {
            "gridcolor": "white",
            "linecolor": "white",
            "ticks": ""
           },
           "bgcolor": "#E5ECF6",
           "caxis": {
            "gridcolor": "white",
            "linecolor": "white",
            "ticks": ""
           }
          },
          "title": {
           "x": 0.05
          },
          "xaxis": {
           "automargin": true,
           "gridcolor": "white",
           "linecolor": "white",
           "ticks": "",
           "title": {
            "standoff": 15
           },
           "zerolinecolor": "white",
           "zerolinewidth": 2
          },
          "yaxis": {
           "automargin": true,
           "gridcolor": "white",
           "linecolor": "white",
           "ticks": "",
           "title": {
            "standoff": 15
           },
           "zerolinecolor": "white",
           "zerolinewidth": 2
          }
         }
        },
        "title": {
         "text": "Elo Difference vs Outcome - Correlation: 0.54, P-value: 0.00"
        },
        "xaxis": {
         "anchor": "y",
         "domain": [
          0,
          1
         ],
         "title": {
          "text": "elo_difference"
         }
        },
        "yaxis": {
         "anchor": "x",
         "domain": [
          0,
          1
         ],
         "title": {
          "text": "home_outcome"
         }
        }
       }
      }
     },
     "metadata": {},
     "output_type": "display_data"
    },
    {
     "data": {
      "text/plain": [
       "<Figure size 1000x600 with 0 Axes>"
      ]
     },
     "metadata": {},
     "output_type": "display_data"
    }
   ],
   "source": [
    "import plotly.express as px\n",
    "import matplotlib.pyplot as plt\n",
    "\n",
    "plt.figure(figsize=(10, 6))\n",
    "fig = px.scatter(\n",
    "    data_2022_2024, x=\"elo_difference\", y=\"home_outcome\", color=\"season\",\n",
    "    hover_data=[\"match_info\"], title=f\"Elo Difference vs Outcome - Correlation: {correlation:.2f}, P-value: {p_value:.2f}\"\n",
    ")\n",
    "fig.show()"
   ]
  },
  {
   "cell_type": "markdown",
   "metadata": {},
   "source": [
    "## Training"
   ]
  },
  {
   "cell_type": "code",
   "execution_count": 30,
   "metadata": {},
   "outputs": [
    {
     "name": "stdout",
     "output_type": "stream",
     "text": [
      "Best parameters found: {'bootstrap': True, 'max_depth': 15, 'min_samples_leaf': 2, 'min_samples_split': 5, 'n_estimators': 500}\n",
      "Best cross-validation accuracy: 0.9328947368421053\n",
      "Feature importance\n",
      "home_elo: 0.268975994250035\n",
      "away_elo: 0.23495329974415735\n",
      "home_position: 0.09992848902928747\n",
      "away_position: 0.08891009699512055\n",
      "home_manager_tenure: 0.078311208025058\n",
      "away_manager_tenure: 0.07761714087853015\n",
      "home_form: 0.07880476371831084\n",
      "away_form: 0.07249900735950071\n"
     ]
    }
   ],
   "source": [
    "from sklearn.ensemble import RandomForestClassifier\n",
    "from sklearn.model_selection import GridSearchCV\n",
    "from sklearn.preprocessing import StandardScaler\n",
    "\n",
    "# Define the feature columns\n",
    "feature_columns = [\"home_elo\", \"away_elo\", \"home_position\", \"away_position\", \"home_manager_tenure\", \"away_manager_tenure\", \"home_form\", \"away_form\"]\n",
    "\n",
    "# Combine the dataframes\n",
    "df = pd.concat([df, df_2023])\n",
    "\n",
    "# For simplicity, let\"s predict the home outcome based on Elo ratings\n",
    "x = df[feature_columns]\n",
    "y = df[\"home_outcome\"]\n",
    "\n",
    "# Standardize the features\n",
    "scaler = StandardScaler()\n",
    "x = scaler.fit_transform(x)\n",
    "\n",
    "# Define the parameter grid for Random Forest\n",
    "# Current parameters: n_estimators=1000, max_depth=5, min_samples_split=5\n",
    "param_grid_rf = {\n",
    "    'n_estimators': [100, 200, 500, 1000],\n",
    "    'max_depth': [None, 5, 10, 15, 20, 25],\n",
    "    'min_samples_split': [2, 5, 10],\n",
    "    'min_samples_leaf': [1, 2, 4],\n",
    "    'bootstrap': [True, False]\n",
    "}\n",
    "\n",
    "# Initialize the model\n",
    "rf = RandomForestClassifier()\n",
    "\n",
    "# Initialize GridSearchCV with 5-fold cross-validation\n",
    "grid_search = GridSearchCV(estimator=rf, param_grid=param_grid_rf, cv=5, n_jobs=-1, scoring='accuracy')\n",
    "\n",
    "# Perform the grid search\n",
    "grid_search.fit(x, y)\n",
    "\n",
    "# Extract best parameters and model\n",
    "print(f\"Best parameters found: {grid_search.best_params_}\")\n",
    "print(f\"Best cross-validation accuracy: {grid_search.best_score_}\")\n",
    "\n",
    "best_rf = grid_search.best_estimator_\n",
    "\n",
    "# Print feature importance\n",
    "feature_importance = best_rf.feature_importances_\n",
    "print(\"Feature importance\")\n",
    "for i, feature in enumerate(feature_columns):\n",
    "    print(f\"{feature}: {feature_importance[i]}\")"
   ]
  },
  {
   "cell_type": "markdown",
   "metadata": {},
   "source": [
    "### Store the Model"
   ]
  },
  {
   "cell_type": "code",
   "execution_count": 34,
   "metadata": {},
   "outputs": [
    {
     "name": "stdout",
     "output_type": "stream",
     "text": [
      "Model uploaded to s3://pl-prediction/2024/random_forest.joblib\n",
      "Scaler uploaded to s3://pl-prediction/2024/standard_scaler.joblib\n"
     ]
    }
   ],
   "source": [
    "from joblib import dump\n",
    "from simulation_utils import upload_model_and_scaler_to_s3\n",
    "\n",
    "# Save the model\n",
    "model_filename = \"random_forest.joblib\"\n",
    "dump(best_rf, model_filename)\n",
    "\n",
    "# Save the scalar\n",
    "scalar_filename = \"standard_scaler.joblib\"\n",
    "dump(scaler, scalar_filename)\n",
    "\n",
    "# Upload the model and scalar to S3\n",
    "upload_model_and_scaler_to_s3(model_filename, scalar_filename, should_delete=True)"
   ]
  }
 ],
 "metadata": {
  "kernelspec": {
   "display_name": "python310",
   "language": "python",
   "name": "python3"
  },
  "language_info": {
   "codemirror_mode": {
    "name": "ipython",
    "version": 3
   },
   "file_extension": ".py",
   "mimetype": "text/x-python",
   "name": "python",
   "nbconvert_exporter": "python",
   "pygments_lexer": "ipython3",
   "version": "3.10.9"
  }
 },
 "nbformat": 4,
 "nbformat_minor": 2
}
